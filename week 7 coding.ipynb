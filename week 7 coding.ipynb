{
  "cells": [
    {
      "cell_type": "markdown",
      "metadata": {
        "id": "view-in-github",
        "colab_type": "text"
      },
      "source": [
        "<a href=\"https://colab.research.google.com/github/dkd99/my-code-practice/blob/main/week%207%20coding.ipynb\" target=\"_parent\"><img src=\"https://colab.research.google.com/assets/colab-badge.svg\" alt=\"Open In Colab\"/></a>"
      ]
    },
    {
      "cell_type": "code",
      "source": [
        "'deepak'.find('x')==-1"
      ],
      "metadata": {
        "id": "xpHX2QHDBSMH",
        "outputId": "8eb75e7b-da8c-4787-e435-ab0431124d17",
        "colab": {
          "base_uri": "https://localhost:8080/"
        }
      },
      "execution_count": 1,
      "outputs": [
        {
          "output_type": "execute_result",
          "data": {
            "text/plain": [
              "True"
            ]
          },
          "metadata": {},
          "execution_count": 1
        }
      ]
    },
    {
      "cell_type": "code",
      "source": [
        "n = eval(input())\n",
        "b=[]\n",
        "a=[i for i in n if all(i%j!=0 for j in range(2,i))]\n",
        "x=max(a)\n",
        "b.append(n.index(x))\n",
        "s=0\n",
        "for i in str(x):\n",
        "  s=s+int(i)\n",
        "b.append(s)\n",
        "print(b)"
      ],
      "metadata": {
        "id": "_52kpEP8K-dW",
        "outputId": "b9e9ad9d-ac5a-4e9f-e559-3dce97a39642",
        "colab": {
          "base_uri": "https://localhost:8080/"
        }
      },
      "execution_count": 4,
      "outputs": [
        {
          "output_type": "stream",
          "name": "stdout",
          "text": [
            "[3,5,11,13,29]\n",
            "[4, 11]\n"
          ]
        }
      ]
    },
    {
      "cell_type": "code",
      "source": [
        "ls = eval(input())\n",
        "lst=sorted(ls)\n",
        "\n",
        "b=[]\n",
        "c=[]\n",
        "for i in range(len(lst)-1):\n",
        "  b.append(lst[i+1]-lst[i])\n",
        "\n",
        "sec_min=min([i for i in b if i>0])\n",
        "c.extend([lst[b.index(sec_min)],lst[b.index(sec_min)+1]])\n",
        "print(c)"
      ],
      "metadata": {
        "id": "zIYNbY4aGgVu",
        "outputId": "b046bc8d-06c3-433f-9325-933f64ef7110",
        "colab": {
          "base_uri": "https://localhost:8080/"
        }
      },
      "execution_count": 7,
      "outputs": [
        {
          "output_type": "stream",
          "name": "stdout",
          "text": [
            "[1.3, 5.24, 0.89, 21.0, 5.27, 1.3]\n",
            "[5.24, 5.27]\n"
          ]
        }
      ]
    },
    {
      "cell_type": "code",
      "source": [
        "n = int(input())\n",
        "shift= int(input())\n",
        "z=str(n)\n",
        "x=''\n",
        "y=len(str(z))\n",
        "i=shift\n",
        "while i<y:\n",
        "  x=x+z[i]\n",
        "  i=i+1\n",
        "x=x+z[:shift]\n",
        "print(int(x))"
      ],
      "metadata": {
        "id": "pX0oOLu4S-SX",
        "outputId": "48f6085e-db2d-4831-ca7d-c5fc68e3a59a",
        "colab": {
          "base_uri": "https://localhost:8080/"
        }
      },
      "execution_count": 10,
      "outputs": [
        {
          "output_type": "stream",
          "name": "stdout",
          "text": [
            "12345\n",
            "2\n",
            "34512\n"
          ]
        }
      ]
    },
    {
      "cell_type": "code",
      "source": [
        "num = int(input()) \n",
        "def fact(num):\n",
        "  if num<0:\n",
        "    return None\n",
        "  else:\n",
        "    return 1 if num<=1 else num*fact(num-1)\n",
        "if fact(num):\n",
        "  print(f'Factorial of {num} is {fact(num)}')\n",
        "else:\n",
        "  print(\"Factorial can't be calculated for negative number\")\n"
      ],
      "metadata": {
        "id": "3rr6Net4U6qZ",
        "outputId": "f25e92ed-5c5c-4ef0-ee98-beeb8bbcb847",
        "colab": {
          "base_uri": "https://localhost:8080/"
        }
      },
      "execution_count": 21,
      "outputs": [
        {
          "output_type": "stream",
          "name": "stdout",
          "text": [
            "0\n",
            "Factorial of 0 is 1\n"
          ]
        }
      ]
    },
    {
      "cell_type": "code",
      "source": [
        "n = int(input())\n",
        "b=[]\n",
        "for i in range(1,n):\n",
        "  if '5' in str(i):\n",
        "    if i%15==0:\n",
        "      b.append([i,1])\n",
        "    elif i%9==0:\n",
        "      b.append([i,0])\n",
        "  else:\n",
        "    pass\n",
        "print(b)"
      ],
      "metadata": {
        "id": "2d2DL0iTWpug",
        "outputId": "3f522fc7-bd65-4336-dffe-0f1ae57cbff6",
        "colab": {
          "base_uri": "https://localhost:8080/"
        }
      },
      "execution_count": 22,
      "outputs": [
        {
          "output_type": "stream",
          "name": "stdout",
          "text": [
            "50\n",
            "[[15, 1], [45, 1]]\n"
          ]
        }
      ]
    },
    {
      "cell_type": "code",
      "source": [
        "n = eval(input())\n",
        "x=sum([i for i in n if i%2==0 and n.index(i)%2!=0])\n",
        "print(x)"
      ],
      "metadata": {
        "id": "TeKm0hIdW5x2",
        "outputId": "48cd664f-a4eb-49bb-9fa3-3828e95d7ad7",
        "colab": {
          "base_uri": "https://localhost:8080/"
        }
      },
      "execution_count": 23,
      "outputs": [
        {
          "output_type": "stream",
          "name": "stdout",
          "text": [
            "[1, 2, 8, 3, 9, 4]\n",
            "6\n"
          ]
        }
      ]
    }
  ],
  "metadata": {
    "colab": {
      "name": "Welcome To Colaboratory",
      "toc_visible": true,
      "provenance": [],
      "include_colab_link": true
    },
    "kernelspec": {
      "display_name": "Python 3",
      "name": "python3"
    }
  },
  "nbformat": 4,
  "nbformat_minor": 0
}