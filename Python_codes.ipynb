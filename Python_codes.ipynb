{
  "cells": [
    {
      "cell_type": "markdown",
      "metadata": {
        "id": "view-in-github",
        "colab_type": "text"
      },
      "source": [
        "<a href=\"https://colab.research.google.com/github/dkd99/my-code-practice/blob/main/Python_codes.ipynb\" target=\"_parent\"><img src=\"https://colab.research.google.com/assets/colab-badge.svg\" alt=\"Open In Colab\"/></a>"
      ]
    },
    {
      "cell_type": "markdown",
      "source": [
        "Given an array of integers nums and an integer target, return indices of the two numbers such that they add up to target.\n",
        "\n",
        "You may assume that each input would have exactly one solution, and you may not use the same element twice.\n",
        "\n",
        "You can return the answer in any order.\n",
        "\n",
        " \n",
        "\n",
        "Example 1:\n",
        "\n",
        "Input: nums = [2,7,11,15], target = 9\n",
        "Output: [0,1]\n",
        "Explanation: Because nums[0] + nums[1] == 9, we return [0, 1].\n",
        "Example 2:\n",
        "\n",
        "Input: nums = [3,2,4], target = 6\n",
        "Output: [1,2]\n",
        "Example 3:\n",
        "\n",
        "Input: nums = [3,3], target = 6\n",
        "Output: [0,1]"
      ],
      "metadata": {
        "id": "cUJeavXjWMYA"
      }
    },
    {
      "cell_type": "code",
      "source": [
        "class Solution:\n",
        "    def twoSum(self, nums: List[int], target: int) -> List[int]:\n",
        "        a=0\n",
        "        for i in range(len(nums)):\n",
        "            p = target-nums[i]\n",
        "            if p in nums:\n",
        "                a=nums.index(p)\n",
        "                if a==i:\n",
        "                    continue\n",
        "                break\n",
        "        return i,a"
      ],
      "metadata": {
        "id": "HbvMjTghWJIk"
      },
      "execution_count": null,
      "outputs": []
    },
    {
      "cell_type": "code",
      "source": [
        "class Solution:\n",
        "    def twoSum(self, nums: List[int], target: int) -> List[int]:\n",
        "        a=[]\n",
        "        for i in range(len(nums)):\n",
        "            for j in range(len(nums)):\n",
        "                if i!=j:\n",
        "                    if nums[i]+nums[j]==target:\n",
        "                        \n",
        "                         a.extend([i,j])\n",
        "                         return a"
      ],
      "metadata": {
        "id": "6UUk1_3HWVQe"
      },
      "execution_count": null,
      "outputs": []
    },
    {
      "cell_type": "markdown",
      "source": [
        "### **Python-2**\n",
        "\n",
        "**Given a string consisting of whitespace and groups of matched parentheses, write a Python program to split it into groups of perfectly matched parentheses without any whitespace.**\n",
        "\n",
        "**Input: ( ()) ((()()())) (()) ()**\n",
        "\n",
        "**Output: ['(())', '((()()()))', '(())', '()']**"
      ],
      "metadata": {
        "id": "YZhZhuBSeVyi"
      }
    },
    {
      "cell_type": "code",
      "source": [
        "# Write your code here\n",
        "\n",
        "def test(combined):\n",
        "   ls = []\n",
        "   s2 = \"\"\n",
        "   for s in combined.replace(' ', ''):\n",
        "       s2 += s\n",
        "       if s2.count(\"(\") == s2.count(\")\"):\n",
        "           ls.append(s2)\n",
        "           s2 = \"\"\n",
        "   return ls \n",
        "combined = input()\n",
        "print(test(combined))"
      ],
      "metadata": {
        "id": "FwXvnEgcWgXi",
        "outputId": "a487cf74-ee4e-46cd-8f36-a3ae11ce2e7c",
        "colab": {
          "base_uri": "https://localhost:8080/"
        }
      },
      "execution_count": null,
      "outputs": [
        {
          "output_type": "execute_result",
          "data": {
            "text/plain": [
              "5"
            ]
          },
          "metadata": {},
          "execution_count": 61
        }
      ]
    },
    {
      "cell_type": "markdown",
      "source": [
        "**Given a string consisting of groups of matched nested parentheses separated by parentheses, write a Python program to compute the depth of each group.**\n",
        "\n",
        "**Input:**\n",
        "(()) (()) () ((()()()))\n",
        "\n",
        "**Output:**\n",
        "[2, 2, 1, 3]"
      ],
      "metadata": {
        "id": "1bodJEVnhTuV"
      }
    },
    {
      "cell_type": "code",
      "source": [
        "'depakee'.split('e')"
      ],
      "metadata": {
        "id": "zhojVaimgJh_",
        "outputId": "36afc317-1d44-4396-df50-706cf4821e5c",
        "colab": {
          "base_uri": "https://localhost:8080/"
        }
      },
      "execution_count": null,
      "outputs": [
        {
          "output_type": "execute_result",
          "data": {
            "text/plain": [
              "['d', 'pak', '', '']"
            ]
          },
          "metadata": {},
          "execution_count": 78
        }
      ]
    },
    {
      "cell_type": "code",
      "source": [
        "'(())'.split(')')"
      ],
      "metadata": {
        "id": "RT4pORqMgkpL",
        "outputId": "2b48baf8-ac7e-4e76-abc8-040eabee1ee4",
        "colab": {
          "base_uri": "https://localhost:8080/"
        }
      },
      "execution_count": null,
      "outputs": [
        {
          "output_type": "execute_result",
          "data": {
            "text/plain": [
              "['((', '', '']"
            ]
          },
          "metadata": {},
          "execution_count": 76
        }
      ]
    },
    {
      "cell_type": "code",
      "source": [
        "parens='(()) (()) () ((()()()))'\n",
        "print([s for s in parens.split()])\n",
        "[s.split(')') for s in parens.split()]"
      ],
      "metadata": {
        "id": "1SqihXPnbES5",
        "outputId": "1544d121-6cf8-4727-d30e-87e2a74b165f",
        "colab": {
          "base_uri": "https://localhost:8080/"
        }
      },
      "execution_count": null,
      "outputs": [
        {
          "output_type": "stream",
          "name": "stdout",
          "text": [
            "['(())', '(())', '()', '((()()()))']\n"
          ]
        },
        {
          "output_type": "execute_result",
          "data": {
            "text/plain": [
              "[['((', '', ''], ['((', '', ''], ['(', ''], ['(((', '(', '(', '', '', '']]"
            ]
          },
          "metadata": {},
          "execution_count": 75
        }
      ]
    },
    {
      "cell_type": "code",
      "source": [
        "# Write your code here\n",
        "\n",
        "def test(parens):\n",
        "    return [len(s.split(')')[0]) for s in parens.split()] \n",
        "parentheses  = input()\n",
        "print(test(parentheses))"
      ],
      "metadata": {
        "id": "pvHsge6rcN4i",
        "outputId": "7bec1e39-5b36-4e55-c10a-145f0edbbe62",
        "colab": {
          "base_uri": "https://localhost:8080/"
        }
      },
      "execution_count": null,
      "outputs": [
        {
          "output_type": "stream",
          "name": "stdout",
          "text": [
            "'(()) (()) () ((()()()))'\n",
            "[3, 2, 1, 3]\n"
          ]
        }
      ]
    },
    {
      "cell_type": "markdown",
      "source": [
        "Given a string s containing just the characters '(', ')', '{', '}', '[' and ']', determine if the input string is valid.\n",
        "\n",
        "An input string is valid if:\n",
        "\n",
        "Open brackets must be closed by the same type of brackets.\n",
        "Open brackets must be closed in the correct order.\n",
        "Every close bracket has a corresponding open bracket of the same type.\n",
        " \n",
        "\n",
        "Example 1:\n",
        "\n",
        "Input: s = \"()\"\n",
        "Output: true\n",
        "Example 2:\n",
        "\n",
        "Input: s = \"()[]{}\"\n",
        "Output: true\n",
        "Example 3:\n",
        "\n",
        "Input: s = \"(]\"\n",
        "Output: false"
      ],
      "metadata": {
        "id": "LzoyHEGUia7l"
      }
    },
    {
      "cell_type": "code",
      "source": [
        "class Solution:\n",
        "    def isValid(self, s: str) -> bool:\n",
        "        while '()' in s or '[]'in s or '{}' in s:\n",
        "            s = s.replace('()','').replace('[]','').replace('{}','')\n",
        "        return False if len(s) !=0 else True       "
      ],
      "metadata": {
        "id": "eUhdLE0GhgjD"
      },
      "execution_count": null,
      "outputs": []
    },
    {
      "cell_type": "markdown",
      "source": [
        "**Write a Python program to find the index of the matching parentheses for each character in a given string.**\n",
        "\n",
        "**Input:**\n",
        "()(())\n",
        "\n",
        "**Output:**\n",
        "[1, 0, 5, 4, 3, 2]"
      ],
      "metadata": {
        "id": "qwPgaDU8icrz"
      }
    },
    {
      "cell_type": "code",
      "source": [
        "# Write your query here\n",
        "\n",
        "def test(parens):\n",
        "    a = list(parens)\n",
        "    stack = []\n",
        "    for i, c in enumerate(a):\n",
        "        if c == \"(\":\n",
        "            stack.append(i)\n",
        "        else:\n",
        "            a[stack[-1]] = i\n",
        "            a[i] = stack.pop()\n",
        "    return a \n",
        "parens = input()\n",
        "print(test(parens))"
      ],
      "metadata": {
        "id": "ExyqZwJJiglk"
      },
      "execution_count": null,
      "outputs": []
    }
  ],
  "metadata": {
    "colab": {
      "toc_visible": true,
      "provenance": [],
      "include_colab_link": true
    },
    "kernelspec": {
      "display_name": "Python 3",
      "name": "python3"
    }
  },
  "nbformat": 4,
  "nbformat_minor": 0
}