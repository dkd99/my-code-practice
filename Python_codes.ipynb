{
  "cells": [
    {
      "cell_type": "markdown",
      "metadata": {
        "id": "view-in-github",
        "colab_type": "text"
      },
      "source": [
        "<a href=\"https://colab.research.google.com/github/dkd99/my-code-practice/blob/main/Python_codes.ipynb\" target=\"_parent\"><img src=\"https://colab.research.google.com/assets/colab-badge.svg\" alt=\"Open In Colab\"/></a>"
      ]
    },
    {
      "cell_type": "markdown",
      "source": [
        "Given an array of integers nums and an integer target, return indices of the two numbers such that they add up to target.\n",
        "\n",
        "You may assume that each input would have exactly one solution, and you may not use the same element twice.\n",
        "\n",
        "You can return the answer in any order.\n",
        "\n",
        "\n",
        "\n",
        "Example 1:\n",
        "\n",
        "Input: nums = [2,7,11,15], target = 9\n",
        "Output: [0,1]\n",
        "Explanation: Because nums[0] + nums[1] == 9, we return [0, 1].\n",
        "Example 2:\n",
        "\n",
        "Input: nums = [3,2,4], target = 6\n",
        "Output: [1,2]\n",
        "Example 3:\n",
        "\n",
        "Input: nums = [3,3], target = 6\n",
        "Output: [0,1]"
      ],
      "metadata": {
        "id": "cUJeavXjWMYA"
      }
    },
    {
      "cell_type": "code",
      "source": [
        "class Solution:\n",
        "    def twoSum(self, nums: List[int], target: int) -> List[int]:\n",
        "        a=0\n",
        "        for i in range(len(nums)):\n",
        "            p = target-nums[i]\n",
        "            if p in nums:\n",
        "                a=nums.index(p)\n",
        "                if a==i:\n",
        "                    continue\n",
        "                break\n",
        "        return i,a"
      ],
      "metadata": {
        "id": "HbvMjTghWJIk"
      },
      "execution_count": null,
      "outputs": []
    },
    {
      "cell_type": "code",
      "source": [
        "class Solution:\n",
        "    def twoSum(self, nums: List[int], target: int) -> List[int]:\n",
        "        a=[]\n",
        "        for i in range(len(nums)):\n",
        "            for j in range(len(nums)):\n",
        "                if i!=j:\n",
        "                    if nums[i]+nums[j]==target:\n",
        "\n",
        "                         a.extend([i,j])\n",
        "                         return a"
      ],
      "metadata": {
        "id": "6UUk1_3HWVQe"
      },
      "execution_count": null,
      "outputs": []
    },
    {
      "cell_type": "code",
      "source": [
        "def twoSum(nums,target):\n",
        "    a=[]\n",
        "    for i in range(len(nums)):\n",
        "        for j in range(len(nums)):\n",
        "            if i!=j:\n",
        "                if nums[i]+nums[j]==target:\n",
        "\n",
        "                      a.extend([i,j])\n",
        "                      return a"
      ],
      "metadata": {
        "id": "KlQ9g_kuj649"
      },
      "execution_count": null,
      "outputs": []
    },
    {
      "cell_type": "code",
      "source": [
        "twoSum([3,3],6)"
      ],
      "metadata": {
        "colab": {
          "base_uri": "https://localhost:8080/"
        },
        "id": "ciJj8qrOkFNn",
        "outputId": "6b60ede6-51bc-4600-8e0d-6c74ae567195"
      },
      "execution_count": null,
      "outputs": [
        {
          "output_type": "execute_result",
          "data": {
            "text/plain": [
              "[0, 1]"
            ]
          },
          "metadata": {},
          "execution_count": 4
        }
      ]
    },
    {
      "cell_type": "markdown",
      "source": [
        "### **Python-2**\n",
        "\n",
        "**Given a string consisting of whitespace and groups of matched parentheses, write a Python program to split it into groups of perfectly matched parentheses without any whitespace.**\n",
        "\n",
        "**Input: ( ()) ((()()())) (()) ()**\n",
        "\n",
        "**Output: ['(())', '((()()()))', '(())', '()']**"
      ],
      "metadata": {
        "id": "YZhZhuBSeVyi"
      }
    },
    {
      "cell_type": "code",
      "source": [
        "# Write your code here\n",
        "\n",
        "def test(combined):\n",
        "   ls = []\n",
        "   s2 = \"\"\n",
        "   for s in combined.replace(' ', ''):\n",
        "       s2 += s\n",
        "       if s2.count(\"(\") == s2.count(\")\"):\n",
        "           ls.append(s2)\n",
        "           s2 = \"\"\n",
        "   return ls\n",
        "combined = input()\n",
        "print(test(combined))"
      ],
      "metadata": {
        "id": "FwXvnEgcWgXi",
        "outputId": "a487cf74-ee4e-46cd-8f36-a3ae11ce2e7c",
        "colab": {
          "base_uri": "https://localhost:8080/"
        }
      },
      "execution_count": null,
      "outputs": [
        {
          "output_type": "execute_result",
          "data": {
            "text/plain": [
              "5"
            ]
          },
          "metadata": {},
          "execution_count": 61
        }
      ]
    },
    {
      "cell_type": "markdown",
      "source": [
        "**Given a string consisting of groups of matched nested parentheses separated by parentheses, write a Python program to compute the depth of each group.**\n",
        "\n",
        "**Input:**\n",
        "(()) (()) () ((()()()))\n",
        "\n",
        "**Output:**\n",
        "[2, 2, 1, 3]"
      ],
      "metadata": {
        "id": "1bodJEVnhTuV"
      }
    },
    {
      "cell_type": "code",
      "source": [
        "'depakee'.split('e')"
      ],
      "metadata": {
        "id": "zhojVaimgJh_",
        "outputId": "36afc317-1d44-4396-df50-706cf4821e5c",
        "colab": {
          "base_uri": "https://localhost:8080/"
        }
      },
      "execution_count": null,
      "outputs": [
        {
          "output_type": "execute_result",
          "data": {
            "text/plain": [
              "['d', 'pak', '', '']"
            ]
          },
          "metadata": {},
          "execution_count": 78
        }
      ]
    },
    {
      "cell_type": "code",
      "source": [
        "'(())'.split(')')"
      ],
      "metadata": {
        "id": "RT4pORqMgkpL",
        "outputId": "2b48baf8-ac7e-4e76-abc8-040eabee1ee4",
        "colab": {
          "base_uri": "https://localhost:8080/"
        }
      },
      "execution_count": null,
      "outputs": [
        {
          "output_type": "execute_result",
          "data": {
            "text/plain": [
              "['((', '', '']"
            ]
          },
          "metadata": {},
          "execution_count": 76
        }
      ]
    },
    {
      "cell_type": "code",
      "source": [
        "'()())'.split(')')"
      ],
      "metadata": {
        "colab": {
          "base_uri": "https://localhost:8080/"
        },
        "id": "hv-nLeQ_q3aB",
        "outputId": "ff8becb2-1549-4194-9956-11571345df38"
      },
      "execution_count": 1,
      "outputs": [
        {
          "output_type": "execute_result",
          "data": {
            "text/plain": [
              "['(', '(', '', '']"
            ]
          },
          "metadata": {},
          "execution_count": 1
        }
      ]
    },
    {
      "cell_type": "code",
      "source": [
        "parens='(()) (()) () ((()()()))'\n",
        "print([s for s in parens.split()])\n",
        "[s.split(')') for s in parens.split()]"
      ],
      "metadata": {
        "id": "1SqihXPnbES5",
        "outputId": "1544d121-6cf8-4727-d30e-87e2a74b165f",
        "colab": {
          "base_uri": "https://localhost:8080/"
        }
      },
      "execution_count": null,
      "outputs": [
        {
          "output_type": "stream",
          "name": "stdout",
          "text": [
            "['(())', '(())', '()', '((()()()))']\n"
          ]
        },
        {
          "output_type": "execute_result",
          "data": {
            "text/plain": [
              "[['((', '', ''], ['((', '', ''], ['(', ''], ['(((', '(', '(', '', '', '']]"
            ]
          },
          "metadata": {},
          "execution_count": 75
        }
      ]
    },
    {
      "cell_type": "code",
      "source": [
        "# Write your code here\n",
        "\n",
        "def test(parens):\n",
        "    return [len(s.split(')')[0]) for s in parens.split()]\n",
        "parentheses  = input()\n",
        "print(test(parentheses))"
      ],
      "metadata": {
        "id": "pvHsge6rcN4i",
        "outputId": "7bec1e39-5b36-4e55-c10a-145f0edbbe62",
        "colab": {
          "base_uri": "https://localhost:8080/"
        }
      },
      "execution_count": null,
      "outputs": [
        {
          "output_type": "stream",
          "name": "stdout",
          "text": [
            "'(()) (()) () ((()()()))'\n",
            "[3, 2, 1, 3]\n"
          ]
        }
      ]
    },
    {
      "cell_type": "markdown",
      "source": [
        "Given a string s containing just the characters '(', ')', '{', '}', '[' and ']', determine if the input string is valid.\n",
        "\n",
        "An input string is valid if:\n",
        "\n",
        "Open brackets must be closed by the same type of brackets.\n",
        "Open brackets must be closed in the correct order.\n",
        "Every close bracket has a corresponding open bracket of the same type.\n",
        "\n",
        "\n",
        "Example 1:\n",
        "\n",
        "Input: s = \"()\"\n",
        "Output: true\n",
        "Example 2:\n",
        "\n",
        "Input: s = \"()[]{}\"\n",
        "Output: true\n",
        "Example 3:\n",
        "\n",
        "Input: s = \"(]\"\n",
        "Output: false"
      ],
      "metadata": {
        "id": "LzoyHEGUia7l"
      }
    },
    {
      "cell_type": "code",
      "source": [
        "class Solution:\n",
        "    def isValid(self, s: str) -> bool:\n",
        "        while '()' in s or '[]'in s or '{}' in s:\n",
        "            s = s.replace('()','').replace('[]','').replace('{}','')\n",
        "        return False if len(s) !=0 else True"
      ],
      "metadata": {
        "id": "eUhdLE0GhgjD"
      },
      "execution_count": null,
      "outputs": []
    },
    {
      "cell_type": "markdown",
      "source": [
        "**Write a Python program to find the index of the matching parentheses for each character in a given string.**\n",
        "\n",
        "**Input:**\n",
        "()(())\n",
        "\n",
        "**Output:**\n",
        "[1, 0, 5, 4, 3, 2]"
      ],
      "metadata": {
        "id": "qwPgaDU8icrz"
      }
    },
    {
      "cell_type": "code",
      "source": [
        "# Write your query here\n",
        "\n",
        "def test(parens):\n",
        "    a = list(parens)\n",
        "    stack = []\n",
        "    for i, c in enumerate(a):\n",
        "        if c == \"(\":\n",
        "            stack.append(i)\n",
        "        else:\n",
        "            a[stack[-1]] = i\n",
        "            a[i] = stack.pop()\n",
        "    return a\n",
        "parens = input()\n",
        "print(test(parens))"
      ],
      "metadata": {
        "id": "ExyqZwJJiglk"
      },
      "execution_count": null,
      "outputs": []
    },
    {
      "cell_type": "markdown",
      "source": [
        "Given an integer array nums, return all the triplets [nums[i], nums[j], nums[k]] such that i != j, i != k, and j != k, and nums[i] + nums[j] + nums[k] == 0.\n",
        "\n",
        "Notice that the solution set must not contain duplicate triplets.\n",
        "\n",
        "\n",
        "\n",
        "Example 1:\n",
        "\n",
        "Input: nums = [-1,0,1,2,-1,-4]\n",
        "Output: [[-1,-1,2],[-1,0,1]]\n",
        "Explanation:\n",
        "nums[0] + nums[1] + nums[2] = (-1) + 0 + 1 = 0.\n",
        "nums[1] + nums[2] + nums[4] = 0 + 1 + (-1) = 0.\n",
        "nums[0] + nums[3] + nums[4] = (-1) + 2 + (-1) = 0.\n",
        "The distinct triplets are [-1,0,1] and [-1,-1,2].\n",
        "Notice that the order of the output and the order of the triplets does not matter.\n",
        "Example 2:\n",
        "\n",
        "Input: nums = [0,1,1]\n",
        "Output: []\n",
        "Explanation: The only possible triplet does not sum up to 0.\n",
        "Example 3:\n",
        "\n",
        "Input: nums = [0,0,0]\n",
        "Output: [[0,0,0]]\n",
        "Explanation: The only possible triplet sums up to 0."
      ],
      "metadata": {
        "id": "EeTXjqrl3SDs"
      }
    },
    {
      "cell_type": "code",
      "source": [
        "class Solution:\n",
        "    def threeSum(self, nums: List[int]) -> List[List[int]]:\n",
        "        a=[]\n",
        "        b=[[nums[i], nums[j], nums[k]] for i in range(len(nums)) for j in range(i,len(nums))\\\n",
        "        for k in range(j,len(nums)) if i != j and i != k and j != k and nums[i] + nums[j] +\\\n",
        "        nums[k] == 0]\n",
        "        x=[]\n",
        "        for i in b:\n",
        "            i.sort()\n",
        "            if i not in x:\n",
        "                x.append(i)\n",
        "        return x\n",
        "\n",
        "\n"
      ],
      "metadata": {
        "id": "QlhADFsl3THe"
      },
      "execution_count": null,
      "outputs": []
    },
    {
      "cell_type": "code",
      "source": [
        "def threeSum(nums):\n",
        "    nums.sort()  # Sort the array\n",
        "    n = len(nums)\n",
        "    triplets = []\n",
        "\n",
        "    for i in range(n - 2):\n",
        "        if i > 0 and nums[i] == nums[i - 1]:\n",
        "            continue  # Skip duplicates\n",
        "\n",
        "        left = i + 1\n",
        "        right = n - 1\n",
        "\n",
        "        while left < right:\n",
        "            total = nums[i] + nums[left] + nums[right]\n",
        "\n",
        "            if total < 0:\n",
        "                left += 1\n",
        "            elif total > 0:\n",
        "                right -= 1\n",
        "            else:\n",
        "                triplets.append([nums[i], nums[left], nums[right]])\n",
        "                left += 1\n",
        "                right -= 1\n",
        "\n",
        "                # Skip duplicates for left and right pointers\n",
        "                while left < right and nums[left] == nums[left - 1]:\n",
        "                    left += 1\n",
        "                while left < right and nums[right] == nums[right + 1]:\n",
        "                    right -= 1\n",
        "\n",
        "    return triplets\n"
      ],
      "metadata": {
        "id": "GmTL6Yelv4R9"
      },
      "execution_count": null,
      "outputs": []
    },
    {
      "cell_type": "markdown",
      "source": [
        "Design a class to find the kth largest element in a stream. Note that it is the kth largest element in the sorted order, not the kth distinct element.\n",
        "\n",
        "Implement KthLargest class:\n",
        "\n",
        "KthLargest(int k, int[] nums) Initializes the object with the integer k and the stream of integers nums.\n",
        "int add(int val) Appends the integer val to the stream and returns the element representing the kth largest element in the stream.\n",
        "\n",
        "\n",
        "Example 1:\n",
        "\n",
        "Input\n",
        "[\"KthLargest\", \"add\", \"add\", \"add\", \"add\", \"add\"]\n",
        "[[3, [4, 5, 8, 2]], [3], [5], [10], [9], [4]]\n",
        "Output\n",
        "[null, 4, 5, 5, 8, 8]\n",
        "\n",
        "Explanation\n",
        "KthLargest kthLargest = new KthLargest(3, [4, 5, 8, 2]);\n",
        "kthLargest.add(3);   // return 4\n",
        "kthLargest.add(5);   // return 5\n",
        "kthLargest.add(10);  // return 5\n",
        "kthLargest.add(9);   // return 8\n",
        "kthLargest.add(4);   // return 8\n",
        "\n",
        "\n",
        "Constraints:\n",
        "\n",
        "1 <= k <= 104\n",
        "0 <= nums.length <= 104\n",
        "-104 <= nums[i] <= 104\n",
        "-104 <= val <= 104\n",
        "At most 104 calls will be made to add.\n",
        "It is guaranteed that there will be at least k elements in the array when you search for the kth element."
      ],
      "metadata": {
        "id": "XpGEEip3G9fJ"
      }
    },
    {
      "cell_type": "code",
      "source": [
        "from sortedcontainers import SortedList\n",
        "class KthLargest:\n",
        "\n",
        "    def __init__(self, k: int, nums: List[int]):\n",
        "        self.k=k\n",
        "        self.stream=SortedList(nums)\n",
        "\n",
        "\n",
        "    def add(self, val: int) -> int:\n",
        "        self.stream.add(val)\n",
        "        return self.stream[-self.k]\n",
        "\n",
        "\n",
        "\n",
        "\n",
        "# Your KthLargest object will be instantiated and called as such:\n",
        "# obj = KthLargest(k, nums)\n",
        "# param_1 = obj.add(val)"
      ],
      "metadata": {
        "id": "xKOYHcdfG88X"
      },
      "execution_count": null,
      "outputs": []
    },
    {
      "cell_type": "markdown",
      "source": [
        "In Python, the SortedList object is a data structure provided by the sortedcontainers module. It is an implementation of a sorted list, which maintains the elements in a sorted order. The SortedList offers efficient insertion, deletion, and retrieval operations.\n",
        "\n",
        "Here are some key features and characteristics of the SortedList object:\n",
        "\n",
        "Sorted Order: The SortedList keeps the elements in a sorted order based on their natural sort order or a custom sorting key. This allows for quick access to the smallest or largest elements, as well as efficient insertion and deletion of elements while maintaining the sorted order.\n",
        "\n",
        "Dynamic Sizing: Unlike native Python lists, the SortedList can dynamically resize itself to accommodate additional elements. This ensures efficient memory utilization and minimizes the need for manual resizing or reallocation.\n",
        "\n",
        "Mutable: The SortedList is a mutable data structure, which means you can modify its elements, add or remove elements, and perform other operations that alter its contents.\n",
        "\n",
        "Efficient Operations: The SortedList provides efficient operations for adding elements (add() method), removing elements (remove() method), retrieving elements (index() method), finding the leftmost/rightmost occurrence of an element (bisect_left()/bisect_right() methods), and more. These operations have logarithmic time complexity, making the SortedList suitable for scenarios that require frequent modifications or searching in a sorted list.\n",
        "\n",
        "Usage Similar to List: The SortedList object can be used similarly to a native Python list. You can access elements by index, iterate over the elements, check the length using len(), and perform various list operations such as slicing."
      ],
      "metadata": {
        "id": "BO1qWWgRKoxC"
      }
    },
    {
      "cell_type": "code",
      "source": [
        "from sortedcontainers import SortedList\n",
        "\n",
        "# Create a SortedList object\n",
        "slist = SortedList([3, 1, 4, 1, 5, 9, 2, 6])\n",
        "print(slist)\n",
        "print(slist[-3])\n",
        "# Add an element to the SortedList\n",
        "slist.add(7)\n",
        "print(slist)\n",
        "\n",
        "# Remove an element from the SortedList\n",
        "slist.remove(4)\n",
        "print(slist)\n",
        "# Retrieve an element's index\n",
        "index = slist.index(5)\n",
        "\n",
        "# Iterate over the elements\n",
        "for element in slist:\n",
        "    print(element)\n",
        "\n",
        "# Get the length of the SortedList\n",
        "length = len(slist)"
      ],
      "metadata": {
        "colab": {
          "base_uri": "https://localhost:8080/"
        },
        "id": "Ab5bOiwEHtS-",
        "outputId": "8ddaeb56-be8d-459f-bea4-8101d0e252f6"
      },
      "execution_count": null,
      "outputs": [
        {
          "output_type": "stream",
          "name": "stdout",
          "text": [
            "SortedList([1, 1, 2, 3, 4, 5, 6, 9])\n",
            "5\n",
            "SortedList([1, 1, 2, 3, 4, 5, 6, 7, 9])\n",
            "SortedList([1, 1, 2, 3, 5, 6, 7, 9])\n",
            "1\n",
            "1\n",
            "2\n",
            "3\n",
            "5\n",
            "6\n",
            "7\n",
            "9\n"
          ]
        }
      ]
    },
    {
      "cell_type": "code",
      "source": [
        "class KthLargest:\n",
        "\n",
        "    def __init__(self, k: int, nums: List[int]):\n",
        "        self.k = k\n",
        "        self.stream = sorted(nums, reverse=True)[:k]\n",
        "\n",
        "\n",
        "    def add(self, val: int) -> int:\n",
        "        self.stream.append(val)\n",
        "        self.stream = sorted(self.stream, reverse=True)[:self.k]\n",
        "        return self.stream[-1]"
      ],
      "metadata": {
        "id": "HCbnywZdS5t9"
      },
      "execution_count": null,
      "outputs": []
    },
    {
      "cell_type": "markdown",
      "source": [
        "1572. Matrix Diagonal Sum\n",
        "Easy\n",
        "3K\n",
        "38\n",
        "Companies\n",
        "Given a square matrix mat, return the sum of the matrix diagonals.\n",
        "\n",
        "Only include the sum of all the elements on the primary diagonal and all the elements on the secondary diagonal that are not part of the primary diagonal.\n",
        "\n",
        "\n",
        "\n",
        "Example 1:\n",
        "\n",
        "\n",
        "Input: mat = [[1,2,3],\n",
        "              [4,5,6],\n",
        "              [7,8,9]]\n",
        "Output: 25\n",
        "Explanation: Diagonals sum: 1 + 5 + 9 + 3 + 7 = 25\n",
        "Notice that element mat[1][1] = 5 is counted only once.\n",
        "Example 2:\n",
        "\n",
        "Input: mat = [[1,1,1,1],\n",
        "              [1,1,1,1],\n",
        "              [1,1,1,1],\n",
        "              [1,1,1,1]]\n",
        "Output: 8\n",
        "Example 3:\n",
        "\n",
        "Input: mat = [[5]]\n",
        "Output: 5"
      ],
      "metadata": {
        "id": "R8blXpyrjyPe"
      }
    },
    {
      "cell_type": "code",
      "source": [
        "m = [[1,2],[3,4],[5,6]]\n",
        "for row in m :\n",
        "    print(row)\n",
        "rez = [[m[j][i] for j in range(len(m))] for i in range(len(m[0]))]\n",
        "print(\"\\n\")\n",
        "for row in rez:\n",
        "    print(row)"
      ],
      "metadata": {
        "id": "taaVannHjwU8",
        "colab": {
          "base_uri": "https://localhost:8080/"
        },
        "outputId": "61eb44cf-1274-499c-f69f-d64a16e98625"
      },
      "execution_count": null,
      "outputs": [
        {
          "output_type": "stream",
          "name": "stdout",
          "text": [
            "[1, 2]\n",
            "[3, 4]\n",
            "[5, 6]\n",
            "\n",
            "\n",
            "[1, 3, 5]\n",
            "[2, 4, 6]\n"
          ]
        }
      ]
    },
    {
      "cell_type": "code",
      "source": [
        "class Solution:\n",
        "    def diagonalSum(self, mat: List[List[int]]) -> int:\n",
        "        diagonal_sum=0\n",
        "        n = len(mat)\n",
        "        for i in range(len(mat)):\n",
        "            diagonal_sum += mat[i][i]  # Add the element on the primary diagonal\n",
        "            diagonal_sum += mat[i][n - i - 1]  # Add the element on the secondary diagonal\n",
        "\n",
        "        # If the matrix size is odd, subtract the duplicate element on the center\n",
        "        if n % 2 == 1:\n",
        "            diagonal_sum -= mat[n // 2][n // 2]\n",
        "\n",
        "        return diagonal_sum\n"
      ],
      "metadata": {
        "id": "jT61DmfgjGIw"
      },
      "execution_count": null,
      "outputs": []
    },
    {
      "cell_type": "markdown",
      "source": [
        "Given an array of integers nums, calculate the pivot index of this array.\n",
        "\n",
        "The pivot index is the index where the sum of all the numbers strictly to the left of the index is equal to the sum of all the numbers strictly to the index's right.\n",
        "\n",
        "If the index is on the left edge of the array, then the left sum is 0 because there are no elements to the left. This also applies to the right edge of the array.\n",
        "\n",
        "Return the leftmost pivot index. If no such index exists, return -1.\n",
        "\n",
        "\n",
        "\n",
        "Example 1:\n",
        "\n",
        "Input: nums = [1,7,3,6,5,6]\n",
        "Output: 3\n",
        "Explanation:\n",
        "The pivot index is 3.\n",
        "Left sum = nums[0] + nums[1] + nums[2] = 1 + 7 + 3 = 11\n",
        "Right sum = nums[4] + nums[5] = 5 + 6 = 11\n",
        "Example 2:\n",
        "\n",
        "Input: nums = [1,2,3]\n",
        "Output: -1\n",
        "Explanation:\n",
        "There is no index that satisfies the conditions in the problem statement.\n",
        "Example 3:\n",
        "\n",
        "Input: nums = [2,1,-1]\n",
        "Output: 0\n",
        "Explanation:\n",
        "The pivot index is 0.\n",
        "Left sum = 0 (no elements to the left of index 0)\n",
        "Right sum = nums[1] + nums[2] = 1 + -1 = 0"
      ],
      "metadata": {
        "id": "sLk-WK1JDJTI"
      }
    },
    {
      "cell_type": "code",
      "source": [
        "class Solution:\n",
        "    def pivotIndex(self, nums: List[int]) -> int:\n",
        "        total_sum = sum(nums)  # Calculate the total sum of the array\n",
        "        left_sum = 0  # Initialize the left sum\n",
        "\n",
        "        for i, num in enumerate(nums):\n",
        "            right_sum = total_sum - left_sum - num\n",
        "\n",
        "            if left_sum == right_sum:\n",
        "                return i  # Return the pivot index if left sum equals right sum\n",
        "\n",
        "            left_sum += num  # Update the left sum for the next iteration\n",
        "\n",
        "        return -1\n"
      ],
      "metadata": {
        "id": "vpEl0QbeDQDw"
      },
      "execution_count": null,
      "outputs": []
    },
    {
      "cell_type": "markdown",
      "source": [
        "You are given an array of non-overlapping intervals intervals where intervals[i] = [starti, endi] represent the start and the end of the ith interval and intervals is sorted in ascending order by starti. You are also given an interval newInterval = [start, end] that represents the start and end of another interval.\n",
        "\n",
        "Insert newInterval into intervals such that intervals is still sorted in ascending order by starti and intervals still does not have any overlapping intervals (merge overlapping intervals if necessary).\n",
        "\n",
        "Return intervals after the insertion.\n",
        "\n",
        "\n",
        "\n",
        "Example 1:\n",
        "\n",
        "Input: intervals = [[1,3],[6,9]], newInterval = [2,5]\n",
        "Output: [[1,5],[6,9]]\n",
        "Example 2:\n",
        "\n",
        "Input: intervals = [[1,2],[3,5],[6,7],[8,10],[12,16]], newInterval = [4,8]\n",
        "Output: [[1,2],[3,10],[12,16]]\n",
        "Explanation: Because the new interval [4,8] overlaps with [3,5],[6,7],[8,10].\n"
      ],
      "metadata": {
        "id": "GTiFVu2Ju5Os"
      }
    },
    {
      "cell_type": "code",
      "source": [
        "class Solution:\n",
        "    def insert(self, inv: List[List[int]], nw: List[int]) -> List[List[int]]:\n",
        "        #insert nw\n",
        "        test=True\n",
        "        for i in range(len(inv)):\n",
        "            if inv[i][0]>nw[0]:\n",
        "                test=False\n",
        "                inv.insert(i,nw)\n",
        "        if test:\n",
        "            inv.append(nw)\n",
        "\n",
        "        i=1\n",
        "        while i<len(inv):\n",
        "            if inv[i-1][1]>=inv[i][0]:\n",
        "                inv[i-1][1]=max (inv[i-1][1],inv[i][1])\n",
        "                inv.pop(i)\n",
        "            else:\n",
        "                i+=1\n",
        "\n",
        "        return inv\n",
        "\n"
      ],
      "metadata": {
        "id": "Vc3oRrwPu8Op"
      },
      "execution_count": null,
      "outputs": []
    },
    {
      "cell_type": "code",
      "source": [
        "def insert(inv ,nw):\n",
        "    test=True\n",
        "    for i in range(len(inv)):\n",
        "        if inv[i][0]>nw[0]:\n",
        "            test=False\n",
        "            inv.insert(i,nw)\n",
        "    if test:\n",
        "        inv.append(nw)\n",
        "    print(inv)\n",
        "\n",
        "    i=1\n",
        "    while i<len(inv):\n",
        "        if inv[i-1][1]>=inv[i][0]:\n",
        "            inv[i-1][1]=max (inv[i-1][1],inv[i][1])\n",
        "            inv.pop(i)\n",
        "        else:\n",
        "            i+=1\n",
        "\n",
        "    return inv\n",
        "\n",
        "insert([[1,2],[3,5],[6,7],[8,10],[12,16]],[4,8])"
      ],
      "metadata": {
        "colab": {
          "base_uri": "https://localhost:8080/"
        },
        "id": "-1cQjTWcSCMV",
        "outputId": "63c26125-b321-436a-f078-9088398115ad"
      },
      "execution_count": 14,
      "outputs": [
        {
          "output_type": "stream",
          "name": "stdout",
          "text": [
            "[[1, 2], [3, 5], [4, 8], [4, 8], [4, 8], [6, 7], [8, 10], [12, 16]]\n"
          ]
        },
        {
          "output_type": "execute_result",
          "data": {
            "text/plain": [
              "[[1, 2], [3, 10], [12, 16]]"
            ]
          },
          "metadata": {},
          "execution_count": 14
        }
      ]
    },
    {
      "cell_type": "markdown",
      "source": [
        "https://leetcode.com/problems/non-overlapping-intervals/description/"
      ],
      "metadata": {
        "id": "5xTwXhH0CHv-"
      }
    },
    {
      "cell_type": "markdown",
      "source": [
        "Given an array of intervals intervals where intervals[i] = [starti, endi], return the minimum number of intervals you need to remove to make the rest of the intervals non-overlapping.\n",
        "\n",
        "\n",
        "\n",
        "Example 1:\n",
        "\n",
        "Input: intervals = [[1,2],[2,3],[3,4],[1,3]]\n",
        "Output: 1\n",
        "Explanation: [1,3] can be removed and the rest of the intervals are non-overlapping.\n",
        "Example 2:\n",
        "\n",
        "Input: intervals = [[1,2],[1,2],[1,2]]\n",
        "Output: 2\n",
        "Explanation: You need to remove two [1,2] to make the rest of the intervals non-overlapping.\n",
        "Example 3:\n",
        "\n",
        "Input: intervals = [[1,2],[2,3]]\n",
        "Output: 0\n",
        "Explanation: You don't need to remove any of the intervals since they're already non-overlapping."
      ],
      "metadata": {
        "id": "qvLDEvp3CIzi"
      }
    },
    {
      "cell_type": "code",
      "source": [
        "class Solution(object):\n",
        "    def eraseOverlapIntervals(self, intervals):\n",
        "        \"\"\"\n",
        "        :type intervals: List[List[int]]\n",
        "        :rtype: int\n",
        "        \"\"\"\n",
        "        if not intervals:\n",
        "            return 0\n",
        "\n",
        "        # Sort intervals based on their end time\n",
        "        intervals.sort(key=lambda x: x[1])\n",
        "        print(intervals)\n",
        "        # Initialize the end time of the last added interval\n",
        "        end = intervals[0][1]\n",
        "        count = 0\n",
        "\n",
        "        # Iterate through the sorted intervals\n",
        "        for i in range(1, len(intervals)):\n",
        "            if intervals[i][0] < end:\n",
        "                # Overlapping interval found, increment the count\n",
        "                count += 1\n",
        "            else:\n",
        "                # Update the end time to the end of the current interval\n",
        "                end = intervals[i][1]\n",
        "\n",
        "        return count"
      ],
      "metadata": {
        "id": "M6CivsTOCNL6"
      },
      "execution_count": 6,
      "outputs": []
    },
    {
      "cell_type": "code",
      "source": [
        "def eraseOverlapIntervals(intervals):\n",
        "    \"\"\"\n",
        "    :type intervals: List[List[int]]\n",
        "    :rtype: int\n",
        "    \"\"\"\n",
        "    if not intervals:\n",
        "        return 0\n",
        "\n",
        "    # Sort intervals based on their end time\n",
        "    intervals.sort(key=lambda x: x[1])\n",
        "    print(intervals)\n",
        "    # Initialize the end time of the last added interval\n",
        "    end = intervals[0][1]\n",
        "    print(end)\n",
        "    count = 0\n",
        "\n",
        "    # Iterate through the sorted intervals\n",
        "    for i in range(1, len(intervals)):\n",
        "        if intervals[i][0] < end:\n",
        "            # Overlapping interval found, increment the count\n",
        "            count += 1\n",
        "        else:\n",
        "            # Update the end time to the end of the current interval\n",
        "            end = intervals[i][1]\n",
        "\n",
        "    return count"
      ],
      "metadata": {
        "id": "D5EKRH7XLjlj"
      },
      "execution_count": 7,
      "outputs": []
    },
    {
      "cell_type": "code",
      "source": [
        "eraseOverlapIntervals([[1,2],[2,3],[3,4],[1,3]])"
      ],
      "metadata": {
        "colab": {
          "base_uri": "https://localhost:8080/"
        },
        "id": "69yyC19bLnb2",
        "outputId": "3cb56cf6-de9d-47b2-d9c7-1842ee50cb35"
      },
      "execution_count": 8,
      "outputs": [
        {
          "output_type": "stream",
          "name": "stdout",
          "text": [
            "[[1, 2], [2, 3], [1, 3], [3, 4]]\n",
            "2\n"
          ]
        },
        {
          "output_type": "execute_result",
          "data": {
            "text/plain": [
              "1"
            ]
          },
          "metadata": {},
          "execution_count": 8
        }
      ]
    },
    {
      "cell_type": "code",
      "source": [
        "class Solution(object):\n",
        "    def eraseOverlapIntervals(self, intervals):\n",
        "        \"\"\"\n",
        "        :type intervals: List[List[int]]\n",
        "        :rtype: int\n",
        "        \"\"\"\n",
        "        if not intervals:\n",
        "            return 0\n",
        "\n",
        "        # Sort intervals based on their start time\n",
        "        intervals.sort(key=lambda x: x[0])\n",
        "        print(intervals)\n",
        "        # Initialize the end time of the last added interval\n",
        "        end = intervals[0][1]\n",
        "        count = 0\n",
        "\n",
        "        # Iterate through the sorted intervals\n",
        "        for i in range(1, len(intervals)):\n",
        "            if intervals[i][0] < end:\n",
        "                # Overlapping interval found, increment the count\n",
        "                count += 1\n",
        "                # Update the end time to the minimum of the current end time and the end time of the overlapping interval\n",
        "                end = min(end, intervals[i][1])\n",
        "            else:\n",
        "                # Update the end time to the end of the current interval\n",
        "                end = intervals[i][1]\n",
        "\n",
        "        return count"
      ],
      "metadata": {
        "id": "WLaE4_LdQmN4"
      },
      "execution_count": null,
      "outputs": []
    },
    {
      "cell_type": "markdown",
      "source": [
        "Given an integer array nums, return an array answer such that answer[i] is equal to the product of all the elements of nums except nums[i].\n",
        "\n",
        "The product of any prefix or suffix of nums is guaranteed to fit in a 32-bit integer.\n",
        "\n",
        "You must write an algorithm that runs in O(n) time and without using the division operation.\n",
        "\n",
        "\n",
        "\n",
        "Example 1:\n",
        "\n",
        "Input: nums = [1,2,3,4]\n",
        "Output: [24,12,8,6]\n",
        "Example 2:\n",
        "\n",
        "Input: nums = [-1,1,0,-3,3]\n",
        "Output: [0,0,9,0,0]\n"
      ],
      "metadata": {
        "id": "yNw7EmJRbXAD"
      }
    },
    {
      "cell_type": "code",
      "source": [
        "class Solution:\n",
        "    def productExceptSelf(self, nums: List[int]) -> List[int]:\n",
        "        n = len(nums)\n",
        "\n",
        "        # Initialize left and right arrays to store product of elements to the left and right of current element\n",
        "        left_products = [1] * n\n",
        "        right_products = [1] * n\n",
        "\n",
        "        # Calculate products of elements to the left of each element\n",
        "        left_product = 1\n",
        "        for i in range(n):\n",
        "            left_products[i] = left_product\n",
        "            left_product *= nums[i]\n",
        "\n",
        "        # Calculate products of elements to the right of each element and multiply with left_products\n",
        "        right_product = 1\n",
        "        for i in range(n - 1, -1, -1):\n",
        "            right_products[i] = right_product * left_products[i]\n",
        "            right_product *= nums[i]\n",
        "\n",
        "        return right_products\n",
        "\n",
        "\n"
      ],
      "metadata": {
        "id": "qkNkhAUIuxZE"
      },
      "execution_count": null,
      "outputs": []
    },
    {
      "cell_type": "markdown",
      "source": [
        "A phrase is a palindrome if, after converting all uppercase letters into lowercase letters and removing all non-alphanumeric characters, it reads the same forward and backward. Alphanumeric characters include letters and numbers.\n",
        "\n",
        "Given a string s, return true if it is a palindrome, or false otherwise.\n",
        "\n",
        "\n",
        "\n",
        "Example 1:\n",
        "\n",
        "Input: s = \"A man, a plan, a canal: Panama\"\n",
        "Output: true\n",
        "Explanation: \"amanaplanacanalpanama\" is a palindrome.\n",
        "Example 2:\n",
        "\n",
        "Input: s = \"race a car\"\n",
        "Output: false\n",
        "Explanation: \"raceacar\" is not a palindrome.\n",
        "Example 3:\n",
        "\n",
        "Input: s = \" \"\n",
        "Output: true\n",
        "Explanation: s is an empty string \"\" after removing non-alphanumeric characters.\n",
        "Since an empty string reads the same forward and backward, it is a palindrome.\n",
        "\n",
        "\n",
        "Constraints:\n",
        "\n",
        "1 <= s.length <= 2 * 105\n",
        "s consists only of printable ASCII characters."
      ],
      "metadata": {
        "id": "rITwIRUKbc57"
      }
    },
    {
      "cell_type": "code",
      "source": [
        "class Solution:\n",
        "    def isPalindrome(self, s: str) -> bool:\n",
        "        a=''\n",
        "        for i in s:\n",
        "            if i.isalnum():\n",
        "                a=a+i\n",
        "            else:\n",
        "                pass\n",
        "        print(a)\n",
        "        b=a.lower()\n",
        "\n",
        "        return True if b==b[::-1] else False"
      ],
      "metadata": {
        "id": "EUio8TkdAgMc"
      },
      "execution_count": null,
      "outputs": []
    },
    {
      "cell_type": "markdown",
      "source": [
        "Given a sorted array of distinct integers and a target value, return the index if the target is found. If not, return the index where it would be if it were inserted in order.\n",
        "\n",
        "You must write an algorithm with O(log n) runtime complexity.\n",
        "\n",
        "\n",
        "\n",
        "Example 1:\n",
        "\n",
        "Input: nums = [1,3,5,6], target = 5\n",
        "Output: 2\n",
        "Example 2:\n",
        "\n",
        "Input: nums = [1,3,5,6], target = 2\n",
        "Output: 1\n",
        "Example 3:\n",
        "\n",
        "Input: nums = [1,3,5,6], target = 7\n",
        "Output: 4"
      ],
      "metadata": {
        "id": "IsiHuuTsAyO1"
      }
    },
    {
      "cell_type": "code",
      "source": [
        "class Solution:\n",
        "    def searchInsert(self, nums: List[int], target: int) -> int:\n",
        "        if target in nums:\n",
        "            return nums.index(target)\n",
        "        elif target>nums[-1]:\n",
        "            return len(nums)\n",
        "        else:\n",
        "            for i in range(len(nums)):\n",
        "                if nums[i]>target:\n",
        "                    break\n",
        "                else:\n",
        "                    pass\n",
        "            return i"
      ],
      "metadata": {
        "id": "nERHeloKAz45"
      },
      "execution_count": null,
      "outputs": []
    },
    {
      "cell_type": "markdown",
      "source": [
        "Given an integer array nums, return true if any value appears at least twice in the array, and return false if every element is distinct.\n",
        "\n",
        "\n",
        "\n",
        "Example 1:\n",
        "\n",
        "Input: nums = [1,2,3,1]\n",
        "Output: true\n",
        "Example 2:\n",
        "\n",
        "Input: nums = [1,2,3,4]\n",
        "Output: false\n",
        "Example 3:\n",
        "\n",
        "Input: nums = [1,1,1,3,3,4,3,2,4,2]\n",
        "Output: true"
      ],
      "metadata": {
        "id": "KxH3XxZhBb9J"
      }
    },
    {
      "cell_type": "code",
      "source": [
        "class Solution:\n",
        "    def containsDuplicate(self, nums: List[int]) -> bool:\n",
        "        if len(set(nums))==len(nums):\n",
        "            return False\n",
        "        else:\n",
        "            return True"
      ],
      "metadata": {
        "id": "Ee9OhM1qAm6M"
      },
      "execution_count": null,
      "outputs": []
    },
    {
      "cell_type": "markdown",
      "source": [
        "Given an integer num, repeatedly add all its digits until the result has only one digit, and return it.\n",
        "\n",
        "\n",
        "\n",
        "Example 1:\n",
        "\n",
        "Input: num = 38\n",
        "Output: 2\n",
        "Explanation: The process is\n",
        "38 --> 3 + 8 --> 11\n",
        "11 --> 1 + 1 --> 2\n",
        "Since 2 has only one digit, return it.\n",
        "Example 2:\n",
        "\n",
        "Input: num = 0\n",
        "Output: 0\n",
        "\n",
        "\n",
        "Constraints:\n",
        "\n",
        "0 <= num <= 231 - 1"
      ],
      "metadata": {
        "id": "Sx-s4UzUBqcr"
      }
    },
    {
      "cell_type": "code",
      "source": [
        "class Solution:\n",
        "    def addDigits(self, num: int) -> int:\n",
        "        i=len(str(num))\n",
        "        while i>1:\n",
        "            sum=0\n",
        "            for i in str(num):\n",
        "                sum=sum+int(i)\n",
        "            i=len(str(sum))\n",
        "            num=sum\n",
        "        return num"
      ],
      "metadata": {
        "id": "dDG-e50vEuE-"
      },
      "execution_count": null,
      "outputs": []
    },
    {
      "cell_type": "markdown",
      "source": [
        "There is a function signFunc(x) that returns:\n",
        "\n",
        "1 if x is positive.\n",
        "-1 if x is negative.\n",
        "0 if x is equal to 0.\n",
        "You are given an integer array nums. Let product be the product of all values in the array nums.\n",
        "\n",
        "Return signFunc(product).\n",
        "\n",
        "\n",
        "\n",
        "Example 1:\n",
        "\n",
        "Input: nums = [-1,-2,-3,-4,3,2,1]\n",
        "Output: 1\n",
        "Explanation: The product of all values in the array is 144, and signFunc(144) = 1\n",
        "Example 2:\n",
        "\n",
        "Input: nums = [1,5,0,2,-3]\n",
        "Output: 0\n",
        "Explanation: The product of all values in the array is 0, and signFunc(0) = 0\n",
        "Example 3:\n",
        "\n",
        "Input: nums = [-1,1,-1,1,-1]\n",
        "Output: -1\n",
        "Explanation: The product of all values in the array is -1, and signFunc(-1) = -1\n",
        "\n",
        "\n",
        "Constraints:\n",
        "\n",
        "1 <= nums.length <= 1000\n",
        "-100 <= nums[i] <= 100"
      ],
      "metadata": {
        "id": "cC5emwFoFjqN"
      }
    },
    {
      "cell_type": "code",
      "source": [
        "class Solution:\n",
        "    def arraySign(self, nums: List[int]) -> int:\n",
        "        if 0 in nums:\n",
        "            return 0\n",
        "        else:\n",
        "            if len([i for i in nums if i<0])%2==0:\n",
        "                return 1\n",
        "            else:\n",
        "                return -1\n"
      ],
      "metadata": {
        "id": "ONMKaN_rFba9"
      },
      "execution_count": null,
      "outputs": []
    },
    {
      "cell_type": "markdown",
      "source": [
        "Given an integer array nums, return true if any value appears at least twice in the array, and return false if every element is distinct.\n",
        "\n",
        "\n",
        "\n",
        "Example 1:\n",
        "\n",
        "Input: nums = [1,2,3,1]\n",
        "Output: true\n",
        "Example 2:\n",
        "\n",
        "Input: nums = [1,2,3,4]\n",
        "Output: false\n",
        "Example 3:\n",
        "\n",
        "Input: nums = [1,1,1,3,3,4,3,2,4,2]\n",
        "Output: true\n"
      ],
      "metadata": {
        "id": "v7FK5tzOwNN-"
      }
    },
    {
      "cell_type": "code",
      "source": [
        "class Solution:\n",
        "    def containsDuplicate(self, nums: List[int]) -> bool:\n",
        "        if len(set(nums))==len(nums):\n",
        "            return False\n",
        "        else:\n",
        "            return True"
      ],
      "metadata": {
        "id": "hbqKOzjCwOL4"
      },
      "execution_count": null,
      "outputs": []
    },
    {
      "cell_type": "markdown",
      "source": [
        "Roman numerals are represented by seven different symbols: I, V, X, L, C, D and M.\n",
        "\n",
        "Symbol       Value\n",
        "I             1\n",
        "V             5\n",
        "X             10\n",
        "L             50\n",
        "C             100\n",
        "D             500\n",
        "M             1000\n",
        "For example, 2 is written as II in Roman numeral, just two one's added together. 12 is written as XII, which is simply X + II. The number 27 is written as XXVII, which is XX + V + II.\n",
        "\n",
        "Roman numerals are usually written largest to smallest from left to right. However, the numeral for four is not IIII. Instead, the number four is written as IV. Because the one is before the five we subtract it making four. The same principle applies to the number nine, which is written as IX. There are six instances where subtraction is used:\n",
        "\n",
        "I can be placed before V (5) and X (10) to make 4 and 9.\n",
        "X can be placed before L (50) and C (100) to make 40 and 90.\n",
        "C can be placed before D (500) and M (1000) to make 400 and 900.\n",
        "Given an integer, convert it to a roman numeral.\n",
        "\n",
        "\n",
        "\n",
        "Example 1:\n",
        "\n",
        "Input: num = 3\n",
        "Output: \"III\"\n",
        "Explanation: 3 is represented as 3 ones.\n",
        "Example 2:\n",
        "\n",
        "Input: num = 58\n",
        "Output: \"LVIII\"\n",
        "Explanation: L = 50, V = 5, III = 3.\n",
        "Example 3:\n",
        "\n",
        "Input: num = 1994\n",
        "Output: \"MCMXCIV\"\n",
        "Explanation: M = 1000, CM = 900, XC = 90 and IV = 4."
      ],
      "metadata": {
        "id": "LaONZ6Tg0jQ7"
      }
    },
    {
      "cell_type": "code",
      "source": [
        "class Solution:\n",
        "    def intToRoman(self, num: int) -> str:\n",
        "        M=[\"\",\"M\",\"MM\",\"MMM\"]\n",
        "        C=[\"\",\"C\",\"CC\",\"CCC\",\"CD\",\"D\",\"DC\",\"DCC\",\"DCCC\",\"CM\"]\n",
        "        X=[\"\",\"X\",\"XX\",\"XXX\",\"XL\",\"L\",\"LX\",\"LXX\",\"LXXX\",\"XC\"]\n",
        "        I=[\"\",\"I\",\"II\",\"III\",\"IV\",\"V\",\"VI\",\"VII\",\"VIII\",\"IX\"]\n",
        "        return M[num//1000]+C[num%1000//100]+X[num%1000%100//10]+I[num%1000%100%10]"
      ],
      "metadata": {
        "id": "RLjzuitX0iZV"
      },
      "execution_count": null,
      "outputs": []
    },
    {
      "cell_type": "markdown",
      "source": [
        "Given an integer array nums, move all 0's to the end of it while maintaining the relative order of the non-zero elements.\n",
        "\n",
        "Note that you must do this in-place without making a copy of the array.\n",
        "\n",
        "\n",
        "\n",
        "Example 1:\n",
        "\n",
        "Input: nums = [0,1,0,3,12]\n",
        "Output: [1,3,12,0,0]\n",
        "Example 2:\n",
        "\n",
        "Input: nums = [0]\n",
        "Output: [0]"
      ],
      "metadata": {
        "id": "OIHKOpk60oil"
      }
    },
    {
      "cell_type": "code",
      "source": [
        "class Solution:\n",
        "    def moveZeroes(self, nums: List[int]) -> None:\n",
        "        \"\"\"\n",
        "        Do not return anything, modify nums in-place instead.\n",
        "        \"\"\"\n",
        "\n",
        "        for i in range(nums.count(0)):\n",
        "            nums.remove(0)\n",
        "            nums.append(0)\n",
        "        return nums"
      ],
      "metadata": {
        "id": "jrce5m5p1e_3"
      },
      "execution_count": null,
      "outputs": []
    },
    {
      "cell_type": "markdown",
      "source": [
        "Given a signed 32-bit integer x, return x with its digits reversed. If reversing x causes the value to go outside the signed 32-bit integer range [-231, 231 - 1], then return 0.\n",
        "\n",
        "Assume the environment does not allow you to store 64-bit integers (signed or unsigned).\n",
        "\n",
        "\n",
        "\n",
        "Example 1:\n",
        "\n",
        "Input: x = 123\n",
        "Output: 321\n",
        "Example 2:\n",
        "\n",
        "Input: x = -123\n",
        "Output: -321\n",
        "Example 3:\n",
        "\n",
        "Input: x = 120\n",
        "Output: 21\n"
      ],
      "metadata": {
        "id": "D3kYmIRh1jym"
      }
    },
    {
      "cell_type": "code",
      "source": [
        "class Solution:\n",
        "    def reverse(self, x: int) -> int:\n",
        "\n",
        "        a=str(x)\n",
        "        if a[0]==\"-\":\n",
        "            reverse= int(a[0]+a[1:][::-1])\n",
        "            if reverse<=(-2**31) or reverse>=2**31-1:\n",
        "                return 0\n",
        "            else:\n",
        "                return reverse\n",
        "        else:\n",
        "            reverse= int(a[::-1])\n",
        "            if reverse<=(-2**31) or reverse>=2**31-1:\n",
        "                return 0\n",
        "            else:\n",
        "                return reverse"
      ],
      "metadata": {
        "id": "PaK1qOye24Ok"
      },
      "execution_count": null,
      "outputs": []
    },
    {
      "cell_type": "markdown",
      "source": [
        "Revrsing a number:"
      ],
      "metadata": {
        "id": "BHYRT9dv5jml"
      }
    },
    {
      "cell_type": "code",
      "source": [
        "def rev(a):\n",
        "    b=a\n",
        "    x=0\n",
        "    while b%10>0:\n",
        "\n",
        "      x=(b%10)+x*10\n",
        "\n",
        "      b=b//10\n",
        "    return x"
      ],
      "metadata": {
        "id": "FM10dqSK5kZE"
      },
      "execution_count": null,
      "outputs": []
    },
    {
      "cell_type": "markdown",
      "source": [
        "Given a string s, find the length of the longest\n",
        "substring\n",
        " without repeating characters.\n",
        "\n",
        "\n",
        "\n",
        "Example 1:\n",
        "\n",
        "Input: s = \"abcabcbb\"\n",
        "Output: 3\n",
        "Explanation: The answer is \"abc\", with the length of 3.\n",
        "Example 2:\n",
        "\n",
        "Input: s = \"bbbbb\"\n",
        "Output: 1\n",
        "Explanation: The answer is \"b\", with the length of 1.\n",
        "Example 3:\n",
        "\n",
        "Input: s = \"pwwkew\"\n",
        "Output: 3\n",
        "Explanation: The answer is \"wke\", with the length of 3.\n",
        "Notice that the answer must be a substring, \"pwke\" is a subsequence and not a substring.\n"
      ],
      "metadata": {
        "id": "zUAgZdyq8eSb"
      }
    },
    {
      "cell_type": "code",
      "source": [
        "class Solution:\n",
        "    def lengthOfLongestSubstring(self, s: str) -> int:\n",
        "        x=set([len(w) for w in [s[i:j] for i in range(len(s)) for j in range(i+1,len(s)+1)\\\n",
        "        ] if all(w.count(j)==1 for j in w)])\n",
        "\n",
        "\n",
        "\n",
        "        return max(x) if len(x)>0 else 0\n",
        "\n",
        "\n"
      ],
      "metadata": {
        "id": "fQ-iIT7Q5z83"
      },
      "execution_count": null,
      "outputs": []
    },
    {
      "cell_type": "code",
      "source": [
        "s=\"abcabcbb\"\n",
        "class Solution:\n",
        "    def lengthOfLongestSubstring(self, s: str) -> int:\n",
        "        n = len(s)\n",
        "        if n == 0:\n",
        "            return 0\n",
        "\n",
        "        char_set = set()\n",
        "        max_length = 0\n",
        "        left = 0  # Left pointer of the sliding window\n",
        "\n",
        "        for right in range(n):\n",
        "            while s[right] in char_set:\n",
        "                char_set.remove(s[left])\n",
        "                left += 1\n",
        "            char_set.add(s[right])\n",
        "            max_length = max(max_length, right - left + 1)\n",
        "\n",
        "        return max_length\n"
      ],
      "metadata": {
        "id": "8GAclPFGCtj7"
      },
      "execution_count": null,
      "outputs": []
    },
    {
      "cell_type": "code",
      "source": [
        "s=\"abcabcbb\""
      ],
      "metadata": {
        "id": "0KxaJ8hloxQ-"
      },
      "execution_count": 2,
      "outputs": []
    },
    {
      "cell_type": "code",
      "source": [
        "def lengthOfLongestSubstring(s: str) -> int:\n",
        "    n = len(s)\n",
        "    if n == 0:\n",
        "        return 0\n",
        "\n",
        "    char_set = set()\n",
        "    max_length = 0\n",
        "    left = 0  # Left pointer of the sliding window\n",
        "\n",
        "    for right in range(n):\n",
        "        while s[right] in char_set:\n",
        "            char_set.remove(s[left])\n",
        "            left += 1\n",
        "            print(char_set)\n",
        "        char_set.add(s[right])\n",
        "        print(char_set)\n",
        "        max_length = max(max_length, right - left + 1)\n",
        "\n",
        "    return max_length"
      ],
      "metadata": {
        "id": "voJ_tvv6orT6"
      },
      "execution_count": 8,
      "outputs": []
    },
    {
      "cell_type": "code",
      "source": [
        "lengthOfLongestSubstring(\"abcabcbb\")"
      ],
      "metadata": {
        "colab": {
          "base_uri": "https://localhost:8080/"
        },
        "id": "nMIyISZxo1UN",
        "outputId": "6006f627-a926-490f-e632-e87dfcd56d12"
      },
      "execution_count": 9,
      "outputs": [
        {
          "output_type": "stream",
          "name": "stdout",
          "text": [
            "{'a'}\n",
            "{'a', 'b'}\n",
            "{'a', 'c', 'b'}\n",
            "{'c', 'b'}\n",
            "{'a', 'c', 'b'}\n",
            "{'a', 'c'}\n",
            "{'a', 'c', 'b'}\n",
            "{'a', 'b'}\n",
            "{'a', 'c', 'b'}\n",
            "{'c', 'b'}\n",
            "{'c'}\n",
            "{'c', 'b'}\n",
            "{'b'}\n",
            "set()\n",
            "{'b'}\n"
          ]
        },
        {
          "output_type": "execute_result",
          "data": {
            "text/plain": [
              "3"
            ]
          },
          "metadata": {},
          "execution_count": 9
        }
      ]
    },
    {
      "cell_type": "markdown",
      "source": [
        "Given an array of positive integers nums and a positive integer target, return the minimal length of a\n",
        "subarray\n",
        " whose sum is greater than or equal to target. If there is no such subarray, return 0 instead.\n",
        "\n",
        "\n",
        "\n",
        "Example 1:\n",
        "\n",
        "Input: target = 7, nums = [2,3,1,2,4,3]\n",
        "Output: 2\n",
        "Explanation: The subarray [4,3] has the minimal length under the problem constraint.\n",
        "Example 2:\n",
        "\n",
        "Input: target = 4, nums = [1,4,4]\n",
        "Output: 1\n",
        "Example 3:\n",
        "\n",
        "Input: target = 11, nums = [1,1,1,1,1,1,1,1]\n",
        "Output: 0"
      ],
      "metadata": {
        "id": "6tUal9mqYn6T"
      }
    },
    {
      "cell_type": "code",
      "source": [
        "def minSubArrayLen(target, nums):\n",
        "    if not nums:\n",
        "        return 0\n",
        "\n",
        "    min_length = float('inf')\n",
        "    left, right = 0, 0\n",
        "    current_sum = 0\n",
        "\n",
        "    while right < len(nums):\n",
        "        current_sum += nums[right]\n",
        "        while current_sum >= target:\n",
        "            min_length = min(min_length, right - left + 1)\n",
        "            current_sum -= nums[left]\n",
        "            left += 1\n",
        "        right += 1\n",
        "\n",
        "    return min_length if min_length != float('inf') else 0"
      ],
      "metadata": {
        "id": "hvX8wX6DYjJy"
      },
      "execution_count": null,
      "outputs": []
    },
    {
      "cell_type": "markdown",
      "source": [
        "Given an integer array nums, rotate the array to the right by k steps, where k is non-negative.\n",
        "\n",
        "\n",
        "\n",
        "Example 1:\n",
        "\n",
        "Input: nums = [1,2,3,4,5,6,7], k = 3\n",
        "Output: [5,6,7,1,2,3,4]\n",
        "Explanation:\n",
        "rotate 1 steps to the right: [7,1,2,3,4,5,6]\n",
        "rotate 2 steps to the right: [6,7,1,2,3,4,5]\n",
        "rotate 3 steps to the right: [5,6,7,1,2,3,4]\n",
        "Example 2:\n",
        "\n",
        "Input: nums = [-1,-100,3,99], k = 2\n",
        "Output: [3,99,-1,-100]\n",
        "Explanation:\n",
        "rotate 1 steps to the right: [99,-1,-100,3]\n",
        "rotate 2 steps to the right: [3,99,-1,-100]\n",
        "\n",
        "\n",
        "Constraints:\n",
        "\n",
        "1 <= nums.length <= 105\n",
        "-231 <= nums[i] <= 231 - 1\n",
        "0 <= k <= 105"
      ],
      "metadata": {
        "id": "NLolSMG6QMg1"
      }
    },
    {
      "cell_type": "code",
      "source": [
        "class Solution:\n",
        "    def rotate(self, nums: List[int], k: int) -> None:\n",
        "        \"\"\"\n",
        "        Do not return anything, modify nums in-place instead.\n",
        "        \"\"\"\n",
        "        n=len(nums)\n",
        "        k = k % n\n",
        "        nums[:] = nums[-k:] + nums[:-k]\n",
        "        return nums\n"
      ],
      "metadata": {
        "id": "rfqYS2WZQOFl"
      },
      "execution_count": null,
      "outputs": []
    },
    {
      "cell_type": "code",
      "source": [
        "class Solution:\n",
        "    def rotate(self, nums: List[int], k: int) -> None:\n",
        "        \"\"\"\n",
        "        Do not return anything, modify nums in-place instead.\n",
        "\n",
        "        \"\"\"\n",
        "        for i in range(k):\n",
        "            nums.insert(0,nums[-1])\n",
        "            nums.pop()\n",
        "        return nums"
      ],
      "metadata": {
        "id": "jIC5dybeQhIv"
      },
      "execution_count": null,
      "outputs": []
    },
    {
      "cell_type": "markdown",
      "source": [
        "You are given an array prices where prices[i] is the price of a given stock on the ith day.\n",
        "\n",
        "You want to maximize your profit by choosing a single day to buy one stock and choosing a different day in the future to sell that stock.\n",
        "\n",
        "Return the maximum profit you can achieve from this transaction. If you cannot achieve any profit, return 0.\n",
        "\n",
        "\n",
        "\n",
        "Example 1:\n",
        "\n",
        "Input: prices = [7,1,5,3,6,4]\n",
        "Output: 5\n",
        "Explanation: Buy on day 2 (price = 1) and sell on day 5 (price = 6), profit = 6-1 = 5.\n",
        "Note that buying on day 2 and selling on day 1 is not allowed because you must buy before you sell.\n",
        "Example 2:\n",
        "\n",
        "Input: prices = [7,6,4,3,1]\n",
        "Output: 0\n",
        "Explanation: In this case, no transactions are done and the max profit = 0.\n",
        "\n",
        "\n",
        "Constraints:\n",
        "\n",
        "1 <= prices.length <= 105\n",
        "0 <= prices[i] <= 104"
      ],
      "metadata": {
        "id": "zwETeBzxdY12"
      }
    },
    {
      "cell_type": "code",
      "source": [
        "class Solution:\n",
        "    def maxProfit(self, prices: List[int]) -> int:\n",
        "        minPrice, maxProfit = float(\"inf\"), float(\"-inf\")\n",
        "\n",
        "        for price in prices:\n",
        "            minPrice = min(minPrice, price)\n",
        "\n",
        "            maxProfit = max(maxProfit, (price - minPrice))\n",
        "\n",
        "        return maxProfit"
      ],
      "metadata": {
        "id": "tHmrZUbbdUuS"
      },
      "execution_count": null,
      "outputs": []
    },
    {
      "cell_type": "code",
      "source": [
        "class Solution:\n",
        "    def maxProfit(self, nums: List[int]) -> int:\n",
        "        a=[]\n",
        "        for i in range(len(nums)-1):\n",
        "            a.append(nums[i]-max(nums[i+1:]))\n",
        "        print(a)\n",
        "        return abs(min(a)) if any(i <0 for i in a) else 0"
      ],
      "metadata": {
        "id": "aLI-9v2CdeBA"
      },
      "execution_count": null,
      "outputs": []
    },
    {
      "cell_type": "markdown",
      "source": [
        "You are given an integer array prices where prices[i] is the price of a given stock on the ith day.\n",
        "\n",
        "On each day, you may decide to buy and/or sell the stock. You can only hold at most one share of the stock at any time. However, you can buy it then immediately sell it on the same day.\n",
        "\n",
        "Find and return the maximum profit you can achieve.\n",
        "\n",
        "\n",
        "\n",
        "Example 1:\n",
        "\n",
        "Input: prices = [7,1,5,3,6,4]\n",
        "Output: 7\n",
        "Explanation: Buy on day 2 (price = 1) and sell on day 3 (price = 5), profit = 5-1 = 4.\n",
        "Then buy on day 4 (price = 3) and sell on day 5 (price = 6), profit = 6-3 = 3.\n",
        "Total profit is 4 + 3 = 7.\n",
        "Example 2:\n",
        "\n",
        "Input: prices = [1,2,3,4,5]\n",
        "Output: 4\n",
        "Explanation: Buy on day 1 (price = 1) and sell on day 5 (price = 5), profit = 5-1 = 4.\n",
        "Total profit is 4.\n",
        "Example 3:\n",
        "\n",
        "Input: prices = [7,6,4,3,1]\n",
        "Output: 0\n",
        "Explanation: There is no way to make a positive profit, so we never buy the stock to achieve the maximum profit of 0.\n"
      ],
      "metadata": {
        "id": "XX5ryCMKodvm"
      }
    },
    {
      "cell_type": "code",
      "source": [
        "class Solution:\n",
        "    def maxProfit(self, prices: List[int]) -> int:\n",
        "        total_profit = 0\n",
        "        i = 0\n",
        "        j = 0\n",
        "\n",
        "        while j < len(prices):\n",
        "            if prices[j] <= prices[i]:\n",
        "                i = j\n",
        "            else:\n",
        "                while j < len(prices)-1 and prices[j+1] > prices[j]:\n",
        "                    j += 1\n",
        "                profit = prices[j] - prices[i]\n",
        "                total_profit += profit\n",
        "                i = j + 1\n",
        "            j += 1\n",
        "        return total_profit"
      ],
      "metadata": {
        "id": "FfhuYlGNoZMG"
      },
      "execution_count": null,
      "outputs": []
    },
    {
      "cell_type": "markdown",
      "source": [
        "Write a function to find the longest common prefix string amongst an array of strings.\n",
        "\n",
        "If there is no common prefix, return an empty string \"\".\n",
        "\n",
        "\n",
        "\n",
        "Example 1:\n",
        "\n",
        "Input: strs = [\"flower\",\"flow\",\"flight\"]\n",
        "Output: \"fl\"\n",
        "Example 2:\n",
        "\n",
        "Input: strs = [\"dog\",\"racecar\",\"car\"]\n",
        "Output: \"\"\n",
        "Explanation: There is no common prefix among the input strings."
      ],
      "metadata": {
        "id": "aVze1Wea14JG"
      }
    },
    {
      "cell_type": "code",
      "source": [
        "class Solution:\n",
        "    def longestCommonPrefix(self, strs: List[str]) -> str:\n",
        "        a=[len(i) for i in strs]\n",
        "        x=a.index(min(a))\n",
        "        y=''\n",
        "        for i in range(len(strs[x])+1):\n",
        "\n",
        "            if len(set([j[:i] for j in strs]))==1:\n",
        "                y=strs[0][:i]\n",
        "\n",
        "\n",
        "        return y\n",
        "\n",
        "\n"
      ],
      "metadata": {
        "id": "V8M-9Noe146f"
      },
      "execution_count": null,
      "outputs": []
    },
    {
      "cell_type": "markdown",
      "source": [
        "Given an input string s, reverse the order of the words.\n",
        "\n",
        "A word is defined as a sequence of non-space characters. The words in s will be separated by at least one space.\n",
        "\n",
        "Return a string of the words in reverse order concatenated by a single space.\n",
        "\n",
        "Note that s may contain leading or trailing spaces or multiple spaces between two words. The returned string should only have a single space separating the words. Do not include any extra spaces.\n",
        "\n",
        "\n",
        "\n",
        "Example 1:\n",
        "\n",
        "Input: s = \"the sky is blue\"\n",
        "Output: \"blue is sky the\"\n",
        "Example 2:\n",
        "\n",
        "Input: s = \"  hello world  \"\n",
        "Output: \"world hello\"\n",
        "Explanation: Your reversed string should not contain leading or trailing spaces.\n",
        "Example 3:\n",
        "\n",
        "Input: s = \"a good   example\"\n",
        "Output: \"example good a\"\n",
        "Explanation: You need to reduce multiple spaces between two words to a single space in the reversed string.\n"
      ],
      "metadata": {
        "id": "Be1iiQhI32Gp"
      }
    },
    {
      "cell_type": "code",
      "source": [
        "class Solution:\n",
        "    def reverseWords(self, s: str) -> str:\n",
        "        a=[i for i in s.split(' ') if i!='']\n",
        "        return (' ').join(a[::-1])"
      ],
      "metadata": {
        "id": "rTpHEZ4q3xdz"
      },
      "execution_count": null,
      "outputs": []
    },
    {
      "cell_type": "code",
      "source": [
        "s = \"  hello world  \"\n",
        "s.split(' ')"
      ],
      "metadata": {
        "colab": {
          "base_uri": "https://localhost:8080/"
        },
        "id": "NHL0-L7I3bAC",
        "outputId": "3ddff25d-c6a1-4a11-c026-c87743ba6c98"
      },
      "execution_count": null,
      "outputs": [
        {
          "output_type": "execute_result",
          "data": {
            "text/plain": [
              "['', '', 'hello', 'world', '', '']"
            ]
          },
          "metadata": {},
          "execution_count": 10
        }
      ]
    },
    {
      "cell_type": "code",
      "source": [
        "s='   '\n",
        "s.split(' ')"
      ],
      "metadata": {
        "colab": {
          "base_uri": "https://localhost:8080/"
        },
        "id": "YQVPqcJO4Q4f",
        "outputId": "21a2dc5e-6283-4746-dd69-58d018d1017f"
      },
      "execution_count": null,
      "outputs": [
        {
          "output_type": "execute_result",
          "data": {
            "text/plain": [
              "['', '', '', '']"
            ]
          },
          "metadata": {},
          "execution_count": 13
        }
      ]
    },
    {
      "cell_type": "markdown",
      "source": [
        "[5,5,8,9,15,20,88]\n",
        "[6,6,7,8,9,12,22,25,99,150,200]\n",
        "you are given two sorted arrays. Write a function to combine these two arrays into a third sorted array. Do not use built in Python sorting function."
      ],
      "metadata": {
        "id": "gO9nfukUpDGF"
      }
    },
    {
      "cell_type": "code",
      "source": [
        "def merge_sorted_arrays(arr1, arr2):\n",
        "    result = []\n",
        "    i, j = 0, 0  # Pointers for both arrays\n",
        "\n",
        "    while i < len(arr1) and j < len(arr2):\n",
        "        if arr1[i] < arr2[j]:\n",
        "            result.append(arr1[i])\n",
        "            i += 1\n",
        "        else:\n",
        "            result.append(arr2[j])\n",
        "            j += 1\n",
        "\n",
        "    # Append remaining elements from arr1 and arr2 (if any)\n",
        "    while i < len(arr1):\n",
        "        result.append(arr1[i])\n",
        "        i += 1\n",
        "\n",
        "    while j < len(arr2):\n",
        "        result.append(arr2[j])\n",
        "        j += 1\n",
        "\n",
        "    return result"
      ],
      "metadata": {
        "id": "ZmH_njbCpErb"
      },
      "execution_count": null,
      "outputs": []
    },
    {
      "cell_type": "code",
      "source": [
        "a=[5,5,8,9,15,20,88]\n",
        "b=[6,6,7,8,9,12,22,25,99,150,200]\n",
        "merge_sorted_arrays(a,b)"
      ],
      "metadata": {
        "colab": {
          "base_uri": "https://localhost:8080/"
        },
        "id": "Oe8ShPDhqvCq",
        "outputId": "9ce0e318-fed7-4df9-9ea3-76c7695cd44b"
      },
      "execution_count": null,
      "outputs": [
        {
          "output_type": "execute_result",
          "data": {
            "text/plain": [
              "[5, 5, 6, 6, 7, 8, 8, 9, 9, 12, 15, 20, 22, 25, 88, 99, 150, 200]"
            ]
          },
          "metadata": {},
          "execution_count": 5
        }
      ]
    },
    {
      "cell_type": "code",
      "source": [
        "def quick_sort(arr):\n",
        "    if len(arr) <= 1:\n",
        "        return arr\n",
        "\n",
        "    pivot = arr[len(arr) // 2]\n",
        "    left = [x for x in arr if x < pivot]\n",
        "    middle = [x for x in arr if x == pivot]\n",
        "    right = [x for x in arr if x > pivot]\n",
        "\n",
        "    return quick_sort(left) + middle + quick_sort(right)\n",
        "\n",
        "my_list = [5, 2, 9, 1, 5]\n",
        "sorted_list = quick_sort(my_list)\n",
        "print(sorted_list)"
      ],
      "metadata": {
        "colab": {
          "base_uri": "https://localhost:8080/"
        },
        "id": "BZWhLKnA5usK",
        "outputId": "8b456281-51db-460c-ae6f-d8fd53efb0a7"
      },
      "execution_count": null,
      "outputs": [
        {
          "output_type": "stream",
          "name": "stdout",
          "text": [
            "[1, 2, 5, 5, 9]\n"
          ]
        }
      ]
    },
    {
      "cell_type": "code",
      "source": [
        "quick_sort([1,8,9,4,3,6,0])"
      ],
      "metadata": {
        "colab": {
          "base_uri": "https://localhost:8080/"
        },
        "id": "QghOBdY850mz",
        "outputId": "b1c20409-aa63-4fd9-efa7-36b289b510a7"
      },
      "execution_count": null,
      "outputs": [
        {
          "output_type": "execute_result",
          "data": {
            "text/plain": [
              "[0, 1, 3, 4, 6, 8, 9]"
            ]
          },
          "metadata": {},
          "execution_count": 2
        }
      ]
    },
    {
      "cell_type": "code",
      "source": [
        "def bubble_sort(arr):\n",
        "    n = len(arr)\n",
        "\n",
        "    # Traverse through all elements in the list\n",
        "    for i in range(n):\n",
        "        # Flag to indicate whether any swaps were made in this pass\n",
        "        swapped = False\n",
        "\n",
        "        # Last i elements are already in place, so we don't need to compare them\n",
        "        for j in range(0, n-i-1):\n",
        "            # Compare adjacent elements and swap them if they are in the wrong order\n",
        "            if arr[j] > arr[j+1]:\n",
        "                arr[j], arr[j+1] = arr[j+1], arr[j]  # Swap the elements\n",
        "                swapped = True\n",
        "\n",
        "        # If no two elements were swapped in this pass, the list is sorted\n",
        "        if not swapped:\n",
        "            break\n",
        "\n",
        "# Example usage:\n",
        "my_list = [64, 34, 25, 12, 22, 11, 90]\n",
        "bubble_sort(my_list)\n",
        "print(\"Sorted list:\", my_list)"
      ],
      "metadata": {
        "colab": {
          "base_uri": "https://localhost:8080/"
        },
        "id": "rhl0ahpUBB4-",
        "outputId": "4db6f48e-732d-4c39-84de-8e36235e1f0e"
      },
      "execution_count": null,
      "outputs": [
        {
          "output_type": "stream",
          "name": "stdout",
          "text": [
            "Sorted list: [11, 12, 22, 25, 34, 64, 90]\n"
          ]
        }
      ]
    },
    {
      "cell_type": "code",
      "source": [
        "def merge(nums1, m, nums2, n):\n",
        "    # Start from the end of the merged array\n",
        "    i, j, k = m - 1, n - 1, m + n - 1\n",
        "\n",
        "    # Compare and merge elements from both arrays\n",
        "    while i >= 0 and j >= 0:\n",
        "        if nums1[i] > nums2[j]:\n",
        "            nums1[k] = nums1[i]\n",
        "            i -= 1\n",
        "        else:\n",
        "            nums1[k] = nums2[j]\n",
        "            j -= 1\n",
        "        k -= 1\n",
        "\n",
        "    # If there are remaining elements in nums2, copy them to nums1\n",
        "    while j >= 0:\n",
        "        nums1[k] = nums2[j]\n",
        "        j -= 1\n",
        "        k -= 1\n",
        "\n",
        "# Test cases\n",
        "nums1 = [1, 2, 3, 0, 0, 0]\n",
        "m = 3\n",
        "nums2 = [2, 5, 6]\n",
        "n = 3\n",
        "merge(nums1, m, nums2, n)\n",
        "print(nums1)  # Output: [1, 2, 2, 3, 5, 6]"
      ],
      "metadata": {
        "colab": {
          "base_uri": "https://localhost:8080/"
        },
        "id": "0fuWL_OCmSwz",
        "outputId": "df8ea81e-234d-4774-b3bf-34b59afa602b"
      },
      "execution_count": null,
      "outputs": [
        {
          "output_type": "stream",
          "name": "stdout",
          "text": [
            "[1, 2, 2, 3, 5, 6]\n"
          ]
        }
      ]
    },
    {
      "cell_type": "markdown",
      "source": [
        "You are given an integer array nums. You are initially positioned at the array's first index, and each element in the array represents your maximum jump length at that position.\n",
        "\n",
        "Return true if you can reach the last index, or false otherwise.\n",
        "\n",
        "\n",
        "\n",
        "Example 1:\n",
        "\n",
        "Input: nums = [2,3,1,1,4]\n",
        "Output: true\n",
        "Explanation: Jump 1 step from index 0 to 1, then 3 steps to the last index.\n",
        "Example 2:\n",
        "\n",
        "Input: nums = [3,2,1,0,4]\n",
        "Output: false\n",
        "Explanation: You will always arrive at index 3 no matter what. Its maximum jump length is 0, which makes it impossible to reach the last index.\n"
      ],
      "metadata": {
        "id": "_75gWWgs0FCY"
      }
    },
    {
      "cell_type": "code",
      "source": [
        "def canJump(nums):\n",
        "    max_reach = 0  # Maximum reachable index\n",
        "\n",
        "    for i in range(len(nums)):\n",
        "        # If the current index is greater than the maximum reachable index, return False\n",
        "        if i > max_reach:\n",
        "            return False\n",
        "\n",
        "        # Update the maximum reachable index\n",
        "        max_reach = max(max_reach, i + nums[i])\n",
        "\n",
        "        # If the maximum reachable index is greater than or equal to the last index, return True\n",
        "        if max_reach >= len(nums) - 1:\n",
        "            return True\n",
        "\n",
        "    return True  # If you reach this point, it means you can reach the end\n",
        "\n",
        "# Test cases\n",
        "nums1 = [2, 3, 1, 1, 4]\n",
        "print(canJump(nums1))  # Output: True\n",
        "\n",
        "nums2 = [3, 2, 1, 0, 4]\n",
        "print(canJump(nums2))  # Output: False"
      ],
      "metadata": {
        "colab": {
          "base_uri": "https://localhost:8080/"
        },
        "id": "dil4eexh0D-e",
        "outputId": "40cc74a5-ffbe-40cc-b39c-0fab9770804e"
      },
      "execution_count": null,
      "outputs": [
        {
          "output_type": "stream",
          "name": "stdout",
          "text": [
            "True\n",
            "False\n"
          ]
        }
      ]
    },
    {
      "cell_type": "code",
      "source": [
        "def jump(nums):\n",
        "    n = len(nums)\n",
        "    jumps = [float('inf')] * n  # Initialize an array to store minimum jumps\n",
        "\n",
        "    jumps[0] = 0  # The starting position requires 0 jumps\n",
        "\n",
        "    for i in range(1, n):\n",
        "        for j in range(i):\n",
        "            if j + nums[j] >= i:\n",
        "                jumps[i] = min(jumps[i], jumps[j] + 1)\n",
        "                break\n",
        "\n",
        "    return jumps[n - 1],jumps\n",
        "\n",
        "# Test cases\n",
        "nums1 = [2, 3, 1, 1, 4]\n",
        "print(jump(nums1))  # Output: 2\n",
        "\n",
        "nums2 = [1, 1, 4, 1, 4]\n",
        "print(jump(nums2))  # Output: 2\n",
        "\n",
        "\n",
        "\n",
        "\n",
        "\n",
        "\n"
      ],
      "metadata": {
        "colab": {
          "base_uri": "https://localhost:8080/"
        },
        "id": "G_aTy96Q1vST",
        "outputId": "adc8bda8-967c-4efb-a114-304f25ba59d7"
      },
      "execution_count": null,
      "outputs": [
        {
          "output_type": "stream",
          "name": "stdout",
          "text": [
            "(2, [0, 1, 1, 2, 2])\n",
            "(3, [0, 1, 2, 3, 3])\n"
          ]
        }
      ]
    },
    {
      "cell_type": "markdown",
      "source": [
        "mplement the RandomizedSet class:\n",
        "\n",
        "RandomizedSet() Initializes the RandomizedSet object.\n",
        "bool insert(int val) Inserts an item val into the set if not present. Returns true if the item was not present, false otherwise.\n",
        "bool remove(int val) Removes an item val from the set if present. Returns true if the item was present, false otherwise.\n",
        "int getRandom() Returns a random element from the current set of elements (it's guaranteed that at least one element exists when this method is called). Each element must have the same probability of being returned.\n",
        "You must implement the functions of the class such that each function works in average O(1) time complexity.\n",
        "\n",
        "\n",
        "\n",
        "Example 1:\n",
        "\n",
        "Input\n",
        "[\"RandomizedSet\", \"insert\", \"remove\", \"insert\", \"getRandom\", \"remove\", \"insert\", \"getRandom\"]\n",
        "[[], [1], [2], [2], [], [1], [2], []]\n",
        "Output\n",
        "[null, true, false, true, 2, true, false, 2]\n",
        "\n",
        "Explanation\n",
        "RandomizedSet randomizedSet = new RandomizedSet();\n",
        "randomizedSet.insert(1); // Inserts 1 to the set. Returns true as 1 was inserted successfully.\n",
        "randomizedSet.remove(2); // Returns false as 2 does not exist in the set.\n",
        "randomizedSet.insert(2); // Inserts 2 to the set, returns true. Set now contains [1,2].\n",
        "randomizedSet.getRandom(); // getRandom() should return either 1 or 2 randomly.\n",
        "randomizedSet.remove(1); // Removes 1 from the set, returns true. Set now contains [2].\n",
        "randomizedSet.insert(2); // 2 was already in the set, so return false.\n",
        "randomizedSet.getRandom(); // Since 2 is the only number in the set, getRandom() will always return 2."
      ],
      "metadata": {
        "id": "5TNEwY2lJWdN"
      }
    },
    {
      "cell_type": "code",
      "source": [
        "import random\n",
        "class RandomizedSet:\n",
        "\n",
        "    def __init__(self):\n",
        "        self.elements = set()\n",
        "        self.element_list = []\n",
        "\n",
        "\n",
        "    def insert(self, val: int) -> bool:\n",
        "        if val not in self.elements:\n",
        "            self.elements.add(val)\n",
        "            self.element_list.append(val)\n",
        "            return True\n",
        "        return False\n",
        "\n",
        "\n",
        "\n",
        "\n",
        "    def remove(self, val: int) -> bool:\n",
        "        if val in self.elements:\n",
        "                    self.elements.remove(val)\n",
        "                    self.element_list.remove(val)\n",
        "                    return True\n",
        "        return False\n",
        "\n",
        "\n",
        "    def getRandom(self) -> int:\n",
        "        return random.choice(self.element_list)"
      ],
      "metadata": {
        "id": "kseL1dPvJThe"
      },
      "execution_count": null,
      "outputs": []
    },
    {
      "cell_type": "code",
      "source": [
        "def canCompleteCircuit(gas, cost):\n",
        "    total_gas = 0       # Total gas in the tank\n",
        "    current_gas = 0     # Current gas in the tank\n",
        "    start_station = 0   # Starting station index\n",
        "\n",
        "    for i in range(len(gas)):\n",
        "        total_gas += gas[i] - cost[i]\n",
        "        current_gas += gas[i] - cost[i]\n",
        "\n",
        "        # If the tank goes negative, reset the starting station and current gas\n",
        "        if current_gas < 0:\n",
        "            start_station = i + 1\n",
        "            current_gas = 0\n",
        "\n",
        "    # If the total gas is non-negative, return the starting station index\n",
        "    if total_gas >= 0:\n",
        "        return start_station\n",
        "    else:\n",
        "        return -1\n",
        "\n",
        "gas = [1, 2, 3, 4, 5]\n",
        "cost = [3, 4, 5, 1, 2]\n",
        "print(canCompleteCircuit(gas, cost))\n",
        "\n",
        "\n",
        "\n",
        "\n",
        "\n",
        "\n",
        "\n",
        "\n"
      ],
      "metadata": {
        "colab": {
          "base_uri": "https://localhost:8080/"
        },
        "id": "emLbQGBOm8mb",
        "outputId": "e55b506d-9787-4f41-9ec9-e4c086576054"
      },
      "execution_count": null,
      "outputs": [
        {
          "output_type": "stream",
          "name": "stdout",
          "text": [
            "3\n"
          ]
        }
      ]
    },
    {
      "cell_type": "code",
      "source": [
        "def romanToInt(s):\n",
        "    # Create a dictionary to map Roman numeral symbols to values\n",
        "    roman_dict = {\n",
        "        'I': 1,\n",
        "        'V': 5,\n",
        "        'X': 10,\n",
        "        'L': 50,\n",
        "        'C': 100,\n",
        "        'D': 500,\n",
        "        'M': 1000\n",
        "    }\n",
        "\n",
        "    result = 0  # Initialize the result to 0\n",
        "    prev_value = 0  # Initialize the previous value to 0\n",
        "\n",
        "    # Iterate through the Roman numeral string from left to right\n",
        "    for symbol in s:\n",
        "        value = roman_dict[symbol]  # Get the value of the current symbol\n",
        "\n",
        "        # Check if subtraction is applied (e.g., IV for 4, IX for 9, etc.)\n",
        "        if value > prev_value:\n",
        "            result += value - 2 * prev_value  # Subtract twice the previous value\n",
        "        else:\n",
        "            result += value\n",
        "\n",
        "        prev_value = value  # Update the previous value\n",
        "\n",
        "    return result\n",
        "\n",
        "# Test cases\n",
        "print(romanToInt(\"III\"))  # Output: 3\n",
        "print(romanToInt(\"IV\"))   # Output: 4\n",
        "print(romanToInt(\"IX\"))   # Output: 9\n",
        "print(romanToInt(\"LVIII\"))  # Output: 58\n",
        "print(romanToInt(\"MCMXCIV\"))  # Output: 1994"
      ],
      "metadata": {
        "colab": {
          "base_uri": "https://localhost:8080/"
        },
        "id": "5nLGSddTynl0",
        "outputId": "879e909b-c1dc-49c1-ddd8-95f59a4d96df"
      },
      "execution_count": null,
      "outputs": [
        {
          "output_type": "stream",
          "name": "stdout",
          "text": [
            "3\n",
            "4\n",
            "9\n",
            "58\n",
            "1994\n"
          ]
        }
      ]
    },
    {
      "cell_type": "markdown",
      "source": [
        "Given two strings s and t, return true if s is a subsequence of t, or false otherwise.\n",
        "\n",
        "A subsequence of a string is a new string that is formed from the original string by deleting some (can be none) of the characters without disturbing the relative positions of the remaining characters. (i.e., \"ace\" is a subsequence of \"abcde\" while \"aec\" is not).\n",
        "\n",
        "\n",
        "\n",
        "Example 1:\n",
        "\n",
        "Input: s = \"abc\", t = \"ahbgdc\"\n",
        "Output: true\n",
        "Example 2:\n",
        "\n",
        "Input: s = \"axc\", t = \"ahbgdc\"\n",
        "Output: false"
      ],
      "metadata": {
        "id": "XThtX7gmXFMZ"
      }
    },
    {
      "cell_type": "markdown",
      "source": [
        "i is a pointer for string s, and j is a pointer for string t.\n",
        "The while loop continues until either i reaches the end of s or j reaches the end of t.\n",
        "Inside the loop, if the current characters in s and t match, we increment i to move to the next character in s.\n",
        "In every iteration, we increment j to move through t.\n",
        "After the loop, if i equals the length of s, it means all characters in s were found in t in the same order, and we return True. Otherwise, we return False.\n",
        "This code efficiently checks if s is a subsequence of t while maintaining the relative order of characters in both strings.\n"
      ],
      "metadata": {
        "id": "N4qZyfWYUlp1"
      }
    },
    {
      "cell_type": "code",
      "source": [
        "def isSubsequence(s, t):\n",
        "    i = 0  # Pointer for string s\n",
        "    j = 0  # Pointer for string t\n",
        "\n",
        "    while i < len(s) and j < len(t):\n",
        "        # If the current characters match, move the pointer in s\n",
        "        if s[i] == t[j]:\n",
        "            i += 1\n",
        "        # Always move the pointer in t\n",
        "        j += 1\n",
        "    print(i)\n",
        "    # If all characters in s are found in t in the same order, s is a subsequence of t\n",
        "    return i == len(s)"
      ],
      "metadata": {
        "id": "luF4RcBlUTUE"
      },
      "execution_count": null,
      "outputs": []
    },
    {
      "cell_type": "code",
      "source": [
        "print(isSubsequence(\"abc\", \"ahbgdc\"))  # Output: True\n",
        "print(isSubsequence(\"axc\", \"ahbgdc\"))  # Output: False"
      ],
      "metadata": {
        "colab": {
          "base_uri": "https://localhost:8080/"
        },
        "id": "0541UDjnUXNx",
        "outputId": "a0458eec-f213-416c-d944-37cdc50f788e"
      },
      "execution_count": null,
      "outputs": [
        {
          "output_type": "stream",
          "name": "stdout",
          "text": [
            "3\n",
            "True\n",
            "1\n",
            "False\n"
          ]
        }
      ]
    },
    {
      "cell_type": "markdown",
      "source": [
        "Given a 1-indexed array of integers numbers that is already sorted in non-decreasing order, find two numbers such that they add up to a specific target number. Let these two numbers be numbers[index1] and numbers[index2] where 1 <= index1 < index2 < numbers.length.\n",
        "\n",
        "Return the indices of the two numbers, index1 and index2, added by one as an integer array [index1, index2] of length 2.\n",
        "\n",
        "The tests are generated such that there is exactly one solution. You may not use the same element twice.\n",
        "\n",
        "Your solution must use only constant extra space.\n",
        "\n",
        "\n",
        "\n",
        "Example 1:\n",
        "\n",
        "Input: numbers = [2,7,11,15], target = 9\n",
        "Output: [1,2]\n",
        "Explanation: The sum of 2 and 7 is 9. Therefore, index1 = 1, index2 = 2. We return [1, 2].\n",
        "Example 2:\n",
        "\n",
        "Input: numbers = [2,3,4], target = 6\n",
        "Output: [1,3]\n",
        "Explanation: The sum of 2 and 4 is 6. Therefore index1 = 1, index2 = 3. We return [1, 3].\n",
        "Example 3:\n",
        "\n",
        "Input: numbers = [-1,0], target = -1\n",
        "Output: [1,2]\n",
        "Explanation: The sum of -1 and 0 is -1. Therefore index1 = 1, index2 = 2. We return [1, 2]."
      ],
      "metadata": {
        "id": "iVipoy-ocRvo"
      }
    },
    {
      "cell_type": "code",
      "source": [
        "class Solution:\n",
        "    def twoSum(self, numbers: List[int], target: int) -> List[int]:\n",
        "        a=[]\n",
        "        b=numbers\n",
        "        for i in numbers:\n",
        "            if target-i in numbers:\n",
        "                a.append(numbers.index(i)+1)\n",
        "                if target-i!=i:\n",
        "                    a.append(numbers.index(target-i)+1)\n",
        "                else:\n",
        "                    a.append(len(numbers)-numbers[::-1].index(target-i))\n",
        "\n",
        "            if len(a)==2:\n",
        "                break\n",
        "        return a\n"
      ],
      "metadata": {
        "id": "95XunmY6Up9F"
      },
      "execution_count": null,
      "outputs": []
    },
    {
      "cell_type": "markdown",
      "source": [
        "You are given a string s consisting of lowercase English letters. A duplicate removal consists of choosing two adjacent and equal letters and removing them.\n",
        "\n",
        "We repeatedly make duplicate removals on s until we no longer can.\n",
        "\n",
        "Return the final string after all such duplicate removals have been made. It can be proven that the answer is unique.\n",
        "\n",
        "\n",
        "\n",
        "Example 1:\n",
        "\n",
        "Input: s = \"abbaca\"\n",
        "Output: \"ca\"\n",
        "Explanation:\n",
        "For example, in \"abbaca\" we could remove \"bb\" since the letters are adjacent and equal, and this is the only possible move.  The result of this move is that the string is \"aaca\", of which only \"aa\" is possible, so the final string is \"ca\".\n",
        "Example 2:\n",
        "\n",
        "Input: s = \"azxxzy\"\n",
        "Output: \"ay\"\n",
        "\n",
        "\n",
        "Constraints:\n",
        "\n",
        "1 <= s.length <= 105\n",
        "s consists of lowercase English letters."
      ],
      "metadata": {
        "id": "k0Ds12oUoSjJ"
      }
    },
    {
      "cell_type": "code",
      "source": [
        "class Solution:\n",
        "    def removeDuplicates(self, s: str) -> str:\n",
        "        l=list(s)\n",
        "        x=0\n",
        "        y=1\n",
        "        while y!=x:\n",
        "            y=len(l)\n",
        "            i=0\n",
        "            while i<len(l)-1:\n",
        "                if l[i]==l[i+1]:\n",
        "                    l.pop(i)\n",
        "                    l.pop(i)\n",
        "                else:\n",
        "                    i=i+1\n",
        "            x=len(l)\n",
        "        return ('').join(l)"
      ],
      "metadata": {
        "id": "UiOWBGNHoUKH"
      },
      "execution_count": null,
      "outputs": []
    },
    {
      "cell_type": "code",
      "source": [
        "class Solution:\n",
        "    def removeDuplicates(self, s: str) -> str:\n",
        "        list_1 = []\n",
        "        for i in s:\n",
        "            if list_1 and i==list_1[-1]:\n",
        "                list_1.pop()\n",
        "            else:\n",
        "                list_1.append(i)\n",
        "        return \"\".join(list_1)\n"
      ],
      "metadata": {
        "id": "C3vV0iazoZCP"
      },
      "execution_count": null,
      "outputs": []
    },
    {
      "cell_type": "markdown",
      "source": [
        "You are given an array of integers stones where stones[i] is the weight of the ith stone.\n",
        "\n",
        "We are playing a game with the stones. On each turn, we choose the heaviest two stones and smash them together. Suppose the heaviest two stones have weights x and y with x <= y. The result of this smash is:\n",
        "\n",
        "If x == y, both stones are destroyed, and\n",
        "If x != y, the stone of weight x is destroyed, and the stone of weight y has new weight y - x.\n",
        "At the end of the game, there is at most one stone left.\n",
        "\n",
        "Return the weight of the last remaining stone. If there are no stones left, return 0.\n",
        "\n",
        "\n",
        "\n",
        "Example 1:\n",
        "\n",
        "Input: stones = [2,7,4,1,8,1]\n",
        "Output: 1\n",
        "Explanation:\n",
        "We combine 7 and 8 to get 1 so the array converts to [2,4,1,1,1] then,\n",
        "we combine 2 and 4 to get 2 so the array converts to [2,1,1,1] then,\n",
        "we combine 2 and 1 to get 1 so the array converts to [1,1,1] then,\n",
        "we combine 1 and 1 to get 0 so the array converts to [1] then that's the value of the last stone.\n",
        "Example 2:\n",
        "\n",
        "Input: stones = [1]\n",
        "Output: 1\n",
        "\n",
        "\n",
        "Constraints:\n",
        "\n",
        "1 <= stones.length <= 30\n",
        "1 <= stones[i] <= 1000"
      ],
      "metadata": {
        "id": "4RSFFb3g1hL4"
      }
    },
    {
      "cell_type": "code",
      "source": [
        "class Solution:\n",
        "    def lastStoneWeight(self, stones: List[int]) -> int:\n",
        "        while len(stones)>1:\n",
        "            stones.sort(reverse = True)\n",
        "            if stones[0] > stones[1]:\n",
        "                stones[0]= stones[0]-stones[1]\n",
        "                del stones[1]\n",
        "            elif stones[0] == stones[1]:\n",
        "                del stones[0]\n",
        "                del stones[0]\n",
        "        return stones[0] if stones else 0\n",
        "\n",
        "\n"
      ],
      "metadata": {
        "id": "ACqUAIhG1FkR"
      },
      "execution_count": null,
      "outputs": []
    },
    {
      "cell_type": "code",
      "source": [
        "from sortedcontainers import SortedList\n",
        "\n",
        "class Solution:\n",
        "    def lastStoneWeight(self, stones: List[int]) -> int:\n",
        "        sorted_stones = SortedList(stones)\n",
        "\n",
        "        while len(sorted_stones) > 1:\n",
        "            first = sorted_stones.pop()\n",
        "            second = sorted_stones.pop()\n",
        "\n",
        "            if first != second:\n",
        "                sorted_stones.add(first - second)\n",
        "\n",
        "        return sorted_stones[0] if sorted_stones else 0\n"
      ],
      "metadata": {
        "id": "z2oP5RkV1dBo"
      },
      "execution_count": null,
      "outputs": []
    },
    {
      "cell_type": "markdown",
      "source": [],
      "metadata": {
        "id": "rO8L1PAEOAaB"
      }
    },
    {
      "cell_type": "code",
      "source": [
        "class Solution:\n",
        "    def longestStrChain(self, words: List[str]) -> int:\n",
        "        words.sort(key=len)\n",
        "        dp = {}\n",
        "        max_length = 1\n",
        "        for word in words:\n",
        "            dp[word] = 1\n",
        "\n",
        "            for i in  range(len(word)):\n",
        "                predecessor = word[:i] + word[i+1:]\n",
        "                if predecessor in dp:\n",
        "                    dp[word] = max(dp[word], dp[predecessor] + 1)\n",
        "                    max_length = max(max_length, dp[word])\n",
        "        return max_length"
      ],
      "metadata": {
        "id": "tu1qyerXN_hi"
      },
      "execution_count": null,
      "outputs": []
    },
    {
      "cell_type": "markdown",
      "source": [
        "\"You may recall that an array arr is a mountain array if and only if:\n",
        "\n",
        "arr.length >= 3\n",
        "There exists some index i (0-indexed) with 0 < i < arr.length - 1 such that:\n",
        "arr[0] < arr[1] < ... < arr[i - 1] < arr[i]\n",
        "arr[i] > arr[i + 1] > ... > arr[arr.length - 1]\n",
        "Given an integer array arr, return the length of the longest subarray, which is a mountain. Return 0 if there is no mountain subarray.\n",
        "\n",
        "\n",
        "\n",
        "Example 1:\n",
        "\n",
        "Input: arr = [2,1,4,7,3,2,5]\n",
        "Output: 5\n",
        "Explanation: The largest mountain is [1,4,7,3,2] which has length 5.\n",
        "Example 2:\n",
        "\n",
        "Input: arr = [2,2,2]\n",
        "Output: 0\n",
        "Explanation: There is no mountain.\n",
        " \""
      ],
      "metadata": {
        "id": "mH6UO3Jl64KK"
      }
    },
    {
      "cell_type": "code",
      "source": [
        "def longest_mountain(arr):\n",
        "    n = len(arr)\n",
        "    longest = 0\n",
        "\n",
        "    for i in range(1, n - 1):\n",
        "        # Check if arr[i] is a peak\n",
        "        if arr[i] > arr[i - 1] and arr[i] > arr[i + 1]:\n",
        "            # Initialize left and right pointers\n",
        "            left = i\n",
        "            right = i\n",
        "\n",
        "            # Expand left\n",
        "            while left > 0 and arr[left - 1] < arr[left]:\n",
        "                left -= 1\n",
        "\n",
        "            # Expand right\n",
        "            while right < n - 1 and arr[right + 1] < arr[right]:\n",
        "                right += 1\n",
        "\n",
        "            # Calculate the length of the mountain\n",
        "            current_length = right - left + 1\n",
        "            longest = max(longest, current_length)\n",
        "\n",
        "    return longest\n",
        "\n",
        "# Example usage:\n",
        "arr1 = [2, 1, 4, 7, 3, 2, 5]\n",
        "print(longest_mountain(arr1))  # Output: 5\n",
        "\n",
        "arr2 = [2, 2, 2]\n",
        "print(longest_mountain(arr2))  # Output: 0\n"
      ],
      "metadata": {
        "id": "NQ3h59qv63CT"
      },
      "execution_count": null,
      "outputs": []
    }
  ],
  "metadata": {
    "colab": {
      "toc_visible": true,
      "provenance": [],
      "include_colab_link": true
    },
    "kernelspec": {
      "display_name": "Python 3",
      "name": "python3"
    }
  },
  "nbformat": 4,
  "nbformat_minor": 0
}