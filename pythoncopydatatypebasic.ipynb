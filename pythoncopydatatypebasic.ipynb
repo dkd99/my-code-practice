{
  "cells": [
    {
      "cell_type": "markdown",
      "metadata": {
        "id": "view-in-github",
        "colab_type": "text"
      },
      "source": [
        "<a href=\"https://colab.research.google.com/github/dkd99/my-code-practice/blob/main/pythoncopydatatypebasic.ipynb\" target=\"_parent\"><img src=\"https://colab.research.google.com/assets/colab-badge.svg\" alt=\"Open In Colab\"/></a>"
      ]
    },
    {
      "cell_type": "code",
      "source": [
        "a=20\n",
        "b=20\n",
        "a is b"
      ],
      "metadata": {
        "id": "tIM_qDpVGOu4",
        "outputId": "486fc73c-1545-4ab4-ad4c-8a107cd74055",
        "colab": {
          "base_uri": "https://localhost:8080/"
        }
      },
      "execution_count": 1,
      "outputs": [
        {
          "output_type": "execute_result",
          "data": {
            "text/plain": [
              "True"
            ]
          },
          "metadata": {},
          "execution_count": 1
        }
      ]
    },
    {
      "cell_type": "code",
      "source": [
        "print(id(a))"
      ],
      "metadata": {
        "id": "MC0eowB0GXQQ",
        "outputId": "03329750-6676-4e32-a4ae-e247065e03ca",
        "colab": {
          "base_uri": "https://localhost:8080/"
        }
      },
      "execution_count": 3,
      "outputs": [
        {
          "output_type": "stream",
          "name": "stdout",
          "text": [
            "140245911159632\n"
          ]
        }
      ]
    },
    {
      "cell_type": "code",
      "source": [
        "print(id(b))"
      ],
      "metadata": {
        "id": "ajQPLcc_Gz1_",
        "outputId": "f7f19bbd-044c-4a7e-c61a-974bd1aa32d9",
        "colab": {
          "base_uri": "https://localhost:8080/"
        }
      },
      "execution_count": 4,
      "outputs": [
        {
          "output_type": "stream",
          "name": "stdout",
          "text": [
            "140245911159632\n"
          ]
        }
      ]
    },
    {
      "cell_type": "code",
      "source": [
        "print(id(b*2))"
      ],
      "metadata": {
        "id": "so58JFwgHB0Z",
        "outputId": "51fc43ab-b124-4971-f203-d5d65815a357",
        "colab": {
          "base_uri": "https://localhost:8080/"
        }
      },
      "execution_count": 5,
      "outputs": [
        {
          "output_type": "stream",
          "name": "stdout",
          "text": [
            "140245911160272\n"
          ]
        }
      ]
    },
    {
      "cell_type": "code",
      "source": [
        "b=b*2"
      ],
      "metadata": {
        "id": "0qxHkSI6HMlJ"
      },
      "execution_count": 6,
      "outputs": []
    },
    {
      "cell_type": "code",
      "source": [
        "print(id(b))"
      ],
      "metadata": {
        "id": "ma1oZa_NHQjN",
        "outputId": "c8c6a9b9-887e-4db7-d7e0-fe7dba5a0f92",
        "colab": {
          "base_uri": "https://localhost:8080/"
        }
      },
      "execution_count": 7,
      "outputs": [
        {
          "output_type": "stream",
          "name": "stdout",
          "text": [
            "140245911160272\n"
          ]
        }
      ]
    },
    {
      "cell_type": "code",
      "source": [
        "a=a*2"
      ],
      "metadata": {
        "id": "MLJvbTvCT5sg"
      },
      "execution_count": 8,
      "outputs": []
    },
    {
      "cell_type": "code",
      "source": [
        "print(id(a))"
      ],
      "metadata": {
        "id": "decp6iIMUKIA",
        "outputId": "824b0836-5daa-40b0-f9ee-bc91a0c6d553",
        "colab": {
          "base_uri": "https://localhost:8080/"
        }
      },
      "execution_count": 10,
      "outputs": [
        {
          "output_type": "stream",
          "name": "stdout",
          "text": [
            "140245911160272\n"
          ]
        }
      ]
    },
    {
      "cell_type": "code",
      "source": [
        "a='deepak'\n",
        "b='deepak'"
      ],
      "metadata": {
        "id": "YBZ6JBMeUWtZ"
      },
      "execution_count": 11,
      "outputs": []
    },
    {
      "cell_type": "code",
      "source": [
        "print(id(a))"
      ],
      "metadata": {
        "id": "Lz4poWewUatN",
        "outputId": "9da2c1ac-f7ee-4af1-b441-74544f6976da",
        "colab": {
          "base_uri": "https://localhost:8080/"
        }
      },
      "execution_count": 12,
      "outputs": [
        {
          "output_type": "stream",
          "name": "stdout",
          "text": [
            "140244660883952\n"
          ]
        }
      ]
    },
    {
      "cell_type": "code",
      "source": [
        "print(id(b))"
      ],
      "metadata": {
        "id": "UrQ-qqRmUcpC",
        "outputId": "796e66e0-48c6-459b-ff62-880161d3d4bc",
        "colab": {
          "base_uri": "https://localhost:8080/"
        }
      },
      "execution_count": 13,
      "outputs": [
        {
          "output_type": "stream",
          "name": "stdout",
          "text": [
            "140244660883952\n"
          ]
        }
      ]
    },
    {
      "cell_type": "code",
      "source": [
        "a is b"
      ],
      "metadata": {
        "id": "zrT_pjQ8Uh1s",
        "outputId": "ee2392c0-2d94-4058-8333-281ab5501b7d",
        "colab": {
          "base_uri": "https://localhost:8080/"
        }
      },
      "execution_count": 14,
      "outputs": [
        {
          "output_type": "execute_result",
          "data": {
            "text/plain": [
              "True"
            ]
          },
          "metadata": {},
          "execution_count": 14
        }
      ]
    },
    {
      "cell_type": "code",
      "source": [
        "a=[[1,2],2,3]\n",
        "b=[1,2,3]"
      ],
      "metadata": {
        "id": "1-YVXclHUk4e"
      },
      "execution_count": 28,
      "outputs": []
    },
    {
      "cell_type": "code",
      "source": [
        "c=a.copy()"
      ],
      "metadata": {
        "id": "ItSfwZrgUvrf"
      },
      "execution_count": 29,
      "outputs": []
    },
    {
      "cell_type": "code",
      "source": [
        "print(id(c[0][1]))"
      ],
      "metadata": {
        "id": "5cmqqlGNVBLE",
        "outputId": "596f8ae5-88b8-44b4-cfdc-57494b83211e",
        "colab": {
          "base_uri": "https://localhost:8080/"
        }
      },
      "execution_count": 30,
      "outputs": [
        {
          "output_type": "stream",
          "name": "stdout",
          "text": [
            "140245911159056\n"
          ]
        }
      ]
    },
    {
      "cell_type": "code",
      "source": [
        "print(id(a[0][1]))"
      ],
      "metadata": {
        "id": "xP1McSxcVD84",
        "outputId": "aa11d54b-c132-44d0-d979-6a262ba66a35",
        "colab": {
          "base_uri": "https://localhost:8080/"
        }
      },
      "execution_count": 31,
      "outputs": [
        {
          "output_type": "stream",
          "name": "stdout",
          "text": [
            "140245911159056\n"
          ]
        }
      ]
    },
    {
      "cell_type": "code",
      "source": [
        "c[0][1]=3"
      ],
      "metadata": {
        "id": "T6qUd3FTVRPX"
      },
      "execution_count": 32,
      "outputs": []
    },
    {
      "cell_type": "code",
      "source": [
        "a"
      ],
      "metadata": {
        "id": "VddJMc9uVTgJ",
        "outputId": "a770e191-0435-4eca-d7c4-42a95cb8b0a6",
        "colab": {
          "base_uri": "https://localhost:8080/"
        }
      },
      "execution_count": 33,
      "outputs": [
        {
          "output_type": "execute_result",
          "data": {
            "text/plain": [
              "[[1, 3], 2, 3]"
            ]
          },
          "metadata": {},
          "execution_count": 33
        }
      ]
    },
    {
      "cell_type": "code",
      "source": [
        "a=1,2,3"
      ],
      "metadata": {
        "id": "By3auBdNXD79"
      },
      "execution_count": 34,
      "outputs": []
    },
    {
      "cell_type": "code",
      "source": [
        "type(a)"
      ],
      "metadata": {
        "id": "yeaa6ucDXGd-",
        "outputId": "22241b80-380c-4fa5-c3c3-851af8cc0402",
        "colab": {
          "base_uri": "https://localhost:8080/"
        }
      },
      "execution_count": 35,
      "outputs": [
        {
          "output_type": "execute_result",
          "data": {
            "text/plain": [
              "tuple"
            ]
          },
          "metadata": {},
          "execution_count": 35
        }
      ]
    },
    {
      "cell_type": "code",
      "source": [
        "a=1+2j\n",
        "print(isinstance(a,complex))"
      ],
      "metadata": {
        "id": "NPH3WMoNXzFl",
        "outputId": "e8a8993b-ce77-49ba-8ff1-f162e305372d",
        "colab": {
          "base_uri": "https://localhost:8080/"
        }
      },
      "execution_count": 36,
      "outputs": [
        {
          "output_type": "stream",
          "name": "stdout",
          "text": [
            "True\n"
          ]
        }
      ]
    },
    {
      "cell_type": "code",
      "source": [
        "a=1"
      ],
      "metadata": {
        "id": "alufxB0dX8ov"
      },
      "execution_count": 37,
      "outputs": []
    },
    {
      "cell_type": "code",
      "source": [
        "print(isinstance(a,int))"
      ],
      "metadata": {
        "id": "6iAvgiyQX_Ef",
        "outputId": "c325aacc-62bc-46e3-a2e1-0aaa0ee50ed1",
        "colab": {
          "base_uri": "https://localhost:8080/"
        }
      },
      "execution_count": 39,
      "outputs": [
        {
          "output_type": "stream",
          "name": "stdout",
          "text": [
            "True\n"
          ]
        }
      ]
    },
    {
      "cell_type": "code",
      "source": [],
      "metadata": {
        "id": "Cr4YkXk0YKS2"
      },
      "execution_count": null,
      "outputs": []
    }
  ],
  "metadata": {
    "colab": {
      "name": "Welcome To Colaboratory",
      "toc_visible": true,
      "provenance": [],
      "include_colab_link": true
    },
    "kernelspec": {
      "display_name": "Python 3",
      "name": "python3"
    }
  },
  "nbformat": 4,
  "nbformat_minor": 0
}