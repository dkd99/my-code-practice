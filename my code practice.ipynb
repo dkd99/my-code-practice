{
  "cells": [
    {
      "cell_type": "markdown",
      "metadata": {
        "id": "view-in-github",
        "colab_type": "text"
      },
      "source": [
        "<a href=\"https://colab.research.google.com/github/dkd99/my-code-practice/blob/main/my%20code%20practice.ipynb\" target=\"_parent\"><img src=\"https://colab.research.google.com/assets/colab-badge.svg\" alt=\"Open In Colab\"/></a>"
      ]
    },
    {
      "cell_type": "code",
      "source": [
        "def fun(x,y):\n",
        "  b=[]\n",
        "  for i in range(x,y+1):\n",
        "    a=[]\n",
        "    for x in range(1,i+1):\n",
        "      if i%x==0:\n",
        "        a.append(x)\n",
        "    if len(a)>2:\n",
        "      b.append(i)\n",
        "  return b"
      ],
      "metadata": {
        "id": "DhIzcZHaAYOR"
      },
      "execution_count": 29,
      "outputs": []
    },
    {
      "cell_type": "code",
      "source": [
        "fun(52,61)"
      ],
      "metadata": {
        "id": "xfzYIEiGBwW8",
        "outputId": "c998b27f-35af-4969-cb46-a77efe91cf0e",
        "colab": {
          "base_uri": "https://localhost:8080/"
        }
      },
      "execution_count": 30,
      "outputs": [
        {
          "output_type": "execute_result",
          "data": {
            "text/plain": [
              "[52, 54, 55, 56, 57, 58, 60]"
            ]
          },
          "metadata": {},
          "execution_count": 30
        }
      ]
    },
    {
      "cell_type": "code",
      "source": [
        "fun(2,10)"
      ],
      "metadata": {
        "id": "etJL4ynUkyny",
        "outputId": "f4982f59-f32c-4f0f-bf2b-71c82e75160e",
        "colab": {
          "base_uri": "https://localhost:8080/"
        }
      },
      "execution_count": 31,
      "outputs": [
        {
          "output_type": "execute_result",
          "data": {
            "text/plain": [
              "[4, 6, 8, 9, 10]"
            ]
          },
          "metadata": {},
          "execution_count": 31
        }
      ]
    },
    {
      "cell_type": "code",
      "source": [
        "def fun(s):\n",
        "  d={}\n",
        "  a=list(set(list(s)))\n",
        "  x=len(a)\n",
        "  for i in a:\n",
        "    d[i]=0\n",
        "  for i in list(s):\n",
        "     d[i]=d[i]+1\n",
        "  return d,x\n",
        "\n"
      ],
      "metadata": {
        "id": "P7t9pMC5CYfp"
      },
      "execution_count": 13,
      "outputs": []
    },
    {
      "cell_type": "code",
      "source": [
        "fun('deepak')"
      ],
      "metadata": {
        "id": "fZaUDEDpDdkX",
        "outputId": "cbead6cf-0625-43f8-9ae3-2a8c0e07a4b1",
        "colab": {
          "base_uri": "https://localhost:8080/"
        }
      },
      "execution_count": 14,
      "outputs": [
        {
          "output_type": "execute_result",
          "data": {
            "text/plain": [
              "({'k': 1, 'd': 1, 'e': 2, 'p': 1, 'a': 1}, 5)"
            ]
          },
          "metadata": {},
          "execution_count": 14
        }
      ]
    },
    {
      "cell_type": "code",
      "source": [
        "a= [8,8,8,5,5,4,2,1,3,7,5]\n",
        "b=[]\n",
        "d={}\n",
        "for i in a:\n",
        "  if i in d.keys():\n",
        "    pass\n",
        "  else:\n",
        "    d[i]=0\n",
        "for i in a:\n",
        "  d[i]=d[i]+1\n",
        "print(d)\n",
        "maximum=max(list(d.values()))\n",
        "for i in d.keys():\n",
        "  if d[i]==maximum:\n",
        "    b.append(i)\n",
        "\n",
        "print(b)\n",
        "\n",
        "\n"
      ],
      "metadata": {
        "id": "KsSQOMO0G4aP",
        "outputId": "6cb104cb-7424-4655-918f-ad0cbc826a8b",
        "colab": {
          "base_uri": "https://localhost:8080/"
        }
      },
      "execution_count": 21,
      "outputs": [
        {
          "output_type": "stream",
          "name": "stdout",
          "text": [
            "{8: 3, 5: 3, 4: 1, 2: 1, 1: 1, 3: 1, 7: 1}\n",
            "[8, 5]\n"
          ]
        }
      ]
    },
    {
      "cell_type": "code",
      "source": [
        "df.Age[~df['Name'].isin(['xyz','mnu'])]=22"
      ],
      "metadata": {
        "id": "dB9OacphMW6p"
      },
      "execution_count": null,
      "outputs": []
    },
    {
      "cell_type": "code",
      "source": [
        "37.21>37.2"
      ],
      "metadata": {
        "id": "Q3O2PnKYNGMR",
        "outputId": "657466cf-0054-4114-a6f5-40f4079d40eb",
        "colab": {
          "base_uri": "https://localhost:8080/"
        }
      },
      "execution_count": 1,
      "outputs": [
        {
          "output_type": "execute_result",
          "data": {
            "text/plain": [
              "True"
            ]
          },
          "metadata": {},
          "execution_count": 1
        }
      ]
    },
    {
      "cell_type": "code",
      "source": [
        "b=[]\n",
        "for _ in range(2):\n",
        "    name = input()\n",
        "    score = float(input())\n",
        "    a=[name,score]\n",
        "    b.append(a)"
      ],
      "metadata": {
        "id": "qh5SUIH9UV2x",
        "outputId": "920547dc-0e83-4392-b044-0c9285bed31d",
        "colab": {
          "base_uri": "https://localhost:8080/"
        }
      },
      "execution_count": 2,
      "outputs": [
        {
          "name": "stdout",
          "output_type": "stream",
          "text": [
            "'1'\n",
            "2\n",
            "'3\n",
            "4\n"
          ]
        }
      ]
    },
    {
      "cell_type": "code",
      "source": [
        "print(b)"
      ],
      "metadata": {
        "id": "je5IyH4sUuwF",
        "outputId": "7741c5e4-a78b-4918-84b8-1805f329a231",
        "colab": {
          "base_uri": "https://localhost:8080/"
        }
      },
      "execution_count": 3,
      "outputs": [
        {
          "output_type": "stream",
          "name": "stdout",
          "text": [
            "[[\"'1'\", 2.0], [\"'3\", 4.0]]\n"
          ]
        }
      ]
    },
    {
      "cell_type": "code",
      "source": [
        "dict(b)"
      ],
      "metadata": {
        "id": "AdylqdNTWj96",
        "outputId": "8f6b57ae-13f5-4aa5-b2e4-069d7f73281c",
        "colab": {
          "base_uri": "https://localhost:8080/"
        }
      },
      "execution_count": 4,
      "outputs": [
        {
          "output_type": "execute_result",
          "data": {
            "text/plain": [
              "{\"'1'\": 2.0, \"'3\": 4.0}"
            ]
          },
          "metadata": {},
          "execution_count": 4
        }
      ]
    },
    {
      "cell_type": "code",
      "source": [
        "a=[1,2,3]\n",
        "print(a.sort(reverse=True))\n",
        "print(a[:2])\n"
      ],
      "metadata": {
        "id": "2t8QXEDsZZL7",
        "outputId": "ffe70e84-bcf9-4e88-92be-bb3d8d01ad89",
        "colab": {
          "base_uri": "https://localhost:8080/"
        }
      },
      "execution_count": 24,
      "outputs": [
        {
          "output_type": "stream",
          "name": "stdout",
          "text": [
            "None\n",
            "[3, 2]\n"
          ]
        }
      ]
    },
    {
      "cell_type": "code",
      "source": [
        "min([1,1,1,5,6])"
      ],
      "metadata": {
        "id": "aYPUTr2NaC79",
        "outputId": "484d5237-fa4b-4236-c0ea-9d17343701b3",
        "colab": {
          "base_uri": "https://localhost:8080/"
        }
      },
      "execution_count": 9,
      "outputs": [
        {
          "output_type": "execute_result",
          "data": {
            "text/plain": [
              "1"
            ]
          },
          "metadata": {},
          "execution_count": 9
        }
      ]
    },
    {
      "cell_type": "code",
      "source": [
        "37.21==37.21"
      ],
      "metadata": {
        "id": "uGF3nIFFc3cG",
        "outputId": "196e35ef-797f-4ced-e4d1-8887cf337008",
        "colab": {
          "base_uri": "https://localhost:8080/"
        }
      },
      "execution_count": 10,
      "outputs": [
        {
          "output_type": "execute_result",
          "data": {
            "text/plain": [
              "True"
            ]
          },
          "metadata": {},
          "execution_count": 10
        }
      ]
    },
    {
      "cell_type": "code",
      "source": [
        "    z=[]\n",
        "    a=[]\n",
        "    c=[]\n",
        "    b=[['Harry', 37.21], ['Berry', 37.21], ['Tina', 37.2], ['Akriti', 41], ['Harsh', 39]]\n",
        "    d=dict(b)\n",
        "    mark=list(d.values())\n",
        "    min_mark=min(mark)\n",
        "    x=0\n",
        "    for i in mark:\n",
        "        if i==min_mark:\n",
        "            x=x+1\n",
        "    if x>1:\n",
        "        for i in list(d.keys()):\n",
        "            if d[i]==min_mark:\n",
        "                a.append(i)\n",
        "        print(a.sort())\n",
        "    else:\n",
        "        x=0\n",
        "        mark.remove(min_mark)\n",
        "        s_min_mark=min(mark)\n",
        "        for i in list(d.keys()):\n",
        "            if d[i]==s_min_mark:\n",
        "                a.append(i)\n",
        "        for i in mark:\n",
        "            if i==s_min_mark:\n",
        "                x=x+1\n",
        "            if x>1:\n",
        "                for i in list(d.keys()):\n",
        "                    if d[i]==min_mark:\n",
        "                        c.append(i)\n",
        "                c.sort()\n",
        "            else:\n",
        "                for i in list(d.keys()):\n",
        "                    if d[i]==min_mark:\n",
        "                        c.append(i)\n",
        "    z.append(a[0])\n",
        "    z.append(c[0])\n",
        "    print(z)"
      ],
      "metadata": {
        "id": "AiKjNv7GdIbW",
        "outputId": "1cbea917-795d-4d61-b83e-04cc774c04e5",
        "colab": {
          "base_uri": "https://localhost:8080/"
        }
      },
      "execution_count": 20,
      "outputs": [
        {
          "output_type": "stream",
          "name": "stdout",
          "text": [
            "['Harry', 'Tina']\n"
          ]
        }
      ]
    },
    {
      "cell_type": "code",
      "source": [
        "min_mark"
      ],
      "metadata": {
        "id": "_CHdtQNnefoN",
        "outputId": "496ac113-2301-4c3e-dd8c-4226a96df552",
        "colab": {
          "base_uri": "https://localhost:8080/"
        }
      },
      "execution_count": 21,
      "outputs": [
        {
          "output_type": "execute_result",
          "data": {
            "text/plain": [
              "37.2"
            ]
          },
          "metadata": {},
          "execution_count": 21
        }
      ]
    },
    {
      "cell_type": "code",
      "source": [
        "mark"
      ],
      "metadata": {
        "id": "DN6TrpKfezn5",
        "outputId": "78a8cf4f-5afd-43a4-e172-2176e97d4d15",
        "colab": {
          "base_uri": "https://localhost:8080/"
        }
      },
      "execution_count": 22,
      "outputs": [
        {
          "output_type": "execute_result",
          "data": {
            "text/plain": [
              "[37.21, 37.21, 41, 39]"
            ]
          },
          "metadata": {},
          "execution_count": 22
        }
      ]
    },
    {
      "cell_type": "code",
      "source": [
        "    b=[['Harry', 37.21], ['Berry', 37.21], ['Tina', 37.2], ['Akriti', 41], ['Harsh', 39]]\n",
        "    a=[]\n",
        "    c=[]\n",
        "    d=dict(b)\n",
        "    mark=list(d.values())\n",
        "    min_mark=min(mark)\n",
        "    \n",
        "    \n",
        "    x=0\n",
        "    mark.remove(min_mark)\n",
        "    s_min_mark=min(mark)\n",
        "    for i in list(d.keys()):\n",
        "        if d[i]==s_min_mark:\n",
        "            a.append(i)\n",
        "    for i in mark:\n",
        "        if i==s_min_mark:\n",
        "            x=x+1\n",
        "    if x>1:\n",
        "        for i in list(d.keys()):\n",
        "            if d[i]==s_min_mark:\n",
        "                c.append(i)\n",
        "        c.sort()\n",
        "    else:\n",
        "        for i in list(d.keys()):\n",
        "            if d[i]==min_mark:\n",
        "                c.append(i)\n",
        "    for i in c:\n",
        "        print(i)"
      ],
      "metadata": {
        "id": "_S6L81aWdVZu",
        "outputId": "d00b63bf-c62c-44d2-9b2b-28d9ccc30700",
        "colab": {
          "base_uri": "https://localhost:8080/"
        }
      },
      "execution_count": 31,
      "outputs": [
        {
          "output_type": "stream",
          "name": "stdout",
          "text": [
            "Berry\n",
            "Harry\n"
          ]
        }
      ]
    },
    {
      "cell_type": "code",
      "source": [
        "if __name__ == '__main__':\n",
        "    z=[]\n",
        "    b=[]\n",
        "    a=[]\n",
        "    c=[]\n",
        "    for _ in range(int(input())):\n",
        "        name = input()\n",
        "        score = float(input())\n",
        "        a=[name,score]\n",
        "        b.append(a)\n",
        "    d=dict(b)\n",
        "    mark=list(d.values())\n",
        "    min_mark=min(mark)\n",
        "    \n",
        "    \n",
        "    x=0\n",
        "    new_mark=[i for i in mark if i!=min_mark]\n",
        "    s_min_mark=min(new_mark)\n",
        "    for i in list(d.keys()):\n",
        "        if d[i]==s_min_mark:\n",
        "            a.append(i)\n",
        "    for i in new_mark:\n",
        "        if i==s_min_mark:\n",
        "            x=x+1\n",
        "    if x>1:\n",
        "        for i in list(d.keys()):\n",
        "            if d[i]==s_min_mark:\n",
        "                c.append(i)\n",
        "                c.sort()\n",
        "    else:\n",
        "        for i in list(d.keys()):\n",
        "            if d[i]==s_min_mark:\n",
        "                c.append(i)\n",
        "    if len(c)>2:\n",
        "        for i in c[:2]:\n",
        "            print(i)\n",
        "    else:\n",
        "        for i in c:\n",
        "            print(i)"
      ],
      "metadata": {
        "id": "TOi2Hggfkif9",
        "outputId": "601967bd-48b4-4a15-8dca-23bea1058390",
        "colab": {
          "base_uri": "https://localhost:8080/"
        }
      },
      "execution_count": 27,
      "outputs": [
        {
          "output_type": "execute_result",
          "data": {
            "text/plain": [
              "37.21"
            ]
          },
          "metadata": {},
          "execution_count": 27
        }
      ]
    }
  ],
  "metadata": {
    "colab": {
      "name": "Welcome To Colaboratory",
      "toc_visible": true,
      "provenance": [],
      "include_colab_link": true
    },
    "kernelspec": {
      "display_name": "Python 3",
      "name": "python3"
    }
  },
  "nbformat": 4,
  "nbformat_minor": 0
}