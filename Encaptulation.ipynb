{
  "cells": [
    {
      "cell_type": "markdown",
      "metadata": {
        "id": "view-in-github",
        "colab_type": "text"
      },
      "source": [
        "<a href=\"https://colab.research.google.com/github/dkd99/my-code-practice/blob/main/Encaptulation.ipynb\" target=\"_parent\"><img src=\"https://colab.research.google.com/assets/colab-badge.svg\" alt=\"Open In Colab\"/></a>"
      ]
    },
    {
      "cell_type": "code",
      "source": [
        "class MyClass:\n",
        "    def __init__(self):\n",
        "        self.__private_attr = 42  # Private attribute\n",
        "\n",
        "    def __private_method(self):\n",
        "        return \"This is a private method\"\n",
        "\n",
        "    def public_method(self):\n",
        "        return self.__private_method()\n",
        "    def get(self):\n",
        "      return self.__private_attr\n",
        "\n",
        "# Example Usage\n",
        "obj = MyClass()\n",
        "obj.get()\n",
        "\n",
        "# Accessing the private attribute directly will raise an error\n",
        "# print(obj.__private_attr)  # AttributeError: 'MyClass' object has no attribute '__private_attr'\n",
        "\n",
        "# However, you can still access it using the mangled name (not recommended)\n",
        "print(obj._MyClass__private_attr)  # Outputs: 42\n",
        "\n",
        "# Similarly, you can call the private method using the mangled name (not recommended)\n",
        "print(obj._MyClass__private_method())  # Outputs: This is a private method\n",
        "\n",
        "# Access through the public method\n",
        "print(obj.public_method())  # Outputs: This is a private method\n"
      ],
      "metadata": {
        "id": "BUX9hAJp9ggS",
        "outputId": "7882fded-0de8-4224-d3c9-6f2d0b75fea6",
        "colab": {
          "base_uri": "https://localhost:8080/"
        }
      },
      "execution_count": null,
      "outputs": [
        {
          "output_type": "stream",
          "name": "stdout",
          "text": [
            "42\n",
            "This is a private method\n",
            "This is a private method\n"
          ]
        }
      ]
    },
    {
      "cell_type": "markdown",
      "source": [
        "In Python, using double underscores (__) for attributes and methods is a way to enforce stronger encapsulation compared to single underscores (_). Both __ and _ serve different purposes in terms of visibility and access control. Let's dive into their differences, use cases, and why __ (name mangling) is used.\n",
        "\n",
        "1. Single Underscore (_)\n",
        "Purpose:\n",
        "\n",
        "Convention for \"Protected\" Attributes: In Python, a single underscore (_) before an attribute or method name is a convention that signals to other developers that the attribute or method is intended to be private or protected. It's a weak form of encapsulation.\n",
        "Not Enforced by Python: This is purely a convention and does not affect how Python actually handles the attribute. It’s more about developer discipline and code readability."
      ],
      "metadata": {
        "id": "vCHuGBz5_D8y"
      }
    },
    {
      "cell_type": "code",
      "source": [
        "class MyClass:\n",
        "    def __init__(self):\n",
        "        self._protected_attr = \"I am protected\"\n",
        "\n",
        "    def get_protected_attr(self):\n",
        "        return self._protected_attr\n",
        "\n",
        "# Example Usage\n",
        "obj = MyClass()\n",
        "print(obj.get_protected_attr())  # Outputs: I am protected\n",
        "\n",
        "# Direct access is possible (not recommended)\n",
        "print(obj._protected_attr)  # Outputs: I am protected\n"
      ],
      "metadata": {
        "id": "nkF_I-8T9i1g"
      },
      "execution_count": null,
      "outputs": []
    },
    {
      "cell_type": "markdown",
      "source": [
        "Explanation:\n",
        "\n",
        "_protected_attr is intended to be used only within the class or its subclasses, but it can still be accessed directly."
      ],
      "metadata": {
        "id": "vVLfBJR8_It3"
      }
    },
    {
      "cell_type": "markdown",
      "source": [
        "2. Double Underscore (__)\n",
        "Purpose:\n",
        "\n",
        "Name Mangling for Stronger Encapsulation: Double underscores (__) trigger name mangling, which changes the attribute or method name to include the class name. This is intended to prevent accidental overrides or access in subclasses.\n",
        "Prevent Accidental Overriding: By mangling the name, it ensures that subclasses do not accidentally override the private attributes or methods.\n"
      ],
      "metadata": {
        "id": "zjQOtx9X_NI0"
      }
    },
    {
      "cell_type": "code",
      "source": [
        "class Parent:\n",
        "    def __init__(self):\n",
        "        self.__private_attr = \"I am private\"\n",
        "\n",
        "    def get_private_attr(self):\n",
        "        return self.__private_attr\n",
        "\n",
        "class Child(Parent):\n",
        "    def __init__(self):\n",
        "        super().__init__()\n",
        "        self.__private_attr = \"I am child private\"\n",
        "\n",
        "    def get_child_attr(self):\n",
        "        return self.__private_attr\n",
        "\n",
        "# Example Usage\n",
        "obj = Child()\n",
        "print(obj.get_private_attr())  # Outputs: I am private\n",
        "print(obj.get_child_attr())    # Outputs: I am child private\n",
        "\n",
        "# Accessing the mangled names directly (not recommended)\n",
        "print(obj._Parent__private_attr)  # Outputs: I am private\n",
        "print(obj._Child__private_attr)   # Outputs: I am child private\n"
      ],
      "metadata": {
        "id": "LYF9-l7p_Qwo"
      },
      "execution_count": null,
      "outputs": []
    },
    {
      "cell_type": "markdown",
      "source": [
        "Explanation:\n",
        "\n",
        "__private_attr in Parent gets mangled to _Parent__private_attr.\n",
        "__private_attr in Child gets mangled to _Child__private_attr.\n",
        "This prevents Child from accidentally overriding Parent's __private_attr and vice versa, though the mangled names are still accessible if explicitly sought.\n",
        "Why Name Mangling is Needed\n",
        "Prevent Accidental Access and Override:\n",
        "\n",
        "Name mangling helps prevent accidental modification or overriding of private attributes and methods in subclasses. It ensures that the internal state and behavior of the base class are protected from unintended changes by subclasses.\n",
        "Encapsulation:\n",
        "\n",
        "It enforces better encapsulation by making it less obvious for subclasses or external code to access or modify the internal details of a class.\n",
        "Avoid Conflicts in Complex Inheritance:\n",
        "\n",
        "In complex class hierarchies, name mangling helps avoid name collisions and keeps the internal implementation details hidden.\n",
        "Comparison of _ vs __:\n",
        "Single Underscore (_):\n",
        "\n",
        "Indicates a non-public attribute or method by convention.\n",
        "Does not prevent access; it's up to developers to respect the convention.\n",
        "Double Underscore (__):\n",
        "\n",
        "Triggers name mangling, which changes the attribute or method name to include the class name.\n",
        "Provides stronger encapsulation by making it harder (but not impossible) for subclasses to override or access the attribute or method.\n",
        "Summary:\n",
        "Single Underscore (_) is a convention for protected or non-public attributes and methods but does not enforce any access restrictions.\n",
        "Double Underscore (__) uses name mangling to prevent accidental access or override, providing a stronger form of encapsulation. It helps protect the internal state of a class and maintain a clear boundary between class internals and external access."
      ],
      "metadata": {
        "id": "snkVrIeO_TXG"
      }
    },
    {
      "cell_type": "markdown",
      "source": [
        "When we say that name mangling with double underscores (__) makes it \"difficult (but not impossible)\" for subclasses to accidentally override or access these attributes, it means that while the double underscore prefix renames the attribute or method to something less predictable (and thus makes it harder to access or override), it doesn't fully prevent access. It just changes the name in a way that avoids accidental conflicts.\n",
        "\n",
        "Example Without Name Mangling\n",
        "Let's first look at an example without name mangling:"
      ],
      "metadata": {
        "id": "3wxLIy0B_e2Z"
      }
    },
    {
      "cell_type": "code",
      "source": [
        "class Parent:\n",
        "    def __init__(self):\n",
        "        self.attr = \"Parent attribute\"\n",
        "\n",
        "class Child(Parent):\n",
        "    def __init__(self):\n",
        "        super().__init__()\n",
        "        self.attr = \"Child attribute\"\n",
        "\n",
        "# Example Usage\n",
        "obj = Child()\n",
        "print(obj.attr)  # Outputs: \"Child attribute\"\n"
      ],
      "metadata": {
        "id": "6ljZwKs-_ni4"
      },
      "execution_count": null,
      "outputs": []
    },
    {
      "cell_type": "markdown",
      "source": [
        "Explanation:\n",
        "Here, the Child class overrides the attr attribute defined in the Parent class.\n",
        "When you access obj.attr, it refers to the Child class's attr because the attribute is directly overridden.\n",
        "Example With Name Mangling\n",
        "Now, let's look at the same example, but with name mangling:"
      ],
      "metadata": {
        "id": "02x93n4O_qHm"
      }
    },
    {
      "cell_type": "code",
      "source": [
        "class Parent:\n",
        "    def __init__(self):\n",
        "        self.__attr = \"Parent attribute\"  # Private attribute\n",
        "\n",
        "    def get_attr(self):\n",
        "        return self.__attr\n",
        "\n",
        "class Child(Parent):\n",
        "    def __init__(self):\n",
        "        super().__init__()\n",
        "        self.__attr = \"Child attribute\"  # This is not overriding the Parent's __attr\n",
        "\n",
        "    def get_child_attr(self):\n",
        "        return self.__attr\n",
        "\n",
        "# Example Usage\n",
        "obj = Child()\n",
        "print(obj.get_attr())        # Outputs: \"Parent attribute\"\n",
        "print(obj.get_child_attr())  # Outputs: \"Child attribute\"\n"
      ],
      "metadata": {
        "id": "PL-4ZISi_wlI"
      },
      "execution_count": null,
      "outputs": []
    },
    {
      "cell_type": "markdown",
      "source": [
        "Explanation:\n",
        "In the Parent class, the __attr attribute is private due to the double underscore. It gets name-mangled to _Parent__attr.\n",
        "In the Child class, when you try to define __attr, it doesn't override the Parent's __attr. Instead, Python name-mangles it to _Child__attr.\n",
        "The two attributes, despite having the same apparent name (__attr), are actually different due to name mangling:\n",
        "Parent's __attr becomes _Parent__attr.\n",
        "Child's __attr becomes _Child__attr.\n",
        "Therefore, calling get_attr() retrieves the Parent's version of the attribute, while get_child_attr() retrieves the Child's version.\n",
        "Why This is Useful:\n",
        "Avoid Accidental Overrides: The Child class cannot accidentally override Parent's __attr because of name mangling. This ensures that the Parent class's internal state remains intact.\n",
        "Encapsulation: The Parent class's __attr is protected from accidental access or modification by subclasses.\n",
        "Accessing the Mangled Attribute:\n",
        "Even though the attribute is name-mangled, you can still access it directly using the mangled name, but it's not recommended:"
      ],
      "metadata": {
        "id": "jVoa10gw_zA_"
      }
    },
    {
      "cell_type": "code",
      "source": [
        "print(obj._Parent__attr)  # Outputs: \"Parent attribute\"\n",
        "print(obj._Child__attr)   # Outputs: \"Child attribute\"\n"
      ],
      "metadata": {
        "id": "e5meYC-5_2kh"
      },
      "execution_count": null,
      "outputs": []
    },
    {
      "cell_type": "markdown",
      "source": [
        "This shows that while name mangling makes it more difficult to accidentally override or access the attribute, it's not impossible if you know the mangled name.\n",
        "\n",
        "Summary:\n",
        "Difficult (But Not Impossible): Name mangling makes it harder for subclasses to interfere with private attributes and methods, but it doesn't provide absolute security.\n",
        "Purpose: The main purpose is to avoid accidental name conflicts and preserve encapsulation within the class hierarchy."
      ],
      "metadata": {
        "id": "tNbZjvnv_6o2"
      }
    },
    {
      "cell_type": "markdown",
      "source": [
        "In Python, the use of double underscores (__) before an attribute or method name is a convention that signals a special kind of name mangling. This is typically used to make an attribute or method private and prevent it from being accidentally overridden or accessed directly in subclasses.\n",
        "\n",
        "What Does __ (Double Underscore) Do?\n",
        "When you prefix an attribute or method name with double underscores, Python performs name mangling. This means that the interpreter changes the name of the attribute in a way that makes it harder (but not impossible) to create subclasses that accidentally override the private attributes or methods.\n",
        "\n",
        "The name mangling process changes the attribute name by prefixing it with _ClassName. For example:\n",
        "\n",
        "__my_attr in a class MyClass would be internally renamed to _MyClass__my_attr.\n",
        "Why Use __?\n",
        "Name Mangling to Avoid Conflicts:\n",
        "\n",
        "Name mangling helps prevent accidental access or modification of attributes in subclasses, which is especially useful in inheritance hierarchies.\n",
        "It also prevents the subclass from accidentally overriding a private method or attribute.\n",
        "Stronger Encapsulation:\n",
        "\n",
        "While it's still possible to access the mangled name, it sends a strong signal to the developers that this attribute or method is intended to be private and not to be accessed directly.\n",
        "Example:\n",
        "Here’s a simple example to demonstrate how name mangling works:"
      ],
      "metadata": {
        "id": "HMBaZ5jPACyM"
      }
    },
    {
      "cell_type": "code",
      "source": [
        "class MyClass:\n",
        "    def __init__(self):\n",
        "        self.__private_attr = 42  # Private attribute\n",
        "\n",
        "    def __private_method(self):\n",
        "        return \"This is a private method\"\n",
        "\n",
        "    def public_method(self):\n",
        "        return self.__private_method()\n",
        "\n",
        "# Example Usage\n",
        "obj = MyClass()\n",
        "\n",
        "# Accessing the private attribute directly will raise an error\n",
        "# print(obj.__private_attr)  # AttributeError: 'MyClass' object has no attribute '__private_attr'\n",
        "\n",
        "# However, you can still access it using the mangled name (not recommended)\n",
        "print(obj._MyClass__private_attr)  # Outputs: 42\n",
        "\n",
        "# Similarly, you can call the private method using the mangled name (not recommended)\n",
        "print(obj._MyClass__private_method())  # Outputs: This is a private method\n",
        "\n",
        "# Access through the public method\n",
        "print(obj.public_method())  # Outputs: This is a private method\n"
      ],
      "metadata": {
        "id": "WkJPcDHwAFHJ"
      },
      "execution_count": null,
      "outputs": []
    },
    {
      "cell_type": "markdown",
      "source": [
        "Key Points:\n",
        "Name Mangling:\n",
        "\n",
        "When __private_attr is defined, Python automatically renames it to _MyClass__private_attr. This is what name mangling does.\n",
        "This makes it difficult (but not impossible) for subclasses to accidentally override or access these attributes.\n",
        "Accessing Mangled Names:\n",
        "\n",
        "Even though name mangling is used, it's still possible to access the attribute or method using the mangled name (_MyClass__private_attr). However, this is generally discouraged as it breaks encapsulation.\n",
        "Use Case:\n",
        "\n",
        "Use double underscores when you want to prevent your methods or attributes from being accidentally overridden or accessed in subclasses.\n",
        "Summary:\n",
        "The double underscore (__) in Python is used for name mangling, which is a mechanism that helps prevent accidental name conflicts in subclasses and promotes stronger encapsulation. It is a way to make attributes and methods \"private\" to the class, but it's still possible to access them by knowing the mangled name."
      ],
      "metadata": {
        "id": "-6fIMteeAI-n"
      }
    },
    {
      "cell_type": "markdown",
      "source": [
        "Scenario: Bank Account Management\n",
        "Imagine we're building a simple BankAccount class to manage bank accounts. Each account has a balance, and we want to ensure that the balance can only be modified through deposits and withdrawals, not directly.\n",
        "\n",
        "Step 1: The Basic Class without Private Attributes\n",
        "First, let's define a simple BankAccount class without using private attributes:"
      ],
      "metadata": {
        "id": "MKIIXF-zAKhx"
      }
    },
    {
      "cell_type": "code",
      "source": [
        "class BankAccount:\n",
        "    def __init__(self, balance):\n",
        "        self.balance = balance  # Public attribute\n",
        "\n",
        "    def deposit(self, amount):\n",
        "        self.balance += amount\n",
        "\n",
        "    def withdraw(self, amount):\n",
        "        self.balance -= amount\n"
      ],
      "metadata": {
        "id": "MskFWgpgAUf0"
      },
      "execution_count": null,
      "outputs": []
    },
    {
      "cell_type": "markdown",
      "source": [
        "Issues with This Approach:\n",
        "Direct Access to balance:\n",
        "The balance attribute is public, meaning it can be accessed and modified directly from outside the class.\n",
        "This allows for unintended modifications, which could put the account into an invalid state.\n",
        "Example:"
      ],
      "metadata": {
        "id": "h6SBp6xNAZly"
      }
    },
    {
      "cell_type": "code",
      "source": [
        "account = BankAccount(100)  # Initial balance is 100\n",
        "account.deposit(50)  # Now balance is 150\n",
        "account.balance = -500  # Directly setting the balance to a negative value\n"
      ],
      "metadata": {
        "id": "QDUfc51WAWvT"
      },
      "execution_count": null,
      "outputs": []
    },
    {
      "cell_type": "markdown",
      "source": [
        "In the above code, someone could directly modify the balance attribute, setting it to a negative value, which doesn't make sense for a bank account.\n",
        "\n",
        "Step 2: Introducing Private Attributes\n",
        "Now, let's rewrite the BankAccount class using a private attribute for balance:"
      ],
      "metadata": {
        "id": "UBo9Y3onAe0d"
      }
    },
    {
      "cell_type": "code",
      "source": [
        "class BankAccount:\n",
        "    def __init__(self, balance):\n",
        "        self._balance = balance  # Private attribute\n",
        "\n",
        "    @property\n",
        "    def balance(self):\n",
        "        return self._balance\n",
        "\n",
        "    def deposit(self, amount):\n",
        "        if amount > 0:\n",
        "            self._balance += amount\n",
        "        else:\n",
        "            raise ValueError(\"Deposit amount must be positive\")\n",
        "\n",
        "    def withdraw(self, amount):\n",
        "        if 0 < amount <= self._balance:\n",
        "            self._balance -= amount\n",
        "        else:\n",
        "            raise ValueError(\"Invalid withdrawal amount\")\n",
        "\n",
        "# Example Usage\n",
        "account = BankAccount(100)\n",
        "account.deposit(50)  # Balance becomes 150\n",
        "print(account.balance)  # Outputs: 150\n",
        "\n",
        "# The following line would raise an error, preventing direct modification\n",
        "# account._balance = -500  # Not recommended; intended to be private\n",
        "\n",
        "# Correct way to interact with balance\n",
        "account.withdraw(30)  # Balance becomes 120\n",
        "print(account.balance)  # Outputs: 120\n"
      ],
      "metadata": {
        "id": "g1Q3zvF2Afdw"
      },
      "execution_count": null,
      "outputs": []
    },
    {
      "cell_type": "markdown",
      "source": [
        "Key Points of This Approach:\n",
        "Private Attribute _balance:\n",
        "\n",
        "We have renamed the balance attribute to _balance (the underscore indicates it's private by convention).\n",
        "The idea is that _balance should not be accessed or modified directly outside the class.\n",
        "Getter Method balance:\n",
        "\n",
        "The @property decorator creates a getter method, allowing you to access the balance using account.balance.\n",
        "This provides controlled access to the private _balance attribute.\n",
        "Controlled Modifications with deposit and withdraw:\n",
        "\n",
        "The deposit and withdraw methods allow controlled modifications of _balance.\n",
        "The deposit method checks that the amount is positive, while the withdraw method ensures that the withdrawal amount is valid.\n",
        "Advantages of Using Private Attributes:\n",
        "Data Integrity:\n",
        "\n",
        "Private attributes prevent the balance from being set to an invalid value (like a negative number).\n",
        "The methods ensure that the balance is only modified in valid ways.\n",
        "Encapsulation:\n",
        "\n",
        "The internal representation of the balance is hidden from the user.\n",
        "Even if the internal logic changes (e.g., if we change how the balance is calculated), the external interface (the deposit, withdraw, and balance methods) remains the same.\n",
        "Validation and Error Handling:\n",
        "\n",
        "By controlling access to _balance through methods, you can add validation checks, such as ensuring deposits are positive and withdrawals don't exceed the balance.\n",
        "Summary:\n",
        "Private attributes in Python help protect the internal state of an object from unintended or unauthorized access. By using private attributes and controlling access through methods (getters and setters), you can ensure data integrity, encapsulate internal logic, and provide a safer and more maintainable interface for interacting with your objects."
      ],
      "metadata": {
        "id": "YlLB2iXSAlXu"
      }
    }
  ],
  "metadata": {
    "colab": {
      "toc_visible": true,
      "provenance": [],
      "include_colab_link": true
    },
    "kernelspec": {
      "display_name": "Python 3",
      "name": "python3"
    }
  },
  "nbformat": 4,
  "nbformat_minor": 0
}