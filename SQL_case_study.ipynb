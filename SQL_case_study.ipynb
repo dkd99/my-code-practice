{
  "cells": [
    {
      "cell_type": "markdown",
      "metadata": {
        "id": "view-in-github",
        "colab_type": "text"
      },
      "source": [
        "<a href=\"https://colab.research.google.com/github/dkd99/my-code-practice/blob/main/SQL_case_study.ipynb\" target=\"_parent\"><img src=\"https://colab.research.google.com/assets/colab-badge.svg\" alt=\"Open In Colab\"/></a>"
      ]
    },
    {
      "cell_type": "code",
      "source": [
        "SELECT match_id,innings_no,COUNT(DISTINCT over_id ) as extra_overs FROM extra_runs GROUP BY match_id,innings_no"
      ],
      "metadata": {
        "id": "5SkvLW6bfH8Z"
      },
      "execution_count": null,
      "outputs": []
    },
    {
      "cell_type": "markdown",
      "source": [
        "Distinct overs which gave extra runs/are not maiden:"
      ],
      "metadata": {
        "id": "cxNrBJj7hwJb"
      }
    },
    {
      "cell_type": "code",
      "source": [
        "SELECT COUNT(*) FROM (SELECT DISTINCT match_id,innings_no, over_id from extra_runs) AS a ;"
      ],
      "metadata": {
        "id": "6J6clNSQfdn2"
      },
      "execution_count": null,
      "outputs": []
    },
    {
      "cell_type": "markdown",
      "source": [
        "Total number of overs bowled:"
      ],
      "metadata": {
        "id": "CoSTYSs2kdr6"
      }
    },
    {
      "cell_type": "code",
      "source": [
        "SELECT COUNT(*) FROM (SELECT DISTINCT match_id,innings_no, over_id from ball_by_ball) AS A"
      ],
      "metadata": {
        "id": "_Sa_i2L4kdE2"
      },
      "execution_count": null,
      "outputs": []
    },
    {
      "cell_type": "code",
      "source": [
        "with x as (SELECT DISTINCT match_id,innings_no, over_id from extra_runs)\n",
        "SELECT a.* FROM ball_by_ball as a left join x on a.match_id=x.match_id and a.innings_no=x.innings_no and a.over_id=x.over_id"
      ],
      "metadata": {
        "id": "qO7Gm2T5mztt"
      },
      "execution_count": null,
      "outputs": []
    },
    {
      "cell_type": "code",
      "source": [
        "with x as (SELECT DISTINCT match_id,innings_no, over_id from extra_runs)\n",
        "SELECT * FROM Ball_by_Ball as a where EXISTS (SELECT * FROM x where a.match_id!=x.match_id and a.innings_no!=x.innings_no and a.over_id!=x.over_id)\n",
        "LIMIT 300"
      ],
      "metadata": {
        "id": "8QbhONE9rcMy"
      },
      "execution_count": null,
      "outputs": []
    },
    {
      "cell_type": "markdown",
      "source": [
        "Total Number of overs with no extras:"
      ],
      "metadata": {
        "id": "Mgh5-Zhhw0n9"
      }
    },
    {
      "cell_type": "code",
      "source": [
        "with x as (SELECT DISTINCT match_id,innings_no, over_id from extra_runs)\n",
        "SELECT COUNT(*) FROM (SELECT DISTINCT match_id,innings_no, over_id FROM (\n",
        "\n",
        "SELECT * FROM Ball_by_Ball as a where NOT EXISTS (SELECT * FROM x where a.match_id=x.match_id and a.innings_no=x.innings_no and a.over_id=x.over_id))\n",
        "as a) as b"
      ],
      "metadata": {
        "id": "GMAIxM0mwuNw"
      },
      "execution_count": null,
      "outputs": []
    },
    {
      "cell_type": "markdown",
      "source": [
        "Overs and balls left after removing overs that had extra runs:"
      ],
      "metadata": {
        "id": "ngSSFRJ2w51S"
      }
    },
    {
      "cell_type": "code",
      "source": [
        "with x as (SELECT DISTINCT match_id,innings_no, over_id from extra_runs)\n",
        "SELECT * FROM Ball_by_Ball as a where NOT EXISTS \n",
        "(SELECT * FROM x where a.match_id=x.match_id and a.innings_no=x.innings_no and a.over_id=x.over_id) LIMIT 500"
      ],
      "metadata": {
        "id": "zdoUIkWKxaxF"
      },
      "execution_count": null,
      "outputs": []
    },
    {
      "cell_type": "markdown",
      "source": [
        "Count of distinct match_id's or number of matches played:"
      ],
      "metadata": {
        "id": "OvYgOfq01ai8"
      }
    },
    {
      "cell_type": "code",
      "source": [
        "SELECT COUNT(DISTINCT match_id) FROM (\n",
        "SELECT match_id,innings_no,COUNT(DISTINCT over_id) as overs FROM ball_by_ball group by match_id,innings_no) as a"
      ],
      "metadata": {
        "id": "Vg4dfMup1Z7F"
      },
      "execution_count": null,
      "outputs": []
    },
    {
      "cell_type": "markdown",
      "source": [
        "Number of innings in each match id's:"
      ],
      "metadata": {
        "id": "3n1q9zha1g5v"
      }
    },
    {
      "cell_type": "code",
      "source": [
        "SELECT match_id,COUNT(*) FROM (\n",
        "SELECT match_id,innings_no,COUNT(DISTINCT over_id) as overs FROM ball_by_ball group by match_id,innings_no) as a group by match_id"
      ],
      "metadata": {
        "id": "_H6WFwhm2JFF"
      },
      "execution_count": null,
      "outputs": []
    },
    {
      "cell_type": "code",
      "source": [
        "with x as (SELECT DISTINCT match_id,innings_no, over_id from extra_runs), y as \n",
        "(SELECT * FROM Ball_by_Ball as a where NOT EXISTS \n",
        "(SELECT * FROM x where a.match_id=x.match_id and a.innings_no=x.innings_no and a.over_id=x.over_id))\n",
        "\n",
        "SELECT y.match_id,y.over_id,y.ball_id,y.innings_no,,a.runs_scored,y. FROM batsman_scored as a right join y on a.match_id=y.match_id\n",
        "and a.over_id=y.over_id and a.ball_id=y.ball_id and a.innings_no=y.innings_no"
      ],
      "metadata": {
        "id": "0wn0BY8u70Kd"
      },
      "execution_count": null,
      "outputs": []
    },
    {
      "cell_type": "code",
      "source": [
        "with x as (SELECT DISTINCT match_id,innings_no, over_id from extra_runs), y as \n",
        "(SELECT * FROM Ball_by_Ball as a where NOT EXISTS \n",
        "(SELECT * FROM x where a.match_id=x.match_id and a.innings_no=x.innings_no and a.over_id=x.over_id))\n",
        "SELECT match_id,over_id,COUNT(ball_id) as bowls,innings_no,SUM(runs_scored) as runs,bowler from(\n",
        "SELECT y.match_id,y.over_id,y.ball_id,y.innings_no,a.runs_scored,y.bowler FROM batsman_scored as a right join y on a.match_id=y.match_id\n",
        "and a.over_id=y.over_id and a.ball_id=y.ball_id and a.innings_no=y.innings_no) as a group by match_id,over_id,innings_no,bowler having \n",
        "SUM(runs_scored)=0"
      ],
      "metadata": {
        "id": "xLpBg--y-iIK"
      },
      "execution_count": null,
      "outputs": []
    },
    {
      "cell_type": "code",
      "source": [
        "with x as (SELECT DISTINCT match_id,innings_no, over_id from extra_runs), y as \n",
        "(SELECT * FROM Ball_by_Ball as a where NOT EXISTS (\n",
        "SELECT * FROM x where a.match_id=x.match_id and a.innings_no=x.innings_no and a.over_id=x.over_id)),z as\n",
        "(SELECT match_id,over_id,COUNT(ball_id) as bowls,innings_no,SUM(runs_scored) as runs,bowler from(\n",
        "SELECT y.match_id,y.over_id,y.ball_id,y.innings_no,a.runs_scored,y.bowler FROM batsman_scored as a right join y on a.match_id=y.match_id\n",
        "and a.over_id=y.over_id and a.ball_id=y.ball_id and a.innings_no=y.innings_no) as a group by match_id,over_id,innings_no,bowler having \n",
        "SUM(runs_scored)=0)\n",
        "SELECT player_name,COUNT(*) as maidens_over_bowled from (SELECT z.*,c.player_name from player as c right join z on z.bowler=c.player_id) as d\n",
        "group by player_name order by 2 desc"
      ],
      "metadata": {
        "id": "K-AkqvvXAwdT"
      },
      "execution_count": null,
      "outputs": []
    },
    {
      "cell_type": "code",
      "source": [
        "with x as (\n",
        "  SELECT \n",
        "    DISTINCT match_id, \n",
        "    innings_no, \n",
        "    over_id \n",
        "  from \n",
        "    extra_runs\n",
        "), \n",
        "y as (\n",
        "  SELECT \n",
        "    * \n",
        "  FROM \n",
        "    Ball_by_Ball as a \n",
        "  where \n",
        "    NOT EXISTS (\n",
        "      SELECT \n",
        "        * \n",
        "      FROM \n",
        "        x \n",
        "      where \n",
        "        a.match_id = x.match_id \n",
        "        and a.innings_no = x.innings_no \n",
        "        and a.over_id = x.over_id\n",
        "    )\n",
        "), \n",
        "z as (\n",
        "  SELECT \n",
        "    match_id, \n",
        "    over_id, \n",
        "    COUNT(ball_id) as bowls, \n",
        "    innings_no, \n",
        "    SUM(runs_scored) as runs, \n",
        "    bowler \n",
        "  from \n",
        "    (\n",
        "      SELECT \n",
        "        y.match_id, \n",
        "        y.over_id, \n",
        "        y.ball_id, \n",
        "        y.innings_no, \n",
        "        a.runs_scored, \n",
        "        y.bowler \n",
        "      FROM \n",
        "        batsman_scored as a \n",
        "        right join y on a.match_id = y.match_id \n",
        "        and a.over_id = y.over_id \n",
        "        and a.ball_id = y.ball_id \n",
        "        and a.innings_no = y.innings_no\n",
        "    ) as a \n",
        "  group by \n",
        "    match_id, \n",
        "    over_id, \n",
        "    innings_no, \n",
        "    bowler \n",
        "  having \n",
        "    SUM(runs_scored)= 0\n",
        ") \n",
        "SELECT \n",
        "  player_name, \n",
        "  COUNT(*) as maidens_over_bowled \n",
        "from \n",
        "  (\n",
        "    SELECT \n",
        "      z.*, \n",
        "      c.player_name \n",
        "    from \n",
        "      player as c \n",
        "      right join z on z.bowler = c.player_id\n",
        "  ) as d \n",
        "group by \n",
        "  player_name \n",
        "order by \n",
        "  2 desc,1"
      ],
      "metadata": {
        "id": "5AZwFX4SBemD"
      },
      "execution_count": null,
      "outputs": []
    },
    {
      "cell_type": "code",
      "source": [
        "SELECT * FROM ball_by_ball order by match_id,innings_no,over_id,ball_id LIMIT 500"
      ],
      "metadata": {
        "id": "6s8sP3cvW4l3"
      },
      "execution_count": null,
      "outputs": []
    },
    {
      "cell_type": "markdown",
      "source": [
        "Number of times players got out:\n"
      ],
      "metadata": {
        "id": "c6zbhgw0bh40"
      }
    },
    {
      "cell_type": "code",
      "source": [
        "With player_out_count as (SELECT player_out,COUNT(*) as no_of_outs FROM wicket_taken group by player_out order by 2 desc )\n",
        "SELECT a.player_out,b.player_name,a.no_of_outs from player_out_count as a left join Player b on a.player_out=b.player_id\n",
        "order by 3 desc"
      ],
      "metadata": {
        "id": "MUkR-m-mbg1C"
      },
      "execution_count": null,
      "outputs": []
    },
    {
      "cell_type": "markdown",
      "source": [
        "Number of balls played and matches played by batsman-"
      ],
      "metadata": {
        "id": "oxlUzjVTblxf"
      }
    },
    {
      "cell_type": "code",
      "source": [
        "With batsman_detail as (SELECT striker,COUNT(*) as number_of_balls_played,COUNT(DISTINCT match_id) as no_of_match_played FROM ball_by_ball\n",
        "group by striker order by 3 desc,2 desc)\n",
        "SELECT  a.*,b.player_name from batsman_detail as a left join player b on a.striker=b.player_id"
      ],
      "metadata": {
        "id": "NBCwd9C3fMge"
      },
      "execution_count": null,
      "outputs": []
    },
    {
      "cell_type": "markdown",
      "source": [],
      "metadata": {
        "id": "3NXiOugNfVY4"
      }
    },
    {
      "cell_type": "code",
      "source": [
        "SELECT a.striker,s.number_of_balls_played,a.no_of_match_played,COALESCE(a.player_name,b.player_name) from named_detail as a outer join\n",
        "named_playerout_count as b on a.striker="
      ],
      "metadata": {
        "id": "DxWVEeW6hlfI"
      },
      "execution_count": null,
      "outputs": []
    },
    {
      "cell_type": "code",
      "source": [
        "With batsman_detail as (SELECT striker,COUNT(*) as number_of_balls_played,COUNT(DISTINCT match_id) as no_of_match_played FROM ball_by_ball\n",
        "group by striker order by 3 desc,2 desc),named_detail as (\n",
        "SELECT  a.*,b.player_name from batsman_detail as a left join player b on a.striker=b.player_id),\n",
        "player_out_count as (SELECT player_out,COUNT(*) as no_of_outs FROM wicket_taken group by player_out order by 2 desc ),\n",
        "named_playerout_count as(SELECT a.player_out,b.player_name,a.no_of_outs from player_out_count as a left join Player b on a.player_out=b.player_id\n",
        "order by 3 desc)\n",
        "SELECT a.striker,COALESCE(a.number_of_balls_played,0) number_of_balls_played ,COALESCE(a.no_of_match_played,0) no_of_match_played\n",
        ",COALESCE(b.no_of_outs,0) no_of_outs,COALESCE(a.player_name,b.player_name) as player_name\n",
        "from named_detail as a full outer join\n",
        "named_playerout_count as b on a.striker=b.player_out"
      ],
      "metadata": {
        "id": "hTYITAean4Ev"
      },
      "execution_count": null,
      "outputs": []
    },
    {
      "cell_type": "code",
      "source": [
        "With batsman_detail as (\n",
        "  SELECT \n",
        "    striker, \n",
        "    COUNT(*) as number_of_balls_played, \n",
        "    COUNT(DISTINCT match_id) as no_of_match_played \n",
        "  FROM \n",
        "    ball_by_ball \n",
        "  group by \n",
        "    striker \n",
        "  order by \n",
        "    3 desc, \n",
        "    2 desc\n",
        "), \n",
        "named_detail as (\n",
        "  SELECT \n",
        "    a.*, \n",
        "    b.player_name \n",
        "  from \n",
        "    batsman_detail as a \n",
        "    left join player b on a.striker = b.player_id\n",
        "), \n",
        "player_out_count as (\n",
        "  SELECT \n",
        "    player_out, \n",
        "    COUNT(*) as no_of_outs \n",
        "  FROM \n",
        "    wicket_taken \n",
        "  group by \n",
        "    player_out \n",
        "  order by \n",
        "    2 desc\n",
        "), \n",
        "named_playerout_count as(\n",
        "  SELECT \n",
        "    a.player_out, \n",
        "    b.player_name, \n",
        "    a.no_of_outs \n",
        "  from \n",
        "    player_out_count as a \n",
        "    left join Player b on a.player_out = b.player_id \n",
        "  order by \n",
        "    3 desc\n",
        ") \n",
        "SELECT \n",
        "  a.striker, \n",
        "  COALESCE(a.number_of_balls_played, 0) number_of_balls_played, \n",
        "  COALESCE(a.no_of_match_played, 0) no_of_match_played, \n",
        "  COALESCE(b.no_of_outs, 0) no_of_outs, \n",
        "  COALESCE(a.player_name, b.player_name) as player_name \n",
        "from \n",
        "  named_detail as a full \n",
        "  outer join named_playerout_count as b on a.striker = b.player_out\n"
      ],
      "metadata": {
        "id": "tPYSASpskoRm"
      },
      "execution_count": null,
      "outputs": []
    },
    {
      "cell_type": "code",
      "source": [
        "with runs_table as (SELECT a.*,b.striker,c.player_name FROM batsman_scored a left join \n",
        "ball_by_ball b on a.match_id=b.match_id and a.over_id=b.over_id and a.ball_id=b.ball_id\n",
        "and a.innings_no=b.innings_no left join player as c on b.striker=c.player_id)\n",
        "SELECT player_name,striker,SUM(runs_scored) as total_runs from runs_table group by striker order by 3 desc"
      ],
      "metadata": {
        "id": "z87GfSFhn9iA"
      },
      "execution_count": null,
      "outputs": []
    },
    {
      "cell_type": "code",
      "source": [
        "With batsman_detail as (\n",
        "  SELECT \n",
        "    striker, \n",
        "    COUNT(*) as number_of_balls_played, \n",
        "    COUNT(DISTINCT match_id) as no_of_match_played \n",
        "  FROM \n",
        "    ball_by_ball \n",
        "  group by \n",
        "    striker \n",
        "  order by \n",
        "    3 desc, \n",
        "    2 desc\n",
        "), \n",
        "named_detail as (\n",
        "  SELECT \n",
        "    a.*, \n",
        "    b.player_name \n",
        "  from \n",
        "    batsman_detail as a \n",
        "    left join player b on a.striker = b.player_id\n",
        "), \n",
        "player_out_count as (\n",
        "  SELECT \n",
        "    player_out, \n",
        "    COUNT(*) as no_of_outs \n",
        "  FROM \n",
        "    wicket_taken \n",
        "  group by \n",
        "    player_out \n",
        "  order by \n",
        "    2 desc\n",
        "), \n",
        "named_playerout_count as(\n",
        "  SELECT \n",
        "    a.player_out, \n",
        "    b.player_name, \n",
        "    a.no_of_outs \n",
        "  from \n",
        "    player_out_count as a \n",
        "    left join Player b on a.player_out = b.player_id \n",
        "  order by \n",
        "    3 desc\n",
        "), \n",
        "runs_table as (\n",
        "  SELECT \n",
        "    a.*, \n",
        "    b.striker, \n",
        "    c.player_name \n",
        "  FROM \n",
        "    batsman_scored a \n",
        "    left join ball_by_ball b on a.match_id = b.match_id \n",
        "    and a.over_id = b.over_id \n",
        "    and a.ball_id = b.ball_id \n",
        "    and a.innings_no = b.innings_no \n",
        "    left join player as c on b.striker = c.player_id\n",
        "), \n",
        "named_runs_scored as (\n",
        "  SELECT \n",
        "    player_name, \n",
        "    striker, \n",
        "    SUM(runs_scored) as total_runs \n",
        "  from \n",
        "    runs_table \n",
        "  group by \n",
        "    striker \n",
        "  order by \n",
        "    3 desc\n",
        ") \n",
        "SELECT \n",
        "  a.striker, \n",
        "  COALESCE(a.number_of_balls_played, 0) number_of_balls_played, \n",
        "  c.total_runs, \n",
        "  COALESCE(a.no_of_match_played, 0) no_of_match_played, \n",
        "  COALESCE(b.no_of_outs, 0) no_of_outs, \n",
        "  COALESCE(a.player_name, b.player_name) as player_name \n",
        "from \n",
        "  named_detail as a full \n",
        "  outer join named_playerout_count as b on a.striker = b.player_out full \n",
        "  outer join named_runs_scored c on a.striker = c.striker \n",
        "order by \n",
        "  total_runs desc\n"
      ],
      "metadata": {
        "id": "V5tOTljZq5I2"
      },
      "execution_count": null,
      "outputs": []
    },
    {
      "cell_type": "code",
      "source": [
        "With batsman_detail as (SELECT striker,COUNT(*) as number_of_balls_played,COUNT(DISTINCT match_id) as no_of_match_played FROM ball_by_ball\n",
        "group by striker order by 3 desc,2 desc),named_detail as (\n",
        "SELECT  a.*,b.player_name from batsman_detail as a left join player b on a.striker=b.player_id),\n",
        "player_out_count as (SELECT player_out,COUNT(*) as no_of_outs FROM wicket_taken group by player_out order by 2 desc ),\n",
        "named_playerout_count as(SELECT a.player_out,b.player_name,a.no_of_outs from player_out_count as a left join Player b on a.player_out=b.player_id\n",
        "order by 3 desc),\n",
        "runs_table as (SELECT a.*,b.striker,c.player_name FROM batsman_scored a left join \n",
        "ball_by_ball b on a.match_id=b.match_id and a.over_id=b.over_id and a.ball_id=b.ball_id\n",
        "and a.innings_no=b.innings_no left join player as c on b.striker=c.player_id),\n",
        "named_runs_scored as (SELECT player_name,striker,SUM(runs_scored) as total_runs from runs_table group by striker order by 3 desc)\n",
        "SELECT a.striker,COALESCE(a.number_of_balls_played,0) number_of_balls_played ,c.total_runs,COALESCE(a.no_of_match_played,0) no_of_match_played\n",
        ",COALESCE(b.no_of_outs,0) no_of_outs,COALESCE(a.player_name,b.player_name) as player_name\n",
        "from named_detail as a full outer join\n",
        "named_playerout_count as b on a.striker=b.player_out full outer join named_runs_scored c on a.striker=c.striker order by total_runs desc"
      ],
      "metadata": {
        "id": "eeTKkcMwrBVI"
      },
      "execution_count": null,
      "outputs": []
    },
    {
      "cell_type": "code",
      "source": [
        "With batsman_detail as (\n",
        "  SELECT \n",
        "    striker, \n",
        "    COUNT(*) as number_of_balls_played, \n",
        "    COUNT(DISTINCT match_id) as no_of_match_played \n",
        "  FROM \n",
        "    ball_by_ball \n",
        "  group by \n",
        "    striker \n",
        "  order by \n",
        "    3 desc, \n",
        "    2 desc\n",
        "), \n",
        "named_detail as (\n",
        "  SELECT \n",
        "    a.*, \n",
        "    b.player_name \n",
        "  from \n",
        "    batsman_detail as a \n",
        "    left join player b on a.striker = b.player_id\n",
        "), \n",
        "player_out_count as (\n",
        "  SELECT \n",
        "    player_out, \n",
        "    COUNT(*) as no_of_outs \n",
        "  FROM \n",
        "    wicket_taken \n",
        "  group by \n",
        "    player_out \n",
        "  order by \n",
        "    2 desc\n",
        "), \n",
        "named_playerout_count as(\n",
        "  SELECT \n",
        "    a.player_out, \n",
        "    b.player_name, \n",
        "    a.no_of_outs \n",
        "  from \n",
        "    player_out_count as a \n",
        "    left join Player b on a.player_out = b.player_id \n",
        "  order by \n",
        "    3 desc\n",
        "), \n",
        "runs_table as (\n",
        "  SELECT \n",
        "    a.*, \n",
        "    b.striker, \n",
        "    c.player_name \n",
        "  FROM \n",
        "    batsman_scored a \n",
        "    left join ball_by_ball b on a.match_id = b.match_id \n",
        "    and a.over_id = b.over_id \n",
        "    and a.ball_id = b.ball_id \n",
        "    and a.innings_no = b.innings_no \n",
        "    left join player as c on b.striker = c.player_id\n",
        "), \n",
        "named_runs_scored as (\n",
        "  SELECT \n",
        "    player_name, \n",
        "    striker, \n",
        "    SUM(runs_scored) as total_runs \n",
        "  from \n",
        "    runs_table \n",
        "  group by \n",
        "    striker \n",
        "  order by \n",
        "    3 desc\n",
        ") \n",
        "SELECT \n",
        "  a.striker, \n",
        "  COALESCE(a.number_of_balls_played, 0) number_of_balls_played, \n",
        "  c.total_runs, \n",
        "  COALESCE(a.no_of_match_played, 0) no_of_match_played, \n",
        "  COALESCE(b.no_of_outs, 0) no_of_outs, \n",
        "  COALESCE(a.player_name, b.player_name) as player_name \n",
        "from \n",
        "  named_detail as a full \n",
        "  outer join named_playerout_count as b on a.striker = b.player_out full \n",
        "  outer join named_runs_scored c on a.striker = c.striker \n",
        "order by \n",
        "  total_runs desc\n"
      ],
      "metadata": {
        "id": "wpuyXYBLsn5c"
      },
      "execution_count": null,
      "outputs": []
    },
    {
      "cell_type": "code",
      "source": [
        "With batsman_detail as (\n",
        "  SELECT \n",
        "    striker, \n",
        "    COUNT(*) as number_of_balls_played, \n",
        "    COUNT(DISTINCT match_id) as no_of_match_played \n",
        "  FROM \n",
        "    ball_by_ball \n",
        "  group by \n",
        "    striker \n",
        "  order by \n",
        "    3 desc, \n",
        "    2 desc\n",
        "), \n",
        "named_detail as (\n",
        "  SELECT \n",
        "    a.*, \n",
        "    b.player_name \n",
        "  from \n",
        "    batsman_detail as a \n",
        "    left join player b on a.striker = b.player_id\n",
        "), \n",
        "player_out_count as (\n",
        "  SELECT \n",
        "    player_out, \n",
        "    COUNT(*) as no_of_outs \n",
        "  FROM \n",
        "    wicket_taken \n",
        "  group by \n",
        "    player_out \n",
        "  \n",
        "), \n",
        "named_playerout_count as(\n",
        "  SELECT \n",
        "    a.player_out, \n",
        "    b.player_name, \n",
        "    a.no_of_outs \n",
        "  from \n",
        "    player_out_count as a \n",
        "    left join Player b on a.player_out = b.player_id \n",
        "  \n",
        "), \n",
        "runs_table as (\n",
        "  SELECT \n",
        "    a.*, \n",
        "    b.striker, \n",
        "    c.player_name \n",
        "  FROM \n",
        "    batsman_scored a \n",
        "    left join ball_by_ball b on a.match_id = b.match_id \n",
        "    and a.over_id = b.over_id \n",
        "    and a.ball_id = b.ball_id \n",
        "    and a.innings_no = b.innings_no \n",
        "    left join player as c on b.striker = c.player_id\n",
        "), \n",
        "named_runs_scored as (\n",
        "  SELECT \n",
        "    player_name, \n",
        "    striker, \n",
        "    SUM(runs_scored) as total_runs \n",
        "  from \n",
        "    runs_table \n",
        "  group by \n",
        "    striker \n",
        "  \n",
        ") ,\n",
        "final_score_table as (SELECT \n",
        "  a.striker, \n",
        "  COALESCE(a.number_of_balls_played, 0) number_of_balls_played, \n",
        "  c.total_runs, \n",
        "  COALESCE(a.no_of_match_played, 0) no_of_match_played, \n",
        "  COALESCE(b.no_of_outs, 0) no_of_outs, \n",
        "  COALESCE(a.player_name, b.player_name) as player_name \n",
        "from \n",
        "  named_detail as a full \n",
        "  outer join named_playerout_count as b on a.striker = b.player_out full \n",
        "  outer join named_runs_scored c on a.striker = c.striker \n",
        "order by \n",
        "  total_runs desc)\n",
        "\n",
        "SELECT * ,ROUND(((total_runs)/(number_of_balls_played))*100,2) as strike_rate,ROUND(total_runs/no_of_outs,2) as avg FROM final_score_table"
      ],
      "metadata": {
        "id": "ulH6t6uFwupD"
      },
      "execution_count": null,
      "outputs": []
    },
    {
      "cell_type": "markdown",
      "source": [
        "Optimized Query:"
      ],
      "metadata": {
        "id": "iOrTdue33aMQ"
      }
    },
    {
      "cell_type": "code",
      "source": [
        "  With batsman_detail as(SELECT \n",
        "    striker, \n",
        "    COUNT(*) as number_of_balls_played, \n",
        "    COUNT(DISTINCT match_id) as no_of_match_played \n",
        "  FROM \n",
        "    ball_by_ball \n",
        "  group by \n",
        "    striker )\n",
        ", \n",
        "player_out_count as (\n",
        "  SELECT \n",
        "    player_out, \n",
        "    COUNT(*) as no_of_outs \n",
        "  FROM \n",
        "    wicket_taken \n",
        "  group by \n",
        "    player_out \n",
        "  order by \n",
        "    2 desc)\n",
        ", \n",
        "runs_table as (\n",
        "  SELECT \n",
        "    a.*, \n",
        "    b.striker\n",
        "  FROM \n",
        "    batsman_scored a \n",
        "    left join ball_by_ball b on a.match_id = b.match_id \n",
        "    and a.over_id = b.over_id \n",
        "    and a.ball_id = b.ball_id \n",
        "    and a.innings_no = b.innings_no ),\n",
        "    runs_scored as (\n",
        "  SELECT \n",
        "    striker, \n",
        "    SUM(runs_scored) as total_runs \n",
        "  from \n",
        "    runs_table \n",
        "  group by \n",
        "    striker \n",
        "),\n",
        "final_score_table as (\n",
        "SELECT \n",
        "  COALESCE(a.striker, b.player_out) as player_id,\n",
        "  COALESCE(a.number_of_balls_played, 0) number_of_balls_played, \n",
        "  COALESCE(c.total_runs,0) as total_runs, \n",
        "  COALESCE(a.no_of_match_played, 0) no_of_match_played, \n",
        "  COALESCE(b.no_of_outs, 0) no_of_outs\n",
        "   \n",
        "from \n",
        "  batsman_detail as a full \n",
        "  outer join player_out_count as b on a.striker = b.player_out full \n",
        "  outer join runs_scored c on a.striker = c.striker \n",
        "order by \n",
        "  total_runs desc), named_final_score_table as\n",
        "(SELECT b.player_name,a.* FROM final_score_table as a left join player b on a.player_id=b.player_id )\n",
        "SELECT * ,ROUND(((total_runs)/(number_of_balls_played))*100,2) as strike_rate,ROUND(total_runs/no_of_outs,2) as avg FROM named_final_score_table\n",
        "order by total_runs desc\n"
      ],
      "metadata": {
        "id": "sJGIq6AY3WEh"
      },
      "execution_count": null,
      "outputs": []
    },
    {
      "cell_type": "code",
      "source": [
        "SELECT *,total_runs-(SELECT SUM(total_runs)/SUM(number_of_balls_played) as x from final_scorecard)*number_of_balls_played as runs_above_average \n",
        "from final_scorecard"
      ],
      "metadata": {
        "id": "kCHAoh2dCUiD"
      },
      "execution_count": null,
      "outputs": []
    },
    {
      "cell_type": "code",
      "source": [
        "SELECT SUM(no_of_outs)/sum(number_of_balls_played) from final_scorecard\n"
      ],
      "metadata": {
        "id": "EsUqtwodDOTc"
      },
      "execution_count": null,
      "outputs": []
    },
    {
      "cell_type": "code",
      "source": [
        "SELECT sum(total_runs)/SUM(no_of_outs) from final_scorecard\n"
      ],
      "metadata": {
        "id": "4f76on1aDUnp"
      },
      "execution_count": null,
      "outputs": []
    },
    {
      "cell_type": "code",
      "source": [
        "SELECT sum(total_runs)/SUM(no_of_outs) as overall_average from final_scorecard\n"
      ],
      "metadata": {
        "id": "LVRjp_4TD-dY"
      },
      "execution_count": null,
      "outputs": []
    },
    {
      "cell_type": "code",
      "source": [
        "SELECT (SELECT sum(total_runs)/SUM(no_of_outs) as overall_average from final_scorecard)*(\n",
        "number_of_balls_played*(SELECT SUM(no_of_outs)/sum(number_of_balls_played) from final_scorecard)-(no_of_outs/number_of_balls_played))\n",
        "from final_scorecard"
      ],
      "metadata": {
        "id": "0dEFiPTyGuSW"
      },
      "execution_count": null,
      "outputs": []
    },
    {
      "cell_type": "code",
      "source": [
        "SELECT player_name,runs_above_average+part_2 as RAA,number_of_balls_played,total_runs,no_of_match_played,no_of_outs,strike_rate,avg from\n",
        "final_stats_table L order by RAA desc "
      ],
      "metadata": {
        "id": "QziWPc32KKIg"
      },
      "execution_count": null,
      "outputs": []
    },
    {
      "cell_type": "markdown",
      "source": [
        "Final Batsman ranking as per RAA:"
      ],
      "metadata": {
        "id": "Xu3vtHPELpJP"
      }
    },
    {
      "cell_type": "code",
      "source": [
        "With batsman_detail as(\n",
        "  SELECT \n",
        "    striker, \n",
        "    COUNT(*) as number_of_balls_played, \n",
        "    COUNT(DISTINCT match_id) as no_of_match_played \n",
        "  FROM \n",
        "    ball_by_ball \n",
        "  group by \n",
        "    striker\n",
        "), \n",
        "player_out_count as (\n",
        "  SELECT \n",
        "    player_out, \n",
        "    COUNT(*) as no_of_outs \n",
        "  FROM \n",
        "    wicket_taken \n",
        "  group by \n",
        "    player_out \n",
        "  order by \n",
        "    2 desc\n",
        "), \n",
        "runs_table as (\n",
        "  SELECT \n",
        "    a.*, \n",
        "    b.striker \n",
        "  FROM \n",
        "    batsman_scored a \n",
        "    left join ball_by_ball b on a.match_id = b.match_id \n",
        "    and a.over_id = b.over_id \n",
        "    and a.ball_id = b.ball_id \n",
        "    and a.innings_no = b.innings_no\n",
        "), \n",
        "runs_scored as (\n",
        "  SELECT \n",
        "    striker, \n",
        "    SUM(runs_scored) as total_runs \n",
        "  from \n",
        "    runs_table \n",
        "  group by \n",
        "    striker\n",
        "), \n",
        "final_score_table as (\n",
        "  SELECT \n",
        "    COALESCE(a.striker, b.player_out) as player_id, \n",
        "    COALESCE(a.number_of_balls_played, 0) number_of_balls_played, \n",
        "    COALESCE(c.total_runs, 0) as total_runs, \n",
        "    COALESCE(a.no_of_match_played, 0) no_of_match_played, \n",
        "    COALESCE(b.no_of_outs, 0) no_of_outs \n",
        "  from \n",
        "    batsman_detail as a full \n",
        "    outer join player_out_count as b on a.striker = b.player_out full \n",
        "    outer join runs_scored c on a.striker = c.striker \n",
        "  order by \n",
        "    total_runs desc\n",
        "), \n",
        "named_final_score_table as (\n",
        "  SELECT \n",
        "    b.player_name, \n",
        "    a.* \n",
        "  FROM \n",
        "    final_score_table as a \n",
        "    left join player b on a.player_id = b.player_id\n",
        "), \n",
        "final_scorecard as (\n",
        "  SELECT \n",
        "    *, \n",
        "    ROUND(\n",
        "      (\n",
        "        (total_runs)/(number_of_balls_played)\n",
        "      )* 100, \n",
        "      2\n",
        "    ) as strike_rate, \n",
        "    ROUND(total_runs / no_of_outs, 2) as avg \n",
        "  FROM \n",
        "    named_final_score_table \n",
        "  order by \n",
        "    total_runs desc\n",
        "), \n",
        "final_stats_table as (\n",
        "  SELECT \n",
        "    *, \n",
        "    total_runs -(\n",
        "      SELECT \n",
        "        SUM(total_runs)/ SUM(number_of_balls_played) as x \n",
        "      from \n",
        "        final_scorecard\n",
        "    )* number_of_balls_played as runs_above_average, \n",
        "    COALESCE(\n",
        "      (\n",
        "        SELECT \n",
        "          sum(total_runs)/ SUM(no_of_outs) as overall_average \n",
        "        from \n",
        "          final_scorecard\n",
        "      )*(\n",
        "        number_of_balls_played *(\n",
        "          (\n",
        "            SELECT \n",
        "              SUM(no_of_outs)/ sum(number_of_balls_played) \n",
        "            from \n",
        "              final_scorecard\n",
        "          )-(\n",
        "            no_of_outs / number_of_balls_played\n",
        "          )\n",
        "        )\n",
        "      ), \n",
        "      0\n",
        "    ) AS part_2 \n",
        "  from \n",
        "    final_scorecard \n",
        "  where \n",
        "    player_name != 'A Nel'\n",
        ") \n",
        "SELECT \n",
        "  player_name, \n",
        "  runs_above_average + part_2 as RAA, \n",
        "  number_of_balls_played, \n",
        "  total_runs, \n",
        "  no_of_match_played, \n",
        "  no_of_outs, \n",
        "  strike_rate, \n",
        "  avg \n",
        "from \n",
        "  final_stats_table L \n",
        "order by \n",
        "  RAA desc\n"
      ],
      "metadata": {
        "id": "MLQYFhHnLm7U"
      },
      "execution_count": null,
      "outputs": []
    }
  ],
  "metadata": {
    "colab": {
      "toc_visible": true,
      "provenance": [],
      "include_colab_link": true
    },
    "kernelspec": {
      "display_name": "Python 3",
      "name": "python3"
    }
  },
  "nbformat": 4,
  "nbformat_minor": 0
}