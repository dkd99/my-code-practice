{
  "cells": [
    {
      "cell_type": "markdown",
      "metadata": {
        "id": "view-in-github",
        "colab_type": "text"
      },
      "source": [
        "<a href=\"https://colab.research.google.com/github/dkd99/my-code-practice/blob/main/Coding%20week%205.ipynb\" target=\"_parent\"><img src=\"https://colab.research.google.com/assets/colab-badge.svg\" alt=\"Open In Colab\"/></a>"
      ]
    },
    {
      "cell_type": "code",
      "source": [
        "list1=['red','orange','green','blue','white']\n",
        "list2=['black','yellow','green','blue']\n",
        "set1=set(list1)\n",
        "set2=set(list2)\n",
        "set1-set2"
      ],
      "metadata": {
        "id": "GEHQ9BBCXYPe",
        "outputId": "572311b6-1899-484a-8d81-322059b5cff3",
        "colab": {
          "base_uri": "https://localhost:8080/",
          "height": 130
        }
      },
      "execution_count": 1,
      "outputs": [
        {
          "output_type": "error",
          "ename": "SyntaxError",
          "evalue": "ignored",
          "traceback": [
            "\u001b[0;36m  File \u001b[0;32m\"<ipython-input-1-f9a8b923a8d3>\"\u001b[0;36m, line \u001b[0;32m1\u001b[0m\n\u001b[0;31m    list1=['red','orange,'green','blue','white']\u001b[0m\n\u001b[0m                          ^\u001b[0m\n\u001b[0;31mSyntaxError\u001b[0m\u001b[0;31m:\u001b[0m invalid syntax\n"
          ]
        }
      ]
    },
    {
      "cell_type": "code",
      "source": [
        "list1=eval(input())\n",
        "list2=eval(input())\n",
        "set1=set(list1)\n",
        "set2=set(list2)\n",
        "x=list(set1-set2)\n",
        "y=list(set2-set1)\n",
        "x.sort()\n",
        "y.sort()\n",
        "print('L1-L2=',x)\n",
        "print('L2-L1=',y)"
      ],
      "metadata": {
        "id": "CfGubDG-X_WU",
        "outputId": "d8d37373-14dc-4713-e0e0-1e3e86a48655",
        "colab": {
          "base_uri": "https://localhost:8080/"
        }
      },
      "execution_count": 8,
      "outputs": [
        {
          "output_type": "stream",
          "name": "stdout",
          "text": [
            "['red','orange','green','blue','white']\n",
            "['black','yellow','green','blue']\n",
            "L1-L2= ['orange', 'red', 'white']\n",
            "L2-L1= ['black', 'yellow']\n"
          ]
        }
      ]
    },
    {
      "cell_type": "code",
      "source": [
        "rownumbs = int(input())\n",
        "colnumbs = int(input())\n",
        "for i in range(rownumbs):\n",
        "  b=[]\n",
        "  for j in range(colnumbs):\n",
        "    if j%2==0:\n",
        "      print('1.',end='')\n",
        "    else:\n",
        "      print('0.',end='')\n",
        "  print('')\n"
      ],
      "metadata": {
        "id": "3dymqAk7jUAQ",
        "outputId": "5f4fa152-f10c-442d-9e7d-d379fb7d8731",
        "colab": {
          "base_uri": "https://localhost:8080/"
        }
      },
      "execution_count": 18,
      "outputs": [
        {
          "output_type": "stream",
          "name": "stdout",
          "text": [
            "4\n",
            "3\n",
            "1.0.1.\n",
            "1.0.1.\n",
            "1.0.1.\n",
            "1.0.1.\n"
          ]
        }
      ]
    },
    {
      "cell_type": "code",
      "source": [
        "rows= 5\n",
        "colms= 5\n",
        "for i in range(rows):\n",
        "  for j in range(colms):\n",
        "    if i==0 or i==rows-1:\n",
        "      print('0.',end='')\n",
        "    else:\n",
        "      if j==0 or j==colms-1:\n",
        "        print('0.',end='')\n",
        "      else:\n",
        "        print('  ',end='')\n",
        "  print()"
      ],
      "metadata": {
        "id": "d8cp-gcJoGmL",
        "outputId": "1b659611-a333-4824-f1ae-e4657eab0382",
        "colab": {
          "base_uri": "https://localhost:8080/"
        }
      },
      "execution_count": 34,
      "outputs": [
        {
          "output_type": "stream",
          "name": "stdout",
          "text": [
            "0.0.0.0.0.\n",
            "0.      0.\n",
            "0.      0.\n",
            "0.      0.\n",
            "0.0.0.0.0.\n"
          ]
        }
      ]
    },
    {
      "cell_type": "code",
      "source": [
        "string=input()\n",
        "st=''\n",
        "for i in range(len(string)-1):\n",
        "  if string[i+1]==string[i]:\n",
        "    st=st+string[i]\n",
        "    st=st+'*'\n",
        "  else:\n",
        "    st=st+string[i]\n",
        "print(st)"
      ],
      "metadata": {
        "id": "BPJBkJYlsWCw",
        "outputId": "738dea5f-7018-4d63-9877-f7fb2d0e76f0",
        "colab": {
          "base_uri": "https://localhost:8080/"
        }
      },
      "execution_count": 36,
      "outputs": [
        {
          "output_type": "stream",
          "name": "stdout",
          "text": [
            "Deepakk\n",
            "De*epak*\n"
          ]
        }
      ]
    },
    {
      "cell_type": "code",
      "source": [
        "lst= [10, 20, 30, 40, 50, 60]\n",
        "index= [4, 3, 5, 0, 1, 2]"
      ],
      "metadata": {
        "id": "QYgd_i8RtqJ8"
      },
      "execution_count": 37,
      "outputs": []
    },
    {
      "cell_type": "code",
      "source": [
        "new_list=[]\n",
        "for i in index:\n",
        "  new_list.append(lst[i])"
      ],
      "metadata": {
        "id": "RN9CUt3GtonU"
      },
      "execution_count": 38,
      "outputs": []
    },
    {
      "cell_type": "code",
      "source": [
        "new_list"
      ],
      "metadata": {
        "id": "RbxnN44st0zi",
        "outputId": "e47c61c2-9eac-47ea-babb-f5b7ccfc0cd6",
        "colab": {
          "base_uri": "https://localhost:8080/"
        }
      },
      "execution_count": 39,
      "outputs": [
        {
          "output_type": "execute_result",
          "data": {
            "text/plain": [
              "[50, 40, 60, 10, 20, 30]"
            ]
          },
          "metadata": {},
          "execution_count": 39
        }
      ]
    },
    {
      "cell_type": "code",
      "source": [
        "temp = [0] * len(lst)\n",
        "temp"
      ],
      "metadata": {
        "id": "Ai5X9AZPzsLH",
        "outputId": "033904f3-939b-43a8-fabb-d35f140d33ae",
        "colab": {
          "base_uri": "https://localhost:8080/"
        }
      },
      "execution_count": 44,
      "outputs": [
        {
          "output_type": "execute_result",
          "data": {
            "text/plain": [
              "[0, 0, 0, 0, 0, 0]"
            ]
          },
          "metadata": {},
          "execution_count": 44
        }
      ]
    },
    {
      "cell_type": "code",
      "source": [
        "for i in range(0,len(lst)):\n",
        "  temp[index[i]] = arr[i]\n",
        "temp"
      ],
      "metadata": {
        "id": "DK6rVTkNzyge",
        "outputId": "36a6295d-be7b-4be9-aee0-e82fad28f20b",
        "colab": {
          "base_uri": "https://localhost:8080/"
        }
      },
      "execution_count": 45,
      "outputs": [
        {
          "output_type": "execute_result",
          "data": {
            "text/plain": [
              "[40, 50, 60, 20, 10, 30]"
            ]
          },
          "metadata": {},
          "execution_count": 45
        }
      ]
    },
    {
      "cell_type": "code",
      "source": [
        "def reorder(arr,index, n):\n",
        " \n",
        "    temp = [0] * n;\n",
        " \n",
        "    # arr[i] should be\n",
        "        # present at index[i] index\n",
        "    for i in range(0,n):\n",
        "        temp[index[i]] = arr[i]\n",
        " \n",
        "    # Copy temp[] to arr[]\n",
        "    for i in range(0,n):\n",
        "        arr[i] = temp[i]\n",
        "        index[i] = i\n",
        "     \n",
        "# Driver program\n",
        "arr = [10, 20, 30, 40, 50, 60]\n",
        "index = [4, 3, 5, 0, 1, 2]\n",
        "n = len(arr)\n",
        " \n",
        "reorder(arr, index, n)\n",
        " \n",
        "print(\"Reordered array is:\")\n",
        "for i in range(0,n):\n",
        "    print(arr[i],end = \" \")\n",
        " \n",
        "print(\"\\nModified Index array is:\")\n",
        "for i in range(0,n):\n",
        "    print(index[i],end = \" \")"
      ],
      "metadata": {
        "id": "eZycQS2_ykaR",
        "outputId": "ed76a29d-91d2-40ac-c57d-6d0f766c440c",
        "colab": {
          "base_uri": "https://localhost:8080/"
        }
      },
      "execution_count": 41,
      "outputs": [
        {
          "output_type": "stream",
          "name": "stdout",
          "text": [
            "Reordered array is:\n",
            "40 50 60 20 10 30 \n",
            "Modified Index array is:\n",
            "0 1 2 3 4 5 "
          ]
        }
      ]
    },
    {
      "cell_type": "code",
      "source": [
        "lst= eval(input())\n",
        "index= eval(input())\n",
        "new_list=[]\n",
        "temp=[0]*len(lst)\n",
        "for i in range(0,len(lst)):\n",
        "  temp[index[i]] = lst[i]\n",
        "print('The given list after reordering according to the given indexes list :')\n",
        "print(temp)\n",
        "print('The Index list after reordering:')\n",
        "print(list(range(len(lst))))"
      ],
      "metadata": {
        "id": "Tx3aThEn3rws",
        "outputId": "95c7c957-bd08-4a50-8dbc-c026d3fef8cd",
        "colab": {
          "base_uri": "https://localhost:8080/"
        }
      },
      "execution_count": 47,
      "outputs": [
        {
          "output_type": "stream",
          "name": "stdout",
          "text": [
            "[10, 20, 30, 40, 50, 60]\n",
            "[4, 3, 5, 0, 1, 2]\n",
            "The given list after reordering according to the given indexes list :\n",
            "[40, 50, 60, 20, 10, 30]\n",
            "The Index list after reordering:\n",
            "[0, 1, 2, 3, 4, 5]\n"
          ]
        }
      ]
    },
    {
      "cell_type": "code",
      "source": [
        "num_of_elements = int(input())\n",
        "b=[]\n",
        "for i in range(num_of_elements):\n",
        "  a=int(input(f'Enter the element between 0 and {num_of_elements}'))\n",
        "  b.append(a)"
      ],
      "metadata": {
        "id": "_hioHOR15p6x",
        "outputId": "aae2da2f-efa0-4419-a330-61a7f2de3fb2",
        "colab": {
          "base_uri": "https://localhost:8080/"
        }
      },
      "execution_count": 51,
      "outputs": [
        {
          "name": "stdout",
          "output_type": "stream",
          "text": [
            "5\n",
            "Enter the element between 0 and 54\n",
            "Enter the element between 0 and 54\n",
            "Enter the element between 0 and 54\n",
            "Enter the element between 0 and 54\n",
            "Enter the element between 0 and 54\n"
          ]
        }
      ]
    },
    {
      "cell_type": "code",
      "source": [
        "b"
      ],
      "metadata": {
        "id": "KooPCcnp9--o",
        "outputId": "7b2e6dfd-85e8-4822-8d3c-d90f92ba0a92",
        "colab": {
          "base_uri": "https://localhost:8080/"
        }
      },
      "execution_count": 53,
      "outputs": [
        {
          "output_type": "execute_result",
          "data": {
            "text/plain": [
              "[4, 4, 4, 4, 4]"
            ]
          },
          "metadata": {},
          "execution_count": 53
        }
      ]
    },
    {
      "cell_type": "code",
      "source": [
        "num_of_elements = int(input())\n",
        "b=[]\n",
        "for i in range(num_of_elements):\n",
        "  a=int(input(f'Enter the element between 0 and {num_of_elements}:'))\n",
        "  b.append(a)\n",
        "\n",
        "for i in b:\n",
        "  if b.count(i)>1:\n",
        "    x=b.count(i)\n",
        "    z=i\n",
        "print(f'{z} is repeated {x} times')"
      ],
      "metadata": {
        "id": "eOecj6vx-2Ag",
        "outputId": "3c920353-9ca0-4a39-d9ac-ee1f5eb52bb9",
        "colab": {
          "base_uri": "https://localhost:8080/"
        }
      },
      "execution_count": 55,
      "outputs": [
        {
          "output_type": "stream",
          "name": "stdout",
          "text": [
            "5\n",
            "Enter the element between 0 and 5:4\n",
            "Enter the element between 0 and 5:4\n",
            "Enter the element between 0 and 5:4\n",
            "Enter the element between 0 and 5:3\n",
            "Enter the element between 0 and 5:4\n",
            "4 is repeated 4 times\n"
          ]
        }
      ]
    }
  ],
  "metadata": {
    "colab": {
      "name": "Welcome To Colaboratory",
      "toc_visible": true,
      "provenance": [],
      "include_colab_link": true
    },
    "kernelspec": {
      "display_name": "Python 3",
      "name": "python3"
    }
  },
  "nbformat": 4,
  "nbformat_minor": 0
}