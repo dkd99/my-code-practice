{
  "cells": [
    {
      "cell_type": "markdown",
      "metadata": {
        "id": "view-in-github",
        "colab_type": "text"
      },
      "source": [
        "<a href=\"https://colab.research.google.com/github/dkd99/my-code-practice/blob/main/Coding%20week%205.ipynb\" target=\"_parent\"><img src=\"https://colab.research.google.com/assets/colab-badge.svg\" alt=\"Open In Colab\"/></a>"
      ]
    },
    {
      "cell_type": "code",
      "source": [
        "list1=['red','orange','green','blue','white']\n",
        "list2=['black','yellow','green','blue']\n",
        "set1=set(list1)\n",
        "set2=set(list2)\n",
        "set1-set2"
      ],
      "metadata": {
        "id": "GEHQ9BBCXYPe",
        "outputId": "24949c62-a23a-45fc-b12c-4e6ed3e714d6",
        "colab": {
          "base_uri": "https://localhost:8080/"
        }
      },
      "execution_count": null,
      "outputs": [
        {
          "output_type": "execute_result",
          "data": {
            "text/plain": [
              "{'orange', 'red', 'white'}"
            ]
          },
          "metadata": {},
          "execution_count": 1
        }
      ]
    },
    {
      "cell_type": "code",
      "source": [
        "list1=eval(input())\n",
        "list2=eval(input())\n",
        "set1=set(list1)\n",
        "set2=set(list2)\n",
        "x=list(set1-set2)\n",
        "y=list(set2-set1)\n",
        "x.sort()\n",
        "y.sort()\n",
        "print('L1-L2=',x)\n",
        "print('L2-L1=',y)"
      ],
      "metadata": {
        "id": "CfGubDG-X_WU",
        "outputId": "d8d37373-14dc-4713-e0e0-1e3e86a48655",
        "colab": {
          "base_uri": "https://localhost:8080/"
        }
      },
      "execution_count": null,
      "outputs": [
        {
          "output_type": "stream",
          "name": "stdout",
          "text": [
            "['red','orange','green','blue','white']\n",
            "['black','yellow','green','blue']\n",
            "L1-L2= ['orange', 'red', 'white']\n",
            "L2-L1= ['black', 'yellow']\n"
          ]
        }
      ]
    },
    {
      "cell_type": "code",
      "source": [
        "rownumbs = int(input())\n",
        "colnumbs = int(input())\n",
        "for i in range(rownumbs):\n",
        "  b=[]\n",
        "  for j in range(colnumbs):\n",
        "    if j%2==0:\n",
        "      print('1.',end='')\n",
        "    else:\n",
        "      print('0.',end='')\n",
        "  print('')\n"
      ],
      "metadata": {
        "id": "3dymqAk7jUAQ",
        "outputId": "5f4fa152-f10c-442d-9e7d-d379fb7d8731",
        "colab": {
          "base_uri": "https://localhost:8080/"
        }
      },
      "execution_count": null,
      "outputs": [
        {
          "output_type": "stream",
          "name": "stdout",
          "text": [
            "4\n",
            "3\n",
            "1.0.1.\n",
            "1.0.1.\n",
            "1.0.1.\n",
            "1.0.1.\n"
          ]
        }
      ]
    },
    {
      "cell_type": "code",
      "source": [
        "rows= 5\n",
        "colms= 5\n",
        "for i in range(rows):\n",
        "  for j in range(colms):\n",
        "    if i==0 or i==rows-1:\n",
        "      print('0.',end='')\n",
        "    else:\n",
        "      if j==0 or j==colms-1:\n",
        "        print('0.',end='')\n",
        "      else:\n",
        "        print('  ',end='')\n",
        "  print()"
      ],
      "metadata": {
        "id": "d8cp-gcJoGmL",
        "outputId": "1b659611-a333-4824-f1ae-e4657eab0382",
        "colab": {
          "base_uri": "https://localhost:8080/"
        }
      },
      "execution_count": null,
      "outputs": [
        {
          "output_type": "stream",
          "name": "stdout",
          "text": [
            "0.0.0.0.0.\n",
            "0.      0.\n",
            "0.      0.\n",
            "0.      0.\n",
            "0.0.0.0.0.\n"
          ]
        }
      ]
    },
    {
      "cell_type": "code",
      "source": [
        "string=input()\n",
        "st=''\n",
        "for i in range(len(string)-1):\n",
        "  if string[i+1]==string[i]:\n",
        "    st=st+string[i]\n",
        "    st=st+'*'\n",
        "  else:\n",
        "    st=st+string[i]\n",
        "print(st)"
      ],
      "metadata": {
        "id": "BPJBkJYlsWCw",
        "outputId": "738dea5f-7018-4d63-9877-f7fb2d0e76f0",
        "colab": {
          "base_uri": "https://localhost:8080/"
        }
      },
      "execution_count": null,
      "outputs": [
        {
          "output_type": "stream",
          "name": "stdout",
          "text": [
            "Deepakk\n",
            "De*epak*\n"
          ]
        }
      ]
    },
    {
      "cell_type": "code",
      "source": [
        "lst= [10, 20, 30, 40, 50, 60]\n",
        "index= [4, 3, 5, 0, 1, 2]"
      ],
      "metadata": {
        "id": "QYgd_i8RtqJ8"
      },
      "execution_count": null,
      "outputs": []
    },
    {
      "cell_type": "code",
      "source": [
        "new_list=[]\n",
        "for i in index:\n",
        "  new_list.append(lst[i])"
      ],
      "metadata": {
        "id": "RN9CUt3GtonU"
      },
      "execution_count": null,
      "outputs": []
    },
    {
      "cell_type": "code",
      "source": [
        "new_list"
      ],
      "metadata": {
        "id": "RbxnN44st0zi",
        "outputId": "e47c61c2-9eac-47ea-babb-f5b7ccfc0cd6",
        "colab": {
          "base_uri": "https://localhost:8080/"
        }
      },
      "execution_count": null,
      "outputs": [
        {
          "output_type": "execute_result",
          "data": {
            "text/plain": [
              "[50, 40, 60, 10, 20, 30]"
            ]
          },
          "metadata": {},
          "execution_count": 39
        }
      ]
    },
    {
      "cell_type": "code",
      "source": [
        "temp = [0] * len(lst)\n",
        "temp"
      ],
      "metadata": {
        "id": "Ai5X9AZPzsLH",
        "outputId": "033904f3-939b-43a8-fabb-d35f140d33ae",
        "colab": {
          "base_uri": "https://localhost:8080/"
        }
      },
      "execution_count": null,
      "outputs": [
        {
          "output_type": "execute_result",
          "data": {
            "text/plain": [
              "[0, 0, 0, 0, 0, 0]"
            ]
          },
          "metadata": {},
          "execution_count": 44
        }
      ]
    },
    {
      "cell_type": "code",
      "source": [
        "for i in range(0,len(lst)):\n",
        "  temp[index[i]] = arr[i]\n",
        "temp"
      ],
      "metadata": {
        "id": "DK6rVTkNzyge",
        "outputId": "36a6295d-be7b-4be9-aee0-e82fad28f20b",
        "colab": {
          "base_uri": "https://localhost:8080/"
        }
      },
      "execution_count": null,
      "outputs": [
        {
          "output_type": "execute_result",
          "data": {
            "text/plain": [
              "[40, 50, 60, 20, 10, 30]"
            ]
          },
          "metadata": {},
          "execution_count": 45
        }
      ]
    },
    {
      "cell_type": "code",
      "source": [
        "def reorder(arr,index, n):\n",
        " \n",
        "    temp = [0] * n;\n",
        " \n",
        "    # arr[i] should be\n",
        "        # present at index[i] index\n",
        "    for i in range(0,n):\n",
        "        temp[index[i]] = arr[i]\n",
        " \n",
        "    # Copy temp[] to arr[]\n",
        "    for i in range(0,n):\n",
        "        arr[i] = temp[i]\n",
        "        index[i] = i\n",
        "     \n",
        "# Driver program\n",
        "arr = [10, 20, 30, 40, 50, 60]\n",
        "index = [4, 3, 5, 0, 1, 2]\n",
        "n = len(arr)\n",
        " \n",
        "reorder(arr, index, n)\n",
        " \n",
        "print(\"Reordered array is:\")\n",
        "for i in range(0,n):\n",
        "    print(arr[i],end = \" \")\n",
        " \n",
        "print(\"\\nModified Index array is:\")\n",
        "for i in range(0,n):\n",
        "    print(index[i],end = \" \")"
      ],
      "metadata": {
        "id": "eZycQS2_ykaR",
        "outputId": "ed76a29d-91d2-40ac-c57d-6d0f766c440c",
        "colab": {
          "base_uri": "https://localhost:8080/"
        }
      },
      "execution_count": null,
      "outputs": [
        {
          "output_type": "stream",
          "name": "stdout",
          "text": [
            "Reordered array is:\n",
            "40 50 60 20 10 30 \n",
            "Modified Index array is:\n",
            "0 1 2 3 4 5 "
          ]
        }
      ]
    },
    {
      "cell_type": "code",
      "source": [
        "lst= eval(input())\n",
        "index= eval(input())\n",
        "new_list=[]\n",
        "temp=[0]*len(lst)\n",
        "for i in range(0,len(lst)):\n",
        "  temp[index[i]] = lst[i]\n",
        "print('The given list after reordering according to the given indexes list :')\n",
        "print(temp)\n",
        "print('The Index list after reordering:')\n",
        "print(list(range(len(lst))))"
      ],
      "metadata": {
        "id": "Tx3aThEn3rws",
        "outputId": "95c7c957-bd08-4a50-8dbc-c026d3fef8cd",
        "colab": {
          "base_uri": "https://localhost:8080/"
        }
      },
      "execution_count": null,
      "outputs": [
        {
          "output_type": "stream",
          "name": "stdout",
          "text": [
            "[10, 20, 30, 40, 50, 60]\n",
            "[4, 3, 5, 0, 1, 2]\n",
            "The given list after reordering according to the given indexes list :\n",
            "[40, 50, 60, 20, 10, 30]\n",
            "The Index list after reordering:\n",
            "[0, 1, 2, 3, 4, 5]\n"
          ]
        }
      ]
    },
    {
      "cell_type": "code",
      "source": [
        "num_of_elements = int(input())\n",
        "b=[]\n",
        "for i in range(num_of_elements):\n",
        "  a=int(input(f'Enter the element between 0 and {num_of_elements}'))\n",
        "  b.append(a)"
      ],
      "metadata": {
        "id": "_hioHOR15p6x",
        "outputId": "aae2da2f-efa0-4419-a330-61a7f2de3fb2",
        "colab": {
          "base_uri": "https://localhost:8080/"
        }
      },
      "execution_count": null,
      "outputs": [
        {
          "name": "stdout",
          "output_type": "stream",
          "text": [
            "5\n",
            "Enter the element between 0 and 54\n",
            "Enter the element between 0 and 54\n",
            "Enter the element between 0 and 54\n",
            "Enter the element between 0 and 54\n",
            "Enter the element between 0 and 54\n"
          ]
        }
      ]
    },
    {
      "cell_type": "code",
      "source": [
        "b"
      ],
      "metadata": {
        "id": "KooPCcnp9--o",
        "outputId": "7b2e6dfd-85e8-4822-8d3c-d90f92ba0a92",
        "colab": {
          "base_uri": "https://localhost:8080/"
        }
      },
      "execution_count": null,
      "outputs": [
        {
          "output_type": "execute_result",
          "data": {
            "text/plain": [
              "[4, 4, 4, 4, 4]"
            ]
          },
          "metadata": {},
          "execution_count": 53
        }
      ]
    },
    {
      "cell_type": "code",
      "source": [
        "num_of_elements = int(input())\n",
        "b=[]\n",
        "for i in range(num_of_elements):\n",
        "  a=int(input(f'Enter the element between 0 and {num_of_elements}:'))\n",
        "  b.append(a)\n",
        "\n",
        "for i in b:\n",
        "  if b.count(i)>1:\n",
        "    x=b.count(i)\n",
        "    z=i\n",
        "print(f'{z} is repeated {x} times')"
      ],
      "metadata": {
        "id": "eOecj6vx-2Ag",
        "outputId": "3c920353-9ca0-4a39-d9ac-ee1f5eb52bb9",
        "colab": {
          "base_uri": "https://localhost:8080/"
        }
      },
      "execution_count": null,
      "outputs": [
        {
          "output_type": "stream",
          "name": "stdout",
          "text": [
            "5\n",
            "Enter the element between 0 and 5:4\n",
            "Enter the element between 0 and 5:4\n",
            "Enter the element between 0 and 5:4\n",
            "Enter the element between 0 and 5:3\n",
            "Enter the element between 0 and 5:4\n",
            "4 is repeated 4 times\n"
          ]
        }
      ]
    },
    {
      "cell_type": "code",
      "source": [
        "num_elem = int(input())\n",
        "b=[]\n",
        "for i in range(num_elem):\n",
        "  a=int(input())\n",
        "  b.append(a)\n",
        "b=list(set(b))\n",
        "print('Array elements after removing duplicates')\n",
        "for i in b:\n",
        "  print(i)"
      ],
      "metadata": {
        "id": "mjkmmewDZfn1",
        "outputId": "a26709ec-1f13-42cb-8de9-8d013473a8be",
        "colab": {
          "base_uri": "https://localhost:8080/"
        }
      },
      "execution_count": null,
      "outputs": [
        {
          "output_type": "stream",
          "name": "stdout",
          "text": [
            "5\n",
            "4\n",
            "3\n",
            "2\n",
            "7\n",
            "8\n",
            "Array elements after removing duplicates\n",
            "2\n",
            "3\n",
            "4\n",
            "7\n",
            "8\n"
          ]
        }
      ]
    },
    {
      "cell_type": "code",
      "source": [
        "strs =  eval(input())\n",
        "prefix = input()\n",
        "b=[]\n",
        "\n",
        "for i in strs:\n",
        "  if i[:2]==prefix:\n",
        "    b.append(i)\n",
        "print(b)"
      ],
      "metadata": {
        "id": "K9v4xO-4ZoLQ",
        "outputId": "4c15cc7f-1182-4daa-c970-b5a5801bd87e",
        "colab": {
          "base_uri": "https://localhost:8080/"
        }
      },
      "execution_count": null,
      "outputs": [
        {
          "output_type": "stream",
          "name": "stdout",
          "text": [
            "['cat', 'car', 'fear', 'center']\n",
            "ca\n",
            "['cat', 'car']\n"
          ]
        }
      ]
    },
    {
      "cell_type": "code",
      "source": [
        "n = eval(input())\n",
        "\n",
        "if n[0]>n[1]:\n",
        "  print('Decreasing')\n",
        "elif n[0]<n[1]:\n",
        "  print('Increasing')\n",
        "else:\n",
        "  print('Not a monotonic sequence')"
      ],
      "metadata": {
        "id": "RNHyblY0aB68",
        "outputId": "6994f9da-ee17-44d8-dc1a-2e9067f68266",
        "colab": {
          "base_uri": "https://localhost:8080/"
        }
      },
      "execution_count": null,
      "outputs": [
        {
          "output_type": "stream",
          "name": "stdout",
          "text": [
            "[5,4,3,2,1]\n",
            "Decreasing\n"
          ]
        }
      ]
    },
    {
      "cell_type": "code",
      "source": [
        "n =input()\n",
        "b=[]\n",
        "for i in range(0,len(n)-1):\n",
        "  if n[i]==n[i+1]:\n",
        "    b.extend([i,i+1])\n",
        "  else:\n",
        "    pass\n",
        "if b:\n",
        "  print(b)\n",
        "else:\n",
        "  print(None)"
      ],
      "metadata": {
        "id": "5jpsohFraJnY",
        "outputId": "e7c552f9-5fcb-4b52-e89e-6c6823adecf8",
        "colab": {
          "base_uri": "https://localhost:8080/"
        }
      },
      "execution_count": null,
      "outputs": [
        {
          "output_type": "stream",
          "name": "stdout",
          "text": [
            "deeepak\n",
            "[1, 2, 2, 3]\n"
          ]
        }
      ]
    },
    {
      "cell_type": "code",
      "source": [
        "a = int(input())\n",
        "b = int(input())\n",
        "def test(a,b):\n",
        "    r = range(a, b)\n",
        "    if len(r) == 0:\n",
        "        return \"-1\"\n",
        "    return bin(round(sum(r) / len(r)))\n",
        "print(test(a,b))"
      ],
      "metadata": {
        "id": "tN5UWicyaZRd",
        "outputId": "c6323198-fe34-4157-9e89-7d7f4f345dcc",
        "colab": {
          "base_uri": "https://localhost:8080/"
        }
      },
      "execution_count": null,
      "outputs": [
        {
          "output_type": "stream",
          "name": "stdout",
          "text": [
            "5\n",
            "9\n",
            "0b110\n"
          ]
        }
      ]
    },
    {
      "cell_type": "code",
      "source": [
        "n = 3\n",
        "a='1'\n",
        "b='1'\n",
        "for i in range(n-1):\n",
        "  a=a+'0'\n",
        "for i in range(n):\n",
        "  b=b+'0'\n",
        "c=[]\n",
        "for i in range(int(a),int(b)):\n",
        "  i=str(i)\n",
        "  if i[0]=='2' or i[len(i)-1]=='2':\n",
        "    c.append(int(i))\n",
        "  else:\n",
        "    pass\n",
        "print(c)"
      ],
      "metadata": {
        "id": "RdGxlxySk2Ex",
        "outputId": "fcec88e0-1068-404b-ea37-e232cdbaf309",
        "colab": {
          "base_uri": "https://localhost:8080/"
        }
      },
      "execution_count": 3,
      "outputs": [
        {
          "output_type": "stream",
          "name": "stdout",
          "text": [
            "[102, 112, 122, 132, 142, 152, 162, 172, 182, 192, 200, 201, 202, 203, 204, 205, 206, 207, 208, 209, 210, 211, 212, 213, 214, 215, 216, 217, 218, 219, 220, 221, 222, 223, 224, 225, 226, 227, 228, 229, 230, 231, 232, 233, 234, 235, 236, 237, 238, 239, 240, 241, 242, 243, 244, 245, 246, 247, 248, 249, 250, 251, 252, 253, 254, 255, 256, 257, 258, 259, 260, 261, 262, 263, 264, 265, 266, 267, 268, 269, 270, 271, 272, 273, 274, 275, 276, 277, 278, 279, 280, 281, 282, 283, 284, 285, 286, 287, 288, 289, 290, 291, 292, 293, 294, 295, 296, 297, 298, 299, 302, 312, 322, 332, 342, 352, 362, 372, 382, 392, 402, 412, 422, 432, 442, 452, 462, 472, 482, 492, 502, 512, 522, 532, 542, 552, 562, 572, 582, 592, 602, 612, 622, 632, 642, 652, 662, 672, 682, 692, 702, 712, 722, 732, 742, 752, 762, 772, 782, 792, 802, 812, 822, 832, 842, 852, 862, 872, 882, 892, 902, 912, 922, 932, 942, 952, 962, 972, 982, 992]\n"
          ]
        }
      ]
    },
    {
      "cell_type": "code",
      "source": [
        "lst=eval(input())\n",
        "n = int(input())\n",
        "i=1\n",
        "while i<len(lst):\n",
        "  lst.insert(i,n)\n",
        "  i=i+2\n",
        "  print(len(lst))\n",
        "  print(i)\n",
        "  \n",
        "print(lst)"
      ],
      "metadata": {
        "id": "kL24IsAWnbSq",
        "outputId": "07f924b8-3b4e-4857-e5e7-793e34ea349a",
        "colab": {
          "base_uri": "https://localhost:8080/"
        }
      },
      "execution_count": 8,
      "outputs": [
        {
          "output_type": "stream",
          "name": "stdout",
          "text": [
            "[12, -7, 3, -89, 14, 88, -78, -1, 2, 7]\n",
            "6\n",
            "11\n",
            "3\n",
            "12\n",
            "5\n",
            "13\n",
            "7\n",
            "14\n",
            "9\n",
            "15\n",
            "11\n",
            "16\n",
            "13\n",
            "17\n",
            "15\n",
            "18\n",
            "17\n",
            "19\n",
            "19\n",
            "[12, 6, -7, 6, 3, 6, -89, 6, 14, 6, 88, 6, -78, 6, -1, 6, 2, 6, 7]\n"
          ]
        }
      ]
    },
    {
      "cell_type": "code",
      "source": [
        "n = input()\n",
        "I=['a','e','i','o','u','A','E','I','O','U'] \n",
        "for i in range(1,len(n)-1):\n",
        "  if n[i-1] not in I and n[i] in I and n[i+1] not in I:\n",
        "    print(n[i-1:i+2])\n",
        "  else:\n",
        "    pass"
      ],
      "metadata": {
        "id": "8P8XUvp2r8lR",
        "outputId": "24b63f45-afea-4782-8116-f923d32737ed",
        "colab": {
          "base_uri": "https://localhost:8080/"
        }
      },
      "execution_count": 12,
      "outputs": [
        {
          "output_type": "stream",
          "name": "stdout",
          "text": [
            "Python\n",
            "hon\n"
          ]
        }
      ]
    },
    {
      "cell_type": "code",
      "source": [
        "n = eval(input())\n",
        "a=[sorted([i,j,k]) for i in n for j in n for k in n if i+j+k==0 and i!=j and i!=k ]\n",
        "c=[]\n",
        "index=[]\n",
        "for i in a:\n",
        "  if a.count(i)>1 and i not in c:\n",
        "    c.append(i)\n",
        "  else:\n",
        "    pass\n",
        "print(c)\n",
        "x=0\n",
        "for num1 in range(len(c)):\n",
        "  index.append([])\n",
        "  print(index)\n",
        "  for num2 in range(3):\n",
        "    index[num1].append(n.index(c[num1][num2]))\n",
        "    x=x+1\n",
        "print(index)"
      ],
      "metadata": {
        "id": "n3myajNztJnF",
        "outputId": "04ef7948-055e-474e-c1c7-a45138bf049b",
        "colab": {
          "base_uri": "https://localhost:8080/"
        }
      },
      "execution_count": 48,
      "outputs": [
        {
          "output_type": "stream",
          "name": "stdout",
          "text": [
            "[2,-1,-1,-1]\n",
            "[[-1, -1, 2]]\n",
            "[[]]\n",
            "[[1, 1, 0]]\n"
          ]
        }
      ]
    },
    {
      "cell_type": "code",
      "source": [
        "n = eval(input())\n",
        "a=[]\n",
        "for i in n:\n",
        "  n.remove(i)\n",
        "  for j in n:\n",
        "    n.remove(j)\n",
        "    for k in n :\n",
        "      if i+j+k==0:\n",
        "        a.append(sorted([i,j,k]))\n",
        "print(sorted(a))"
      ],
      "metadata": {
        "id": "Jk44TsVsvCnG",
        "outputId": "de3094fe-b708-44c4-b65f-4fb68d1877e6",
        "colab": {
          "base_uri": "https://localhost:8080/"
        }
      },
      "execution_count": 24,
      "outputs": [
        {
          "output_type": "stream",
          "name": "stdout",
          "text": [
            "[-1,-2,-3,6,5]\n",
            "[]\n"
          ]
        }
      ]
    }
  ],
  "metadata": {
    "colab": {
      "name": "Welcome To Colaboratory",
      "toc_visible": true,
      "provenance": [],
      "include_colab_link": true
    },
    "kernelspec": {
      "display_name": "Python 3",
      "name": "python3"
    }
  },
  "nbformat": 4,
  "nbformat_minor": 0
}