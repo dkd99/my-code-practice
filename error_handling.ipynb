{
  "cells": [
    {
      "cell_type": "markdown",
      "metadata": {
        "id": "view-in-github",
        "colab_type": "text"
      },
      "source": [
        "<a href=\"https://colab.research.google.com/github/dkd99/my-code-practice/blob/main/error_handling.ipynb\" target=\"_parent\"><img src=\"https://colab.research.google.com/assets/colab-badge.svg\" alt=\"Open In Colab\"/></a>"
      ]
    },
    {
      "cell_type": "code",
      "source": [
        "def divide(x,y):\n",
        "    \n",
        "    try:\n",
        "        value = 50\n",
        "        x.append(value)\n",
        "    \n",
        "    except AttributeError as atr_err:\n",
        "        print(atr_err)\n",
        "        \n",
        "    else:\n",
        "        try:\n",
        "            result = [i / y for i in x]\n",
        "            print( result )\n",
        "        except ZeroDivisionError:\n",
        "            print(\"Please change 'y' argument to non-zero value\")\n",
        "\n",
        "    finally:\n",
        "      print(\"\\033[92m Code by DataCamp\\033[00m\")"
      ],
      "metadata": {
        "id": "7zaJ9ZZEAzRr"
      },
      "execution_count": 11,
      "outputs": []
    },
    {
      "cell_type": "code",
      "source": [
        "divide([1,2,3],0)"
      ],
      "metadata": {
        "id": "CsQAfAWpBLPA",
        "outputId": "2c25276d-497d-447c-8bf4-022abeb1d4d4",
        "colab": {
          "base_uri": "https://localhost:8080/"
        }
      },
      "execution_count": 5,
      "outputs": [
        {
          "output_type": "stream",
          "name": "stdout",
          "text": [
            "Please change 'y' argument to non-zero value\n",
            "\u001b[92m Code by DataCamp\u001b[00m\n"
          ]
        }
      ]
    },
    {
      "cell_type": "code",
      "source": [
        "divide(1,4)"
      ],
      "metadata": {
        "id": "XURTnwzhCYs0",
        "outputId": "7d4ccdce-0eea-48b6-c5a5-d4d16851e890",
        "colab": {
          "base_uri": "https://localhost:8080/"
        }
      },
      "execution_count": 12,
      "outputs": [
        {
          "output_type": "stream",
          "name": "stdout",
          "text": [
            "'int' object has no attribute 'append'\n",
            "\u001b[92m Code by DataCamp\u001b[00m\n"
          ]
        }
      ]
    },
    {
      "cell_type": "code",
      "source": [
        "def divide(x,y):\n",
        "    try:\n",
        "        result = x/y\n",
        "    except ZeroDivisionError as ex:\n",
        "        print(ex)\n",
        "        print(\"Please change 'y' argument to non-zero value\")\n",
        "    except:\n",
        "        print(\"Something went wrong\")\n",
        "    else:\n",
        "        print(f\"Your answer is {result}\")\n",
        "    finally:\n",
        "        print(\"\\033[92m Code by DataCamp\\033[00m\")"
      ],
      "metadata": {
        "id": "fsMkBv-cBoUx"
      },
      "execution_count": 9,
      "outputs": []
    },
    {
      "cell_type": "code",
      "source": [
        "divide(1,'g')"
      ],
      "metadata": {
        "id": "M2__ZlN0BrFO",
        "outputId": "06c080bd-4a46-4394-ea96-5029cbd5d91d",
        "colab": {
          "base_uri": "https://localhost:8080/"
        }
      },
      "execution_count": 8,
      "outputs": [
        {
          "output_type": "stream",
          "name": "stdout",
          "text": [
            "Something went wrong\n",
            "\u001b[92m Code by DataCamp\u001b[00m\n"
          ]
        }
      ]
    },
    {
      "cell_type": "code",
      "source": [
        "divide(1,0)"
      ],
      "metadata": {
        "id": "U9qJ0iRYCMSu",
        "outputId": "9056212c-f75b-4cf5-eb0b-91c21dad8775",
        "colab": {
          "base_uri": "https://localhost:8080/"
        }
      },
      "execution_count": 10,
      "outputs": [
        {
          "output_type": "stream",
          "name": "stdout",
          "text": [
            "division by zero\n",
            "Please change 'y' argument to non-zero value\n",
            "\u001b[92m Code by DataCamp\u001b[00m\n"
          ]
        }
      ]
    },
    {
      "cell_type": "code",
      "source": [
        "def file_editor(path,text):\n",
        "    try:\n",
        "      data = open(path)\n",
        "\n",
        "      try:\n",
        "        data.write(text)\n",
        "\n",
        "      except:\n",
        "        print(\"Unable to write the data. Please add an append: 'a' or write: 'w' parameter to the open() function.\")\n",
        "\n",
        "      finally:\n",
        "        data.close()\n",
        "\n",
        "    except:\n",
        "      print(f\"{path} file is not found!!\")"
      ],
      "metadata": {
        "id": "DneWdm4xC3I6"
      },
      "execution_count": null,
      "outputs": []
    },
    {
      "cell_type": "code",
      "source": [
        "path = \"data.txt\"\n",
        "text = \"DataCamp Workspace: Share your data analysis in a cloud-based environment--no installation required.\"\n",
        "\n",
        "file_editor(path,text)"
      ],
      "metadata": {
        "id": "CrPVapCmC_A-",
        "outputId": "56ae68e6-62eb-4272-af73-d1b7d06a9371",
        "colab": {
          "base_uri": "https://localhost:8080/",
          "height": 200
        }
      },
      "execution_count": 14,
      "outputs": [
        {
          "output_type": "error",
          "ename": "NameError",
          "evalue": "ignored",
          "traceback": [
            "\u001b[0;31m---------------------------------------------------------------------------\u001b[0m",
            "\u001b[0;31mNameError\u001b[0m                                 Traceback (most recent call last)",
            "\u001b[0;32m<ipython-input-14-9dfe5a38b17c>\u001b[0m in \u001b[0;36m<cell line: 4>\u001b[0;34m()\u001b[0m\n\u001b[1;32m      2\u001b[0m \u001b[0mtext\u001b[0m \u001b[0;34m=\u001b[0m \u001b[0;34m\"DataCamp Workspace: Share your data analysis in a cloud-based environment--no installation required.\"\u001b[0m\u001b[0;34m\u001b[0m\u001b[0;34m\u001b[0m\u001b[0m\n\u001b[1;32m      3\u001b[0m \u001b[0;34m\u001b[0m\u001b[0m\n\u001b[0;32m----> 4\u001b[0;31m \u001b[0mfile_editor\u001b[0m\u001b[0;34m(\u001b[0m\u001b[0mpath\u001b[0m\u001b[0;34m,\u001b[0m\u001b[0mtext\u001b[0m\u001b[0;34m)\u001b[0m\u001b[0;34m\u001b[0m\u001b[0;34m\u001b[0m\u001b[0m\n\u001b[0m",
            "\u001b[0;31mNameError\u001b[0m: name 'file_editor' is not defined"
          ]
        }
      ]
    },
    {
      "cell_type": "code",
      "source": [
        "value = 2_000\n",
        "if value > 1_000:   \n",
        "    # raise the ValueError\n",
        "    raise ValueError(\"Please add a value lower than 1,000\")\n",
        "else:\n",
        "    print(\"Congratulations! You are the winner!!\")"
      ],
      "metadata": {
        "id": "KLTvLmrjDN28",
        "outputId": "0787c8ab-e98a-4ccd-b312-24fea09241f6",
        "colab": {
          "base_uri": "https://localhost:8080/",
          "height": 235
        }
      },
      "execution_count": 15,
      "outputs": [
        {
          "output_type": "error",
          "ename": "ValueError",
          "evalue": "ignored",
          "traceback": [
            "\u001b[0;31m---------------------------------------------------------------------------\u001b[0m",
            "\u001b[0;31mValueError\u001b[0m                                Traceback (most recent call last)",
            "\u001b[0;32m<ipython-input-15-961526812738>\u001b[0m in \u001b[0;36m<cell line: 2>\u001b[0;34m()\u001b[0m\n\u001b[1;32m      2\u001b[0m \u001b[0;32mif\u001b[0m \u001b[0mvalue\u001b[0m \u001b[0;34m>\u001b[0m \u001b[0;36m1_000\u001b[0m\u001b[0;34m:\u001b[0m\u001b[0;34m\u001b[0m\u001b[0;34m\u001b[0m\u001b[0m\n\u001b[1;32m      3\u001b[0m     \u001b[0;31m# raise the ValueError\u001b[0m\u001b[0;34m\u001b[0m\u001b[0;34m\u001b[0m\u001b[0m\n\u001b[0;32m----> 4\u001b[0;31m     \u001b[0;32mraise\u001b[0m \u001b[0mValueError\u001b[0m\u001b[0;34m(\u001b[0m\u001b[0;34m\"Please add a value lower than 1,000\"\u001b[0m\u001b[0;34m)\u001b[0m\u001b[0;34m\u001b[0m\u001b[0;34m\u001b[0m\u001b[0m\n\u001b[0m\u001b[1;32m      5\u001b[0m \u001b[0;32melse\u001b[0m\u001b[0;34m:\u001b[0m\u001b[0;34m\u001b[0m\u001b[0;34m\u001b[0m\u001b[0m\n\u001b[1;32m      6\u001b[0m     \u001b[0mprint\u001b[0m\u001b[0;34m(\u001b[0m\u001b[0;34m\"Congratulations! You are the winner!!\"\u001b[0m\u001b[0;34m)\u001b[0m\u001b[0;34m\u001b[0m\u001b[0;34m\u001b[0m\u001b[0m\n",
            "\u001b[0;31mValueError\u001b[0m: Please add a value lower than 1,000"
          ]
        }
      ]
    },
    {
      "cell_type": "code",
      "source": [
        "if value > 1_000:   \n",
        "    # raise the Exception\n",
        "    raise Exception(\"Please add a value lower than 1,000\")\n",
        "else:\n",
        "    print(\"Congratulations! You are the winner!!\")"
      ],
      "metadata": {
        "id": "OaXQk9nsDPv0",
        "outputId": "8ce5c0da-49fb-49c4-ad3d-e07c6cf0e708",
        "colab": {
          "base_uri": "https://localhost:8080/",
          "height": 235
        }
      },
      "execution_count": 16,
      "outputs": [
        {
          "output_type": "error",
          "ename": "Exception",
          "evalue": "ignored",
          "traceback": [
            "\u001b[0;31m---------------------------------------------------------------------------\u001b[0m",
            "\u001b[0;31mException\u001b[0m                                 Traceback (most recent call last)",
            "\u001b[0;32m<ipython-input-16-e3756e626460>\u001b[0m in \u001b[0;36m<cell line: 1>\u001b[0;34m()\u001b[0m\n\u001b[1;32m      1\u001b[0m \u001b[0;32mif\u001b[0m \u001b[0mvalue\u001b[0m \u001b[0;34m>\u001b[0m \u001b[0;36m1_000\u001b[0m\u001b[0;34m:\u001b[0m\u001b[0;34m\u001b[0m\u001b[0;34m\u001b[0m\u001b[0m\n\u001b[1;32m      2\u001b[0m     \u001b[0;31m# raise the Exception\u001b[0m\u001b[0;34m\u001b[0m\u001b[0;34m\u001b[0m\u001b[0m\n\u001b[0;32m----> 3\u001b[0;31m     \u001b[0;32mraise\u001b[0m \u001b[0mException\u001b[0m\u001b[0;34m(\u001b[0m\u001b[0;34m\"Please add a value lower than 1,000\"\u001b[0m\u001b[0;34m)\u001b[0m\u001b[0;34m\u001b[0m\u001b[0;34m\u001b[0m\u001b[0m\n\u001b[0m\u001b[1;32m      4\u001b[0m \u001b[0;32melse\u001b[0m\u001b[0;34m:\u001b[0m\u001b[0;34m\u001b[0m\u001b[0;34m\u001b[0m\u001b[0m\n\u001b[1;32m      5\u001b[0m     \u001b[0mprint\u001b[0m\u001b[0;34m(\u001b[0m\u001b[0;34m\"Congratulations! You are the winner!!\"\u001b[0m\u001b[0;34m)\u001b[0m\u001b[0;34m\u001b[0m\u001b[0;34m\u001b[0m\u001b[0m\n",
            "\u001b[0;31mException\u001b[0m: Please add a value lower than 1,000"
          ]
        }
      ]
    },
    {
      "cell_type": "code",
      "source": [
        "value = 2_000\n",
        "try:\n",
        "    if value > 1_000:\n",
        "          \n",
        "        # raise the ValueError\n",
        "        raise ValueError(\"Please add a value lower than 1,000\")\n",
        "    else:\n",
        "        print(\"Congratulations! You are the winner!!\")\n",
        "              \n",
        "# if false then raise the value error\n",
        "except ValueError as e:\n",
        "        print(e)"
      ],
      "metadata": {
        "id": "YEJKOwtYDpuR",
        "outputId": "31040c68-af53-43ba-c198-2a5ce30518f6",
        "colab": {
          "base_uri": "https://localhost:8080/"
        }
      },
      "execution_count": 23,
      "outputs": [
        {
          "output_type": "stream",
          "name": "stdout",
          "text": [
            "Please add a value lower than 1,000\n"
          ]
        }
      ]
    }
  ],
  "metadata": {
    "colab": {
      "name": "Welcome To Colaboratory",
      "toc_visible": true,
      "provenance": [],
      "include_colab_link": true
    },
    "kernelspec": {
      "display_name": "Python 3",
      "name": "python3"
    }
  },
  "nbformat": 4,
  "nbformat_minor": 0
}