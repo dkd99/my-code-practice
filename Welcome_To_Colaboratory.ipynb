{
  "cells": [
    {
      "cell_type": "markdown",
      "metadata": {
        "id": "view-in-github",
        "colab_type": "text"
      },
      "source": [
        "<a href=\"https://colab.research.google.com/github/dkd99/my-code-practice/blob/main/Welcome_To_Colaboratory.ipynb\" target=\"_parent\"><img src=\"https://colab.research.google.com/assets/colab-badge.svg\" alt=\"Open In Colab\"/></a>"
      ]
    },
    {
      "cell_type": "code",
      "source": [
        "n=3\n",
        "for i in range(1,n):\n",
        "  print('*'*i)\n"
      ],
      "metadata": {
        "id": "fqvBoBtw2OVO",
        "outputId": "74cee5d0-8648-44bd-9645-6af3858bfe7e",
        "colab": {
          "base_uri": "https://localhost:8080/"
        }
      },
      "execution_count": null,
      "outputs": [
        {
          "output_type": "stream",
          "name": "stdout",
          "text": [
            "*\n",
            "**\n"
          ]
        }
      ]
    },
    {
      "cell_type": "code",
      "source": [
        "n=int(input())\n",
        "s=['A','B','C','D','E','F','G','H','I','J','K','L','M','N','O','P','Q','R','S','T','U','V','W','X','Y','Z']\n",
        "for i in range(1,n):\n",
        "  print(s[i-1]*i)"
      ],
      "metadata": {
        "id": "xXmAQAYl3MPM",
        "outputId": "594613f4-0190-4de9-ed32-c48e439d5d61",
        "colab": {
          "base_uri": "https://localhost:8080/"
        }
      },
      "execution_count": null,
      "outputs": [
        {
          "output_type": "stream",
          "name": "stdout",
          "text": [
            "4\n",
            "A\n",
            "BB\n",
            "CCC\n"
          ]
        }
      ]
    },
    {
      "cell_type": "code",
      "source": [
        "n=int(input())\n",
        "s=['0','1','2','3','4','5','6','7','8','9']\n",
        "for i in range(n):\n",
        "  if i==0:\n",
        "    print(1)\n",
        "  elif i==1:\n",
        "    print(11)\n",
        "  else:\n",
        "    print(s[i]+s[0]*(i-1)+s[i])"
      ],
      "metadata": {
        "id": "BeK5p2DD37Y_",
        "outputId": "02dd69b4-bd3a-4cff-b04d-2b14bf7833f0",
        "colab": {
          "base_uri": "https://localhost:8080/"
        }
      },
      "execution_count": null,
      "outputs": [
        {
          "output_type": "stream",
          "name": "stdout",
          "text": [
            "8\n",
            "1\n",
            "11\n",
            "202\n",
            "3003\n",
            "40004\n",
            "500005\n",
            "6000006\n",
            "70000007\n"
          ]
        }
      ]
    },
    {
      "cell_type": "code",
      "source": [
        "s='*'\n",
        "s*5"
      ],
      "metadata": {
        "id": "lPuqiAUH2a7O",
        "outputId": "30375417-8bdf-4cd2-82ce-68d58326980b",
        "colab": {
          "base_uri": "https://localhost:8080/",
          "height": 36
        }
      },
      "execution_count": null,
      "outputs": [
        {
          "output_type": "execute_result",
          "data": {
            "text/plain": [
              "'*****'"
            ],
            "application/vnd.google.colaboratory.intrinsic+json": {
              "type": "string"
            }
          },
          "metadata": {},
          "execution_count": 1
        }
      ]
    },
    {
      "cell_type": "code",
      "source": [
        "n=int(input())\n",
        "s=['A','B','C','D','E','F','G','H','I','J','K','L','M','N','O','P','Q','R','S','T','U','V','W','X','Y','Z']\n",
        "for i in range(n):\n",
        "  "
      ],
      "metadata": {
        "id": "mZuUBpAm5K5w"
      },
      "execution_count": null,
      "outputs": []
    },
    {
      "cell_type": "code",
      "source": [
        "n=int(input())\n",
        "s=['A','B','C','D','E','F','G','H','I','J','K','L','M','N','O','P','Q','R','S','T','U','V','W','X','Y','Z']\n",
        "i=0\n",
        "while i <n:\n",
        "  z=i\n",
        "  \n",
        "  for x in range(n):\n",
        "    \n",
        "    print(s[z],end='')\n",
        "    z=z+1\n",
        "  print('')\n",
        "  i=i+1"
      ],
      "metadata": {
        "id": "VnyR2_wm5yzw",
        "outputId": "53340bbe-b8f7-4705-bd7f-ef1192b57a83",
        "colab": {
          "base_uri": "https://localhost:8080/"
        }
      },
      "execution_count": null,
      "outputs": [
        {
          "output_type": "stream",
          "name": "stdout",
          "text": [
            "8\n",
            "ABCDEFGH\n",
            "BCDEFGHI\n",
            "CDEFGHIJ\n",
            "DEFGHIJK\n",
            "EFGHIJKL\n",
            "FGHIJKLM\n",
            "GHIJKLMN\n",
            "HIJKLMNO\n"
          ]
        }
      ]
    },
    {
      "cell_type": "code",
      "source": [
        "n=int(input())\n",
        "s=['0','1','2','3','4','5','6','7','8','9']\n",
        "for i in range(n): \n",
        "  print(s[n-i]*(n-i))"
      ],
      "metadata": {
        "id": "gzmE5rmC7HmM",
        "outputId": "7cca65a1-74fd-4af8-907a-debe3b9a4b72",
        "colab": {
          "base_uri": "https://localhost:8080/"
        }
      },
      "execution_count": null,
      "outputs": [
        {
          "output_type": "stream",
          "name": "stdout",
          "text": [
            "4\n",
            "4444\n",
            "333\n",
            "22\n",
            "1\n"
          ]
        }
      ]
    },
    {
      "cell_type": "code",
      "source": [
        "print(' '*3+'1')"
      ],
      "metadata": {
        "id": "EwRTiIcSBklh",
        "outputId": "5c1f4bab-d01a-486b-e106-8af637b204fb",
        "colab": {
          "base_uri": "https://localhost:8080/"
        }
      },
      "execution_count": null,
      "outputs": [
        {
          "output_type": "stream",
          "name": "stdout",
          "text": [
            "   1\n"
          ]
        }
      ]
    },
    {
      "cell_type": "code",
      "source": [
        "      1\n",
        "    21\n",
        "  321\n",
        "4321"
      ],
      "metadata": {
        "id": "bBSyEyeQBRqT"
      },
      "execution_count": null,
      "outputs": []
    },
    {
      "cell_type": "code",
      "source": [
        "print(1,end='')\n",
        "print(2)"
      ],
      "metadata": {
        "id": "4vJsHZiVHjJM",
        "outputId": "fb2da7bb-8363-43c4-bd2f-1392e268a5f6",
        "colab": {
          "base_uri": "https://localhost:8080/"
        }
      },
      "execution_count": null,
      "outputs": [
        {
          "output_type": "stream",
          "name": "stdout",
          "text": [
            "12\n"
          ]
        }
      ]
    },
    {
      "cell_type": "code",
      "source": [
        "print(range(0))"
      ],
      "metadata": {
        "id": "zR8bCimlIU9g",
        "outputId": "0549ec8c-f5d8-4208-8ad1-3c6b942f7f24",
        "colab": {
          "base_uri": "https://localhost:8080/"
        }
      },
      "execution_count": null,
      "outputs": [
        {
          "output_type": "stream",
          "name": "stdout",
          "text": [
            "range(0, 0)\n"
          ]
        }
      ]
    },
    {
      "cell_type": "code",
      "source": [
        "n=int(input())\n",
        "s=['1','2','3','4','5','6','7','8','9']\n",
        "i=1\n",
        "while i<n+1:\n",
        "  z=i\n",
        "  print(' '*(n-i),end='')\n",
        "  x=i\n",
        "  while x>0:\n",
        "    print(s[x-1],end='')\n",
        "    x=x-1\n",
        "  i=i+1\n",
        "  print('')\n",
        "\n",
        "\n",
        "\n"
      ],
      "metadata": {
        "id": "GdlcRlQ7BB6u",
        "outputId": "315a9c11-c5c3-45b7-9e15-912631b64658",
        "colab": {
          "base_uri": "https://localhost:8080/"
        }
      },
      "execution_count": null,
      "outputs": [
        {
          "output_type": "stream",
          "name": "stdout",
          "text": [
            "8\n",
            "       1\n",
            "      21\n",
            "     321\n",
            "    4321\n",
            "   54321\n",
            "  654321\n",
            " 7654321\n",
            "87654321\n"
          ]
        }
      ]
    },
    {
      "cell_type": "code",
      "source": [
        "n = int(input())\n",
        "x=1\n",
        "for i in range(n):\n",
        "  a=n\n",
        "  \n",
        "  if x==1:\n",
        "    \n",
        "    x=str(x)\n",
        "    print(x*(n-i))\n",
        "    x=int(x)\n",
        "    x=x-1\n",
        "  else:\n",
        "    x=str(x)\n",
        "    print(x*(n-i-1))\n",
        "    x=int(x)\n",
        "    x=x+1"
      ],
      "metadata": {
        "colab": {
          "base_uri": "https://localhost:8080/",
          "height": 252
        },
        "id": "RUFbtqja8o76",
        "outputId": "de3dc60a-5916-4771-cc64-46ef030b4bee"
      },
      "execution_count": 27,
      "outputs": [
        {
          "name": "stdout",
          "output_type": "stream",
          "text": [
            "5\n"
          ]
        },
        {
          "output_type": "error",
          "ename": "TypeError",
          "evalue": "ignored",
          "traceback": [
            "\u001b[0;31m---------------------------------------------------------------------------\u001b[0m",
            "\u001b[0;31mTypeError\u001b[0m                                 Traceback (most recent call last)",
            "\u001b[0;32m<ipython-input-27-10298f0a9353>\u001b[0m in \u001b[0;36m<module>\u001b[0;34m\u001b[0m\n\u001b[1;32m      6\u001b[0m   \u001b[0;32mif\u001b[0m \u001b[0mx\u001b[0m\u001b[0;34m==\u001b[0m\u001b[0;36m1\u001b[0m\u001b[0;34m:\u001b[0m\u001b[0;34m\u001b[0m\u001b[0;34m\u001b[0m\u001b[0m\n\u001b[1;32m      7\u001b[0m \u001b[0;34m\u001b[0m\u001b[0m\n\u001b[0;32m----> 8\u001b[0;31m     \u001b[0mx\u001b[0m\u001b[0;34m=\u001b[0m\u001b[0mstr\u001b[0m\u001b[0;34m(\u001b[0m\u001b[0mx\u001b[0m\u001b[0;34m)\u001b[0m\u001b[0;34m\u001b[0m\u001b[0;34m\u001b[0m\u001b[0m\n\u001b[0m\u001b[1;32m      9\u001b[0m     \u001b[0mprint\u001b[0m\u001b[0;34m(\u001b[0m\u001b[0mx\u001b[0m\u001b[0;34m*\u001b[0m\u001b[0;34m(\u001b[0m\u001b[0mn\u001b[0m\u001b[0;34m-\u001b[0m\u001b[0mi\u001b[0m\u001b[0;34m)\u001b[0m\u001b[0;34m)\u001b[0m\u001b[0;34m\u001b[0m\u001b[0;34m\u001b[0m\u001b[0m\n\u001b[1;32m     10\u001b[0m     \u001b[0mx\u001b[0m\u001b[0;34m=\u001b[0m\u001b[0mint\u001b[0m\u001b[0;34m(\u001b[0m\u001b[0mx\u001b[0m\u001b[0;34m)\u001b[0m\u001b[0;34m\u001b[0m\u001b[0;34m\u001b[0m\u001b[0m\n",
            "\u001b[0;31mTypeError\u001b[0m: 'str' object is not callable"
          ]
        }
      ]
    },
    {
      "cell_type": "code",
      "source": [
        "str=''\n",
        "len(str)"
      ],
      "metadata": {
        "colab": {
          "base_uri": "https://localhost:8080/"
        },
        "id": "gXsSKoBcBzAS",
        "outputId": "3f8fe416-6de4-4f29-fa49-e98bb59b0bd6"
      },
      "execution_count": 3,
      "outputs": [
        {
          "output_type": "execute_result",
          "data": {
            "text/plain": [
              "0"
            ]
          },
          "metadata": {},
          "execution_count": 3
        }
      ]
    },
    {
      "cell_type": "code",
      "source": [
        "print(' '*4,end='')\n",
        "print(1)"
      ],
      "metadata": {
        "colab": {
          "base_uri": "https://localhost:8080/"
        },
        "id": "wMg8arreCYEu",
        "outputId": "cb4e7e3e-bd1b-413f-9279-69448718c224"
      },
      "execution_count": 7,
      "outputs": [
        {
          "output_type": "stream",
          "name": "stdout",
          "text": [
            "    0\n"
          ]
        }
      ]
    },
    {
      "cell_type": "code",
      "source": [
        "n=int(input())\n",
        "a=n\n",
        "z=''\n",
        "for i in range(1,n+1):\n",
        "  z=''\n",
        "  y=i\n",
        "  b=n-i+1\n",
        "  print(' '*(n-b),end='')\n",
        "  while b>0:\n",
        "    y=y.__str__()\n",
        "      \n",
        "    \n",
        "    print(y,end='')\n",
        "    z=z+y\n",
        "    y=int(y)\n",
        "    y=y+1\n",
        "    b=b-1\n",
        "  print('')\n",
        "\n",
        "for i in range(n+1,2*n):\n",
        "  y=n\n",
        "  c=i-n\n",
        "  d=2*n-i-1\n",
        "  print(' '*(d),end='')\n",
        "  y=y-c\n",
        "  while c>0:\n",
        "    \n",
        "    print(y.__str__(),end='')\n",
        "    y=int(y)\n",
        "    y=y+1\n",
        "    c=c-1\n",
        "  print(n.__str__(),end='')\n",
        "  print('')\n",
        "\n",
        "\n",
        "\n",
        "\n",
        "\n",
        "  \n",
        "  \n",
        "   \n",
        " \n",
        "\n",
        "      \n",
        "\n",
        "\n",
        "  \n",
        "  \n",
        "  \n",
        "\n",
        "   \n",
        "    \n",
        "  \n",
        "  \n",
        "   "
      ],
      "metadata": {
        "colab": {
          "base_uri": "https://localhost:8080/"
        },
        "id": "r0AbSGMXFtz_",
        "outputId": "bb34e746-e3b4-4b3c-c9bf-8e831d06fafc"
      },
      "execution_count": 1,
      "outputs": [
        {
          "output_type": "stream",
          "name": "stdout",
          "text": [
            "8\n",
            "12345678\n",
            " 2345678\n",
            "  345678\n",
            "   45678\n",
            "    5678\n",
            "     678\n",
            "      78\n",
            "       8\n",
            "      78\n",
            "     678\n",
            "    5678\n",
            "   45678\n",
            "  345678\n",
            " 2345678\n",
            "12345678\n"
          ]
        }
      ]
    },
    {
      "cell_type": "code",
      "source": [
        "for x in range(int((5+1)/2)):\n",
        "  if x==0:\n",
        "    print(10)\n",
        "  else:\n",
        "    print(x)"
      ],
      "metadata": {
        "colab": {
          "base_uri": "https://localhost:8080/"
        },
        "id": "lewW2TLxYMUM",
        "outputId": "38b63949-4ad0-4ad0-da7c-6ff05d7bd88b"
      },
      "execution_count": 43,
      "outputs": [
        {
          "output_type": "stream",
          "name": "stdout",
          "text": [
            "10\n",
            "1\n",
            "2\n"
          ]
        }
      ]
    },
    {
      "cell_type": "code",
      "source": [
        "n = int(input())\n",
        "if n%2!=0:\n",
        "  z=[]\n",
        "  x=list(range(1,n+1))\n",
        "  a=1\n",
        "  for d in range(int((n+1)/2)):\n",
        "    \n",
        "\n",
        "    z=[]\n",
        "    for i in x:\n",
        "      i=i.__str__()\n",
        "      print(i,end='')\n",
        "      i=int(i)\n",
        "      i=i+10\n",
        "      z.append(i)\n",
        "    \n",
        "    print('')\n",
        "    for i in range(len(x)):\n",
        "      x[i]=z[i]\n",
        "  \n",
        "    \n",
        "      \n",
        "\n",
        "    for d in range(int((n+1)/2),n):\n",
        "      z=[]\n",
        "      if d==int((n+1)/2):\n",
        "        for i in x:\n",
        "          i=i.__str__()\n",
        "          print(i,end='')\n",
        "          i=int(i)\n",
        "          i=i-5\n",
        "          z.append(i)\n",
        "    \n",
        "        print('')\n",
        "        for i in range(len(x)):\n",
        "          x[i]=z[i]\n",
        "      else:\n",
        "        for i in x:\n",
        "          i=i.__str__()\n",
        "          print(i,end='')\n",
        "          i=int(i)\n",
        "          i=i-10\n",
        "          z.append(i)\n",
        "    \n",
        "        print('')\n",
        "        for i in range(len(x)):\n",
        "          x[i]=z[i]\n",
        "\n",
        "\n",
        "else:\n",
        "  z=[]\n",
        "  x=list(range(1,n+1))\n",
        "  a=1\n",
        "  for d in range(int((n)/2)):\n",
        "\n",
        "    \n",
        "\n",
        "    z=[]\n",
        "    for i in x:\n",
        "      i=i.__str__()\n",
        "      print(i,end='')\n",
        "      i=int(i)\n",
        "      i=i+10\n",
        "      z.append(i)\n",
        "    a=a+1\n",
        "    print('')\n",
        "    for i in range(len(x)):\n",
        "      x[i]=z[i]\n",
        "    for d in range(int((n)/2),n):\n",
        "      z=[]\n",
        "      if d==int((n+1)/2):\n",
        "        for i in x:\n",
        "          i=i.__str__()\n",
        "          print(i,end='')\n",
        "          i=int(i)\n",
        "          i=i-5\n",
        "          z.append(i)\n",
        "    \n",
        "        print('')\n",
        "        for i in range(len(x)):\n",
        "          x[i]=z[i]\n",
        "      else:\n",
        "        for i in x:\n",
        "          i=i.__str__()\n",
        "          print(i,end='')\n",
        "          i=int(i)\n",
        "          i=i-10\n",
        "          z.append(i)\n",
        "    \n",
        "        print('')\n",
        "        for i in range(len(x)):\n",
        "          x[i]=z[i]\n",
        "        for i in x:\n",
        "          i=i.__str__()\n",
        "          print(i,end='')\n",
        "\n",
        "\n",
        "\n",
        "\n",
        "\n",
        "\n"
      ],
      "metadata": {
        "colab": {
          "base_uri": "https://localhost:8080/"
        },
        "id": "wVLttRtHAE7K",
        "outputId": "239d77a6-2370-4113-ecaf-995c8a8baded"
      },
      "execution_count": 49,
      "outputs": [
        {
          "output_type": "stream",
          "name": "stdout",
          "text": [
            "6\n",
            "123456\n",
            "111213141516\n",
            "67891011\n",
            "-4-3-2-101-4-3-2-101\n",
            "-14-13-12-11-10-9-14-13-12-11-10-9\n",
            "-4-3-2-101\n",
            "-9-8-7-6-5-4\n",
            "-19-18-17-16-15-14-19-18-17-16-15-14\n",
            "-29-28-27-26-25-24-29-28-27-26-25-24\n",
            "-19-18-17-16-15-14\n",
            "-24-23-22-21-20-19\n",
            "-34-33-32-31-30-29-34-33-32-31-30-29\n",
            "-44-43-42-41-40-39"
          ]
        }
      ]
    },
    {
      "cell_type": "code",
      "source": [
        "n = int(input())\n",
        "if n%2!=0:\n",
        "  z=[]\n",
        "  x=list(range(1,n+1))\n",
        "  a=1\n",
        "  for d in range(int((n+1)/2)):\n",
        "    \n",
        "    if d==int((n-1)/2):\n",
        "      break\n",
        "    z=[]\n",
        "    for i in x:\n",
        "      i=i.__str__()\n",
        "      print(i,end='')\n",
        "      i=int(i)\n",
        "      i=i+10\n",
        "      z.append(i)\n",
        "    \n",
        "    print('')\n",
        "    for i in range(len(x)):\n",
        "      x[i]=z[i]\n",
        "  for d in range(int((n+1)/2),n):\n",
        "      z=[]\n",
        "      if d==int((n+1)/2):\n",
        "        for i in x:\n",
        "          i=i.__str__()\n",
        "          print(i,end='')\n",
        "          i=int(i)\n",
        "          i=i-5\n",
        "          z.append(i)\n",
        "    \n",
        "        print('')\n",
        "        for i in range(len(x)):\n",
        "          x[i]=z[i]\n",
        "      else:\n",
        "        for i in x:\n",
        "          i=i.__str__()\n",
        "          print(i,end='')\n",
        "          i=int(i)\n",
        "          i=i-10\n",
        "          z.append(i)\n",
        "    \n",
        "        print('')\n",
        "        for i in range(len(x)):\n",
        "          x[i]=z[i]\n",
        "        for i in x:\n",
        "          i=i.__str__()\n",
        "          print(i,end='')\n",
        "else:\n",
        "  z=[]\n",
        "  x=list(range(1,n+1))\n",
        "\n",
        "  for d in range(int((n)/2)):\n",
        "    if d==int((n-2)/2):\n",
        "      break\n",
        "    \n",
        "    z=[]\n",
        "    for i in x:\n",
        "      i=i.__str__()\n",
        "      print(i,end='')\n",
        "      i=int(i)\n",
        "      i=i+10\n",
        "      z.append(i)\n",
        "        \n",
        "    print('')\n",
        "    for i in range(len(x)):\n",
        "      x[i]=z[i]\n",
        "  for i in x:\n",
        "    i=i.__str__()\n",
        "    print(i,end='')\n",
        "\n",
        "  for d in range(int((n)/2),n):\n",
        "    z=[]\n",
        "    if d==int((n)/2):\n",
        "      for i in x:\n",
        "        i=i.__str__()\n",
        "        \n",
        "        i=int(i)\n",
        "        i=i-5\n",
        "        z.append(i)\n",
        "\n",
        "    \n",
        "      print('')\n",
        "      for i in range(len(x)):\n",
        "        x[i]=z[i]\n",
        "      for i in x:\n",
        "        i=i.__str__()\n",
        "        print(i,end='')\n",
        "      else:\n",
        "        for i in x:\n",
        "          i=i.__str__()\n",
        "          print(i,end='') \n",
        "          i=int(i)\n",
        "          i=i-10\n",
        "          z.append(i)\n",
        "    \n",
        "        print('')\n",
        "        for i in range(len(x)):\n",
        "          x[i]=z[i]\n",
        "      for i in x:\n",
        "        i=i.__str__()\n",
        "        print(i,end='') "
      ],
      "metadata": {
        "colab": {
          "base_uri": "https://localhost:8080/"
        },
        "id": "ZpOKWDHUZRL_",
        "outputId": "01d0549a-c899-42ed-e33b-29955904b2e1"
      },
      "execution_count": 64,
      "outputs": [
        {
          "output_type": "stream",
          "name": "stdout",
          "text": [
            "6\n",
            "123456\n",
            "111213141516\n",
            "212223242526\n",
            "161718192021161718192021\n",
            "161718192021"
          ]
        }
      ]
    },
    {
      "cell_type": "code",
      "source": [
        "print(x)"
      ],
      "metadata": {
        "colab": {
          "base_uri": "https://localhost:8080/"
        },
        "id": "42skhOlpaGL-",
        "outputId": "23bbb35e-3134-4cab-bb69-720d71d4679b"
      },
      "execution_count": 45,
      "outputs": [
        {
          "output_type": "stream",
          "name": "stdout",
          "text": [
            "[31, 32, 33, 34, 35]\n"
          ]
        }
      ]
    },
    {
      "cell_type": "code",
      "source": [
        "6/2"
      ],
      "metadata": {
        "colab": {
          "base_uri": "https://localhost:8080/"
        },
        "id": "D9mDAmTSRANX",
        "outputId": "ee7dc7c6-e53c-42d7-8c00-cf44a345440e"
      },
      "execution_count": 23,
      "outputs": [
        {
          "output_type": "execute_result",
          "data": {
            "text/plain": [
              "3.0"
            ]
          },
          "metadata": {},
          "execution_count": 23
        }
      ]
    },
    {
      "cell_type": "code",
      "source": [
        "a=2\n",
        "z=[]\n",
        "while a<3:\n",
        "  x=list(range(6))\n",
        "  for i in x:\n",
        "    i=i.__str__()\n",
        "    print(i,end='')\n",
        "    i=int(i)\n",
        "    i=i+10\n",
        "    z.append(i)\n",
        "    a=a+1\n",
        "\n",
        "  x=z\n",
        "  print(x)"
      ],
      "metadata": {
        "colab": {
          "base_uri": "https://localhost:8080/"
        },
        "id": "ucemeuViE8D1",
        "outputId": "9fff6d08-f774-405a-ba9e-0bf743a302ea"
      },
      "execution_count": 18,
      "outputs": [
        {
          "output_type": "stream",
          "name": "stdout",
          "text": [
            "012345[10, 11, 12, 13, 14, 15]\n"
          ]
        }
      ]
    },
    {
      "cell_type": "code",
      "source": [
        "x=list(range(6))\n",
        "\n",
        "for i in x:\n",
        "  print(i,end='')"
      ],
      "metadata": {
        "colab": {
          "base_uri": "https://localhost:8080/"
        },
        "id": "AAYbggEnOd-A",
        "outputId": "6bd9f411-cee6-4c3b-b340-c1cd7f63b568"
      },
      "execution_count": 15,
      "outputs": [
        {
          "output_type": "stream",
          "name": "stdout",
          "text": [
            "012345"
          ]
        }
      ]
    },
    {
      "cell_type": "code",
      "source": [
        "n=int(input())\n",
        "z=[]\n",
        "x=list(range(1,n+1))\n",
        "a=1\n",
        "for d in range(int((n)/2)):\n",
        "\n",
        "  if d==int((n-2)/2):\n",
        "      break\n",
        "\n",
        "  z=[]\n",
        "  for i in x:\n",
        "    i=i.__str__()\n",
        "    print(i,end='')\n",
        "    i=int(i)\n",
        "    i=i+10\n",
        "    z.append(i)\n",
        "    a=a+1\n",
        "  print('')\n",
        "  for i in range(len(x)):\n",
        "    x[i]=z[i]\n",
        "for d in range(int((n)/2),n):\n",
        "  z=[]\n",
        "  if d==int((n)/2):\n",
        "    for i in x:\n",
        "      i=i.__str__()\n",
        "      print(i,end='')\n",
        "      i=int(i)\n",
        "      i=i-5\n",
        "      z.append(i)\n",
        "    \n",
        "    print('')\n",
        "    for i in range(len(x)):\n",
        "      x[i]=z[i]\n",
        "  else:\n",
        "    for i in x:\n",
        "      i=i.__str__()\n",
        "      print(i,end='')\n",
        "      i=int(i)\n",
        "      i=i-10\n",
        "      z.append(i)\n",
        "    \n",
        "    print('')\n",
        "    for i in range(len(x)):\n",
        "      x[i]=z[i]\n",
        "    for i in x:\n",
        "      i=i.__str__()\n",
        "      print(i,end='')"
      ],
      "metadata": {
        "colab": {
          "base_uri": "https://localhost:8080/"
        },
        "id": "BGvTyVYndGfO",
        "outputId": "ef0cd3d8-a3e9-4c06-9476-92184352e03e"
      },
      "execution_count": 52,
      "outputs": [
        {
          "output_type": "stream",
          "name": "stdout",
          "text": [
            "6\n",
            "123456\n",
            "111213141516\n",
            "212223242526\n",
            "161718192021\n",
            "6789101167891011\n",
            "-4-3-2-101"
          ]
        }
      ]
    },
    {
      "cell_type": "code",
      "source": [
        "n=int(input())\n",
        "for i in range(n):\n",
        "  if i==0:\n",
        "    print(' '*(n-1)+'*')\n",
        "  elif 0<i and i<n-1:\n",
        "      x=i\n",
        "      print(' '*(n-x-1)+'*'+' '*(2*x-1)+'*')\n",
        "  else:\n",
        "    print('*'*(2*n-1))\n"
      ],
      "metadata": {
        "id": "VjifynMSlb6I",
        "outputId": "af32df74-de50-4536-b252-ac5c031de4b8",
        "colab": {
          "base_uri": "https://localhost:8080/"
        }
      },
      "execution_count": 79,
      "outputs": [
        {
          "output_type": "stream",
          "name": "stdout",
          "text": [
            "9\n",
            "        *\n",
            "       * *\n",
            "      *   *\n",
            "     *     *\n",
            "    *       *\n",
            "   *         *\n",
            "  *           *\n",
            " *             *\n",
            "*****************\n"
          ]
        }
      ]
    },
    {
      "cell_type": "code",
      "source": [
        "n =int(input())\n",
        "for i in range(0,n):\n",
        "  print((n-i-1)*' '+'*'*(i+1))\n",
        "for i in range(int(n+1),2*n):\n",
        "  print(' '*(i-n)+'*'*(2*n-i))"
      ],
      "metadata": {
        "id": "qV8qQlmowqC5",
        "outputId": "52d6da22-49b2-4ef1-a30d-c740572f2908",
        "colab": {
          "base_uri": "https://localhost:8080/"
        }
      },
      "execution_count": 82,
      "outputs": [
        {
          "output_type": "stream",
          "name": "stdout",
          "text": [
            "5\n",
            "    *\n",
            "   **\n",
            "  ***\n",
            " ****\n",
            "*****\n",
            " ****\n",
            "  ***\n",
            "   **\n",
            "    *\n"
          ]
        }
      ]
    }
  ],
  "metadata": {
    "colab": {
      "name": "Welcome To Colaboratory",
      "toc_visible": true,
      "provenance": [],
      "include_colab_link": true
    },
    "kernelspec": {
      "display_name": "Python 3",
      "name": "python3"
    }
  },
  "nbformat": 4,
  "nbformat_minor": 0
}