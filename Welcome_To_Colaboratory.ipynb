{
  "cells": [
    {
      "cell_type": "markdown",
      "metadata": {
        "id": "view-in-github",
        "colab_type": "text"
      },
      "source": [
        "<a href=\"https://colab.research.google.com/github/dkd99/my-code-practice/blob/main/Welcome_To_Colaboratory.ipynb\" target=\"_parent\"><img src=\"https://colab.research.google.com/assets/colab-badge.svg\" alt=\"Open In Colab\"/></a>"
      ]
    },
    {
      "cell_type": "code",
      "source": [
        "n=3\n",
        "for i in range(1,n):\n",
        "  print('*'*i)\n"
      ],
      "metadata": {
        "id": "fqvBoBtw2OVO",
        "outputId": "74cee5d0-8648-44bd-9645-6af3858bfe7e",
        "colab": {
          "base_uri": "https://localhost:8080/"
        }
      },
      "execution_count": 2,
      "outputs": [
        {
          "output_type": "stream",
          "name": "stdout",
          "text": [
            "*\n",
            "**\n"
          ]
        }
      ]
    },
    {
      "cell_type": "code",
      "source": [
        "n=int(input())\n",
        "s=['A','B','C','D','E','F','G','H','I','J','K','L','M','N','O','P','Q','R','S','T','U','V','W','X','Y','Z']\n",
        "for i in range(1,n):\n",
        "  print(s[i-1]*i)"
      ],
      "metadata": {
        "id": "xXmAQAYl3MPM",
        "outputId": "594613f4-0190-4de9-ed32-c48e439d5d61",
        "colab": {
          "base_uri": "https://localhost:8080/"
        }
      },
      "execution_count": 3,
      "outputs": [
        {
          "output_type": "stream",
          "name": "stdout",
          "text": [
            "4\n",
            "A\n",
            "BB\n",
            "CCC\n"
          ]
        }
      ]
    },
    {
      "cell_type": "code",
      "source": [
        "n=int(input())\n",
        "s=['0','1','2','3','4','5','6','7','8','9']\n",
        "for i in range(n):\n",
        "  if i==0:\n",
        "    print(1)\n",
        "  elif i==1:\n",
        "    print(11)\n",
        "  else:\n",
        "    print(s[i]+s[0]*(i-1)+s[i])"
      ],
      "metadata": {
        "id": "BeK5p2DD37Y_",
        "outputId": "02dd69b4-bd3a-4cff-b04d-2b14bf7833f0",
        "colab": {
          "base_uri": "https://localhost:8080/"
        }
      },
      "execution_count": 5,
      "outputs": [
        {
          "output_type": "stream",
          "name": "stdout",
          "text": [
            "8\n",
            "1\n",
            "11\n",
            "202\n",
            "3003\n",
            "40004\n",
            "500005\n",
            "6000006\n",
            "70000007\n"
          ]
        }
      ]
    },
    {
      "cell_type": "code",
      "source": [
        "s='*'\n",
        "s*5"
      ],
      "metadata": {
        "id": "lPuqiAUH2a7O",
        "outputId": "30375417-8bdf-4cd2-82ce-68d58326980b",
        "colab": {
          "base_uri": "https://localhost:8080/",
          "height": 36
        }
      },
      "execution_count": 1,
      "outputs": [
        {
          "output_type": "execute_result",
          "data": {
            "text/plain": [
              "'*****'"
            ],
            "application/vnd.google.colaboratory.intrinsic+json": {
              "type": "string"
            }
          },
          "metadata": {},
          "execution_count": 1
        }
      ]
    },
    {
      "cell_type": "code",
      "source": [
        "n=int(input())\n",
        "s=['A','B','C','D','E','F','G','H','I','J','K','L','M','N','O','P','Q','R','S','T','U','V','W','X','Y','Z']\n",
        "for i in range(n):\n",
        "  "
      ],
      "metadata": {
        "id": "mZuUBpAm5K5w"
      },
      "execution_count": null,
      "outputs": []
    },
    {
      "cell_type": "code",
      "source": [
        "n=int(input())\n",
        "s=['A','B','C','D','E','F','G','H','I','J','K','L','M','N','O','P','Q','R','S','T','U','V','W','X','Y','Z']\n",
        "i=0\n",
        "while i <n:\n",
        "  z=i\n",
        "  \n",
        "  for x in range(n):\n",
        "    \n",
        "    print(s[z],end='')\n",
        "    z=z+1\n",
        "  print('')\n",
        "  i=i+1"
      ],
      "metadata": {
        "id": "VnyR2_wm5yzw",
        "outputId": "53340bbe-b8f7-4705-bd7f-ef1192b57a83",
        "colab": {
          "base_uri": "https://localhost:8080/"
        }
      },
      "execution_count": 46,
      "outputs": [
        {
          "output_type": "stream",
          "name": "stdout",
          "text": [
            "8\n",
            "ABCDEFGH\n",
            "BCDEFGHI\n",
            "CDEFGHIJ\n",
            "DEFGHIJK\n",
            "EFGHIJKL\n",
            "FGHIJKLM\n",
            "GHIJKLMN\n",
            "HIJKLMNO\n"
          ]
        }
      ]
    },
    {
      "cell_type": "code",
      "source": [
        "n=int(input())\n",
        "s=['0','1','2','3','4','5','6','7','8','9']\n",
        "for i in range(n): \n",
        "  print(s[n-i]*(n-i))"
      ],
      "metadata": {
        "id": "gzmE5rmC7HmM",
        "outputId": "7cca65a1-74fd-4af8-907a-debe3b9a4b72",
        "colab": {
          "base_uri": "https://localhost:8080/"
        }
      },
      "execution_count": 25,
      "outputs": [
        {
          "output_type": "stream",
          "name": "stdout",
          "text": [
            "4\n",
            "4444\n",
            "333\n",
            "22\n",
            "1\n"
          ]
        }
      ]
    },
    {
      "cell_type": "code",
      "source": [
        "print(' '*3+'1')"
      ],
      "metadata": {
        "id": "EwRTiIcSBklh",
        "outputId": "5c1f4bab-d01a-486b-e106-8af637b204fb",
        "colab": {
          "base_uri": "https://localhost:8080/"
        }
      },
      "execution_count": 27,
      "outputs": [
        {
          "output_type": "stream",
          "name": "stdout",
          "text": [
            "   1\n"
          ]
        }
      ]
    },
    {
      "cell_type": "code",
      "source": [
        "      1\n",
        "    21\n",
        "  321\n",
        "4321"
      ],
      "metadata": {
        "id": "bBSyEyeQBRqT"
      },
      "execution_count": null,
      "outputs": []
    },
    {
      "cell_type": "code",
      "source": [
        "print(1,end='')\n",
        "print(2)"
      ],
      "metadata": {
        "id": "4vJsHZiVHjJM",
        "outputId": "fb2da7bb-8363-43c4-bd2f-1392e268a5f6",
        "colab": {
          "base_uri": "https://localhost:8080/"
        }
      },
      "execution_count": 32,
      "outputs": [
        {
          "output_type": "stream",
          "name": "stdout",
          "text": [
            "12\n"
          ]
        }
      ]
    },
    {
      "cell_type": "code",
      "source": [
        "print(range(0))"
      ],
      "metadata": {
        "id": "zR8bCimlIU9g",
        "outputId": "0549ec8c-f5d8-4208-8ad1-3c6b942f7f24",
        "colab": {
          "base_uri": "https://localhost:8080/"
        }
      },
      "execution_count": 34,
      "outputs": [
        {
          "output_type": "stream",
          "name": "stdout",
          "text": [
            "range(0, 0)\n"
          ]
        }
      ]
    },
    {
      "cell_type": "code",
      "source": [
        "n=int(input())\n",
        "s=['1','2','3','4','5','6','7','8','9']\n",
        "i=1\n",
        "while i<n+1:\n",
        "  z=i\n",
        "  print(' '*(n-i),end='')\n",
        "  x=i\n",
        "  while x>0:\n",
        "    print(s[x-1],end='')\n",
        "    x=x-1\n",
        "  i=i+1\n",
        "  print('')\n",
        "\n",
        "\n",
        "\n"
      ],
      "metadata": {
        "id": "GdlcRlQ7BB6u",
        "outputId": "315a9c11-c5c3-45b7-9e15-912631b64658",
        "colab": {
          "base_uri": "https://localhost:8080/"
        }
      },
      "execution_count": 45,
      "outputs": [
        {
          "output_type": "stream",
          "name": "stdout",
          "text": [
            "8\n",
            "       1\n",
            "      21\n",
            "     321\n",
            "    4321\n",
            "   54321\n",
            "  654321\n",
            " 7654321\n",
            "87654321\n"
          ]
        }
      ]
    }
  ],
  "metadata": {
    "colab": {
      "name": "Welcome To Colaboratory",
      "toc_visible": true,
      "provenance": [],
      "include_colab_link": true
    },
    "kernelspec": {
      "display_name": "Python 3",
      "name": "python3"
    }
  },
  "nbformat": 4,
  "nbformat_minor": 0
}