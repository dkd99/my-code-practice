{
  "cells": [
    {
      "cell_type": "markdown",
      "metadata": {
        "id": "view-in-github",
        "colab_type": "text"
      },
      "source": [
        "<a href=\"https://colab.research.google.com/github/dkd99/my-code-practice/blob/main/Welcome_To_Colaboratory.ipynb\" target=\"_parent\"><img src=\"https://colab.research.google.com/assets/colab-badge.svg\" alt=\"Open In Colab\"/></a>"
      ]
    },
    {
      "cell_type": "markdown",
      "source": [
        "Given a sorted array arr[] with possibly duplicate elements, the task is to find indexes of the first and last occurrences of an element x in the given array."
      ],
      "metadata": {
        "id": "cxHrvntZ95Xf"
      }
    },
    {
      "cell_type": "code",
      "source": [
        "# Python 3 program to find first and\n",
        "# last occurrences of a number in\n",
        "# a given sorted array\n",
        "\n",
        "# if x is present in arr[] then\n",
        "# returns the index of FIRST\n",
        "# occurrence of x in arr[0..n-1],\n",
        "# otherwise returns -1\n",
        "\n",
        "\n",
        "def first(arr, low, high, x, n):\n",
        "\tif(high >= low):\n",
        "\t\tmid = low + (high - low) // 2\n",
        "\t\tif((mid == 0 or x > arr[mid - 1]) and arr[mid] == x):\n",
        "\t\t\treturn mid\n",
        "\t\telif(x > arr[mid]):\n",
        "\t\t\treturn first(arr, (mid + 1), high, x, n)\n",
        "\t\telse:\n",
        "\t\t\treturn first(arr, low, (mid - 1), x, n)\n",
        "\n",
        "\treturn -1\n",
        "\n",
        "\n",
        "# if x is present in arr[] then\n",
        "# returns the index of LAST occurrence\n",
        "# of x in arr[0..n-1], otherwise\n",
        "# returns -1\n",
        "def last(arr, low, high, x, n):\n",
        "\tif (high >= low):\n",
        "\t\tmid = low + (high - low) // 2\n",
        "\t\tif ((mid == n - 1 or x < arr[mid + 1]) and arr[mid] == x):\n",
        "\t\t\treturn mid\n",
        "\t\telif (x < arr[mid]):\n",
        "\t\t\treturn last(arr, low, (mid - 1), x, n)\n",
        "\t\telse:\n",
        "\t\t\treturn last(arr, (mid + 1), high, x, n)\n",
        "\n",
        "\treturn -1\n",
        "\n",
        "\n",
        "# Driver program\n",
        "arr = [1, 2, 2, 2, 2, 3, 4, 7, 8, 8]\n",
        "n = len(arr)\n",
        "\n",
        "x = 8\n",
        "print(\"First Occurrence = \",\n",
        "\tfirst(arr, 0, n - 1, x, n))\n",
        "print(\"Last Occurrence = \",\n",
        "\tlast(arr, 0, n - 1, x, n))\n",
        "\n",
        "\n",
        "# This code is contributed by Nikita Tiwari.\n"
      ],
      "metadata": {
        "id": "TZWTiHBV91f-"
      },
      "execution_count": null,
      "outputs": []
    },
    {
      "cell_type": "code",
      "source": [
        "a=int(input())\n",
        "b=int(input())\n",
        "print('value of a is:',a)\n",
        "print('value of b is:',b)\n",
        "\n",
        "a,b=b,a\n",
        "print('After swapping')\n",
        "print('value of a is:',a)\n",
        "print('value of b is:',b)"
      ],
      "metadata": {
        "id": "OttmJWyGWNqz",
        "outputId": "b1d82ddb-951d-4d7a-8eea-f2499ca0b623",
        "colab": {
          "base_uri": "https://localhost:8080/"
        }
      },
      "execution_count": 1,
      "outputs": [
        {
          "output_type": "stream",
          "name": "stdout",
          "text": [
            "5\n",
            "8\n",
            "value of a is: 5\n",
            "value of b is: 8\n",
            "After swapping\n",
            "value of a is: 8\n",
            "value of b is: 5\n"
          ]
        }
      ]
    },
    {
      "cell_type": "code",
      "source": [
        "num = int(input())\n",
        "a=[]\n",
        "for i in range(1,num):\n",
        "  if num%i==0:\n",
        "    a.append(i)\n",
        "if sum(a)==num:\n",
        "  print('It is a perfect number')\n",
        "else:\n",
        "  print('It is not a perfect number')"
      ],
      "metadata": {
        "id": "Baa-u3ZeWajQ",
        "outputId": "169f0ced-1464-4264-a008-4f0bc2f00cd4",
        "colab": {
          "base_uri": "https://localhost:8080/"
        }
      },
      "execution_count": 2,
      "outputs": [
        {
          "output_type": "stream",
          "name": "stdout",
          "text": [
            "6\n",
            "It is a perfect number\n"
          ]
        }
      ]
    },
    {
      "cell_type": "code",
      "source": [
        "str1 ='Emma is a data scientist who knows Python. Emma works at google.'\n",
        "substr='Emma'\n",
        "y=str1.rfind(substr)\n",
        "print(f'Last occurrence of {substr} starts at index {y}')"
      ],
      "metadata": {
        "id": "IMBn956WWmPf",
        "outputId": "1da41dde-6838-46a6-cc36-87bb32caef8b",
        "colab": {
          "base_uri": "https://localhost:8080/"
        }
      },
      "execution_count": 3,
      "outputs": [
        {
          "output_type": "stream",
          "name": "stdout",
          "text": [
            "Last occurrence of Emma starts at index 43\n"
          ]
        }
      ]
    },
    {
      "cell_type": "code",
      "source": [
        "str=input()\n",
        "y=str.lower()\n",
        "x=y[::-1]\n",
        "if x==y:\n",
        "  print('string is a palindrome.')\n",
        "else:\n",
        "  print('string is not a palindrome.')\n"
      ],
      "metadata": {
        "id": "9r1Pk2CPWoQH",
        "outputId": "de621f64-4990-4c9e-a033-cdc755a8b73f",
        "colab": {
          "base_uri": "https://localhost:8080/"
        }
      },
      "execution_count": 4,
      "outputs": [
        {
          "output_type": "stream",
          "name": "stdout",
          "text": [
            "Madam\n",
            "string is a palindrome.\n"
          ]
        }
      ]
    }
  ],
  "metadata": {
    "colab": {
      "name": "Welcome To Colaboratory",
      "toc_visible": true,
      "provenance": [],
      "include_colab_link": true
    },
    "kernelspec": {
      "display_name": "Python 3",
      "name": "python3"
    }
  },
  "nbformat": 4,
  "nbformat_minor": 0
}