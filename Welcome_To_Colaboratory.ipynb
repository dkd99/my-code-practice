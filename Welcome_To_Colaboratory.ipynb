{
  "cells": [
    {
      "cell_type": "markdown",
      "metadata": {
        "id": "view-in-github",
        "colab_type": "text"
      },
      "source": [
        "<a href=\"https://colab.research.google.com/github/dkd99/my-code-practice/blob/main/Welcome_To_Colaboratory.ipynb\" target=\"_parent\"><img src=\"https://colab.research.google.com/assets/colab-badge.svg\" alt=\"Open In Colab\"/></a>"
      ]
    },
    {
      "cell_type": "markdown",
      "source": [
        "Given a sorted array arr[] with possibly duplicate elements, the task is to find indexes of the first and last occurrences of an element x in the given array."
      ],
      "metadata": {
        "id": "cxHrvntZ95Xf"
      }
    },
    {
      "cell_type": "code",
      "source": [
        "# Python 3 program to find first and\n",
        "# last occurrences of a number in\n",
        "# a given sorted array\n",
        "\n",
        "# if x is present in arr[] then\n",
        "# returns the index of FIRST\n",
        "# occurrence of x in arr[0..n-1],\n",
        "# otherwise returns -1\n",
        "\n",
        "\n",
        "def first(arr, low, high, x, n):\n",
        "\tif(high >= low):\n",
        "\t\tmid = low + (high - low) // 2\n",
        "\t\tif((mid == 0 or x > arr[mid - 1]) and arr[mid] == x):\n",
        "\t\t\treturn mid\n",
        "\t\telif(x > arr[mid]):\n",
        "\t\t\treturn first(arr, (mid + 1), high, x, n)\n",
        "\t\telse:\n",
        "\t\t\treturn first(arr, low, (mid - 1), x, n)\n",
        "\n",
        "\treturn -1\n",
        "\n",
        "\n",
        "# if x is present in arr[] then\n",
        "# returns the index of LAST occurrence\n",
        "# of x in arr[0..n-1], otherwise\n",
        "# returns -1\n",
        "def last(arr, low, high, x, n):\n",
        "\tif (high >= low):\n",
        "\t\tmid = low + (high - low) // 2\n",
        "\t\tif ((mid == n - 1 or x < arr[mid + 1]) and arr[mid] == x):\n",
        "\t\t\treturn mid\n",
        "\t\telif (x < arr[mid]):\n",
        "\t\t\treturn last(arr, low, (mid - 1), x, n)\n",
        "\t\telse:\n",
        "\t\t\treturn last(arr, (mid + 1), high, x, n)\n",
        "\n",
        "\treturn -1\n",
        "\n",
        "\n",
        "# Driver program\n",
        "arr = [1, 2, 2, 2, 2, 3, 4, 7, 8, 8]\n",
        "n = len(arr)\n",
        "\n",
        "x = 8\n",
        "print(\"First Occurrence = \",\n",
        "\tfirst(arr, 0, n - 1, x, n))\n",
        "print(\"Last Occurrence = \",\n",
        "\tlast(arr, 0, n - 1, x, n))\n",
        "\n",
        "\n",
        "# This code is contributed by Nikita Tiwari.\n"
      ],
      "metadata": {
        "id": "TZWTiHBV91f-"
      },
      "execution_count": null,
      "outputs": []
    }
  ],
  "metadata": {
    "colab": {
      "name": "Welcome To Colaboratory",
      "toc_visible": true,
      "provenance": [],
      "include_colab_link": true
    },
    "kernelspec": {
      "display_name": "Python 3",
      "name": "python3"
    }
  },
  "nbformat": 4,
  "nbformat_minor": 0
}