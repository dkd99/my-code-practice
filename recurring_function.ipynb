{
  "cells": [
    {
      "cell_type": "markdown",
      "metadata": {
        "id": "view-in-github",
        "colab_type": "text"
      },
      "source": [
        "<a href=\"https://colab.research.google.com/github/dkd99/my-code-practice/blob/main/recurring_function.ipynb\" target=\"_parent\"><img src=\"https://colab.research.google.com/assets/colab-badge.svg\" alt=\"Open In Colab\"/></a>"
      ]
    },
    {
      "cell_type": "code",
      "source": [
        "num_List=eval(input())\n",
        "def list_sum(num_List):\n",
        "  if len(num_List)==0:\n",
        "    return 0\n",
        "  else:\n",
        "    return num_List[0] + list_sum(num_List[1:])\n",
        "result=list_sum(num_List)\n",
        "print(result)"
      ],
      "metadata": {
        "id": "gPUNFd6TcLYY",
        "outputId": "098b91b6-7f45-4791-9c59-c7f8019ae5eb",
        "colab": {
          "base_uri": "https://localhost:8080/"
        }
      },
      "execution_count": null,
      "outputs": [
        {
          "output_type": "stream",
          "name": "stdout",
          "text": [
            "[4,5,6]\n",
            "15\n"
          ]
        }
      ]
    },
    {
      "cell_type": "code",
      "source": [
        "num_List=eval(input())\n",
        "def list_sum(num_List):\n",
        "  sum=0\n",
        "  if len(num_List)==0:\n",
        "    return 0\n",
        "  \n",
        "  \n",
        "  elif type(num_List[0])==type([]):\n",
        "    return list_sum(num_List[0]) + list_sum(num_List[1:])\n",
        "  else:\n",
        "    return num_List[0] + list_sum(num_List[1:])\n",
        "result=list_sum(num_List)\n",
        "print(result)"
      ],
      "metadata": {
        "id": "R2DhKGo7pn67",
        "outputId": "2b2f85f5-5ccd-4fcf-80df-8c5cd96473f3",
        "colab": {
          "base_uri": "https://localhost:8080/"
        }
      },
      "execution_count": null,
      "outputs": [
        {
          "output_type": "stream",
          "name": "stdout",
          "text": [
            "[1, 2, [3,4],[5,6]]\n",
            "21\n"
          ]
        }
      ]
    },
    {
      "cell_type": "code",
      "source": [
        "n=int(input())\n",
        "l=[]\n",
        "def fibonacci(n):\n",
        "  return 1 if n==0 or n==1 else fibonacci(n-1)+fibonacci(n-2)\n",
        "for i in range(n):\n",
        "  l.append(fibonacci(i))\n",
        "print(l[n-1])\n",
        "\n"
      ],
      "metadata": {
        "id": "jfkGhX_LynC9",
        "outputId": "e6704220-3d92-491b-ee50-2be932ce8733",
        "colab": {
          "base_uri": "https://localhost:8080/"
        }
      },
      "execution_count": null,
      "outputs": [
        {
          "output_type": "stream",
          "name": "stdout",
          "text": [
            "7\n",
            "13\n"
          ]
        }
      ]
    },
    {
      "cell_type": "code",
      "source": [
        "print(l)"
      ],
      "metadata": {
        "id": "4bBcXHd_-RRE",
        "outputId": "ceb9fe99-cf38-4f9b-d6a0-b38d82f5e2ce",
        "colab": {
          "base_uri": "https://localhost:8080/"
        }
      },
      "execution_count": null,
      "outputs": [
        {
          "output_type": "stream",
          "name": "stdout",
          "text": [
            "[1, 1, 2, 3, 5, 8, 13]\n"
          ]
        }
      ]
    },
    {
      "cell_type": "code",
      "source": [
        "n=int(input())\n",
        "base=int(input())\n",
        "def to_string(n,base):\n",
        "  convertString = \"0123456789ABCDEF\"\n",
        "  if n < base:\n",
        "    return convertString[n]\n",
        "  else:\n",
        "    return to_string(n//base,base) + convertString[n%base]\n",
        "\n",
        "result=to_string(n,base)\n",
        "print(result)"
      ],
      "metadata": {
        "id": "69g2hwg-lIE4",
        "outputId": "38a8511e-48ca-4f45-9575-09a479d923be",
        "colab": {
          "base_uri": "https://localhost:8080/"
        }
      },
      "execution_count": null,
      "outputs": [
        {
          "output_type": "stream",
          "name": "stdout",
          "text": [
            "2835\n",
            "16\n",
            "B13\n"
          ]
        }
      ]
    },
    {
      "cell_type": "code",
      "source": [
        "100%8"
      ],
      "metadata": {
        "id": "nno09jW-l61z",
        "outputId": "0d80f107-a752-4662-c5f1-c941936a2c3e",
        "colab": {
          "base_uri": "https://localhost:8080/"
        }
      },
      "execution_count": null,
      "outputs": [
        {
          "output_type": "execute_result",
          "data": {
            "text/plain": [
              "4"
            ]
          },
          "metadata": {},
          "execution_count": 13
        }
      ]
    }
  ],
  "metadata": {
    "colab": {
      "toc_visible": true,
      "provenance": [],
      "include_colab_link": true
    },
    "kernelspec": {
      "display_name": "Python 3",
      "name": "python3"
    }
  },
  "nbformat": 4,
  "nbformat_minor": 0
}