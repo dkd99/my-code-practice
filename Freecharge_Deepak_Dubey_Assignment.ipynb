{
  "cells": [
    {
      "cell_type": "markdown",
      "metadata": {
        "id": "view-in-github",
        "colab_type": "text"
      },
      "source": [
        "<a href=\"https://colab.research.google.com/github/dkd99/my-code-practice/blob/main/Freecharge_Deepak_Dubey_Assignment.ipynb\" target=\"_parent\"><img src=\"https://colab.research.google.com/assets/colab-badge.svg\" alt=\"Open In Colab\"/></a>"
      ]
    },
    {
      "cell_type": "markdown",
      "source": [
        "**Objective:** The main objective for building the machine learning model is to categorize transactional data which will be displayed to the customer on personal finance manager application\n",
        "\n",
        "Data: Please find it attached\n",
        "\n",
        "Categories: Please find it attached\n",
        "\n",
        "**Exercise:**\n",
        "\n",
        "1. Perform Exploratory data analysis on the data\n",
        "\n",
        "2. Clean the data & categorize it and perform logical mappings as per the given categories\n",
        "\n",
        "3. Develop at least 1 ML model (BERT) which can categorize the data, prepare pros & cons of both the models and which is the best suited model & why. Model should be highly accurate & scalable.\n",
        "\n",
        "4. Demonstrate both the models by passing an array of transactions & the output should be the mapped categorization clearly displaying the accuracy.**\n"
      ],
      "metadata": {
        "id": "lSmLSf0c2E6O"
      }
    },
    {
      "cell_type": "markdown",
      "metadata": {
        "id": "piKokpE2mqnf"
      },
      "source": [
        "Imprting important libraries:"
      ]
    },
    {
      "cell_type": "code",
      "execution_count": 1,
      "metadata": {
        "id": "b6f4rCwkvUyv"
      },
      "outputs": [],
      "source": [
        "import pandas as pd\n",
        "import numpy as np\n",
        "import matplotlib.pyplot as plt\n",
        "%matplotlib inline\n",
        "import seaborn as sns\n",
        "import warnings\n",
        "warnings.filterwarnings(\"ignore\")"
      ]
    },
    {
      "cell_type": "code",
      "execution_count": 2,
      "metadata": {
        "colab": {
          "base_uri": "https://localhost:8080/"
        },
        "id": "5uHiKATJvV_B",
        "outputId": "46eb426f-a940-4c33-ef46-66b1a329b4e6"
      },
      "outputs": [
        {
          "output_type": "stream",
          "name": "stdout",
          "text": [
            "Mounted at /content/drive\n"
          ]
        }
      ],
      "source": [
        "#mounting the drive\n",
        "from google.colab import drive\n",
        "drive.mount('/content/drive')"
      ]
    },
    {
      "cell_type": "markdown",
      "metadata": {
        "id": "K1OFYtbmqoNK"
      },
      "source": [
        "**Let's Explore our data:**"
      ]
    },
    {
      "cell_type": "markdown",
      "metadata": {
        "id": "LVLt9PvOnoC6"
      },
      "source": [
        "Read an Excel file into a pandas DataFrame."
      ]
    },
    {
      "cell_type": "code",
      "execution_count": 3,
      "metadata": {
        "id": "qVy4jbRVwD9Q"
      },
      "outputs": [],
      "source": [
        "#loading excel file as dataframe\n",
        "df=pd.read_excel('/content/drive/MyDrive/csv files/Final_train_prep (1).xlsx')"
      ]
    },
    {
      "cell_type": "markdown",
      "metadata": {
        "id": "V16ulAlIoub5"
      },
      "source": [
        "#**Now, Let's start Exploring the dataframe:**"
      ]
    },
    {
      "cell_type": "markdown",
      "metadata": {
        "id": "zyX3uiU4njyy"
      },
      "source": [
        "Head of DataFrame:"
      ]
    },
    {
      "cell_type": "code",
      "execution_count": 4,
      "metadata": {
        "colab": {
          "base_uri": "https://localhost:8080/",
          "height": 206
        },
        "id": "Lm3ddAXzwKQW",
        "outputId": "8e202c3f-8953-4bde-cd2d-46700b3ba21d"
      },
      "outputs": [
        {
          "output_type": "execute_result",
          "data": {
            "text/plain": [
              "   Sl. No.   Date  Cheque No.  \\\n",
              "0     12.0  44455         NaN   \n",
              "1     46.0  44477         NaN   \n",
              "2     12.0  44455         NaN   \n",
              "3    570.0  44233         NaN   \n",
              "4    503.0  44219         NaN   \n",
              "\n",
              "                                         Description   Sub-Category Category  \\\n",
              "0  TO TRANSFER-UPI/DR/125990176674/HOTEL AK/UTIB/...  Accomodations   Travel   \n",
              "1  TO TRANSFER-UPI/DR/128188085567/HOTEL AK/UTIB/...  Accomodations   Travel   \n",
              "2  TO TRANSFER-UPI/DR/125990176674/HOTEL AK/UTIB/...  Accomodations   Travel   \n",
              "3        UPI/P2M/103840249705/Hotel Gra/Yes Bank /NA  Accomodations   Travel   \n",
              "4       UPI/P2M/102321272114/Hotel Shw/Axis Bank/UPI  Accomodations   Travel   \n",
              "\n",
              "   Amount              Category.1   Balance  \n",
              "0  -786.0  Transfer to GPAY-11182  22340.36  \n",
              "1 -1321.0  Transfer to GPAY-11182  12066.36  \n",
              "2  -786.0  Transfer to GPAY-11182  22340.36  \n",
              "3 -1100.0   Transfer to Hotel Gra     54.48  \n",
              "4  -440.0   Transfer to Hotel Shw   2519.28  "
            ],
            "text/html": [
              "\n",
              "  <div id=\"df-6701cca8-5129-4ab6-b464-29795cd7212e\">\n",
              "    <div class=\"colab-df-container\">\n",
              "      <div>\n",
              "<style scoped>\n",
              "    .dataframe tbody tr th:only-of-type {\n",
              "        vertical-align: middle;\n",
              "    }\n",
              "\n",
              "    .dataframe tbody tr th {\n",
              "        vertical-align: top;\n",
              "    }\n",
              "\n",
              "    .dataframe thead th {\n",
              "        text-align: right;\n",
              "    }\n",
              "</style>\n",
              "<table border=\"1\" class=\"dataframe\">\n",
              "  <thead>\n",
              "    <tr style=\"text-align: right;\">\n",
              "      <th></th>\n",
              "      <th>Sl. No.</th>\n",
              "      <th>Date</th>\n",
              "      <th>Cheque No.</th>\n",
              "      <th>Description</th>\n",
              "      <th>Sub-Category</th>\n",
              "      <th>Category</th>\n",
              "      <th>Amount</th>\n",
              "      <th>Category.1</th>\n",
              "      <th>Balance</th>\n",
              "    </tr>\n",
              "  </thead>\n",
              "  <tbody>\n",
              "    <tr>\n",
              "      <th>0</th>\n",
              "      <td>12.0</td>\n",
              "      <td>44455</td>\n",
              "      <td>NaN</td>\n",
              "      <td>TO TRANSFER-UPI/DR/125990176674/HOTEL AK/UTIB/...</td>\n",
              "      <td>Accomodations</td>\n",
              "      <td>Travel</td>\n",
              "      <td>-786.0</td>\n",
              "      <td>Transfer to GPAY-11182</td>\n",
              "      <td>22340.36</td>\n",
              "    </tr>\n",
              "    <tr>\n",
              "      <th>1</th>\n",
              "      <td>46.0</td>\n",
              "      <td>44477</td>\n",
              "      <td>NaN</td>\n",
              "      <td>TO TRANSFER-UPI/DR/128188085567/HOTEL AK/UTIB/...</td>\n",
              "      <td>Accomodations</td>\n",
              "      <td>Travel</td>\n",
              "      <td>-1321.0</td>\n",
              "      <td>Transfer to GPAY-11182</td>\n",
              "      <td>12066.36</td>\n",
              "    </tr>\n",
              "    <tr>\n",
              "      <th>2</th>\n",
              "      <td>12.0</td>\n",
              "      <td>44455</td>\n",
              "      <td>NaN</td>\n",
              "      <td>TO TRANSFER-UPI/DR/125990176674/HOTEL AK/UTIB/...</td>\n",
              "      <td>Accomodations</td>\n",
              "      <td>Travel</td>\n",
              "      <td>-786.0</td>\n",
              "      <td>Transfer to GPAY-11182</td>\n",
              "      <td>22340.36</td>\n",
              "    </tr>\n",
              "    <tr>\n",
              "      <th>3</th>\n",
              "      <td>570.0</td>\n",
              "      <td>44233</td>\n",
              "      <td>NaN</td>\n",
              "      <td>UPI/P2M/103840249705/Hotel Gra/Yes Bank /NA</td>\n",
              "      <td>Accomodations</td>\n",
              "      <td>Travel</td>\n",
              "      <td>-1100.0</td>\n",
              "      <td>Transfer to Hotel Gra</td>\n",
              "      <td>54.48</td>\n",
              "    </tr>\n",
              "    <tr>\n",
              "      <th>4</th>\n",
              "      <td>503.0</td>\n",
              "      <td>44219</td>\n",
              "      <td>NaN</td>\n",
              "      <td>UPI/P2M/102321272114/Hotel Shw/Axis Bank/UPI</td>\n",
              "      <td>Accomodations</td>\n",
              "      <td>Travel</td>\n",
              "      <td>-440.0</td>\n",
              "      <td>Transfer to Hotel Shw</td>\n",
              "      <td>2519.28</td>\n",
              "    </tr>\n",
              "  </tbody>\n",
              "</table>\n",
              "</div>\n",
              "      <button class=\"colab-df-convert\" onclick=\"convertToInteractive('df-6701cca8-5129-4ab6-b464-29795cd7212e')\"\n",
              "              title=\"Convert this dataframe to an interactive table.\"\n",
              "              style=\"display:none;\">\n",
              "        \n",
              "  <svg xmlns=\"http://www.w3.org/2000/svg\" height=\"24px\"viewBox=\"0 0 24 24\"\n",
              "       width=\"24px\">\n",
              "    <path d=\"M0 0h24v24H0V0z\" fill=\"none\"/>\n",
              "    <path d=\"M18.56 5.44l.94 2.06.94-2.06 2.06-.94-2.06-.94-.94-2.06-.94 2.06-2.06.94zm-11 1L8.5 8.5l.94-2.06 2.06-.94-2.06-.94L8.5 2.5l-.94 2.06-2.06.94zm10 10l.94 2.06.94-2.06 2.06-.94-2.06-.94-.94-2.06-.94 2.06-2.06.94z\"/><path d=\"M17.41 7.96l-1.37-1.37c-.4-.4-.92-.59-1.43-.59-.52 0-1.04.2-1.43.59L10.3 9.45l-7.72 7.72c-.78.78-.78 2.05 0 2.83L4 21.41c.39.39.9.59 1.41.59.51 0 1.02-.2 1.41-.59l7.78-7.78 2.81-2.81c.8-.78.8-2.07 0-2.86zM5.41 20L4 18.59l7.72-7.72 1.47 1.35L5.41 20z\"/>\n",
              "  </svg>\n",
              "      </button>\n",
              "      \n",
              "  <style>\n",
              "    .colab-df-container {\n",
              "      display:flex;\n",
              "      flex-wrap:wrap;\n",
              "      gap: 12px;\n",
              "    }\n",
              "\n",
              "    .colab-df-convert {\n",
              "      background-color: #E8F0FE;\n",
              "      border: none;\n",
              "      border-radius: 50%;\n",
              "      cursor: pointer;\n",
              "      display: none;\n",
              "      fill: #1967D2;\n",
              "      height: 32px;\n",
              "      padding: 0 0 0 0;\n",
              "      width: 32px;\n",
              "    }\n",
              "\n",
              "    .colab-df-convert:hover {\n",
              "      background-color: #E2EBFA;\n",
              "      box-shadow: 0px 1px 2px rgba(60, 64, 67, 0.3), 0px 1px 3px 1px rgba(60, 64, 67, 0.15);\n",
              "      fill: #174EA6;\n",
              "    }\n",
              "\n",
              "    [theme=dark] .colab-df-convert {\n",
              "      background-color: #3B4455;\n",
              "      fill: #D2E3FC;\n",
              "    }\n",
              "\n",
              "    [theme=dark] .colab-df-convert:hover {\n",
              "      background-color: #434B5C;\n",
              "      box-shadow: 0px 1px 3px 1px rgba(0, 0, 0, 0.15);\n",
              "      filter: drop-shadow(0px 1px 2px rgba(0, 0, 0, 0.3));\n",
              "      fill: #FFFFFF;\n",
              "    }\n",
              "  </style>\n",
              "\n",
              "      <script>\n",
              "        const buttonEl =\n",
              "          document.querySelector('#df-6701cca8-5129-4ab6-b464-29795cd7212e button.colab-df-convert');\n",
              "        buttonEl.style.display =\n",
              "          google.colab.kernel.accessAllowed ? 'block' : 'none';\n",
              "\n",
              "        async function convertToInteractive(key) {\n",
              "          const element = document.querySelector('#df-6701cca8-5129-4ab6-b464-29795cd7212e');\n",
              "          const dataTable =\n",
              "            await google.colab.kernel.invokeFunction('convertToInteractive',\n",
              "                                                     [key], {});\n",
              "          if (!dataTable) return;\n",
              "\n",
              "          const docLinkHtml = 'Like what you see? Visit the ' +\n",
              "            '<a target=\"_blank\" href=https://colab.research.google.com/notebooks/data_table.ipynb>data table notebook</a>'\n",
              "            + ' to learn more about interactive tables.';\n",
              "          element.innerHTML = '';\n",
              "          dataTable['output_type'] = 'display_data';\n",
              "          await google.colab.output.renderOutput(dataTable, element);\n",
              "          const docLink = document.createElement('div');\n",
              "          docLink.innerHTML = docLinkHtml;\n",
              "          element.appendChild(docLink);\n",
              "        }\n",
              "      </script>\n",
              "    </div>\n",
              "  </div>\n",
              "  "
            ]
          },
          "metadata": {},
          "execution_count": 4
        }
      ],
      "source": [
        "#head\n",
        "df.head()"
      ]
    },
    {
      "cell_type": "markdown",
      "metadata": {
        "id": "UA59sezGoOEA"
      },
      "source": [
        "Tail of DataFrame:"
      ]
    },
    {
      "cell_type": "code",
      "execution_count": 5,
      "metadata": {
        "colab": {
          "base_uri": "https://localhost:8080/",
          "height": 206
        },
        "id": "mPXHfHgJwPr4",
        "outputId": "d4d091cb-71ae-414a-ca90-aacf1352c465"
      },
      "outputs": [
        {
          "output_type": "execute_result",
          "data": {
            "text/plain": [
              "       Sl. No.                 Date  Cheque No.  \\\n",
              "54251    105.0  2022-02-05 00:00:00         NaN   \n",
              "54252    106.0  2022-02-05 00:00:00         NaN   \n",
              "54253    107.0  2022-02-06 00:00:00         NaN   \n",
              "54254    108.0  2022-02-07 00:00:00         NaN   \n",
              "54255    109.0  2022-02-20 00:00:00         NaN   \n",
              "\n",
              "                                             Description Sub-Category  \\\n",
              "54251  NACH-10-DR-INCRED FINANCIAL SER -INCRED78CVSDJ...          NaN   \n",
              "54252  UPI/HARI PRADHAN D/203640954009/Payment from P...          NaN   \n",
              "54253  UPI/KOSANA RAJASEKH/203755167677/UPI (Ref# UPI...          NaN   \n",
              "54254  UPI/Electricity Boa/203852514873/Oid1724063818...          NaN   \n",
              "54255  UPI/BOLLAVARAPU KIS/205121977570/Payment from ...          NaN   \n",
              "\n",
              "      Category   Amount                     Category.1   Balance  \n",
              "54251      NaN  -4119.0                           Loan  15950.11  \n",
              "54252      NaN -15000.0     Transfer to HARI PRADHAN D    950.11  \n",
              "54253      NaN   3000.0  Transfer from KOSANA RAJASEKH   3950.11  \n",
              "54254      NaN   -591.0                      Utilities   3359.11  \n",
              "54255      NaN  -3000.0    Transfer to BOLLAVARAPU KIS    359.11  "
            ],
            "text/html": [
              "\n",
              "  <div id=\"df-f4409314-595c-44d6-8bb0-7fd1cae54d19\">\n",
              "    <div class=\"colab-df-container\">\n",
              "      <div>\n",
              "<style scoped>\n",
              "    .dataframe tbody tr th:only-of-type {\n",
              "        vertical-align: middle;\n",
              "    }\n",
              "\n",
              "    .dataframe tbody tr th {\n",
              "        vertical-align: top;\n",
              "    }\n",
              "\n",
              "    .dataframe thead th {\n",
              "        text-align: right;\n",
              "    }\n",
              "</style>\n",
              "<table border=\"1\" class=\"dataframe\">\n",
              "  <thead>\n",
              "    <tr style=\"text-align: right;\">\n",
              "      <th></th>\n",
              "      <th>Sl. No.</th>\n",
              "      <th>Date</th>\n",
              "      <th>Cheque No.</th>\n",
              "      <th>Description</th>\n",
              "      <th>Sub-Category</th>\n",
              "      <th>Category</th>\n",
              "      <th>Amount</th>\n",
              "      <th>Category.1</th>\n",
              "      <th>Balance</th>\n",
              "    </tr>\n",
              "  </thead>\n",
              "  <tbody>\n",
              "    <tr>\n",
              "      <th>54251</th>\n",
              "      <td>105.0</td>\n",
              "      <td>2022-02-05 00:00:00</td>\n",
              "      <td>NaN</td>\n",
              "      <td>NACH-10-DR-INCRED FINANCIAL SER -INCRED78CVSDJ...</td>\n",
              "      <td>NaN</td>\n",
              "      <td>NaN</td>\n",
              "      <td>-4119.0</td>\n",
              "      <td>Loan</td>\n",
              "      <td>15950.11</td>\n",
              "    </tr>\n",
              "    <tr>\n",
              "      <th>54252</th>\n",
              "      <td>106.0</td>\n",
              "      <td>2022-02-05 00:00:00</td>\n",
              "      <td>NaN</td>\n",
              "      <td>UPI/HARI PRADHAN D/203640954009/Payment from P...</td>\n",
              "      <td>NaN</td>\n",
              "      <td>NaN</td>\n",
              "      <td>-15000.0</td>\n",
              "      <td>Transfer to HARI PRADHAN D</td>\n",
              "      <td>950.11</td>\n",
              "    </tr>\n",
              "    <tr>\n",
              "      <th>54253</th>\n",
              "      <td>107.0</td>\n",
              "      <td>2022-02-06 00:00:00</td>\n",
              "      <td>NaN</td>\n",
              "      <td>UPI/KOSANA RAJASEKH/203755167677/UPI (Ref# UPI...</td>\n",
              "      <td>NaN</td>\n",
              "      <td>NaN</td>\n",
              "      <td>3000.0</td>\n",
              "      <td>Transfer from KOSANA RAJASEKH</td>\n",
              "      <td>3950.11</td>\n",
              "    </tr>\n",
              "    <tr>\n",
              "      <th>54254</th>\n",
              "      <td>108.0</td>\n",
              "      <td>2022-02-07 00:00:00</td>\n",
              "      <td>NaN</td>\n",
              "      <td>UPI/Electricity Boa/203852514873/Oid1724063818...</td>\n",
              "      <td>NaN</td>\n",
              "      <td>NaN</td>\n",
              "      <td>-591.0</td>\n",
              "      <td>Utilities</td>\n",
              "      <td>3359.11</td>\n",
              "    </tr>\n",
              "    <tr>\n",
              "      <th>54255</th>\n",
              "      <td>109.0</td>\n",
              "      <td>2022-02-20 00:00:00</td>\n",
              "      <td>NaN</td>\n",
              "      <td>UPI/BOLLAVARAPU KIS/205121977570/Payment from ...</td>\n",
              "      <td>NaN</td>\n",
              "      <td>NaN</td>\n",
              "      <td>-3000.0</td>\n",
              "      <td>Transfer to BOLLAVARAPU KIS</td>\n",
              "      <td>359.11</td>\n",
              "    </tr>\n",
              "  </tbody>\n",
              "</table>\n",
              "</div>\n",
              "      <button class=\"colab-df-convert\" onclick=\"convertToInteractive('df-f4409314-595c-44d6-8bb0-7fd1cae54d19')\"\n",
              "              title=\"Convert this dataframe to an interactive table.\"\n",
              "              style=\"display:none;\">\n",
              "        \n",
              "  <svg xmlns=\"http://www.w3.org/2000/svg\" height=\"24px\"viewBox=\"0 0 24 24\"\n",
              "       width=\"24px\">\n",
              "    <path d=\"M0 0h24v24H0V0z\" fill=\"none\"/>\n",
              "    <path d=\"M18.56 5.44l.94 2.06.94-2.06 2.06-.94-2.06-.94-.94-2.06-.94 2.06-2.06.94zm-11 1L8.5 8.5l.94-2.06 2.06-.94-2.06-.94L8.5 2.5l-.94 2.06-2.06.94zm10 10l.94 2.06.94-2.06 2.06-.94-2.06-.94-.94-2.06-.94 2.06-2.06.94z\"/><path d=\"M17.41 7.96l-1.37-1.37c-.4-.4-.92-.59-1.43-.59-.52 0-1.04.2-1.43.59L10.3 9.45l-7.72 7.72c-.78.78-.78 2.05 0 2.83L4 21.41c.39.39.9.59 1.41.59.51 0 1.02-.2 1.41-.59l7.78-7.78 2.81-2.81c.8-.78.8-2.07 0-2.86zM5.41 20L4 18.59l7.72-7.72 1.47 1.35L5.41 20z\"/>\n",
              "  </svg>\n",
              "      </button>\n",
              "      \n",
              "  <style>\n",
              "    .colab-df-container {\n",
              "      display:flex;\n",
              "      flex-wrap:wrap;\n",
              "      gap: 12px;\n",
              "    }\n",
              "\n",
              "    .colab-df-convert {\n",
              "      background-color: #E8F0FE;\n",
              "      border: none;\n",
              "      border-radius: 50%;\n",
              "      cursor: pointer;\n",
              "      display: none;\n",
              "      fill: #1967D2;\n",
              "      height: 32px;\n",
              "      padding: 0 0 0 0;\n",
              "      width: 32px;\n",
              "    }\n",
              "\n",
              "    .colab-df-convert:hover {\n",
              "      background-color: #E2EBFA;\n",
              "      box-shadow: 0px 1px 2px rgba(60, 64, 67, 0.3), 0px 1px 3px 1px rgba(60, 64, 67, 0.15);\n",
              "      fill: #174EA6;\n",
              "    }\n",
              "\n",
              "    [theme=dark] .colab-df-convert {\n",
              "      background-color: #3B4455;\n",
              "      fill: #D2E3FC;\n",
              "    }\n",
              "\n",
              "    [theme=dark] .colab-df-convert:hover {\n",
              "      background-color: #434B5C;\n",
              "      box-shadow: 0px 1px 3px 1px rgba(0, 0, 0, 0.15);\n",
              "      filter: drop-shadow(0px 1px 2px rgba(0, 0, 0, 0.3));\n",
              "      fill: #FFFFFF;\n",
              "    }\n",
              "  </style>\n",
              "\n",
              "      <script>\n",
              "        const buttonEl =\n",
              "          document.querySelector('#df-f4409314-595c-44d6-8bb0-7fd1cae54d19 button.colab-df-convert');\n",
              "        buttonEl.style.display =\n",
              "          google.colab.kernel.accessAllowed ? 'block' : 'none';\n",
              "\n",
              "        async function convertToInteractive(key) {\n",
              "          const element = document.querySelector('#df-f4409314-595c-44d6-8bb0-7fd1cae54d19');\n",
              "          const dataTable =\n",
              "            await google.colab.kernel.invokeFunction('convertToInteractive',\n",
              "                                                     [key], {});\n",
              "          if (!dataTable) return;\n",
              "\n",
              "          const docLinkHtml = 'Like what you see? Visit the ' +\n",
              "            '<a target=\"_blank\" href=https://colab.research.google.com/notebooks/data_table.ipynb>data table notebook</a>'\n",
              "            + ' to learn more about interactive tables.';\n",
              "          element.innerHTML = '';\n",
              "          dataTable['output_type'] = 'display_data';\n",
              "          await google.colab.output.renderOutput(dataTable, element);\n",
              "          const docLink = document.createElement('div');\n",
              "          docLink.innerHTML = docLinkHtml;\n",
              "          element.appendChild(docLink);\n",
              "        }\n",
              "      </script>\n",
              "    </div>\n",
              "  </div>\n",
              "  "
            ]
          },
          "metadata": {},
          "execution_count": 5
        }
      ],
      "source": [
        "#tail\n",
        "df.tail()"
      ]
    },
    {
      "cell_type": "markdown",
      "metadata": {
        "id": "LJth2ddcoT2E"
      },
      "source": [
        "What's the shape of DataFrame:"
      ]
    },
    {
      "cell_type": "code",
      "execution_count": 6,
      "metadata": {
        "colab": {
          "base_uri": "https://localhost:8080/"
        },
        "id": "Wb556yMTwTjc",
        "outputId": "f2ca6304-c75c-485e-ee87-0c9e96584afe"
      },
      "outputs": [
        {
          "output_type": "execute_result",
          "data": {
            "text/plain": [
              "(54256, 9)"
            ]
          },
          "metadata": {},
          "execution_count": 6
        }
      ],
      "source": [
        "#shape of dataframe\n",
        "df.shape"
      ]
    },
    {
      "cell_type": "markdown",
      "metadata": {
        "id": "lBqzBM5jogPk"
      },
      "source": [
        "Different columns present in Dataframe:"
      ]
    },
    {
      "cell_type": "code",
      "execution_count": 7,
      "metadata": {
        "colab": {
          "base_uri": "https://localhost:8080/"
        },
        "id": "f5yMYNjM7D_C",
        "outputId": "b4867031-f436-46ae-a428-0993e39397ec"
      },
      "outputs": [
        {
          "output_type": "execute_result",
          "data": {
            "text/plain": [
              "Index(['Sl. No.', 'Date', 'Cheque No.', 'Description', 'Sub-Category',\n",
              "       'Category', 'Amount', 'Category.1', 'Balance'],\n",
              "      dtype='object')"
            ]
          },
          "metadata": {},
          "execution_count": 7
        }
      ],
      "source": [
        "#columns in dataframe\n",
        "df.columns"
      ]
    },
    {
      "cell_type": "markdown",
      "metadata": {
        "id": "5PcFc2cZorhc"
      },
      "source": [
        "Information about Null values and datatypes of Dataframe:"
      ]
    },
    {
      "cell_type": "code",
      "execution_count": 8,
      "metadata": {
        "colab": {
          "base_uri": "https://localhost:8080/"
        },
        "id": "QpLOgjzjwXwM",
        "outputId": "631b7ff2-2752-4e23-cec5-5d5b6ab7c1db"
      },
      "outputs": [
        {
          "output_type": "stream",
          "name": "stdout",
          "text": [
            "<class 'pandas.core.frame.DataFrame'>\n",
            "RangeIndex: 54256 entries, 0 to 54255\n",
            "Data columns (total 9 columns):\n",
            " #   Column        Non-Null Count  Dtype  \n",
            "---  ------        --------------  -----  \n",
            " 0   Sl. No.       54255 non-null  float64\n",
            " 1   Date          54255 non-null  object \n",
            " 2   Cheque No.    292 non-null    float64\n",
            " 3   Description   54255 non-null  object \n",
            " 4   Sub-Category  21362 non-null  object \n",
            " 5   Category      21362 non-null  object \n",
            " 6   Amount        54255 non-null  float64\n",
            " 7   Category.1    54255 non-null  object \n",
            " 8   Balance       54256 non-null  float64\n",
            "dtypes: float64(4), object(5)\n",
            "memory usage: 3.7+ MB\n"
          ]
        }
      ],
      "source": [
        "\n",
        "df.info()"
      ]
    },
    {
      "cell_type": "code",
      "execution_count": 9,
      "metadata": {
        "colab": {
          "base_uri": "https://localhost:8080/",
          "height": 175
        },
        "id": "w9k1agX1xVdM",
        "outputId": "8bd9cb94-18a4-48bc-80d9-b6af75238159"
      },
      "outputs": [
        {
          "output_type": "execute_result",
          "data": {
            "text/plain": [
              "                       Date                   Description     Sub-Category  \\\n",
              "count                 54255                         54255            21362   \n",
              "unique                  795                         49818               49   \n",
              "top     2021-12-06 00:00:00  Consolidated Charges for A/c  Wallet Payments   \n",
              "freq                    355                           154             6461   \n",
              "\n",
              "        Category    Category.1  \n",
              "count      21362         54255  \n",
              "unique        11         10630  \n",
              "top     Payments  Transfer out  \n",
              "freq        8177          6284  "
            ],
            "text/html": [
              "\n",
              "  <div id=\"df-e4371af2-5023-42f4-bd4d-dd3c78b0a1f2\">\n",
              "    <div class=\"colab-df-container\">\n",
              "      <div>\n",
              "<style scoped>\n",
              "    .dataframe tbody tr th:only-of-type {\n",
              "        vertical-align: middle;\n",
              "    }\n",
              "\n",
              "    .dataframe tbody tr th {\n",
              "        vertical-align: top;\n",
              "    }\n",
              "\n",
              "    .dataframe thead th {\n",
              "        text-align: right;\n",
              "    }\n",
              "</style>\n",
              "<table border=\"1\" class=\"dataframe\">\n",
              "  <thead>\n",
              "    <tr style=\"text-align: right;\">\n",
              "      <th></th>\n",
              "      <th>Date</th>\n",
              "      <th>Description</th>\n",
              "      <th>Sub-Category</th>\n",
              "      <th>Category</th>\n",
              "      <th>Category.1</th>\n",
              "    </tr>\n",
              "  </thead>\n",
              "  <tbody>\n",
              "    <tr>\n",
              "      <th>count</th>\n",
              "      <td>54255</td>\n",
              "      <td>54255</td>\n",
              "      <td>21362</td>\n",
              "      <td>21362</td>\n",
              "      <td>54255</td>\n",
              "    </tr>\n",
              "    <tr>\n",
              "      <th>unique</th>\n",
              "      <td>795</td>\n",
              "      <td>49818</td>\n",
              "      <td>49</td>\n",
              "      <td>11</td>\n",
              "      <td>10630</td>\n",
              "    </tr>\n",
              "    <tr>\n",
              "      <th>top</th>\n",
              "      <td>2021-12-06 00:00:00</td>\n",
              "      <td>Consolidated Charges for A/c</td>\n",
              "      <td>Wallet Payments</td>\n",
              "      <td>Payments</td>\n",
              "      <td>Transfer out</td>\n",
              "    </tr>\n",
              "    <tr>\n",
              "      <th>freq</th>\n",
              "      <td>355</td>\n",
              "      <td>154</td>\n",
              "      <td>6461</td>\n",
              "      <td>8177</td>\n",
              "      <td>6284</td>\n",
              "    </tr>\n",
              "  </tbody>\n",
              "</table>\n",
              "</div>\n",
              "      <button class=\"colab-df-convert\" onclick=\"convertToInteractive('df-e4371af2-5023-42f4-bd4d-dd3c78b0a1f2')\"\n",
              "              title=\"Convert this dataframe to an interactive table.\"\n",
              "              style=\"display:none;\">\n",
              "        \n",
              "  <svg xmlns=\"http://www.w3.org/2000/svg\" height=\"24px\"viewBox=\"0 0 24 24\"\n",
              "       width=\"24px\">\n",
              "    <path d=\"M0 0h24v24H0V0z\" fill=\"none\"/>\n",
              "    <path d=\"M18.56 5.44l.94 2.06.94-2.06 2.06-.94-2.06-.94-.94-2.06-.94 2.06-2.06.94zm-11 1L8.5 8.5l.94-2.06 2.06-.94-2.06-.94L8.5 2.5l-.94 2.06-2.06.94zm10 10l.94 2.06.94-2.06 2.06-.94-2.06-.94-.94-2.06-.94 2.06-2.06.94z\"/><path d=\"M17.41 7.96l-1.37-1.37c-.4-.4-.92-.59-1.43-.59-.52 0-1.04.2-1.43.59L10.3 9.45l-7.72 7.72c-.78.78-.78 2.05 0 2.83L4 21.41c.39.39.9.59 1.41.59.51 0 1.02-.2 1.41-.59l7.78-7.78 2.81-2.81c.8-.78.8-2.07 0-2.86zM5.41 20L4 18.59l7.72-7.72 1.47 1.35L5.41 20z\"/>\n",
              "  </svg>\n",
              "      </button>\n",
              "      \n",
              "  <style>\n",
              "    .colab-df-container {\n",
              "      display:flex;\n",
              "      flex-wrap:wrap;\n",
              "      gap: 12px;\n",
              "    }\n",
              "\n",
              "    .colab-df-convert {\n",
              "      background-color: #E8F0FE;\n",
              "      border: none;\n",
              "      border-radius: 50%;\n",
              "      cursor: pointer;\n",
              "      display: none;\n",
              "      fill: #1967D2;\n",
              "      height: 32px;\n",
              "      padding: 0 0 0 0;\n",
              "      width: 32px;\n",
              "    }\n",
              "\n",
              "    .colab-df-convert:hover {\n",
              "      background-color: #E2EBFA;\n",
              "      box-shadow: 0px 1px 2px rgba(60, 64, 67, 0.3), 0px 1px 3px 1px rgba(60, 64, 67, 0.15);\n",
              "      fill: #174EA6;\n",
              "    }\n",
              "\n",
              "    [theme=dark] .colab-df-convert {\n",
              "      background-color: #3B4455;\n",
              "      fill: #D2E3FC;\n",
              "    }\n",
              "\n",
              "    [theme=dark] .colab-df-convert:hover {\n",
              "      background-color: #434B5C;\n",
              "      box-shadow: 0px 1px 3px 1px rgba(0, 0, 0, 0.15);\n",
              "      filter: drop-shadow(0px 1px 2px rgba(0, 0, 0, 0.3));\n",
              "      fill: #FFFFFF;\n",
              "    }\n",
              "  </style>\n",
              "\n",
              "      <script>\n",
              "        const buttonEl =\n",
              "          document.querySelector('#df-e4371af2-5023-42f4-bd4d-dd3c78b0a1f2 button.colab-df-convert');\n",
              "        buttonEl.style.display =\n",
              "          google.colab.kernel.accessAllowed ? 'block' : 'none';\n",
              "\n",
              "        async function convertToInteractive(key) {\n",
              "          const element = document.querySelector('#df-e4371af2-5023-42f4-bd4d-dd3c78b0a1f2');\n",
              "          const dataTable =\n",
              "            await google.colab.kernel.invokeFunction('convertToInteractive',\n",
              "                                                     [key], {});\n",
              "          if (!dataTable) return;\n",
              "\n",
              "          const docLinkHtml = 'Like what you see? Visit the ' +\n",
              "            '<a target=\"_blank\" href=https://colab.research.google.com/notebooks/data_table.ipynb>data table notebook</a>'\n",
              "            + ' to learn more about interactive tables.';\n",
              "          element.innerHTML = '';\n",
              "          dataTable['output_type'] = 'display_data';\n",
              "          await google.colab.output.renderOutput(dataTable, element);\n",
              "          const docLink = document.createElement('div');\n",
              "          docLink.innerHTML = docLinkHtml;\n",
              "          element.appendChild(docLink);\n",
              "        }\n",
              "      </script>\n",
              "    </div>\n",
              "  </div>\n",
              "  "
            ]
          },
          "metadata": {},
          "execution_count": 9
        }
      ],
      "source": [
        "#desciption of variables having object dtype\n",
        "df.describe(include='object')"
      ]
    },
    {
      "cell_type": "markdown",
      "metadata": {
        "id": "RDGULpwAp0k-"
      },
      "source": [
        "Decription of features having Numerical datatypes in dataframe:"
      ]
    },
    {
      "cell_type": "code",
      "execution_count": 97,
      "metadata": {
        "colab": {
          "base_uri": "https://localhost:8080/",
          "height": 300
        },
        "id": "vEmCqW6Lx4MX",
        "outputId": "ed9910ca-a7bc-4f09-f783-6ec9e5834ace"
      },
      "outputs": [
        {
          "output_type": "execute_result",
          "data": {
            "text/plain": [
              "             Amount       Balance\n",
              "count  5.369700e+04  5.369800e+04\n",
              "mean  -5.594667e+01  3.275532e+04\n",
              "std    3.991012e+04  1.043433e+05\n",
              "min   -3.300000e+06 -1.459901e+05\n",
              "25%   -1.686000e+03  1.963145e+03\n",
              "50%   -2.000000e+02  1.009250e+04\n",
              "75%   -1.000000e+00  3.221336e+04\n",
              "max    3.960000e+06  4.021982e+06"
            ],
            "text/html": [
              "\n",
              "  <div id=\"df-5091cf38-e9ef-4e01-938c-74deae69b14b\">\n",
              "    <div class=\"colab-df-container\">\n",
              "      <div>\n",
              "<style scoped>\n",
              "    .dataframe tbody tr th:only-of-type {\n",
              "        vertical-align: middle;\n",
              "    }\n",
              "\n",
              "    .dataframe tbody tr th {\n",
              "        vertical-align: top;\n",
              "    }\n",
              "\n",
              "    .dataframe thead th {\n",
              "        text-align: right;\n",
              "    }\n",
              "</style>\n",
              "<table border=\"1\" class=\"dataframe\">\n",
              "  <thead>\n",
              "    <tr style=\"text-align: right;\">\n",
              "      <th></th>\n",
              "      <th>Amount</th>\n",
              "      <th>Balance</th>\n",
              "    </tr>\n",
              "  </thead>\n",
              "  <tbody>\n",
              "    <tr>\n",
              "      <th>count</th>\n",
              "      <td>5.369700e+04</td>\n",
              "      <td>5.369800e+04</td>\n",
              "    </tr>\n",
              "    <tr>\n",
              "      <th>mean</th>\n",
              "      <td>-5.594667e+01</td>\n",
              "      <td>3.275532e+04</td>\n",
              "    </tr>\n",
              "    <tr>\n",
              "      <th>std</th>\n",
              "      <td>3.991012e+04</td>\n",
              "      <td>1.043433e+05</td>\n",
              "    </tr>\n",
              "    <tr>\n",
              "      <th>min</th>\n",
              "      <td>-3.300000e+06</td>\n",
              "      <td>-1.459901e+05</td>\n",
              "    </tr>\n",
              "    <tr>\n",
              "      <th>25%</th>\n",
              "      <td>-1.686000e+03</td>\n",
              "      <td>1.963145e+03</td>\n",
              "    </tr>\n",
              "    <tr>\n",
              "      <th>50%</th>\n",
              "      <td>-2.000000e+02</td>\n",
              "      <td>1.009250e+04</td>\n",
              "    </tr>\n",
              "    <tr>\n",
              "      <th>75%</th>\n",
              "      <td>-1.000000e+00</td>\n",
              "      <td>3.221336e+04</td>\n",
              "    </tr>\n",
              "    <tr>\n",
              "      <th>max</th>\n",
              "      <td>3.960000e+06</td>\n",
              "      <td>4.021982e+06</td>\n",
              "    </tr>\n",
              "  </tbody>\n",
              "</table>\n",
              "</div>\n",
              "      <button class=\"colab-df-convert\" onclick=\"convertToInteractive('df-5091cf38-e9ef-4e01-938c-74deae69b14b')\"\n",
              "              title=\"Convert this dataframe to an interactive table.\"\n",
              "              style=\"display:none;\">\n",
              "        \n",
              "  <svg xmlns=\"http://www.w3.org/2000/svg\" height=\"24px\"viewBox=\"0 0 24 24\"\n",
              "       width=\"24px\">\n",
              "    <path d=\"M0 0h24v24H0V0z\" fill=\"none\"/>\n",
              "    <path d=\"M18.56 5.44l.94 2.06.94-2.06 2.06-.94-2.06-.94-.94-2.06-.94 2.06-2.06.94zm-11 1L8.5 8.5l.94-2.06 2.06-.94-2.06-.94L8.5 2.5l-.94 2.06-2.06.94zm10 10l.94 2.06.94-2.06 2.06-.94-2.06-.94-.94-2.06-.94 2.06-2.06.94z\"/><path d=\"M17.41 7.96l-1.37-1.37c-.4-.4-.92-.59-1.43-.59-.52 0-1.04.2-1.43.59L10.3 9.45l-7.72 7.72c-.78.78-.78 2.05 0 2.83L4 21.41c.39.39.9.59 1.41.59.51 0 1.02-.2 1.41-.59l7.78-7.78 2.81-2.81c.8-.78.8-2.07 0-2.86zM5.41 20L4 18.59l7.72-7.72 1.47 1.35L5.41 20z\"/>\n",
              "  </svg>\n",
              "      </button>\n",
              "      \n",
              "  <style>\n",
              "    .colab-df-container {\n",
              "      display:flex;\n",
              "      flex-wrap:wrap;\n",
              "      gap: 12px;\n",
              "    }\n",
              "\n",
              "    .colab-df-convert {\n",
              "      background-color: #E8F0FE;\n",
              "      border: none;\n",
              "      border-radius: 50%;\n",
              "      cursor: pointer;\n",
              "      display: none;\n",
              "      fill: #1967D2;\n",
              "      height: 32px;\n",
              "      padding: 0 0 0 0;\n",
              "      width: 32px;\n",
              "    }\n",
              "\n",
              "    .colab-df-convert:hover {\n",
              "      background-color: #E2EBFA;\n",
              "      box-shadow: 0px 1px 2px rgba(60, 64, 67, 0.3), 0px 1px 3px 1px rgba(60, 64, 67, 0.15);\n",
              "      fill: #174EA6;\n",
              "    }\n",
              "\n",
              "    [theme=dark] .colab-df-convert {\n",
              "      background-color: #3B4455;\n",
              "      fill: #D2E3FC;\n",
              "    }\n",
              "\n",
              "    [theme=dark] .colab-df-convert:hover {\n",
              "      background-color: #434B5C;\n",
              "      box-shadow: 0px 1px 3px 1px rgba(0, 0, 0, 0.15);\n",
              "      filter: drop-shadow(0px 1px 2px rgba(0, 0, 0, 0.3));\n",
              "      fill: #FFFFFF;\n",
              "    }\n",
              "  </style>\n",
              "\n",
              "      <script>\n",
              "        const buttonEl =\n",
              "          document.querySelector('#df-5091cf38-e9ef-4e01-938c-74deae69b14b button.colab-df-convert');\n",
              "        buttonEl.style.display =\n",
              "          google.colab.kernel.accessAllowed ? 'block' : 'none';\n",
              "\n",
              "        async function convertToInteractive(key) {\n",
              "          const element = document.querySelector('#df-5091cf38-e9ef-4e01-938c-74deae69b14b');\n",
              "          const dataTable =\n",
              "            await google.colab.kernel.invokeFunction('convertToInteractive',\n",
              "                                                     [key], {});\n",
              "          if (!dataTable) return;\n",
              "\n",
              "          const docLinkHtml = 'Like what you see? Visit the ' +\n",
              "            '<a target=\"_blank\" href=https://colab.research.google.com/notebooks/data_table.ipynb>data table notebook</a>'\n",
              "            + ' to learn more about interactive tables.';\n",
              "          element.innerHTML = '';\n",
              "          dataTable['output_type'] = 'display_data';\n",
              "          await google.colab.output.renderOutput(dataTable, element);\n",
              "          const docLink = document.createElement('div');\n",
              "          docLink.innerHTML = docLinkHtml;\n",
              "          element.appendChild(docLink);\n",
              "        }\n",
              "      </script>\n",
              "    </div>\n",
              "  </div>\n",
              "  "
            ]
          },
          "metadata": {},
          "execution_count": 97
        }
      ],
      "source": [
        "#description of variables having numerical dtype\n",
        "df[['Amount','Balance']].describe()"
      ]
    },
    {
      "cell_type": "code",
      "execution_count": 11,
      "metadata": {
        "colab": {
          "base_uri": "https://localhost:8080/"
        },
        "id": "-9rVg-BI7XZ-",
        "outputId": "35a8bc4b-a7f9-4503-8b1f-cb5812475d4f"
      },
      "outputs": [
        {
          "output_type": "execute_result",
          "data": {
            "text/plain": [
              "['Sl. No.', 'Cheque No.', 'Amount', 'Balance']"
            ]
          },
          "metadata": {},
          "execution_count": 11
        }
      ],
      "source": [
        "df.describe().columns.tolist()"
      ]
    },
    {
      "cell_type": "markdown",
      "metadata": {
        "id": "YzbMA2fgqACE"
      },
      "source": [
        "How many duplicate values are present in our dataframe:"
      ]
    },
    {
      "cell_type": "code",
      "execution_count": 12,
      "metadata": {
        "colab": {
          "base_uri": "https://localhost:8080/",
          "height": 424
        },
        "id": "l3HSa6_i4ljM",
        "outputId": "44e7b7e7-fbd9-4adb-e73c-d0726c147fa1"
      },
      "outputs": [
        {
          "output_type": "execute_result",
          "data": {
            "text/plain": [
              "       Sl. No.                 Date  Cheque No.  \\\n",
              "2         12.0                44455         NaN   \n",
              "9        401.0                44182         NaN   \n",
              "11       411.0                44185         NaN   \n",
              "12       411.0                44185         NaN   \n",
              "430      412.0                44274         NaN   \n",
              "...        ...                  ...         ...   \n",
              "47477    157.0  2022-03-02 00:00:00         NaN   \n",
              "47478    158.0  2022-03-02 00:00:00         NaN   \n",
              "47479    159.0  2022-03-03 00:00:00         NaN   \n",
              "47480    160.0  2022-03-03 00:00:00         NaN   \n",
              "47481    161.0  2022-03-03 00:00:00         NaN   \n",
              "\n",
              "                                             Description        Sub-Category  \\\n",
              "2      TO TRANSFER-UPI/DR/125990176674/HOTEL AK/UTIB/...       Accomodations   \n",
              "9           UPI/P2M/035215679723/makemytri/ICICI Ban/UPI            Airlines   \n",
              "11          UPI/P2M/035509132932/makemytri/ICICI Ban/UPI            Airlines   \n",
              "12          UPI/P2M/035509132932/makemytri/ICICI Ban/UPI            Airlines   \n",
              "430             POS/CAPITAL BOOK DEPO/NOIDA/190321/04:16  Books & Stationery   \n",
              "...                                                  ...                 ...   \n",
              "47477                     NFS/03303377/CASH WDL/02-03-22                 NaN   \n",
              "47478                     NFS/03303377/CASH WDL/02-03-22                 NaN   \n",
              "47479                     NFS/BECN1859/CASH WDL/03-03-22                 NaN   \n",
              "47480                     NFS/03303377/CASH WDL/03-03-22                 NaN   \n",
              "47481                     NFS/03303377/CASH WDL/03-03-22                 NaN   \n",
              "\n",
              "       Category    Amount                     Category.1   Balance  \n",
              "2        Travel   -786.00         Transfer to GPAY-11182  22340.36  \n",
              "9        Travel  -1160.25                         Travel    230.07  \n",
              "11       Travel   -600.00                         Travel    730.07  \n",
              "12       Travel   -600.00                         Travel    730.07  \n",
              "430    Shopping  -4474.00  Transfer to CAPITAL BOOK DEPO    280.62  \n",
              "...         ...       ...                            ...       ...  \n",
              "47477       NaN -10000.00                Cash Withdrawal  39125.29  \n",
              "47478       NaN  -1500.00                Cash Withdrawal  37625.29  \n",
              "47479       NaN  -2000.00                Cash Withdrawal  35625.29  \n",
              "47480       NaN -10000.00                Cash Withdrawal  25625.29  \n",
              "47481       NaN  -5000.00                Cash Withdrawal  20625.29  \n",
              "\n",
              "[558 rows x 9 columns]"
            ],
            "text/html": [
              "\n",
              "  <div id=\"df-7bc36c08-91be-45fc-834f-09305e6e0a45\">\n",
              "    <div class=\"colab-df-container\">\n",
              "      <div>\n",
              "<style scoped>\n",
              "    .dataframe tbody tr th:only-of-type {\n",
              "        vertical-align: middle;\n",
              "    }\n",
              "\n",
              "    .dataframe tbody tr th {\n",
              "        vertical-align: top;\n",
              "    }\n",
              "\n",
              "    .dataframe thead th {\n",
              "        text-align: right;\n",
              "    }\n",
              "</style>\n",
              "<table border=\"1\" class=\"dataframe\">\n",
              "  <thead>\n",
              "    <tr style=\"text-align: right;\">\n",
              "      <th></th>\n",
              "      <th>Sl. No.</th>\n",
              "      <th>Date</th>\n",
              "      <th>Cheque No.</th>\n",
              "      <th>Description</th>\n",
              "      <th>Sub-Category</th>\n",
              "      <th>Category</th>\n",
              "      <th>Amount</th>\n",
              "      <th>Category.1</th>\n",
              "      <th>Balance</th>\n",
              "    </tr>\n",
              "  </thead>\n",
              "  <tbody>\n",
              "    <tr>\n",
              "      <th>2</th>\n",
              "      <td>12.0</td>\n",
              "      <td>44455</td>\n",
              "      <td>NaN</td>\n",
              "      <td>TO TRANSFER-UPI/DR/125990176674/HOTEL AK/UTIB/...</td>\n",
              "      <td>Accomodations</td>\n",
              "      <td>Travel</td>\n",
              "      <td>-786.00</td>\n",
              "      <td>Transfer to GPAY-11182</td>\n",
              "      <td>22340.36</td>\n",
              "    </tr>\n",
              "    <tr>\n",
              "      <th>9</th>\n",
              "      <td>401.0</td>\n",
              "      <td>44182</td>\n",
              "      <td>NaN</td>\n",
              "      <td>UPI/P2M/035215679723/makemytri/ICICI Ban/UPI</td>\n",
              "      <td>Airlines</td>\n",
              "      <td>Travel</td>\n",
              "      <td>-1160.25</td>\n",
              "      <td>Travel</td>\n",
              "      <td>230.07</td>\n",
              "    </tr>\n",
              "    <tr>\n",
              "      <th>11</th>\n",
              "      <td>411.0</td>\n",
              "      <td>44185</td>\n",
              "      <td>NaN</td>\n",
              "      <td>UPI/P2M/035509132932/makemytri/ICICI Ban/UPI</td>\n",
              "      <td>Airlines</td>\n",
              "      <td>Travel</td>\n",
              "      <td>-600.00</td>\n",
              "      <td>Travel</td>\n",
              "      <td>730.07</td>\n",
              "    </tr>\n",
              "    <tr>\n",
              "      <th>12</th>\n",
              "      <td>411.0</td>\n",
              "      <td>44185</td>\n",
              "      <td>NaN</td>\n",
              "      <td>UPI/P2M/035509132932/makemytri/ICICI Ban/UPI</td>\n",
              "      <td>Airlines</td>\n",
              "      <td>Travel</td>\n",
              "      <td>-600.00</td>\n",
              "      <td>Travel</td>\n",
              "      <td>730.07</td>\n",
              "    </tr>\n",
              "    <tr>\n",
              "      <th>430</th>\n",
              "      <td>412.0</td>\n",
              "      <td>44274</td>\n",
              "      <td>NaN</td>\n",
              "      <td>POS/CAPITAL BOOK DEPO/NOIDA/190321/04:16</td>\n",
              "      <td>Books &amp; Stationery</td>\n",
              "      <td>Shopping</td>\n",
              "      <td>-4474.00</td>\n",
              "      <td>Transfer to CAPITAL BOOK DEPO</td>\n",
              "      <td>280.62</td>\n",
              "    </tr>\n",
              "    <tr>\n",
              "      <th>...</th>\n",
              "      <td>...</td>\n",
              "      <td>...</td>\n",
              "      <td>...</td>\n",
              "      <td>...</td>\n",
              "      <td>...</td>\n",
              "      <td>...</td>\n",
              "      <td>...</td>\n",
              "      <td>...</td>\n",
              "      <td>...</td>\n",
              "    </tr>\n",
              "    <tr>\n",
              "      <th>47477</th>\n",
              "      <td>157.0</td>\n",
              "      <td>2022-03-02 00:00:00</td>\n",
              "      <td>NaN</td>\n",
              "      <td>NFS/03303377/CASH WDL/02-03-22</td>\n",
              "      <td>NaN</td>\n",
              "      <td>NaN</td>\n",
              "      <td>-10000.00</td>\n",
              "      <td>Cash Withdrawal</td>\n",
              "      <td>39125.29</td>\n",
              "    </tr>\n",
              "    <tr>\n",
              "      <th>47478</th>\n",
              "      <td>158.0</td>\n",
              "      <td>2022-03-02 00:00:00</td>\n",
              "      <td>NaN</td>\n",
              "      <td>NFS/03303377/CASH WDL/02-03-22</td>\n",
              "      <td>NaN</td>\n",
              "      <td>NaN</td>\n",
              "      <td>-1500.00</td>\n",
              "      <td>Cash Withdrawal</td>\n",
              "      <td>37625.29</td>\n",
              "    </tr>\n",
              "    <tr>\n",
              "      <th>47479</th>\n",
              "      <td>159.0</td>\n",
              "      <td>2022-03-03 00:00:00</td>\n",
              "      <td>NaN</td>\n",
              "      <td>NFS/BECN1859/CASH WDL/03-03-22</td>\n",
              "      <td>NaN</td>\n",
              "      <td>NaN</td>\n",
              "      <td>-2000.00</td>\n",
              "      <td>Cash Withdrawal</td>\n",
              "      <td>35625.29</td>\n",
              "    </tr>\n",
              "    <tr>\n",
              "      <th>47480</th>\n",
              "      <td>160.0</td>\n",
              "      <td>2022-03-03 00:00:00</td>\n",
              "      <td>NaN</td>\n",
              "      <td>NFS/03303377/CASH WDL/03-03-22</td>\n",
              "      <td>NaN</td>\n",
              "      <td>NaN</td>\n",
              "      <td>-10000.00</td>\n",
              "      <td>Cash Withdrawal</td>\n",
              "      <td>25625.29</td>\n",
              "    </tr>\n",
              "    <tr>\n",
              "      <th>47481</th>\n",
              "      <td>161.0</td>\n",
              "      <td>2022-03-03 00:00:00</td>\n",
              "      <td>NaN</td>\n",
              "      <td>NFS/03303377/CASH WDL/03-03-22</td>\n",
              "      <td>NaN</td>\n",
              "      <td>NaN</td>\n",
              "      <td>-5000.00</td>\n",
              "      <td>Cash Withdrawal</td>\n",
              "      <td>20625.29</td>\n",
              "    </tr>\n",
              "  </tbody>\n",
              "</table>\n",
              "<p>558 rows × 9 columns</p>\n",
              "</div>\n",
              "      <button class=\"colab-df-convert\" onclick=\"convertToInteractive('df-7bc36c08-91be-45fc-834f-09305e6e0a45')\"\n",
              "              title=\"Convert this dataframe to an interactive table.\"\n",
              "              style=\"display:none;\">\n",
              "        \n",
              "  <svg xmlns=\"http://www.w3.org/2000/svg\" height=\"24px\"viewBox=\"0 0 24 24\"\n",
              "       width=\"24px\">\n",
              "    <path d=\"M0 0h24v24H0V0z\" fill=\"none\"/>\n",
              "    <path d=\"M18.56 5.44l.94 2.06.94-2.06 2.06-.94-2.06-.94-.94-2.06-.94 2.06-2.06.94zm-11 1L8.5 8.5l.94-2.06 2.06-.94-2.06-.94L8.5 2.5l-.94 2.06-2.06.94zm10 10l.94 2.06.94-2.06 2.06-.94-2.06-.94-.94-2.06-.94 2.06-2.06.94z\"/><path d=\"M17.41 7.96l-1.37-1.37c-.4-.4-.92-.59-1.43-.59-.52 0-1.04.2-1.43.59L10.3 9.45l-7.72 7.72c-.78.78-.78 2.05 0 2.83L4 21.41c.39.39.9.59 1.41.59.51 0 1.02-.2 1.41-.59l7.78-7.78 2.81-2.81c.8-.78.8-2.07 0-2.86zM5.41 20L4 18.59l7.72-7.72 1.47 1.35L5.41 20z\"/>\n",
              "  </svg>\n",
              "      </button>\n",
              "      \n",
              "  <style>\n",
              "    .colab-df-container {\n",
              "      display:flex;\n",
              "      flex-wrap:wrap;\n",
              "      gap: 12px;\n",
              "    }\n",
              "\n",
              "    .colab-df-convert {\n",
              "      background-color: #E8F0FE;\n",
              "      border: none;\n",
              "      border-radius: 50%;\n",
              "      cursor: pointer;\n",
              "      display: none;\n",
              "      fill: #1967D2;\n",
              "      height: 32px;\n",
              "      padding: 0 0 0 0;\n",
              "      width: 32px;\n",
              "    }\n",
              "\n",
              "    .colab-df-convert:hover {\n",
              "      background-color: #E2EBFA;\n",
              "      box-shadow: 0px 1px 2px rgba(60, 64, 67, 0.3), 0px 1px 3px 1px rgba(60, 64, 67, 0.15);\n",
              "      fill: #174EA6;\n",
              "    }\n",
              "\n",
              "    [theme=dark] .colab-df-convert {\n",
              "      background-color: #3B4455;\n",
              "      fill: #D2E3FC;\n",
              "    }\n",
              "\n",
              "    [theme=dark] .colab-df-convert:hover {\n",
              "      background-color: #434B5C;\n",
              "      box-shadow: 0px 1px 3px 1px rgba(0, 0, 0, 0.15);\n",
              "      filter: drop-shadow(0px 1px 2px rgba(0, 0, 0, 0.3));\n",
              "      fill: #FFFFFF;\n",
              "    }\n",
              "  </style>\n",
              "\n",
              "      <script>\n",
              "        const buttonEl =\n",
              "          document.querySelector('#df-7bc36c08-91be-45fc-834f-09305e6e0a45 button.colab-df-convert');\n",
              "        buttonEl.style.display =\n",
              "          google.colab.kernel.accessAllowed ? 'block' : 'none';\n",
              "\n",
              "        async function convertToInteractive(key) {\n",
              "          const element = document.querySelector('#df-7bc36c08-91be-45fc-834f-09305e6e0a45');\n",
              "          const dataTable =\n",
              "            await google.colab.kernel.invokeFunction('convertToInteractive',\n",
              "                                                     [key], {});\n",
              "          if (!dataTable) return;\n",
              "\n",
              "          const docLinkHtml = 'Like what you see? Visit the ' +\n",
              "            '<a target=\"_blank\" href=https://colab.research.google.com/notebooks/data_table.ipynb>data table notebook</a>'\n",
              "            + ' to learn more about interactive tables.';\n",
              "          element.innerHTML = '';\n",
              "          dataTable['output_type'] = 'display_data';\n",
              "          await google.colab.output.renderOutput(dataTable, element);\n",
              "          const docLink = document.createElement('div');\n",
              "          docLink.innerHTML = docLinkHtml;\n",
              "          element.appendChild(docLink);\n",
              "        }\n",
              "      </script>\n",
              "    </div>\n",
              "  </div>\n",
              "  "
            ]
          },
          "metadata": {},
          "execution_count": 12
        }
      ],
      "source": [
        "#checking duplicates\n",
        "df[df.duplicated()]"
      ]
    },
    {
      "cell_type": "markdown",
      "source": [
        "There are 558 duplicate values present in this dataset."
      ],
      "metadata": {
        "id": "sbkObUf6_s3R"
      }
    },
    {
      "cell_type": "code",
      "execution_count": 13,
      "metadata": {
        "colab": {
          "base_uri": "https://localhost:8080/"
        },
        "id": "lia5TpXVwssu",
        "outputId": "b8e8cc78-703f-475b-e16a-cf06e5a2da58"
      },
      "outputs": [
        {
          "output_type": "execute_result",
          "data": {
            "text/plain": [
              "558"
            ]
          },
          "metadata": {},
          "execution_count": 13
        }
      ],
      "source": [
        "#number of duplicates\n",
        "df.duplicated().sum()"
      ]
    },
    {
      "cell_type": "markdown",
      "metadata": {
        "id": "BT0mcwdeqP8k"
      },
      "source": [
        "Let's Drop those duplicate values:"
      ]
    },
    {
      "cell_type": "code",
      "execution_count": 4,
      "metadata": {
        "id": "MwC4cJL59i6A"
      },
      "outputs": [],
      "source": [
        "#dropping duplicates\n",
        "df.drop_duplicates(inplace=True)"
      ]
    },
    {
      "cell_type": "markdown",
      "metadata": {
        "id": "eZZhBlIau5WA"
      },
      "source": [
        "Number of Rows after dropping the duplicates:"
      ]
    },
    {
      "cell_type": "code",
      "execution_count": 15,
      "metadata": {
        "colab": {
          "base_uri": "https://localhost:8080/"
        },
        "id": "ZvEB_6YS9w68",
        "outputId": "4c0b7829-b97d-4418-d525-eaf39c7bc7c8"
      },
      "outputs": [
        {
          "output_type": "execute_result",
          "data": {
            "text/plain": [
              "53698"
            ]
          },
          "metadata": {},
          "execution_count": 15
        }
      ],
      "source": [
        "#length of dataframe\n",
        "len(df)"
      ]
    },
    {
      "cell_type": "markdown",
      "metadata": {
        "id": "hUsdkbqYvpWq"
      },
      "source": [
        "Checking for Null Values:"
      ]
    },
    {
      "cell_type": "code",
      "execution_count": 16,
      "metadata": {
        "colab": {
          "base_uri": "https://localhost:8080/"
        },
        "id": "U9_SaPY37yUs",
        "outputId": "890d326d-9002-470e-ea37-fc2f317545fd"
      },
      "outputs": [
        {
          "output_type": "stream",
          "name": "stdout",
          "text": [
            "Missing Data Count\n",
            "Cheque No.      53407\n",
            "Sub-Category    32401\n",
            "Category        32401\n",
            "Sl. No.             1\n",
            "Date                1\n",
            "Description         1\n",
            "Amount              1\n",
            "Category.1          1\n",
            "dtype: int64\n",
            "----------------------------------------------------------------------------------------------------\n",
            "Missing Data Percentage\n",
            "Cheque No.      99.46\n",
            "Sub-Category    60.34\n",
            "Category        60.34\n",
            "Sl. No.          0.00\n",
            "Date             0.00\n",
            "Description      0.00\n",
            "Amount           0.00\n",
            "Category.1       0.00\n",
            "dtype: float64\n"
          ]
        }
      ],
      "source": [
        "# Missing Value Count Function\n",
        "def show_missing():\n",
        "    missing = df.columns[df.isnull().any()].tolist()\n",
        "    return missing\n",
        "\n",
        "# Missing data counts and percentage\n",
        "print('Missing Data Count')\n",
        "print(df[show_missing()].isnull().sum().sort_values(ascending = False))\n",
        "print('--'*50)\n",
        "print('Missing Data Percentage')\n",
        "print(round(df[show_missing()].isnull().sum().sort_values(ascending = False)/len(df)*100,2))"
      ]
    },
    {
      "cell_type": "markdown",
      "source": [
        "Check number has 99.46% missing data and Category and subcategory has around 60% missing data."
      ],
      "metadata": {
        "id": "gEVbusjpAAKq"
      }
    },
    {
      "cell_type": "markdown",
      "metadata": {
        "id": "xIDS9Yk1v9k8"
      },
      "source": [
        "Since, Check No. contains 99.46% of missing data and SI no column is irrelevant for our analaysis so, Lets drop them."
      ]
    },
    {
      "cell_type": "code",
      "execution_count": 5,
      "metadata": {
        "colab": {
          "base_uri": "https://localhost:8080/"
        },
        "id": "SYxWmoAk9fCS",
        "outputId": "fd479b89-18de-4377-ad6a-f9e6be7f3be3"
      },
      "outputs": [
        {
          "output_type": "execute_result",
          "data": {
            "text/plain": [
              "(53698, 6)"
            ]
          },
          "metadata": {},
          "execution_count": 5
        }
      ],
      "source": [
        "df.drop(columns=['Cheque No.','Sl. No.','Date'], inplace=True)\n",
        "df.shape"
      ]
    },
    {
      "cell_type": "markdown",
      "source": [
        "After row number 21296 all the values in category and subcategories are null."
      ],
      "metadata": {
        "id": "4KhwL6daAcaa"
      }
    },
    {
      "cell_type": "markdown",
      "metadata": {
        "id": "BQRaz2lDwbqe"
      },
      "source": [
        "Since ,Categories and sucategories are all null after  21296 row ,So lets create a new datframe having values till 21297 rows in dataframe."
      ]
    },
    {
      "cell_type": "code",
      "execution_count": 18,
      "metadata": {
        "colab": {
          "base_uri": "https://localhost:8080/"
        },
        "id": "-fC8hLmtAHqI",
        "outputId": "627559e5-ff31-4c8c-bf84-48e9939713bb"
      },
      "outputs": [
        {
          "output_type": "execute_result",
          "data": {
            "text/plain": [
              "Description     0\n",
              "Sub-Category    0\n",
              "Category        0\n",
              "Amount          0\n",
              "Category.1      0\n",
              "Balance         0\n",
              "dtype: int64"
            ]
          },
          "metadata": {},
          "execution_count": 18
        }
      ],
      "source": [
        "df[:21297].isnull().sum()"
      ]
    },
    {
      "cell_type": "code",
      "execution_count": 19,
      "metadata": {
        "colab": {
          "base_uri": "https://localhost:8080/"
        },
        "id": "a8ZeY13K-M9j",
        "outputId": "cbde2637-0905-4cfc-aa64-815f8615cd73"
      },
      "outputs": [
        {
          "output_type": "execute_result",
          "data": {
            "text/plain": [
              "Description         1\n",
              "Sub-Category    32401\n",
              "Category        32401\n",
              "Amount              1\n",
              "Category.1          1\n",
              "Balance             0\n",
              "dtype: int64"
            ]
          },
          "metadata": {},
          "execution_count": 19
        }
      ],
      "source": [
        "df.iloc[21297:].isnull().sum()"
      ]
    },
    {
      "cell_type": "markdown",
      "source": [
        "#**EDA:**"
      ],
      "metadata": {
        "id": "U8VIW011Bixo"
      }
    },
    {
      "cell_type": "markdown",
      "metadata": {
        "id": "Mbncz57gxdi6"
      },
      "source": [
        "Let's check the number of unique categories:"
      ]
    },
    {
      "cell_type": "code",
      "execution_count": 20,
      "metadata": {
        "colab": {
          "base_uri": "https://localhost:8080/"
        },
        "id": "8OxSN9kFkASl",
        "outputId": "de9bf7b3-35f4-4af2-f453-612aeee617e7"
      },
      "outputs": [
        {
          "output_type": "execute_result",
          "data": {
            "text/plain": [
              "11"
            ]
          },
          "metadata": {},
          "execution_count": 20
        }
      ],
      "source": [
        "#number of unique categories\n",
        "df['Category'].nunique()"
      ]
    },
    {
      "cell_type": "markdown",
      "source": [
        "Ther are 11 unique categories for which transactions  happened."
      ],
      "metadata": {
        "id": "d5h8NskbAuvS"
      }
    },
    {
      "cell_type": "markdown",
      "metadata": {
        "id": "nLnKZ_mEyCrN"
      },
      "source": [
        "Let's check the number of unique Sub-categories:"
      ]
    },
    {
      "cell_type": "code",
      "execution_count": 21,
      "metadata": {
        "colab": {
          "base_uri": "https://localhost:8080/"
        },
        "id": "2Pa5GtXOkFBG",
        "outputId": "1c8c6a7c-d68d-4abc-ef01-7c4e1cb01840"
      },
      "outputs": [
        {
          "output_type": "execute_result",
          "data": {
            "text/plain": [
              "49"
            ]
          },
          "metadata": {},
          "execution_count": 21
        }
      ],
      "source": [
        "#number of unique sub-categories\n",
        "df['Sub-Category'].nunique()"
      ]
    },
    {
      "cell_type": "markdown",
      "source": [
        "There are 49 distinct subcategories ."
      ],
      "metadata": {
        "id": "a16sj-T-A-kl"
      }
    },
    {
      "cell_type": "code",
      "execution_count": 22,
      "metadata": {
        "colab": {
          "base_uri": "https://localhost:8080/"
        },
        "id": "f8-Pv7NxLIrc",
        "outputId": "70f10162-461b-4ea4-d448-4426554b40c2"
      },
      "outputs": [
        {
          "output_type": "execute_result",
          "data": {
            "text/plain": [
              "Payments         8177\n",
              "Credit           5544\n",
              "Fund Transfer    4862\n",
              "Others           1147\n",
              "Shopping          635\n",
              "Food              366\n",
              "Investment        258\n",
              "Entertainment     128\n",
              "Travel            100\n",
              "Healthcare         58\n",
              "Education          22\n",
              "Name: Category, dtype: int64"
            ]
          },
          "metadata": {},
          "execution_count": 22
        }
      ],
      "source": [
        "#value count for different categories\n",
        "df['Category'].value_counts()"
      ]
    },
    {
      "cell_type": "markdown",
      "source": [
        "We can observe that our data has some data imbalance w.r.t categories."
      ],
      "metadata": {
        "id": "NgYtNfCC6Jbp"
      }
    },
    {
      "cell_type": "markdown",
      "source": [
        "Most Amount of transactions  happened for payment category followed by credit."
      ],
      "metadata": {
        "id": "V7_S_q7VBuAf"
      }
    },
    {
      "cell_type": "markdown",
      "source": [
        "Let's visualize this using graph."
      ],
      "metadata": {
        "id": "jG03UjnZCHGB"
      }
    },
    {
      "cell_type": "code",
      "execution_count": 23,
      "metadata": {
        "colab": {
          "base_uri": "https://localhost:8080/",
          "height": 718
        },
        "id": "HxRr7eX3U-F0",
        "outputId": "b10f1d30-6d90-4863-c09c-ae1cd12cbfed"
      },
      "outputs": [
        {
          "output_type": "display_data",
          "data": {
            "text/plain": [
              "<Figure size 1200x800 with 1 Axes>"
            ],
            "image/png": "[encoded data removed]"
          },
          "metadata": {}
        }
      ],
      "source": [
        "#plotting value counts corresponding to categories using seaborn\n",
        "fig, ax = plt.subplots(figsize=(12, 8))\n",
        "sns.countplot(x='Category',data=df,ax=ax,order=df['Category'].value_counts(ascending=False).index)\n",
        "plt.ylabel('Transaction count')\n",
        "plt.title('Transaction counts w.r.t Category')\n",
        "plt.show()"
      ]
    },
    {
      "cell_type": "markdown",
      "metadata": {
        "id": "8Soavl79y-mY"
      },
      "source": [
        "Category wise value count for credit transactions:"
      ]
    },
    {
      "cell_type": "code",
      "execution_count": 24,
      "metadata": {
        "colab": {
          "base_uri": "https://localhost:8080/"
        },
        "id": "X88_DiLALal_",
        "outputId": "77e1aaf5-0fab-43cc-ea1b-c279eef299f2"
      },
      "outputs": [
        {
          "output_type": "execute_result",
          "data": {
            "text/plain": [
              "Credit        5544\n",
              "Investment      13\n",
              "Others           2\n",
              "Payments         2\n",
              "Name: Category, dtype: int64"
            ]
          },
          "metadata": {},
          "execution_count": 24
        }
      ],
      "source": [
        "df[df['Amount']>0]['Category'].value_counts()"
      ]
    },
    {
      "cell_type": "code",
      "source": [
        "plt.figure(figsize=(5,5))\n",
        "labels = df[df['Amount']>0]['Category'].value_counts().index.tolist()\n",
        "sizes = df[df['Amount']>0]['Category'].value_counts().tolist()\n",
        "explode = (0, 0.1,0.4,0.7)\n",
        "colors = ['orangered', 'blue','red','green']\n",
        "\n",
        "plt.pie(sizes, explode=explode, labels=labels, colors=colors, autopct='%1.1f%%',startangle =90, textprops={'fontsize': 14})"
      ],
      "metadata": {
        "colab": {
          "base_uri": "https://localhost:8080/",
          "height": 724
        },
        "id": "BNNoE5woK5ZR",
        "outputId": "dd44ba33-098f-406c-e306-4f424ecf4bcf"
      },
      "execution_count": 68,
      "outputs": [
        {
          "output_type": "execute_result",
          "data": {
            "text/plain": [
              "([<matplotlib.patches.Wedge at 0x7f1452d7e620>,\n",
              "  <matplotlib.patches.Wedge at 0x7f1452d7e560>,\n",
              "  <matplotlib.patches.Wedge at 0x7f1452d7f280>,\n",
              "  <matplotlib.patches.Wedge at 0x7f1452d7f910>],\n",
              " [Text(-0.01056408166038719, -1.0999492716387755, 'Credit'),\n",
              "  Text(0.014235970249616266, 1.199915554174981, 'Investment'),\n",
              "  Text(0.005084376860513506, 1.4999913830125626, 'Others'),\n",
              "  Text(0.0020337454284011193, 1.7999988510772813, 'Payments')],\n",
              " [Text(-0.005762226360211194, -0.5999723299847867, '99.7%'),\n",
              "  Text(0.00830431597894282, 0.6999507399354057, '0.2%'),\n",
              "  Text(0.0033895845736756705, 0.9999942553417084, '0.0%'),\n",
              "  Text(0.0014688161427341415, 1.299999170222481, '0.0%')])"
            ]
          },
          "metadata": {},
          "execution_count": 68
        },
        {
          "output_type": "display_data",
          "data": {
            "text/plain": [
              "<Figure size 500x500 with 1 Axes>"
            ],
            "image/png": "[encoded data removed]"
          },
          "metadata": {}
        }
      ]
    },
    {
      "cell_type": "markdown",
      "metadata": {
        "id": "OnZjG_1BzVwL"
      },
      "source": [
        "Category wise value count for Debit transactions:"
      ]
    },
    {
      "cell_type": "code",
      "execution_count": 29,
      "metadata": {
        "colab": {
          "base_uri": "https://localhost:8080/"
        },
        "id": "SoRTjqh0L7ch",
        "outputId": "b0ebab36-2215-4090-b62e-e4cdbf461ded"
      },
      "outputs": [
        {
          "output_type": "execute_result",
          "data": {
            "text/plain": [
              "Payments         8175\n",
              "Fund Transfer    4862\n",
              "Others           1145\n",
              "Shopping          635\n",
              "Food              366\n",
              "Investment        245\n",
              "Entertainment     128\n",
              "Travel            100\n",
              "Healthcare         58\n",
              "Education          22\n",
              "Name: Category, dtype: int64"
            ]
          },
          "metadata": {},
          "execution_count": 29
        }
      ],
      "source": [
        "df[df['Amount']<0]['Category'].value_counts()"
      ]
    },
    {
      "cell_type": "code",
      "source": [
        "plt.figure(figsize=(5,5))\n",
        "labels = df[df['Amount']<0]['Category'].value_counts().index.tolist()\n",
        "sizes = df[df['Amount']<0]['Category'].value_counts().tolist()\n",
        "explode = (0, 0.1,0.2,0.25,0.3,0.4,0.5,0.6,0.7,0.8)\n",
        "colors = ['orangered', 'blue','red','green','yellow','brown','black','green']\n",
        "\n",
        "plt.pie(sizes, explode=explode, labels=labels, colors=colors, autopct='%1.1f%%',startangle =90, textprops={'fontsize': 10})"
      ],
      "metadata": {
        "colab": {
          "base_uri": "https://localhost:8080/",
          "height": 1000
        },
        "id": "PKEZ4Pk6Lh_B",
        "outputId": "ba8f3d7f-ef30-45fa-d823-1c020d6bec3c"
      },
      "execution_count": 93,
      "outputs": [
        {
          "output_type": "execute_result",
          "data": {
            "text/plain": [
              "([<matplotlib.patches.Wedge at 0x7f1452aef400>,\n",
              "  <matplotlib.patches.Wedge at 0x7f1452aeeec0>,\n",
              "  <matplotlib.patches.Wedge at 0x7f1455d81f00>,\n",
              "  <matplotlib.patches.Wedge at 0x7f1455d80370>,\n",
              "  <matplotlib.patches.Wedge at 0x7f1455d83df0>,\n",
              "  <matplotlib.patches.Wedge at 0x7f1455d81b40>,\n",
              "  <matplotlib.patches.Wedge at 0x7f1455d81d50>,\n",
              "  <matplotlib.patches.Wedge at 0x7f1455d83e20>,\n",
              "  <matplotlib.patches.Wedge at 0x7f1452aef0a0>,\n",
              "  <matplotlib.patches.Wedge at 0x7f14932b7460>],\n",
              " [Text(-1.0979345444755688, -0.06737756338148246, 'Payments'),\n",
              "  Text(1.0657497278613794, -0.5515229075599632, 'Fund Transfer'),\n",
              "  Text(0.975878527702509, 0.8588719923068767, 'Others'),\n",
              "  Text(0.6397700047303087, 1.1887785079851425, 'Shopping'),\n",
              "  Text(0.40552901381754286, 1.339979932294574, 'Food'),\n",
              "  Text(0.25657171320048666, 1.4778940949829145, 'Investment'),\n",
              "  Text(0.15563506434626792, 1.5924125491674364, 'Entertainment'),\n",
              "  Text(0.0882026429786113, 1.6977103091433436, 'Travel'),\n",
              "  Text(0.03665179578793802, 1.799626807386887, 'Healthcare'),\n",
              "  Text(0.008344817115212386, 1.8999816746556566, 'Education')],\n",
              " [Text(-0.5988733878957647, -0.036751398208081335, '52.0%'),\n",
              "  Text(0.6216873412524713, -0.3217216960766452, '30.9%'),\n",
              "  Text(0.6005406324323131, 0.5285366106503856, '7.3%'),\n",
              "  Text(0.40281815112649055, 0.7484901716943488, '4.0%'),\n",
              "  Text(0.26069722316842037, 0.8614156707607976, '2.3%'),\n",
              "  Text(0.17104780880032444, 0.9852627299886095, '1.6%'),\n",
              "  Text(0.10699910673805918, 1.0947836275526126, '0.8%'),\n",
              "  Text(0.06226068916137268, 1.1983837476305954, '0.6%'),\n",
              "  Text(0.026470741402399682, 1.2997304720016405, '0.4%'),\n",
              "  Text(0.006148812611209127, 1.3999864971146945, '0.1%')])"
            ]
          },
          "metadata": {},
          "execution_count": 93
        },
        {
          "output_type": "display_data",
          "data": {
            "text/plain": [
              "<Figure size 500x500 with 1 Axes>"
            ],
            "image/png": "[encoded data removed]"
          },
          "metadata": {}
        }
      ]
    },
    {
      "cell_type": "markdown",
      "metadata": {
        "id": "ihbLm34Bzlg6"
      },
      "source": [
        "Lets count the subcategorywise transactions:"
      ]
    },
    {
      "cell_type": "code",
      "execution_count": null,
      "metadata": {
        "colab": {
          "base_uri": "https://localhost:8080/",
          "height": 718
        },
        "id": "7qAs-3L3zfIq",
        "outputId": "0c009149-76fd-4126-9f5f-2c0847d07e78"
      },
      "outputs": [
        {
          "output_type": "display_data",
          "data": {
            "text/plain": [
              "<Figure size 1400x800 with 1 Axes>"
            ],
            "image/png": "[encoded data removed]"
          },
          "metadata": {}
        }
      ],
      "source": [
        "#plotting value counts corresponding to sub-categories using seaborn\n",
        "\n",
        "fig, ax = plt.subplots(figsize=(14, 8))\n",
        "sns.countplot(x='Sub-Category',data=df,ax=ax,order=df['Sub-Category'].value_counts(ascending=False)[:10].index)\n",
        "plt.ylabel('Transaction count')\n",
        "plt.title('top 10 Transaction counts w.r.t Sub-Category')\n",
        "plt.show()"
      ]
    },
    {
      "cell_type": "markdown",
      "source": [
        "Most amount of transactions for subcategory happend through wallet payments followed by credit and remmitance."
      ],
      "metadata": {
        "id": "_qOJ1C_V21Qw"
      }
    },
    {
      "cell_type": "code",
      "source": [
        "x=0\n",
        "for i in df['Category'].unique().tolist():\n",
        "  x=x+1\n",
        "  print(x)\n",
        "\n",
        "  print('Sub-Category for following category:',i)\n",
        "  print('Number of Sub-Categories for following category:',df[df['Category']==i]['Sub-Category'].nunique() )\n",
        "  print(df[df['Category']==i]['Sub-Category'].value_counts())\n",
        "  print('')\n",
        "  print(df[df['Category']==i]['Sub-Category'].unique())"
      ],
      "metadata": {
        "colab": {
          "base_uri": "https://localhost:8080/"
        },
        "id": "khIIw7MzzU3N",
        "outputId": "da42e933-5791-46d8-c39c-f902d1708647"
      },
      "execution_count": 92,
      "outputs": [
        {
          "output_type": "stream",
          "name": "stdout",
          "text": [
            "1\n",
            "Sub-Category for following category: Travel\n",
            "Number of Sub-Categories for following category: 8\n",
            "Cab/Bike Services    40\n",
            "Railways             23\n",
            "Local Railways       12\n",
            "Travel-Others         8\n",
            "Accomodations         6\n",
            "Travel & Tours        6\n",
            "Airlines              4\n",
            "Car Rentals           1\n",
            "Name: Sub-Category, dtype: int64\n",
            "\n",
            "['Accomodations' 'Airlines' 'Cab/Bike Services' 'Car Rentals'\n",
            " 'Local Railways' 'Railways' 'Travel & Tours' 'Travel-Others']\n",
            "2\n",
            "Sub-Category for following category: Food\n",
            "Number of Sub-Categories for following category: 3\n",
            "Food Delivery    227\n",
            "Restaurants      121\n",
            "Alcohol           18\n",
            "Name: Sub-Category, dtype: int64\n",
            "\n",
            "['Alcohol' 'Food Delivery' 'Restaurants']\n",
            "3\n",
            "Sub-Category for following category: Shopping\n",
            "Number of Sub-Categories for following category: 11\n",
            "Ecommerce                        302\n",
            "Groceries & Other Consumables    155\n",
            "Shopping-Others                  126\n",
            "Apparel                           20\n",
            "Electronics                       10\n",
            "Jewellery & Other Accessories      7\n",
            "Personal Care                      6\n",
            "Fitness                            5\n",
            "Home Furnishing                    2\n",
            "Books & Stationery                 1\n",
            "Gifts                              1\n",
            "Name: Sub-Category, dtype: int64\n",
            "\n",
            "['Apparel' 'Books & Stationery' 'Ecommerce' 'Electronics' 'Fitness'\n",
            " 'Gifts' 'Groceries & Other Consumables' 'Home Furnishing'\n",
            " 'Jewellery & Other Accessories' 'Personal Care' 'Shopping-Others']\n",
            "4\n",
            "Sub-Category for following category: Payments\n",
            "Number of Sub-Categories for following category: 9\n",
            "Wallet Payments          6461\n",
            "cc payments               529\n",
            "Loan Emis                 422\n",
            "Bill/Utility Payments     370\n",
            "Mobile Bill Payments      222\n",
            "Fuel                      143\n",
            "Rentals & Real Estate      15\n",
            "Logistics                   8\n",
            "Auto Services               7\n",
            "Name: Sub-Category, dtype: int64\n",
            "\n",
            "['Auto Services' 'Bill/Utility Payments' 'cc payments' 'Fuel' 'Loan Emis'\n",
            " 'Logistics' 'Mobile Bill Payments' 'Rentals & Real Estate'\n",
            " 'Wallet Payments']\n",
            "5\n",
            "Sub-Category for following category: Credit\n",
            "Number of Sub-Categories for following category: 1\n",
            "Credit    5544\n",
            "Name: Sub-Category, dtype: int64\n",
            "\n",
            "['Credit']\n",
            "6\n",
            "Sub-Category for following category: Education\n",
            "Number of Sub-Categories for following category: 1\n",
            "Education    22\n",
            "Name: Sub-Category, dtype: int64\n",
            "\n",
            "['Education']\n",
            "7\n",
            "Sub-Category for following category: Entertainment\n",
            "Number of Sub-Categories for following category: 5\n",
            "Gaming                  100\n",
            "OTT Services             22\n",
            "Music                     3\n",
            "Movies                    2\n",
            "Entertainment-Others      1\n",
            "Name: Sub-Category, dtype: int64\n",
            "\n",
            "['Entertainment-Others' 'Gaming' 'Movies' 'Music' 'OTT Services']\n",
            "8\n",
            "Sub-Category for following category: Investment\n",
            "Number of Sub-Categories for following category: 4\n",
            "Stocks/MF            187\n",
            "Insurance             41\n",
            "FD/TD                 16\n",
            "Other Instruments     14\n",
            "Name: Sub-Category, dtype: int64\n",
            "\n",
            "['FD/TD' 'Insurance' 'Other Instruments' 'Stocks/MF']\n",
            "9\n",
            "Sub-Category for following category: Healthcare\n",
            "Number of Sub-Categories for following category: 3\n",
            "Medicine/Pharma      55\n",
            "Healthcare-Others     2\n",
            "Hospital              1\n",
            "Name: Sub-Category, dtype: int64\n",
            "\n",
            "['Healthcare-Others' 'Hospital' 'Medicine/Pharma']\n",
            "10\n",
            "Sub-Category for following category: Others\n",
            "Number of Sub-Categories for following category: 1\n",
            "Others    1147\n",
            "Name: Sub-Category, dtype: int64\n",
            "\n",
            "['Others']\n",
            "11\n",
            "Sub-Category for following category: Fund Transfer\n",
            "Number of Sub-Categories for following category: 3\n",
            "Remittance     3393\n",
            "Withdrawals    1369\n",
            "P2P             100\n",
            "Name: Sub-Category, dtype: int64\n",
            "\n",
            "['Remittance' 'P2P' 'Withdrawals']\n",
            "12\n",
            "Sub-Category for following category: nan\n",
            "Number of Sub-Categories for following category: 0\n",
            "Series([], Name: Sub-Category, dtype: int64)\n",
            "\n",
            "[]\n"
          ]
        }
      ]
    },
    {
      "cell_type": "code",
      "source": [
        "df['Amount'].sum()"
      ],
      "metadata": {
        "colab": {
          "base_uri": "https://localhost:8080/"
        },
        "id": "ghZM7H9F-kNU",
        "outputId": "3d82d8fe-c695-4807-acee-110680d2ecd3"
      },
      "execution_count": 6,
      "outputs": [
        {
          "output_type": "execute_result",
          "data": {
            "text/plain": [
              "-3004168.340000007"
            ]
          },
          "metadata": {},
          "execution_count": 6
        }
      ]
    },
    {
      "cell_type": "code",
      "execution_count": null,
      "metadata": {
        "colab": {
          "base_uri": "https://localhost:8080/"
        },
        "id": "RZhDs9u-CgU5",
        "outputId": "0de25b32-2c50-48e1-f404-3bbce128c889"
      },
      "outputs": [
        {
          "output_type": "execute_result",
          "data": {
            "text/plain": [
              "count    1.319500e+04\n",
              "mean     1.393661e+04\n",
              "std      6.233025e+04\n",
              "min      1.000000e-02\n",
              "25%      2.800000e+02\n",
              "50%      2.000000e+03\n",
              "75%      1.051550e+04\n",
              "max      3.960000e+06\n",
              "Name: Amount, dtype: float64"
            ]
          },
          "metadata": {},
          "execution_count": 245
        }
      ],
      "source": [
        "#Description of amount for  credit transactions\n",
        "\n",
        "df[df['Amount']>0]['Amount'].describe()"
      ]
    },
    {
      "cell_type": "code",
      "execution_count": null,
      "metadata": {
        "colab": {
          "base_uri": "https://localhost:8080/"
        },
        "id": "ph3Ave4GJRL4",
        "outputId": "f45a976f-4ba1-4be8-e45b-f590957da5bd"
      },
      "outputs": [
        {
          "output_type": "execute_result",
          "data": {
            "text/plain": [
              "count    4.050200e+04\n",
              "mean    -4.614532e+03\n",
              "std      2.759610e+04\n",
              "min     -3.300000e+06\n",
              "25%     -3.000000e+03\n",
              "50%     -5.000000e+02\n",
              "75%     -1.200000e+02\n",
              "max     -1.000000e-02\n",
              "Name: Amount, dtype: float64"
            ]
          },
          "metadata": {},
          "execution_count": 246
        }
      ],
      "source": [
        "#Description of amount for  debit transactions\n",
        "df[df['Amount']<0]['Amount'].describe()"
      ]
    },
    {
      "cell_type": "markdown",
      "metadata": {
        "id": "eFNCNm6UCoaI"
      },
      "source": [
        "Creating a new Dataframe by ignoring the observations having null Category and subcategory values-"
      ]
    },
    {
      "cell_type": "code",
      "execution_count": 40,
      "metadata": {
        "id": "ret2J8NAJqE_"
      },
      "outputs": [],
      "source": [
        "#new dataframe\n",
        "df_new=df[:21297]"
      ]
    },
    {
      "cell_type": "code",
      "execution_count": 41,
      "metadata": {
        "colab": {
          "base_uri": "https://localhost:8080/"
        },
        "id": "TJu5t09G3A5h",
        "outputId": "0bbb63c1-d221-4941-ae8f-b39dcf7dcd26"
      },
      "outputs": [
        {
          "output_type": "execute_result",
          "data": {
            "text/plain": [
              "0"
            ]
          },
          "metadata": {},
          "execution_count": 41
        }
      ],
      "source": [
        "len(df_new[df_new['Amount']==0])"
      ]
    },
    {
      "cell_type": "code",
      "execution_count": 42,
      "metadata": {
        "colab": {
          "base_uri": "https://localhost:8080/"
        },
        "id": "r3guDJDQiAom",
        "outputId": "06c0d79b-a38c-4f54-87cf-6130ce3ff710"
      },
      "outputs": [
        {
          "output_type": "execute_result",
          "data": {
            "text/plain": [
              "Description     0\n",
              "Sub-Category    0\n",
              "Category        0\n",
              "Amount          0\n",
              "Category.1      0\n",
              "Balance         0\n",
              "dtype: int64"
            ]
          },
          "metadata": {},
          "execution_count": 42
        }
      ],
      "source": [
        "df_new.isnull().sum()"
      ]
    },
    {
      "cell_type": "markdown",
      "metadata": {
        "id": "50sairV4DOtJ"
      },
      "source": [
        "Lets create a new column which will contain whether the transactions were of credit type or debit type:"
      ]
    },
    {
      "cell_type": "code",
      "execution_count": 43,
      "metadata": {
        "id": "m50CAsfc2rru"
      },
      "outputs": [],
      "source": [
        "df_new['Transaction type']=np.where(df_new['Amount']<0,'Debit','Credit')"
      ]
    },
    {
      "cell_type": "markdown",
      "metadata": {
        "id": "V1Nn7sBMD3JP"
      },
      "source": [
        "Distribution of Trasactions w.r.t debit and credit:"
      ]
    },
    {
      "cell_type": "code",
      "execution_count": 44,
      "metadata": {
        "colab": {
          "base_uri": "https://localhost:8080/"
        },
        "id": "rnPsYqyg3kYF",
        "outputId": "fb9aa0b1-77fc-4713-8eab-391263c6c761"
      },
      "outputs": [
        {
          "output_type": "execute_result",
          "data": {
            "text/plain": [
              "Debit     15736\n",
              "Credit     5561\n",
              "Name: Transaction type, dtype: int64"
            ]
          },
          "metadata": {},
          "execution_count": 44
        }
      ],
      "source": [
        "df_new['Transaction type'].value_counts()"
      ]
    },
    {
      "cell_type": "code",
      "execution_count": null,
      "metadata": {
        "colab": {
          "base_uri": "https://localhost:8080/",
          "height": 526
        },
        "id": "nbxrKjon6x6C",
        "outputId": "126a3505-f417-4b5b-dbca-7eb005016bc1"
      },
      "outputs": [
        {
          "output_type": "execute_result",
          "data": {
            "text/plain": [
              "([<matplotlib.patches.Wedge at 0x7f4afb26bfa0>,\n",
              "  <matplotlib.patches.Wedge at 0x7f4afb26b520>],\n",
              " [Text(-0.8045019237704127, -0.7501844137608467, 'Debit'),\n",
              "  Text(0.8410701196027605, 0.7842837840421021, 'Credit')],\n",
              " [Text(-0.4388192311474978, -0.40919149841500724, '73.9%'),\n",
              "  Text(0.475387458905908, 0.4432908344585794, '26.1%')])"
            ]
          },
          "metadata": {},
          "execution_count": 252
        },
        {
          "output_type": "display_data",
          "data": {
            "text/plain": [
              "<Figure size 500x500 with 1 Axes>"
            ],
            "image/png": "[encoded data removed]"
          },
          "metadata": {}
        }
      ],
      "source": [
        "plt.figure(figsize=(5,5))\n",
        "labels = df_new['Transaction type'].value_counts().index.tolist()\n",
        "sizes = df_new['Transaction type'].value_counts().tolist()\n",
        "explode = (0, 0.05)\n",
        "colors = ['orangered', 'blue']\n",
        "\n",
        "plt.pie(sizes, explode=explode, labels=labels, colors=colors, autopct='%1.1f%%',startangle =90, textprops={'fontsize': 14})"
      ]
    },
    {
      "cell_type": "markdown",
      "metadata": {
        "id": "Bt4dXK6MEE8Q"
      },
      "source": [
        "We can see from the above pie chart that majority of the transactions are of debit type(73.9%) while 26.1% is of credit type:"
      ]
    },
    {
      "cell_type": "markdown",
      "metadata": {
        "id": "5uAaxphxEfp6"
      },
      "source": [
        "Top 10 credit transactions in this new dataframe:"
      ]
    },
    {
      "cell_type": "code",
      "execution_count": null,
      "metadata": {
        "colab": {
          "base_uri": "https://localhost:8080/",
          "height": 363
        },
        "id": "r-nmrtsqKoGE",
        "outputId": "1b2d0dc8-77dc-433c-c703-064977c2631e"
      },
      "outputs": [
        {
          "output_type": "execute_result",
          "data": {
            "text/plain": [
              "                                                                                                    Description  \\\n",
              "1363                                                 00080340007445FROM INSIGHT DTD 06/10/20 (Ref# 10064325061)   \n",
              "5420                                                                                    TFR:ANUJA ANIL PAWASKAR   \n",
              "5207                                               122212907-PERSONAL LOAN NET DISBURSEMENT (IFSC PL8101205426)   \n",
              "2119  CHQ DEP - MICR - 12 - RICHMOND RD, BENGA : THE JANATHA CO OPERATIVE BANK LIMITED :APEX CO OP BANK LTD AXB   \n",
              "1365                                                 00080340007445FROM INSIGHT DTD 11/11/20 (Ref# 11114116381)   \n",
              "2122  CHQ DEP - MICR - 12 - RICHMOND RD, BENGA : THE JANATHA CO OPERATIVE BANK LIMITED :APEX CO OP BANK LTD AXB   \n",
              "5001                                                             BY TRANSFER-- (Ref# TRANSFER FROM 40248295754)   \n",
              "1932                        NEFT CR-UTIB0001097-RAMESH B M-RAMESHA B M-AXMB203368294272 (Ref# AXMB203368294272)   \n",
              "2118                              CHEQUE DEPOSIT - MICR 8 CLEARING - RICHM : MYLARAIAH B S :STATE BANK OF INDIA   \n",
              "4984                                                                      BY TRANSFER TRANSFER FROM 40469874309   \n",
              "\n",
              "     Sub-Category Category     Amount                        Category.1  \\\n",
              "1363       Credit   Credit  3960000.0  Transfer from A/c 00080340007445   \n",
              "5420       Credit   Credit  1180000.0          Transfer from ANUJA ANIL   \n",
              "5207       Credit   Credit  1040057.0           Personal Loan Disbursed   \n",
              "2119       Credit   Credit  1000000.0                       Transfer in   \n",
              "1365       Credit   Credit  1000000.0  Transfer from A/c 00080340007445   \n",
              "2122       Credit   Credit   767000.0                       Transfer in   \n",
              "5001       Credit   Credit   650000.0                       Transfer in   \n",
              "1932       Credit   Credit   540000.0                Transfer from self   \n",
              "2118       Credit   Credit   500000.0                       Transfer in   \n",
              "4984       Credit   Credit   500000.0                       Transfer in   \n",
              "\n",
              "         Balance Transaction type  \n",
              "1363  3966598.16           Credit  \n",
              "5420  1280175.35           Credit  \n",
              "5207  1049348.39           Credit  \n",
              "2119  1005816.70           Credit  \n",
              "1365  1002833.47           Credit  \n",
              "2122   769945.09           Credit  \n",
              "5001   652233.02           Credit  \n",
              "1932   540616.70           Credit  \n",
              "2118   555325.54           Credit  \n",
              "4984   516721.87           Credit  "
            ],
            "text/html": [
              "\n",
              "  <div id=\"df-db09bca6-3db7-4e87-b38e-5155e5eb2f3d\">\n",
              "    <div class=\"colab-df-container\">\n",
              "      <div>\n",
              "<style scoped>\n",
              "    .dataframe tbody tr th:only-of-type {\n",
              "        vertical-align: middle;\n",
              "    }\n",
              "\n",
              "    .dataframe tbody tr th {\n",
              "        vertical-align: top;\n",
              "    }\n",
              "\n",
              "    .dataframe thead th {\n",
              "        text-align: right;\n",
              "    }\n",
              "</style>\n",
              "<table border=\"1\" class=\"dataframe\">\n",
              "  <thead>\n",
              "    <tr style=\"text-align: right;\">\n",
              "      <th></th>\n",
              "      <th>Description</th>\n",
              "      <th>Sub-Category</th>\n",
              "      <th>Category</th>\n",
              "      <th>Amount</th>\n",
              "      <th>Category.1</th>\n",
              "      <th>Balance</th>\n",
              "      <th>Transaction type</th>\n",
              "    </tr>\n",
              "  </thead>\n",
              "  <tbody>\n",
              "    <tr>\n",
              "      <th>1363</th>\n",
              "      <td>00080340007445FROM INSIGHT DTD 06/10/20 (Ref# 10064325061)</td>\n",
              "      <td>Credit</td>\n",
              "      <td>Credit</td>\n",
              "      <td>3960000.0</td>\n",
              "      <td>Transfer from A/c 00080340007445</td>\n",
              "      <td>3966598.16</td>\n",
              "      <td>Credit</td>\n",
              "    </tr>\n",
              "    <tr>\n",
              "      <th>5420</th>\n",
              "      <td>TFR:ANUJA ANIL PAWASKAR</td>\n",
              "      <td>Credit</td>\n",
              "      <td>Credit</td>\n",
              "      <td>1180000.0</td>\n",
              "      <td>Transfer from ANUJA ANIL</td>\n",
              "      <td>1280175.35</td>\n",
              "      <td>Credit</td>\n",
              "    </tr>\n",
              "    <tr>\n",
              "      <th>5207</th>\n",
              "      <td>122212907-PERSONAL LOAN NET DISBURSEMENT (IFSC PL8101205426)</td>\n",
              "      <td>Credit</td>\n",
              "      <td>Credit</td>\n",
              "      <td>1040057.0</td>\n",
              "      <td>Personal Loan Disbursed</td>\n",
              "      <td>1049348.39</td>\n",
              "      <td>Credit</td>\n",
              "    </tr>\n",
              "    <tr>\n",
              "      <th>2119</th>\n",
              "      <td>CHQ DEP - MICR - 12 - RICHMOND RD, BENGA : THE JANATHA CO OPERATIVE BANK LIMITED :APEX CO OP BANK LTD AXB</td>\n",
              "      <td>Credit</td>\n",
              "      <td>Credit</td>\n",
              "      <td>1000000.0</td>\n",
              "      <td>Transfer in</td>\n",
              "      <td>1005816.70</td>\n",
              "      <td>Credit</td>\n",
              "    </tr>\n",
              "    <tr>\n",
              "      <th>1365</th>\n",
              "      <td>00080340007445FROM INSIGHT DTD 11/11/20 (Ref# 11114116381)</td>\n",
              "      <td>Credit</td>\n",
              "      <td>Credit</td>\n",
              "      <td>1000000.0</td>\n",
              "      <td>Transfer from A/c 00080340007445</td>\n",
              "      <td>1002833.47</td>\n",
              "      <td>Credit</td>\n",
              "    </tr>\n",
              "    <tr>\n",
              "      <th>2122</th>\n",
              "      <td>CHQ DEP - MICR - 12 - RICHMOND RD, BENGA : THE JANATHA CO OPERATIVE BANK LIMITED :APEX CO OP BANK LTD AXB</td>\n",
              "      <td>Credit</td>\n",
              "      <td>Credit</td>\n",
              "      <td>767000.0</td>\n",
              "      <td>Transfer in</td>\n",
              "      <td>769945.09</td>\n",
              "      <td>Credit</td>\n",
              "    </tr>\n",
              "    <tr>\n",
              "      <th>5001</th>\n",
              "      <td>BY TRANSFER-- (Ref# TRANSFER FROM 40248295754)</td>\n",
              "      <td>Credit</td>\n",
              "      <td>Credit</td>\n",
              "      <td>650000.0</td>\n",
              "      <td>Transfer in</td>\n",
              "      <td>652233.02</td>\n",
              "      <td>Credit</td>\n",
              "    </tr>\n",
              "    <tr>\n",
              "      <th>1932</th>\n",
              "      <td>NEFT CR-UTIB0001097-RAMESH B M-RAMESHA B M-AXMB203368294272 (Ref# AXMB203368294272)</td>\n",
              "      <td>Credit</td>\n",
              "      <td>Credit</td>\n",
              "      <td>540000.0</td>\n",
              "      <td>Transfer from self</td>\n",
              "      <td>540616.70</td>\n",
              "      <td>Credit</td>\n",
              "    </tr>\n",
              "    <tr>\n",
              "      <th>2118</th>\n",
              "      <td>CHEQUE DEPOSIT - MICR 8 CLEARING - RICHM : MYLARAIAH B S :STATE BANK OF INDIA</td>\n",
              "      <td>Credit</td>\n",
              "      <td>Credit</td>\n",
              "      <td>500000.0</td>\n",
              "      <td>Transfer in</td>\n",
              "      <td>555325.54</td>\n",
              "      <td>Credit</td>\n",
              "    </tr>\n",
              "    <tr>\n",
              "      <th>4984</th>\n",
              "      <td>BY TRANSFER TRANSFER FROM 40469874309</td>\n",
              "      <td>Credit</td>\n",
              "      <td>Credit</td>\n",
              "      <td>500000.0</td>\n",
              "      <td>Transfer in</td>\n",
              "      <td>516721.87</td>\n",
              "      <td>Credit</td>\n",
              "    </tr>\n",
              "  </tbody>\n",
              "</table>\n",
              "</div>\n",
              "      <button class=\"colab-df-convert\" onclick=\"convertToInteractive('df-db09bca6-3db7-4e87-b38e-5155e5eb2f3d')\"\n",
              "              title=\"Convert this dataframe to an interactive table.\"\n",
              "              style=\"display:none;\">\n",
              "        \n",
              "  <svg xmlns=\"http://www.w3.org/2000/svg\" height=\"24px\"viewBox=\"0 0 24 24\"\n",
              "       width=\"24px\">\n",
              "    <path d=\"M0 0h24v24H0V0z\" fill=\"none\"/>\n",
              "    <path d=\"M18.56 5.44l.94 2.06.94-2.06 2.06-.94-2.06-.94-.94-2.06-.94 2.06-2.06.94zm-11 1L8.5 8.5l.94-2.06 2.06-.94-2.06-.94L8.5 2.5l-.94 2.06-2.06.94zm10 10l.94 2.06.94-2.06 2.06-.94-2.06-.94-.94-2.06-.94 2.06-2.06.94z\"/><path d=\"M17.41 7.96l-1.37-1.37c-.4-.4-.92-.59-1.43-.59-.52 0-1.04.2-1.43.59L10.3 9.45l-7.72 7.72c-.78.78-.78 2.05 0 2.83L4 21.41c.39.39.9.59 1.41.59.51 0 1.02-.2 1.41-.59l7.78-7.78 2.81-2.81c.8-.78.8-2.07 0-2.86zM5.41 20L4 18.59l7.72-7.72 1.47 1.35L5.41 20z\"/>\n",
              "  </svg>\n",
              "      </button>\n",
              "      \n",
              "  <style>\n",
              "    .colab-df-container {\n",
              "      display:flex;\n",
              "      flex-wrap:wrap;\n",
              "      gap: 12px;\n",
              "    }\n",
              "\n",
              "    .colab-df-convert {\n",
              "      background-color: #E8F0FE;\n",
              "      border: none;\n",
              "      border-radius: 50%;\n",
              "      cursor: pointer;\n",
              "      display: none;\n",
              "      fill: #1967D2;\n",
              "      height: 32px;\n",
              "      padding: 0 0 0 0;\n",
              "      width: 32px;\n",
              "    }\n",
              "\n",
              "    .colab-df-convert:hover {\n",
              "      background-color: #E2EBFA;\n",
              "      box-shadow: 0px 1px 2px rgba(60, 64, 67, 0.3), 0px 1px 3px 1px rgba(60, 64, 67, 0.15);\n",
              "      fill: #174EA6;\n",
              "    }\n",
              "\n",
              "    [theme=dark] .colab-df-convert {\n",
              "      background-color: #3B4455;\n",
              "      fill: #D2E3FC;\n",
              "    }\n",
              "\n",
              "    [theme=dark] .colab-df-convert:hover {\n",
              "      background-color: #434B5C;\n",
              "      box-shadow: 0px 1px 3px 1px rgba(0, 0, 0, 0.15);\n",
              "      filter: drop-shadow(0px 1px 2px rgba(0, 0, 0, 0.3));\n",
              "      fill: #FFFFFF;\n",
              "    }\n",
              "  </style>\n",
              "\n",
              "      <script>\n",
              "        const buttonEl =\n",
              "          document.querySelector('#df-db09bca6-3db7-4e87-b38e-5155e5eb2f3d button.colab-df-convert');\n",
              "        buttonEl.style.display =\n",
              "          google.colab.kernel.accessAllowed ? 'block' : 'none';\n",
              "\n",
              "        async function convertToInteractive(key) {\n",
              "          const element = document.querySelector('#df-db09bca6-3db7-4e87-b38e-5155e5eb2f3d');\n",
              "          const dataTable =\n",
              "            await google.colab.kernel.invokeFunction('convertToInteractive',\n",
              "                                                     [key], {});\n",
              "          if (!dataTable) return;\n",
              "\n",
              "          const docLinkHtml = 'Like what you see? Visit the ' +\n",
              "            '<a target=\"_blank\" href=https://colab.research.google.com/notebooks/data_table.ipynb>data table notebook</a>'\n",
              "            + ' to learn more about interactive tables.';\n",
              "          element.innerHTML = '';\n",
              "          dataTable['output_type'] = 'display_data';\n",
              "          await google.colab.output.renderOutput(dataTable, element);\n",
              "          const docLink = document.createElement('div');\n",
              "          docLink.innerHTML = docLinkHtml;\n",
              "          element.appendChild(docLink);\n",
              "        }\n",
              "      </script>\n",
              "    </div>\n",
              "  </div>\n",
              "  "
            ]
          },
          "metadata": {},
          "execution_count": 253
        }
      ],
      "source": [
        "df_new[df_new['Amount']>0].sort_values(by='Amount',ascending=False)[:10]"
      ]
    },
    {
      "cell_type": "code",
      "execution_count": null,
      "metadata": {
        "colab": {
          "base_uri": "https://localhost:8080/",
          "height": 426
        },
        "id": "EbO3nnEgMBAZ",
        "outputId": "630fe283-1588-4314-a737-10e81b3d3c90"
      },
      "outputs": [
        {
          "output_type": "execute_result",
          "data": {
            "text/plain": [
              "                     Amount        Balance\n",
              "Category                                  \n",
              "Credit         13392.066169   34940.072691\n",
              "Education     -29308.754545  110919.711818\n",
              "Entertainment   -264.215234   10766.916172\n",
              "Food            -303.114809    8571.195000\n",
              "Fund Transfer  -4598.383346   32497.138435\n",
              "Healthcare     -2272.830000   20942.745345\n",
              "Investment    -48172.334264   87759.268178\n",
              "Others         -3232.976739   32454.375423\n",
              "Payments       -4261.499587   26234.042494\n",
              "Shopping       -1004.551087   19860.769843\n",
              "Travel          -827.951600    7935.313600"
            ],
            "text/html": [
              "\n",
              "  <div id=\"df-a2d4a07f-df79-4e09-80ff-72f1b632bc8d\">\n",
              "    <div class=\"colab-df-container\">\n",
              "      <div>\n",
              "<style scoped>\n",
              "    .dataframe tbody tr th:only-of-type {\n",
              "        vertical-align: middle;\n",
              "    }\n",
              "\n",
              "    .dataframe tbody tr th {\n",
              "        vertical-align: top;\n",
              "    }\n",
              "\n",
              "    .dataframe thead th {\n",
              "        text-align: right;\n",
              "    }\n",
              "</style>\n",
              "<table border=\"1\" class=\"dataframe\">\n",
              "  <thead>\n",
              "    <tr style=\"text-align: right;\">\n",
              "      <th></th>\n",
              "      <th>Amount</th>\n",
              "      <th>Balance</th>\n",
              "    </tr>\n",
              "    <tr>\n",
              "      <th>Category</th>\n",
              "      <th></th>\n",
              "      <th></th>\n",
              "    </tr>\n",
              "  </thead>\n",
              "  <tbody>\n",
              "    <tr>\n",
              "      <th>Credit</th>\n",
              "      <td>13392.066169</td>\n",
              "      <td>34940.072691</td>\n",
              "    </tr>\n",
              "    <tr>\n",
              "      <th>Education</th>\n",
              "      <td>-29308.754545</td>\n",
              "      <td>110919.711818</td>\n",
              "    </tr>\n",
              "    <tr>\n",
              "      <th>Entertainment</th>\n",
              "      <td>-264.215234</td>\n",
              "      <td>10766.916172</td>\n",
              "    </tr>\n",
              "    <tr>\n",
              "      <th>Food</th>\n",
              "      <td>-303.114809</td>\n",
              "      <td>8571.195000</td>\n",
              "    </tr>\n",
              "    <tr>\n",
              "      <th>Fund Transfer</th>\n",
              "      <td>-4598.383346</td>\n",
              "      <td>32497.138435</td>\n",
              "    </tr>\n",
              "    <tr>\n",
              "      <th>Healthcare</th>\n",
              "      <td>-2272.830000</td>\n",
              "      <td>20942.745345</td>\n",
              "    </tr>\n",
              "    <tr>\n",
              "      <th>Investment</th>\n",
              "      <td>-48172.334264</td>\n",
              "      <td>87759.268178</td>\n",
              "    </tr>\n",
              "    <tr>\n",
              "      <th>Others</th>\n",
              "      <td>-3232.976739</td>\n",
              "      <td>32454.375423</td>\n",
              "    </tr>\n",
              "    <tr>\n",
              "      <th>Payments</th>\n",
              "      <td>-4261.499587</td>\n",
              "      <td>26234.042494</td>\n",
              "    </tr>\n",
              "    <tr>\n",
              "      <th>Shopping</th>\n",
              "      <td>-1004.551087</td>\n",
              "      <td>19860.769843</td>\n",
              "    </tr>\n",
              "    <tr>\n",
              "      <th>Travel</th>\n",
              "      <td>-827.951600</td>\n",
              "      <td>7935.313600</td>\n",
              "    </tr>\n",
              "  </tbody>\n",
              "</table>\n",
              "</div>\n",
              "      <button class=\"colab-df-convert\" onclick=\"convertToInteractive('df-a2d4a07f-df79-4e09-80ff-72f1b632bc8d')\"\n",
              "              title=\"Convert this dataframe to an interactive table.\"\n",
              "              style=\"display:none;\">\n",
              "        \n",
              "  <svg xmlns=\"http://www.w3.org/2000/svg\" height=\"24px\"viewBox=\"0 0 24 24\"\n",
              "       width=\"24px\">\n",
              "    <path d=\"M0 0h24v24H0V0z\" fill=\"none\"/>\n",
              "    <path d=\"M18.56 5.44l.94 2.06.94-2.06 2.06-.94-2.06-.94-.94-2.06-.94 2.06-2.06.94zm-11 1L8.5 8.5l.94-2.06 2.06-.94-2.06-.94L8.5 2.5l-.94 2.06-2.06.94zm10 10l.94 2.06.94-2.06 2.06-.94-2.06-.94-.94-2.06-.94 2.06-2.06.94z\"/><path d=\"M17.41 7.96l-1.37-1.37c-.4-.4-.92-.59-1.43-.59-.52 0-1.04.2-1.43.59L10.3 9.45l-7.72 7.72c-.78.78-.78 2.05 0 2.83L4 21.41c.39.39.9.59 1.41.59.51 0 1.02-.2 1.41-.59l7.78-7.78 2.81-2.81c.8-.78.8-2.07 0-2.86zM5.41 20L4 18.59l7.72-7.72 1.47 1.35L5.41 20z\"/>\n",
              "  </svg>\n",
              "      </button>\n",
              "      \n",
              "  <style>\n",
              "    .colab-df-container {\n",
              "      display:flex;\n",
              "      flex-wrap:wrap;\n",
              "      gap: 12px;\n",
              "    }\n",
              "\n",
              "    .colab-df-convert {\n",
              "      background-color: #E8F0FE;\n",
              "      border: none;\n",
              "      border-radius: 50%;\n",
              "      cursor: pointer;\n",
              "      display: none;\n",
              "      fill: #1967D2;\n",
              "      height: 32px;\n",
              "      padding: 0 0 0 0;\n",
              "      width: 32px;\n",
              "    }\n",
              "\n",
              "    .colab-df-convert:hover {\n",
              "      background-color: #E2EBFA;\n",
              "      box-shadow: 0px 1px 2px rgba(60, 64, 67, 0.3), 0px 1px 3px 1px rgba(60, 64, 67, 0.15);\n",
              "      fill: #174EA6;\n",
              "    }\n",
              "\n",
              "    [theme=dark] .colab-df-convert {\n",
              "      background-color: #3B4455;\n",
              "      fill: #D2E3FC;\n",
              "    }\n",
              "\n",
              "    [theme=dark] .colab-df-convert:hover {\n",
              "      background-color: #434B5C;\n",
              "      box-shadow: 0px 1px 3px 1px rgba(0, 0, 0, 0.15);\n",
              "      filter: drop-shadow(0px 1px 2px rgba(0, 0, 0, 0.3));\n",
              "      fill: #FFFFFF;\n",
              "    }\n",
              "  </style>\n",
              "\n",
              "      <script>\n",
              "        const buttonEl =\n",
              "          document.querySelector('#df-a2d4a07f-df79-4e09-80ff-72f1b632bc8d button.colab-df-convert');\n",
              "        buttonEl.style.display =\n",
              "          google.colab.kernel.accessAllowed ? 'block' : 'none';\n",
              "\n",
              "        async function convertToInteractive(key) {\n",
              "          const element = document.querySelector('#df-a2d4a07f-df79-4e09-80ff-72f1b632bc8d');\n",
              "          const dataTable =\n",
              "            await google.colab.kernel.invokeFunction('convertToInteractive',\n",
              "                                                     [key], {});\n",
              "          if (!dataTable) return;\n",
              "\n",
              "          const docLinkHtml = 'Like what you see? Visit the ' +\n",
              "            '<a target=\"_blank\" href=https://colab.research.google.com/notebooks/data_table.ipynb>data table notebook</a>'\n",
              "            + ' to learn more about interactive tables.';\n",
              "          element.innerHTML = '';\n",
              "          dataTable['output_type'] = 'display_data';\n",
              "          await google.colab.output.renderOutput(dataTable, element);\n",
              "          const docLink = document.createElement('div');\n",
              "          docLink.innerHTML = docLinkHtml;\n",
              "          element.appendChild(docLink);\n",
              "        }\n",
              "      </script>\n",
              "    </div>\n",
              "  </div>\n",
              "  "
            ]
          },
          "metadata": {},
          "execution_count": 254
        }
      ],
      "source": [
        "df_new.groupby('Category').mean()"
      ]
    },
    {
      "cell_type": "code",
      "execution_count": null,
      "metadata": {
        "id": "3x5WDd6AO8Jm"
      },
      "outputs": [],
      "source": [
        "df_debit=df_new[df_new['Amount']<0]"
      ]
    },
    {
      "cell_type": "code",
      "source": [
        "df_debit['Amount']=df_debit['Amount'].apply(lambda x: x if x>0 else -x)\n"
      ],
      "metadata": {
        "id": "vD4LIqdz7WIH"
      },
      "execution_count": null,
      "outputs": []
    },
    {
      "cell_type": "markdown",
      "metadata": {
        "id": "AiY6vfoEGCA_"
      },
      "source": [
        "Lets see the total amount of debit transaction made w.r.t categories:"
      ]
    },
    {
      "cell_type": "code",
      "execution_count": null,
      "metadata": {
        "id": "NGFSaJUGXq-N"
      },
      "outputs": [],
      "source": [
        "#ascending order of categories w.r.t to debit transactions\n",
        "x=df_new[df_new['Amount']<0].groupby('Category')['Amount'].sum().sort_values(ascending=True).index.tolist()"
      ]
    },
    {
      "cell_type": "code",
      "execution_count": null,
      "metadata": {
        "colab": {
          "base_uri": "https://localhost:8080/"
        },
        "id": "sqC-KQQBGTkl",
        "outputId": "c8eb8972-2b7e-443b-e76d-df647ca5593a"
      },
      "outputs": [
        {
          "output_type": "execute_result",
          "data": {
            "text/plain": [
              "['Payments',\n",
              " 'Fund Transfer',\n",
              " 'Investment',\n",
              " 'Others',\n",
              " 'Education',\n",
              " 'Shopping',\n",
              " 'Healthcare',\n",
              " 'Food',\n",
              " 'Travel',\n",
              " 'Entertainment']"
            ]
          },
          "metadata": {},
          "execution_count": 258
        }
      ],
      "source": [
        "x"
      ]
    },
    {
      "cell_type": "code",
      "execution_count": null,
      "metadata": {
        "colab": {
          "base_uri": "https://localhost:8080/",
          "height": 926
        },
        "id": "J3HNwzA_Obb1",
        "outputId": "58a9ae41-c822-431d-8b79-391ff1fb3a52"
      },
      "outputs": [
        {
          "output_type": "stream",
          "name": "stdout",
          "text": [
            "Category\n",
            "Payments        -34857960.12\n",
            "Fund Transfer   -22357339.83\n",
            "Investment      -12889322.74\n",
            "Others           -3872872.32\n",
            "Education         -644792.60\n",
            "Shopping          -637889.94\n",
            "Healthcare        -131824.14\n",
            "Food              -110940.02\n",
            "Travel             -82795.16\n",
            "Entertainment      -33819.55\n",
            "Name: Amount, dtype: float64\n"
          ]
        },
        {
          "output_type": "display_data",
          "data": {
            "text/plain": [
              "<Figure size 1500x800 with 1 Axes>"
            ],
            "image/png": "[encoded data removed]"
          },
          "metadata": {}
        }
      ],
      "source": [
        "#plotting different categories w.r.t total debit amount in ascending order\n",
        "print(df_new[df_new['Amount']<0].groupby('Category')['Amount'].sum().sort_values(ascending=True))\n",
        "fig, ax = plt.subplots(figsize=(15, 8))\n",
        "sns.barplot(y='Amount',x='Category',data=df_debit,ax=ax,order=x,estimator=sum)\n",
        "plt.ylabel('Total debit amount(in crores)')\n",
        "plt.title('total debit amount w.r.t category')\n",
        "plt.show()\n"
      ]
    },
    {
      "cell_type": "code",
      "execution_count": null,
      "metadata": {
        "id": "zQl5kC1uH1f9"
      },
      "outputs": [],
      "source": [
        "df_credit=df_new[df_new['Amount']>0]"
      ]
    },
    {
      "cell_type": "code",
      "execution_count": null,
      "metadata": {
        "id": "xNYdAdUiICWD"
      },
      "outputs": [],
      "source": [
        "y=df_new[df_new['Transaction type']=='Credit'].groupby('Category')['Amount'].sum().index.tolist()"
      ]
    },
    {
      "cell_type": "code",
      "execution_count": null,
      "metadata": {
        "colab": {
          "base_uri": "https://localhost:8080/"
        },
        "id": "T2OhfSvPIT8u",
        "outputId": "bf9d0625-5b60-4cf8-9056-b62988a080a5"
      },
      "outputs": [
        {
          "output_type": "execute_result",
          "data": {
            "text/plain": [
              "['Credit', 'Investment', 'Others', 'Payments']"
            ]
          },
          "metadata": {},
          "execution_count": 262
        }
      ],
      "source": [
        "y"
      ]
    },
    {
      "cell_type": "code",
      "execution_count": null,
      "metadata": {
        "colab": {
          "base_uri": "https://localhost:8080/",
          "height": 822
        },
        "id": "VwtshSyxH8vN",
        "outputId": "224b8054-6250-4278-cd56-03652cbc978b"
      },
      "outputs": [
        {
          "output_type": "stream",
          "name": "stdout",
          "text": [
            "Category\n",
            "Credit        74245614.84\n",
            "Investment      460860.50\n",
            "Others          164648.00\n",
            "Payments         11678.00\n",
            "Name: Amount, dtype: float64\n"
          ]
        },
        {
          "output_type": "display_data",
          "data": {
            "text/plain": [
              "<Figure size 1200x800 with 1 Axes>"
            ],
            "image/png": "[encoded data removed]"
          },
          "metadata": {}
        }
      ],
      "source": [
        "print(df_new[df_new['Transaction type']=='Credit'].groupby('Category')['Amount'].sum())\n",
        "fig, ax = plt.subplots(figsize=(12, 8))\n",
        "sns.barplot(y='Amount',x='Category',data=df_credit,ax=ax,order=y,estimator=sum)\n",
        "plt.ylabel('Total credit amount(in crores)')\n",
        "plt.title('total credit amount w.r.t category')\n",
        "plt.show()"
      ]
    },
    {
      "cell_type": "markdown",
      "source": [
        "#**Feature Engineering**"
      ],
      "metadata": {
        "id": "X5JA-hg4DT_9"
      }
    },
    {
      "cell_type": "code",
      "execution_count": 45,
      "metadata": {
        "colab": {
          "base_uri": "https://localhost:8080/"
        },
        "id": "kX754C4VlvP4",
        "outputId": "18c4c6e2-31b5-4472-96a8-895f07979af4"
      },
      "outputs": [
        {
          "output_type": "stream",
          "name": "stderr",
          "text": [
            "[nltk_data] Downloading package stopwords to /root/nltk_data...\n",
            "[nltk_data]   Unzipping corpora/stopwords.zip.\n",
            "[nltk_data] Downloading package punkt to /root/nltk_data...\n",
            "[nltk_data]   Unzipping tokenizers/punkt.zip.\n"
          ]
        }
      ],
      "source": [
        "import re\n",
        "import nltk\n",
        "nltk.download('stopwords')\n",
        "nltk.download('punkt')\n",
        "from nltk.corpus import stopwords\n",
        "stop_words=stopwords.words('english')\n",
        "from nltk.tokenize import word_tokenize"
      ]
    },
    {
      "cell_type": "markdown",
      "source": [
        "Removing speacial characters and numerics from description:"
      ],
      "metadata": {
        "id": "Nvafj86LDkml"
      }
    },
    {
      "cell_type": "code",
      "execution_count": 46,
      "metadata": {
        "id": "5dyIWd9m0LsY"
      },
      "outputs": [],
      "source": [
        "import string\n",
        "def remove_stopwords_and_special_chars(text):\n",
        "    stopwords_list=stopwords.words('english')\n",
        "    # Define a function to remove special characters\n",
        "    text=re.sub(r\"[^a-zA-Z]\",\" \",str(text).strip())\n",
        "    # Tokenize the text and remove stopwords and special characters\n",
        "    text = ' '.join([word for word in word_tokenize(str(text).lower())\n",
        "                                                       if word not in stopwords_list])\n",
        "\n",
        "    return text\n",
        "\n",
        "\n",
        "\n"
      ]
    },
    {
      "cell_type": "code",
      "execution_count": 47,
      "metadata": {
        "id": "xy-z_4gs09Sx"
      },
      "outputs": [],
      "source": [
        "df_new['clean']=df_new['Description'].apply(remove_stopwords_and_special_chars)"
      ]
    },
    {
      "cell_type": "code",
      "execution_count": 48,
      "metadata": {
        "colab": {
          "base_uri": "https://localhost:8080/"
        },
        "id": "ZplnhNcr3SDq",
        "outputId": "48fabaae-5fa0-4cd4-cce1-a5ca854802e6"
      },
      "outputs": [
        {
          "output_type": "execute_result",
          "data": {
            "text/plain": [
              "0     transfer upi dr hotel ak utib gpay j ref transfer\n",
              "1     transfer upi dr hotel ak utib gpay payme ref t...\n",
              "3                           upi p hotel gra yes bank na\n",
              "4                         upi p hotel shw axis bank upi\n",
              "5                     upi p oyo rooms hdfc bank oyoroom\n",
              "6                         upi p hotel par paytm pay upi\n",
              "7                         upi p makemytri icici ban upi\n",
              "8                         upi p makemytri icici ban upi\n",
              "10                        upi p makemytri icici ban upi\n",
              "13                     upi p makemytri icici ban paying\n",
              "Name: clean, dtype: object"
            ]
          },
          "metadata": {},
          "execution_count": 48
        }
      ],
      "source": [
        "df_new['clean'][:10]"
      ]
    },
    {
      "cell_type": "markdown",
      "source": [
        "**Looking at Top N words in cleaned text:**"
      ],
      "metadata": {
        "id": "16L0SKtrVQoc"
      }
    },
    {
      "cell_type": "code",
      "source": [
        "from sklearn.feature_extraction.text import CountVectorizer\n",
        "# Define helper functions\n",
        "def get_top_n_words(n_top_words, count_vectorizer, text_data):\n",
        "    '''\n",
        "    returns a tuple of the top n words in a sample and their\n",
        "    accompanying counts, given a CountVectorizer object and text sample\n",
        "    '''\n",
        "    vectorized_headlines = count_vectorizer.fit_transform(text_data.values)\n",
        "    vectorized_total = np.sum(vectorized_headlines, axis=0)\n",
        "    word_indices = np.flip(np.argsort(vectorized_total)[0,:], 1)\n",
        "    word_values = np.flip(np.sort(vectorized_total)[0,:],1)\n",
        "\n",
        "    word_vectors = np.zeros((n_top_words, vectorized_headlines.shape[1]))\n",
        "    for i in range(n_top_words):\n",
        "        word_vectors[i,word_indices[0,i]] = 1\n",
        "\n",
        "    words = [word[0].encode('ascii').decode('utf-8') for\n",
        "             word in count_vectorizer.inverse_transform(word_vectors)]\n",
        "\n",
        "    return (words, word_values[0,:n_top_words].tolist()[0])"
      ],
      "metadata": {
        "id": "Pe0zF90xUpa8"
      },
      "execution_count": 63,
      "outputs": []
    },
    {
      "cell_type": "code",
      "source": [
        "count_vectorizer = CountVectorizer(stop_words='english')\n",
        "words, word_values = get_top_n_words(n_top_words=15,\n",
        "                                     count_vectorizer=count_vectorizer,\n",
        "                                     text_data=df_new['clean'])\n",
        "\n",
        "fig, ax = plt.subplots(figsize=(16,8))\n",
        "ax.bar(range(len(words)), word_values)\n",
        "ax.set_xticks(range(len(words)))\n",
        "ax.set_xticklabels(words, rotation='vertical')\n",
        "ax.set_title('Top words in clean data')\n",
        "ax.set_xlabel('Word')\n",
        "ax.set_ylabel('Number of occurences')\n",
        "plt.show()"
      ],
      "metadata": {
        "colab": {
          "base_uri": "https://localhost:8080/",
          "height": 783
        },
        "id": "av8KbqxAU8Fd",
        "outputId": "12257e1e-2b64-4e70-8aae-af288b469e83"
      },
      "execution_count": 94,
      "outputs": [
        {
          "output_type": "display_data",
          "data": {
            "text/plain": [
              "<Figure size 1600x800 with 1 Axes>"
            ],
            "image/png": "[encoded data removed]"
          },
          "metadata": {}
        }
      ]
    },
    {
      "cell_type": "code",
      "source": [
        "count_vectorizer = CountVectorizer(stop_words='english')\n",
        "words, word_values = get_top_n_words(n_top_words=15,\n",
        "                                     count_vectorizer=count_vectorizer,\n",
        "                                     text_data=df_new[df_new['Category']=='Healthcare']['clean'])\n",
        "\n",
        "fig, ax = plt.subplots(figsize=(16,8))\n",
        "ax.bar(range(len(words)), word_values)\n",
        "ax.set_xticks(range(len(words)))\n",
        "ax.set_xticklabels(words, rotation='vertical')\n",
        "ax.set_title('Top words in clean data belonging to healthcare category')\n",
        "ax.set_xlabel('Word')\n",
        "ax.set_ylabel('Number of occurences')\n",
        "plt.show()"
      ],
      "metadata": {
        "colab": {
          "base_uri": "https://localhost:8080/",
          "height": 774
        },
        "id": "gYklDeI4mIRC",
        "outputId": "a19eb697-680d-45fd-a159-b81cf7d373e5"
      },
      "execution_count": 95,
      "outputs": [
        {
          "output_type": "display_data",
          "data": {
            "text/plain": [
              "<Figure size 1600x800 with 1 Axes>"
            ],
            "image/png": "[encoded data removed]"
          },
          "metadata": {}
        }
      ]
    },
    {
      "cell_type": "code",
      "source": [
        "count_vectorizer = CountVectorizer(stop_words='english')\n",
        "words, word_values = get_top_n_words(n_top_words=15,\n",
        "                                     count_vectorizer=count_vectorizer,\n",
        "                                     text_data=df_new[df_new['Category']=='Education']['clean'])\n",
        "\n",
        "fig, ax = plt.subplots(figsize=(16,8))\n",
        "ax.bar(range(len(words)), word_values)\n",
        "ax.set_xticks(range(len(words)))\n",
        "ax.set_xticklabels(words, rotation='vertical')\n",
        "ax.set_title('Top words in description belonging to education category')\n",
        "ax.set_xlabel('Word')\n",
        "ax.set_ylabel('Number of occurences')\n",
        "plt.show()"
      ],
      "metadata": {
        "colab": {
          "base_uri": "https://localhost:8080/",
          "height": 773
        },
        "id": "Wxu6ftYXnYXc",
        "outputId": "7d0b6b81-f376-4718-ade5-da430e999965"
      },
      "execution_count": 96,
      "outputs": [
        {
          "output_type": "display_data",
          "data": {
            "text/plain": [
              "<Figure size 1600x800 with 1 Axes>"
            ],
            "image/png": "[encoded data removed]"
          },
          "metadata": {}
        }
      ]
    },
    {
      "cell_type": "markdown",
      "source": [
        "#Encoding the dependent feature category with numerics"
      ],
      "metadata": {
        "id": "yw1tcD-sEfC8"
      }
    },
    {
      "cell_type": "code",
      "execution_count": 49,
      "metadata": {
        "id": "SiHRi2XTq8F-"
      },
      "outputs": [],
      "source": [
        "# Encoding the categories to labels as anything that can be converted to numerics can be fed to ML\n",
        "categorical_encoding={'Payments':0, 'Credit':1,'Fund Transfer':2 ,'Others':3, 'Shopping':4,'Food':5,  'Investment':6,'Entertainment':7,\n",
        "       'Travel':8,'Healthcare':9,'Education':10}"
      ]
    },
    {
      "cell_type": "code",
      "execution_count": 50,
      "metadata": {
        "id": "kEAXlYK4q-1h"
      },
      "outputs": [],
      "source": [
        "df_new['Labels']=df_new['Category'].map(categorical_encoding)"
      ]
    },
    {
      "cell_type": "code",
      "execution_count": 51,
      "metadata": {
        "colab": {
          "base_uri": "https://localhost:8080/"
        },
        "id": "-689BqjfrHKY",
        "outputId": "a17f6472-a828-4f17-c947-90067c232608"
      },
      "outputs": [
        {
          "output_type": "execute_result",
          "data": {
            "text/plain": [
              "0     8177\n",
              "1     5544\n",
              "2     4862\n",
              "3     1147\n",
              "4      635\n",
              "5      366\n",
              "6      258\n",
              "7      128\n",
              "8      100\n",
              "9       58\n",
              "10      22\n",
              "Name: Labels, dtype: int64"
            ]
          },
          "metadata": {},
          "execution_count": 51
        }
      ],
      "source": [
        "df_new['Labels'].value_counts()"
      ]
    },
    {
      "cell_type": "markdown",
      "source": [
        "#Train test split:"
      ],
      "metadata": {
        "id": "398SoaRkEY2m"
      }
    },
    {
      "cell_type": "markdown",
      "source": [
        "Dividing dataset into train and test using train test split:"
      ],
      "metadata": {
        "id": "IBBee4wiEJkC"
      }
    },
    {
      "cell_type": "code",
      "execution_count": 52,
      "metadata": {
        "id": "fUhIoqg-rPHX"
      },
      "outputs": [],
      "source": [
        "from sklearn.model_selection import train_test_split"
      ]
    },
    {
      "cell_type": "code",
      "execution_count": 53,
      "metadata": {
        "id": "sGArxzKprpKb"
      },
      "outputs": [],
      "source": [
        "x=df_new['clean']\n",
        "y=df_new['Labels']"
      ]
    },
    {
      "cell_type": "code",
      "execution_count": 54,
      "metadata": {
        "id": "wjd8MBZLr4e_"
      },
      "outputs": [],
      "source": [
        "x_train,x_test,y_train,y_test=train_test_split(x,y,test_size=0.2,random_state=42)"
      ]
    },
    {
      "cell_type": "code",
      "execution_count": 55,
      "metadata": {
        "colab": {
          "base_uri": "https://localhost:8080/"
        },
        "id": "ApUYiddGr9ck",
        "outputId": "c706bddb-7b27-4e51-dcd6-f19b596b6c9e"
      },
      "outputs": [
        {
          "output_type": "execute_result",
          "data": {
            "text/plain": [
              "((17037,), (4260,), (17037,), (4260,))"
            ]
          },
          "metadata": {},
          "execution_count": 55
        }
      ],
      "source": [
        "x_train.shape,x_test.shape,y_train.shape,y_test.shape"
      ]
    },
    {
      "cell_type": "code",
      "source": [
        "y_train.value_counts(),y_test.value_counts()"
      ],
      "metadata": {
        "colab": {
          "base_uri": "https://localhost:8080/"
        },
        "id": "Skwlzh121S_k",
        "outputId": "662cb4a2-32d0-4815-e37d-758bba0aa6a8"
      },
      "execution_count": 56,
      "outputs": [
        {
          "output_type": "execute_result",
          "data": {
            "text/plain": [
              "(0     6548\n",
              " 1     4410\n",
              " 2     3899\n",
              " 3      924\n",
              " 4      506\n",
              " 5      303\n",
              " 6      204\n",
              " 7      105\n",
              " 8       81\n",
              " 9       39\n",
              " 10      18\n",
              " Name: Labels, dtype: int64,\n",
              " 0     1629\n",
              " 1     1134\n",
              " 2      963\n",
              " 3      223\n",
              " 4      129\n",
              " 5       63\n",
              " 6       54\n",
              " 7       23\n",
              " 8       19\n",
              " 9       19\n",
              " 10       4\n",
              " Name: Labels, dtype: int64)"
            ]
          },
          "metadata": {},
          "execution_count": 56
        }
      ]
    },
    {
      "cell_type": "markdown",
      "source": [
        "Vectorizing the description feature as (before data gets used by ML model,it needs to be turned into numbers)"
      ],
      "metadata": {
        "id": "wEmYKuFqEtWf"
      }
    },
    {
      "cell_type": "code",
      "execution_count": 57,
      "metadata": {
        "id": "uKI0dGL7sHov"
      },
      "outputs": [],
      "source": [
        "from sklearn.feature_extraction.text import TfidfVectorizer\n",
        "vectorizer=TfidfVectorizer()\n",
        "x_train_vec=vectorizer.fit_transform(x_train)\n",
        "x_test_vec=vectorizer.transform(x_test)"
      ]
    },
    {
      "cell_type": "markdown",
      "source": [
        "We can see the shape of data after vectorizing it."
      ],
      "metadata": {
        "id": "v7lzL7WxGJug"
      }
    },
    {
      "cell_type": "code",
      "execution_count": 58,
      "metadata": {
        "colab": {
          "base_uri": "https://localhost:8080/"
        },
        "id": "MBM2JlZfsPiC",
        "outputId": "29b6b994-100c-40c7-f39c-8bb10bc8e8a8"
      },
      "outputs": [
        {
          "output_type": "execute_result",
          "data": {
            "text/plain": [
              "((17037, 7587), (4260, 7587))"
            ]
          },
          "metadata": {},
          "execution_count": 58
        }
      ],
      "source": [
        "x_train_vec.shape,x_test_vec.shape"
      ]
    },
    {
      "cell_type": "markdown",
      "source": [
        "Making a Modular code:"
      ],
      "metadata": {
        "id": "dvHGk6swGQo8"
      }
    },
    {
      "cell_type": "code",
      "execution_count": 59,
      "metadata": {
        "id": "eH0l3P3-g4zk"
      },
      "outputs": [],
      "source": [
        "from sklearn.metrics import classification_report\n",
        "\n",
        "def model_training(model, x_train, y_train, x_test, y_test):\n",
        "    # Training the model with the training data\n",
        "    model.fit(x_train, y_train)\n",
        "\n",
        "    # Predicting the labels for the test data\n",
        "    y_pred = model.predict(x_test)\n",
        "    print('Predicted labels:', y_pred)\n",
        "\n",
        "    # Calculating the evaluation metrics\n",
        "    evaluation_metrics = classification_report(y_test, y_pred)\n",
        "    print('\\nEvaluation Metrics:')\n",
        "    print(evaluation_metrics)\n",
        "\n",
        "    return None"
      ]
    },
    {
      "cell_type": "markdown",
      "source": [
        "#**Logistic Regression:**"
      ],
      "metadata": {
        "id": "y85r5l3EIQv5"
      }
    },
    {
      "cell_type": "markdown",
      "source": [
        "This is a Multiclass classification model. As such, Logistic regression cannot be used for multi-class classification tasks. The implementation of this algorithm in the scikit-learn library implements the OvR strategy by default when using these algorithms for multi-class classification."
      ],
      "metadata": {
        "id": "g74hXF9LGmzR"
      }
    },
    {
      "cell_type": "code",
      "execution_count": 60,
      "metadata": {
        "id": "Pltjq0JIg6a_"
      },
      "outputs": [],
      "source": [
        "from sklearn.linear_model import LogisticRegression\n",
        "model = LogisticRegression(multi_class='ovr')"
      ]
    },
    {
      "cell_type": "code",
      "execution_count": null,
      "metadata": {
        "colab": {
          "base_uri": "https://localhost:8080/"
        },
        "id": "CQJAYl-5hQ-y",
        "outputId": "cccc0d24-1077-47ac-c502-a13e86fc3ac1"
      },
      "outputs": [
        {
          "output_type": "stream",
          "name": "stdout",
          "text": [
            "Predicted labels: [2 0 0 ... 6 1 1]\n",
            "\n",
            "Evaluation Metrics:\n",
            "              precision    recall  f1-score   support\n",
            "\n",
            "           0       0.85      0.95      0.89      1629\n",
            "           1       0.90      0.81      0.85      1134\n",
            "           2       0.87      0.91      0.89       963\n",
            "           3       0.77      0.74      0.75       223\n",
            "           4       0.85      0.57      0.68       129\n",
            "           5       0.88      0.59      0.70        63\n",
            "           6       0.97      0.56      0.71        54\n",
            "           7       1.00      0.78      0.88        23\n",
            "           8       1.00      0.53      0.69        19\n",
            "           9       0.00      0.00      0.00        19\n",
            "          10       0.00      0.00      0.00         4\n",
            "\n",
            "    accuracy                           0.86      4260\n",
            "   macro avg       0.73      0.58      0.64      4260\n",
            "weighted avg       0.86      0.86      0.86      4260\n",
            "\n"
          ]
        }
      ],
      "source": [
        "model_training(model, x_train_vec, y_train, x_test_vec, y_test)"
      ]
    },
    {
      "cell_type": "code",
      "source": [
        "pd.set_option('display.max_colwidth', None)"
      ],
      "metadata": {
        "id": "sxgyEoS9lbf8"
      },
      "execution_count": null,
      "outputs": []
    },
    {
      "cell_type": "code",
      "source": [
        "df_new[['Description','Category']][90:100]"
      ],
      "metadata": {
        "colab": {
          "base_uri": "https://localhost:8080/",
          "height": 363
        },
        "id": "-aBmn-L8lPeu",
        "outputId": "3099c154-a7fa-416d-de8e-494fcb03f814"
      },
      "execution_count": null,
      "outputs": [
        {
          "output_type": "execute_result",
          "data": {
            "text/plain": [
              "                                      Description  Category\n",
              "94   UPI/P2M/030220027776/billdeskt/ICICI Ban/UPI  Payments\n",
              "95   UPI/P2M/030316096879/billdeskt/ICICI Ban/UPI  Payments\n",
              "96   UPI/P2M/031418831790/billdeskt/ICICI Ban/UPI  Payments\n",
              "97   UPI/P2M/031520566272/billdeskt/ICICI Ban/UPI  Payments\n",
              "98   UPI/P2M/031911479382/billdeskt/ICICI Ban/UPI  Payments\n",
              "99   UPI/P2M/033019289859/billdeskt/ICICI Ban/UPI  Payments\n",
              "100  UPI/P2M/035310476683/billdeskt/ICICI Ban/UPI  Payments\n",
              "101  UPI/P2M/035918230082/billdeskt/ICICI Ban/UPI  Payments\n",
              "102  UPI/P2M/036211157634/billdeskt/ICICI Ban/UPI  Payments\n",
              "103  UPI/P2M/101420425057/billdeskt/ICICI Ban/UPI  Payments"
            ],
            "text/html": [
              "\n",
              "  <div id=\"df-58dfb4cd-56ad-4bf8-a41b-e60e52c2e689\">\n",
              "    <div class=\"colab-df-container\">\n",
              "      <div>\n",
              "<style scoped>\n",
              "    .dataframe tbody tr th:only-of-type {\n",
              "        vertical-align: middle;\n",
              "    }\n",
              "\n",
              "    .dataframe tbody tr th {\n",
              "        vertical-align: top;\n",
              "    }\n",
              "\n",
              "    .dataframe thead th {\n",
              "        text-align: right;\n",
              "    }\n",
              "</style>\n",
              "<table border=\"1\" class=\"dataframe\">\n",
              "  <thead>\n",
              "    <tr style=\"text-align: right;\">\n",
              "      <th></th>\n",
              "      <th>Description</th>\n",
              "      <th>Category</th>\n",
              "    </tr>\n",
              "  </thead>\n",
              "  <tbody>\n",
              "    <tr>\n",
              "      <th>94</th>\n",
              "      <td>UPI/P2M/030220027776/billdeskt/ICICI Ban/UPI</td>\n",
              "      <td>Payments</td>\n",
              "    </tr>\n",
              "    <tr>\n",
              "      <th>95</th>\n",
              "      <td>UPI/P2M/030316096879/billdeskt/ICICI Ban/UPI</td>\n",
              "      <td>Payments</td>\n",
              "    </tr>\n",
              "    <tr>\n",
              "      <th>96</th>\n",
              "      <td>UPI/P2M/031418831790/billdeskt/ICICI Ban/UPI</td>\n",
              "      <td>Payments</td>\n",
              "    </tr>\n",
              "    <tr>\n",
              "      <th>97</th>\n",
              "      <td>UPI/P2M/031520566272/billdeskt/ICICI Ban/UPI</td>\n",
              "      <td>Payments</td>\n",
              "    </tr>\n",
              "    <tr>\n",
              "      <th>98</th>\n",
              "      <td>UPI/P2M/031911479382/billdeskt/ICICI Ban/UPI</td>\n",
              "      <td>Payments</td>\n",
              "    </tr>\n",
              "    <tr>\n",
              "      <th>99</th>\n",
              "      <td>UPI/P2M/033019289859/billdeskt/ICICI Ban/UPI</td>\n",
              "      <td>Payments</td>\n",
              "    </tr>\n",
              "    <tr>\n",
              "      <th>100</th>\n",
              "      <td>UPI/P2M/035310476683/billdeskt/ICICI Ban/UPI</td>\n",
              "      <td>Payments</td>\n",
              "    </tr>\n",
              "    <tr>\n",
              "      <th>101</th>\n",
              "      <td>UPI/P2M/035918230082/billdeskt/ICICI Ban/UPI</td>\n",
              "      <td>Payments</td>\n",
              "    </tr>\n",
              "    <tr>\n",
              "      <th>102</th>\n",
              "      <td>UPI/P2M/036211157634/billdeskt/ICICI Ban/UPI</td>\n",
              "      <td>Payments</td>\n",
              "    </tr>\n",
              "    <tr>\n",
              "      <th>103</th>\n",
              "      <td>UPI/P2M/101420425057/billdeskt/ICICI Ban/UPI</td>\n",
              "      <td>Payments</td>\n",
              "    </tr>\n",
              "  </tbody>\n",
              "</table>\n",
              "</div>\n",
              "      <button class=\"colab-df-convert\" onclick=\"convertToInteractive('df-58dfb4cd-56ad-4bf8-a41b-e60e52c2e689')\"\n",
              "              title=\"Convert this dataframe to an interactive table.\"\n",
              "              style=\"display:none;\">\n",
              "        \n",
              "  <svg xmlns=\"http://www.w3.org/2000/svg\" height=\"24px\"viewBox=\"0 0 24 24\"\n",
              "       width=\"24px\">\n",
              "    <path d=\"M0 0h24v24H0V0z\" fill=\"none\"/>\n",
              "    <path d=\"M18.56 5.44l.94 2.06.94-2.06 2.06-.94-2.06-.94-.94-2.06-.94 2.06-2.06.94zm-11 1L8.5 8.5l.94-2.06 2.06-.94-2.06-.94L8.5 2.5l-.94 2.06-2.06.94zm10 10l.94 2.06.94-2.06 2.06-.94-2.06-.94-.94-2.06-.94 2.06-2.06.94z\"/><path d=\"M17.41 7.96l-1.37-1.37c-.4-.4-.92-.59-1.43-.59-.52 0-1.04.2-1.43.59L10.3 9.45l-7.72 7.72c-.78.78-.78 2.05 0 2.83L4 21.41c.39.39.9.59 1.41.59.51 0 1.02-.2 1.41-.59l7.78-7.78 2.81-2.81c.8-.78.8-2.07 0-2.86zM5.41 20L4 18.59l7.72-7.72 1.47 1.35L5.41 20z\"/>\n",
              "  </svg>\n",
              "      </button>\n",
              "      \n",
              "  <style>\n",
              "    .colab-df-container {\n",
              "      display:flex;\n",
              "      flex-wrap:wrap;\n",
              "      gap: 12px;\n",
              "    }\n",
              "\n",
              "    .colab-df-convert {\n",
              "      background-color: #E8F0FE;\n",
              "      border: none;\n",
              "      border-radius: 50%;\n",
              "      cursor: pointer;\n",
              "      display: none;\n",
              "      fill: #1967D2;\n",
              "      height: 32px;\n",
              "      padding: 0 0 0 0;\n",
              "      width: 32px;\n",
              "    }\n",
              "\n",
              "    .colab-df-convert:hover {\n",
              "      background-color: #E2EBFA;\n",
              "      box-shadow: 0px 1px 2px rgba(60, 64, 67, 0.3), 0px 1px 3px 1px rgba(60, 64, 67, 0.15);\n",
              "      fill: #174EA6;\n",
              "    }\n",
              "\n",
              "    [theme=dark] .colab-df-convert {\n",
              "      background-color: #3B4455;\n",
              "      fill: #D2E3FC;\n",
              "    }\n",
              "\n",
              "    [theme=dark] .colab-df-convert:hover {\n",
              "      background-color: #434B5C;\n",
              "      box-shadow: 0px 1px 3px 1px rgba(0, 0, 0, 0.15);\n",
              "      filter: drop-shadow(0px 1px 2px rgba(0, 0, 0, 0.3));\n",
              "      fill: #FFFFFF;\n",
              "    }\n",
              "  </style>\n",
              "\n",
              "      <script>\n",
              "        const buttonEl =\n",
              "          document.querySelector('#df-58dfb4cd-56ad-4bf8-a41b-e60e52c2e689 button.colab-df-convert');\n",
              "        buttonEl.style.display =\n",
              "          google.colab.kernel.accessAllowed ? 'block' : 'none';\n",
              "\n",
              "        async function convertToInteractive(key) {\n",
              "          const element = document.querySelector('#df-58dfb4cd-56ad-4bf8-a41b-e60e52c2e689');\n",
              "          const dataTable =\n",
              "            await google.colab.kernel.invokeFunction('convertToInteractive',\n",
              "                                                     [key], {});\n",
              "          if (!dataTable) return;\n",
              "\n",
              "          const docLinkHtml = 'Like what you see? Visit the ' +\n",
              "            '<a target=\"_blank\" href=https://colab.research.google.com/notebooks/data_table.ipynb>data table notebook</a>'\n",
              "            + ' to learn more about interactive tables.';\n",
              "          element.innerHTML = '';\n",
              "          dataTable['output_type'] = 'display_data';\n",
              "          await google.colab.output.renderOutput(dataTable, element);\n",
              "          const docLink = document.createElement('div');\n",
              "          docLink.innerHTML = docLinkHtml;\n",
              "          element.appendChild(docLink);\n",
              "        }\n",
              "      </script>\n",
              "    </div>\n",
              "  </div>\n",
              "  "
            ]
          },
          "metadata": {},
          "execution_count": 150
        }
      ]
    },
    {
      "cell_type": "markdown",
      "source": [
        "Making a function to return the predicted category by model:"
      ],
      "metadata": {
        "id": "oq3qRm_RpR9x"
      }
    },
    {
      "cell_type": "code",
      "source": [
        "def predict(model,text):\n",
        "  cleaned_text=remove_stopwords_and_special_chars(text)\n",
        "  print(cleaned_text)\n",
        "  x=vectorizer.transform([cleaned_text])\n",
        "  d={v:k for k,v in categorical_encoding.items()}\n",
        "  y=model.predict(x)[0]\n",
        "  return d[y]\n",
        "\n"
      ],
      "metadata": {
        "id": "oT394sqDkTOV"
      },
      "execution_count": null,
      "outputs": []
    },
    {
      "cell_type": "code",
      "source": [
        "text= 'POS 131018478944 ENGLISH WINE SHOP '"
      ],
      "metadata": {
        "id": "LFxpvJkRn5t2"
      },
      "execution_count": null,
      "outputs": []
    },
    {
      "cell_type": "code",
      "source": [
        "predict(model,text)"
      ],
      "metadata": {
        "colab": {
          "base_uri": "https://localhost:8080/",
          "height": 53
        },
        "id": "lPym2Vbqlq_X",
        "outputId": "57269709-e27d-460a-a41c-c5449fe2309c"
      },
      "execution_count": null,
      "outputs": [
        {
          "output_type": "stream",
          "name": "stdout",
          "text": [
            "pos english wine shop\n"
          ]
        },
        {
          "output_type": "execute_result",
          "data": {
            "text/plain": [
              "'Food'"
            ],
            "application/vnd.google.colaboratory.intrinsic+json": {
              "type": "string"
            }
          },
          "metadata": {},
          "execution_count": 149
        }
      ]
    },
    {
      "cell_type": "code",
      "source": [
        "text='UPI/P2M/036211157634/billdeskt/ICICI Ban/UPI'\n",
        "predict(model,text)"
      ],
      "metadata": {
        "colab": {
          "base_uri": "https://localhost:8080/",
          "height": 53
        },
        "id": "G6WFGlKkp0RC",
        "outputId": "0045f309-de09-424a-e98a-d73dff4395d6"
      },
      "execution_count": null,
      "outputs": [
        {
          "output_type": "stream",
          "name": "stdout",
          "text": [
            "upi p billdeskt icici ban upi\n"
          ]
        },
        {
          "output_type": "execute_result",
          "data": {
            "text/plain": [
              "'Payments'"
            ],
            "application/vnd.google.colaboratory.intrinsic+json": {
              "type": "string"
            }
          },
          "metadata": {},
          "execution_count": 151
        }
      ]
    },
    {
      "cell_type": "markdown",
      "source": [
        "Using Multinomial Logistic Regression:"
      ],
      "metadata": {
        "id": "t_UtynHHRQp8"
      }
    },
    {
      "cell_type": "code",
      "source": [
        "model=LogisticRegression(multi_class='multinomial', solver='lbfgs', penalty='l2', C=1.0)\n",
        "model_training(model, x_train_vec, y_train, x_test_vec, y_test)"
      ],
      "metadata": {
        "colab": {
          "base_uri": "https://localhost:8080/"
        },
        "id": "J3kbfJ30c0Hc",
        "outputId": "409d21c1-8c51-4675-9fd8-5cb4c6ae38f8"
      },
      "execution_count": 69,
      "outputs": [
        {
          "output_type": "stream",
          "name": "stdout",
          "text": [
            "Predicted labels: [2 0 0 ... 6 1 1]\n",
            "\n",
            "Evaluation Metrics:\n",
            "              precision    recall  f1-score   support\n",
            "\n",
            "           0       0.86      0.94      0.90      1629\n",
            "           1       0.90      0.83      0.86      1134\n",
            "           2       0.88      0.92      0.90       963\n",
            "           3       0.80      0.77      0.78       223\n",
            "           4       0.85      0.63      0.72       129\n",
            "           5       0.89      0.63      0.74        63\n",
            "           6       0.97      0.67      0.79        54\n",
            "           7       1.00      0.78      0.88        23\n",
            "           8       1.00      0.58      0.73        19\n",
            "           9       1.00      0.05      0.10        19\n",
            "          10       0.00      0.00      0.00         4\n",
            "\n",
            "    accuracy                           0.87      4260\n",
            "   macro avg       0.83      0.62      0.67      4260\n",
            "weighted avg       0.87      0.87      0.87      4260\n",
            "\n"
          ]
        }
      ]
    },
    {
      "cell_type": "markdown",
      "source": [
        "#**Support Vector Classifiers:**"
      ],
      "metadata": {
        "id": "EKlP9IZIIaEb"
      }
    },
    {
      "cell_type": "markdown",
      "source": [
        " Support vector machines (SVM) and related kernel-based algorithms use One vs one approach for multiclass classification problem.The support vector machine implementation in the scikit-learn is provided by the SVC class and supports the one-vs-one method for multi-class classification problems. This can be achieved by setting the “decision_function_shape” argument to ovo.\n",
        "\n"
      ],
      "metadata": {
        "id": "VuYKHUnsI_YT"
      }
    },
    {
      "cell_type": "code",
      "execution_count": null,
      "metadata": {
        "colab": {
          "base_uri": "https://localhost:8080/"
        },
        "id": "sANaZRmdhwOc",
        "outputId": "c6f64572-141e-4fb2-b650-c87f9f661f28"
      },
      "outputs": [
        {
          "output_type": "stream",
          "name": "stdout",
          "text": [
            "Predicted labels: [2 4 0 ... 6 1 0]\n",
            "\n",
            "Evaluation Metrics:\n",
            "              precision    recall  f1-score   support\n",
            "\n",
            "           0       0.90      0.95      0.92      1629\n",
            "           1       0.91      0.86      0.88      1134\n",
            "           2       0.91      0.93      0.92       963\n",
            "           3       0.82      0.87      0.84       223\n",
            "           4       0.91      0.72      0.81       129\n",
            "           5       0.92      0.76      0.83        63\n",
            "           6       0.98      0.80      0.88        54\n",
            "           7       1.00      0.87      0.93        23\n",
            "           8       1.00      0.74      0.85        19\n",
            "           9       0.91      0.53      0.67        19\n",
            "          10       1.00      0.25      0.40         4\n",
            "\n",
            "    accuracy                           0.90      4260\n",
            "   macro avg       0.93      0.75      0.81      4260\n",
            "weighted avg       0.90      0.90      0.90      4260\n",
            "\n"
          ]
        }
      ],
      "source": [
        "from sklearn.svm import SVC\n",
        "model_training(SVC(decision_function_shape='ovo'),x_train_vec,y_train, x_test_vec, y_test)"
      ]
    },
    {
      "cell_type": "code",
      "source": [
        "from sklearn.multiclass import OneVsOneClassifier\n",
        "model_training(OneVsOneClassifier(SVC(kernel='rbf')),x_train_vec,y_train, x_test_vec,y_test)"
      ],
      "metadata": {
        "colab": {
          "base_uri": "https://localhost:8080/"
        },
        "id": "H23YW1zTJjnM",
        "outputId": "8100659d-05eb-41e9-d8a9-6ea7aa592b58"
      },
      "execution_count": null,
      "outputs": [
        {
          "output_type": "stream",
          "name": "stdout",
          "text": [
            "Predicted labels: [2 4 0 ... 6 1 0]\n",
            "\n",
            "Evaluation Metrics:\n",
            "              precision    recall  f1-score   support\n",
            "\n",
            "           0       0.90      0.95      0.92      1629\n",
            "           1       0.91      0.86      0.88      1134\n",
            "           2       0.91      0.93      0.92       963\n",
            "           3       0.82      0.87      0.84       223\n",
            "           4       0.91      0.72      0.81       129\n",
            "           5       0.92      0.76      0.83        63\n",
            "           6       0.98      0.80      0.88        54\n",
            "           7       1.00      0.87      0.93        23\n",
            "           8       1.00      0.74      0.85        19\n",
            "           9       0.91      0.53      0.67        19\n",
            "          10       1.00      0.25      0.40         4\n",
            "\n",
            "    accuracy                           0.90      4260\n",
            "   macro avg       0.93      0.75      0.81      4260\n",
            "weighted avg       0.90      0.90      0.90      4260\n",
            "\n"
          ]
        }
      ]
    },
    {
      "cell_type": "markdown",
      "source": [
        "#**Random Forest**"
      ],
      "metadata": {
        "id": "zgq-cJuDLpDo"
      }
    },
    {
      "cell_type": "markdown",
      "source": [
        "Random Forest classifier performs well with the One-vs-Rest strategy for multiclass classification due to its ability to handle imbalanced classes, parallel training, reduction of the problem complexity."
      ],
      "metadata": {
        "id": "6CymupWfLGYJ"
      }
    },
    {
      "cell_type": "code",
      "execution_count": null,
      "metadata": {
        "id": "7t26KNlCnhJ1"
      },
      "outputs": [],
      "source": [
        "from sklearn.ensemble import RandomForestClassifier\n",
        "model=RandomForestClassifier()\n",
        "from sklearn.multiclass import OneVsRestClassifier\n",
        "# define the ovr strategy\n",
        "ovr = OneVsRestClassifier(model)"
      ]
    },
    {
      "cell_type": "code",
      "execution_count": null,
      "metadata": {
        "colab": {
          "base_uri": "https://localhost:8080/"
        },
        "id": "R2TJ26_nn3M8",
        "outputId": "408d01c7-4c1b-47e7-9bf7-47e1cbd2277c"
      },
      "outputs": [
        {
          "output_type": "stream",
          "name": "stdout",
          "text": [
            "Predicted labels: [2 4 0 ... 6 1 0]\n",
            "\n",
            "Evaluation Metrics:\n",
            "              precision    recall  f1-score   support\n",
            "\n",
            "           0       0.91      0.95      0.93      1629\n",
            "           1       0.90      0.87      0.88      1134\n",
            "           2       0.91      0.92      0.91       963\n",
            "           3       0.83      0.85      0.84       223\n",
            "           4       0.90      0.76      0.82       129\n",
            "           5       0.89      0.78      0.83        63\n",
            "           6       0.91      0.76      0.83        54\n",
            "           7       0.88      0.91      0.89        23\n",
            "           8       1.00      0.74      0.85        19\n",
            "           9       0.92      0.58      0.71        19\n",
            "          10       1.00      0.25      0.40         4\n",
            "\n",
            "    accuracy                           0.90      4260\n",
            "   macro avg       0.91      0.76      0.81      4260\n",
            "weighted avg       0.90      0.90      0.90      4260\n",
            "\n"
          ]
        }
      ],
      "source": [
        "model_training(ovr,x_train_vec,y_train, x_test_vec, y_test)"
      ]
    },
    {
      "cell_type": "code",
      "source": [
        "df_new.loc[420,['Description','Category']]"
      ],
      "metadata": {
        "colab": {
          "base_uri": "https://localhost:8080/"
        },
        "id": "Kd0Ej9F5v9HY",
        "outputId": "343687d9-fe7c-496e-a643-68b7f33e8778"
      },
      "execution_count": null,
      "outputs": [
        {
          "output_type": "execute_result",
          "data": {
            "text/plain": [
              "Description    UPI/P2M/034921797936/billdeskt/ICICI Ban/UPI\n",
              "Category                                           Payments\n",
              "Name: 420, dtype: object"
            ]
          },
          "metadata": {},
          "execution_count": 184
        }
      ]
    },
    {
      "cell_type": "code",
      "source": [
        "text='UPI/P2M/034921797936/billdeskt/ICICI Ban/UPI'\n"
      ],
      "metadata": {
        "id": "AHQGwNQ-vzc1"
      },
      "execution_count": null,
      "outputs": []
    },
    {
      "cell_type": "code",
      "source": [
        "predict(ovr,text)"
      ],
      "metadata": {
        "colab": {
          "base_uri": "https://localhost:8080/",
          "height": 53
        },
        "id": "MnUuzlbovulI",
        "outputId": "4ec55cf3-fe63-49f8-963a-b87832d62394"
      },
      "execution_count": null,
      "outputs": [
        {
          "output_type": "stream",
          "name": "stdout",
          "text": [
            "upi p billdeskt icici ban upi\n"
          ]
        },
        {
          "output_type": "execute_result",
          "data": {
            "text/plain": [
              "'Payments'"
            ],
            "application/vnd.google.colaboratory.intrinsic+json": {
              "type": "string"
            }
          },
          "metadata": {},
          "execution_count": 183
        }
      ]
    },
    {
      "cell_type": "code",
      "source": [
        "df_new.loc[490,['Description','Category']]"
      ],
      "metadata": {
        "colab": {
          "base_uri": "https://localhost:8080/"
        },
        "id": "Cvh_imugwDWY",
        "outputId": "5204f5d6-c72e-4857-8629-1c0d6719656d"
      },
      "execution_count": null,
      "outputs": [
        {
          "output_type": "execute_result",
          "data": {
            "text/plain": [
              "Description    BRN-PYMT-CARD-4514570024339270\n",
              "Category                             Payments\n",
              "Name: 490, dtype: object"
            ]
          },
          "metadata": {},
          "execution_count": 185
        }
      ]
    },
    {
      "cell_type": "code",
      "source": [
        "text='BRN-PYMT-CARD-4514570024339270'"
      ],
      "metadata": {
        "id": "wv0i_fUIwIRq"
      },
      "execution_count": null,
      "outputs": []
    },
    {
      "cell_type": "code",
      "source": [
        "predict(ovr,text)"
      ],
      "metadata": {
        "colab": {
          "base_uri": "https://localhost:8080/",
          "height": 53
        },
        "id": "lqu2gy3GwP2k",
        "outputId": "b17de69b-0c76-45f9-debb-c74c45b08c64"
      },
      "execution_count": null,
      "outputs": [
        {
          "output_type": "stream",
          "name": "stdout",
          "text": [
            "brn pymt card\n"
          ]
        },
        {
          "output_type": "execute_result",
          "data": {
            "text/plain": [
              "'Payments'"
            ],
            "application/vnd.google.colaboratory.intrinsic+json": {
              "type": "string"
            }
          },
          "metadata": {},
          "execution_count": 187
        }
      ]
    },
    {
      "cell_type": "code",
      "source": [
        "text='POS 541919XXXXXX5772 BLD*LIVECAREER.C\t'\n",
        "predict(ovr,text)"
      ],
      "metadata": {
        "colab": {
          "base_uri": "https://localhost:8080/",
          "height": 53
        },
        "id": "DH3-ppBIyHYB",
        "outputId": "a71b610f-5220-4aa6-a402-06271935509e"
      },
      "execution_count": null,
      "outputs": [
        {
          "output_type": "stream",
          "name": "stdout",
          "text": [
            "pos xxxxxx bld livecareer c\n"
          ]
        },
        {
          "output_type": "execute_result",
          "data": {
            "text/plain": [
              "'Education'"
            ],
            "application/vnd.google.colaboratory.intrinsic+json": {
              "type": "string"
            }
          },
          "metadata": {},
          "execution_count": 202
        }
      ]
    },
    {
      "cell_type": "code",
      "source": [
        "text='UPI-SRUTHI WINES-PAYTM-57991301@PAYTM-PYTM0123456-034307412351-OID202012081848050 (Ref# 34307412351)'\n",
        "predict(ovr,text)"
      ],
      "metadata": {
        "colab": {
          "base_uri": "https://localhost:8080/",
          "height": 53
        },
        "id": "ybwOGKH9x8Go",
        "outputId": "2d9a8e15-91e1-4d86-8389-f62b0ecb74ea"
      },
      "execution_count": null,
      "outputs": [
        {
          "output_type": "stream",
          "name": "stdout",
          "text": [
            "upi sruthi wines paytm paytm pytm oid ref\n"
          ]
        },
        {
          "output_type": "execute_result",
          "data": {
            "text/plain": [
              "'Food'"
            ],
            "application/vnd.google.colaboratory.intrinsic+json": {
              "type": "string"
            }
          },
          "metadata": {},
          "execution_count": 200
        }
      ]
    },
    {
      "cell_type": "code",
      "source": [
        "text='UPI/P2M/101619531549/Dominos P/Paytm Pay/UPI'\n",
        "predict(ovr,text)"
      ],
      "metadata": {
        "colab": {
          "base_uri": "https://localhost:8080/",
          "height": 53
        },
        "id": "TMwCTK7CxygZ",
        "outputId": "13ca04b8-4910-478f-94e3-f72dfa196cd4"
      },
      "execution_count": null,
      "outputs": [
        {
          "output_type": "stream",
          "name": "stdout",
          "text": [
            "upi p dominos p paytm pay upi\n"
          ]
        },
        {
          "output_type": "execute_result",
          "data": {
            "text/plain": [
              "'Food'"
            ],
            "application/vnd.google.colaboratory.intrinsic+json": {
              "type": "string"
            }
          },
          "metadata": {},
          "execution_count": 199
        }
      ]
    },
    {
      "cell_type": "code",
      "source": [
        "text='UPI/P2M/101618466630/KGN CHICK/Paytm Pay/UPI'"
      ],
      "metadata": {
        "id": "7CvKvOwAxXWm"
      },
      "execution_count": null,
      "outputs": []
    },
    {
      "cell_type": "code",
      "source": [
        "predict(ovr,text)"
      ],
      "metadata": {
        "colab": {
          "base_uri": "https://localhost:8080/",
          "height": 53
        },
        "id": "B2KUbwr7xa8A",
        "outputId": "c49ae085-6928-4d26-93de-062cd71ffa7a"
      },
      "execution_count": null,
      "outputs": [
        {
          "output_type": "stream",
          "name": "stdout",
          "text": [
            "upi p kgn chick paytm pay upi\n"
          ]
        },
        {
          "output_type": "execute_result",
          "data": {
            "text/plain": [
              "'Food'"
            ],
            "application/vnd.google.colaboratory.intrinsic+json": {
              "type": "string"
            }
          },
          "metadata": {},
          "execution_count": 198
        }
      ]
    },
    {
      "cell_type": "markdown",
      "source": [
        "Since our data is imbalanced, Another approach to make random forest more suitable for learning from extremely imbalanced data follows the idea of cost sensitive learning. Since the RF classifier tends to be biased towards the majority class, we shall place a heavier penalty on misclassifying the minority class.This can be achieved by setting the class_weight argument on the RandomForestClassifier class.\n",
        "\n"
      ],
      "metadata": {
        "id": "2n6F1wVZMz0x"
      }
    },
    {
      "cell_type": "code",
      "execution_count": null,
      "metadata": {
        "colab": {
          "base_uri": "https://localhost:8080/"
        },
        "id": "kseb5Q_xq6-V",
        "outputId": "523782eb-ba59-48cb-8db4-2fda586391f2"
      },
      "outputs": [
        {
          "output_type": "stream",
          "name": "stdout",
          "text": [
            "Predicted labels: [2 4 0 ... 6 1 0]\n",
            "\n",
            "Evaluation Metrics:\n",
            "              precision    recall  f1-score   support\n",
            "\n",
            "           0       0.91      0.94      0.93      1629\n",
            "           1       0.89      0.87      0.88      1134\n",
            "           2       0.91      0.90      0.91       963\n",
            "           3       0.79      0.91      0.84       223\n",
            "           4       0.90      0.74      0.81       129\n",
            "           5       0.89      0.76      0.82        63\n",
            "           6       0.96      0.81      0.88        54\n",
            "           7       0.91      0.91      0.91        23\n",
            "           8       1.00      0.74      0.85        19\n",
            "           9       0.91      0.53      0.67        19\n",
            "          10       1.00      0.25      0.40         4\n",
            "\n",
            "    accuracy                           0.90      4260\n",
            "   macro avg       0.92      0.76      0.81      4260\n",
            "weighted avg       0.90      0.90      0.90      4260\n",
            "\n"
          ]
        }
      ],
      "source": [
        "model = RandomForestClassifier(n_estimators=10, class_weight='balanced')\n",
        "model_training(model,x_train_vec,y_train, x_test_vec, y_test)"
      ]
    },
    {
      "cell_type": "code",
      "execution_count": null,
      "metadata": {
        "id": "1OUz3UkPubhq"
      },
      "outputs": [],
      "source": [
        "model = RandomForestClassifier(n_estimators=10, class_weight='balanced_subsample')\n"
      ]
    },
    {
      "cell_type": "code",
      "execution_count": null,
      "metadata": {
        "colab": {
          "base_uri": "https://localhost:8080/"
        },
        "id": "nG0-pofsudi5",
        "outputId": "cc6f7393-2cfd-498b-9e59-597b104655e2"
      },
      "outputs": [
        {
          "output_type": "stream",
          "name": "stdout",
          "text": [
            "Predicted labels: [2 4 0 ... 6 1 0]\n",
            "\n",
            "Evaluation Metrics:\n",
            "              precision    recall  f1-score   support\n",
            "\n",
            "           0       0.90      0.94      0.92      1629\n",
            "           1       0.88      0.87      0.87      1134\n",
            "           2       0.93      0.90      0.91       963\n",
            "           3       0.80      0.89      0.84       223\n",
            "           4       0.90      0.76      0.82       129\n",
            "           5       0.85      0.75      0.80        63\n",
            "           6       0.97      0.72      0.83        54\n",
            "           7       0.92      0.96      0.94        23\n",
            "           8       1.00      0.79      0.88        19\n",
            "           9       1.00      0.53      0.69        19\n",
            "          10       1.00      0.25      0.40         4\n",
            "\n",
            "    accuracy                           0.90      4260\n",
            "   macro avg       0.92      0.76      0.81      4260\n",
            "weighted avg       0.90      0.90      0.89      4260\n",
            "\n"
          ]
        }
      ],
      "source": [
        "model_training(model,x_train_vec,y_train, x_test_vec, y_test)"
      ]
    },
    {
      "cell_type": "markdown",
      "source": [
        "#**XGBOOST Classifier:**"
      ],
      "metadata": {
        "id": "9qwAeMYVRt62"
      }
    },
    {
      "cell_type": "code",
      "execution_count": null,
      "metadata": {
        "colab": {
          "base_uri": "https://localhost:8080/"
        },
        "id": "ljx8hDgAvuvb",
        "outputId": "2c661877-ddc8-4255-9345-fdf89a71d34d"
      },
      "outputs": [
        {
          "name": "stdout",
          "output_type": "stream",
          "text": [
            "Predicted labels: [2 4 0 ... 6 1 0]\n",
            "\n",
            "Evaluation Metrics:\n",
            "              precision    recall  f1-score   support\n",
            "\n",
            "           0       0.86      0.95      0.90      1629\n",
            "           1       0.87      0.80      0.84      1134\n",
            "           2       0.90      0.89      0.90       963\n",
            "           3       0.80      0.83      0.81       223\n",
            "           4       0.92      0.69      0.79       129\n",
            "           5       0.90      0.71      0.80        63\n",
            "           6       0.94      0.63      0.76        54\n",
            "           7       1.00      0.91      0.95        23\n",
            "           8       0.93      0.74      0.82        19\n",
            "           9       1.00      0.53      0.69        19\n",
            "          10       1.00      0.25      0.40         4\n",
            "\n",
            "    accuracy                           0.87      4260\n",
            "   macro avg       0.92      0.72      0.79      4260\n",
            "weighted avg       0.87      0.87      0.87      4260\n",
            "\n"
          ]
        }
      ],
      "source": [
        "from xgboost.sklearn import XGBClassifier\n",
        "model_training(XGBClassifier(),x_train_vec,y_train, x_test_vec, y_test)"
      ]
    },
    {
      "cell_type": "markdown",
      "source": [
        "#**Multinomial Naive Bayes Algorithm:**"
      ],
      "metadata": {
        "id": "TSCz1Y3BTlmq"
      }
    },
    {
      "cell_type": "markdown",
      "source": [
        " Multinomial Naive Bayes has its limitations, particularly when the independence assumption is severely violated or when complex interactions among features are crucial, it remains a popular and effective choice for multiclass text classification due to its simplicity, efficiency, and competitive performance in various scenarios."
      ],
      "metadata": {
        "id": "Plqci2ALTuzs"
      }
    },
    {
      "cell_type": "code",
      "execution_count": null,
      "metadata": {
        "colab": {
          "base_uri": "https://localhost:8080/"
        },
        "id": "_bKu8Ha6yKfQ",
        "outputId": "14013c3b-df59-45cf-ce7e-db9769f92bfe"
      },
      "outputs": [
        {
          "output_type": "stream",
          "name": "stdout",
          "text": [
            "Predicted labels: [2 0 0 ... 0 0 1]\n",
            "\n",
            "Evaluation Metrics:\n",
            "              precision    recall  f1-score   support\n",
            "\n",
            "           0       0.74      0.95      0.83      1629\n",
            "           1       0.83      0.75      0.79      1134\n",
            "           2       0.85      0.86      0.85       963\n",
            "           3       0.86      0.53      0.66       223\n",
            "           4       1.00      0.33      0.50       129\n",
            "           5       1.00      0.02      0.03        63\n",
            "           6       1.00      0.11      0.20        54\n",
            "           7       0.00      0.00      0.00        23\n",
            "           8       0.00      0.00      0.00        19\n",
            "           9       0.00      0.00      0.00        19\n",
            "          10       0.00      0.00      0.00         4\n",
            "\n",
            "    accuracy                           0.79      4260\n",
            "   macro avg       0.57      0.32      0.35      4260\n",
            "weighted avg       0.80      0.79      0.77      4260\n",
            "\n"
          ]
        }
      ],
      "source": [
        "from sklearn.naive_bayes import MultinomialNB\n",
        "model_training(MultinomialNB(),x_train_vec,y_train, x_test_vec,y_test)"
      ]
    },
    {
      "cell_type": "markdown",
      "source": [
        "**Pros of Multinomial Naive Bayes algorithm for text classification:**\n",
        "\n",
        "1. Simplicity and Speed: Multinomial Naive Bayes (MNB) is a simple and fast algorithm. It is computationally efficient and requires minimal training time compared to more complex models.\n",
        "\n",
        "2. Scalability: MNB is highly scalable and can handle large datasets with high-dimensional feature spaces, making it suitable for text classification tasks with a large number of features.\n",
        "\n",
        "3. Handles Categorical Features: MNB is specifically designed for categorical data, such as word frequencies in text classification. It works well with discrete features and assumes independence between features, making it effective for document classification tasks.\n",
        "\n",
        "4. Works with Small Training Data: MNB can perform well even with limited training data. It is particularly useful when the available labeled training data is scarce, as it can provide reasonably accurate results.\n",
        "\n",
        "5. Interpretable: MNB provides interpretable results as it calculates probabilities based on Bayes' theorem. It can estimate the probability of a given class based on the observed features, making it easy to understand the decision-making process.\n",
        "\n",
        "**Cons of Multinomial Naive Bayes algorithm for text classification:**\n",
        "\n",
        "1. Independence Assumption: MNB assumes independence between features, meaning it does not capture interdependencies or relationships among features. This assumption may not hold in some text classification tasks, where the meaning of words and their context can affect the classification outcome.\n",
        "\n",
        "2. Limited Representation of Text: MNB represents text documents using word frequencies or presence/absence of words. It ignores the order and structure of words in the document, which may limit its ability to capture more nuanced language patterns and context.\n",
        "\n",
        "3. Sensitivity to Feature Quality: MNB's performance heavily relies on the quality and relevance of the selected features. Irrelevant or noisy features can adversely affect the classification accuracy.\n",
        "\n",
        "4. Lack of Continuous Probability Estimates: MNB provides discrete class probabilities based on counting occurrences. While this can be sufficient for classification decisions, it does not provide continuous probability estimates like some other algorithms, such as logistic regression or support vector machines.\n",
        "\n",
        "5. Out-of-Vocabulary Words: MNB struggles with out-of-vocabulary words that are not present in the training data. These words may not be handled properly, leading to inaccurate predictions for unseen or rare words."
      ],
      "metadata": {
        "id": "8ZSI49xBjF2U"
      }
    },
    {
      "cell_type": "markdown",
      "source": [
        "#**Evaluation Metric:**"
      ],
      "metadata": {
        "id": "Mfketq9CWIkj"
      }
    },
    {
      "cell_type": "markdown",
      "source": [
        "1. **Precision:** Precision measures the proportion of correctly predicted positive instances out of the total instances predicted as positive. It focuses on the quality of positive predictions and helps identify the rate of false positives. Precision is calculated as TP / (TP + FP) for a specific class.\n",
        "\n",
        "2. **Recall (Sensitivity or True Positive Rate):** Recall measures the proportion of correctly predicted positive instances out of the total actual positive instances. It focuses on capturing all positive instances and helps identify the rate of false negatives. Recall is calculated as TP / (TP + FN) for a specific class.\n",
        "\n",
        "3. **F1 Score:** The F1 score combines precision and recall into a single metric. It is the harmonic mean of precision and recall and provides a balanced measure between the two. The F1 score is calculated as 2 * (precision * recall) / (precision + recall) for a specific class.\n",
        "\n",
        "4. **Average Precision, Recall, and F1 Score:** In multiclass classification, you can calculate the average precision, recall, and F1 score by taking the average of the metrics across all classes. This provides an overall performance measure of the model.\n",
        "\n",
        "5. **Macro-averaged and Micro-averaged Metrics:** Macro-averaging calculates the metrics independently for each class and then takes the average. Micro-averaging aggregates the contributions of all classes and calculates the metrics. Macro-averaged metrics give equal weight to each class, while micro-averaged metrics give more weight to larger classes.\n",
        "\n",
        "6. **Weighted Metrics:** Weighted metrics are similar to macro-averaged metrics but take class imbalance into account by weighting the metrics based on the number of instances in each class. It provides a more representative evaluation for **imbalanced datasets.**"
      ],
      "metadata": {
        "id": "-GUsTJK9VAfM"
      }
    },
    {
      "cell_type": "markdown",
      "source": [
        "SVM and random forest classifier are doing well in classying data points with weighted F1 score of 0.90 followed by Xgboost having weighted F1 score of 0.87 .\n",
        "Naive bayes and Logistic regression also do well in seperating data with a weighted F1 score  of 0.77 and 0.86 respectively. Since, this is a multiclass problem with class imbalance, I have looked at weighted F1 score."
      ],
      "metadata": {
        "id": "nRhnG7csqF26"
      }
    },
    {
      "cell_type": "markdown",
      "source": [
        "#**BERT:**"
      ],
      "metadata": {
        "id": "t9ANZta0dp4A"
      }
    },
    {
      "cell_type": "code",
      "execution_count": null,
      "metadata": {
        "colab": {
          "base_uri": "https://localhost:8080/"
        },
        "id": "n1cLmIo-2Zua",
        "outputId": "b0b6b352-c6e3-4f33-e0ed-07a0c16578a1"
      },
      "outputs": [
        {
          "output_type": "stream",
          "name": "stdout",
          "text": [
            "Looking in indexes: https://pypi.org/simple, https://us-python.pkg.dev/colab-wheels/public/simple/\n",
            "Collecting transformers\n",
            "  Downloading transformers-4.30.2-py3-none-any.whl (7.2 MB)\n",
            "\u001b[2K     \u001b[90m━━━━━━━━━━━━━━━━━━━━━━━━━━━━━━━━━━━━━━━━\u001b[0m \u001b[32m7.2/7.2 MB\u001b[0m \u001b[31m96.4 MB/s\u001b[0m eta \u001b[36m0:00:00\u001b[0m\n",
            "\u001b[?25hRequirement already satisfied: filelock in /usr/local/lib/python3.10/dist-packages (from transformers) (3.12.0)\n",
            "Collecting huggingface-hub<1.0,>=0.14.1 (from transformers)\n",
            "  Downloading huggingface_hub-0.15.1-py3-none-any.whl (236 kB)\n",
            "\u001b[2K     \u001b[90m━━━━━━━━━━━━━━━━━━━━━━━━━━━━━━━━━━━━━━\u001b[0m \u001b[32m236.8/236.8 kB\u001b[0m \u001b[31m27.3 MB/s\u001b[0m eta \u001b[36m0:00:00\u001b[0m\n",
            "\u001b[?25hRequirement already satisfied: numpy>=1.17 in /usr/local/lib/python3.10/dist-packages (from transformers) (1.22.4)\n",
            "Requirement already satisfied: packaging>=20.0 in /usr/local/lib/python3.10/dist-packages (from transformers) (23.1)\n",
            "Requirement already satisfied: pyyaml>=5.1 in /usr/local/lib/python3.10/dist-packages (from transformers) (6.0)\n",
            "Requirement already satisfied: regex!=2019.12.17 in /usr/local/lib/python3.10/dist-packages (from transformers) (2022.10.31)\n",
            "Requirement already satisfied: requests in /usr/local/lib/python3.10/dist-packages (from transformers) (2.27.1)\n",
            "Collecting tokenizers!=0.11.3,<0.14,>=0.11.1 (from transformers)\n",
            "  Downloading tokenizers-0.13.3-cp310-cp310-manylinux_2_17_x86_64.manylinux2014_x86_64.whl (7.8 MB)\n",
            "\u001b[2K     \u001b[90m━━━━━━━━━━━━━━━━━━━━━━━━━━━━━━━━━━━━━━━━\u001b[0m \u001b[32m7.8/7.8 MB\u001b[0m \u001b[31m77.3 MB/s\u001b[0m eta \u001b[36m0:00:00\u001b[0m\n",
            "\u001b[?25hCollecting safetensors>=0.3.1 (from transformers)\n",
            "  Downloading safetensors-0.3.1-cp310-cp310-manylinux_2_17_x86_64.manylinux2014_x86_64.whl (1.3 MB)\n",
            "\u001b[2K     \u001b[90m━━━━━━━━━━━━━━━━━━━━━━━━━━━━━━━━━━━━━━━━\u001b[0m \u001b[32m1.3/1.3 MB\u001b[0m \u001b[31m91.2 MB/s\u001b[0m eta \u001b[36m0:00:00\u001b[0m\n",
            "\u001b[?25hRequirement already satisfied: tqdm>=4.27 in /usr/local/lib/python3.10/dist-packages (from transformers) (4.65.0)\n",
            "Requirement already satisfied: fsspec in /usr/local/lib/python3.10/dist-packages (from huggingface-hub<1.0,>=0.14.1->transformers) (2023.4.0)\n",
            "Requirement already satisfied: typing-extensions>=3.7.4.3 in /usr/local/lib/python3.10/dist-packages (from huggingface-hub<1.0,>=0.14.1->transformers) (4.5.0)\n",
            "Requirement already satisfied: urllib3<1.27,>=1.21.1 in /usr/local/lib/python3.10/dist-packages (from requests->transformers) (1.26.15)\n",
            "Requirement already satisfied: certifi>=2017.4.17 in /usr/local/lib/python3.10/dist-packages (from requests->transformers) (2022.12.7)\n",
            "Requirement already satisfied: charset-normalizer~=2.0.0 in /usr/local/lib/python3.10/dist-packages (from requests->transformers) (2.0.12)\n",
            "Requirement already satisfied: idna<4,>=2.5 in /usr/local/lib/python3.10/dist-packages (from requests->transformers) (3.4)\n",
            "Installing collected packages: tokenizers, safetensors, huggingface-hub, transformers\n",
            "Successfully installed huggingface-hub-0.15.1 safetensors-0.3.1 tokenizers-0.13.3 transformers-4.30.2\n"
          ]
        }
      ],
      "source": [
        "!pip install transformers"
      ]
    },
    {
      "cell_type": "code",
      "execution_count": null,
      "metadata": {
        "id": "RNdraS2s3CHO"
      },
      "outputs": [],
      "source": [
        "import tensorflow as tf\n",
        "from tqdm.auto import tqdm\n",
        "from transformers import BertTokenizer"
      ]
    },
    {
      "cell_type": "code",
      "execution_count": null,
      "metadata": {
        "colab": {
          "base_uri": "https://localhost:8080/",
          "height": 113,
          "referenced_widgets": [
            "85f93c4015f1408fb106c52bcfac92af",
            "5039621e01144dc2880b7089804c1ed8",
            "84ed4e6d73954f12b7784b662c499619",
            "9332a82aae3f4dc1827f8594884f8244",
            "72cbe578318f4613bc53ca409a943248",
            "3bbeb57a929b45cb97078f033ad5cf9d",
            "c680a68636d045d793a6746313e61b1a",
            "f26169a9ba5646199d61c994c28edb51",
            "a6ee7fa192d24487a71e487b44e79083",
            "c3f2c877209242c6b56273e1a6c7d605",
            "59f4286249d74322b16bce3ea9746f5b",
            "0b7a2f158ffd4e44b654a4be8e186da8",
            "aec046b023de435e958e8f832d1a3c5d",
            "b076f9cbe3664cafa62121d0db9c6165",
            "f08d9cb4fc7e418a84452e9bec22b580",
            "7b4d145b9a19495983e537a2e6ccba02",
            "e47882883b1047f48e5826ee4bff0036",
            "957e65065de14ac59f56667c7a4e7f59",
            "a4e974517b174a379ab45a589373c71f",
            "1be5efb29f7347e7bf28ff06e7344d83",
            "d3169c0a66484b73b678a66f5db0fb5a",
            "2229492b729140caac8d70999628f53b",
            "2a4659d6023740c0a3b2d746f6fc5f37",
            "8ae2dffab2e64ab29e4d6f9cfa1d9b03",
            "af2352000515485d87ef2a41f4fc7849",
            "3b42a1293d6748c080d71b1a6e1ea388",
            "ff1c614e31484dd1ac864b01c8f97c9d",
            "b6ada268fa41444cbb8b8d9ed30e932d",
            "bf3c8c031520443594155ee4c31f5fea",
            "823f501de183406d87559313d598b768",
            "667a258ce09649ab83753f7a7a8de703",
            "a45f3df9c7b4454886223286bddf6cb0",
            "0334dd8f20674937a452e660daf617d0"
          ]
        },
        "id": "vg9sq96H3V5W",
        "outputId": "577e0505-74cf-4146-bcce-df5a067b2fea"
      },
      "outputs": [
        {
          "output_type": "display_data",
          "data": {
            "text/plain": [
              "Downloading (…)solve/main/vocab.txt:   0%|          | 0.00/213k [00:00<?, ?B/s]"
            ],
            "application/vnd.jupyter.widget-view+json": {
              "version_major": 2,
              "version_minor": 0,
              "model_id": "85f93c4015f1408fb106c52bcfac92af"
            }
          },
          "metadata": {}
        },
        {
          "output_type": "display_data",
          "data": {
            "text/plain": [
              "Downloading (…)okenizer_config.json:   0%|          | 0.00/29.0 [00:00<?, ?B/s]"
            ],
            "application/vnd.jupyter.widget-view+json": {
              "version_major": 2,
              "version_minor": 0,
              "model_id": "0b7a2f158ffd4e44b654a4be8e186da8"
            }
          },
          "metadata": {}
        },
        {
          "output_type": "display_data",
          "data": {
            "text/plain": [
              "Downloading (…)lve/main/config.json:   0%|          | 0.00/570 [00:00<?, ?B/s]"
            ],
            "application/vnd.jupyter.widget-view+json": {
              "version_major": 2,
              "version_minor": 0,
              "model_id": "2a4659d6023740c0a3b2d746f6fc5f37"
            }
          },
          "metadata": {}
        }
      ],
      "source": [
        "# Tokenizing text\n",
        "tokenizer=BertTokenizer.from_pretrained('bert-base-cased')"
      ]
    },
    {
      "cell_type": "code",
      "execution_count": null,
      "metadata": {
        "id": "6w1ar_l83XME"
      },
      "outputs": [],
      "source": [
        "token=tokenizer.encode_plus(df_new['clean'].iloc[10],max_length=256,truncation=True,padding='max_length',add_special_tokens=True,return_tensors='tf')"
      ]
    },
    {
      "cell_type": "code",
      "execution_count": null,
      "metadata": {
        "colab": {
          "base_uri": "https://localhost:8080/",
          "height": 35
        },
        "id": "BSYR0lJW4cCS",
        "outputId": "2567c3e5-fd30-4df6-9c6e-bbc8b3abd5bc"
      },
      "outputs": [
        {
          "output_type": "execute_result",
          "data": {
            "text/plain": [
              "'upi madhuloka liquor bou bharatpe yesbankltd yesb pay amblipura ref'"
            ],
            "application/vnd.google.colaboratory.intrinsic+json": {
              "type": "string"
            }
          },
          "metadata": {},
          "execution_count": 23
        }
      ],
      "source": [
        "df_new['clean'].iloc[10]"
      ]
    },
    {
      "cell_type": "code",
      "execution_count": null,
      "metadata": {
        "colab": {
          "base_uri": "https://localhost:8080/"
        },
        "id": "cXj2p4jx4e_Z",
        "outputId": "176dd604-d006-40a1-878a-578881c5b9ea"
      },
      "outputs": [
        {
          "output_type": "execute_result",
          "data": {
            "text/plain": [
              "{'input_ids': <tf.Tensor: shape=(1, 256), dtype=int32, numpy=\n",
              "array([[  101,  1146,  1182,  6340, 24287,  9865, 15043,   171,  6094,\n",
              "          171, 10131,  1204,  3186,  4208,  8607,  6066,  1181,  4208,\n",
              "         1830,  2653,  1821,  1830, 10913,  4084,  1231,  2087,   102,\n",
              "            0,     0,     0,     0,     0,     0,     0,     0,     0,\n",
              "            0,     0,     0,     0,     0,     0,     0,     0,     0,\n",
              "            0,     0,     0,     0,     0,     0,     0,     0,     0,\n",
              "            0,     0,     0,     0,     0,     0,     0,     0,     0,\n",
              "            0,     0,     0,     0,     0,     0,     0,     0,     0,\n",
              "            0,     0,     0,     0,     0,     0,     0,     0,     0,\n",
              "            0,     0,     0,     0,     0,     0,     0,     0,     0,\n",
              "            0,     0,     0,     0,     0,     0,     0,     0,     0,\n",
              "            0,     0,     0,     0,     0,     0,     0,     0,     0,\n",
              "            0,     0,     0,     0,     0,     0,     0,     0,     0,\n",
              "            0,     0,     0,     0,     0,     0,     0,     0,     0,\n",
              "            0,     0,     0,     0,     0,     0,     0,     0,     0,\n",
              "            0,     0,     0,     0,     0,     0,     0,     0,     0,\n",
              "            0,     0,     0,     0,     0,     0,     0,     0,     0,\n",
              "            0,     0,     0,     0,     0,     0,     0,     0,     0,\n",
              "            0,     0,     0,     0,     0,     0,     0,     0,     0,\n",
              "            0,     0,     0,     0,     0,     0,     0,     0,     0,\n",
              "            0,     0,     0,     0,     0,     0,     0,     0,     0,\n",
              "            0,     0,     0,     0,     0,     0,     0,     0,     0,\n",
              "            0,     0,     0,     0,     0,     0,     0,     0,     0,\n",
              "            0,     0,     0,     0,     0,     0,     0,     0,     0,\n",
              "            0,     0,     0,     0,     0,     0,     0,     0,     0,\n",
              "            0,     0,     0,     0,     0,     0,     0,     0,     0,\n",
              "            0,     0,     0,     0,     0,     0,     0,     0,     0,\n",
              "            0,     0,     0,     0,     0,     0,     0,     0,     0,\n",
              "            0,     0,     0,     0]], dtype=int32)>, 'token_type_ids': <tf.Tensor: shape=(1, 256), dtype=int32, numpy=\n",
              "array([[0, 0, 0, 0, 0, 0, 0, 0, 0, 0, 0, 0, 0, 0, 0, 0, 0, 0, 0, 0, 0, 0,\n",
              "        0, 0, 0, 0, 0, 0, 0, 0, 0, 0, 0, 0, 0, 0, 0, 0, 0, 0, 0, 0, 0, 0,\n",
              "        0, 0, 0, 0, 0, 0, 0, 0, 0, 0, 0, 0, 0, 0, 0, 0, 0, 0, 0, 0, 0, 0,\n",
              "        0, 0, 0, 0, 0, 0, 0, 0, 0, 0, 0, 0, 0, 0, 0, 0, 0, 0, 0, 0, 0, 0,\n",
              "        0, 0, 0, 0, 0, 0, 0, 0, 0, 0, 0, 0, 0, 0, 0, 0, 0, 0, 0, 0, 0, 0,\n",
              "        0, 0, 0, 0, 0, 0, 0, 0, 0, 0, 0, 0, 0, 0, 0, 0, 0, 0, 0, 0, 0, 0,\n",
              "        0, 0, 0, 0, 0, 0, 0, 0, 0, 0, 0, 0, 0, 0, 0, 0, 0, 0, 0, 0, 0, 0,\n",
              "        0, 0, 0, 0, 0, 0, 0, 0, 0, 0, 0, 0, 0, 0, 0, 0, 0, 0, 0, 0, 0, 0,\n",
              "        0, 0, 0, 0, 0, 0, 0, 0, 0, 0, 0, 0, 0, 0, 0, 0, 0, 0, 0, 0, 0, 0,\n",
              "        0, 0, 0, 0, 0, 0, 0, 0, 0, 0, 0, 0, 0, 0, 0, 0, 0, 0, 0, 0, 0, 0,\n",
              "        0, 0, 0, 0, 0, 0, 0, 0, 0, 0, 0, 0, 0, 0, 0, 0, 0, 0, 0, 0, 0, 0,\n",
              "        0, 0, 0, 0, 0, 0, 0, 0, 0, 0, 0, 0, 0, 0]], dtype=int32)>, 'attention_mask': <tf.Tensor: shape=(1, 256), dtype=int32, numpy=\n",
              "array([[1, 1, 1, 1, 1, 1, 1, 1, 1, 1, 1, 1, 1, 1, 1, 1, 1, 1, 1, 1, 1, 1,\n",
              "        1, 1, 1, 1, 1, 0, 0, 0, 0, 0, 0, 0, 0, 0, 0, 0, 0, 0, 0, 0, 0, 0,\n",
              "        0, 0, 0, 0, 0, 0, 0, 0, 0, 0, 0, 0, 0, 0, 0, 0, 0, 0, 0, 0, 0, 0,\n",
              "        0, 0, 0, 0, 0, 0, 0, 0, 0, 0, 0, 0, 0, 0, 0, 0, 0, 0, 0, 0, 0, 0,\n",
              "        0, 0, 0, 0, 0, 0, 0, 0, 0, 0, 0, 0, 0, 0, 0, 0, 0, 0, 0, 0, 0, 0,\n",
              "        0, 0, 0, 0, 0, 0, 0, 0, 0, 0, 0, 0, 0, 0, 0, 0, 0, 0, 0, 0, 0, 0,\n",
              "        0, 0, 0, 0, 0, 0, 0, 0, 0, 0, 0, 0, 0, 0, 0, 0, 0, 0, 0, 0, 0, 0,\n",
              "        0, 0, 0, 0, 0, 0, 0, 0, 0, 0, 0, 0, 0, 0, 0, 0, 0, 0, 0, 0, 0, 0,\n",
              "        0, 0, 0, 0, 0, 0, 0, 0, 0, 0, 0, 0, 0, 0, 0, 0, 0, 0, 0, 0, 0, 0,\n",
              "        0, 0, 0, 0, 0, 0, 0, 0, 0, 0, 0, 0, 0, 0, 0, 0, 0, 0, 0, 0, 0, 0,\n",
              "        0, 0, 0, 0, 0, 0, 0, 0, 0, 0, 0, 0, 0, 0, 0, 0, 0, 0, 0, 0, 0, 0,\n",
              "        0, 0, 0, 0, 0, 0, 0, 0, 0, 0, 0, 0, 0, 0]], dtype=int32)>}"
            ]
          },
          "metadata": {},
          "execution_count": 24
        }
      ],
      "source": [
        "token"
      ]
    },
    {
      "cell_type": "code",
      "execution_count": null,
      "metadata": {
        "id": "byiI0gIV6Eb8"
      },
      "outputs": [],
      "source": [
        "x_input_ids=np.zeros((len(df_new),256))\n",
        "x_attention_masks=np.zeros((len(df_new),256))"
      ]
    },
    {
      "cell_type": "code",
      "execution_count": null,
      "metadata": {
        "id": "EQgm0ex46LIz"
      },
      "outputs": [],
      "source": [
        "#Function to genrate train dataset\n",
        "def generate_training_data(df,ids,masks,tokenizer):\n",
        "  for i,text in tqdm(enumerate(df['clean'])):\n",
        "    tokenized_text=tokenizer.encode_plus(text,max_length=256,truncation=True,padding='max_length',add_special_tokens=True,return_tensors='tf')\n",
        "\n",
        "    ids[i,:]=tokenized_text.input_ids\n",
        "    masks[i,:]=tokenized_text.attention_mask\n",
        "  return ids,masks"
      ]
    },
    {
      "cell_type": "code",
      "execution_count": null,
      "metadata": {
        "colab": {
          "base_uri": "https://localhost:8080/",
          "height": 49,
          "referenced_widgets": [
            "f7c60999ac554f55a5ac8ac96012ed20",
            "d1246fd5dc034bb5888c0509f5ac8b3d",
            "5fe78f320b6c44e9ae4b7425b3ea90da",
            "36a253a4f8ee428faa6ad2357357ffdc",
            "3642873c715649b6975ebabf72c8b914",
            "3936142104184d309c8062113ade2ead",
            "05ae9d34f59542b191dfad81c419c649",
            "e5d2b5419456428bb4823d040a9fcc30",
            "fddf09d6bc454965833e56ca7e9adafb",
            "211eb473de864b229e3b30423840bdad",
            "a6c5c28b0d9540d3903b08383dbab62d"
          ]
        },
        "id": "deWM5cXv6qOK",
        "outputId": "96c5d422-9374-46d2-ee71-e6a03198ef9a"
      },
      "outputs": [
        {
          "output_type": "display_data",
          "data": {
            "text/plain": [
              "0it [00:00, ?it/s]"
            ],
            "application/vnd.jupyter.widget-view+json": {
              "version_major": 2,
              "version_minor": 0,
              "model_id": "f7c60999ac554f55a5ac8ac96012ed20"
            }
          },
          "metadata": {}
        }
      ],
      "source": [
        "#Using the generate training data function\n",
        "X_input_ids,X_attn_masks=generate_training_data(df_new,x_input_ids,x_attention_masks,tokenizer)"
      ]
    },
    {
      "cell_type": "code",
      "execution_count": null,
      "metadata": {
        "colab": {
          "base_uri": "https://localhost:8080/"
        },
        "id": "gJvzJxe7AQhP",
        "outputId": "80660059-a54a-46c5-c99d-6a96961e8e00"
      },
      "outputs": [
        {
          "output_type": "execute_result",
          "data": {
            "text/plain": [
              "array([    0,     1,     2, ..., 21294, 21295, 21296])"
            ]
          },
          "metadata": {},
          "execution_count": 28
        }
      ],
      "source": [
        "np.arange(len(df_new))"
      ]
    },
    {
      "cell_type": "code",
      "execution_count": null,
      "metadata": {
        "id": "jvuZacXkBv7S"
      },
      "outputs": [],
      "source": [
        "# Creating labels array\n",
        "labels=np.zeros((len(df_new),11))\n",
        "labels[np.arange(len(df_new)),df_new['Labels'].values]=1 # one-hot encoded target tensor"
      ]
    },
    {
      "cell_type": "code",
      "execution_count": null,
      "metadata": {
        "colab": {
          "base_uri": "https://localhost:8080/"
        },
        "id": "pRlMMBTyDqBY",
        "outputId": "87d9e48c-77b1-4178-99cd-77eb84c93b4e"
      },
      "outputs": [
        {
          "output_type": "execute_result",
          "data": {
            "text/plain": [
              "array([[0., 0., 0., ..., 1., 0., 0.],\n",
              "       [0., 0., 0., ..., 1., 0., 0.],\n",
              "       [0., 0., 0., ..., 1., 0., 0.],\n",
              "       ...,\n",
              "       [0., 0., 1., ..., 0., 0., 0.],\n",
              "       [0., 0., 1., ..., 0., 0., 0.],\n",
              "       [0., 0., 1., ..., 0., 0., 0.]])"
            ]
          },
          "metadata": {},
          "execution_count": 30
        }
      ],
      "source": [
        "labels"
      ]
    },
    {
      "cell_type": "code",
      "execution_count": null,
      "metadata": {
        "id": "C-JWgZj_E44i"
      },
      "outputs": [],
      "source": [
        "dataset=tf.data.Dataset.from_tensor_slices((X_input_ids,x_attention_masks,labels))"
      ]
    },
    {
      "cell_type": "code",
      "execution_count": null,
      "metadata": {
        "colab": {
          "base_uri": "https://localhost:8080/"
        },
        "id": "0JmUonWTFWUK",
        "outputId": "8a519589-3cd0-49d8-df41-5444d7c1a3ff"
      },
      "outputs": [
        {
          "output_type": "execute_result",
          "data": {
            "text/plain": [
              "<_TensorSliceDataset element_spec=(TensorSpec(shape=(256,), dtype=tf.float64, name=None), TensorSpec(shape=(256,), dtype=tf.float64, name=None), TensorSpec(shape=(11,), dtype=tf.float64, name=None))>"
            ]
          },
          "metadata": {},
          "execution_count": 32
        }
      ],
      "source": [
        "dataset"
      ]
    },
    {
      "cell_type": "code",
      "execution_count": null,
      "metadata": {
        "id": "k2Z-suwrFwkH"
      },
      "outputs": [],
      "source": [
        "def DatasetMap(input_ids,attn_masks,labels):\n",
        "  return{\n",
        "      'input_ids': input_ids,\n",
        "      'attention_mask':attn_masks\n",
        "  },labels\n"
      ]
    },
    {
      "cell_type": "code",
      "execution_count": null,
      "metadata": {
        "id": "fzjw9lOgGFQF"
      },
      "outputs": [],
      "source": [
        "dataset=dataset.map(DatasetMap)  # converting to required format for tensorflow dataset"
      ]
    },
    {
      "cell_type": "code",
      "execution_count": null,
      "metadata": {
        "id": "iyIm9jVIGLc8"
      },
      "outputs": [],
      "source": [
        "dataset=dataset.shuffle(5000).batch(16,drop_remainder=True)  # batch size, drop any left out tensor"
      ]
    },
    {
      "cell_type": "code",
      "execution_count": null,
      "metadata": {
        "id": "P1yxOkBWGS9K"
      },
      "outputs": [],
      "source": [
        "#train_data 80%\n",
        "p=0.8\n",
        "train_size=int((len(df_new)//16)*p)  # for each 16 batch of data we will have len(df)//16 samples, take 80% of that for train."
      ]
    },
    {
      "cell_type": "code",
      "execution_count": null,
      "metadata": {
        "id": "EeYjWtkLGeZ9"
      },
      "outputs": [],
      "source": [
        "train=dataset.take(train_size)\n",
        "val=dataset.skip(train_size)"
      ]
    },
    {
      "cell_type": "code",
      "execution_count": null,
      "metadata": {
        "id": "QwX0ESYIG2hC"
      },
      "outputs": [],
      "source": [
        "from transformers import TFBertModel"
      ]
    },
    {
      "cell_type": "code",
      "execution_count": null,
      "metadata": {
        "colab": {
          "base_uri": "https://localhost:8080/",
          "height": 156,
          "referenced_widgets": [
            "cae57cb69400425ca4e71d70cb3ea224",
            "2a2c19c795b3444b8b25dd02d8e106a6",
            "b0f544a20de147b282b1ec84fb49cf3a",
            "d4eaf5d13b014abfb07dd1fb29937bb6",
            "e2ad1fd2100f48dea4d33b2e5b757fc0",
            "ec620b16b0984565994b3142a6e906d5",
            "6fd676a4349d45a7a658473574920cad",
            "0ba73f81b63e4c88ad4d85fe0ceac9b0",
            "07cef981948d4d2ba8b04ca587c0c8e4",
            "84ef556bb33b47e59d576f0557d669d5",
            "a3c0288a1c6a4017bd37cfda7383aa2e"
          ]
        },
        "id": "m4MIYR7kHCQy",
        "outputId": "cc7d4939-0798-41e2-f0df-4f27966526af"
      },
      "outputs": [
        {
          "output_type": "display_data",
          "data": {
            "text/plain": [
              "Downloading model.safetensors:   0%|          | 0.00/436M [00:00<?, ?B/s]"
            ],
            "application/vnd.jupyter.widget-view+json": {
              "version_major": 2,
              "version_minor": 0,
              "model_id": "cae57cb69400425ca4e71d70cb3ea224"
            }
          },
          "metadata": {}
        },
        {
          "output_type": "stream",
          "name": "stderr",
          "text": [
            "Some weights of the PyTorch model were not used when initializing the TF 2.0 model TFBertModel: ['cls.predictions.transform.dense.bias', 'cls.predictions.transform.LayerNorm.bias', 'cls.seq_relationship.bias', 'cls.seq_relationship.weight', 'cls.predictions.transform.dense.weight', 'cls.predictions.bias', 'cls.predictions.transform.LayerNorm.weight']\n",
            "- This IS expected if you are initializing TFBertModel from a PyTorch model trained on another task or with another architecture (e.g. initializing a TFBertForSequenceClassification model from a BertForPreTraining model).\n",
            "- This IS NOT expected if you are initializing TFBertModel from a PyTorch model that you expect to be exactly identical (e.g. initializing a TFBertForSequenceClassification model from a BertForSequenceClassification model).\n",
            "All the weights of TFBertModel were initialized from the PyTorch model.\n",
            "If your task is similar to the task the model of the checkpoint was trained on, you can already use TFBertModel for predictions without further training.\n"
          ]
        }
      ],
      "source": [
        "model=TFBertModel.from_pretrained('bert-base-cased')"
      ]
    },
    {
      "cell_type": "code",
      "source": [
        "# defining 2 input layers for input_ids and attn_masks\n",
        "input_ids = tf.keras.layers.Input(shape=(256,), name='input_ids', dtype='int32')\n",
        "attn_masks = tf.keras.layers.Input(shape=(256,), name='attention_mask', dtype='int32')\n",
        "\n",
        "bert_embds = model.bert(input_ids, attention_mask=attn_masks)[1] # 0 -> activation layer (3D), 1 -> pooled output layer (2D)\n",
        "intermediate_layer = tf.keras.layers.Dense(512, activation='relu', name='intermediate_layer')(bert_embds)\n",
        "output_layer = tf.keras.layers.Dense(11, activation='softmax', name='output_layer')(intermediate_layer) # softmax -> calcs probs of classes\n",
        "\n",
        "sentiment_model = tf.keras.Model(inputs=[input_ids, attn_masks], outputs=output_layer)\n",
        "sentiment_model.summary()\n"
      ],
      "metadata": {
        "colab": {
          "base_uri": "https://localhost:8080/"
        },
        "id": "ipdE06doXrMy",
        "outputId": "bf437387-8b1d-434c-fa76-b50642e8b624"
      },
      "execution_count": null,
      "outputs": [
        {
          "output_type": "stream",
          "name": "stdout",
          "text": [
            "Model: \"model\"\n",
            "__________________________________________________________________________________________________\n",
            " Layer (type)                   Output Shape         Param #     Connected to                     \n",
            "==================================================================================================\n",
            " input_ids (InputLayer)         [(None, 256)]        0           []                               \n",
            "                                                                                                  \n",
            " attention_mask (InputLayer)    [(None, 256)]        0           []                               \n",
            "                                                                                                  \n",
            " bert (TFBertMainLayer)         TFBaseModelOutputWi  108310272   ['input_ids[0][0]',              \n",
            "                                thPoolingAndCrossAt               'attention_mask[0][0]']         \n",
            "                                tentions(last_hidde                                               \n",
            "                                n_state=(None, 256,                                               \n",
            "                                 768),                                                            \n",
            "                                 pooler_output=(Non                                               \n",
            "                                e, 768),                                                          \n",
            "                                 past_key_values=No                                               \n",
            "                                ne, hidden_states=N                                               \n",
            "                                one, attentions=Non                                               \n",
            "                                e, cross_attentions                                               \n",
            "                                =None)                                                            \n",
            "                                                                                                  \n",
            " intermediate_layer (Dense)     (None, 512)          393728      ['bert[0][1]']                   \n",
            "                                                                                                  \n",
            " output_layer (Dense)           (None, 11)           5643        ['intermediate_layer[0][0]']     \n",
            "                                                                                                  \n",
            "==================================================================================================\n",
            "Total params: 108,709,643\n",
            "Trainable params: 108,709,643\n",
            "Non-trainable params: 0\n",
            "__________________________________________________________________________________________________\n"
          ]
        }
      ]
    },
    {
      "cell_type": "code",
      "source": [
        "optim = tf.keras.optimizers.Adam(learning_rate=1e-5)\n",
        "loss_func = tf.keras.losses.CategoricalCrossentropy()\n",
        "acc = tf.keras.metrics.CategoricalAccuracy('accuracy')\n"
      ],
      "metadata": {
        "id": "c5l0Or5CaAXO"
      },
      "execution_count": null,
      "outputs": []
    },
    {
      "cell_type": "code",
      "source": [
        "sentiment_model.compile(optimizer=optim, loss=loss_func, metrics=[acc])"
      ],
      "metadata": {
        "id": "lpWGt773aJ_j"
      },
      "execution_count": null,
      "outputs": []
    },
    {
      "cell_type": "code",
      "source": [
        "# Training and validation\n",
        "hist=sentiment_model.fit(train,validation_data=val,batch_size=512,epochs=5)"
      ],
      "metadata": {
        "colab": {
          "base_uri": "https://localhost:8080/"
        },
        "id": "SRwMJzqZalkn",
        "outputId": "0ea2534f-9d85-4cad-a0d4-130b50f17901"
      },
      "execution_count": null,
      "outputs": [
        {
          "output_type": "stream",
          "name": "stdout",
          "text": [
            "Epoch 1/5\n",
            "1064/1064 [==============================] - 930s 874ms/step - loss: 0.6456 - accuracy: 0.8077 - val_loss: 0.2130 - val_accuracy: 0.9422\n",
            "Epoch 2/5\n",
            "1064/1064 [==============================] - 926s 870ms/step - loss: 0.3493 - accuracy: 0.9008 - val_loss: 0.1494 - val_accuracy: 0.9567\n",
            "Epoch 3/5\n",
            "1064/1064 [==============================] - 925s 869ms/step - loss: 0.2481 - accuracy: 0.9249 - val_loss: 0.1231 - val_accuracy: 0.9625\n",
            "Epoch 4/5\n",
            "1064/1064 [==============================] - 925s 870ms/step - loss: 0.1899 - accuracy: 0.9417 - val_loss: 0.0859 - val_accuracy: 0.9747\n",
            "Epoch 5/5\n",
            "1064/1064 [==============================] - 924s 869ms/step - loss: 0.1577 - accuracy: 0.9485 - val_loss: 0.0897 - val_accuracy: 0.9738\n"
          ]
        }
      ]
    },
    {
      "cell_type": "code",
      "source": [
        "sentiment_model.save('sentiment_model')\n"
      ],
      "metadata": {
        "colab": {
          "base_uri": "https://localhost:8080/"
        },
        "id": "bLreDYaBTJwu",
        "outputId": "eb04cce2-369a-487b-ab3f-155fd594a3a1"
      },
      "execution_count": null,
      "outputs": [
        {
          "output_type": "stream",
          "name": "stderr",
          "text": [
            "WARNING:absl:Found untraced functions such as embeddings_layer_call_fn, embeddings_layer_call_and_return_conditional_losses, encoder_layer_call_fn, encoder_layer_call_and_return_conditional_losses, pooler_layer_call_fn while saving (showing 5 of 420). These functions will not be directly callable after loading.\n"
          ]
        }
      ]
    },
    {
      "cell_type": "code",
      "source": [
        "print(*df_new['Category'].unique().tolist(),sep=',')"
      ],
      "metadata": {
        "colab": {
          "base_uri": "https://localhost:8080/"
        },
        "id": "R4kt_vkHT3YV",
        "outputId": "122a3146-fab0-42ba-8848-6c48d50c4430"
      },
      "execution_count": null,
      "outputs": [
        {
          "output_type": "stream",
          "name": "stdout",
          "text": [
            "Travel,Food,Shopping,Payments,Credit,Education,Entertainment,Investment,Healthcare,Others,Fund Transfer\n"
          ]
        }
      ]
    },
    {
      "cell_type": "code",
      "source": [
        "\n",
        "sentiment_model = tf.keras.models.load_model('sentiment_model')\n",
        "\n",
        "tokenizer = BertTokenizer.from_pretrained('bert-base-cased')\n",
        "\n",
        "def prepare_data(input_text, tokenizer):\n",
        "    token = tokenizer.encode_plus(\n",
        "        input_text,\n",
        "        max_length=256,\n",
        "        truncation=True,\n",
        "        padding='max_length',\n",
        "        add_special_tokens=True,\n",
        "        return_tensors='tf'\n",
        "    )\n",
        "    return {\n",
        "        'input_ids': tf.cast(token.input_ids, tf.float64),\n",
        "        'attention_mask': tf.cast(token.attention_mask, tf.float64)\n",
        "    }\n",
        "\n",
        "def make_prediction(model, processed_data, classes=['Travel','Food','Shopping','Payments','Credit','Education','Entertainment','Investment','Healthcare','Others','Fund Transfer']):\n",
        "    probs = model.predict(processed_data)[0]\n",
        "    return classes[np.argmax(probs)]"
      ],
      "metadata": {
        "id": "KCBsoo8oTnj_"
      },
      "execution_count": null,
      "outputs": []
    },
    {
      "cell_type": "code",
      "source": [
        "input_text = input('Enter Description here: ')\n",
        "processed_data = prepare_data(input_text, tokenizer)\n",
        "result = make_prediction(sentiment_model, processed_data=processed_data)\n",
        "print(f\"Predicted Categery: {result}\")"
      ],
      "metadata": {
        "colab": {
          "base_uri": "https://localhost:8080/"
        },
        "id": "Xu7-2I2nUa_L",
        "outputId": "260e057e-38fb-45d9-adc5-97273becc891"
      },
      "execution_count": null,
      "outputs": [
        {
          "output_type": "stream",
          "name": "stdout",
          "text": [
            "Enter Description here: fuel payment petrol pump upi\n",
            "1/1 [==============================] - 0s 87ms/step\n",
            "Predicted Categery: Travel\n"
          ]
        }
      ]
    },
    {
      "cell_type": "code",
      "source": [
        "input_text = input('Enter Description here: ')\n",
        "processed_data = prepare_data(input_text, tokenizer)\n",
        "result = make_prediction(sentiment_model, processed_data=processed_data)\n",
        "print(f\"Predicted Categery: {result}\")"
      ],
      "metadata": {
        "colab": {
          "base_uri": "https://localhost:8080/"
        },
        "id": "rmjpd55Qssc5",
        "outputId": "0bd1fdfd-fb8d-4689-efaf-75ab5d1c253b"
      },
      "execution_count": null,
      "outputs": [
        {
          "output_type": "stream",
          "name": "stdout",
          "text": [
            "Enter Description here: hotel booking oyo\n",
            "1/1 [==============================] - 0s 67ms/step\n",
            "Predicted Categery: Travel\n"
          ]
        }
      ]
    },
    {
      "cell_type": "markdown",
      "source": [
        "**Pros of traditional ML models (SVM and Random Forest) over BERT for text classification tasks:**\n",
        "\n",
        "1. Computationally Efficient: Traditional ML models like SVM and Random Forest typically require less computational resources compared to deep learning models like BERT. This makes them more suitable for environments with limited computing capabilities or when working with large datasets.\n",
        "\n",
        "2. Interpretable: SVM and Random Forest models offer better interpretability compared to BERT. These models provide insights into feature importance, making it easier to understand how specific features contribute to the classification decision. This interpretability can be valuable in scenarios where explainability is crucial.\n",
        "\n",
        "3. Feature Engineering Flexibility: Traditional ML models allow for more explicit feature engineering. You have control over selecting and engineering features that you believe are relevant to the task at hand. This can be advantageous when domain-specific knowledge or specific feature representations are important.\n",
        "\n",
        "4. Handling Noisy Data: Traditional ML models can handle noisy or imperfect data more effectively. They are less sensitive to noise or outliers in the training data compared to deep learning models, which tend to be more prone to overfitting when presented with noisy data.\n",
        "\n",
        "**Cons of traditional ML models (SVM and Random Forest) compared to BERT for text classification tasks:**\n",
        "\n",
        "1. Lack of Contextual Understanding: Traditional ML models do not inherently capture contextual information and semantic relationships between words in the same way as BERT does. They rely heavily on engineered features and may struggle with tasks that require a deeper understanding of language context.\n",
        "\n",
        "2. Limited Performance on Complex Tasks: BERT has shown superior performance in a wide range of NLP tasks, particularly those involving complex language patterns, semantic understanding, and contextual dependencies. Traditional ML models like SVM and Random Forest may struggle to match the performance of BERT on such tasks.\n",
        "\n",
        "3. Handling Out-of-Vocabulary Words: BERT has the ability to handle out-of-vocabulary words by leveraging its pretraining on vast amounts of text data. Traditional ML models typically require pre-processing steps like tokenization and dealing with out-of-vocabulary words explicitly, which can be more challenging.\n",
        "\n",
        "4. Data Size and Training Requirements: BERT typically requires a large amount of training data and more computational resources for both pretraining and fine-tuning. In contrast, traditional ML models like SVM and Random Forest can work well with smaller datasets and require less data to achieve reasonable performance."
      ],
      "metadata": {
        "id": "ozGbD6rxeDC8"
      }
    },
    {
      "cell_type": "markdown",
      "source": [
        "**Pros of BERT:**\n",
        "1. BERT considers the context of words in a sentence, allowing it to understand the subtle meanings and nuances of language better than traditional ML algorithms that treat words as separate entities.\n",
        "\n",
        "2.  BERT is pretrained on a large amount of text data, which enables it to learn general language representations. It can then be fine-tuned for specific tasks with minimal task-specific labeled data. This makes BERT useful in scenarios where labeled data is limited or expensive to obtain.\n",
        "\n",
        "3. BERT can capture both local and global context of word, which enables it to understand the meaning and context of words and sentences more accurately.\n",
        "\n",
        "**Cons:**\n",
        "\n",
        "1. BERT is a complex model with a large number of parameters, which requires significant computational resources for training and inference. It can be computationally expensive and time-consuming to train and deploy, especially on resource-constrained systems.\n",
        "\n",
        "2.  BERT typically requires a large amount of pretraining data to learn robust language representations.\n",
        "\n",
        "3. BERT is a deep neural network model with complex internal representations, making it less interpretable than traditional ML algorithms.\n",
        "\n",
        "4. BERT models might not perform well on tasks with limited training data or when there are domain-specific language nuances not covered by the pretraining data.\n"
      ],
      "metadata": {
        "id": "i1QUxZiM09IT"
      }
    },
    {
      "cell_type": "markdown",
      "source": [
        "Considering their respective advantages and drawbacks, BERT generally proves to be more suitable for text classification tasks compared to SVM, especially when both models exhibit high accuracy and scalability. Empirical evidence indicates that BERT, with a 95% accuracy rate, outperforms SVM, which achieves an 90% accuracy rate. BERT's ability to leverage pretraining on extensive datasets allows it to effectively capture intricate language patterns and context. Furthermore, BERT can adapt well to various tasks through fine-tuning and handle out-of-vocabulary words. However, it is important to note that BERT requires more computational resources and training data in comparison to SVM. In situations where computational resources are limited, and the dataset size is small to medium, SVM can still be a suitable choice. However, it should be acknowledged that SVM may not capture complex language patterns as effectively as BERT."
      ],
      "metadata": {
        "id": "OxPgWYLdAXNQ"
      }
    }
  ],
  "metadata": {
    "colab": {
      "provenance": [],
      "gpuType": "T4",
      "include_colab_link": true
    },
    "kernelspec": {
      "display_name": "Python 3",
      "name": "python3"
    },
    "widgets": {
      "application/vnd.jupyter.widget-state+json": {
        "85f93c4015f1408fb106c52bcfac92af": {
          "model_module": "@jupyter-widgets/controls",
          "model_name": "HBoxModel",
          "model_module_version": "1.5.0",
          "state": {
            "_dom_classes": [],
            "_model_module": "@jupyter-widgets/controls",
            "_model_module_version": "1.5.0",
            "_model_name": "HBoxModel",
            "_view_count": null,
            "_view_module": "@jupyter-widgets/controls",
            "_view_module_version": "1.5.0",
            "_view_name": "HBoxView",
            "box_style": "",
            "children": [
              "IPY_MODEL_5039621e01144dc2880b7089804c1ed8",
              "IPY_MODEL_84ed4e6d73954f12b7784b662c499619",
              "IPY_MODEL_9332a82aae3f4dc1827f8594884f8244"
            ],
            "layout": "IPY_MODEL_72cbe578318f4613bc53ca409a943248"
          }
        },
        "5039621e01144dc2880b7089804c1ed8": {
          "model_module": "@jupyter-widgets/controls",
          "model_name": "HTMLModel",
          "model_module_version": "1.5.0",
          "state": {
            "_dom_classes": [],
            "_model_module": "@jupyter-widgets/controls",
            "_model_module_version": "1.5.0",
            "_model_name": "HTMLModel",
            "_view_count": null,
            "_view_module": "@jupyter-widgets/controls",
            "_view_module_version": "1.5.0",
            "_view_name": "HTMLView",
            "description": "",
            "description_tooltip": null,
            "layout": "IPY_MODEL_3bbeb57a929b45cb97078f033ad5cf9d",
            "placeholder": "​",
            "style": "IPY_MODEL_c680a68636d045d793a6746313e61b1a",
            "value": "Downloading (…)solve/main/vocab.txt: 100%"
          }
        },
        "84ed4e6d73954f12b7784b662c499619": {
          "model_module": "@jupyter-widgets/controls",
          "model_name": "FloatProgressModel",
          "model_module_version": "1.5.0",
          "state": {
            "_dom_classes": [],
            "_model_module": "@jupyter-widgets/controls",
            "_model_module_version": "1.5.0",
            "_model_name": "FloatProgressModel",
            "_view_count": null,
            "_view_module": "@jupyter-widgets/controls",
            "_view_module_version": "1.5.0",
            "_view_name": "ProgressView",
            "bar_style": "success",
            "description": "",
            "description_tooltip": null,
            "layout": "IPY_MODEL_f26169a9ba5646199d61c994c28edb51",
            "max": 213450,
            "min": 0,
            "orientation": "horizontal",
            "style": "IPY_MODEL_a6ee7fa192d24487a71e487b44e79083",
            "value": 213450
          }
        },
        "9332a82aae3f4dc1827f8594884f8244": {
          "model_module": "@jupyter-widgets/controls",
          "model_name": "HTMLModel",
          "model_module_version": "1.5.0",
          "state": {
            "_dom_classes": [],
            "_model_module": "@jupyter-widgets/controls",
            "_model_module_version": "1.5.0",
            "_model_name": "HTMLModel",
            "_view_count": null,
            "_view_module": "@jupyter-widgets/controls",
            "_view_module_version": "1.5.0",
            "_view_name": "HTMLView",
            "description": "",
            "description_tooltip": null,
            "layout": "IPY_MODEL_c3f2c877209242c6b56273e1a6c7d605",
            "placeholder": "​",
            "style": "IPY_MODEL_59f4286249d74322b16bce3ea9746f5b",
            "value": " 213k/213k [00:00&lt;00:00, 2.53MB/s]"
          }
        },
        "72cbe578318f4613bc53ca409a943248": {
          "model_module": "@jupyter-widgets/base",
          "model_name": "LayoutModel",
          "model_module_version": "1.2.0",
          "state": {
            "_model_module": "@jupyter-widgets/base",
            "_model_module_version": "1.2.0",
            "_model_name": "LayoutModel",
            "_view_count": null,
            "_view_module": "@jupyter-widgets/base",
            "_view_module_version": "1.2.0",
            "_view_name": "LayoutView",
            "align_content": null,
            "align_items": null,
            "align_self": null,
            "border": null,
            "bottom": null,
            "display": null,
            "flex": null,
            "flex_flow": null,
            "grid_area": null,
            "grid_auto_columns": null,
            "grid_auto_flow": null,
            "grid_auto_rows": null,
            "grid_column": null,
            "grid_gap": null,
            "grid_row": null,
            "grid_template_areas": null,
            "grid_template_columns": null,
            "grid_template_rows": null,
            "height": null,
            "justify_content": null,
            "justify_items": null,
            "left": null,
            "margin": null,
            "max_height": null,
            "max_width": null,
            "min_height": null,
            "min_width": null,
            "object_fit": null,
            "object_position": null,
            "order": null,
            "overflow": null,
            "overflow_x": null,
            "overflow_y": null,
            "padding": null,
            "right": null,
            "top": null,
            "visibility": null,
            "width": null
          }
        },
        "3bbeb57a929b45cb97078f033ad5cf9d": {
          "model_module": "@jupyter-widgets/base",
          "model_name": "LayoutModel",
          "model_module_version": "1.2.0",
          "state": {
            "_model_module": "@jupyter-widgets/base",
            "_model_module_version": "1.2.0",
            "_model_name": "LayoutModel",
            "_view_count": null,
            "_view_module": "@jupyter-widgets/base",
            "_view_module_version": "1.2.0",
            "_view_name": "LayoutView",
            "align_content": null,
            "align_items": null,
            "align_self": null,
            "border": null,
            "bottom": null,
            "display": null,
            "flex": null,
            "flex_flow": null,
            "grid_area": null,
            "grid_auto_columns": null,
            "grid_auto_flow": null,
            "grid_auto_rows": null,
            "grid_column": null,
            "grid_gap": null,
            "grid_row": null,
            "grid_template_areas": null,
            "grid_template_columns": null,
            "grid_template_rows": null,
            "height": null,
            "justify_content": null,
            "justify_items": null,
            "left": null,
            "margin": null,
            "max_height": null,
            "max_width": null,
            "min_height": null,
            "min_width": null,
            "object_fit": null,
            "object_position": null,
            "order": null,
            "overflow": null,
            "overflow_x": null,
            "overflow_y": null,
            "padding": null,
            "right": null,
            "top": null,
            "visibility": null,
            "width": null
          }
        },
        "c680a68636d045d793a6746313e61b1a": {
          "model_module": "@jupyter-widgets/controls",
          "model_name": "DescriptionStyleModel",
          "model_module_version": "1.5.0",
          "state": {
            "_model_module": "@jupyter-widgets/controls",
            "_model_module_version": "1.5.0",
            "_model_name": "DescriptionStyleModel",
            "_view_count": null,
            "_view_module": "@jupyter-widgets/base",
            "_view_module_version": "1.2.0",
            "_view_name": "StyleView",
            "description_width": ""
          }
        },
        "f26169a9ba5646199d61c994c28edb51": {
          "model_module": "@jupyter-widgets/base",
          "model_name": "LayoutModel",
          "model_module_version": "1.2.0",
          "state": {
            "_model_module": "@jupyter-widgets/base",
            "_model_module_version": "1.2.0",
            "_model_name": "LayoutModel",
            "_view_count": null,
            "_view_module": "@jupyter-widgets/base",
            "_view_module_version": "1.2.0",
            "_view_name": "LayoutView",
            "align_content": null,
            "align_items": null,
            "align_self": null,
            "border": null,
            "bottom": null,
            "display": null,
            "flex": null,
            "flex_flow": null,
            "grid_area": null,
            "grid_auto_columns": null,
            "grid_auto_flow": null,
            "grid_auto_rows": null,
            "grid_column": null,
            "grid_gap": null,
            "grid_row": null,
            "grid_template_areas": null,
            "grid_template_columns": null,
            "grid_template_rows": null,
            "height": null,
            "justify_content": null,
            "justify_items": null,
            "left": null,
            "margin": null,
            "max_height": null,
            "max_width": null,
            "min_height": null,
            "min_width": null,
            "object_fit": null,
            "object_position": null,
            "order": null,
            "overflow": null,
            "overflow_x": null,
            "overflow_y": null,
            "padding": null,
            "right": null,
            "top": null,
            "visibility": null,
            "width": null
          }
        },
        "a6ee7fa192d24487a71e487b44e79083": {
          "model_module": "@jupyter-widgets/controls",
          "model_name": "ProgressStyleModel",
          "model_module_version": "1.5.0",
          "state": {
            "_model_module": "@jupyter-widgets/controls",
            "_model_module_version": "1.5.0",
            "_model_name": "ProgressStyleModel",
            "_view_count": null,
            "_view_module": "@jupyter-widgets/base",
            "_view_module_version": "1.2.0",
            "_view_name": "StyleView",
            "bar_color": null,
            "description_width": ""
          }
        },
        "c3f2c877209242c6b56273e1a6c7d605": {
          "model_module": "@jupyter-widgets/base",
          "model_name": "LayoutModel",
          "model_module_version": "1.2.0",
          "state": {
            "_model_module": "@jupyter-widgets/base",
            "_model_module_version": "1.2.0",
            "_model_name": "LayoutModel",
            "_view_count": null,
            "_view_module": "@jupyter-widgets/base",
            "_view_module_version": "1.2.0",
            "_view_name": "LayoutView",
            "align_content": null,
            "align_items": null,
            "align_self": null,
            "border": null,
            "bottom": null,
            "display": null,
            "flex": null,
            "flex_flow": null,
            "grid_area": null,
            "grid_auto_columns": null,
            "grid_auto_flow": null,
            "grid_auto_rows": null,
            "grid_column": null,
            "grid_gap": null,
            "grid_row": null,
            "grid_template_areas": null,
            "grid_template_columns": null,
            "grid_template_rows": null,
            "height": null,
            "justify_content": null,
            "justify_items": null,
            "left": null,
            "margin": null,
            "max_height": null,
            "max_width": null,
            "min_height": null,
            "min_width": null,
            "object_fit": null,
            "object_position": null,
            "order": null,
            "overflow": null,
            "overflow_x": null,
            "overflow_y": null,
            "padding": null,
            "right": null,
            "top": null,
            "visibility": null,
            "width": null
          }
        },
        "59f4286249d74322b16bce3ea9746f5b": {
          "model_module": "@jupyter-widgets/controls",
          "model_name": "DescriptionStyleModel",
          "model_module_version": "1.5.0",
          "state": {
            "_model_module": "@jupyter-widgets/controls",
            "_model_module_version": "1.5.0",
            "_model_name": "DescriptionStyleModel",
            "_view_count": null,
            "_view_module": "@jupyter-widgets/base",
            "_view_module_version": "1.2.0",
            "_view_name": "StyleView",
            "description_width": ""
          }
        },
        "0b7a2f158ffd4e44b654a4be8e186da8": {
          "model_module": "@jupyter-widgets/controls",
          "model_name": "HBoxModel",
          "model_module_version": "1.5.0",
          "state": {
            "_dom_classes": [],
            "_model_module": "@jupyter-widgets/controls",
            "_model_module_version": "1.5.0",
            "_model_name": "HBoxModel",
            "_view_count": null,
            "_view_module": "@jupyter-widgets/controls",
            "_view_module_version": "1.5.0",
            "_view_name": "HBoxView",
            "box_style": "",
            "children": [
              "IPY_MODEL_aec046b023de435e958e8f832d1a3c5d",
              "IPY_MODEL_b076f9cbe3664cafa62121d0db9c6165",
              "IPY_MODEL_f08d9cb4fc7e418a84452e9bec22b580"
            ],
            "layout": "IPY_MODEL_7b4d145b9a19495983e537a2e6ccba02"
          }
        },
        "aec046b023de435e958e8f832d1a3c5d": {
          "model_module": "@jupyter-widgets/controls",
          "model_name": "HTMLModel",
          "model_module_version": "1.5.0",
          "state": {
            "_dom_classes": [],
            "_model_module": "@jupyter-widgets/controls",
            "_model_module_version": "1.5.0",
            "_model_name": "HTMLModel",
            "_view_count": null,
            "_view_module": "@jupyter-widgets/controls",
            "_view_module_version": "1.5.0",
            "_view_name": "HTMLView",
            "description": "",
            "description_tooltip": null,
            "layout": "IPY_MODEL_e47882883b1047f48e5826ee4bff0036",
            "placeholder": "​",
            "style": "IPY_MODEL_957e65065de14ac59f56667c7a4e7f59",
            "value": "Downloading (…)okenizer_config.json: 100%"
          }
        },
        "b076f9cbe3664cafa62121d0db9c6165": {
          "model_module": "@jupyter-widgets/controls",
          "model_name": "FloatProgressModel",
          "model_module_version": "1.5.0",
          "state": {
            "_dom_classes": [],
            "_model_module": "@jupyter-widgets/controls",
            "_model_module_version": "1.5.0",
            "_model_name": "FloatProgressModel",
            "_view_count": null,
            "_view_module": "@jupyter-widgets/controls",
            "_view_module_version": "1.5.0",
            "_view_name": "ProgressView",
            "bar_style": "success",
            "description": "",
            "description_tooltip": null,
            "layout": "IPY_MODEL_a4e974517b174a379ab45a589373c71f",
            "max": 29,
            "min": 0,
            "orientation": "horizontal",
            "style": "IPY_MODEL_1be5efb29f7347e7bf28ff06e7344d83",
            "value": 29
          }
        },
        "f08d9cb4fc7e418a84452e9bec22b580": {
          "model_module": "@jupyter-widgets/controls",
          "model_name": "HTMLModel",
          "model_module_version": "1.5.0",
          "state": {
            "_dom_classes": [],
            "_model_module": "@jupyter-widgets/controls",
            "_model_module_version": "1.5.0",
            "_model_name": "HTMLModel",
            "_view_count": null,
            "_view_module": "@jupyter-widgets/controls",
            "_view_module_version": "1.5.0",
            "_view_name": "HTMLView",
            "description": "",
            "description_tooltip": null,
            "layout": "IPY_MODEL_d3169c0a66484b73b678a66f5db0fb5a",
            "placeholder": "​",
            "style": "IPY_MODEL_2229492b729140caac8d70999628f53b",
            "value": " 29.0/29.0 [00:00&lt;00:00, 1.48kB/s]"
          }
        },
        "7b4d145b9a19495983e537a2e6ccba02": {
          "model_module": "@jupyter-widgets/base",
          "model_name": "LayoutModel",
          "model_module_version": "1.2.0",
          "state": {
            "_model_module": "@jupyter-widgets/base",
            "_model_module_version": "1.2.0",
            "_model_name": "LayoutModel",
            "_view_count": null,
            "_view_module": "@jupyter-widgets/base",
            "_view_module_version": "1.2.0",
            "_view_name": "LayoutView",
            "align_content": null,
            "align_items": null,
            "align_self": null,
            "border": null,
            "bottom": null,
            "display": null,
            "flex": null,
            "flex_flow": null,
            "grid_area": null,
            "grid_auto_columns": null,
            "grid_auto_flow": null,
            "grid_auto_rows": null,
            "grid_column": null,
            "grid_gap": null,
            "grid_row": null,
            "grid_template_areas": null,
            "grid_template_columns": null,
            "grid_template_rows": null,
            "height": null,
            "justify_content": null,
            "justify_items": null,
            "left": null,
            "margin": null,
            "max_height": null,
            "max_width": null,
            "min_height": null,
            "min_width": null,
            "object_fit": null,
            "object_position": null,
            "order": null,
            "overflow": null,
            "overflow_x": null,
            "overflow_y": null,
            "padding": null,
            "right": null,
            "top": null,
            "visibility": null,
            "width": null
          }
        },
        "e47882883b1047f48e5826ee4bff0036": {
          "model_module": "@jupyter-widgets/base",
          "model_name": "LayoutModel",
          "model_module_version": "1.2.0",
          "state": {
            "_model_module": "@jupyter-widgets/base",
            "_model_module_version": "1.2.0",
            "_model_name": "LayoutModel",
            "_view_count": null,
            "_view_module": "@jupyter-widgets/base",
            "_view_module_version": "1.2.0",
            "_view_name": "LayoutView",
            "align_content": null,
            "align_items": null,
            "align_self": null,
            "border": null,
            "bottom": null,
            "display": null,
            "flex": null,
            "flex_flow": null,
            "grid_area": null,
            "grid_auto_columns": null,
            "grid_auto_flow": null,
            "grid_auto_rows": null,
            "grid_column": null,
            "grid_gap": null,
            "grid_row": null,
            "grid_template_areas": null,
            "grid_template_columns": null,
            "grid_template_rows": null,
            "height": null,
            "justify_content": null,
            "justify_items": null,
            "left": null,
            "margin": null,
            "max_height": null,
            "max_width": null,
            "min_height": null,
            "min_width": null,
            "object_fit": null,
            "object_position": null,
            "order": null,
            "overflow": null,
            "overflow_x": null,
            "overflow_y": null,
            "padding": null,
            "right": null,
            "top": null,
            "visibility": null,
            "width": null
          }
        },
        "957e65065de14ac59f56667c7a4e7f59": {
          "model_module": "@jupyter-widgets/controls",
          "model_name": "DescriptionStyleModel",
          "model_module_version": "1.5.0",
          "state": {
            "_model_module": "@jupyter-widgets/controls",
            "_model_module_version": "1.5.0",
            "_model_name": "DescriptionStyleModel",
            "_view_count": null,
            "_view_module": "@jupyter-widgets/base",
            "_view_module_version": "1.2.0",
            "_view_name": "StyleView",
            "description_width": ""
          }
        },
        "a4e974517b174a379ab45a589373c71f": {
          "model_module": "@jupyter-widgets/base",
          "model_name": "LayoutModel",
          "model_module_version": "1.2.0",
          "state": {
            "_model_module": "@jupyter-widgets/base",
            "_model_module_version": "1.2.0",
            "_model_name": "LayoutModel",
            "_view_count": null,
            "_view_module": "@jupyter-widgets/base",
            "_view_module_version": "1.2.0",
            "_view_name": "LayoutView",
            "align_content": null,
            "align_items": null,
            "align_self": null,
            "border": null,
            "bottom": null,
            "display": null,
            "flex": null,
            "flex_flow": null,
            "grid_area": null,
            "grid_auto_columns": null,
            "grid_auto_flow": null,
            "grid_auto_rows": null,
            "grid_column": null,
            "grid_gap": null,
            "grid_row": null,
            "grid_template_areas": null,
            "grid_template_columns": null,
            "grid_template_rows": null,
            "height": null,
            "justify_content": null,
            "justify_items": null,
            "left": null,
            "margin": null,
            "max_height": null,
            "max_width": null,
            "min_height": null,
            "min_width": null,
            "object_fit": null,
            "object_position": null,
            "order": null,
            "overflow": null,
            "overflow_x": null,
            "overflow_y": null,
            "padding": null,
            "right": null,
            "top": null,
            "visibility": null,
            "width": null
          }
        },
        "1be5efb29f7347e7bf28ff06e7344d83": {
          "model_module": "@jupyter-widgets/controls",
          "model_name": "ProgressStyleModel",
          "model_module_version": "1.5.0",
          "state": {
            "_model_module": "@jupyter-widgets/controls",
            "_model_module_version": "1.5.0",
            "_model_name": "ProgressStyleModel",
            "_view_count": null,
            "_view_module": "@jupyter-widgets/base",
            "_view_module_version": "1.2.0",
            "_view_name": "StyleView",
            "bar_color": null,
            "description_width": ""
          }
        },
        "d3169c0a66484b73b678a66f5db0fb5a": {
          "model_module": "@jupyter-widgets/base",
          "model_name": "LayoutModel",
          "model_module_version": "1.2.0",
          "state": {
            "_model_module": "@jupyter-widgets/base",
            "_model_module_version": "1.2.0",
            "_model_name": "LayoutModel",
            "_view_count": null,
            "_view_module": "@jupyter-widgets/base",
            "_view_module_version": "1.2.0",
            "_view_name": "LayoutView",
            "align_content": null,
            "align_items": null,
            "align_self": null,
            "border": null,
            "bottom": null,
            "display": null,
            "flex": null,
            "flex_flow": null,
            "grid_area": null,
            "grid_auto_columns": null,
            "grid_auto_flow": null,
            "grid_auto_rows": null,
            "grid_column": null,
            "grid_gap": null,
            "grid_row": null,
            "grid_template_areas": null,
            "grid_template_columns": null,
            "grid_template_rows": null,
            "height": null,
            "justify_content": null,
            "justify_items": null,
            "left": null,
            "margin": null,
            "max_height": null,
            "max_width": null,
            "min_height": null,
            "min_width": null,
            "object_fit": null,
            "object_position": null,
            "order": null,
            "overflow": null,
            "overflow_x": null,
            "overflow_y": null,
            "padding": null,
            "right": null,
            "top": null,
            "visibility": null,
            "width": null
          }
        },
        "2229492b729140caac8d70999628f53b": {
          "model_module": "@jupyter-widgets/controls",
          "model_name": "DescriptionStyleModel",
          "model_module_version": "1.5.0",
          "state": {
            "_model_module": "@jupyter-widgets/controls",
            "_model_module_version": "1.5.0",
            "_model_name": "DescriptionStyleModel",
            "_view_count": null,
            "_view_module": "@jupyter-widgets/base",
            "_view_module_version": "1.2.0",
            "_view_name": "StyleView",
            "description_width": ""
          }
        },
        "2a4659d6023740c0a3b2d746f6fc5f37": {
          "model_module": "@jupyter-widgets/controls",
          "model_name": "HBoxModel",
          "model_module_version": "1.5.0",
          "state": {
            "_dom_classes": [],
            "_model_module": "@jupyter-widgets/controls",
            "_model_module_version": "1.5.0",
            "_model_name": "HBoxModel",
            "_view_count": null,
            "_view_module": "@jupyter-widgets/controls",
            "_view_module_version": "1.5.0",
            "_view_name": "HBoxView",
            "box_style": "",
            "children": [
              "IPY_MODEL_8ae2dffab2e64ab29e4d6f9cfa1d9b03",
              "IPY_MODEL_af2352000515485d87ef2a41f4fc7849",
              "IPY_MODEL_3b42a1293d6748c080d71b1a6e1ea388"
            ],
            "layout": "IPY_MODEL_ff1c614e31484dd1ac864b01c8f97c9d"
          }
        },
        "8ae2dffab2e64ab29e4d6f9cfa1d9b03": {
          "model_module": "@jupyter-widgets/controls",
          "model_name": "HTMLModel",
          "model_module_version": "1.5.0",
          "state": {
            "_dom_classes": [],
            "_model_module": "@jupyter-widgets/controls",
            "_model_module_version": "1.5.0",
            "_model_name": "HTMLModel",
            "_view_count": null,
            "_view_module": "@jupyter-widgets/controls",
            "_view_module_version": "1.5.0",
            "_view_name": "HTMLView",
            "description": "",
            "description_tooltip": null,
            "layout": "IPY_MODEL_b6ada268fa41444cbb8b8d9ed30e932d",
            "placeholder": "​",
            "style": "IPY_MODEL_bf3c8c031520443594155ee4c31f5fea",
            "value": "Downloading (…)lve/main/config.json: 100%"
          }
        },
        "af2352000515485d87ef2a41f4fc7849": {
          "model_module": "@jupyter-widgets/controls",
          "model_name": "FloatProgressModel",
          "model_module_version": "1.5.0",
          "state": {
            "_dom_classes": [],
            "_model_module": "@jupyter-widgets/controls",
            "_model_module_version": "1.5.0",
            "_model_name": "FloatProgressModel",
            "_view_count": null,
            "_view_module": "@jupyter-widgets/controls",
            "_view_module_version": "1.5.0",
            "_view_name": "ProgressView",
            "bar_style": "success",
            "description": "",
            "description_tooltip": null,
            "layout": "IPY_MODEL_823f501de183406d87559313d598b768",
            "max": 570,
            "min": 0,
            "orientation": "horizontal",
            "style": "IPY_MODEL_667a258ce09649ab83753f7a7a8de703",
            "value": 570
          }
        },
        "3b42a1293d6748c080d71b1a6e1ea388": {
          "model_module": "@jupyter-widgets/controls",
          "model_name": "HTMLModel",
          "model_module_version": "1.5.0",
          "state": {
            "_dom_classes": [],
            "_model_module": "@jupyter-widgets/controls",
            "_model_module_version": "1.5.0",
            "_model_name": "HTMLModel",
            "_view_count": null,
            "_view_module": "@jupyter-widgets/controls",
            "_view_module_version": "1.5.0",
            "_view_name": "HTMLView",
            "description": "",
            "description_tooltip": null,
            "layout": "IPY_MODEL_a45f3df9c7b4454886223286bddf6cb0",
            "placeholder": "​",
            "style": "IPY_MODEL_0334dd8f20674937a452e660daf617d0",
            "value": " 570/570 [00:00&lt;00:00, 11.3kB/s]"
          }
        },
        "ff1c614e31484dd1ac864b01c8f97c9d": {
          "model_module": "@jupyter-widgets/base",
          "model_name": "LayoutModel",
          "model_module_version": "1.2.0",
          "state": {
            "_model_module": "@jupyter-widgets/base",
            "_model_module_version": "1.2.0",
            "_model_name": "LayoutModel",
            "_view_count": null,
            "_view_module": "@jupyter-widgets/base",
            "_view_module_version": "1.2.0",
            "_view_name": "LayoutView",
            "align_content": null,
            "align_items": null,
            "align_self": null,
            "border": null,
            "bottom": null,
            "display": null,
            "flex": null,
            "flex_flow": null,
            "grid_area": null,
            "grid_auto_columns": null,
            "grid_auto_flow": null,
            "grid_auto_rows": null,
            "grid_column": null,
            "grid_gap": null,
            "grid_row": null,
            "grid_template_areas": null,
            "grid_template_columns": null,
            "grid_template_rows": null,
            "height": null,
            "justify_content": null,
            "justify_items": null,
            "left": null,
            "margin": null,
            "max_height": null,
            "max_width": null,
            "min_height": null,
            "min_width": null,
            "object_fit": null,
            "object_position": null,
            "order": null,
            "overflow": null,
            "overflow_x": null,
            "overflow_y": null,
            "padding": null,
            "right": null,
            "top": null,
            "visibility": null,
            "width": null
          }
        },
        "b6ada268fa41444cbb8b8d9ed30e932d": {
          "model_module": "@jupyter-widgets/base",
          "model_name": "LayoutModel",
          "model_module_version": "1.2.0",
          "state": {
            "_model_module": "@jupyter-widgets/base",
            "_model_module_version": "1.2.0",
            "_model_name": "LayoutModel",
            "_view_count": null,
            "_view_module": "@jupyter-widgets/base",
            "_view_module_version": "1.2.0",
            "_view_name": "LayoutView",
            "align_content": null,
            "align_items": null,
            "align_self": null,
            "border": null,
            "bottom": null,
            "display": null,
            "flex": null,
            "flex_flow": null,
            "grid_area": null,
            "grid_auto_columns": null,
            "grid_auto_flow": null,
            "grid_auto_rows": null,
            "grid_column": null,
            "grid_gap": null,
            "grid_row": null,
            "grid_template_areas": null,
            "grid_template_columns": null,
            "grid_template_rows": null,
            "height": null,
            "justify_content": null,
            "justify_items": null,
            "left": null,
            "margin": null,
            "max_height": null,
            "max_width": null,
            "min_height": null,
            "min_width": null,
            "object_fit": null,
            "object_position": null,
            "order": null,
            "overflow": null,
            "overflow_x": null,
            "overflow_y": null,
            "padding": null,
            "right": null,
            "top": null,
            "visibility": null,
            "width": null
          }
        },
        "bf3c8c031520443594155ee4c31f5fea": {
          "model_module": "@jupyter-widgets/controls",
          "model_name": "DescriptionStyleModel",
          "model_module_version": "1.5.0",
          "state": {
            "_model_module": "@jupyter-widgets/controls",
            "_model_module_version": "1.5.0",
            "_model_name": "DescriptionStyleModel",
            "_view_count": null,
            "_view_module": "@jupyter-widgets/base",
            "_view_module_version": "1.2.0",
            "_view_name": "StyleView",
            "description_width": ""
          }
        },
        "823f501de183406d87559313d598b768": {
          "model_module": "@jupyter-widgets/base",
          "model_name": "LayoutModel",
          "model_module_version": "1.2.0",
          "state": {
            "_model_module": "@jupyter-widgets/base",
            "_model_module_version": "1.2.0",
            "_model_name": "LayoutModel",
            "_view_count": null,
            "_view_module": "@jupyter-widgets/base",
            "_view_module_version": "1.2.0",
            "_view_name": "LayoutView",
            "align_content": null,
            "align_items": null,
            "align_self": null,
            "border": null,
            "bottom": null,
            "display": null,
            "flex": null,
            "flex_flow": null,
            "grid_area": null,
            "grid_auto_columns": null,
            "grid_auto_flow": null,
            "grid_auto_rows": null,
            "grid_column": null,
            "grid_gap": null,
            "grid_row": null,
            "grid_template_areas": null,
            "grid_template_columns": null,
            "grid_template_rows": null,
            "height": null,
            "justify_content": null,
            "justify_items": null,
            "left": null,
            "margin": null,
            "max_height": null,
            "max_width": null,
            "min_height": null,
            "min_width": null,
            "object_fit": null,
            "object_position": null,
            "order": null,
            "overflow": null,
            "overflow_x": null,
            "overflow_y": null,
            "padding": null,
            "right": null,
            "top": null,
            "visibility": null,
            "width": null
          }
        },
        "667a258ce09649ab83753f7a7a8de703": {
          "model_module": "@jupyter-widgets/controls",
          "model_name": "ProgressStyleModel",
          "model_module_version": "1.5.0",
          "state": {
            "_model_module": "@jupyter-widgets/controls",
            "_model_module_version": "1.5.0",
            "_model_name": "ProgressStyleModel",
            "_view_count": null,
            "_view_module": "@jupyter-widgets/base",
            "_view_module_version": "1.2.0",
            "_view_name": "StyleView",
            "bar_color": null,
            "description_width": ""
          }
        },
        "a45f3df9c7b4454886223286bddf6cb0": {
          "model_module": "@jupyter-widgets/base",
          "model_name": "LayoutModel",
          "model_module_version": "1.2.0",
          "state": {
            "_model_module": "@jupyter-widgets/base",
            "_model_module_version": "1.2.0",
            "_model_name": "LayoutModel",
            "_view_count": null,
            "_view_module": "@jupyter-widgets/base",
            "_view_module_version": "1.2.0",
            "_view_name": "LayoutView",
            "align_content": null,
            "align_items": null,
            "align_self": null,
            "border": null,
            "bottom": null,
            "display": null,
            "flex": null,
            "flex_flow": null,
            "grid_area": null,
            "grid_auto_columns": null,
            "grid_auto_flow": null,
            "grid_auto_rows": null,
            "grid_column": null,
            "grid_gap": null,
            "grid_row": null,
            "grid_template_areas": null,
            "grid_template_columns": null,
            "grid_template_rows": null,
            "height": null,
            "justify_content": null,
            "justify_items": null,
            "left": null,
            "margin": null,
            "max_height": null,
            "max_width": null,
            "min_height": null,
            "min_width": null,
            "object_fit": null,
            "object_position": null,
            "order": null,
            "overflow": null,
            "overflow_x": null,
            "overflow_y": null,
            "padding": null,
            "right": null,
            "top": null,
            "visibility": null,
            "width": null
          }
        },
        "0334dd8f20674937a452e660daf617d0": {
          "model_module": "@jupyter-widgets/controls",
          "model_name": "DescriptionStyleModel",
          "model_module_version": "1.5.0",
          "state": {
            "_model_module": "@jupyter-widgets/controls",
            "_model_module_version": "1.5.0",
            "_model_name": "DescriptionStyleModel",
            "_view_count": null,
            "_view_module": "@jupyter-widgets/base",
            "_view_module_version": "1.2.0",
            "_view_name": "StyleView",
            "description_width": ""
          }
        },
        "f7c60999ac554f55a5ac8ac96012ed20": {
          "model_module": "@jupyter-widgets/controls",
          "model_name": "HBoxModel",
          "model_module_version": "1.5.0",
          "state": {
            "_dom_classes": [],
            "_model_module": "@jupyter-widgets/controls",
            "_model_module_version": "1.5.0",
            "_model_name": "HBoxModel",
            "_view_count": null,
            "_view_module": "@jupyter-widgets/controls",
            "_view_module_version": "1.5.0",
            "_view_name": "HBoxView",
            "box_style": "",
            "children": [
              "IPY_MODEL_d1246fd5dc034bb5888c0509f5ac8b3d",
              "IPY_MODEL_5fe78f320b6c44e9ae4b7425b3ea90da",
              "IPY_MODEL_36a253a4f8ee428faa6ad2357357ffdc"
            ],
            "layout": "IPY_MODEL_3642873c715649b6975ebabf72c8b914"
          }
        },
        "d1246fd5dc034bb5888c0509f5ac8b3d": {
          "model_module": "@jupyter-widgets/controls",
          "model_name": "HTMLModel",
          "model_module_version": "1.5.0",
          "state": {
            "_dom_classes": [],
            "_model_module": "@jupyter-widgets/controls",
            "_model_module_version": "1.5.0",
            "_model_name": "HTMLModel",
            "_view_count": null,
            "_view_module": "@jupyter-widgets/controls",
            "_view_module_version": "1.5.0",
            "_view_name": "HTMLView",
            "description": "",
            "description_tooltip": null,
            "layout": "IPY_MODEL_3936142104184d309c8062113ade2ead",
            "placeholder": "​",
            "style": "IPY_MODEL_05ae9d34f59542b191dfad81c419c649",
            "value": ""
          }
        },
        "5fe78f320b6c44e9ae4b7425b3ea90da": {
          "model_module": "@jupyter-widgets/controls",
          "model_name": "FloatProgressModel",
          "model_module_version": "1.5.0",
          "state": {
            "_dom_classes": [],
            "_model_module": "@jupyter-widgets/controls",
            "_model_module_version": "1.5.0",
            "_model_name": "FloatProgressModel",
            "_view_count": null,
            "_view_module": "@jupyter-widgets/controls",
            "_view_module_version": "1.5.0",
            "_view_name": "ProgressView",
            "bar_style": "success",
            "description": "",
            "description_tooltip": null,
            "layout": "IPY_MODEL_e5d2b5419456428bb4823d040a9fcc30",
            "max": 1,
            "min": 0,
            "orientation": "horizontal",
            "style": "IPY_MODEL_fddf09d6bc454965833e56ca7e9adafb",
            "value": 1
          }
        },
        "36a253a4f8ee428faa6ad2357357ffdc": {
          "model_module": "@jupyter-widgets/controls",
          "model_name": "HTMLModel",
          "model_module_version": "1.5.0",
          "state": {
            "_dom_classes": [],
            "_model_module": "@jupyter-widgets/controls",
            "_model_module_version": "1.5.0",
            "_model_name": "HTMLModel",
            "_view_count": null,
            "_view_module": "@jupyter-widgets/controls",
            "_view_module_version": "1.5.0",
            "_view_name": "HTMLView",
            "description": "",
            "description_tooltip": null,
            "layout": "IPY_MODEL_211eb473de864b229e3b30423840bdad",
            "placeholder": "​",
            "style": "IPY_MODEL_a6c5c28b0d9540d3903b08383dbab62d",
            "value": " 21297/? [00:09&lt;00:00, 2476.62it/s]"
          }
        },
        "3642873c715649b6975ebabf72c8b914": {
          "model_module": "@jupyter-widgets/base",
          "model_name": "LayoutModel",
          "model_module_version": "1.2.0",
          "state": {
            "_model_module": "@jupyter-widgets/base",
            "_model_module_version": "1.2.0",
            "_model_name": "LayoutModel",
            "_view_count": null,
            "_view_module": "@jupyter-widgets/base",
            "_view_module_version": "1.2.0",
            "_view_name": "LayoutView",
            "align_content": null,
            "align_items": null,
            "align_self": null,
            "border": null,
            "bottom": null,
            "display": null,
            "flex": null,
            "flex_flow": null,
            "grid_area": null,
            "grid_auto_columns": null,
            "grid_auto_flow": null,
            "grid_auto_rows": null,
            "grid_column": null,
            "grid_gap": null,
            "grid_row": null,
            "grid_template_areas": null,
            "grid_template_columns": null,
            "grid_template_rows": null,
            "height": null,
            "justify_content": null,
            "justify_items": null,
            "left": null,
            "margin": null,
            "max_height": null,
            "max_width": null,
            "min_height": null,
            "min_width": null,
            "object_fit": null,
            "object_position": null,
            "order": null,
            "overflow": null,
            "overflow_x": null,
            "overflow_y": null,
            "padding": null,
            "right": null,
            "top": null,
            "visibility": null,
            "width": null
          }
        },
        "3936142104184d309c8062113ade2ead": {
          "model_module": "@jupyter-widgets/base",
          "model_name": "LayoutModel",
          "model_module_version": "1.2.0",
          "state": {
            "_model_module": "@jupyter-widgets/base",
            "_model_module_version": "1.2.0",
            "_model_name": "LayoutModel",
            "_view_count": null,
            "_view_module": "@jupyter-widgets/base",
            "_view_module_version": "1.2.0",
            "_view_name": "LayoutView",
            "align_content": null,
            "align_items": null,
            "align_self": null,
            "border": null,
            "bottom": null,
            "display": null,
            "flex": null,
            "flex_flow": null,
            "grid_area": null,
            "grid_auto_columns": null,
            "grid_auto_flow": null,
            "grid_auto_rows": null,
            "grid_column": null,
            "grid_gap": null,
            "grid_row": null,
            "grid_template_areas": null,
            "grid_template_columns": null,
            "grid_template_rows": null,
            "height": null,
            "justify_content": null,
            "justify_items": null,
            "left": null,
            "margin": null,
            "max_height": null,
            "max_width": null,
            "min_height": null,
            "min_width": null,
            "object_fit": null,
            "object_position": null,
            "order": null,
            "overflow": null,
            "overflow_x": null,
            "overflow_y": null,
            "padding": null,
            "right": null,
            "top": null,
            "visibility": null,
            "width": null
          }
        },
        "05ae9d34f59542b191dfad81c419c649": {
          "model_module": "@jupyter-widgets/controls",
          "model_name": "DescriptionStyleModel",
          "model_module_version": "1.5.0",
          "state": {
            "_model_module": "@jupyter-widgets/controls",
            "_model_module_version": "1.5.0",
            "_model_name": "DescriptionStyleModel",
            "_view_count": null,
            "_view_module": "@jupyter-widgets/base",
            "_view_module_version": "1.2.0",
            "_view_name": "StyleView",
            "description_width": ""
          }
        },
        "e5d2b5419456428bb4823d040a9fcc30": {
          "model_module": "@jupyter-widgets/base",
          "model_name": "LayoutModel",
          "model_module_version": "1.2.0",
          "state": {
            "_model_module": "@jupyter-widgets/base",
            "_model_module_version": "1.2.0",
            "_model_name": "LayoutModel",
            "_view_count": null,
            "_view_module": "@jupyter-widgets/base",
            "_view_module_version": "1.2.0",
            "_view_name": "LayoutView",
            "align_content": null,
            "align_items": null,
            "align_self": null,
            "border": null,
            "bottom": null,
            "display": null,
            "flex": null,
            "flex_flow": null,
            "grid_area": null,
            "grid_auto_columns": null,
            "grid_auto_flow": null,
            "grid_auto_rows": null,
            "grid_column": null,
            "grid_gap": null,
            "grid_row": null,
            "grid_template_areas": null,
            "grid_template_columns": null,
            "grid_template_rows": null,
            "height": null,
            "justify_content": null,
            "justify_items": null,
            "left": null,
            "margin": null,
            "max_height": null,
            "max_width": null,
            "min_height": null,
            "min_width": null,
            "object_fit": null,
            "object_position": null,
            "order": null,
            "overflow": null,
            "overflow_x": null,
            "overflow_y": null,
            "padding": null,
            "right": null,
            "top": null,
            "visibility": null,
            "width": "20px"
          }
        },
        "fddf09d6bc454965833e56ca7e9adafb": {
          "model_module": "@jupyter-widgets/controls",
          "model_name": "ProgressStyleModel",
          "model_module_version": "1.5.0",
          "state": {
            "_model_module": "@jupyter-widgets/controls",
            "_model_module_version": "1.5.0",
            "_model_name": "ProgressStyleModel",
            "_view_count": null,
            "_view_module": "@jupyter-widgets/base",
            "_view_module_version": "1.2.0",
            "_view_name": "StyleView",
            "bar_color": null,
            "description_width": ""
          }
        },
        "211eb473de864b229e3b30423840bdad": {
          "model_module": "@jupyter-widgets/base",
          "model_name": "LayoutModel",
          "model_module_version": "1.2.0",
          "state": {
            "_model_module": "@jupyter-widgets/base",
            "_model_module_version": "1.2.0",
            "_model_name": "LayoutModel",
            "_view_count": null,
            "_view_module": "@jupyter-widgets/base",
            "_view_module_version": "1.2.0",
            "_view_name": "LayoutView",
            "align_content": null,
            "align_items": null,
            "align_self": null,
            "border": null,
            "bottom": null,
            "display": null,
            "flex": null,
            "flex_flow": null,
            "grid_area": null,
            "grid_auto_columns": null,
            "grid_auto_flow": null,
            "grid_auto_rows": null,
            "grid_column": null,
            "grid_gap": null,
            "grid_row": null,
            "grid_template_areas": null,
            "grid_template_columns": null,
            "grid_template_rows": null,
            "height": null,
            "justify_content": null,
            "justify_items": null,
            "left": null,
            "margin": null,
            "max_height": null,
            "max_width": null,
            "min_height": null,
            "min_width": null,
            "object_fit": null,
            "object_position": null,
            "order": null,
            "overflow": null,
            "overflow_x": null,
            "overflow_y": null,
            "padding": null,
            "right": null,
            "top": null,
            "visibility": null,
            "width": null
          }
        },
        "a6c5c28b0d9540d3903b08383dbab62d": {
          "model_module": "@jupyter-widgets/controls",
          "model_name": "DescriptionStyleModel",
          "model_module_version": "1.5.0",
          "state": {
            "_model_module": "@jupyter-widgets/controls",
            "_model_module_version": "1.5.0",
            "_model_name": "DescriptionStyleModel",
            "_view_count": null,
            "_view_module": "@jupyter-widgets/base",
            "_view_module_version": "1.2.0",
            "_view_name": "StyleView",
            "description_width": ""
          }
        },
        "cae57cb69400425ca4e71d70cb3ea224": {
          "model_module": "@jupyter-widgets/controls",
          "model_name": "HBoxModel",
          "model_module_version": "1.5.0",
          "state": {
            "_dom_classes": [],
            "_model_module": "@jupyter-widgets/controls",
            "_model_module_version": "1.5.0",
            "_model_name": "HBoxModel",
            "_view_count": null,
            "_view_module": "@jupyter-widgets/controls",
            "_view_module_version": "1.5.0",
            "_view_name": "HBoxView",
            "box_style": "",
            "children": [
              "IPY_MODEL_2a2c19c795b3444b8b25dd02d8e106a6",
              "IPY_MODEL_b0f544a20de147b282b1ec84fb49cf3a",
              "IPY_MODEL_d4eaf5d13b014abfb07dd1fb29937bb6"
            ],
            "layout": "IPY_MODEL_e2ad1fd2100f48dea4d33b2e5b757fc0"
          }
        },
        "2a2c19c795b3444b8b25dd02d8e106a6": {
          "model_module": "@jupyter-widgets/controls",
          "model_name": "HTMLModel",
          "model_module_version": "1.5.0",
          "state": {
            "_dom_classes": [],
            "_model_module": "@jupyter-widgets/controls",
            "_model_module_version": "1.5.0",
            "_model_name": "HTMLModel",
            "_view_count": null,
            "_view_module": "@jupyter-widgets/controls",
            "_view_module_version": "1.5.0",
            "_view_name": "HTMLView",
            "description": "",
            "description_tooltip": null,
            "layout": "IPY_MODEL_ec620b16b0984565994b3142a6e906d5",
            "placeholder": "​",
            "style": "IPY_MODEL_6fd676a4349d45a7a658473574920cad",
            "value": "Downloading model.safetensors: 100%"
          }
        },
        "b0f544a20de147b282b1ec84fb49cf3a": {
          "model_module": "@jupyter-widgets/controls",
          "model_name": "FloatProgressModel",
          "model_module_version": "1.5.0",
          "state": {
            "_dom_classes": [],
            "_model_module": "@jupyter-widgets/controls",
            "_model_module_version": "1.5.0",
            "_model_name": "FloatProgressModel",
            "_view_count": null,
            "_view_module": "@jupyter-widgets/controls",
            "_view_module_version": "1.5.0",
            "_view_name": "ProgressView",
            "bar_style": "success",
            "description": "",
            "description_tooltip": null,
            "layout": "IPY_MODEL_0ba73f81b63e4c88ad4d85fe0ceac9b0",
            "max": 435755784,
            "min": 0,
            "orientation": "horizontal",
            "style": "IPY_MODEL_07cef981948d4d2ba8b04ca587c0c8e4",
            "value": 435755784
          }
        },
        "d4eaf5d13b014abfb07dd1fb29937bb6": {
          "model_module": "@jupyter-widgets/controls",
          "model_name": "HTMLModel",
          "model_module_version": "1.5.0",
          "state": {
            "_dom_classes": [],
            "_model_module": "@jupyter-widgets/controls",
            "_model_module_version": "1.5.0",
            "_model_name": "HTMLModel",
            "_view_count": null,
            "_view_module": "@jupyter-widgets/controls",
            "_view_module_version": "1.5.0",
            "_view_name": "HTMLView",
            "description": "",
            "description_tooltip": null,
            "layout": "IPY_MODEL_84ef556bb33b47e59d576f0557d669d5",
            "placeholder": "​",
            "style": "IPY_MODEL_a3c0288a1c6a4017bd37cfda7383aa2e",
            "value": " 436M/436M [00:01&lt;00:00, 314MB/s]"
          }
        },
        "e2ad1fd2100f48dea4d33b2e5b757fc0": {
          "model_module": "@jupyter-widgets/base",
          "model_name": "LayoutModel",
          "model_module_version": "1.2.0",
          "state": {
            "_model_module": "@jupyter-widgets/base",
            "_model_module_version": "1.2.0",
            "_model_name": "LayoutModel",
            "_view_count": null,
            "_view_module": "@jupyter-widgets/base",
            "_view_module_version": "1.2.0",
            "_view_name": "LayoutView",
            "align_content": null,
            "align_items": null,
            "align_self": null,
            "border": null,
            "bottom": null,
            "display": null,
            "flex": null,
            "flex_flow": null,
            "grid_area": null,
            "grid_auto_columns": null,
            "grid_auto_flow": null,
            "grid_auto_rows": null,
            "grid_column": null,
            "grid_gap": null,
            "grid_row": null,
            "grid_template_areas": null,
            "grid_template_columns": null,
            "grid_template_rows": null,
            "height": null,
            "justify_content": null,
            "justify_items": null,
            "left": null,
            "margin": null,
            "max_height": null,
            "max_width": null,
            "min_height": null,
            "min_width": null,
            "object_fit": null,
            "object_position": null,
            "order": null,
            "overflow": null,
            "overflow_x": null,
            "overflow_y": null,
            "padding": null,
            "right": null,
            "top": null,
            "visibility": null,
            "width": null
          }
        },
        "ec620b16b0984565994b3142a6e906d5": {
          "model_module": "@jupyter-widgets/base",
          "model_name": "LayoutModel",
          "model_module_version": "1.2.0",
          "state": {
            "_model_module": "@jupyter-widgets/base",
            "_model_module_version": "1.2.0",
            "_model_name": "LayoutModel",
            "_view_count": null,
            "_view_module": "@jupyter-widgets/base",
            "_view_module_version": "1.2.0",
            "_view_name": "LayoutView",
            "align_content": null,
            "align_items": null,
            "align_self": null,
            "border": null,
            "bottom": null,
            "display": null,
            "flex": null,
            "flex_flow": null,
            "grid_area": null,
            "grid_auto_columns": null,
            "grid_auto_flow": null,
            "grid_auto_rows": null,
            "grid_column": null,
            "grid_gap": null,
            "grid_row": null,
            "grid_template_areas": null,
            "grid_template_columns": null,
            "grid_template_rows": null,
            "height": null,
            "justify_content": null,
            "justify_items": null,
            "left": null,
            "margin": null,
            "max_height": null,
            "max_width": null,
            "min_height": null,
            "min_width": null,
            "object_fit": null,
            "object_position": null,
            "order": null,
            "overflow": null,
            "overflow_x": null,
            "overflow_y": null,
            "padding": null,
            "right": null,
            "top": null,
            "visibility": null,
            "width": null
          }
        },
        "6fd676a4349d45a7a658473574920cad": {
          "model_module": "@jupyter-widgets/controls",
          "model_name": "DescriptionStyleModel",
          "model_module_version": "1.5.0",
          "state": {
            "_model_module": "@jupyter-widgets/controls",
            "_model_module_version": "1.5.0",
            "_model_name": "DescriptionStyleModel",
            "_view_count": null,
            "_view_module": "@jupyter-widgets/base",
            "_view_module_version": "1.2.0",
            "_view_name": "StyleView",
            "description_width": ""
          }
        },
        "0ba73f81b63e4c88ad4d85fe0ceac9b0": {
          "model_module": "@jupyter-widgets/base",
          "model_name": "LayoutModel",
          "model_module_version": "1.2.0",
          "state": {
            "_model_module": "@jupyter-widgets/base",
            "_model_module_version": "1.2.0",
            "_model_name": "LayoutModel",
            "_view_count": null,
            "_view_module": "@jupyter-widgets/base",
            "_view_module_version": "1.2.0",
            "_view_name": "LayoutView",
            "align_content": null,
            "align_items": null,
            "align_self": null,
            "border": null,
            "bottom": null,
            "display": null,
            "flex": null,
            "flex_flow": null,
            "grid_area": null,
            "grid_auto_columns": null,
            "grid_auto_flow": null,
            "grid_auto_rows": null,
            "grid_column": null,
            "grid_gap": null,
            "grid_row": null,
            "grid_template_areas": null,
            "grid_template_columns": null,
            "grid_template_rows": null,
            "height": null,
            "justify_content": null,
            "justify_items": null,
            "left": null,
            "margin": null,
            "max_height": null,
            "max_width": null,
            "min_height": null,
            "min_width": null,
            "object_fit": null,
            "object_position": null,
            "order": null,
            "overflow": null,
            "overflow_x": null,
            "overflow_y": null,
            "padding": null,
            "right": null,
            "top": null,
            "visibility": null,
            "width": null
          }
        },
        "07cef981948d4d2ba8b04ca587c0c8e4": {
          "model_module": "@jupyter-widgets/controls",
          "model_name": "ProgressStyleModel",
          "model_module_version": "1.5.0",
          "state": {
            "_model_module": "@jupyter-widgets/controls",
            "_model_module_version": "1.5.0",
            "_model_name": "ProgressStyleModel",
            "_view_count": null,
            "_view_module": "@jupyter-widgets/base",
            "_view_module_version": "1.2.0",
            "_view_name": "StyleView",
            "bar_color": null,
            "description_width": ""
          }
        },
        "84ef556bb33b47e59d576f0557d669d5": {
          "model_module": "@jupyter-widgets/base",
          "model_name": "LayoutModel",
          "model_module_version": "1.2.0",
          "state": {
            "_model_module": "@jupyter-widgets/base",
            "_model_module_version": "1.2.0",
            "_model_name": "LayoutModel",
            "_view_count": null,
            "_view_module": "@jupyter-widgets/base",
            "_view_module_version": "1.2.0",
            "_view_name": "LayoutView",
            "align_content": null,
            "align_items": null,
            "align_self": null,
            "border": null,
            "bottom": null,
            "display": null,
            "flex": null,
            "flex_flow": null,
            "grid_area": null,
            "grid_auto_columns": null,
            "grid_auto_flow": null,
            "grid_auto_rows": null,
            "grid_column": null,
            "grid_gap": null,
            "grid_row": null,
            "grid_template_areas": null,
            "grid_template_columns": null,
            "grid_template_rows": null,
            "height": null,
            "justify_content": null,
            "justify_items": null,
            "left": null,
            "margin": null,
            "max_height": null,
            "max_width": null,
            "min_height": null,
            "min_width": null,
            "object_fit": null,
            "object_position": null,
            "order": null,
            "overflow": null,
            "overflow_x": null,
            "overflow_y": null,
            "padding": null,
            "right": null,
            "top": null,
            "visibility": null,
            "width": null
          }
        },
        "a3c0288a1c6a4017bd37cfda7383aa2e": {
          "model_module": "@jupyter-widgets/controls",
          "model_name": "DescriptionStyleModel",
          "model_module_version": "1.5.0",
          "state": {
            "_model_module": "@jupyter-widgets/controls",
            "_model_module_version": "1.5.0",
            "_model_name": "DescriptionStyleModel",
            "_view_count": null,
            "_view_module": "@jupyter-widgets/base",
            "_view_module_version": "1.2.0",
            "_view_name": "StyleView",
            "description_width": ""
          }
        }
      }
    },
    "accelerator": "GPU"
  },
  "nbformat": 4,
  "nbformat_minor": 0
}