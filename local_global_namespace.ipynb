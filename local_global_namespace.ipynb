{
  "cells": [
    {
      "cell_type": "markdown",
      "metadata": {
        "id": "view-in-github",
        "colab_type": "text"
      },
      "source": [
        "<a href=\"https://colab.research.google.com/github/dkd99/my-code-practice/blob/main/local_global_namespace.ipynb\" target=\"_parent\"><img src=\"https://colab.research.google.com/assets/colab-badge.svg\" alt=\"Open In Colab\"/></a>"
      ]
    },
    {
      "cell_type": "code",
      "source": [
        "def greet_pythons(items: list) -> None:\n",
        "\n",
        "    for item in items:\n",
        "        print(make_greeting(item))\n",
        "\n",
        "\n",
        "def make_greeting(item: str) -> str:\n",
        "\n",
        "    return f'Hello {item}'\n",
        "\n",
        "\n",
        "names = ['John', 'Eric', 'Graham', 'Terry', 'Terry', 'Michael']\n",
        "\n",
        "greet_pythons(names)"
      ],
      "metadata": {
        "id": "lzE48nWMqEAA",
        "outputId": "8d7018a0-05a5-46f9-f9da-30cb65a8924c",
        "colab": {
          "base_uri": "https://localhost:8080/"
        }
      },
      "execution_count": null,
      "outputs": [
        {
          "output_type": "stream",
          "name": "stdout",
          "text": [
            "Hello John\n",
            "Hello Eric\n",
            "Hello Graham\n",
            "Hello Terry\n",
            "Hello Terry\n",
            "Hello Michael\n"
          ]
        }
      ]
    },
    {
      "cell_type": "code",
      "source": [
        "def greet_pythons(items: list) -> None:\n",
        "\n",
        "    greeting='Hello'\n",
        "    print(id(greeting))\n",
        "\n",
        "    def make_greeting(item: str) -> str:\n",
        "        print(id(greeting))\n",
        "        return f'Hello {item}'\n",
        "    for item in items:\n",
        "        print(make_greeting(item))\n",
        "\n",
        "names = ['John', 'Eric', 'Graham', 'Terry', 'Terry', 'Michael']\n",
        "\n",
        "greet_pythons(names)"
      ],
      "metadata": {
        "id": "t1jPciywqoGM",
        "outputId": "3c9062da-59a3-49f9-c401-d4fa1f52bf0f",
        "colab": {
          "base_uri": "https://localhost:8080/"
        }
      },
      "execution_count": null,
      "outputs": [
        {
          "output_type": "stream",
          "name": "stdout",
          "text": [
            "140002391978096\n",
            "140002391978096\n",
            "Hello John\n",
            "140002391978096\n",
            "Hello Eric\n",
            "140002391978096\n",
            "Hello Graham\n",
            "140002391978096\n",
            "Hello Terry\n",
            "140002391978096\n",
            "Hello Terry\n",
            "140002391978096\n",
            "Hello Michael\n"
          ]
        }
      ]
    },
    {
      "cell_type": "code",
      "source": [
        "def greet_pythons(items: list) -> None:\n",
        "\n",
        "    greeting='Hello'\n",
        "    print(id(greeting))\n",
        "\n",
        "    def make_greeting(item: str) -> str:\n",
        "        greeting='Hi'\n",
        "        print(id(greeting))\n",
        "        return f'{greeting} {item}'\n",
        "    for item in items:\n",
        "        print(make_greeting(item))\n",
        "    print(greeting)\n",
        "names = ['John', 'Eric', 'Graham', 'Terry', 'Terry', 'Michael']\n",
        "\n",
        "greet_pythons(names)"
      ],
      "metadata": {
        "id": "kpxtj7UrrQMz",
        "outputId": "99139ee9-569c-4a1a-94e1-f2056f3f1c89",
        "colab": {
          "base_uri": "https://localhost:8080/"
        }
      },
      "execution_count": null,
      "outputs": [
        {
          "output_type": "stream",
          "name": "stdout",
          "text": [
            "140002391978096\n",
            "140002392020272\n",
            "Hi John\n",
            "140002392020272\n",
            "Hi Eric\n",
            "140002392020272\n",
            "Hi Graham\n",
            "140002392020272\n",
            "Hi Terry\n",
            "140002392020272\n",
            "Hi Terry\n",
            "140002392020272\n",
            "Hi Michael\n",
            "Hello\n"
          ]
        }
      ]
    },
    {
      "cell_type": "code",
      "source": [
        "def greet_pythons(items: list) -> None:\n",
        "\n",
        "    greeting='Hello'\n",
        "    print(id(greeting))\n",
        "    print(locals())\n",
        "    def make_greeting(item: str) -> str:\n",
        "        greeting='Hi'\n",
        "        print(locals())\n",
        "        print(id(greeting))\n",
        "        return f'{greeting} {item}'\n",
        "    for item in items:\n",
        "        print(make_greeting(item))\n",
        "    print(greeting)\n",
        "names = ['John']#'Eric', 'Graham', 'Terry', 'Terry', 'Michael']\n",
        "\n",
        "greet_pythons(names)"
      ],
      "metadata": {
        "id": "_YAh5xpDrg38",
        "outputId": "7187f96f-7382-4664-d692-f156b44af4ef",
        "colab": {
          "base_uri": "https://localhost:8080/"
        }
      },
      "execution_count": null,
      "outputs": [
        {
          "output_type": "stream",
          "name": "stdout",
          "text": [
            "140002391978096\n",
            "{'items': ['John'], 'greeting': 'Hello'}\n",
            "{'item': 'John', 'greeting': 'Hi'}\n",
            "140002392020272\n",
            "Hi John\n",
            "Hello\n"
          ]
        }
      ]
    },
    {
      "cell_type": "code",
      "source": [
        "def greet_pythons(items: list) -> None:\n",
        "\n",
        "    greeting='Hello'\n",
        "    print(id(greeting))\n",
        "    print(locals())\n",
        "    def make_greeting(item: str) -> str:\n",
        "        #greeting='Hi'\n",
        "        print(locals())\n",
        "        print(id(greeting))\n",
        "        return f'{greeting} {item}'\n",
        "    for item in items:\n",
        "        print(make_greeting(item))\n",
        "    print(greeting)\n",
        "names = ['John']#'Eric', 'Graham', 'Terry', 'Terry', 'Michael']\n",
        "\n",
        "greet_pythons(names)"
      ],
      "metadata": {
        "id": "KjNSIlkAtp95",
        "outputId": "edf14aa4-2951-4f33-daf8-5fba79d1b722",
        "colab": {
          "base_uri": "https://localhost:8080/"
        }
      },
      "execution_count": null,
      "outputs": [
        {
          "output_type": "stream",
          "name": "stdout",
          "text": [
            "140160271285616\n",
            "{'items': ['John'], 'greeting': 'Hello'}\n",
            "{'item': 'John', 'greeting': 'Hello'}\n",
            "140160271285616\n",
            "Hello John\n",
            "Hello\n"
          ]
        }
      ]
    },
    {
      "cell_type": "code",
      "source": [
        "def greet_pythons(items: list) -> None:\n",
        "\n",
        "    greeting='Hello'\n",
        "    print(id(greeting))\n",
        "    print(locals())\n",
        "    def make_greeting(item: str) -> str:\n",
        "        nonlocal greeting\n",
        "        greeting='Hi'\n",
        "        print(locals())\n",
        "        print(id(greeting))\n",
        "        return f'{greeting} {item}'\n",
        "    for item in items:\n",
        "        print(make_greeting(item))\n",
        "    print(greeting)\n",
        "    print(id(greeting))\n",
        "names = ['John']#'Eric', 'Graham', 'Terry', 'Terry', 'Michael']\n",
        "\n",
        "greet_pythons(names)"
      ],
      "metadata": {
        "colab": {
          "base_uri": "https://localhost:8080/"
        },
        "id": "vAGOvsyPunjC",
        "outputId": "cf1d2de6-a7c0-4813-dba5-bbf42572b104"
      },
      "execution_count": null,
      "outputs": [
        {
          "output_type": "stream",
          "name": "stdout",
          "text": [
            "140160271285616\n",
            "{'items': ['John'], 'greeting': 'Hello'}\n",
            "{'item': 'John', 'greeting': 'Hi'}\n",
            "140159659265072\n",
            "Hi John\n",
            "Hi\n",
            "140159659265072\n"
          ]
        }
      ]
    },
    {
      "cell_type": "code",
      "source": [
        "names = ['John','Eric', 'Graham', 'Terry', 'Terry', 'Michael']\n",
        "print(*names,sep=',')"
      ],
      "metadata": {
        "colab": {
          "base_uri": "https://localhost:8080/"
        },
        "id": "ZJHOEBZv7MSX",
        "outputId": "558392a0-48bd-46e4-cbdc-0219490729cc"
      },
      "execution_count": null,
      "outputs": [
        {
          "output_type": "stream",
          "name": "stdout",
          "text": [
            "John,Eric,Graham,Terry,Terry,Michael\n"
          ]
        }
      ]
    },
    {
      "cell_type": "code",
      "source": [
        "splitString = \"This string has been \\nsplit over\\nseveral\\nlines\"\n",
        "print(splitString)\n",
        "\n",
        "tabbedString = \"1\\t2\\t3\\t4\\t5\"\n",
        "print(tabbedString)\n",
        "\n",
        "print('The pet shop owner said \"No, no, \\'e\\'s uh,...he\\'s resting\".')\n",
        "# or\n",
        "print(\"The pet shop owner said \\\"No, no, 'e's uh,...he's resting\\\".\")\n",
        "\n",
        "print(\"\"\"The pet shop owner said \"No, no, \\\n",
        "'e's uh,...he's resting\". \"\"\")\n",
        "\n",
        "anotherString = \"\"\"This string has been \\\n",
        "split over \\\n",
        "several \\\n",
        "lines\"\"\"\n",
        "\n",
        "print(anotherString)"
      ],
      "metadata": {
        "id": "UYmuflt39m6w",
        "outputId": "4b340251-1730-487e-c3d6-be22a38c0bee",
        "colab": {
          "base_uri": "https://localhost:8080/"
        }
      },
      "execution_count": null,
      "outputs": [
        {
          "output_type": "stream",
          "name": "stdout",
          "text": [
            "This string has been \n",
            "split over\n",
            "several\n",
            "lines\n",
            "1\t2\t3\t4\t5\n",
            "The pet shop owner said \"No, no, 'e's uh,...he's resting\".\n",
            "The pet shop owner said \"No, no, 'e's uh,...he's resting\".\n",
            "The pet shop owner said \"No, no, 'e's uh,...he's resting\". \n",
            "This string has been split over several lines\n"
          ]
        }
      ]
    }
  ],
  "metadata": {
    "colab": {
      "toc_visible": true,
      "provenance": [],
      "include_colab_link": true
    },
    "kernelspec": {
      "display_name": "Python 3",
      "name": "python3"
    }
  },
  "nbformat": 4,
  "nbformat_minor": 0
}