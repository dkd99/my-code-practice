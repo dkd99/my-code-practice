{
  "cells": [
    {
      "cell_type": "markdown",
      "metadata": {
        "id": "view-in-github",
        "colab_type": "text"
      },
      "source": [
        "<a href=\"https://colab.research.google.com/github/dkd99/my-code-practice/blob/main/oops2.ipynb\" target=\"_parent\"><img src=\"https://colab.research.google.com/assets/colab-badge.svg\" alt=\"Open In Colab\"/></a>"
      ]
    },
    {
      "cell_type": "code",
      "source": [
        "class Enemy(object):\n",
        "\n",
        "    def __init__(self, name=\"Enemy\", hit_points=0, lives=1):\n",
        "        self.name = name\n",
        "        self.hit_points = hit_points\n",
        "        self.lives = lives\n",
        "\n",
        "    def take_damage(self, damage):\n",
        "        remaining_points = self.hit_points - damage\n",
        "        if remaining_points >= 0:\n",
        "            self.hit_points = remaining_points\n",
        "            print(\"I took {} points damage and have {} left\".format(damage, self.hit_points))\n",
        "        else:\n",
        "            self.lives -= 1\n",
        "\n",
        "    def __str__(self):\n",
        "        return \"Name: {0.name}, Lives: {0.lives}, Hit points: {0.hit_points}\".format(self)\n",
        "\n",
        "\n",
        "class Troll(Enemy):\n",
        "    pass"
      ],
      "metadata": {
        "id": "x16nZCl38uPg"
      },
      "execution_count": 1,
      "outputs": []
    },
    {
      "cell_type": "code",
      "source": [
        "x=Troll('deepak',12)"
      ],
      "metadata": {
        "id": "MLfyPN7N9P5K"
      },
      "execution_count": 7,
      "outputs": []
    },
    {
      "cell_type": "code",
      "source": [
        "print(x)"
      ],
      "metadata": {
        "id": "ZxPSTSyY9etM",
        "outputId": "0fe73933-23d1-4c76-d19d-e7af6d6a3625",
        "colab": {
          "base_uri": "https://localhost:8080/"
        }
      },
      "execution_count": 8,
      "outputs": [
        {
          "output_type": "stream",
          "name": "stdout",
          "text": [
            "Name: deepak, Lives: 1, Hit points: 12\n"
          ]
        }
      ]
    },
    {
      "cell_type": "code",
      "source": [
        "x.take_damage(6)"
      ],
      "metadata": {
        "id": "WMG36GwK9j8q",
        "outputId": "d8cd588b-7d98-402c-ee75-d29906678dc4",
        "colab": {
          "base_uri": "https://localhost:8080/"
        }
      },
      "execution_count": 9,
      "outputs": [
        {
          "output_type": "stream",
          "name": "stdout",
          "text": [
            "I took 6 points damage and have 6 left\n"
          ]
        }
      ]
    },
    {
      "cell_type": "code",
      "source": [
        "\n",
        "ugly_troll = Troll()\n",
        "print(\"Ugly troll - {}\".format(ugly_troll))\n",
        "\n",
        "another_troll = Troll(\"Ug\", 18, 1)\n",
        "print(\"Another troll - {}\".format(another_troll))\n",
        "\n",
        "brother = Enemy(\"Urg\", 23)\n",
        "print(brother)"
      ],
      "metadata": {
        "id": "JSKkQ7n5_btU",
        "outputId": "35de8a24-aaec-4b92-a35d-fc5983771777",
        "colab": {
          "base_uri": "https://localhost:8080/"
        }
      },
      "execution_count": 11,
      "outputs": [
        {
          "output_type": "stream",
          "name": "stdout",
          "text": [
            "Ugly troll - Name: Enemy, Lives: 1, Hit points: 0\n",
            "Another troll - Name: Ug, Lives: 1, Hit points: 18\n",
            "Name: Urg, Lives: 1, Hit points: 23\n"
          ]
        }
      ]
    },
    {
      "cell_type": "code",
      "source": [
        "# class Enemy:\n",
        "class Enemy(object):\n",
        "\n",
        "    def __init__(self, name=\"Enemy\", hit_points=0, lives=1):\n",
        "        self.name = name\n",
        "        self.hit_points = hit_points\n",
        "        self.lives = lives\n",
        "\n",
        "    def take_damage(self, damage):\n",
        "        remaining_points = self.hit_points - damage\n",
        "        if remaining_points >= 0:\n",
        "            self.hit_points = remaining_points\n",
        "            print(\"I took {} points damage and have {} left\".format(damage, self.hit_points))\n",
        "        else:\n",
        "            self.lives -= 1\n",
        "\n",
        "    def __str__(self):\n",
        "        return \"Name: {0.name}, Lives: {0.lives}, Hit points: {0.hit_points}\".format(self)\n",
        "\n",
        "\n",
        "class Troll(Enemy):\n",
        "\n",
        "    def __init__(self, name):\n",
        "        # super(Troll, self).__init__(name=name, lives=1, hit_points=23)\n",
        "        super().__init__(name=name, lives=1, hit_points=23)\n",
        "\n",
        "    def grunt(self):\n",
        "        print(\"Me {0.name}. {0.name} stomp you\".format(self))\n",
        "\n"
      ],
      "metadata": {
        "id": "fGrOtuhBHvYH"
      },
      "execution_count": 18,
      "outputs": []
    },
    {
      "cell_type": "code",
      "source": [
        "y=Troll('deepak')"
      ],
      "metadata": {
        "id": "6gQb_2MeIvWj"
      },
      "execution_count": 20,
      "outputs": []
    },
    {
      "cell_type": "code",
      "source": [
        "print(y)"
      ],
      "metadata": {
        "id": "SiQG35rlI356",
        "outputId": "c1395fe7-ba5e-4105-cdd9-8f47de465e92",
        "colab": {
          "base_uri": "https://localhost:8080/"
        }
      },
      "execution_count": 22,
      "outputs": [
        {
          "output_type": "stream",
          "name": "stdout",
          "text": [
            "Name: deepak, Lives: 1, Hit points: 23\n"
          ]
        }
      ]
    },
    {
      "cell_type": "code",
      "source": [
        "class Player(object):\n",
        "\n",
        "    def __init__(self, name):\n",
        "        self.name = name\n",
        "        self._lives = 3\n",
        "        self._level = 1\n",
        "        self.score = 0\n",
        "\n",
        "    def _get_lives(self):\n",
        "        return self._lives\n",
        "\n",
        "    def _set_lives(self, lives):\n",
        "        if lives >= 0:\n",
        "            self._lives = lives\n",
        "        else:\n",
        "            print(\"Lives cannot be negative\")\n",
        "            self._lives = 0\n",
        "\n",
        "    def _get_level(self):\n",
        "        return self._level\n",
        "\n",
        "    def _set_level(self, level):\n",
        "        if level > 0:\n",
        "            delta = level - self._level\n",
        "            self.score += delta * 1000\n",
        "            self._level = level\n",
        "        else:\n",
        "            print(\"Level can't be less than 1\")\n",
        "\n",
        "    lives = property(_get_lives, _set_lives)\n",
        "    level = property(_get_level, _set_level)\n",
        "\n",
        "    def __str__(self):\n",
        "        return \"Name: {0.name}, Lives: {0.lives}, Level: {0.level}, Score {0.score}\".format(self)\n",
        "\n"
      ],
      "metadata": {
        "id": "Ob2IY9hsBFJQ"
      },
      "execution_count": 13,
      "outputs": []
    },
    {
      "cell_type": "code",
      "source": [
        "\n",
        "tim = Player(\"Tim\")\n",
        "\n",
        "print(tim.name)\n",
        "print(tim.lives)\n",
        "tim.lives -= 1\n",
        "print(tim)\n",
        "\n",
        "tim.lives -= 1\n",
        "print(tim)\n",
        "\n",
        "tim.lives -= 1\n",
        "print(tim)\n",
        "\n",
        "tim.lives -= 1\n",
        "print(tim)\n",
        "\n",
        "tim._lives = 9\n",
        "print(tim)\n",
        "\n",
        "tim.level = 2\n",
        "print(tim)\n",
        "\n",
        "tim.level += 5\n",
        "print(tim)\n",
        "\n",
        "tim.level = 3\n",
        "print(tim)\n"
      ],
      "metadata": {
        "id": "AeMqo4-JBOD_",
        "outputId": "76f75b96-8b02-4b31-e6fe-5180c6724be5",
        "colab": {
          "base_uri": "https://localhost:8080/"
        }
      },
      "execution_count": 14,
      "outputs": [
        {
          "output_type": "stream",
          "name": "stdout",
          "text": [
            "Tim\n",
            "3\n",
            "Name: Tim, Lives: 2, Level: 1, Score 0\n",
            "Name: Tim, Lives: 1, Level: 1, Score 0\n",
            "Name: Tim, Lives: 0, Level: 1, Score 0\n",
            "Lives cannot be negative\n",
            "Name: Tim, Lives: 0, Level: 1, Score 0\n",
            "Name: Tim, Lives: 9, Level: 1, Score 0\n",
            "Name: Tim, Lives: 9, Level: 2, Score 1000\n",
            "Name: Tim, Lives: 9, Level: 7, Score 6000\n",
            "Name: Tim, Lives: 9, Level: 3, Score 2000\n"
          ]
        }
      ]
    },
    {
      "cell_type": "code",
      "source": [
        "class Student:\n",
        "    def __init__(self, name, age):\n",
        "        # private member\n",
        "        self.name = name\n",
        "        self.__age = age\n",
        "\n",
        "    # getter method\n",
        "    def _get_age(self):\n",
        "        return self.__age\n",
        "\n",
        "    # setter method\n",
        "    def _set_age(self, age):\n",
        "        self.__age = age\n",
        "\n",
        "stud = Student('Jessa', 14)\n",
        "\n",
        "# retrieving age using getter\n",
        "print('Name:', stud.name, stud._get_age())\n",
        "\n",
        "# changing age using setter\n",
        "stud._set_age(16)\n",
        "\n",
        "# retrieving age using getter\n",
        "print('Name:', stud.name, stud._get_age())"
      ],
      "metadata": {
        "id": "BnCln6k5DHGj",
        "outputId": "75b7b600-ca9d-4905-9407-a976b653ac80",
        "colab": {
          "base_uri": "https://localhost:8080/"
        }
      },
      "execution_count": 17,
      "outputs": [
        {
          "output_type": "stream",
          "name": "stdout",
          "text": [
            "Name: Jessa 14\n",
            "Name: Jessa 16\n"
          ]
        }
      ]
    },
    {
      "cell_type": "code",
      "source": [
        "class Player(object):\n",
        "\n",
        "    def __init__(self, name):\n",
        "        self.name = name\n",
        "        self._lives = 3\n",
        "        self._level = 1\n",
        "        self._score = 0\n",
        "\n",
        "    def _get_lives(self):\n",
        "        return self._lives\n",
        "\n",
        "    def _set_lives(self, lives):\n",
        "        if lives >= 0:\n",
        "            self._lives = lives\n",
        "        else:\n",
        "            print(\"Lives cannot be negative\")\n",
        "            self._lives = 0\n",
        "\n",
        "    def _get_level(self):\n",
        "        return self._level\n",
        "\n",
        "    def _set_level(self, level):\n",
        "        if level > 0:\n",
        "            delta = level - self._level\n",
        "            self._score += delta * 1000\n",
        "            self._level = level\n",
        "        else:\n",
        "            print(\"Level can't be less than 1\")\n",
        "\n",
        "    lives = property(_get_lives, _set_lives)\n",
        "    level = property(_get_level, _set_level)\n",
        "\n",
        "    @property\n",
        "    def score(self):\n",
        "        return self._score\n",
        "\n",
        "    @score.setter\n",
        "    def score(self, score):\n",
        "        self._score = score\n",
        "\n",
        "    def __str__(self):\n",
        "        return \"Name: {0.name}, Lives: {0.lives}, Level: {0.level}, Score {0.score}\".format(self)\n",
        "\n"
      ],
      "metadata": {
        "id": "AHw2Nsz5ACgW"
      },
      "execution_count": 12,
      "outputs": []
    },
    {
      "cell_type": "code",
      "source": [
        "# class Enemy:\n",
        "class Enemy(object):\n",
        "\n",
        "    def __init__(self, name=\"Enemy\", hit_points=0, lives=1):\n",
        "        self.name = name\n",
        "        self.hit_points = hit_points\n",
        "        self.lives = lives\n",
        "\n",
        "    def take_damage(self, damage):\n",
        "        remaining_points = self.hit_points - damage\n",
        "        if remaining_points >= 0:\n",
        "            self.hit_points = remaining_points\n",
        "            print(\"I took {} points damage and have {} left\".format(damage, self.hit_points))\n",
        "        else:\n",
        "            self.lives -= 1\n",
        "\n",
        "    def __str__(self):\n",
        "        return \"Name: {0.name}, Lives: {0.lives}, Hit points: {0.hit_points}\".format(self)\n",
        "\n",
        "\n",
        "class Troll(Enemy):\n",
        "\n",
        "    def __init__(self, name):\n",
        "        # super(Troll, self).__init__(name=name, lives=1, hit_points=23)\n",
        "        super().__init__(name=name, lives=1, hit_points=23)\n",
        "\n",
        "    def grunt(self):\n",
        "        print(\"Me {0.name}. {0.name} stomp you\".format(self))\n",
        "\n"
      ],
      "metadata": {
        "id": "NuWH1OsQHoRL"
      },
      "execution_count": null,
      "outputs": []
    }
  ],
  "metadata": {
    "colab": {
      "name": "Welcome To Colaboratory",
      "toc_visible": true,
      "provenance": [],
      "include_colab_link": true
    },
    "kernelspec": {
      "display_name": "Python 3",
      "name": "python3"
    }
  },
  "nbformat": 4,
  "nbformat_minor": 0
}