{
  "cells": [
    {
      "cell_type": "markdown",
      "metadata": {
        "id": "view-in-github",
        "colab_type": "text"
      },
      "source": [
        "<a href=\"https://colab.research.google.com/github/dkd99/my-code-practice/blob/main/week%208%20code.ipynb\" target=\"_parent\"><img src=\"https://colab.research.google.com/assets/colab-badge.svg\" alt=\"Open In Colab\"/></a>"
      ]
    },
    {
      "cell_type": "code",
      "source": [
        "a=[1,2,3,4,5]\n",
        "b=[]"
      ],
      "metadata": {
        "id": "ASNNG7k1hdql"
      },
      "execution_count": 4,
      "outputs": []
    },
    {
      "cell_type": "code",
      "source": [
        "b.append(a[2:4])\n",
        "\n"
      ],
      "metadata": {
        "id": "yLWvF_mEhlkt"
      },
      "execution_count": 5,
      "outputs": []
    },
    {
      "cell_type": "code",
      "source": [
        "b.append(a[2])"
      ],
      "metadata": {
        "id": "HQvrSKu9hzrY"
      },
      "execution_count": 7,
      "outputs": []
    },
    {
      "cell_type": "code",
      "source": [
        "b"
      ],
      "metadata": {
        "id": "Eg2mFo00h5fL",
        "outputId": "8662a273-61e5-4f12-869b-16708ae8d96a",
        "colab": {
          "base_uri": "https://localhost:8080/"
        }
      },
      "execution_count": 8,
      "outputs": [
        {
          "output_type": "execute_result",
          "data": {
            "text/plain": [
              "[[3, 4], 3]"
            ]
          },
          "metadata": {},
          "execution_count": 8
        }
      ]
    },
    {
      "cell_type": "code",
      "source": [
        "l=eval(input())\n",
        "x=[]\n",
        "i=0\n",
        "z=i\n",
        "while i<len(l)-2:\n",
        "  z=i\n",
        "  y=0\n",
        "  if l[i]==l[i+1]:\n",
        "      \n",
        "    while l[i]==l[i+1]:\n",
        "      \n",
        "      i=i+1\n",
        "      y=y+1\n",
        "      \n",
        "      \n",
        "      \n",
        "    x.append(l[z:z+y+1])\n",
        "    z=i\n",
        "  \n",
        "\n",
        "  else:\n",
        "    if l[i+1]==l[i+2]:\n",
        "      \n",
        "      i=i+1\n",
        "      z=i\n",
        "      pass\n",
        "    \n",
        "    else:\n",
        "      x.append([l[i+1]])\n",
        "      i=i+1\n",
        "      z=i\n",
        "\n",
        "x.append(l[len(l)-1])  \n",
        "print(x)"
      ],
      "metadata": {
        "id": "y3DjLqJtiRX7",
        "outputId": "0a19b636-702c-49d5-e8d3-dbd8a81e23e2",
        "colab": {
          "base_uri": "https://localhost:8080/"
        }
      },
      "execution_count": 48,
      "outputs": [
        {
          "output_type": "stream",
          "name": "stdout",
          "text": [
            "[0, 0, 1, 2, 3, 4, 4, 5, 6, 6, 6, 7, 8, 9]\n",
            "0\n",
            "5\n",
            "8\n",
            "8\n",
            "[[0, 0], [1], [2], [3], [4, 4], [5], [6, 6, 6], [7], [8], 9]\n"
          ]
        }
      ]
    },
    {
      "cell_type": "code",
      "source": [
        "l=eval(input())\n",
        "from itertools import groupby\n",
        "def pack_consecutive_duplicates(l_nums):\n",
        "    return [list(group) for key, group in groupby(l_nums)]\n",
        "  \n",
        "print(pack_consecutive_duplicates(l))"
      ],
      "metadata": {
        "id": "XuLyDSa656va",
        "outputId": "9645fbc0-97bc-49f4-fb42-7dc6ebae2375",
        "colab": {
          "base_uri": "https://localhost:8080/"
        }
      },
      "execution_count": 49,
      "outputs": [
        {
          "output_type": "stream",
          "name": "stdout",
          "text": [
            "[0, 0, 1, 2, 3, 4, 4, 5, 6, 6, 6, 7, 8, 9, 4, 4 ]\n",
            "[[0, 0], [1], [2], [3], [4, 4], [5], [6, 6, 6], [7], [8], [9], [4, 4]]\n"
          ]
        }
      ]
    },
    {
      "cell_type": "code",
      "source": [
        "l=[0, 0, 1, 2, 3, 4, 4, 5, 6, 6, 6, 7, 8, 9, 4, 4 ]\n",
        "result=[]\n",
        "for key, group in groupby(l):\n",
        "  result.append(list(group))\n",
        "  print(key)\n",
        "result"
      ],
      "metadata": {
        "id": "3LEi0Uu06gMI",
        "outputId": "669750f2-d71e-4500-8a44-ef16e1f4bf5d",
        "colab": {
          "base_uri": "https://localhost:8080/"
        }
      },
      "execution_count": 52,
      "outputs": [
        {
          "output_type": "stream",
          "name": "stdout",
          "text": [
            "0\n",
            "1\n",
            "2\n",
            "3\n",
            "4\n",
            "5\n",
            "6\n",
            "7\n",
            "8\n",
            "9\n",
            "4\n"
          ]
        },
        {
          "output_type": "execute_result",
          "data": {
            "text/plain": [
              "[[0, 0], [1], [2], [3], [4, 4], [5], [6, 6, 6], [7], [8], [9], [4, 4]]"
            ]
          },
          "metadata": {},
          "execution_count": 52
        }
      ]
    },
    {
      "cell_type": "code",
      "source": [
        "num=8\n",
        "for i in range(num):\n",
        "  print(('*').join([str(i) for i in range(1,num+1-i)]))"
      ],
      "metadata": {
        "id": "f6u1Jclc7UNL",
        "outputId": "fd13491f-3ddc-4999-d06c-17a2c62feb0d",
        "colab": {
          "base_uri": "https://localhost:8080/"
        }
      },
      "execution_count": 55,
      "outputs": [
        {
          "output_type": "stream",
          "name": "stdout",
          "text": [
            "1*2*3*4*5*6*7*8\n",
            "1*2*3*4*5*6*7\n",
            "1*2*3*4*5*6\n",
            "1*2*3*4*5\n",
            "1*2*3*4\n",
            "1*2*3\n",
            "1*2\n",
            "1\n"
          ]
        }
      ]
    },
    {
      "cell_type": "code",
      "source": [
        "for i in range(1,6):\n",
        "  \n",
        "  print('*'*i,end='')\n",
        "  print('')"
      ],
      "metadata": {
        "id": "CgiCaPluA14b",
        "outputId": "a1d4dbda-1a3f-49ea-88fa-fe0cb900f244",
        "colab": {
          "base_uri": "https://localhost:8080/"
        }
      },
      "execution_count": 60,
      "outputs": [
        {
          "output_type": "stream",
          "name": "stdout",
          "text": [
            "*\n",
            "**\n",
            "***\n",
            "****\n",
            "*****\n"
          ]
        }
      ]
    }
  ],
  "metadata": {
    "colab": {
      "name": "Welcome To Colaboratory",
      "toc_visible": true,
      "provenance": [],
      "include_colab_link": true
    },
    "kernelspec": {
      "display_name": "Python 3",
      "name": "python3"
    }
  },
  "nbformat": 4,
  "nbformat_minor": 0
}