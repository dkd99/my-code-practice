{
  "cells": [
    {
      "cell_type": "markdown",
      "metadata": {
        "id": "view-in-github",
        "colab_type": "text"
      },
      "source": [
        "<a href=\"https://colab.research.google.com/github/dkd99/my-code-practice/blob/main/Decorator.ipynb\" target=\"_parent\"><img src=\"https://colab.research.google.com/assets/colab-badge.svg\" alt=\"Open In Colab\"/></a>"
      ]
    },
    {
      "cell_type": "markdown",
      "source": [
        "In Python, functions are considered \"first-class citizens,\" which means that functions are treated as objects and can be assigned to variables, passed as arguments to other functions, and returned as values from functions. This concept is known as first-class functions.\n",
        "\n",
        "Here are some characteristics of first-class functions in Python:\n",
        "\n",
        "Functions can be assigned to variables:"
      ],
      "metadata": {
        "id": "cATE5YibZCl8"
      }
    },
    {
      "cell_type": "code",
      "source": [
        "def greet():\n",
        "    print(\"Hello!\")\n",
        "\n",
        "function_var = greet\n",
        "function_var()  # Output: Hello!"
      ],
      "metadata": {
        "id": "zZ_31yHwZFeC",
        "outputId": "067fa5cf-6f89-4bd6-93d2-9172a1632ee5",
        "colab": {
          "base_uri": "https://localhost:8080/"
        }
      },
      "execution_count": null,
      "outputs": [
        {
          "output_type": "stream",
          "name": "stdout",
          "text": [
            "Hello!\n"
          ]
        }
      ]
    },
    {
      "cell_type": "markdown",
      "source": [
        "Functions can be passed as arguments to other functions:\n"
      ],
      "metadata": {
        "id": "0scPHYwjZj4W"
      }
    },
    {
      "cell_type": "code",
      "source": [
        "def greet():\n",
        "    print(\"Hello!\")\n",
        "\n",
        "def call_func(func):\n",
        "    func()\n",
        "\n",
        "call_func(greet)  # Output: Hello!"
      ],
      "metadata": {
        "id": "tYBwTak4ZjTM",
        "outputId": "ecf9fdd4-0ed0-4e25-a4c5-b84f88429a9d",
        "colab": {
          "base_uri": "https://localhost:8080/"
        }
      },
      "execution_count": null,
      "outputs": [
        {
          "output_type": "stream",
          "name": "stdout",
          "text": [
            "Hello!\n"
          ]
        }
      ]
    },
    {
      "cell_type": "markdown",
      "source": [
        "Functions can be returned as values from other functions:"
      ],
      "metadata": {
        "id": "a8UYKI7kZwSq"
      }
    },
    {
      "cell_type": "code",
      "source": [
        "def greet():\n",
        "    print(\"Hello!\")\n",
        "\n",
        "def get_greeter():\n",
        "    return greet\n",
        "\n",
        "greeter = get_greeter()\n",
        "greeter()  # Output: Hello!"
      ],
      "metadata": {
        "id": "S_WFYcCvZsij"
      },
      "execution_count": null,
      "outputs": []
    },
    {
      "cell_type": "markdown",
      "source": [
        "Functions can be defined inside other functions (nested functions):"
      ],
      "metadata": {
        "id": "hxRzIyT8Z2Uo"
      }
    },
    {
      "cell_type": "code",
      "source": [
        "def outer_func():\n",
        "    def inner_func():\n",
        "        print(\"Inside inner function\")\n",
        "    inner_func()\n",
        "\n",
        "outer_func()  # Output: Inside inner function"
      ],
      "metadata": {
        "id": "5PRbrWKQaFkw",
        "outputId": "ee1f6231-1023-45e6-b3a1-94af64eb9664",
        "colab": {
          "base_uri": "https://localhost:8080/"
        }
      },
      "execution_count": null,
      "outputs": [
        {
          "output_type": "stream",
          "name": "stdout",
          "text": [
            "Inside inner function\n"
          ]
        }
      ]
    },
    {
      "cell_type": "code",
      "source": [
        "x=outer_func"
      ],
      "metadata": {
        "id": "MJhLryJlbRP0"
      },
      "execution_count": null,
      "outputs": []
    },
    {
      "cell_type": "code",
      "source": [
        "x()"
      ],
      "metadata": {
        "id": "_KACMcsmbaIa",
        "outputId": "cd635494-57f0-42b9-fce4-7cec114cae94",
        "colab": {
          "base_uri": "https://localhost:8080/"
        }
      },
      "execution_count": null,
      "outputs": [
        {
          "output_type": "stream",
          "name": "stdout",
          "text": [
            "Inside inner function\n"
          ]
        }
      ]
    },
    {
      "cell_type": "markdown",
      "source": [
        "Functions can be stored in data structures such as lists, dictionaries, or tuples:\n"
      ],
      "metadata": {
        "id": "6d4VtJNpaxSK"
      }
    },
    {
      "cell_type": "code",
      "source": [
        "def greet():\n",
        "    print(\"Hello!\")\n",
        "\n",
        "func_list = [greet]\n",
        "func_list[0]()  # Output: Hello!"
      ],
      "metadata": {
        "id": "9nfOrzAFa-q2",
        "outputId": "878dd9bf-832c-4cd1-bcd5-65c5dd28907c",
        "colab": {
          "base_uri": "https://localhost:8080/"
        }
      },
      "execution_count": null,
      "outputs": [
        {
          "output_type": "stream",
          "name": "stdout",
          "text": [
            "Hello!\n"
          ]
        }
      ]
    },
    {
      "cell_type": "markdown",
      "source": [
        "A closure is an thst remembers and has access to variables in local scope in which it was created even after the outer function has finished executing."
      ],
      "metadata": {
        "id": "zpCOIwjxRLxl"
      }
    },
    {
      "cell_type": "markdown",
      "source": [
        "In Python, a closure is a function object that remembers values in the enclosing scope even if they are not present in memory. It is a combination of a function and the environment in which it was defined. The closure retains the values of the variables from the outer function or module where it was defined, even when the outer function has finished executing.\n",
        "\n",
        "\n"
      ],
      "metadata": {
        "id": "gdqEYPEHSwF6"
      }
    },
    {
      "cell_type": "markdown",
      "source": [
        "In this example, outer_function is defined with a parameter x. Inside outer_function, there is another function called inner_function that takes a parameter y and returns the sum of x and y. outer_function returns inner_function as its result.\n",
        "\n",
        "When we call outer_function(10), it returns the inner_function object. This returned function closure is a closure because it \"closes over\" the variable x from the outer function outer_function. Even though outer_function has finished executing, the returned closure closure still retains the value of x, which is 10.\n",
        "\n",
        "When we subsequently call closure(5), it adds the value 5 to the retained x value (10) and returns the result 15. The closure remembers the value of x that was present when it was created.\n",
        "\n",
        "Closures are commonly used when we want to create functions with pre-initialized parameters or when we want to create function factories that generate customized functions based on some input or configuration. They provide a way to encapsulate and carry around data within a function, allowing for more flexible and powerful programming techniques."
      ],
      "metadata": {
        "id": "ycR3bp_yUSmL"
      }
    },
    {
      "cell_type": "code",
      "source": [
        "def fun(x,y):\n",
        "  x+y"
      ],
      "metadata": {
        "id": "5-gjk7L6UCQk"
      },
      "execution_count": null,
      "outputs": []
    },
    {
      "cell_type": "code",
      "source": [
        "fun(3,4)"
      ],
      "metadata": {
        "id": "FuJGiPDaUG3l"
      },
      "execution_count": null,
      "outputs": []
    },
    {
      "cell_type": "code",
      "source": [
        "def outer_func():\n",
        "  message='Hi'\n",
        "  def inner_fun():\n",
        "    print(message)\n",
        "  return inner_fun()"
      ],
      "metadata": {
        "id": "rgNEa3yfNtRJ"
      },
      "execution_count": null,
      "outputs": []
    },
    {
      "cell_type": "code",
      "source": [
        "def outer_function(x):\n",
        "    def inner_function(y):\n",
        "        return x + y\n",
        "    return inner_function\n",
        "\n",
        "closure = outer_function(10)\n",
        "print(closure(5))  # Output: 15"
      ],
      "metadata": {
        "id": "NJhxmHnPS_GG",
        "outputId": "bb19c357-970b-4ff6-c851-810775fc37ee",
        "colab": {
          "base_uri": "https://localhost:8080/"
        }
      },
      "execution_count": null,
      "outputs": [
        {
          "output_type": "stream",
          "name": "stdout",
          "text": [
            "15\n"
          ]
        }
      ]
    },
    {
      "cell_type": "code",
      "source": [
        "outer_func()"
      ],
      "metadata": {
        "id": "TE4iJ4d1OB5w",
        "outputId": "03c6c062-37fc-4868-a920-8cb8d7d95007",
        "colab": {
          "base_uri": "https://localhost:8080/"
        }
      },
      "execution_count": null,
      "outputs": [
        {
          "output_type": "stream",
          "name": "stdout",
          "text": [
            "Hi\n"
          ]
        }
      ]
    },
    {
      "cell_type": "code",
      "source": [
        "def outer_func():\n",
        "  message='Hi'\n",
        "  def inner_fun():\n",
        "    print(message)\n",
        "  return inner_fun"
      ],
      "metadata": {
        "id": "AZzf63ZIOUZJ"
      },
      "execution_count": null,
      "outputs": []
    },
    {
      "cell_type": "code",
      "source": [
        "my_func=outer_func()"
      ],
      "metadata": {
        "id": "5gUOQkSTOdug"
      },
      "execution_count": null,
      "outputs": []
    },
    {
      "cell_type": "code",
      "source": [
        "print(my_func)"
      ],
      "metadata": {
        "id": "IQFlBXWKOkJ7",
        "outputId": "fc2b4eb7-3e86-4ed1-8955-3f9e9aa1ffb0",
        "colab": {
          "base_uri": "https://localhost:8080/"
        }
      },
      "execution_count": null,
      "outputs": [
        {
          "output_type": "stream",
          "name": "stdout",
          "text": [
            "<function outer_func.<locals>.inner_fun at 0x7f661d3a7a30>\n"
          ]
        }
      ]
    },
    {
      "cell_type": "code",
      "source": [
        "print(my_func.__name__)"
      ],
      "metadata": {
        "id": "FEESfzSDOqlO",
        "outputId": "587e7574-1018-4827-9d70-f02f23aaefa7",
        "colab": {
          "base_uri": "https://localhost:8080/"
        }
      },
      "execution_count": null,
      "outputs": [
        {
          "output_type": "stream",
          "name": "stdout",
          "text": [
            "inner_fun\n"
          ]
        }
      ]
    },
    {
      "cell_type": "code",
      "source": [
        "print(my_func())"
      ],
      "metadata": {
        "id": "j_fuhpFoO1VA",
        "outputId": "8e3c3ad8-e48b-43d7-bc93-314e9e496167",
        "colab": {
          "base_uri": "https://localhost:8080/"
        }
      },
      "execution_count": null,
      "outputs": [
        {
          "output_type": "stream",
          "name": "stdout",
          "text": [
            "Hi\n",
            "None\n"
          ]
        }
      ]
    },
    {
      "cell_type": "code",
      "source": [
        "\n",
        "def html_tag(tag):\n",
        "\n",
        "    def wrap_text(msg):\n",
        "        print('<{0}>{1}</{0}>'.format(tag, msg))\n",
        "\n",
        "    return wrap_text\n",
        "\n",
        "print_h1 = html_tag('h1')\n",
        "print_h1('Test Headline!')\n",
        "print_h1('Another Headline!')\n",
        "\n",
        "print_p = html_tag('p')\n",
        "print_p('Test Paragraph!')"
      ],
      "metadata": {
        "id": "3rfizU1lMqSs",
        "outputId": "b7c6eba6-a43b-472f-a9ec-804bb15f7f16",
        "colab": {
          "base_uri": "https://localhost:8080/"
        }
      },
      "execution_count": null,
      "outputs": [
        {
          "output_type": "stream",
          "name": "stdout",
          "text": [
            "<h1>Test Headline!</h1>\n",
            "<h1>Another Headline!</h1>\n",
            "<p>Test Paragraph!</p>\n"
          ]
        }
      ]
    },
    {
      "cell_type": "code",
      "source": [
        "\n",
        "# Closures\n",
        "\n",
        "import logging\n",
        "logging.basicConfig(filename='example.log', level=logging.INFO)\n",
        "\n",
        "\n",
        "def logger(func):\n",
        "    def log_func(*args):\n",
        "        logging.info(\n",
        "            'Running \"{}\" with arguments {}'.format(func.__name__, args))\n",
        "        print(func(*args))\n",
        "    return log_func\n",
        "\n",
        "\n",
        "def add(x, y):\n",
        "    return x+y\n",
        "\n",
        "\n",
        "def sub(x, y):\n",
        "    return x-y\n",
        "\n",
        "add_logger = logger(add)\n",
        "sub_logger = logger(sub)\n",
        "\n",
        "add_logger(3, 3)\n",
        "add_logger(4, 5)\n",
        "\n",
        "sub_logger(10, 5)\n",
        "sub_logger(20, 10)"
      ],
      "metadata": {
        "id": "t5lKZSrzNPwj"
      },
      "execution_count": null,
      "outputs": []
    },
    {
      "cell_type": "code",
      "source": [
        "def outer():\n",
        "    x = 10\n",
        "    def inner():\n",
        "        y = 20\n",
        "    inner()\n",
        "    return x + y\n",
        "\n",
        "my_func = outer\n",
        "\n",
        "print(my_func())"
      ],
      "metadata": {
        "id": "v6j5gtz6NeyJ",
        "outputId": "617a6114-5915-4f32-a227-1ff56d65b5db",
        "colab": {
          "base_uri": "https://localhost:8080/",
          "height": 321
        }
      },
      "execution_count": null,
      "outputs": [
        {
          "output_type": "error",
          "ename": "NameError",
          "evalue": "ignored",
          "traceback": [
            "\u001b[0;31m---------------------------------------------------------------------------\u001b[0m",
            "\u001b[0;31mNameError\u001b[0m                                 Traceback (most recent call last)",
            "\u001b[0;32m<ipython-input-14-ccdbeab763b3>\u001b[0m in \u001b[0;36m<cell line: 10>\u001b[0;34m()\u001b[0m\n\u001b[1;32m      8\u001b[0m \u001b[0mmy_func\u001b[0m \u001b[0;34m=\u001b[0m \u001b[0mouter\u001b[0m\u001b[0;34m\u001b[0m\u001b[0;34m\u001b[0m\u001b[0m\n\u001b[1;32m      9\u001b[0m \u001b[0;34m\u001b[0m\u001b[0m\n\u001b[0;32m---> 10\u001b[0;31m \u001b[0mprint\u001b[0m\u001b[0;34m(\u001b[0m\u001b[0mmy_func\u001b[0m\u001b[0;34m(\u001b[0m\u001b[0;34m)\u001b[0m\u001b[0;34m)\u001b[0m\u001b[0;34m\u001b[0m\u001b[0;34m\u001b[0m\u001b[0m\n\u001b[0m",
            "\u001b[0;32m<ipython-input-14-ccdbeab763b3>\u001b[0m in \u001b[0;36mouter\u001b[0;34m()\u001b[0m\n\u001b[1;32m      4\u001b[0m         \u001b[0my\u001b[0m \u001b[0;34m=\u001b[0m \u001b[0;36m20\u001b[0m\u001b[0;34m\u001b[0m\u001b[0;34m\u001b[0m\u001b[0m\n\u001b[1;32m      5\u001b[0m     \u001b[0minner\u001b[0m\u001b[0;34m(\u001b[0m\u001b[0;34m)\u001b[0m\u001b[0;34m\u001b[0m\u001b[0;34m\u001b[0m\u001b[0m\n\u001b[0;32m----> 6\u001b[0;31m     \u001b[0;32mreturn\u001b[0m \u001b[0mx\u001b[0m \u001b[0;34m+\u001b[0m \u001b[0my\u001b[0m\u001b[0;34m\u001b[0m\u001b[0;34m\u001b[0m\u001b[0m\n\u001b[0m\u001b[1;32m      7\u001b[0m \u001b[0;34m\u001b[0m\u001b[0m\n\u001b[1;32m      8\u001b[0m \u001b[0mmy_func\u001b[0m \u001b[0;34m=\u001b[0m \u001b[0mouter\u001b[0m\u001b[0;34m\u001b[0m\u001b[0;34m\u001b[0m\u001b[0m\n",
            "\u001b[0;31mNameError\u001b[0m: name 'y' is not defined"
          ]
        }
      ]
    },
    {
      "cell_type": "code",
      "source": [
        "def decorator_fun(original_function):\n",
        "  def wrapper_fun():\n",
        "    return original_function()\n",
        "  return wrapper_fun\n"
      ],
      "metadata": {
        "id": "BJTngYqKUukL"
      },
      "execution_count": null,
      "outputs": []
    },
    {
      "cell_type": "code",
      "source": [
        "def display():\n",
        "  print('display function ran')"
      ],
      "metadata": {
        "id": "HphyFMqUVIE2"
      },
      "execution_count": null,
      "outputs": []
    },
    {
      "cell_type": "code",
      "source": [
        "decorated_display=decorator_fun(display)\n",
        "decorated_display()"
      ],
      "metadata": {
        "id": "2mPqDsL7VUtl",
        "outputId": "a5af7a84-811f-449e-cd7f-adc87611fd12",
        "colab": {
          "base_uri": "https://localhost:8080/"
        }
      },
      "execution_count": null,
      "outputs": [
        {
          "output_type": "stream",
          "name": "stdout",
          "text": [
            "display function ran\n"
          ]
        }
      ]
    },
    {
      "cell_type": "code",
      "source": [
        "def decorator_fun(original_function):\n",
        "  def wrapper_fun():\n",
        "    print('wrapper executed this before'.format(original_function.__name__))\n",
        "    return original_function()\n",
        "  return wrapper_fun"
      ],
      "metadata": {
        "id": "6b9nAaGcWSbY"
      },
      "execution_count": null,
      "outputs": []
    },
    {
      "cell_type": "code",
      "source": [
        "decorated_display=decorator_fun(display)\n",
        "decorated_display()"
      ],
      "metadata": {
        "id": "UsVYFtiQWqe8",
        "outputId": "08e831a4-33ac-411c-e050-dc8c8e718b09",
        "colab": {
          "base_uri": "https://localhost:8080/"
        }
      },
      "execution_count": null,
      "outputs": [
        {
          "output_type": "stream",
          "name": "stdout",
          "text": [
            "wrapper executed this before\n",
            "display function ran\n"
          ]
        }
      ]
    },
    {
      "cell_type": "code",
      "source": [
        "@decorator_fun\n",
        "def display():\n",
        "  print('display function ran')"
      ],
      "metadata": {
        "id": "XUZW4MO3V9vO"
      },
      "execution_count": null,
      "outputs": []
    },
    {
      "cell_type": "code",
      "source": [
        "display()"
      ],
      "metadata": {
        "id": "H7JrFEh1WxRx",
        "outputId": "839539a1-3442-4089-8833-937ab515c214",
        "colab": {
          "base_uri": "https://localhost:8080/"
        }
      },
      "execution_count": null,
      "outputs": [
        {
          "output_type": "stream",
          "name": "stdout",
          "text": [
            "wrapper executed this before\n",
            "display function ran\n"
          ]
        }
      ]
    },
    {
      "cell_type": "code",
      "source": [
        "def decorator_fun(original_function):\n",
        "  def wrapper_fun(*args,**kwargs):\n",
        "    print('wrapper executed this before'.format(original_function.__name__))\n",
        "    return original_function(*args,**kwargs)\n",
        "  return wrapper_fun"
      ],
      "metadata": {
        "id": "luSIj2bIXfTW"
      },
      "execution_count": null,
      "outputs": []
    },
    {
      "cell_type": "code",
      "source": [
        "@decorator_fun\n",
        "def display():\n",
        "  print('display function ran')\n",
        "def display_info(name,age):\n",
        "  print('display_info ran with arguments ({},{})'.format(name,age))\n"
      ],
      "metadata": {
        "id": "x_Rf5EUTXrgk"
      },
      "execution_count": null,
      "outputs": []
    },
    {
      "cell_type": "code",
      "source": [
        "display_info('deepak',29)"
      ],
      "metadata": {
        "id": "fUkFkIYnYOPr",
        "outputId": "d668879c-4daa-4230-eee8-b930a337c154",
        "colab": {
          "base_uri": "https://localhost:8080/"
        }
      },
      "execution_count": null,
      "outputs": [
        {
          "output_type": "stream",
          "name": "stdout",
          "text": [
            "display_info ran with arguments (deepak,29)\n"
          ]
        }
      ]
    },
    {
      "cell_type": "code",
      "source": [
        "display()"
      ],
      "metadata": {
        "id": "CZ4KT1sCYYRr",
        "outputId": "f0779067-ade2-4280-cff6-61b920ae727b",
        "colab": {
          "base_uri": "https://localhost:8080/"
        }
      },
      "execution_count": null,
      "outputs": [
        {
          "output_type": "stream",
          "name": "stdout",
          "text": [
            "wrapper executed this before\n",
            "display function ran\n"
          ]
        }
      ]
    },
    {
      "cell_type": "code",
      "source": [
        "\n",
        "\n",
        "\n",
        "\n",
        "class decorator_class(object):\n",
        "\n",
        "    def __init__(self, original_function):\n",
        "        self.original_function = original_function\n",
        "\n",
        "    def __call__(self, *args, **kwargs):\n",
        "        print('call method before {}'.format(self.original_function.__name__))\n",
        "        self.original_function(*args, **kwargs)\n",
        "\n",
        "\n",
        "# Practical Examples\n",
        "\n",
        "def my_logger(orig_func):\n",
        "    import logging\n",
        "    logging.basicConfig(filename='{}.log'.format(orig_func.__name__), level=logging.INFO)\n",
        "\n",
        "    def wrapper(*args, **kwargs):\n",
        "        logging.info(\n",
        "            'Ran with args: {}, and kwargs: {}'.format(args, kwargs))\n",
        "        return orig_func(*args, **kwargs)\n",
        "\n",
        "    return wrapper\n",
        "\n",
        "\n",
        "def my_timer(orig_func):\n",
        "    import time\n",
        "\n",
        "    def wrapper(*args, **kwargs):\n",
        "        t1 = time.time()\n",
        "        result = orig_func(*args, **kwargs)\n",
        "        t2 = time.time() - t1\n",
        "        print('{} ran in: {} sec'.format(orig_func.__name__, t2))\n",
        "        return result\n",
        "\n",
        "    return wrapper\n",
        "\n",
        "import time\n"
      ],
      "metadata": {
        "id": "_Onf9QUWSW4J"
      },
      "execution_count": null,
      "outputs": []
    }
  ],
  "metadata": {
    "colab": {
      "toc_visible": true,
      "provenance": [],
      "include_colab_link": true
    },
    "kernelspec": {
      "display_name": "Python 3",
      "name": "python3"
    }
  },
  "nbformat": 4,
  "nbformat_minor": 0
}