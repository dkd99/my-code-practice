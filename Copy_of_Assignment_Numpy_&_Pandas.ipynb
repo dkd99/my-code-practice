{
  "nbformat": 4,
  "nbformat_minor": 0,
  "metadata": {
    "colab": {
      "provenance": [],
      "include_colab_link": true
    },
    "kernelspec": {
      "name": "python3",
      "display_name": "Python 3"
    },
    "language_info": {
      "name": "python"
    }
  },
  "cells": [
    {
      "cell_type": "markdown",
      "metadata": {
        "id": "view-in-github",
        "colab_type": "text"
      },
      "source": [
        "<a href=\"https://colab.research.google.com/github/dkd99/my-code-practice/blob/main/Copy_of_Assignment_Numpy_%26_Pandas.ipynb\" target=\"_parent\"><img src=\"https://colab.research.google.com/assets/colab-badge.svg\" alt=\"Open In Colab\"/></a>"
      ]
    },
    {
      "cell_type": "markdown",
      "source": [
        "### **Python Numpy Assignment**"
      ],
      "metadata": {
        "id": "1nm7LVI67IhZ"
      }
    },
    {
      "cell_type": "code",
      "source": [
        "import numpy as np"
      ],
      "metadata": {
        "id": "yOlPSziON61V"
      },
      "execution_count": 2,
      "outputs": []
    },
    {
      "cell_type": "markdown",
      "source": [
        "**Q1) Write a python program to count the frequency of unique values in NumPy array.**"
      ],
      "metadata": {
        "id": "ZLB8e0daOFX9"
      }
    },
    {
      "cell_type": "code",
      "source": [
        "ini_array = np.array([10, 20, 5, 10, 8, 20, 8, 9])              \n",
        "  \n",
        "# Get a tuple of unique values \n",
        "# and their frequency in\n",
        "# numpy array\n",
        "x,y=np.unique(ini_array,return_counts=True)\n",
        "\n",
        "# print unique values array\n",
        "print(x)\n",
        "  \n",
        "# print frequency array\n",
        "print(y)"
      ],
      "metadata": {
        "id": "L3PVEPPcLaVP",
        "colab": {
          "base_uri": "https://localhost:8080/"
        },
        "outputId": "e296076d-1aaf-4800-ebcf-4117825a023b"
      },
      "execution_count": null,
      "outputs": [
        {
          "output_type": "stream",
          "name": "stdout",
          "text": [
            "[ 5  8  9 10 20]\n",
            "[1 2 1 2 2]\n"
          ]
        }
      ]
    },
    {
      "cell_type": "markdown",
      "source": [
        "**Q2) Write a program to add a border of zeros around the existing array.**\n",
        "\n",
        "For example,\n",
        "If you have the below array:\n",
        "\n",
        "[[ 1.  1.  1.  1.]                                                          \n",
        " [ 1.  1.  1.  1.]                                                          \n",
        " [ 1.  1.  1.  1.]] \n",
        "\n",
        " The resultant array should be: (zeros on the border and 1s within it)\n",
        "\n",
        " [[ 0.  0.  0.  0.  0.  0.]                                                  \n",
        " [ 0.  1.  1.  1.  1.  0.]                                                  \n",
        " [ 0.  1.  1.  1.  1.  0.]                                                  \n",
        " [ 0.  1.  1.  1.  1.  0.]                                                  \n",
        " [ 0.  0.  0.  0.  0.  0.]]"
      ],
      "metadata": {
        "id": "LE-j9GNgij1h"
      }
    },
    {
      "cell_type": "code",
      "source": [
        "a.shape[1]"
      ],
      "metadata": {
        "colab": {
          "base_uri": "https://localhost:8080/"
        },
        "id": "GBgeSgY2JEls",
        "outputId": "0fb4e457-11fa-4b39-8736-1ae1de436c67"
      },
      "execution_count": null,
      "outputs": [
        {
          "output_type": "execute_result",
          "data": {
            "text/plain": [
              "4"
            ]
          },
          "metadata": {},
          "execution_count": 14
        }
      ]
    },
    {
      "cell_type": "code",
      "source": [
        "\n",
        "# Create NumPy arrays filled with ones\n",
        "ones_arr = np.ones((4,4))\n",
        "\n",
        "print(\"Transformed array:\")\n",
        "transformed_array = np.pad(ones_arr, pad_width=1, mode='constant', constant_values=0)\n",
        "print(transformed_array)"
      ],
      "metadata": {
        "colab": {
          "base_uri": "https://localhost:8080/"
        },
        "id": "VpO-pk6N6Sii",
        "outputId": "a0337bd4-443d-4fb2-b23c-c571c9807cc2"
      },
      "execution_count": null,
      "outputs": [
        {
          "output_type": "stream",
          "name": "stdout",
          "text": [
            "Transformed array:\n",
            "[[0. 0. 0. 0. 0. 0.]\n",
            " [0. 1. 1. 1. 1. 0.]\n",
            " [0. 1. 1. 1. 1. 0.]\n",
            " [0. 1. 1. 1. 1. 0.]\n",
            " [0. 1. 1. 1. 1. 0.]\n",
            " [0. 0. 0. 0. 0. 0.]]\n"
          ]
        }
      ]
    },
    {
      "cell_type": "code",
      "source": [
        "# Create NumPy arrays filled with ones\n",
        "a=np.array([[ 1.,1.,1.,1.],[ 1.,1.,1.,1.],[1.,1.,1.,1.]] )\n",
        "a=np.insert(a,0,0,axis=1)\n",
        "a=np.insert(a,a.shape[1],0,axis=1)\n",
        "a=a=np.insert(a,0,0,axis=0)\n",
        "a=np.insert(a,a.shape[0],0,axis=0)\n",
        "a\n",
        "\n",
        "\n"
      ],
      "metadata": {
        "id": "YZKTO0LRjGFr",
        "colab": {
          "base_uri": "https://localhost:8080/"
        },
        "outputId": "413a5333-651b-40a2-e95b-7d492fb8bd59"
      },
      "execution_count": null,
      "outputs": [
        {
          "output_type": "execute_result",
          "data": {
            "text/plain": [
              "array([[0., 0., 0., 0., 0., 0.],\n",
              "       [0., 1., 1., 1., 1., 0.],\n",
              "       [0., 1., 1., 1., 1., 0.],\n",
              "       [0., 1., 1., 1., 1., 0.],\n",
              "       [0., 0., 0., 0., 0., 0.]])"
            ]
          },
          "metadata": {},
          "execution_count": 20
        }
      ]
    },
    {
      "cell_type": "markdown",
      "source": [
        "**Q3) Write a program for creating an integer array with values belonging to the range 10 and 60**"
      ],
      "metadata": {
        "id": "7SXBI82YjWaC"
      }
    },
    {
      "cell_type": "code",
      "source": [
        "# Write your code here\n",
        "np.arange(10,61)\n"
      ],
      "metadata": {
        "id": "gv8XqWw7jgD9",
        "colab": {
          "base_uri": "https://localhost:8080/"
        },
        "outputId": "de57d97f-315c-4858-8a81-87fb6da582e0"
      },
      "execution_count": null,
      "outputs": [
        {
          "output_type": "execute_result",
          "data": {
            "text/plain": [
              "array([10, 11, 12, 13, 14, 15, 16, 17, 18, 19, 20, 21, 22, 23, 24, 25, 26,\n",
              "       27, 28, 29, 30, 31, 32, 33, 34, 35, 36, 37, 38, 39, 40, 41, 42, 43,\n",
              "       44, 45, 46, 47, 48, 49, 50, 51, 52, 53, 54, 55, 56, 57, 58, 59, 60])"
            ]
          },
          "metadata": {},
          "execution_count": 26
        }
      ]
    },
    {
      "cell_type": "markdown",
      "source": [
        "**Q4) Write a program to repeat each of the elements five times for a given array.**"
      ],
      "metadata": {
        "id": "7Dty8gLEjpet"
      }
    },
    {
      "cell_type": "code",
      "source": [
        "# Create Sample NumPy Array\n",
        "arr = np.array(['i', 'love', 'NumPy', 'AND', 'almabetter'], dtype=str)\n",
        "arr.repeat(5)"
      ],
      "metadata": {
        "id": "kWyEIta2jvui",
        "colab": {
          "base_uri": "https://localhost:8080/"
        },
        "outputId": "108b1dd0-0b95-4cf9-fb0a-e589d6394aa2"
      },
      "execution_count": null,
      "outputs": [
        {
          "output_type": "execute_result",
          "data": {
            "text/plain": [
              "array(['i', 'i', 'i', 'i', 'i', 'love', 'love', 'love', 'love', 'love',\n",
              "       'NumPy', 'NumPy', 'NumPy', 'NumPy', 'NumPy', 'AND', 'AND', 'AND',\n",
              "       'AND', 'AND', 'almabetter', 'almabetter', 'almabetter',\n",
              "       'almabetter', 'almabetter'], dtype='<U10')"
            ]
          },
          "metadata": {},
          "execution_count": 29
        }
      ]
    },
    {
      "cell_type": "markdown",
      "source": [
        "**Q5) Write a program for inserting space between characters of all elements in a NumPy array.**"
      ],
      "metadata": {
        "id": "Yezog8zDj6nf"
      }
    },
    {
      "cell_type": "code",
      "source": [
        "# Create Sample NumPy Array\n",
        "arr = np.array(['i', 'love', 'NumPy', 'AND', 'almabetter'], dtype=str)\n",
        "np.char.join(' ', arr) \n"
      ],
      "metadata": {
        "id": "-l9YtvArkMfm",
        "colab": {
          "base_uri": "https://localhost:8080/"
        },
        "outputId": "c395e17a-79f8-430c-b78f-b8da31868043"
      },
      "execution_count": null,
      "outputs": [
        {
          "output_type": "execute_result",
          "data": {
            "text/plain": [
              "array(['i', 'l o v e', 'N u m P y', 'A N D', 'a l m a b e t t e r'],\n",
              "      dtype='<U19')"
            ]
          },
          "metadata": {},
          "execution_count": 30
        }
      ]
    },
    {
      "cell_type": "markdown",
      "source": [
        "**Q6) Write a program to transform elements of a given string to a numeric string of 10 digits by making all the elements of a given string to a numeric string of 8 digits with zeros on the left.**"
      ],
      "metadata": {
        "id": "miaZp2_nkNRj"
      }
    },
    {
      "cell_type": "code",
      "source": [
        "# Create Sample NumPy array\n",
        "arr = np.array(['22', '9', '1234', '567', '89102'], dtype=str)\n",
        "\n",
        "np.char.zfill(arr, 8)"
      ],
      "metadata": {
        "id": "qSG3aQ2ckS45",
        "colab": {
          "base_uri": "https://localhost:8080/"
        },
        "outputId": "b7237237-5482-4fd3-d6d4-1648578afd69"
      },
      "execution_count": null,
      "outputs": [
        {
          "output_type": "execute_result",
          "data": {
            "text/plain": [
              "array(['00000022', '00000009', '00001234', '00000567', '00089102'],\n",
              "      dtype='<U8')"
            ]
          },
          "metadata": {},
          "execution_count": 31
        }
      ]
    },
    {
      "cell_type": "markdown",
      "source": [
        "**Q7) Write a program to convert a string element to uppercase, lowercase, capitalise the first letter, title-case and swapcase of a given NumPy array.**"
      ],
      "metadata": {
        "id": "OQCMfBXNkWLs"
      }
    },
    {
      "cell_type": "code",
      "source": [
        "# Create Sample NumPy array\n",
        "arr = np.array(['i', 'love', 'NumPy', 'AND', 'almabetter'], dtype=str)\n",
        "upper=np.char.upper(arr)\n",
        "print(upper)\n",
        "lower=np.char.lower(arr)\n",
        "print(lower)\n",
        "capitalise=np.char.capitalize(arr)\n",
        "print(capitalise)\n",
        "title=np.char.title(arr)\n",
        "print(title)\n",
        "swap=np.char.swapcase(arr)\n",
        "print(swap)"
      ],
      "metadata": {
        "id": "OMHN98vOxkhN",
        "colab": {
          "base_uri": "https://localhost:8080/"
        },
        "outputId": "613ffc20-6ea0-4eb5-af2d-c41922b17c08"
      },
      "execution_count": null,
      "outputs": [
        {
          "output_type": "stream",
          "name": "stdout",
          "text": [
            "['I' 'LOVE' 'NUMPY' 'AND' 'ALMABETTER']\n",
            "['i' 'love' 'numpy' 'and' 'almabetter']\n",
            "['I' 'Love' 'Numpy' 'And' 'Almabetter']\n",
            "['I' 'Love' 'Numpy' 'And' 'Almabetter']\n",
            "['I' 'LOVE' 'nUMpY' 'and' 'ALMABETTER']\n"
          ]
        }
      ]
    },
    {
      "cell_type": "markdown",
      "source": [
        "**Q8) Write a python program to create a numpy array of length 10, starting from 5 and has a step of 3 between consecutive numbers?**"
      ],
      "metadata": {
        "id": "5KMrBWClxp3l"
      }
    },
    {
      "cell_type": "code",
      "source": [
        "# Write your code here\n",
        "x=5\n",
        "i=0\n",
        "while i<10:\n",
        "  x=x+3\n",
        "  i=i+1\n",
        "print(x)\n",
        "\n",
        "np.arange(5,x,3)"
      ],
      "metadata": {
        "id": "j6CWMEZW2PSL",
        "colab": {
          "base_uri": "https://localhost:8080/"
        },
        "outputId": "d6a793b7-7fdd-4ba2-d604-8786ad4155ee"
      },
      "execution_count": null,
      "outputs": [
        {
          "output_type": "stream",
          "name": "stdout",
          "text": [
            "35\n"
          ]
        },
        {
          "output_type": "execute_result",
          "data": {
            "text/plain": [
              "array([ 5,  8, 11, 14, 17, 20, 23, 26, 29, 32])"
            ]
          },
          "metadata": {},
          "execution_count": 3
        }
      ]
    },
    {
      "cell_type": "markdown",
      "source": [
        "**Q9) Write a python program to find the index of 5th repetition of number 1 in x.**\n",
        "\n",
        "x = np.array([1, 2, 1, 1, 3, 4, 3, 1, 1, 2, 1, 1, 2])"
      ],
      "metadata": {
        "id": "fdNB52xY2WRh"
      }
    },
    {
      "cell_type": "code",
      "source": [
        "# Write your code here\n",
        "x = np.array([1, 2, 1, 1, 3, 4, 3, 1, 1, 2, 1, 1, 2])\n",
        "np.where(x == 1)[0][4]"
      ],
      "metadata": {
        "id": "fWSTg8sO4iaH",
        "colab": {
          "base_uri": "https://localhost:8080/"
        },
        "outputId": "e3585f08-3249-400b-c411-26e7edb29724"
      },
      "execution_count": null,
      "outputs": [
        {
          "output_type": "execute_result",
          "data": {
            "text/plain": [
              "8"
            ]
          },
          "metadata": {},
          "execution_count": 6
        }
      ]
    },
    {
      "cell_type": "markdown",
      "source": [
        "**Q10) Write a python program to subtract the 1d array b_1d from the 2d array a_2d, such that each item of b_1d subtracts from respective row of a_2d.**\n",
        "\n",
        "a_2d = np.array([[3,3,3],[4,4,4],[5,5,5]])\n",
        "\n",
        "b_1d = np.array([1,2,3])"
      ],
      "metadata": {
        "id": "vR3RFy4h4vJF"
      }
    },
    {
      "cell_type": "code",
      "source": [
        "# Write your code here\n",
        "import numpy as np\n",
        "# Input\n",
        "a_2d = np.array([[3,3,3],[4,4,4],[5,5,5]])\n",
        "b_1d = np.array([1,2,3])\n",
        "b_1d.reshape(3,1)\n",
        "a_2d-b_1d[:,None]\n"
      ],
      "metadata": {
        "id": "FHRCImA35hyH",
        "colab": {
          "base_uri": "https://localhost:8080/"
        },
        "outputId": "0c0499a4-54cd-4381-a3bc-09f3e31fdc31"
      },
      "execution_count": 15,
      "outputs": [
        {
          "output_type": "execute_result",
          "data": {
            "text/plain": [
              "array([[2, 2, 2],\n",
              "       [2, 2, 2],\n",
              "       [2, 2, 2]])"
            ]
          },
          "metadata": {},
          "execution_count": 15
        }
      ]
    },
    {
      "cell_type": "markdown",
      "source": [
        "**Q11) Find all the peaks in a 1D numpy array a. Peaks are points surrounded by smaller values on both sides.**\n",
        "\n",
        "**Input:**\n",
        "\n",
        "a = np.array([1, 3, 7, 1, 2, 6, 0, 1])\n",
        "\n",
        "**Desired Output:**\n",
        "\n",
        "array([2, 5])\n",
        "\n",
        "where, 2 and 5 are the positions of peak values 7 and 6."
      ],
      "metadata": {
        "id": "cFM3vmUt5isD"
      }
    },
    {
      "cell_type": "code",
      "source": [
        "# Write your code here\n",
        "a = np.array([1, 3, 7, 1, 2, 6, 0, 1])\n",
        "a = np.array([1, 3, 7, 1, 2, 6, 0, 1])\n",
        "print(np.diff(a))\n",
        "print(np.sign(np.diff(a)))\n",
        "double_succesive_diff = np.diff(np.sign(np.diff(a)))\n",
        "\n",
        "peaks = np.where(double_succesive_diff == -2)[0] + 1\n",
        "peaks"
      ],
      "metadata": {
        "id": "Z3fthnC45_IX",
        "colab": {
          "base_uri": "https://localhost:8080/"
        },
        "outputId": "ff81cd4c-3851-4a7a-8364-3c1f7029e6c1"
      },
      "execution_count": 21,
      "outputs": [
        {
          "output_type": "stream",
          "name": "stdout",
          "text": [
            "[ 2  4 -6  1  4 -6  1]\n",
            "[ 1  1 -1  1  1 -1  1]\n"
          ]
        },
        {
          "output_type": "execute_result",
          "data": {
            "text/plain": [
              "array([2, 5])"
            ]
          },
          "metadata": {},
          "execution_count": 21
        }
      ]
    },
    {
      "cell_type": "markdown",
      "source": [
        "**Q12) Compute the euclidean distance between two arrays a and b.**"
      ],
      "metadata": {
        "id": "EnCYHINO6Sv9"
      }
    },
    {
      "cell_type": "code",
      "source": [
        "# Input\n",
        "a = np.array([1,2,3,4,5])\n",
        "b = np.array([4,5,6,7,8])\n",
        "np.sqrt(np.sum((a-b)**2))\n",
        "# Write your code here\n",
        "eucledian_dist=np.sqrt(np.sum((a-b)**2))\n",
        "eucledian_dist"
      ],
      "metadata": {
        "id": "P0ipu_8d6Zcn",
        "colab": {
          "base_uri": "https://localhost:8080/"
        },
        "outputId": "a90eb864-947f-4774-d561-5564b07b6aa3"
      },
      "execution_count": 28,
      "outputs": [
        {
          "output_type": "execute_result",
          "data": {
            "text/plain": [
              "6.708203932499369"
            ]
          },
          "metadata": {},
          "execution_count": 28
        }
      ]
    },
    {
      "cell_type": "markdown",
      "source": [
        "**Q13) Compute the min-by-max for each row for given 2d numpy array.**"
      ],
      "metadata": {
        "id": "wxun6Qzn6dwu"
      }
    },
    {
      "cell_type": "code",
      "source": [
        "# Write your code here\n",
        "np.random.seed(100)\n",
        "a = np.random.randint(1,10, [5,3])\n",
        "a\n",
        "# Input\n",
        "np.apply_along_axis(lambda x: np.min(x)/np.max(x), arr=a, axis=1)\n"
      ],
      "metadata": {
        "id": "bI9IyDan67l7",
        "colab": {
          "base_uri": "https://localhost:8080/"
        },
        "outputId": "bdaca54a-aa7e-437a-8ef7-9e6e930834ab"
      },
      "execution_count": 31,
      "outputs": [
        {
          "output_type": "execute_result",
          "data": {
            "text/plain": [
              "array([0.44444444, 0.125     , 0.5       , 1.        , 0.11111111])"
            ]
          },
          "metadata": {},
          "execution_count": 31
        }
      ]
    },
    {
      "cell_type": "markdown",
      "source": [
        "**Q14) From the array a, replace all values greater than 30 to 30 and less than 10 to 10.**\n",
        "\n",
        "**Input:**\n",
        "\n",
        "np.random.seed(100)\n",
        "\n",
        "a = np.random.uniform(1,50, 20)"
      ],
      "metadata": {
        "id": "XNuj5cDp7DKP"
      }
    },
    {
      "cell_type": "code",
      "source": [
        "# Write your code here\n",
        "np.random.seed(100)\n",
        "a = np.random.uniform(1,50, 20)\n",
        "print(a)\n",
        "a[a>30]=30\n",
        "a[a<10]=10\n",
        "a"
      ],
      "metadata": {
        "id": "ufvqm-HU9vPC",
        "colab": {
          "base_uri": "https://localhost:8080/"
        },
        "outputId": "af7e5b7f-4e4b-4666-dc41-eec5bac7f330"
      },
      "execution_count": 35,
      "outputs": [
        {
          "output_type": "stream",
          "name": "stdout",
          "text": [
            "[27.62684215 14.64009987 21.80136195 42.39403048  1.23122395  6.95688692\n",
            " 33.86670515 41.466785    7.69862289 29.17957314 44.67477576 11.25090398\n",
            " 10.08108276  6.31046763 11.76517714 48.95256545 40.77247431  9.42510962\n",
            " 40.99501269 14.42961361]\n"
          ]
        },
        {
          "output_type": "execute_result",
          "data": {
            "text/plain": [
              "array([27.62684215, 14.64009987, 21.80136195, 30.        , 10.        ,\n",
              "       10.        , 30.        , 30.        , 10.        , 29.17957314,\n",
              "       30.        , 11.25090398, 10.08108276, 10.        , 11.76517714,\n",
              "       30.        , 30.        , 10.        , 30.        , 14.42961361])"
            ]
          },
          "metadata": {},
          "execution_count": 35
        }
      ]
    },
    {
      "cell_type": "markdown",
      "source": [
        "###**Python iris Case Study**\n",
        "\n",
        "Import the iris dataset keeping the text intact."
      ],
      "metadata": {
        "id": "8h_JZAY0-AHg"
      }
    },
    {
      "cell_type": "code",
      "source": [
        "url = 'https://archive.ics.uci.edu/ml/machine-learning-databases/iris/iris.data'\n",
        "iris = np.genfromtxt(url, delimiter=',', dtype='object')\n",
        "names = ('sepallength', 'sepalwidth', 'petallength', 'petalwidth', 'species')\n",
        "\n",
        "# Print the first 3 rows\n",
        "iris[:3]"
      ],
      "metadata": {
        "id": "RzJWUEIE-6tu",
        "colab": {
          "base_uri": "https://localhost:8080/"
        },
        "outputId": "97818ce9-fa19-45b7-e14d-15021b86dba0"
      },
      "execution_count": 39,
      "outputs": [
        {
          "output_type": "execute_result",
          "data": {
            "text/plain": [
              "array([[b'5.1', b'3.5', b'1.4', b'0.2', b'Iris-setosa'],\n",
              "       [b'4.9', b'3.0', b'1.4', b'0.2', b'Iris-setosa'],\n",
              "       [b'4.7', b'3.2', b'1.3', b'0.2', b'Iris-setosa']], dtype=object)"
            ]
          },
          "metadata": {},
          "execution_count": 39
        }
      ]
    },
    {
      "cell_type": "markdown",
      "source": [
        "**Q15) Extract the text column species from the 1D iris imported in previous question.**"
      ],
      "metadata": {
        "id": "fPWbXqxUEHq8"
      }
    },
    {
      "cell_type": "code",
      "source": [
        "# Input:\n",
        "url = 'https://archive.ics.uci.edu/ml/machine-learning-databases/iris/iris.data'\n",
        "iris_1d = np.genfromtxt(url, delimiter=',', dtype=None)\n",
        "print(iris_1d.shape)\n",
        "\n",
        "# Solution:\n",
        "species = np.array([row[4] for row in iris_1d])\n",
        "species[:5]"
      ],
      "metadata": {
        "colab": {
          "base_uri": "https://localhost:8080/"
        },
        "id": "zaAgARBHEWEa",
        "outputId": "f1aa0562-09e2-4196-808d-8ebc64b6e987"
      },
      "execution_count": 41,
      "outputs": [
        {
          "output_type": "stream",
          "name": "stdout",
          "text": [
            "(150,)\n"
          ]
        },
        {
          "output_type": "stream",
          "name": "stderr",
          "text": [
            "<ipython-input-41-829f333da6c1>:3: VisibleDeprecationWarning: Reading unicode strings without specifying the encoding argument is deprecated. Set the encoding, use None for the system default.\n",
            "  iris_1d = np.genfromtxt(url, delimiter=',', dtype=None)\n"
          ]
        },
        {
          "output_type": "execute_result",
          "data": {
            "text/plain": [
              "array([b'Iris-setosa', b'Iris-setosa', b'Iris-setosa', b'Iris-setosa',\n",
              "       b'Iris-setosa'], dtype='|S15')"
            ]
          },
          "metadata": {},
          "execution_count": 41
        }
      ]
    },
    {
      "cell_type": "markdown",
      "source": [
        "**Q16) Convert the 1D iris to 2D array iris_2d by omitting the species text field.**"
      ],
      "metadata": {
        "id": "ImQLVAMSEco8"
      }
    },
    {
      "cell_type": "code",
      "source": [
        "# Input:\n",
        "url = 'https://archive.ics.uci.edu/ml/machine-learning-databases/iris/iris.data'\n",
        "iris_1d = np.genfromtxt(url, delimiter=',', dtype=None)\n",
        "print(iris_1d[:3])\n",
        "# Solution:\n",
        "iris_2d = np.array([row.tolist()[:4] for row in iris_1d])\n",
        "iris_2d[:4]"
      ],
      "metadata": {
        "colab": {
          "base_uri": "https://localhost:8080/"
        },
        "id": "FXKb6jKoEkI2",
        "outputId": "f7e2b757-03cc-437c-8b58-780cb827e554"
      },
      "execution_count": 4,
      "outputs": [
        {
          "output_type": "stream",
          "name": "stdout",
          "text": [
            "[(5.1, 3.5, 1.4, 0.2, b'Iris-setosa') (4.9, 3. , 1.4, 0.2, b'Iris-setosa')\n",
            " (4.7, 3.2, 1.3, 0.2, b'Iris-setosa')]\n"
          ]
        },
        {
          "output_type": "stream",
          "name": "stderr",
          "text": [
            "<ipython-input-4-9f991d5fc891>:3: VisibleDeprecationWarning: Reading unicode strings without specifying the encoding argument is deprecated. Set the encoding, use None for the system default.\n",
            "  iris_1d = np.genfromtxt(url, delimiter=',', dtype=None)\n"
          ]
        },
        {
          "output_type": "execute_result",
          "data": {
            "text/plain": [
              "array([[5.1, 3.5, 1.4, 0.2],\n",
              "       [4.9, 3. , 1.4, 0.2],\n",
              "       [4.7, 3.2, 1.3, 0.2],\n",
              "       [4.6, 3.1, 1.5, 0.2]])"
            ]
          },
          "metadata": {},
          "execution_count": 4
        }
      ]
    },
    {
      "cell_type": "markdown",
      "source": [
        "**Q17) Find the mean, median, standard deviation of iris's sepallength (1st column)**"
      ],
      "metadata": {
        "id": "5IiJHuBBIlLh"
      }
    },
    {
      "cell_type": "code",
      "source": [
        "# Input\n",
        "url = 'https://archive.ics.uci.edu/ml/machine-learning-databases/iris/iris.data'\n",
        "iris = np.genfromtxt(url, delimiter=',', dtype='object')\n",
        "sepallength = np.genfromtxt(url, delimiter=',', dtype='float', usecols=[0])\n",
        "\n",
        "# Solution\n",
        "print(sepallength[:10])\n",
        "mean, median, st_dev = np.mean(sepallength), np.median(sepallength), np.std(sepallength)\n",
        "print('mean:',mean)\n",
        "print('median:',median)\n",
        "print('standard deviation:',st_dev)"
      ],
      "metadata": {
        "id": "ABfktAZCIp7Z",
        "colab": {
          "base_uri": "https://localhost:8080/"
        },
        "outputId": "20e664f6-dcb7-40ed-a669-83983f271ce1"
      },
      "execution_count": 11,
      "outputs": [
        {
          "output_type": "stream",
          "name": "stdout",
          "text": [
            "[5.1 4.9 4.7 4.6 5.  5.4 4.6 5.  4.4 4.9]\n",
            "mean: 5.843333333333334\n",
            "median: 5.8\n",
            "standard deviation: 0.8253012917851409\n"
          ]
        }
      ]
    },
    {
      "cell_type": "markdown",
      "source": [
        "**Q18) Create a normalized form of iris's sepallength whose values range exactly between 0 and 1 so that the minimum has value 0 and maximum has value 1.**"
      ],
      "metadata": {
        "id": "sc4LKK7uItU0"
      }
    },
    {
      "cell_type": "code",
      "source": [
        "# Input\n",
        "url = 'https://archive.ics.uci.edu/ml/machine-learning-databases/iris/iris.data'\n",
        "sepallength = np.genfromtxt(url, delimiter=',', dtype='float', usecols=[0])\n",
        "\n",
        "# Solution\n",
        "Smax, Smin = sepallength.max(), sepallength.min()\n",
        "normalized_S = (sepallength - Smin)/(Smax - Smin)\n",
        "print(normalized_S[:10])\n"
      ],
      "metadata": {
        "id": "MC1p-FcfIzUO",
        "colab": {
          "base_uri": "https://localhost:8080/"
        },
        "outputId": "93f6e63f-20f6-4aef-e628-138757216fdc"
      },
      "execution_count": 12,
      "outputs": [
        {
          "output_type": "stream",
          "name": "stdout",
          "text": [
            "[0.22222222 0.16666667 0.11111111 0.08333333 0.19444444 0.30555556\n",
            " 0.08333333 0.19444444 0.02777778 0.16666667]\n"
          ]
        }
      ]
    },
    {
      "cell_type": "markdown",
      "source": [
        "**Q19) Find the 5th and 95th percentile of iris's sepallength**"
      ],
      "metadata": {
        "id": "w1F2KcCPI_l-"
      }
    },
    {
      "cell_type": "code",
      "source": [
        "# Input\n",
        "url = 'https://archive.ics.uci.edu/ml/machine-learning-databases/iris/iris.data'\n",
        "sepallength = np.genfromtxt(url, delimiter=',', dtype='float', usecols=[0])\n",
        "\n",
        "# Solution\n",
        "print('5th percentile:',np.percentile(sepallength,5))\n",
        "print('95th percentile:',np.percentile(sepallength,95))"
      ],
      "metadata": {
        "id": "FdzNyzzmJF2J",
        "colab": {
          "base_uri": "https://localhost:8080/"
        },
        "outputId": "b62837fd-3369-40c0-c145-902478b970e9"
      },
      "execution_count": 17,
      "outputs": [
        {
          "output_type": "stream",
          "name": "stdout",
          "text": [
            "5th percentile: 4.6\n",
            "95th percentile: 7.254999999999998\n"
          ]
        }
      ]
    },
    {
      "cell_type": "markdown",
      "source": [
        "**Q20) Insert np.nan values at 20 random positions in iris_2d dataset**"
      ],
      "metadata": {
        "id": "WfNXJ7oXJJKO"
      }
    },
    {
      "cell_type": "code",
      "source": [
        "# Input\n",
        "url = 'https://archive.ics.uci.edu/ml/machine-learning-databases/iris/iris.data'\n",
        "iris_2d = np.genfromtxt(url, delimiter=',', dtype='object')\n",
        "print(iris_2d.shape)\n",
        "np.random.seed(100)\n",
        "iris_2d[np.random.randint(iris_2d.shape[0], size=20), np.random.randint(iris_2d.shape[1], size=20)] = np.nan\n",
        "iris_2d\n"
      ],
      "metadata": {
        "id": "anB-f4AkJObc",
        "colab": {
          "base_uri": "https://localhost:8080/"
        },
        "outputId": "e08b4218-ad16-4b30-9603-990ebadc52ef"
      },
      "execution_count": 47,
      "outputs": [
        {
          "output_type": "stream",
          "name": "stdout",
          "text": [
            "(150, 5)\n"
          ]
        },
        {
          "output_type": "execute_result",
          "data": {
            "text/plain": [
              "array([[b'5.1', b'3.5', b'1.4', b'0.2', b'Iris-setosa'],\n",
              "       [b'4.9', b'3.0', b'1.4', b'0.2', b'Iris-setosa'],\n",
              "       [b'4.7', b'3.2', b'1.3', b'0.2', b'Iris-setosa'],\n",
              "       [b'4.6', b'3.1', b'1.5', b'0.2', b'Iris-setosa'],\n",
              "       [b'5.0', b'3.6', b'1.4', b'0.2', b'Iris-setosa'],\n",
              "       [b'5.4', b'3.9', b'1.7', b'0.4', b'Iris-setosa'],\n",
              "       [b'4.6', b'3.4', b'1.4', b'0.3', b'Iris-setosa'],\n",
              "       [b'5.0', b'3.4', b'1.5', b'0.2', b'Iris-setosa'],\n",
              "       [b'4.4', b'2.9', nan, b'0.2', b'Iris-setosa'],\n",
              "       [b'4.9', b'3.1', b'1.5', b'0.1', b'Iris-setosa'],\n",
              "       [b'5.4', b'3.7', b'1.5', b'0.2', b'Iris-setosa'],\n",
              "       [b'4.8', b'3.4', b'1.6', b'0.2', b'Iris-setosa'],\n",
              "       [b'4.8', b'3.0', b'1.4', b'0.1', b'Iris-setosa'],\n",
              "       [b'4.3', b'3.0', b'1.1', b'0.1', b'Iris-setosa'],\n",
              "       [b'5.8', nan, b'1.2', b'0.2', b'Iris-setosa'],\n",
              "       [b'5.7', b'4.4', b'1.5', b'0.4', b'Iris-setosa'],\n",
              "       [b'5.4', b'3.9', b'1.3', b'0.4', b'Iris-setosa'],\n",
              "       [b'5.1', b'3.5', b'1.4', b'0.3', b'Iris-setosa'],\n",
              "       [b'5.7', b'3.8', b'1.7', b'0.3', b'Iris-setosa'],\n",
              "       [b'5.1', b'3.8', b'1.5', b'0.3', b'Iris-setosa'],\n",
              "       [b'5.4', b'3.4', b'1.7', b'0.2', b'Iris-setosa'],\n",
              "       [b'5.1', b'3.7', b'1.5', b'0.4', b'Iris-setosa'],\n",
              "       [b'4.6', b'3.6', b'1.0', b'0.2', b'Iris-setosa'],\n",
              "       [b'5.1', b'3.3', b'1.7', b'0.5', b'Iris-setosa'],\n",
              "       [b'4.8', b'3.4', b'1.9', nan, b'Iris-setosa'],\n",
              "       [b'5.0', b'3.0', b'1.6', b'0.2', b'Iris-setosa'],\n",
              "       [b'5.0', b'3.4', b'1.6', b'0.4', b'Iris-setosa'],\n",
              "       [b'5.2', b'3.5', b'1.5', b'0.2', b'Iris-setosa'],\n",
              "       [b'5.2', b'3.4', b'1.4', b'0.2', b'Iris-setosa'],\n",
              "       [b'4.7', b'3.2', b'1.6', b'0.2', b'Iris-setosa'],\n",
              "       [b'4.8', b'3.1', b'1.6', b'0.2', b'Iris-setosa'],\n",
              "       [b'5.4', b'3.4', b'1.5', b'0.4', b'Iris-setosa'],\n",
              "       [b'5.2', b'4.1', b'1.5', b'0.1', b'Iris-setosa'],\n",
              "       [b'5.5', b'4.2', b'1.4', b'0.2', b'Iris-setosa'],\n",
              "       [b'4.9', nan, b'1.5', b'0.1', b'Iris-setosa'],\n",
              "       [b'5.0', b'3.2', b'1.2', b'0.2', b'Iris-setosa'],\n",
              "       [b'5.5', b'3.5', b'1.3', b'0.2', b'Iris-setosa'],\n",
              "       [b'4.9', b'3.1', b'1.5', b'0.1', b'Iris-setosa'],\n",
              "       [b'4.4', b'3.0', b'1.3', b'0.2', b'Iris-setosa'],\n",
              "       [b'5.1', b'3.4', b'1.5', b'0.2', b'Iris-setosa'],\n",
              "       [b'5.0', b'3.5', b'1.3', b'0.3', b'Iris-setosa'],\n",
              "       [b'4.5', b'2.3', b'1.3', b'0.3', b'Iris-setosa'],\n",
              "       [b'4.4', b'3.2', b'1.3', b'0.2', b'Iris-setosa'],\n",
              "       [b'5.0', b'3.5', b'1.6', b'0.6', b'Iris-setosa'],\n",
              "       [b'5.1', b'3.8', b'1.9', b'0.4', b'Iris-setosa'],\n",
              "       [b'4.8', b'3.0', b'1.4', b'0.3', b'Iris-setosa'],\n",
              "       [b'5.1', b'3.8', b'1.6', b'0.2', b'Iris-setosa'],\n",
              "       [b'4.6', b'3.2', b'1.4', b'0.2', b'Iris-setosa'],\n",
              "       [b'5.3', b'3.7', b'1.5', b'0.2', b'Iris-setosa'],\n",
              "       [b'5.0', b'3.3', b'1.4', b'0.2', b'Iris-setosa'],\n",
              "       [b'7.0', b'3.2', b'4.7', b'1.4', b'Iris-versicolor'],\n",
              "       [b'6.4', b'3.2', b'4.5', b'1.5', b'Iris-versicolor'],\n",
              "       [b'6.9', b'3.1', b'4.9', b'1.5', b'Iris-versicolor'],\n",
              "       [b'5.5', b'2.3', b'4.0', nan, b'Iris-versicolor'],\n",
              "       [b'6.5', b'2.8', b'4.6', b'1.5', b'Iris-versicolor'],\n",
              "       [b'5.7', b'2.8', b'4.5', b'1.3', b'Iris-versicolor'],\n",
              "       [b'6.3', b'3.3', b'4.7', b'1.6', b'Iris-versicolor'],\n",
              "       [b'4.9', b'2.4', b'3.3', b'1.0', b'Iris-versicolor'],\n",
              "       [b'6.6', nan, b'4.6', b'1.3', b'Iris-versicolor'],\n",
              "       [b'5.2', b'2.7', b'3.9', b'1.4', b'Iris-versicolor'],\n",
              "       [b'5.0', nan, b'3.5', b'1.0', b'Iris-versicolor'],\n",
              "       [b'5.9', b'3.0', b'4.2', b'1.5', b'Iris-versicolor'],\n",
              "       [b'6.0', b'2.2', b'4.0', b'1.0', b'Iris-versicolor'],\n",
              "       [b'6.1', b'2.9', b'4.7', b'1.4', b'Iris-versicolor'],\n",
              "       [b'5.6', b'2.9', b'3.6', b'1.3', b'Iris-versicolor'],\n",
              "       [b'6.7', b'3.1', b'4.4', b'1.4', b'Iris-versicolor'],\n",
              "       [b'5.6', b'3.0', b'4.5', nan, b'Iris-versicolor'],\n",
              "       [b'5.8', b'2.7', b'4.1', b'1.0', nan],\n",
              "       [b'6.2', b'2.2', b'4.5', b'1.5', b'Iris-versicolor'],\n",
              "       [b'5.6', b'2.5', b'3.9', b'1.1', b'Iris-versicolor'],\n",
              "       [b'5.9', b'3.2', b'4.8', b'1.8', b'Iris-versicolor'],\n",
              "       [b'6.1', b'2.8', b'4.0', b'1.3', b'Iris-versicolor'],\n",
              "       [b'6.3', b'2.5', b'4.9', b'1.5', b'Iris-versicolor'],\n",
              "       [b'6.1', b'2.8', b'4.7', b'1.2', b'Iris-versicolor'],\n",
              "       [b'6.4', b'2.9', b'4.3', b'1.3', b'Iris-versicolor'],\n",
              "       [b'6.6', b'3.0', b'4.4', b'1.4', b'Iris-versicolor'],\n",
              "       [b'6.8', b'2.8', b'4.8', b'1.4', b'Iris-versicolor'],\n",
              "       [b'6.7', b'3.0', b'5.0', b'1.7', b'Iris-versicolor'],\n",
              "       [b'6.0', b'2.9', b'4.5', b'1.5', b'Iris-versicolor'],\n",
              "       [b'5.7', b'2.6', b'3.5', nan, b'Iris-versicolor'],\n",
              "       [b'5.5', b'2.4', b'3.8', b'1.1', b'Iris-versicolor'],\n",
              "       [b'5.5', b'2.4', b'3.7', b'1.0', b'Iris-versicolor'],\n",
              "       [b'5.8', b'2.7', b'3.9', b'1.2', b'Iris-versicolor'],\n",
              "       [b'6.0', b'2.7', b'5.1', b'1.6', b'Iris-versicolor'],\n",
              "       [b'5.4', b'3.0', b'4.5', b'1.5', b'Iris-versicolor'],\n",
              "       [b'6.0', b'3.4', b'4.5', b'1.6', b'Iris-versicolor'],\n",
              "       [b'6.7', b'3.1', b'4.7', b'1.5', b'Iris-versicolor'],\n",
              "       [b'6.3', nan, b'4.4', b'1.3', b'Iris-versicolor'],\n",
              "       [b'5.6', b'3.0', b'4.1', b'1.3', b'Iris-versicolor'],\n",
              "       [b'5.5', b'2.5', b'4.0', b'1.3', b'Iris-versicolor'],\n",
              "       [b'5.5', b'2.6', b'4.4', b'1.2', b'Iris-versicolor'],\n",
              "       [b'6.1', b'3.0', b'4.6', b'1.4', b'Iris-versicolor'],\n",
              "       [b'5.8', b'2.6', b'4.0', b'1.2', b'Iris-versicolor'],\n",
              "       [b'5.0', b'2.3', b'3.3', b'1.0', b'Iris-versicolor'],\n",
              "       [b'5.6', b'2.7', b'4.2', b'1.3', nan],\n",
              "       [b'5.7', b'3.0', b'4.2', b'1.2', b'Iris-versicolor'],\n",
              "       [b'5.7', b'2.9', b'4.2', b'1.3', b'Iris-versicolor'],\n",
              "       [b'6.2', b'2.9', b'4.3', b'1.3', b'Iris-versicolor'],\n",
              "       [b'5.1', b'2.5', b'3.0', nan, b'Iris-versicolor'],\n",
              "       [b'5.7', b'2.8', b'4.1', b'1.3', b'Iris-versicolor'],\n",
              "       [b'6.3', b'3.3', b'6.0', b'2.5', b'Iris-virginica'],\n",
              "       [b'5.8', b'2.7', b'5.1', b'1.9', b'Iris-virginica'],\n",
              "       [b'7.1', b'3.0', b'5.9', b'2.1', b'Iris-virginica'],\n",
              "       [b'6.3', b'2.9', b'5.6', b'1.8', nan],\n",
              "       [b'6.5', b'3.0', b'5.8', b'2.2', b'Iris-virginica'],\n",
              "       [b'7.6', b'3.0', b'6.6', b'2.1', b'Iris-virginica'],\n",
              "       [b'4.9', b'2.5', b'4.5', b'1.7', b'Iris-virginica'],\n",
              "       [b'7.3', b'2.9', nan, b'1.8', b'Iris-virginica'],\n",
              "       [b'6.7', b'2.5', b'5.8', b'1.8', b'Iris-virginica'],\n",
              "       [b'7.2', b'3.6', b'6.1', b'2.5', b'Iris-virginica'],\n",
              "       [b'6.5', b'3.2', b'5.1', b'2.0', b'Iris-virginica'],\n",
              "       [b'6.4', b'2.7', b'5.3', b'1.9', b'Iris-virginica'],\n",
              "       [b'6.8', b'3.0', b'5.5', b'2.1', b'Iris-virginica'],\n",
              "       [b'5.7', b'2.5', b'5.0', b'2.0', b'Iris-virginica'],\n",
              "       [b'5.8', b'2.8', b'5.1', b'2.4', b'Iris-virginica'],\n",
              "       [b'6.4', b'3.2', b'5.3', b'2.3', b'Iris-virginica'],\n",
              "       [b'6.5', b'3.0', b'5.5', b'1.8', b'Iris-virginica'],\n",
              "       [b'7.7', b'3.8', b'6.7', b'2.2', b'Iris-virginica'],\n",
              "       [b'7.7', b'2.6', b'6.9', b'2.3', b'Iris-virginica'],\n",
              "       [b'6.0', b'2.2', b'5.0', b'1.5', b'Iris-virginica'],\n",
              "       [b'6.9', b'3.2', b'5.7', b'2.3', b'Iris-virginica'],\n",
              "       [b'5.6', b'2.8', b'4.9', b'2.0', b'Iris-virginica'],\n",
              "       [b'7.7', b'2.8', b'6.7', b'2.0', b'Iris-virginica'],\n",
              "       [b'6.3', b'2.7', b'4.9', b'1.8', b'Iris-virginica'],\n",
              "       [b'6.7', b'3.3', b'5.7', b'2.1', b'Iris-virginica'],\n",
              "       [b'7.2', b'3.2', b'6.0', b'1.8', b'Iris-virginica'],\n",
              "       [b'6.2', b'2.8', b'4.8', b'1.8', b'Iris-virginica'],\n",
              "       [b'6.1', b'3.0', b'4.9', b'1.8', b'Iris-virginica'],\n",
              "       [b'6.4', b'2.8', b'5.6', b'2.1', b'Iris-virginica'],\n",
              "       [b'7.2', b'3.0', b'5.8', b'1.6', b'Iris-virginica'],\n",
              "       [b'7.4', b'2.8', b'6.1', b'1.9', b'Iris-virginica'],\n",
              "       [b'7.9', b'3.8', b'6.4', b'2.0', b'Iris-virginica'],\n",
              "       [b'6.4', b'2.8', b'5.6', b'2.2', b'Iris-virginica'],\n",
              "       [b'6.3', b'2.8', b'5.1', b'1.5', b'Iris-virginica'],\n",
              "       [b'6.1', b'2.6', b'5.6', b'1.4', b'Iris-virginica'],\n",
              "       [b'7.7', b'3.0', b'6.1', b'2.3', b'Iris-virginica'],\n",
              "       [b'6.3', b'3.4', b'5.6', b'2.4', b'Iris-virginica'],\n",
              "       [b'6.4', b'3.1', nan, b'1.8', b'Iris-virginica'],\n",
              "       [b'6.0', b'3.0', b'4.8', b'1.8', nan],\n",
              "       [b'6.9', b'3.1', b'5.4', b'2.1', b'Iris-virginica'],\n",
              "       [b'6.7', b'3.1', b'5.6', b'2.4', b'Iris-virginica'],\n",
              "       [b'6.9', b'3.1', b'5.1', b'2.3', b'Iris-virginica'],\n",
              "       [b'5.8', b'2.7', b'5.1', b'1.9', b'Iris-virginica'],\n",
              "       [nan, b'3.2', b'5.9', b'2.3', b'Iris-virginica'],\n",
              "       [b'6.7', b'3.3', b'5.7', nan, b'Iris-virginica'],\n",
              "       [b'6.7', b'3.0', b'5.2', b'2.3', b'Iris-virginica'],\n",
              "       [b'6.3', b'2.5', b'5.0', b'1.9', b'Iris-virginica'],\n",
              "       [b'6.5', b'3.0', b'5.2', b'2.0', b'Iris-virginica'],\n",
              "       [b'6.2', b'3.4', b'5.4', b'2.3', b'Iris-virginica'],\n",
              "       [b'5.9', b'3.0', b'5.1', b'1.8', b'Iris-virginica']], dtype=object)"
            ]
          },
          "metadata": {},
          "execution_count": 47
        }
      ]
    },
    {
      "cell_type": "markdown",
      "source": [
        "**Q21) Find the number and position of missing values in iris_2d's sepallength (1st column)**"
      ],
      "metadata": {
        "id": "u4L0kyn9JVVy"
      }
    },
    {
      "cell_type": "code",
      "source": [
        "# Input\n",
        "url = 'https://archive.ics.uci.edu/ml/machine-learning-databases/iris/iris.data'\n",
        "iris_2d = np.genfromtxt(url, delimiter=',', dtype='float', usecols=[0,1,2,3])\n",
        "iris_2d[np.random.randint(150, size=20), np.random.randint(4, size=20)] = np.nan\n",
        "\n",
        "# Solution\n",
        "print(\"Number of missing values: \\n\", np.isnan(iris_2d[:, 0]).sum())\n",
        "print(\"Position of missing values: \\n\", np.where(np.isnan(iris_2d[:, 0])))"
      ],
      "metadata": {
        "id": "R6YdjCbFJbRR",
        "colab": {
          "base_uri": "https://localhost:8080/"
        },
        "outputId": "254dc59e-fb8a-4d6a-821f-67206ebfc7cf"
      },
      "execution_count": 45,
      "outputs": [
        {
          "output_type": "stream",
          "name": "stdout",
          "text": [
            "Number of missing values: \n",
            " 6\n",
            "Position of missing values: \n",
            " (array([ 0, 27, 30, 38, 68, 91]),)\n"
          ]
        }
      ]
    },
    {
      "cell_type": "markdown",
      "source": [
        "**Q22) Filter the rows of iris_2d that has petallength (3rd column) > 1.5 and sepallength (1st column) < 5.0**"
      ],
      "metadata": {
        "id": "hSd5BJ_tJgBC"
      }
    },
    {
      "cell_type": "code",
      "source": [
        "# Input\n",
        "url = 'https://archive.ics.uci.edu/ml/machine-learning-databases/iris/iris.data'\n",
        "iris_2d = np.genfromtxt(url, delimiter=',', dtype='float', usecols=[0,1,2,3])\n",
        "\n",
        "# Solution\n",
        "condition = (iris_2d[:, 2] > 1.5) & (iris_2d[:, 0] < 5.0)\n",
        "iris_2d[condition]"
      ],
      "metadata": {
        "id": "7-APhXr_JldH",
        "colab": {
          "base_uri": "https://localhost:8080/"
        },
        "outputId": "dac61ed6-2ac6-44a7-e9bf-0485b56a114c"
      },
      "execution_count": 48,
      "outputs": [
        {
          "output_type": "execute_result",
          "data": {
            "text/plain": [
              "array([[4.8, 3.4, 1.6, 0.2],\n",
              "       [4.8, 3.4, 1.9, 0.2],\n",
              "       [4.7, 3.2, 1.6, 0.2],\n",
              "       [4.8, 3.1, 1.6, 0.2],\n",
              "       [4.9, 2.4, 3.3, 1. ],\n",
              "       [4.9, 2.5, 4.5, 1.7]])"
            ]
          },
          "metadata": {},
          "execution_count": 48
        }
      ]
    },
    {
      "cell_type": "markdown",
      "source": [
        "**Q23) Select the rows of iris_2d that does not have any nan value.**"
      ],
      "metadata": {
        "id": "6pJHvDovJpaG"
      }
    },
    {
      "cell_type": "code",
      "source": [
        "# Input\n",
        "url = 'https://archive.ics.uci.edu/ml/machine-learning-databases/iris/iris.data'\n",
        "iris_2d = np.genfromtxt(url, delimiter=',', dtype='float', usecols=[0,1,2,3])\n",
        "iris_2d[np.random.randint(150, size=20), np.random.randint(4, size=20)] = np.nan\n",
        "\n",
        "# Solution\n",
        "iris_2d[np.sum(np.isnan(iris_2d), axis = 1) == 0][:5]"
      ],
      "metadata": {
        "id": "m5WSmO8uJvRb",
        "colab": {
          "base_uri": "https://localhost:8080/"
        },
        "outputId": "ac74fe73-94d6-4f74-d833-110db966fa5a"
      },
      "execution_count": 52,
      "outputs": [
        {
          "output_type": "execute_result",
          "data": {
            "text/plain": [
              "array([[5.1, 3.5, 1.4, 0.2],\n",
              "       [4.9, 3. , 1.4, 0.2],\n",
              "       [4.7, 3.2, 1.3, 0.2],\n",
              "       [4.6, 3.1, 1.5, 0.2],\n",
              "       [5. , 3.6, 1.4, 0.2]])"
            ]
          },
          "metadata": {},
          "execution_count": 52
        }
      ]
    },
    {
      "cell_type": "code",
      "source": [
        "no_nan_rows = np.array([~np.any(np.isnan(row)) for row in iris_2d])\n",
        "iris_2d[no_nan_rows][:5]"
      ],
      "metadata": {
        "colab": {
          "base_uri": "https://localhost:8080/"
        },
        "id": "tcqq6xpiAi-R",
        "outputId": "e42ab01b-51c5-4375-93ef-5e408790298e"
      },
      "execution_count": 53,
      "outputs": [
        {
          "output_type": "execute_result",
          "data": {
            "text/plain": [
              "array([[5.1, 3.5, 1.4, 0.2],\n",
              "       [4.9, 3. , 1.4, 0.2],\n",
              "       [4.7, 3.2, 1.3, 0.2],\n",
              "       [4.6, 3.1, 1.5, 0.2],\n",
              "       [5. , 3.6, 1.4, 0.2]])"
            ]
          },
          "metadata": {},
          "execution_count": 53
        }
      ]
    },
    {
      "cell_type": "markdown",
      "source": [
        "**Q24) Find the correlation between SepalLength(1st column) and PetalLength(3rd column) in iris_2d**"
      ],
      "metadata": {
        "id": "UBKOp_CuJz86"
      }
    },
    {
      "cell_type": "code",
      "source": [
        "# Input\n",
        "url = 'https://archive.ics.uci.edu/ml/machine-learning-databases/iris/iris.data'\n",
        "iris = np.genfromtxt(url, delimiter=',', dtype='float', usecols=[0,1,2,3])\n",
        "\n",
        "# Solution 1\n",
        "np.corrcoef(iris[:, 0], iris[:, 2])[1,0]\n"
      ],
      "metadata": {
        "id": "ssjjpbcLJ6VY",
        "colab": {
          "base_uri": "https://localhost:8080/"
        },
        "outputId": "6032062a-e5ca-49fe-f757-939e063cfe59"
      },
      "execution_count": 56,
      "outputs": [
        {
          "output_type": "execute_result",
          "data": {
            "text/plain": [
              "0.8717541573048718"
            ]
          },
          "metadata": {},
          "execution_count": 56
        }
      ]
    },
    {
      "cell_type": "markdown",
      "source": [
        "**Q25) What is the value of second longest petallength of species setosa?**"
      ],
      "metadata": {
        "id": "7dScno-CKAWl"
      }
    },
    {
      "cell_type": "code",
      "source": [
        "# Import iris keeping the text column intact\n",
        "url = 'https://archive.ics.uci.edu/ml/machine-learning-databases/iris/iris.data'\n",
        "iris = np.genfromtxt(url, delimiter=',', dtype='object')\n",
        "# Solution\n",
        "petal_lengths_setosa = iris[iris[:, 4] == b'Iris-setosa', [2]].astype('float')\n",
        "np.unique(np.sort(petal_lengths_setosa))[::-1][1]"
      ],
      "metadata": {
        "id": "iw8m6df3KS7Q",
        "colab": {
          "base_uri": "https://localhost:8080/"
        },
        "outputId": "8cecf2a8-f8fb-4292-a8a9-ab416a03bbe0"
      },
      "execution_count": 79,
      "outputs": [
        {
          "output_type": "execute_result",
          "data": {
            "text/plain": [
              "1.7"
            ]
          },
          "metadata": {},
          "execution_count": 79
        }
      ]
    },
    {
      "cell_type": "code",
      "source": [
        "petal_lengths_setosa.max()"
      ],
      "metadata": {
        "colab": {
          "base_uri": "https://localhost:8080/"
        },
        "id": "THxu3MIWJqZw",
        "outputId": "bc2b692a-8431-42fd-992c-4e1dfcc608b8"
      },
      "execution_count": 80,
      "outputs": [
        {
          "output_type": "execute_result",
          "data": {
            "text/plain": [
              "1.9"
            ]
          },
          "metadata": {},
          "execution_count": 80
        }
      ]
    },
    {
      "cell_type": "markdown",
      "source": [
        "## **Python Pandas Assignment**"
      ],
      "metadata": {
        "id": "Y_HBug7ve5s1"
      }
    },
    {
      "cell_type": "code",
      "source": [
        "import pandas as pd"
      ],
      "metadata": {
        "id": "urZaYnnTfB1F"
      },
      "execution_count": 81,
      "outputs": []
    },
    {
      "cell_type": "markdown",
      "source": [
        "### **Python COVID-19 Case Study**"
      ],
      "metadata": {
        "id": "Eiijmf9hGyb2"
      }
    },
    {
      "cell_type": "markdown",
      "source": [
        "Coronavirus disease 2019 (COVID-19) is an infectious disease caused by severe acute respiratory syndrome coronavirus 2 (SARS-CoV-2). The disease was first identified in 2019 in Wuhan, China, and has since spread globally, resulting in the 2019–20 coronavirus pandemic. Common symptoms include fever, cough and shortness of breath. Muscle pain, sputum production and sore throat are less common. The rate of deaths per number of diagnosed cases is on average 3.4%, ranging from 0.2% in those less than 20 to approximately 15% in those over 80 years old.\n",
        "\n",
        "**Data Source (Date wise) :** 2019 Novel Coronavirus COVID-19 (2019-nCoV) Data Repository by Johns Hopkins CSSE\n",
        "\n",
        "**Data Source:** https://github.com/CSSEGISandData/COVID-19/tree/master/csse_covid_19_data/csse_covid_19_daily_reports\n",
        "\n",
        "**File naming convention**\n",
        "\n",
        "MM-DD-YYYY.csv in UTC.\n",
        "\n",
        "**Field description**\n",
        "\n",
        "**Province/State:** China - province name; US/Canada/Australia/ - city name, state/province name; Others - name of the event (e.g., \"Diamond Princess\" cruise ship); other countries - blank.\n",
        "\n",
        "**Country/Region:** country/region name conforming to WHO (will be updated).\n",
        "\n",
        "**Last Update:** MM/DD/YYYY HH:mm (24 hour format, in UTC).\n",
        "\n",
        "**Confirmed:** the number of confirmed cases. For Hubei Province: from Feb 13 (GMT +8), we report both clinically diagnosed and lab-confirmed cases. For lab-confirmed cases only (Before Feb 17), please refer to who_covid_19_situation_reports. For Italy, diagnosis standard might be changed since Feb 27 to \"slow the growth of new case numbers.\" (Source)\n",
        "\n",
        "**Deaths:** the number of deaths.\n",
        "\n",
        "**Recovered:** the number of recovered cases.\n",
        "\n",
        "**Update frequency**\n",
        "\n",
        "Files after Feb 1 (UTC): once a day around 23:59 (UTC).\n",
        "\n",
        "Files on and before Feb 1 (UTC): the last updated files before 23:59 (UTC).\n",
        "\n",
        "Using above dataset we have created some exercises on COVID-19 (Spread of the novel coronavirus, Analysis, Visualization, Prediction & Comparisons"
      ],
      "metadata": {
        "id": "5lrWDSF4Gw8P"
      }
    },
    {
      "cell_type": "markdown",
      "source": [
        "**Q26) Write a Python program to display first 5 rows from COVID-19 dataset. Also print the dataset information and check the missing values.**"
      ],
      "metadata": {
        "id": "saPRKlv0klf9"
      }
    },
    {
      "cell_type": "code",
      "source": [
        "# Write your code here\n",
        "covid_data= pd.read_csv('https://raw.githubusercontent.com/CSSEGISandData/COVID-19/master/csse_covid_19_data/csse_covid_19_daily_reports/03-17-2020.csv')\n",
        "covid_data.head(5)\n"
      ],
      "metadata": {
        "id": "AR6-fXEjkqjP",
        "colab": {
          "base_uri": "https://localhost:8080/",
          "height": 206
        },
        "outputId": "d7705cd3-4117-4cbc-e323-2b65510c2e9d"
      },
      "execution_count": 99,
      "outputs": [
        {
          "output_type": "execute_result",
          "data": {
            "text/plain": [
              "  Province/State Country/Region          Last Update  Confirmed  Deaths  \\\n",
              "0          Hubei          China  2020-03-17T11:53:10      67799    3111   \n",
              "1            NaN          Italy  2020-03-17T18:33:02      31506    2503   \n",
              "2            NaN           Iran  2020-03-17T15:13:09      16169     988   \n",
              "3            NaN          Spain  2020-03-17T20:53:02      11748     533   \n",
              "4            NaN        Germany  2020-03-17T18:53:02       9257      24   \n",
              "\n",
              "   Recovered  Latitude  Longitude  \n",
              "0      56003   30.9756   112.2707  \n",
              "1       2941   41.8719    12.5674  \n",
              "2       5389   32.4279    53.6880  \n",
              "3       1028   40.4637    -3.7492  \n",
              "4         67   51.1657    10.4515  "
            ],
            "text/html": [
              "\n",
              "  <div id=\"df-5422ae26-e23a-41b1-bab6-0388e5503846\">\n",
              "    <div class=\"colab-df-container\">\n",
              "      <div>\n",
              "<style scoped>\n",
              "    .dataframe tbody tr th:only-of-type {\n",
              "        vertical-align: middle;\n",
              "    }\n",
              "\n",
              "    .dataframe tbody tr th {\n",
              "        vertical-align: top;\n",
              "    }\n",
              "\n",
              "    .dataframe thead th {\n",
              "        text-align: right;\n",
              "    }\n",
              "</style>\n",
              "<table border=\"1\" class=\"dataframe\">\n",
              "  <thead>\n",
              "    <tr style=\"text-align: right;\">\n",
              "      <th></th>\n",
              "      <th>Province/State</th>\n",
              "      <th>Country/Region</th>\n",
              "      <th>Last Update</th>\n",
              "      <th>Confirmed</th>\n",
              "      <th>Deaths</th>\n",
              "      <th>Recovered</th>\n",
              "      <th>Latitude</th>\n",
              "      <th>Longitude</th>\n",
              "    </tr>\n",
              "  </thead>\n",
              "  <tbody>\n",
              "    <tr>\n",
              "      <th>0</th>\n",
              "      <td>Hubei</td>\n",
              "      <td>China</td>\n",
              "      <td>2020-03-17T11:53:10</td>\n",
              "      <td>67799</td>\n",
              "      <td>3111</td>\n",
              "      <td>56003</td>\n",
              "      <td>30.9756</td>\n",
              "      <td>112.2707</td>\n",
              "    </tr>\n",
              "    <tr>\n",
              "      <th>1</th>\n",
              "      <td>NaN</td>\n",
              "      <td>Italy</td>\n",
              "      <td>2020-03-17T18:33:02</td>\n",
              "      <td>31506</td>\n",
              "      <td>2503</td>\n",
              "      <td>2941</td>\n",
              "      <td>41.8719</td>\n",
              "      <td>12.5674</td>\n",
              "    </tr>\n",
              "    <tr>\n",
              "      <th>2</th>\n",
              "      <td>NaN</td>\n",
              "      <td>Iran</td>\n",
              "      <td>2020-03-17T15:13:09</td>\n",
              "      <td>16169</td>\n",
              "      <td>988</td>\n",
              "      <td>5389</td>\n",
              "      <td>32.4279</td>\n",
              "      <td>53.6880</td>\n",
              "    </tr>\n",
              "    <tr>\n",
              "      <th>3</th>\n",
              "      <td>NaN</td>\n",
              "      <td>Spain</td>\n",
              "      <td>2020-03-17T20:53:02</td>\n",
              "      <td>11748</td>\n",
              "      <td>533</td>\n",
              "      <td>1028</td>\n",
              "      <td>40.4637</td>\n",
              "      <td>-3.7492</td>\n",
              "    </tr>\n",
              "    <tr>\n",
              "      <th>4</th>\n",
              "      <td>NaN</td>\n",
              "      <td>Germany</td>\n",
              "      <td>2020-03-17T18:53:02</td>\n",
              "      <td>9257</td>\n",
              "      <td>24</td>\n",
              "      <td>67</td>\n",
              "      <td>51.1657</td>\n",
              "      <td>10.4515</td>\n",
              "    </tr>\n",
              "  </tbody>\n",
              "</table>\n",
              "</div>\n",
              "      <button class=\"colab-df-convert\" onclick=\"convertToInteractive('df-5422ae26-e23a-41b1-bab6-0388e5503846')\"\n",
              "              title=\"Convert this dataframe to an interactive table.\"\n",
              "              style=\"display:none;\">\n",
              "        \n",
              "  <svg xmlns=\"http://www.w3.org/2000/svg\" height=\"24px\"viewBox=\"0 0 24 24\"\n",
              "       width=\"24px\">\n",
              "    <path d=\"M0 0h24v24H0V0z\" fill=\"none\"/>\n",
              "    <path d=\"M18.56 5.44l.94 2.06.94-2.06 2.06-.94-2.06-.94-.94-2.06-.94 2.06-2.06.94zm-11 1L8.5 8.5l.94-2.06 2.06-.94-2.06-.94L8.5 2.5l-.94 2.06-2.06.94zm10 10l.94 2.06.94-2.06 2.06-.94-2.06-.94-.94-2.06-.94 2.06-2.06.94z\"/><path d=\"M17.41 7.96l-1.37-1.37c-.4-.4-.92-.59-1.43-.59-.52 0-1.04.2-1.43.59L10.3 9.45l-7.72 7.72c-.78.78-.78 2.05 0 2.83L4 21.41c.39.39.9.59 1.41.59.51 0 1.02-.2 1.41-.59l7.78-7.78 2.81-2.81c.8-.78.8-2.07 0-2.86zM5.41 20L4 18.59l7.72-7.72 1.47 1.35L5.41 20z\"/>\n",
              "  </svg>\n",
              "      </button>\n",
              "      \n",
              "  <style>\n",
              "    .colab-df-container {\n",
              "      display:flex;\n",
              "      flex-wrap:wrap;\n",
              "      gap: 12px;\n",
              "    }\n",
              "\n",
              "    .colab-df-convert {\n",
              "      background-color: #E8F0FE;\n",
              "      border: none;\n",
              "      border-radius: 50%;\n",
              "      cursor: pointer;\n",
              "      display: none;\n",
              "      fill: #1967D2;\n",
              "      height: 32px;\n",
              "      padding: 0 0 0 0;\n",
              "      width: 32px;\n",
              "    }\n",
              "\n",
              "    .colab-df-convert:hover {\n",
              "      background-color: #E2EBFA;\n",
              "      box-shadow: 0px 1px 2px rgba(60, 64, 67, 0.3), 0px 1px 3px 1px rgba(60, 64, 67, 0.15);\n",
              "      fill: #174EA6;\n",
              "    }\n",
              "\n",
              "    [theme=dark] .colab-df-convert {\n",
              "      background-color: #3B4455;\n",
              "      fill: #D2E3FC;\n",
              "    }\n",
              "\n",
              "    [theme=dark] .colab-df-convert:hover {\n",
              "      background-color: #434B5C;\n",
              "      box-shadow: 0px 1px 3px 1px rgba(0, 0, 0, 0.15);\n",
              "      filter: drop-shadow(0px 1px 2px rgba(0, 0, 0, 0.3));\n",
              "      fill: #FFFFFF;\n",
              "    }\n",
              "  </style>\n",
              "\n",
              "      <script>\n",
              "        const buttonEl =\n",
              "          document.querySelector('#df-5422ae26-e23a-41b1-bab6-0388e5503846 button.colab-df-convert');\n",
              "        buttonEl.style.display =\n",
              "          google.colab.kernel.accessAllowed ? 'block' : 'none';\n",
              "\n",
              "        async function convertToInteractive(key) {\n",
              "          const element = document.querySelector('#df-5422ae26-e23a-41b1-bab6-0388e5503846');\n",
              "          const dataTable =\n",
              "            await google.colab.kernel.invokeFunction('convertToInteractive',\n",
              "                                                     [key], {});\n",
              "          if (!dataTable) return;\n",
              "\n",
              "          const docLinkHtml = 'Like what you see? Visit the ' +\n",
              "            '<a target=\"_blank\" href=https://colab.research.google.com/notebooks/data_table.ipynb>data table notebook</a>'\n",
              "            + ' to learn more about interactive tables.';\n",
              "          element.innerHTML = '';\n",
              "          dataTable['output_type'] = 'display_data';\n",
              "          await google.colab.output.renderOutput(dataTable, element);\n",
              "          const docLink = document.createElement('div');\n",
              "          docLink.innerHTML = docLinkHtml;\n",
              "          element.appendChild(docLink);\n",
              "        }\n",
              "      </script>\n",
              "    </div>\n",
              "  </div>\n",
              "  "
            ]
          },
          "metadata": {},
          "execution_count": 99
        }
      ]
    },
    {
      "cell_type": "code",
      "source": [
        "covid_data['Last Update']=pd.to_datetime(covid_data['Last Update'])"
      ],
      "metadata": {
        "id": "WnomZor_LqMs"
      },
      "execution_count": 100,
      "outputs": []
    },
    {
      "cell_type": "code",
      "source": [
        "covid_data.info()"
      ],
      "metadata": {
        "colab": {
          "base_uri": "https://localhost:8080/"
        },
        "id": "iMzvMFtqMCvP",
        "outputId": "364bfdb3-f3de-4046-95bd-7e73fd320c64"
      },
      "execution_count": 101,
      "outputs": [
        {
          "output_type": "stream",
          "name": "stdout",
          "text": [
            "<class 'pandas.core.frame.DataFrame'>\n",
            "RangeIndex: 312 entries, 0 to 311\n",
            "Data columns (total 8 columns):\n",
            " #   Column          Non-Null Count  Dtype         \n",
            "---  ------          --------------  -----         \n",
            " 0   Province/State  154 non-null    object        \n",
            " 1   Country/Region  312 non-null    object        \n",
            " 2   Last Update     312 non-null    datetime64[ns]\n",
            " 3   Confirmed       312 non-null    int64         \n",
            " 4   Deaths          312 non-null    int64         \n",
            " 5   Recovered       312 non-null    int64         \n",
            " 6   Latitude        309 non-null    float64       \n",
            " 7   Longitude       309 non-null    float64       \n",
            "dtypes: datetime64[ns](1), float64(2), int64(3), object(2)\n",
            "memory usage: 19.6+ KB\n"
          ]
        }
      ]
    },
    {
      "cell_type": "markdown",
      "source": [
        "**Q27) Write a Python program to get the latest number of confirmed, deaths, recovered and active cases of Novel Coronavirus (COVID-19) Country wise.**"
      ],
      "metadata": {
        "id": "5N8SbDYSkrHc"
      }
    },
    {
      "cell_type": "code",
      "source": [
        "# Write your code here\n",
        "covid_data.sort_values(['Last Update'],ascending=False).head(1)[['Confirmed','Deaths','Recovered']]"
      ],
      "metadata": {
        "id": "yq-ix00AktI0",
        "colab": {
          "base_uri": "https://localhost:8080/",
          "height": 81
        },
        "outputId": "08c4e333-2359-45e2-f3c0-4c5526db52e6"
      },
      "execution_count": 102,
      "outputs": [
        {
          "output_type": "execute_result",
          "data": {
            "text/plain": [
              "     Confirmed  Deaths  Recovered\n",
              "186         11       0          0"
            ],
            "text/html": [
              "\n",
              "  <div id=\"df-c4497baf-fceb-481b-a4e0-a94e7de32856\">\n",
              "    <div class=\"colab-df-container\">\n",
              "      <div>\n",
              "<style scoped>\n",
              "    .dataframe tbody tr th:only-of-type {\n",
              "        vertical-align: middle;\n",
              "    }\n",
              "\n",
              "    .dataframe tbody tr th {\n",
              "        vertical-align: top;\n",
              "    }\n",
              "\n",
              "    .dataframe thead th {\n",
              "        text-align: right;\n",
              "    }\n",
              "</style>\n",
              "<table border=\"1\" class=\"dataframe\">\n",
              "  <thead>\n",
              "    <tr style=\"text-align: right;\">\n",
              "      <th></th>\n",
              "      <th>Confirmed</th>\n",
              "      <th>Deaths</th>\n",
              "      <th>Recovered</th>\n",
              "    </tr>\n",
              "  </thead>\n",
              "  <tbody>\n",
              "    <tr>\n",
              "      <th>186</th>\n",
              "      <td>11</td>\n",
              "      <td>0</td>\n",
              "      <td>0</td>\n",
              "    </tr>\n",
              "  </tbody>\n",
              "</table>\n",
              "</div>\n",
              "      <button class=\"colab-df-convert\" onclick=\"convertToInteractive('df-c4497baf-fceb-481b-a4e0-a94e7de32856')\"\n",
              "              title=\"Convert this dataframe to an interactive table.\"\n",
              "              style=\"display:none;\">\n",
              "        \n",
              "  <svg xmlns=\"http://www.w3.org/2000/svg\" height=\"24px\"viewBox=\"0 0 24 24\"\n",
              "       width=\"24px\">\n",
              "    <path d=\"M0 0h24v24H0V0z\" fill=\"none\"/>\n",
              "    <path d=\"M18.56 5.44l.94 2.06.94-2.06 2.06-.94-2.06-.94-.94-2.06-.94 2.06-2.06.94zm-11 1L8.5 8.5l.94-2.06 2.06-.94-2.06-.94L8.5 2.5l-.94 2.06-2.06.94zm10 10l.94 2.06.94-2.06 2.06-.94-2.06-.94-.94-2.06-.94 2.06-2.06.94z\"/><path d=\"M17.41 7.96l-1.37-1.37c-.4-.4-.92-.59-1.43-.59-.52 0-1.04.2-1.43.59L10.3 9.45l-7.72 7.72c-.78.78-.78 2.05 0 2.83L4 21.41c.39.39.9.59 1.41.59.51 0 1.02-.2 1.41-.59l7.78-7.78 2.81-2.81c.8-.78.8-2.07 0-2.86zM5.41 20L4 18.59l7.72-7.72 1.47 1.35L5.41 20z\"/>\n",
              "  </svg>\n",
              "      </button>\n",
              "      \n",
              "  <style>\n",
              "    .colab-df-container {\n",
              "      display:flex;\n",
              "      flex-wrap:wrap;\n",
              "      gap: 12px;\n",
              "    }\n",
              "\n",
              "    .colab-df-convert {\n",
              "      background-color: #E8F0FE;\n",
              "      border: none;\n",
              "      border-radius: 50%;\n",
              "      cursor: pointer;\n",
              "      display: none;\n",
              "      fill: #1967D2;\n",
              "      height: 32px;\n",
              "      padding: 0 0 0 0;\n",
              "      width: 32px;\n",
              "    }\n",
              "\n",
              "    .colab-df-convert:hover {\n",
              "      background-color: #E2EBFA;\n",
              "      box-shadow: 0px 1px 2px rgba(60, 64, 67, 0.3), 0px 1px 3px 1px rgba(60, 64, 67, 0.15);\n",
              "      fill: #174EA6;\n",
              "    }\n",
              "\n",
              "    [theme=dark] .colab-df-convert {\n",
              "      background-color: #3B4455;\n",
              "      fill: #D2E3FC;\n",
              "    }\n",
              "\n",
              "    [theme=dark] .colab-df-convert:hover {\n",
              "      background-color: #434B5C;\n",
              "      box-shadow: 0px 1px 3px 1px rgba(0, 0, 0, 0.15);\n",
              "      filter: drop-shadow(0px 1px 2px rgba(0, 0, 0, 0.3));\n",
              "      fill: #FFFFFF;\n",
              "    }\n",
              "  </style>\n",
              "\n",
              "      <script>\n",
              "        const buttonEl =\n",
              "          document.querySelector('#df-c4497baf-fceb-481b-a4e0-a94e7de32856 button.colab-df-convert');\n",
              "        buttonEl.style.display =\n",
              "          google.colab.kernel.accessAllowed ? 'block' : 'none';\n",
              "\n",
              "        async function convertToInteractive(key) {\n",
              "          const element = document.querySelector('#df-c4497baf-fceb-481b-a4e0-a94e7de32856');\n",
              "          const dataTable =\n",
              "            await google.colab.kernel.invokeFunction('convertToInteractive',\n",
              "                                                     [key], {});\n",
              "          if (!dataTable) return;\n",
              "\n",
              "          const docLinkHtml = 'Like what you see? Visit the ' +\n",
              "            '<a target=\"_blank\" href=https://colab.research.google.com/notebooks/data_table.ipynb>data table notebook</a>'\n",
              "            + ' to learn more about interactive tables.';\n",
              "          element.innerHTML = '';\n",
              "          dataTable['output_type'] = 'display_data';\n",
              "          await google.colab.output.renderOutput(dataTable, element);\n",
              "          const docLink = document.createElement('div');\n",
              "          docLink.innerHTML = docLinkHtml;\n",
              "          element.appendChild(docLink);\n",
              "        }\n",
              "      </script>\n",
              "    </div>\n",
              "  </div>\n",
              "  "
            ]
          },
          "metadata": {},
          "execution_count": 102
        }
      ]
    },
    {
      "cell_type": "code",
      "source": [
        "covid_data.describe(include='all')"
      ],
      "metadata": {
        "colab": {
          "base_uri": "https://localhost:8080/",
          "height": 511
        },
        "id": "UvONuiRiUpgo",
        "outputId": "3a24cec6-6706-4156-bf50-c07b8ddec8b3"
      },
      "execution_count": 104,
      "outputs": [
        {
          "output_type": "stream",
          "name": "stderr",
          "text": [
            "<ipython-input-104-08c552bc952a>:1: FutureWarning: Treating datetime data as categorical rather than numeric in `.describe` is deprecated and will be removed in a future version of pandas. Specify `datetime_is_numeric=True` to silence this warning and adopt the future behavior now.\n",
            "  covid_data.describe(include='all')\n"
          ]
        },
        {
          "output_type": "execute_result",
          "data": {
            "text/plain": [
              "       Province/State Country/Region          Last Update     Confirmed  \\\n",
              "count             154            312                  312    312.000000   \n",
              "unique            149            168                   97           NaN   \n",
              "top           Unknown             US  2020-03-17 11:53:10           NaN   \n",
              "freq                4             56                   44           NaN   \n",
              "first             NaN            NaN  2020-03-11 02:18:14           NaN   \n",
              "last              NaN            NaN  2020-03-17 23:53:03           NaN   \n",
              "mean              NaN            NaN                  NaN    630.307692   \n",
              "std               NaN            NaN                  NaN   4435.504351   \n",
              "min               NaN            NaN                  NaN      0.000000   \n",
              "25%               NaN            NaN                  NaN      2.000000   \n",
              "50%               NaN            NaN                  NaN     25.000000   \n",
              "75%               NaN            NaN                  NaN    130.750000   \n",
              "max               NaN            NaN                  NaN  67799.000000   \n",
              "\n",
              "             Deaths     Recovered    Latitude   Longitude  \n",
              "count    312.000000    312.000000  309.000000  309.000000  \n",
              "unique          NaN           NaN         NaN         NaN  \n",
              "top             NaN           NaN         NaN         NaN  \n",
              "freq            NaN           NaN         NaN         NaN  \n",
              "first           NaN           NaN         NaN         NaN  \n",
              "last            NaN           NaN         NaN         NaN  \n",
              "mean      25.939103    258.919872   24.974273    9.082552  \n",
              "std      234.292352   3190.819032   23.996188   84.230383  \n",
              "min        0.000000      0.000000  -71.949900 -175.198200  \n",
              "25%        0.000000      0.000000    8.619500  -70.162700  \n",
              "50%        0.000000      0.000000   31.825700   12.457800  \n",
              "75%        1.000000      3.000000   42.315400  100.204800  \n",
              "max     3111.000000  56003.000000   71.706900  177.649300  "
            ],
            "text/html": [
              "\n",
              "  <div id=\"df-0d1c42db-de60-422c-9cfb-1a18392e2ae6\">\n",
              "    <div class=\"colab-df-container\">\n",
              "      <div>\n",
              "<style scoped>\n",
              "    .dataframe tbody tr th:only-of-type {\n",
              "        vertical-align: middle;\n",
              "    }\n",
              "\n",
              "    .dataframe tbody tr th {\n",
              "        vertical-align: top;\n",
              "    }\n",
              "\n",
              "    .dataframe thead th {\n",
              "        text-align: right;\n",
              "    }\n",
              "</style>\n",
              "<table border=\"1\" class=\"dataframe\">\n",
              "  <thead>\n",
              "    <tr style=\"text-align: right;\">\n",
              "      <th></th>\n",
              "      <th>Province/State</th>\n",
              "      <th>Country/Region</th>\n",
              "      <th>Last Update</th>\n",
              "      <th>Confirmed</th>\n",
              "      <th>Deaths</th>\n",
              "      <th>Recovered</th>\n",
              "      <th>Latitude</th>\n",
              "      <th>Longitude</th>\n",
              "    </tr>\n",
              "  </thead>\n",
              "  <tbody>\n",
              "    <tr>\n",
              "      <th>count</th>\n",
              "      <td>154</td>\n",
              "      <td>312</td>\n",
              "      <td>312</td>\n",
              "      <td>312.000000</td>\n",
              "      <td>312.000000</td>\n",
              "      <td>312.000000</td>\n",
              "      <td>309.000000</td>\n",
              "      <td>309.000000</td>\n",
              "    </tr>\n",
              "    <tr>\n",
              "      <th>unique</th>\n",
              "      <td>149</td>\n",
              "      <td>168</td>\n",
              "      <td>97</td>\n",
              "      <td>NaN</td>\n",
              "      <td>NaN</td>\n",
              "      <td>NaN</td>\n",
              "      <td>NaN</td>\n",
              "      <td>NaN</td>\n",
              "    </tr>\n",
              "    <tr>\n",
              "      <th>top</th>\n",
              "      <td>Unknown</td>\n",
              "      <td>US</td>\n",
              "      <td>2020-03-17 11:53:10</td>\n",
              "      <td>NaN</td>\n",
              "      <td>NaN</td>\n",
              "      <td>NaN</td>\n",
              "      <td>NaN</td>\n",
              "      <td>NaN</td>\n",
              "    </tr>\n",
              "    <tr>\n",
              "      <th>freq</th>\n",
              "      <td>4</td>\n",
              "      <td>56</td>\n",
              "      <td>44</td>\n",
              "      <td>NaN</td>\n",
              "      <td>NaN</td>\n",
              "      <td>NaN</td>\n",
              "      <td>NaN</td>\n",
              "      <td>NaN</td>\n",
              "    </tr>\n",
              "    <tr>\n",
              "      <th>first</th>\n",
              "      <td>NaN</td>\n",
              "      <td>NaN</td>\n",
              "      <td>2020-03-11 02:18:14</td>\n",
              "      <td>NaN</td>\n",
              "      <td>NaN</td>\n",
              "      <td>NaN</td>\n",
              "      <td>NaN</td>\n",
              "      <td>NaN</td>\n",
              "    </tr>\n",
              "    <tr>\n",
              "      <th>last</th>\n",
              "      <td>NaN</td>\n",
              "      <td>NaN</td>\n",
              "      <td>2020-03-17 23:53:03</td>\n",
              "      <td>NaN</td>\n",
              "      <td>NaN</td>\n",
              "      <td>NaN</td>\n",
              "      <td>NaN</td>\n",
              "      <td>NaN</td>\n",
              "    </tr>\n",
              "    <tr>\n",
              "      <th>mean</th>\n",
              "      <td>NaN</td>\n",
              "      <td>NaN</td>\n",
              "      <td>NaN</td>\n",
              "      <td>630.307692</td>\n",
              "      <td>25.939103</td>\n",
              "      <td>258.919872</td>\n",
              "      <td>24.974273</td>\n",
              "      <td>9.082552</td>\n",
              "    </tr>\n",
              "    <tr>\n",
              "      <th>std</th>\n",
              "      <td>NaN</td>\n",
              "      <td>NaN</td>\n",
              "      <td>NaN</td>\n",
              "      <td>4435.504351</td>\n",
              "      <td>234.292352</td>\n",
              "      <td>3190.819032</td>\n",
              "      <td>23.996188</td>\n",
              "      <td>84.230383</td>\n",
              "    </tr>\n",
              "    <tr>\n",
              "      <th>min</th>\n",
              "      <td>NaN</td>\n",
              "      <td>NaN</td>\n",
              "      <td>NaN</td>\n",
              "      <td>0.000000</td>\n",
              "      <td>0.000000</td>\n",
              "      <td>0.000000</td>\n",
              "      <td>-71.949900</td>\n",
              "      <td>-175.198200</td>\n",
              "    </tr>\n",
              "    <tr>\n",
              "      <th>25%</th>\n",
              "      <td>NaN</td>\n",
              "      <td>NaN</td>\n",
              "      <td>NaN</td>\n",
              "      <td>2.000000</td>\n",
              "      <td>0.000000</td>\n",
              "      <td>0.000000</td>\n",
              "      <td>8.619500</td>\n",
              "      <td>-70.162700</td>\n",
              "    </tr>\n",
              "    <tr>\n",
              "      <th>50%</th>\n",
              "      <td>NaN</td>\n",
              "      <td>NaN</td>\n",
              "      <td>NaN</td>\n",
              "      <td>25.000000</td>\n",
              "      <td>0.000000</td>\n",
              "      <td>0.000000</td>\n",
              "      <td>31.825700</td>\n",
              "      <td>12.457800</td>\n",
              "    </tr>\n",
              "    <tr>\n",
              "      <th>75%</th>\n",
              "      <td>NaN</td>\n",
              "      <td>NaN</td>\n",
              "      <td>NaN</td>\n",
              "      <td>130.750000</td>\n",
              "      <td>1.000000</td>\n",
              "      <td>3.000000</td>\n",
              "      <td>42.315400</td>\n",
              "      <td>100.204800</td>\n",
              "    </tr>\n",
              "    <tr>\n",
              "      <th>max</th>\n",
              "      <td>NaN</td>\n",
              "      <td>NaN</td>\n",
              "      <td>NaN</td>\n",
              "      <td>67799.000000</td>\n",
              "      <td>3111.000000</td>\n",
              "      <td>56003.000000</td>\n",
              "      <td>71.706900</td>\n",
              "      <td>177.649300</td>\n",
              "    </tr>\n",
              "  </tbody>\n",
              "</table>\n",
              "</div>\n",
              "      <button class=\"colab-df-convert\" onclick=\"convertToInteractive('df-0d1c42db-de60-422c-9cfb-1a18392e2ae6')\"\n",
              "              title=\"Convert this dataframe to an interactive table.\"\n",
              "              style=\"display:none;\">\n",
              "        \n",
              "  <svg xmlns=\"http://www.w3.org/2000/svg\" height=\"24px\"viewBox=\"0 0 24 24\"\n",
              "       width=\"24px\">\n",
              "    <path d=\"M0 0h24v24H0V0z\" fill=\"none\"/>\n",
              "    <path d=\"M18.56 5.44l.94 2.06.94-2.06 2.06-.94-2.06-.94-.94-2.06-.94 2.06-2.06.94zm-11 1L8.5 8.5l.94-2.06 2.06-.94-2.06-.94L8.5 2.5l-.94 2.06-2.06.94zm10 10l.94 2.06.94-2.06 2.06-.94-2.06-.94-.94-2.06-.94 2.06-2.06.94z\"/><path d=\"M17.41 7.96l-1.37-1.37c-.4-.4-.92-.59-1.43-.59-.52 0-1.04.2-1.43.59L10.3 9.45l-7.72 7.72c-.78.78-.78 2.05 0 2.83L4 21.41c.39.39.9.59 1.41.59.51 0 1.02-.2 1.41-.59l7.78-7.78 2.81-2.81c.8-.78.8-2.07 0-2.86zM5.41 20L4 18.59l7.72-7.72 1.47 1.35L5.41 20z\"/>\n",
              "  </svg>\n",
              "      </button>\n",
              "      \n",
              "  <style>\n",
              "    .colab-df-container {\n",
              "      display:flex;\n",
              "      flex-wrap:wrap;\n",
              "      gap: 12px;\n",
              "    }\n",
              "\n",
              "    .colab-df-convert {\n",
              "      background-color: #E8F0FE;\n",
              "      border: none;\n",
              "      border-radius: 50%;\n",
              "      cursor: pointer;\n",
              "      display: none;\n",
              "      fill: #1967D2;\n",
              "      height: 32px;\n",
              "      padding: 0 0 0 0;\n",
              "      width: 32px;\n",
              "    }\n",
              "\n",
              "    .colab-df-convert:hover {\n",
              "      background-color: #E2EBFA;\n",
              "      box-shadow: 0px 1px 2px rgba(60, 64, 67, 0.3), 0px 1px 3px 1px rgba(60, 64, 67, 0.15);\n",
              "      fill: #174EA6;\n",
              "    }\n",
              "\n",
              "    [theme=dark] .colab-df-convert {\n",
              "      background-color: #3B4455;\n",
              "      fill: #D2E3FC;\n",
              "    }\n",
              "\n",
              "    [theme=dark] .colab-df-convert:hover {\n",
              "      background-color: #434B5C;\n",
              "      box-shadow: 0px 1px 3px 1px rgba(0, 0, 0, 0.15);\n",
              "      filter: drop-shadow(0px 1px 2px rgba(0, 0, 0, 0.3));\n",
              "      fill: #FFFFFF;\n",
              "    }\n",
              "  </style>\n",
              "\n",
              "      <script>\n",
              "        const buttonEl =\n",
              "          document.querySelector('#df-0d1c42db-de60-422c-9cfb-1a18392e2ae6 button.colab-df-convert');\n",
              "        buttonEl.style.display =\n",
              "          google.colab.kernel.accessAllowed ? 'block' : 'none';\n",
              "\n",
              "        async function convertToInteractive(key) {\n",
              "          const element = document.querySelector('#df-0d1c42db-de60-422c-9cfb-1a18392e2ae6');\n",
              "          const dataTable =\n",
              "            await google.colab.kernel.invokeFunction('convertToInteractive',\n",
              "                                                     [key], {});\n",
              "          if (!dataTable) return;\n",
              "\n",
              "          const docLinkHtml = 'Like what you see? Visit the ' +\n",
              "            '<a target=\"_blank\" href=https://colab.research.google.com/notebooks/data_table.ipynb>data table notebook</a>'\n",
              "            + ' to learn more about interactive tables.';\n",
              "          element.innerHTML = '';\n",
              "          dataTable['output_type'] = 'display_data';\n",
              "          await google.colab.output.renderOutput(dataTable, element);\n",
              "          const docLink = document.createElement('div');\n",
              "          docLink.innerHTML = docLinkHtml;\n",
              "          element.appendChild(docLink);\n",
              "        }\n",
              "      </script>\n",
              "    </div>\n",
              "  </div>\n",
              "  "
            ]
          },
          "metadata": {},
          "execution_count": 104
        }
      ]
    },
    {
      "cell_type": "code",
      "source": [
        "covid_data['Active'] = covid_data['Confirmed'] - covid_data['Deaths'] - covid_data['Recovered']\n",
        "covid_data_bycountry = covid_data.groupby('Country/Region')['Confirmed', 'Deaths', 'Recovered', 'Active'].sum().reset_index()\n",
        "print(covid_data_bycountry) "
      ],
      "metadata": {
        "colab": {
          "base_uri": "https://localhost:8080/"
        },
        "id": "xla9gFCDW_Ic",
        "outputId": "ae7d5a28-7aee-4518-c382-da8e220267d2"
      },
      "execution_count": 97,
      "outputs": [
        {
          "output_type": "stream",
          "name": "stdout",
          "text": [
            "                     Country/Region  Confirmed  Deaths  Recovered  Active\n",
            "0                       Afghanistan         26       0          1      25\n",
            "1                           Albania         55       1          0      54\n",
            "2                           Algeria         60       4         12      44\n",
            "3                           Andorra         39       0          1      38\n",
            "4                        Antarctica          0       0          0       0\n",
            "..                              ...        ...     ...        ...     ...\n",
            "163                      Uzbekistan         10       0          0      10\n",
            "164                       Venezuela         33       0          0      33\n",
            "165                         Vietnam         66       0         16      50\n",
            "166            Winter Olympics 2022          0       0          0       0\n",
            "167  occupied Palestinian territory          0       0          0       0\n",
            "\n",
            "[168 rows x 5 columns]\n"
          ]
        },
        {
          "output_type": "stream",
          "name": "stderr",
          "text": [
            "<ipython-input-97-43a7da3340a3>:2: FutureWarning: Indexing with multiple keys (implicitly converted to a tuple of keys) will be deprecated, use a list instead.\n",
            "  result = covid_data.groupby('Country/Region')['Confirmed', 'Deaths', 'Recovered', 'Active'].sum().reset_index()\n"
          ]
        }
      ]
    },
    {
      "cell_type": "markdown",
      "source": [
        "**Q28) Write a Python program to get the latest number of confirmed deaths and recovered people of Novel Coronavirus (COVID-19) cases Country/Region - Province/State wise.**"
      ],
      "metadata": {
        "id": "brOgyrkiktul"
      }
    },
    {
      "cell_type": "code",
      "source": [
        "# Write your code here\n",
        "data = covid_data.groupby(['Country/Region', 'Province/State'])['Confirmed', 'Deaths', 'Recovered'].sum()\n",
        "pd.set_option('display.max_rows', None)\n",
        "print(data)"
      ],
      "metadata": {
        "id": "iExrDPJGkvwP",
        "colab": {
          "base_uri": "https://localhost:8080/"
        },
        "outputId": "fd12f95d-8c02-480d-df83-a8642e013298"
      },
      "execution_count": 109,
      "outputs": [
        {
          "output_type": "stream",
          "name": "stdout",
          "text": [
            "                                             Confirmed  Deaths  Recovered\n",
            "Country/Region Province/State                                            \n",
            "Australia      Australian Capital Territory          2       0          0\n",
            "               From Diamond Princess                 0       0          0\n",
            "               New South Wales                     210       4          4\n",
            "               Northern Territory                    1       0          0\n",
            "               Queensland                           78       0          8\n",
            "               South Australia                      29       0          3\n",
            "               Tasmania                              7       0          0\n",
            "               Victoria                             94       0          8\n",
            "               Western Australia                    31       1          0\n",
            "Canada         Alberta                              74       0          0\n",
            "               British Columbia                    103       4          4\n",
            "               Grand Princess                        8       0          0\n",
            "               Manitoba                              8       0          0\n",
            "               New Brunswick                         8       0          0\n",
            "               Newfoundland and Labrador             3       0          0\n",
            "               Nova Scotia                           7       0          0\n",
            "               Ontario                             507       1          5\n",
            "               Prince Edward Island                  1       0          0\n",
            "               Quebec                              128       1          0\n",
            "               Saskatchewan                          7       0          0\n",
            "China          Anhui                               990       6        984\n",
            "               Beijing                             456       8        369\n",
            "               Chongqing                           576       6        570\n",
            "               Fujian                              296       1        295\n",
            "               Gansu                               133       2         91\n",
            "               Guangdong                          1364       8       1307\n",
            "               Guangxi                             253       2        248\n",
            "               Guizhou                             147       2        144\n",
            "               Hainan                              168       6        161\n",
            "               Hebei                               318       6        310\n",
            "               Heilongjiang                        482      13        456\n",
            "               Henan                              1273      22       1250\n",
            "               Hong Kong                           162       4         88\n",
            "               Hubei                             67799    3111      56003\n",
            "               Hunan                              1018       4       1014\n",
            "               Inner Mongolia                       75       1         73\n",
            "               Jiangsu                             631       0        631\n",
            "               Jiangxi                             935       1        934\n",
            "               Jilin                                93       1         92\n",
            "               Liaoning                            125       1        120\n",
            "               Macau                                12       0         10\n",
            "               Ningxia                              75       0         75\n",
            "               Qinghai                              18       0         18\n",
            "               Shaanxi                             246       3        236\n",
            "               Shandong                            761       7        746\n",
            "               Shanghai                            358       3        325\n",
            "               Shanxi                              133       0        133\n",
            "               Sichuan                             540       3        520\n",
            "               Tianjin                             136       3        133\n",
            "               Tibet                                 1       0          1\n",
            "               Unknown                               0       0          0\n",
            "               Xinjiang                             76       3         73\n",
            "               Yunnan                              176       2        172\n",
            "               Zhejiang                           1232       1       1216\n",
            "Cruise Ship    Diamond Princess                    696       7        325\n",
            "Denmark        Denmark                             977       4          1\n",
            "               Faroe Islands                        47       0          0\n",
            "France         France                             7652     148         12\n",
            "               French Guiana                         7       0          0\n",
            "               French Polynesia                      3       0          0\n",
            "               Guadeloupe                            6       0          0\n",
            "               Mayotte                               1       0          0\n",
            "               Reunion                               9       0          0\n",
            "               Saint Barthelemy                      3       0          0\n",
            "               St Martin                             2       0          0\n",
            "Malaysia       Johor                                 0       0          0\n",
            "               Kedah                                 0       0          0\n",
            "               Kelantan                              0       0          0\n",
            "               Melaka                                0       0          0\n",
            "               Negeri Sembilan                       0       0          0\n",
            "               Pahang                                0       0          0\n",
            "               Perak                                 0       0          0\n",
            "               Perlis                                0       0          0\n",
            "               Pulau Pinang                          0       0          0\n",
            "               Sabah                                 0       0          0\n",
            "               Sarawak                               0       0          0\n",
            "               Selangor                              0       0          0\n",
            "               Terengganu                            0       0          0\n",
            "               Unknown                               0       0          0\n",
            "               W.P. Kuala Lumpur                     0       0          0\n",
            "               W.P. Labuan                           0       0          0\n",
            "               W.P. Putrajaya                        0       0          0\n",
            "Netherlands    Curacao                               3       0          0\n",
            "               Netherlands                        1705      43          2\n",
            "New Zealand    Cook Islands                          0       0          0\n",
            "               Niue                                  0       0          0\n",
            "US             Alabama                              39       0          0\n",
            "               Alaska                                3       0          0\n",
            "               Arizona                              20       0          1\n",
            "               Arkansas                             22       0          0\n",
            "               California                          698      12          6\n",
            "               Colorado                            160       2          0\n",
            "               Connecticut                          68       0          0\n",
            "               Delaware                             16       0          0\n",
            "               Diamond Princess                     47       0          0\n",
            "               District of Columbia                 22       0          0\n",
            "               Florida                             216       6          0\n",
            "               Georgia                             146       1          0\n",
            "               Grand Princess                       21       0          0\n",
            "               Guam                                  3       0          0\n",
            "               Hawaii                               10       0          0\n",
            "               Idaho                                 8       0          0\n",
            "               Illinois                            161       1          2\n",
            "               Indiana                              30       2          0\n",
            "               Iowa                                 23       0          0\n",
            "               Kansas                               18       1          0\n",
            "               Kentucky                             26       1          1\n",
            "               Louisiana                           196       4          0\n",
            "               Maine                                32       0          0\n",
            "               Maryland                             60       0          3\n",
            "               Massachusetts                       218       0          1\n",
            "               Michigan                             65       0          0\n",
            "               Minnesota                            60       0          0\n",
            "               Mississippi                          21       0          0\n",
            "               Missouri                             11       0          0\n",
            "               Montana                               9       0          0\n",
            "               Nebraska                             21       0          0\n",
            "               Nevada                               56       1          0\n",
            "               New Hampshire                        26       0          0\n",
            "               New Jersey                          267       3          1\n",
            "               New Mexico                           23       0          0\n",
            "               New York                           1706      13          0\n",
            "               North Carolina                       64       0          0\n",
            "               North Dakota                          3       0          0\n",
            "               Ohio                                 67       0          0\n",
            "               Oklahoma                             19       0          0\n",
            "               Oregon                               66       1          0\n",
            "               Pennsylvania                        112       0          0\n",
            "               Puerto Rico                           5       0          0\n",
            "               Rhode Island                         23       0          0\n",
            "               South Carolina                       47       1          0\n",
            "               South Dakota                         11       1          0\n",
            "               Tennessee                            74       0          0\n",
            "               Texas                               110       1          0\n",
            "               Utah                                 51       0          0\n",
            "               Vermont                              12       0          0\n",
            "               Virgin Islands                        2       0          0\n",
            "               Virginia                             67       2          0\n",
            "               Washington                         1076      55          1\n",
            "               West Virginia                         1       0          0\n",
            "               Wisconsin                            72       0          1\n",
            "               Wyoming                              11       0          0\n",
            "Ukraine        Unknown                               0       0          0\n",
            "United Kingdom Cayman Islands                        1       1          0\n",
            "               Channel Islands                       0       0          0\n",
            "               England                               0     198          0\n",
            "               Gibraltar                             3       0          1\n",
            "               Guernsey                              0       0          0\n",
            "               Jersey                                0       0          0\n",
            "               Northern Ireland                      0       0          0\n",
            "               Pitcairn Islands                      0       0          0\n",
            "               Scotland                              0      11          0\n",
            "               Unknown                            1950       2         52\n",
            "               Wales                                 0       5          0\n"
          ]
        },
        {
          "output_type": "stream",
          "name": "stderr",
          "text": [
            "<ipython-input-109-5d03957b3b83>:2: FutureWarning: Indexing with multiple keys (implicitly converted to a tuple of keys) will be deprecated, use a list instead.\n",
            "  data = covid_data.groupby(['Country/Region', 'Province/State'])['Confirmed', 'Deaths', 'Recovered'].sum()\n"
          ]
        }
      ]
    },
    {
      "cell_type": "markdown",
      "source": [
        "**Q29) Write a Python program to get the Chinese province wise cases of confirmed, deaths and recovered cases of Novel Coronavirus (COVID-19).**"
      ],
      "metadata": {
        "id": "77IproMdkwOK"
      }
    },
    {
      "cell_type": "code",
      "source": [
        "# Write your code here\n",
        "covid_data_china=covid_data[covid_data['Country/Region']=='China']\n",
        "covid_data_china"
      ],
      "metadata": {
        "id": "56zqWVzIkyTU",
        "colab": {
          "base_uri": "https://localhost:8080/",
          "height": 1000
        },
        "outputId": "963d0539-a004-48f8-8c45-79831c52d5b1"
      },
      "execution_count": 115,
      "outputs": [
        {
          "output_type": "execute_result",
          "data": {
            "text/plain": [
              "     Province/State Country/Region         Last Update  Confirmed  Deaths  \\\n",
              "0             Hubei          China 2020-03-17 11:53:10      67799    3111   \n",
              "12        Guangdong          China 2020-03-17 01:53:03       1364       8   \n",
              "14            Henan          China 2020-03-14 09:53:08       1273      22   \n",
              "16         Zhejiang          China 2020-03-17 02:13:21       1232       1   \n",
              "19            Hunan          China 2020-03-14 08:33:03       1018       4   \n",
              "20            Anhui          China 2020-03-11 02:18:14        990       6   \n",
              "22          Jiangxi          China 2020-03-12 02:13:04        935       1   \n",
              "24         Shandong          China 2020-03-17 00:33:02        761       7   \n",
              "27          Jiangsu          China 2020-03-15 01:53:02        631       0   \n",
              "28        Chongqing          China 2020-03-15 03:53:04        576       6   \n",
              "29          Sichuan          China 2020-03-17 08:33:02        540       3   \n",
              "30     Heilongjiang          China 2020-03-17 01:33:02        482      13   \n",
              "31          Beijing          China 2020-03-17 10:53:03        456       8   \n",
              "36         Shanghai          China 2020-03-17 02:13:20        358       3   \n",
              "40            Hebei          China 2020-03-13 11:09:03        318       6   \n",
              "41           Fujian          China 2020-03-11 02:18:14        296       1   \n",
              "45          Guangxi          China 2020-03-17 00:33:02        253       2   \n",
              "46          Shaanxi          China 2020-03-17 10:53:03        246       3   \n",
              "63           Yunnan          China 2020-03-16 23:53:02        176       2   \n",
              "66           Hainan          China 2020-03-16 14:38:45        168       6   \n",
              "67        Hong Kong          China 2020-03-17 10:13:11        162       4   \n",
              "71          Guizhou          China 2020-03-17 07:33:03        147       2   \n",
              "75          Tianjin          China 2020-03-15 18:20:18        136       3   \n",
              "76            Gansu          China 2020-03-15 18:20:18        133       2   \n",
              "77           Shanxi          China 2020-03-13 11:09:03        133       0   \n",
              "79         Liaoning          China 2020-03-17 12:13:13        125       1   \n",
              "89            Jilin          China 2020-03-16 00:22:10         93       1   \n",
              "94         Xinjiang          China 2020-03-11 02:18:14         76       3   \n",
              "95   Inner Mongolia          China 2020-03-16 14:38:45         75       1   \n",
              "96          Ningxia          China 2020-03-16 14:38:45         75       0   \n",
              "170         Qinghai          China 2020-03-11 02:18:14         18       0   \n",
              "178           Macau          China 2020-03-17 04:32:18         12       0   \n",
              "246           Tibet          China 2020-03-11 02:18:14          1       0   \n",
              "275         Unknown          China 2020-03-17 11:53:10          0       0   \n",
              "\n",
              "     Recovered  Latitude  Longitude  \n",
              "0        56003   30.9756   112.2707  \n",
              "12        1307   23.3417   113.4244  \n",
              "14        1250   33.8820   113.6140  \n",
              "16        1216   29.1832   120.0934  \n",
              "19        1014   27.6104   111.7088  \n",
              "20         984   31.8257   117.2264  \n",
              "22         934   27.6140   115.7221  \n",
              "24         746   36.3427   118.1498  \n",
              "27         631   32.9711   119.4550  \n",
              "28         570   30.0572   107.8740  \n",
              "29         520   30.6171   102.7103  \n",
              "30         456   47.8620   127.7615  \n",
              "31         369   40.1824   116.4142  \n",
              "36         325   31.2020   121.4491  \n",
              "40         310   38.0428   114.5149  \n",
              "41         295   26.0789   117.9874  \n",
              "45         248   23.8298   108.7881  \n",
              "46         236   35.1917   108.8701  \n",
              "63         172   24.9740   101.4870  \n",
              "66         161   19.1959   109.7453  \n",
              "67          88   22.3000   114.2000  \n",
              "71         144   26.8154   106.8748  \n",
              "75         133   39.3054   117.3230  \n",
              "76          91   36.0611   103.8343  \n",
              "77         133   37.5777   112.2922  \n",
              "79         120   41.2956   122.6085  \n",
              "89          92   43.6661   126.1923  \n",
              "94          73   41.1129    85.2401  \n",
              "95          73   44.0935   113.9448  \n",
              "96          75   37.2692   106.1655  \n",
              "170         18   35.7452    95.9956  \n",
              "178         10   22.1667   113.5500  \n",
              "246          1   31.6927    88.0924  \n",
              "275          0       NaN        NaN  "
            ],
            "text/html": [
              "\n",
              "  <div id=\"df-9f896806-f036-40a5-badb-db04ea8e2133\">\n",
              "    <div class=\"colab-df-container\">\n",
              "      <div>\n",
              "<style scoped>\n",
              "    .dataframe tbody tr th:only-of-type {\n",
              "        vertical-align: middle;\n",
              "    }\n",
              "\n",
              "    .dataframe tbody tr th {\n",
              "        vertical-align: top;\n",
              "    }\n",
              "\n",
              "    .dataframe thead th {\n",
              "        text-align: right;\n",
              "    }\n",
              "</style>\n",
              "<table border=\"1\" class=\"dataframe\">\n",
              "  <thead>\n",
              "    <tr style=\"text-align: right;\">\n",
              "      <th></th>\n",
              "      <th>Province/State</th>\n",
              "      <th>Country/Region</th>\n",
              "      <th>Last Update</th>\n",
              "      <th>Confirmed</th>\n",
              "      <th>Deaths</th>\n",
              "      <th>Recovered</th>\n",
              "      <th>Latitude</th>\n",
              "      <th>Longitude</th>\n",
              "    </tr>\n",
              "  </thead>\n",
              "  <tbody>\n",
              "    <tr>\n",
              "      <th>0</th>\n",
              "      <td>Hubei</td>\n",
              "      <td>China</td>\n",
              "      <td>2020-03-17 11:53:10</td>\n",
              "      <td>67799</td>\n",
              "      <td>3111</td>\n",
              "      <td>56003</td>\n",
              "      <td>30.9756</td>\n",
              "      <td>112.2707</td>\n",
              "    </tr>\n",
              "    <tr>\n",
              "      <th>12</th>\n",
              "      <td>Guangdong</td>\n",
              "      <td>China</td>\n",
              "      <td>2020-03-17 01:53:03</td>\n",
              "      <td>1364</td>\n",
              "      <td>8</td>\n",
              "      <td>1307</td>\n",
              "      <td>23.3417</td>\n",
              "      <td>113.4244</td>\n",
              "    </tr>\n",
              "    <tr>\n",
              "      <th>14</th>\n",
              "      <td>Henan</td>\n",
              "      <td>China</td>\n",
              "      <td>2020-03-14 09:53:08</td>\n",
              "      <td>1273</td>\n",
              "      <td>22</td>\n",
              "      <td>1250</td>\n",
              "      <td>33.8820</td>\n",
              "      <td>113.6140</td>\n",
              "    </tr>\n",
              "    <tr>\n",
              "      <th>16</th>\n",
              "      <td>Zhejiang</td>\n",
              "      <td>China</td>\n",
              "      <td>2020-03-17 02:13:21</td>\n",
              "      <td>1232</td>\n",
              "      <td>1</td>\n",
              "      <td>1216</td>\n",
              "      <td>29.1832</td>\n",
              "      <td>120.0934</td>\n",
              "    </tr>\n",
              "    <tr>\n",
              "      <th>19</th>\n",
              "      <td>Hunan</td>\n",
              "      <td>China</td>\n",
              "      <td>2020-03-14 08:33:03</td>\n",
              "      <td>1018</td>\n",
              "      <td>4</td>\n",
              "      <td>1014</td>\n",
              "      <td>27.6104</td>\n",
              "      <td>111.7088</td>\n",
              "    </tr>\n",
              "    <tr>\n",
              "      <th>20</th>\n",
              "      <td>Anhui</td>\n",
              "      <td>China</td>\n",
              "      <td>2020-03-11 02:18:14</td>\n",
              "      <td>990</td>\n",
              "      <td>6</td>\n",
              "      <td>984</td>\n",
              "      <td>31.8257</td>\n",
              "      <td>117.2264</td>\n",
              "    </tr>\n",
              "    <tr>\n",
              "      <th>22</th>\n",
              "      <td>Jiangxi</td>\n",
              "      <td>China</td>\n",
              "      <td>2020-03-12 02:13:04</td>\n",
              "      <td>935</td>\n",
              "      <td>1</td>\n",
              "      <td>934</td>\n",
              "      <td>27.6140</td>\n",
              "      <td>115.7221</td>\n",
              "    </tr>\n",
              "    <tr>\n",
              "      <th>24</th>\n",
              "      <td>Shandong</td>\n",
              "      <td>China</td>\n",
              "      <td>2020-03-17 00:33:02</td>\n",
              "      <td>761</td>\n",
              "      <td>7</td>\n",
              "      <td>746</td>\n",
              "      <td>36.3427</td>\n",
              "      <td>118.1498</td>\n",
              "    </tr>\n",
              "    <tr>\n",
              "      <th>27</th>\n",
              "      <td>Jiangsu</td>\n",
              "      <td>China</td>\n",
              "      <td>2020-03-15 01:53:02</td>\n",
              "      <td>631</td>\n",
              "      <td>0</td>\n",
              "      <td>631</td>\n",
              "      <td>32.9711</td>\n",
              "      <td>119.4550</td>\n",
              "    </tr>\n",
              "    <tr>\n",
              "      <th>28</th>\n",
              "      <td>Chongqing</td>\n",
              "      <td>China</td>\n",
              "      <td>2020-03-15 03:53:04</td>\n",
              "      <td>576</td>\n",
              "      <td>6</td>\n",
              "      <td>570</td>\n",
              "      <td>30.0572</td>\n",
              "      <td>107.8740</td>\n",
              "    </tr>\n",
              "    <tr>\n",
              "      <th>29</th>\n",
              "      <td>Sichuan</td>\n",
              "      <td>China</td>\n",
              "      <td>2020-03-17 08:33:02</td>\n",
              "      <td>540</td>\n",
              "      <td>3</td>\n",
              "      <td>520</td>\n",
              "      <td>30.6171</td>\n",
              "      <td>102.7103</td>\n",
              "    </tr>\n",
              "    <tr>\n",
              "      <th>30</th>\n",
              "      <td>Heilongjiang</td>\n",
              "      <td>China</td>\n",
              "      <td>2020-03-17 01:33:02</td>\n",
              "      <td>482</td>\n",
              "      <td>13</td>\n",
              "      <td>456</td>\n",
              "      <td>47.8620</td>\n",
              "      <td>127.7615</td>\n",
              "    </tr>\n",
              "    <tr>\n",
              "      <th>31</th>\n",
              "      <td>Beijing</td>\n",
              "      <td>China</td>\n",
              "      <td>2020-03-17 10:53:03</td>\n",
              "      <td>456</td>\n",
              "      <td>8</td>\n",
              "      <td>369</td>\n",
              "      <td>40.1824</td>\n",
              "      <td>116.4142</td>\n",
              "    </tr>\n",
              "    <tr>\n",
              "      <th>36</th>\n",
              "      <td>Shanghai</td>\n",
              "      <td>China</td>\n",
              "      <td>2020-03-17 02:13:20</td>\n",
              "      <td>358</td>\n",
              "      <td>3</td>\n",
              "      <td>325</td>\n",
              "      <td>31.2020</td>\n",
              "      <td>121.4491</td>\n",
              "    </tr>\n",
              "    <tr>\n",
              "      <th>40</th>\n",
              "      <td>Hebei</td>\n",
              "      <td>China</td>\n",
              "      <td>2020-03-13 11:09:03</td>\n",
              "      <td>318</td>\n",
              "      <td>6</td>\n",
              "      <td>310</td>\n",
              "      <td>38.0428</td>\n",
              "      <td>114.5149</td>\n",
              "    </tr>\n",
              "    <tr>\n",
              "      <th>41</th>\n",
              "      <td>Fujian</td>\n",
              "      <td>China</td>\n",
              "      <td>2020-03-11 02:18:14</td>\n",
              "      <td>296</td>\n",
              "      <td>1</td>\n",
              "      <td>295</td>\n",
              "      <td>26.0789</td>\n",
              "      <td>117.9874</td>\n",
              "    </tr>\n",
              "    <tr>\n",
              "      <th>45</th>\n",
              "      <td>Guangxi</td>\n",
              "      <td>China</td>\n",
              "      <td>2020-03-17 00:33:02</td>\n",
              "      <td>253</td>\n",
              "      <td>2</td>\n",
              "      <td>248</td>\n",
              "      <td>23.8298</td>\n",
              "      <td>108.7881</td>\n",
              "    </tr>\n",
              "    <tr>\n",
              "      <th>46</th>\n",
              "      <td>Shaanxi</td>\n",
              "      <td>China</td>\n",
              "      <td>2020-03-17 10:53:03</td>\n",
              "      <td>246</td>\n",
              "      <td>3</td>\n",
              "      <td>236</td>\n",
              "      <td>35.1917</td>\n",
              "      <td>108.8701</td>\n",
              "    </tr>\n",
              "    <tr>\n",
              "      <th>63</th>\n",
              "      <td>Yunnan</td>\n",
              "      <td>China</td>\n",
              "      <td>2020-03-16 23:53:02</td>\n",
              "      <td>176</td>\n",
              "      <td>2</td>\n",
              "      <td>172</td>\n",
              "      <td>24.9740</td>\n",
              "      <td>101.4870</td>\n",
              "    </tr>\n",
              "    <tr>\n",
              "      <th>66</th>\n",
              "      <td>Hainan</td>\n",
              "      <td>China</td>\n",
              "      <td>2020-03-16 14:38:45</td>\n",
              "      <td>168</td>\n",
              "      <td>6</td>\n",
              "      <td>161</td>\n",
              "      <td>19.1959</td>\n",
              "      <td>109.7453</td>\n",
              "    </tr>\n",
              "    <tr>\n",
              "      <th>67</th>\n",
              "      <td>Hong Kong</td>\n",
              "      <td>China</td>\n",
              "      <td>2020-03-17 10:13:11</td>\n",
              "      <td>162</td>\n",
              "      <td>4</td>\n",
              "      <td>88</td>\n",
              "      <td>22.3000</td>\n",
              "      <td>114.2000</td>\n",
              "    </tr>\n",
              "    <tr>\n",
              "      <th>71</th>\n",
              "      <td>Guizhou</td>\n",
              "      <td>China</td>\n",
              "      <td>2020-03-17 07:33:03</td>\n",
              "      <td>147</td>\n",
              "      <td>2</td>\n",
              "      <td>144</td>\n",
              "      <td>26.8154</td>\n",
              "      <td>106.8748</td>\n",
              "    </tr>\n",
              "    <tr>\n",
              "      <th>75</th>\n",
              "      <td>Tianjin</td>\n",
              "      <td>China</td>\n",
              "      <td>2020-03-15 18:20:18</td>\n",
              "      <td>136</td>\n",
              "      <td>3</td>\n",
              "      <td>133</td>\n",
              "      <td>39.3054</td>\n",
              "      <td>117.3230</td>\n",
              "    </tr>\n",
              "    <tr>\n",
              "      <th>76</th>\n",
              "      <td>Gansu</td>\n",
              "      <td>China</td>\n",
              "      <td>2020-03-15 18:20:18</td>\n",
              "      <td>133</td>\n",
              "      <td>2</td>\n",
              "      <td>91</td>\n",
              "      <td>36.0611</td>\n",
              "      <td>103.8343</td>\n",
              "    </tr>\n",
              "    <tr>\n",
              "      <th>77</th>\n",
              "      <td>Shanxi</td>\n",
              "      <td>China</td>\n",
              "      <td>2020-03-13 11:09:03</td>\n",
              "      <td>133</td>\n",
              "      <td>0</td>\n",
              "      <td>133</td>\n",
              "      <td>37.5777</td>\n",
              "      <td>112.2922</td>\n",
              "    </tr>\n",
              "    <tr>\n",
              "      <th>79</th>\n",
              "      <td>Liaoning</td>\n",
              "      <td>China</td>\n",
              "      <td>2020-03-17 12:13:13</td>\n",
              "      <td>125</td>\n",
              "      <td>1</td>\n",
              "      <td>120</td>\n",
              "      <td>41.2956</td>\n",
              "      <td>122.6085</td>\n",
              "    </tr>\n",
              "    <tr>\n",
              "      <th>89</th>\n",
              "      <td>Jilin</td>\n",
              "      <td>China</td>\n",
              "      <td>2020-03-16 00:22:10</td>\n",
              "      <td>93</td>\n",
              "      <td>1</td>\n",
              "      <td>92</td>\n",
              "      <td>43.6661</td>\n",
              "      <td>126.1923</td>\n",
              "    </tr>\n",
              "    <tr>\n",
              "      <th>94</th>\n",
              "      <td>Xinjiang</td>\n",
              "      <td>China</td>\n",
              "      <td>2020-03-11 02:18:14</td>\n",
              "      <td>76</td>\n",
              "      <td>3</td>\n",
              "      <td>73</td>\n",
              "      <td>41.1129</td>\n",
              "      <td>85.2401</td>\n",
              "    </tr>\n",
              "    <tr>\n",
              "      <th>95</th>\n",
              "      <td>Inner Mongolia</td>\n",
              "      <td>China</td>\n",
              "      <td>2020-03-16 14:38:45</td>\n",
              "      <td>75</td>\n",
              "      <td>1</td>\n",
              "      <td>73</td>\n",
              "      <td>44.0935</td>\n",
              "      <td>113.9448</td>\n",
              "    </tr>\n",
              "    <tr>\n",
              "      <th>96</th>\n",
              "      <td>Ningxia</td>\n",
              "      <td>China</td>\n",
              "      <td>2020-03-16 14:38:45</td>\n",
              "      <td>75</td>\n",
              "      <td>0</td>\n",
              "      <td>75</td>\n",
              "      <td>37.2692</td>\n",
              "      <td>106.1655</td>\n",
              "    </tr>\n",
              "    <tr>\n",
              "      <th>170</th>\n",
              "      <td>Qinghai</td>\n",
              "      <td>China</td>\n",
              "      <td>2020-03-11 02:18:14</td>\n",
              "      <td>18</td>\n",
              "      <td>0</td>\n",
              "      <td>18</td>\n",
              "      <td>35.7452</td>\n",
              "      <td>95.9956</td>\n",
              "    </tr>\n",
              "    <tr>\n",
              "      <th>178</th>\n",
              "      <td>Macau</td>\n",
              "      <td>China</td>\n",
              "      <td>2020-03-17 04:32:18</td>\n",
              "      <td>12</td>\n",
              "      <td>0</td>\n",
              "      <td>10</td>\n",
              "      <td>22.1667</td>\n",
              "      <td>113.5500</td>\n",
              "    </tr>\n",
              "    <tr>\n",
              "      <th>246</th>\n",
              "      <td>Tibet</td>\n",
              "      <td>China</td>\n",
              "      <td>2020-03-11 02:18:14</td>\n",
              "      <td>1</td>\n",
              "      <td>0</td>\n",
              "      <td>1</td>\n",
              "      <td>31.6927</td>\n",
              "      <td>88.0924</td>\n",
              "    </tr>\n",
              "    <tr>\n",
              "      <th>275</th>\n",
              "      <td>Unknown</td>\n",
              "      <td>China</td>\n",
              "      <td>2020-03-17 11:53:10</td>\n",
              "      <td>0</td>\n",
              "      <td>0</td>\n",
              "      <td>0</td>\n",
              "      <td>NaN</td>\n",
              "      <td>NaN</td>\n",
              "    </tr>\n",
              "  </tbody>\n",
              "</table>\n",
              "</div>\n",
              "      <button class=\"colab-df-convert\" onclick=\"convertToInteractive('df-9f896806-f036-40a5-badb-db04ea8e2133')\"\n",
              "              title=\"Convert this dataframe to an interactive table.\"\n",
              "              style=\"display:none;\">\n",
              "        \n",
              "  <svg xmlns=\"http://www.w3.org/2000/svg\" height=\"24px\"viewBox=\"0 0 24 24\"\n",
              "       width=\"24px\">\n",
              "    <path d=\"M0 0h24v24H0V0z\" fill=\"none\"/>\n",
              "    <path d=\"M18.56 5.44l.94 2.06.94-2.06 2.06-.94-2.06-.94-.94-2.06-.94 2.06-2.06.94zm-11 1L8.5 8.5l.94-2.06 2.06-.94-2.06-.94L8.5 2.5l-.94 2.06-2.06.94zm10 10l.94 2.06.94-2.06 2.06-.94-2.06-.94-.94-2.06-.94 2.06-2.06.94z\"/><path d=\"M17.41 7.96l-1.37-1.37c-.4-.4-.92-.59-1.43-.59-.52 0-1.04.2-1.43.59L10.3 9.45l-7.72 7.72c-.78.78-.78 2.05 0 2.83L4 21.41c.39.39.9.59 1.41.59.51 0 1.02-.2 1.41-.59l7.78-7.78 2.81-2.81c.8-.78.8-2.07 0-2.86zM5.41 20L4 18.59l7.72-7.72 1.47 1.35L5.41 20z\"/>\n",
              "  </svg>\n",
              "      </button>\n",
              "      \n",
              "  <style>\n",
              "    .colab-df-container {\n",
              "      display:flex;\n",
              "      flex-wrap:wrap;\n",
              "      gap: 12px;\n",
              "    }\n",
              "\n",
              "    .colab-df-convert {\n",
              "      background-color: #E8F0FE;\n",
              "      border: none;\n",
              "      border-radius: 50%;\n",
              "      cursor: pointer;\n",
              "      display: none;\n",
              "      fill: #1967D2;\n",
              "      height: 32px;\n",
              "      padding: 0 0 0 0;\n",
              "      width: 32px;\n",
              "    }\n",
              "\n",
              "    .colab-df-convert:hover {\n",
              "      background-color: #E2EBFA;\n",
              "      box-shadow: 0px 1px 2px rgba(60, 64, 67, 0.3), 0px 1px 3px 1px rgba(60, 64, 67, 0.15);\n",
              "      fill: #174EA6;\n",
              "    }\n",
              "\n",
              "    [theme=dark] .colab-df-convert {\n",
              "      background-color: #3B4455;\n",
              "      fill: #D2E3FC;\n",
              "    }\n",
              "\n",
              "    [theme=dark] .colab-df-convert:hover {\n",
              "      background-color: #434B5C;\n",
              "      box-shadow: 0px 1px 3px 1px rgba(0, 0, 0, 0.15);\n",
              "      filter: drop-shadow(0px 1px 2px rgba(0, 0, 0, 0.3));\n",
              "      fill: #FFFFFF;\n",
              "    }\n",
              "  </style>\n",
              "\n",
              "      <script>\n",
              "        const buttonEl =\n",
              "          document.querySelector('#df-9f896806-f036-40a5-badb-db04ea8e2133 button.colab-df-convert');\n",
              "        buttonEl.style.display =\n",
              "          google.colab.kernel.accessAllowed ? 'block' : 'none';\n",
              "\n",
              "        async function convertToInteractive(key) {\n",
              "          const element = document.querySelector('#df-9f896806-f036-40a5-badb-db04ea8e2133');\n",
              "          const dataTable =\n",
              "            await google.colab.kernel.invokeFunction('convertToInteractive',\n",
              "                                                     [key], {});\n",
              "          if (!dataTable) return;\n",
              "\n",
              "          const docLinkHtml = 'Like what you see? Visit the ' +\n",
              "            '<a target=\"_blank\" href=https://colab.research.google.com/notebooks/data_table.ipynb>data table notebook</a>'\n",
              "            + ' to learn more about interactive tables.';\n",
              "          element.innerHTML = '';\n",
              "          dataTable['output_type'] = 'display_data';\n",
              "          await google.colab.output.renderOutput(dataTable, element);\n",
              "          const docLink = document.createElement('div');\n",
              "          docLink.innerHTML = docLinkHtml;\n",
              "          element.appendChild(docLink);\n",
              "        }\n",
              "      </script>\n",
              "    </div>\n",
              "  </div>\n",
              "  "
            ]
          },
          "metadata": {},
          "execution_count": 115
        }
      ]
    },
    {
      "cell_type": "code",
      "source": [
        "len(covid_data_china)"
      ],
      "metadata": {
        "colab": {
          "base_uri": "https://localhost:8080/"
        },
        "id": "bNKUHMoleh0z",
        "outputId": "62bbff97-4f03-4801-a6c7-c758940d4683"
      },
      "execution_count": 113,
      "outputs": [
        {
          "output_type": "execute_result",
          "data": {
            "text/plain": [
              "34"
            ]
          },
          "metadata": {},
          "execution_count": 113
        }
      ]
    },
    {
      "cell_type": "code",
      "source": [],
      "metadata": {
        "colab": {
          "base_uri": "https://localhost:8080/"
        },
        "id": "nAz1TLNsenTX",
        "outputId": "c9de54cb-3801-473e-a469-90a3ae5929ae"
      },
      "execution_count": 114,
      "outputs": [
        {
          "output_type": "execute_result",
          "data": {
            "text/plain": [
              "34"
            ]
          },
          "metadata": {},
          "execution_count": 114
        }
      ]
    },
    {
      "cell_type": "markdown",
      "source": [
        "**Q30) Write a Python program to get the latest country wise deaths cases of Novel Coronavirus (COVID-19).**"
      ],
      "metadata": {
        "id": "H3Uyuohgkyuo"
      }
    },
    {
      "cell_type": "code",
      "source": [
        "# Write your code here\n",
        "covid_data.groupby('Country/Region').aggregate({'Deaths':'sum'}).sort_values(by='Deaths',ascending=False)"
      ],
      "metadata": {
        "id": "DPYXrRIvk0os",
        "colab": {
          "base_uri": "https://localhost:8080/",
          "height": 1000
        },
        "outputId": "79e1c00b-615e-45f7-947f-fceba2f187ff"
      },
      "execution_count": 123,
      "outputs": [
        {
          "output_type": "execute_result",
          "data": {
            "text/plain": [
              "                                  Deaths\n",
              "Country/Region                          \n",
              "China                               3230\n",
              "Italy                               2503\n",
              "Iran                                 988\n",
              "Spain                                533\n",
              "United Kingdom                       217\n",
              "France                               148\n",
              "US                                   108\n",
              "Korea, South                          81\n",
              "Netherlands                           43\n",
              "Switzerland                           40\n",
              "Japan                                 29\n",
              "Germany                               24\n",
              "Philippines                           12\n",
              "Iraq                                  11\n",
              "Belgium                               10\n",
              "San Marino                             9\n",
              "Peru                                   9\n",
              "Cruise Ship                            7\n",
              "Sweden                                 7\n",
              "Canada                                 6\n",
              "Poland                                 5\n",
              "Australia                              5\n",
              "Greece                                 5\n",
              "Indonesia                              5\n",
              "Finland                                4\n",
              "Algeria                                4\n",
              "Egypt                                  4\n",
              "Denmark                                4\n",
              "India                                  3\n",
              "Lebanon                                3\n",
              "Austria                                3\n",
              "Norway                                 3\n",
              "Ecuador                                2\n",
              "Ireland                                2\n",
              "Morocco                                2\n",
              "Argentina                              2\n",
              "Bulgaria                               2\n",
              "Ukraine                                2\n",
              "Taiwan*                                1\n",
              "Turkey                                 1\n",
              "Iceland                                1\n",
              "Hungary                                1\n",
              "Guyana                                 1\n",
              "Guatemala                              1\n",
              "Azerbaijan                             1\n",
              "Bahrain                                1\n",
              "Martinique                             1\n",
              "Portugal                               1\n",
              "Panama                                 1\n",
              "Brazil                                 1\n",
              "Thailand                               1\n",
              "Sudan                                  1\n",
              "Luxembourg                             1\n",
              "Dominican Republic                     1\n",
              "Albania                                1\n",
              "Slovenia                               1\n",
              "Palau                                  0\n",
              "Namibia                                0\n",
              "Nauru                                  0\n",
              "Nepal                                  0\n",
              "Reunion                                0\n",
              "North Macedonia                        0\n",
              "Pakistan                               0\n",
              "New Zealand                            0\n",
              "Oman                                   0\n",
              "Qatar                                  0\n",
              "Puerto Rico                            0\n",
              "Paraguay                               0\n",
              "Nigeria                                0\n",
              "Republic of the Congo                  0\n",
              "Afghanistan                            0\n",
              "Romania                                0\n",
              "Tanzania                               0\n",
              "Winter Olympics 2022                   0\n",
              "Vietnam                                0\n",
              "Venezuela                              0\n",
              "Uzbekistan                             0\n",
              "Uruguay                                0\n",
              "United Arab Emirates                   0\n",
              "Tuvalu                                 0\n",
              "Tunisia                                0\n",
              "Trinidad and Tobago                    0\n",
              "Tonga                                  0\n",
              "Togo                                   0\n",
              "The Gambia                             0\n",
              "The Bahamas                            0\n",
              "Suriname                               0\n",
              "Russia                                 0\n",
              "Summer Olympics 2020                   0\n",
              "Sri Lanka                              0\n",
              "South Africa                           0\n",
              "Somalia                                0\n",
              "Slovakia                               0\n",
              "Montenegro                             0\n",
              "Seychelles                             0\n",
              "Serbia                                 0\n",
              "Senegal                                0\n",
              "Saudi Arabia                           0\n",
              "Saint Vincent and the Grenadines       0\n",
              "Saint Lucia                            0\n",
              "Rwanda                                 0\n",
              "Singapore                              0\n",
              "Kosovo                                 0\n",
              "Mongolia                               0\n",
              "Ethiopia                               0\n",
              "Estonia                                0\n",
              "Equatorial Guinea                      0\n",
              "Czechia                                0\n",
              "Cyprus                                 0\n",
              "Cuba                                   0\n",
              "Croatia                                0\n",
              "Cote d'Ivoire                          0\n",
              "Costa Rica                             0\n",
              "Congo (Kinshasa)                       0\n",
              "Congo (Brazzaville)                    0\n",
              "Colombia                               0\n",
              "Chile                                  0\n",
              "Central African Republic               0\n",
              "Cameroon                               0\n",
              "Cambodia                               0\n",
              "Burkina Faso                           0\n",
              "Brunei                                 0\n",
              "Bosnia and Herzegovina                 0\n",
              "Bolivia                                0\n",
              "Bhutan                                 0\n",
              "Benin                                  0\n",
              "Belarus                                0\n",
              "Barbados                               0\n",
              "Bangladesh                             0\n",
              "Aruba                                  0\n",
              "Armenia                                0\n",
              "Antigua and Barbuda                    0\n",
              "Antarctica                             0\n",
              "Andorra                                0\n",
              "Eswatini                               0\n",
              "French Guiana                          0\n",
              "Monaco                                 0\n",
              "Gabon                                  0\n",
              "Moldova                                0\n",
              "Mexico                                 0\n",
              "Mayotte                                0\n",
              "Mauritania                             0\n",
              "Malta                                  0\n",
              "Maldives                               0\n",
              "Malaysia                               0\n",
              "Lithuania                              0\n",
              "Liechtenstein                          0\n",
              "Liberia                                0\n",
              "Latvia                                 0\n",
              "Kuwait                                 0\n",
              "Korea, North                           0\n",
              "Kiribati                               0\n",
              "Kenya                                  0\n",
              "Kazakhstan                             0\n",
              "Jordan                                 0\n",
              "Jersey                                 0\n",
              "Jamaica                                0\n",
              "Israel                                 0\n",
              "Honduras                               0\n",
              "Holy See                               0\n",
              "Guinea                                 0\n",
              "Guernsey                               0\n",
              "Guam                                   0\n",
              "Guadeloupe                             0\n",
              "Greenland                              0\n",
              "Ghana                                  0\n",
              "Georgia                                0\n",
              "occupied Palestinian territory         0"
            ],
            "text/html": [
              "\n",
              "  <div id=\"df-6a0e2e08-bb84-4f64-aa37-7a1f12bb1cea\">\n",
              "    <div class=\"colab-df-container\">\n",
              "      <div>\n",
              "<style scoped>\n",
              "    .dataframe tbody tr th:only-of-type {\n",
              "        vertical-align: middle;\n",
              "    }\n",
              "\n",
              "    .dataframe tbody tr th {\n",
              "        vertical-align: top;\n",
              "    }\n",
              "\n",
              "    .dataframe thead th {\n",
              "        text-align: right;\n",
              "    }\n",
              "</style>\n",
              "<table border=\"1\" class=\"dataframe\">\n",
              "  <thead>\n",
              "    <tr style=\"text-align: right;\">\n",
              "      <th></th>\n",
              "      <th>Deaths</th>\n",
              "    </tr>\n",
              "    <tr>\n",
              "      <th>Country/Region</th>\n",
              "      <th></th>\n",
              "    </tr>\n",
              "  </thead>\n",
              "  <tbody>\n",
              "    <tr>\n",
              "      <th>China</th>\n",
              "      <td>3230</td>\n",
              "    </tr>\n",
              "    <tr>\n",
              "      <th>Italy</th>\n",
              "      <td>2503</td>\n",
              "    </tr>\n",
              "    <tr>\n",
              "      <th>Iran</th>\n",
              "      <td>988</td>\n",
              "    </tr>\n",
              "    <tr>\n",
              "      <th>Spain</th>\n",
              "      <td>533</td>\n",
              "    </tr>\n",
              "    <tr>\n",
              "      <th>United Kingdom</th>\n",
              "      <td>217</td>\n",
              "    </tr>\n",
              "    <tr>\n",
              "      <th>France</th>\n",
              "      <td>148</td>\n",
              "    </tr>\n",
              "    <tr>\n",
              "      <th>US</th>\n",
              "      <td>108</td>\n",
              "    </tr>\n",
              "    <tr>\n",
              "      <th>Korea, South</th>\n",
              "      <td>81</td>\n",
              "    </tr>\n",
              "    <tr>\n",
              "      <th>Netherlands</th>\n",
              "      <td>43</td>\n",
              "    </tr>\n",
              "    <tr>\n",
              "      <th>Switzerland</th>\n",
              "      <td>40</td>\n",
              "    </tr>\n",
              "    <tr>\n",
              "      <th>Japan</th>\n",
              "      <td>29</td>\n",
              "    </tr>\n",
              "    <tr>\n",
              "      <th>Germany</th>\n",
              "      <td>24</td>\n",
              "    </tr>\n",
              "    <tr>\n",
              "      <th>Philippines</th>\n",
              "      <td>12</td>\n",
              "    </tr>\n",
              "    <tr>\n",
              "      <th>Iraq</th>\n",
              "      <td>11</td>\n",
              "    </tr>\n",
              "    <tr>\n",
              "      <th>Belgium</th>\n",
              "      <td>10</td>\n",
              "    </tr>\n",
              "    <tr>\n",
              "      <th>San Marino</th>\n",
              "      <td>9</td>\n",
              "    </tr>\n",
              "    <tr>\n",
              "      <th>Peru</th>\n",
              "      <td>9</td>\n",
              "    </tr>\n",
              "    <tr>\n",
              "      <th>Cruise Ship</th>\n",
              "      <td>7</td>\n",
              "    </tr>\n",
              "    <tr>\n",
              "      <th>Sweden</th>\n",
              "      <td>7</td>\n",
              "    </tr>\n",
              "    <tr>\n",
              "      <th>Canada</th>\n",
              "      <td>6</td>\n",
              "    </tr>\n",
              "    <tr>\n",
              "      <th>Poland</th>\n",
              "      <td>5</td>\n",
              "    </tr>\n",
              "    <tr>\n",
              "      <th>Australia</th>\n",
              "      <td>5</td>\n",
              "    </tr>\n",
              "    <tr>\n",
              "      <th>Greece</th>\n",
              "      <td>5</td>\n",
              "    </tr>\n",
              "    <tr>\n",
              "      <th>Indonesia</th>\n",
              "      <td>5</td>\n",
              "    </tr>\n",
              "    <tr>\n",
              "      <th>Finland</th>\n",
              "      <td>4</td>\n",
              "    </tr>\n",
              "    <tr>\n",
              "      <th>Algeria</th>\n",
              "      <td>4</td>\n",
              "    </tr>\n",
              "    <tr>\n",
              "      <th>Egypt</th>\n",
              "      <td>4</td>\n",
              "    </tr>\n",
              "    <tr>\n",
              "      <th>Denmark</th>\n",
              "      <td>4</td>\n",
              "    </tr>\n",
              "    <tr>\n",
              "      <th>India</th>\n",
              "      <td>3</td>\n",
              "    </tr>\n",
              "    <tr>\n",
              "      <th>Lebanon</th>\n",
              "      <td>3</td>\n",
              "    </tr>\n",
              "    <tr>\n",
              "      <th>Austria</th>\n",
              "      <td>3</td>\n",
              "    </tr>\n",
              "    <tr>\n",
              "      <th>Norway</th>\n",
              "      <td>3</td>\n",
              "    </tr>\n",
              "    <tr>\n",
              "      <th>Ecuador</th>\n",
              "      <td>2</td>\n",
              "    </tr>\n",
              "    <tr>\n",
              "      <th>Ireland</th>\n",
              "      <td>2</td>\n",
              "    </tr>\n",
              "    <tr>\n",
              "      <th>Morocco</th>\n",
              "      <td>2</td>\n",
              "    </tr>\n",
              "    <tr>\n",
              "      <th>Argentina</th>\n",
              "      <td>2</td>\n",
              "    </tr>\n",
              "    <tr>\n",
              "      <th>Bulgaria</th>\n",
              "      <td>2</td>\n",
              "    </tr>\n",
              "    <tr>\n",
              "      <th>Ukraine</th>\n",
              "      <td>2</td>\n",
              "    </tr>\n",
              "    <tr>\n",
              "      <th>Taiwan*</th>\n",
              "      <td>1</td>\n",
              "    </tr>\n",
              "    <tr>\n",
              "      <th>Turkey</th>\n",
              "      <td>1</td>\n",
              "    </tr>\n",
              "    <tr>\n",
              "      <th>Iceland</th>\n",
              "      <td>1</td>\n",
              "    </tr>\n",
              "    <tr>\n",
              "      <th>Hungary</th>\n",
              "      <td>1</td>\n",
              "    </tr>\n",
              "    <tr>\n",
              "      <th>Guyana</th>\n",
              "      <td>1</td>\n",
              "    </tr>\n",
              "    <tr>\n",
              "      <th>Guatemala</th>\n",
              "      <td>1</td>\n",
              "    </tr>\n",
              "    <tr>\n",
              "      <th>Azerbaijan</th>\n",
              "      <td>1</td>\n",
              "    </tr>\n",
              "    <tr>\n",
              "      <th>Bahrain</th>\n",
              "      <td>1</td>\n",
              "    </tr>\n",
              "    <tr>\n",
              "      <th>Martinique</th>\n",
              "      <td>1</td>\n",
              "    </tr>\n",
              "    <tr>\n",
              "      <th>Portugal</th>\n",
              "      <td>1</td>\n",
              "    </tr>\n",
              "    <tr>\n",
              "      <th>Panama</th>\n",
              "      <td>1</td>\n",
              "    </tr>\n",
              "    <tr>\n",
              "      <th>Brazil</th>\n",
              "      <td>1</td>\n",
              "    </tr>\n",
              "    <tr>\n",
              "      <th>Thailand</th>\n",
              "      <td>1</td>\n",
              "    </tr>\n",
              "    <tr>\n",
              "      <th>Sudan</th>\n",
              "      <td>1</td>\n",
              "    </tr>\n",
              "    <tr>\n",
              "      <th>Luxembourg</th>\n",
              "      <td>1</td>\n",
              "    </tr>\n",
              "    <tr>\n",
              "      <th>Dominican Republic</th>\n",
              "      <td>1</td>\n",
              "    </tr>\n",
              "    <tr>\n",
              "      <th>Albania</th>\n",
              "      <td>1</td>\n",
              "    </tr>\n",
              "    <tr>\n",
              "      <th>Slovenia</th>\n",
              "      <td>1</td>\n",
              "    </tr>\n",
              "    <tr>\n",
              "      <th>Palau</th>\n",
              "      <td>0</td>\n",
              "    </tr>\n",
              "    <tr>\n",
              "      <th>Namibia</th>\n",
              "      <td>0</td>\n",
              "    </tr>\n",
              "    <tr>\n",
              "      <th>Nauru</th>\n",
              "      <td>0</td>\n",
              "    </tr>\n",
              "    <tr>\n",
              "      <th>Nepal</th>\n",
              "      <td>0</td>\n",
              "    </tr>\n",
              "    <tr>\n",
              "      <th>Reunion</th>\n",
              "      <td>0</td>\n",
              "    </tr>\n",
              "    <tr>\n",
              "      <th>North Macedonia</th>\n",
              "      <td>0</td>\n",
              "    </tr>\n",
              "    <tr>\n",
              "      <th>Pakistan</th>\n",
              "      <td>0</td>\n",
              "    </tr>\n",
              "    <tr>\n",
              "      <th>New Zealand</th>\n",
              "      <td>0</td>\n",
              "    </tr>\n",
              "    <tr>\n",
              "      <th>Oman</th>\n",
              "      <td>0</td>\n",
              "    </tr>\n",
              "    <tr>\n",
              "      <th>Qatar</th>\n",
              "      <td>0</td>\n",
              "    </tr>\n",
              "    <tr>\n",
              "      <th>Puerto Rico</th>\n",
              "      <td>0</td>\n",
              "    </tr>\n",
              "    <tr>\n",
              "      <th>Paraguay</th>\n",
              "      <td>0</td>\n",
              "    </tr>\n",
              "    <tr>\n",
              "      <th>Nigeria</th>\n",
              "      <td>0</td>\n",
              "    </tr>\n",
              "    <tr>\n",
              "      <th>Republic of the Congo</th>\n",
              "      <td>0</td>\n",
              "    </tr>\n",
              "    <tr>\n",
              "      <th>Afghanistan</th>\n",
              "      <td>0</td>\n",
              "    </tr>\n",
              "    <tr>\n",
              "      <th>Romania</th>\n",
              "      <td>0</td>\n",
              "    </tr>\n",
              "    <tr>\n",
              "      <th>Tanzania</th>\n",
              "      <td>0</td>\n",
              "    </tr>\n",
              "    <tr>\n",
              "      <th>Winter Olympics 2022</th>\n",
              "      <td>0</td>\n",
              "    </tr>\n",
              "    <tr>\n",
              "      <th>Vietnam</th>\n",
              "      <td>0</td>\n",
              "    </tr>\n",
              "    <tr>\n",
              "      <th>Venezuela</th>\n",
              "      <td>0</td>\n",
              "    </tr>\n",
              "    <tr>\n",
              "      <th>Uzbekistan</th>\n",
              "      <td>0</td>\n",
              "    </tr>\n",
              "    <tr>\n",
              "      <th>Uruguay</th>\n",
              "      <td>0</td>\n",
              "    </tr>\n",
              "    <tr>\n",
              "      <th>United Arab Emirates</th>\n",
              "      <td>0</td>\n",
              "    </tr>\n",
              "    <tr>\n",
              "      <th>Tuvalu</th>\n",
              "      <td>0</td>\n",
              "    </tr>\n",
              "    <tr>\n",
              "      <th>Tunisia</th>\n",
              "      <td>0</td>\n",
              "    </tr>\n",
              "    <tr>\n",
              "      <th>Trinidad and Tobago</th>\n",
              "      <td>0</td>\n",
              "    </tr>\n",
              "    <tr>\n",
              "      <th>Tonga</th>\n",
              "      <td>0</td>\n",
              "    </tr>\n",
              "    <tr>\n",
              "      <th>Togo</th>\n",
              "      <td>0</td>\n",
              "    </tr>\n",
              "    <tr>\n",
              "      <th>The Gambia</th>\n",
              "      <td>0</td>\n",
              "    </tr>\n",
              "    <tr>\n",
              "      <th>The Bahamas</th>\n",
              "      <td>0</td>\n",
              "    </tr>\n",
              "    <tr>\n",
              "      <th>Suriname</th>\n",
              "      <td>0</td>\n",
              "    </tr>\n",
              "    <tr>\n",
              "      <th>Russia</th>\n",
              "      <td>0</td>\n",
              "    </tr>\n",
              "    <tr>\n",
              "      <th>Summer Olympics 2020</th>\n",
              "      <td>0</td>\n",
              "    </tr>\n",
              "    <tr>\n",
              "      <th>Sri Lanka</th>\n",
              "      <td>0</td>\n",
              "    </tr>\n",
              "    <tr>\n",
              "      <th>South Africa</th>\n",
              "      <td>0</td>\n",
              "    </tr>\n",
              "    <tr>\n",
              "      <th>Somalia</th>\n",
              "      <td>0</td>\n",
              "    </tr>\n",
              "    <tr>\n",
              "      <th>Slovakia</th>\n",
              "      <td>0</td>\n",
              "    </tr>\n",
              "    <tr>\n",
              "      <th>Montenegro</th>\n",
              "      <td>0</td>\n",
              "    </tr>\n",
              "    <tr>\n",
              "      <th>Seychelles</th>\n",
              "      <td>0</td>\n",
              "    </tr>\n",
              "    <tr>\n",
              "      <th>Serbia</th>\n",
              "      <td>0</td>\n",
              "    </tr>\n",
              "    <tr>\n",
              "      <th>Senegal</th>\n",
              "      <td>0</td>\n",
              "    </tr>\n",
              "    <tr>\n",
              "      <th>Saudi Arabia</th>\n",
              "      <td>0</td>\n",
              "    </tr>\n",
              "    <tr>\n",
              "      <th>Saint Vincent and the Grenadines</th>\n",
              "      <td>0</td>\n",
              "    </tr>\n",
              "    <tr>\n",
              "      <th>Saint Lucia</th>\n",
              "      <td>0</td>\n",
              "    </tr>\n",
              "    <tr>\n",
              "      <th>Rwanda</th>\n",
              "      <td>0</td>\n",
              "    </tr>\n",
              "    <tr>\n",
              "      <th>Singapore</th>\n",
              "      <td>0</td>\n",
              "    </tr>\n",
              "    <tr>\n",
              "      <th>Kosovo</th>\n",
              "      <td>0</td>\n",
              "    </tr>\n",
              "    <tr>\n",
              "      <th>Mongolia</th>\n",
              "      <td>0</td>\n",
              "    </tr>\n",
              "    <tr>\n",
              "      <th>Ethiopia</th>\n",
              "      <td>0</td>\n",
              "    </tr>\n",
              "    <tr>\n",
              "      <th>Estonia</th>\n",
              "      <td>0</td>\n",
              "    </tr>\n",
              "    <tr>\n",
              "      <th>Equatorial Guinea</th>\n",
              "      <td>0</td>\n",
              "    </tr>\n",
              "    <tr>\n",
              "      <th>Czechia</th>\n",
              "      <td>0</td>\n",
              "    </tr>\n",
              "    <tr>\n",
              "      <th>Cyprus</th>\n",
              "      <td>0</td>\n",
              "    </tr>\n",
              "    <tr>\n",
              "      <th>Cuba</th>\n",
              "      <td>0</td>\n",
              "    </tr>\n",
              "    <tr>\n",
              "      <th>Croatia</th>\n",
              "      <td>0</td>\n",
              "    </tr>\n",
              "    <tr>\n",
              "      <th>Cote d'Ivoire</th>\n",
              "      <td>0</td>\n",
              "    </tr>\n",
              "    <tr>\n",
              "      <th>Costa Rica</th>\n",
              "      <td>0</td>\n",
              "    </tr>\n",
              "    <tr>\n",
              "      <th>Congo (Kinshasa)</th>\n",
              "      <td>0</td>\n",
              "    </tr>\n",
              "    <tr>\n",
              "      <th>Congo (Brazzaville)</th>\n",
              "      <td>0</td>\n",
              "    </tr>\n",
              "    <tr>\n",
              "      <th>Colombia</th>\n",
              "      <td>0</td>\n",
              "    </tr>\n",
              "    <tr>\n",
              "      <th>Chile</th>\n",
              "      <td>0</td>\n",
              "    </tr>\n",
              "    <tr>\n",
              "      <th>Central African Republic</th>\n",
              "      <td>0</td>\n",
              "    </tr>\n",
              "    <tr>\n",
              "      <th>Cameroon</th>\n",
              "      <td>0</td>\n",
              "    </tr>\n",
              "    <tr>\n",
              "      <th>Cambodia</th>\n",
              "      <td>0</td>\n",
              "    </tr>\n",
              "    <tr>\n",
              "      <th>Burkina Faso</th>\n",
              "      <td>0</td>\n",
              "    </tr>\n",
              "    <tr>\n",
              "      <th>Brunei</th>\n",
              "      <td>0</td>\n",
              "    </tr>\n",
              "    <tr>\n",
              "      <th>Bosnia and Herzegovina</th>\n",
              "      <td>0</td>\n",
              "    </tr>\n",
              "    <tr>\n",
              "      <th>Bolivia</th>\n",
              "      <td>0</td>\n",
              "    </tr>\n",
              "    <tr>\n",
              "      <th>Bhutan</th>\n",
              "      <td>0</td>\n",
              "    </tr>\n",
              "    <tr>\n",
              "      <th>Benin</th>\n",
              "      <td>0</td>\n",
              "    </tr>\n",
              "    <tr>\n",
              "      <th>Belarus</th>\n",
              "      <td>0</td>\n",
              "    </tr>\n",
              "    <tr>\n",
              "      <th>Barbados</th>\n",
              "      <td>0</td>\n",
              "    </tr>\n",
              "    <tr>\n",
              "      <th>Bangladesh</th>\n",
              "      <td>0</td>\n",
              "    </tr>\n",
              "    <tr>\n",
              "      <th>Aruba</th>\n",
              "      <td>0</td>\n",
              "    </tr>\n",
              "    <tr>\n",
              "      <th>Armenia</th>\n",
              "      <td>0</td>\n",
              "    </tr>\n",
              "    <tr>\n",
              "      <th>Antigua and Barbuda</th>\n",
              "      <td>0</td>\n",
              "    </tr>\n",
              "    <tr>\n",
              "      <th>Antarctica</th>\n",
              "      <td>0</td>\n",
              "    </tr>\n",
              "    <tr>\n",
              "      <th>Andorra</th>\n",
              "      <td>0</td>\n",
              "    </tr>\n",
              "    <tr>\n",
              "      <th>Eswatini</th>\n",
              "      <td>0</td>\n",
              "    </tr>\n",
              "    <tr>\n",
              "      <th>French Guiana</th>\n",
              "      <td>0</td>\n",
              "    </tr>\n",
              "    <tr>\n",
              "      <th>Monaco</th>\n",
              "      <td>0</td>\n",
              "    </tr>\n",
              "    <tr>\n",
              "      <th>Gabon</th>\n",
              "      <td>0</td>\n",
              "    </tr>\n",
              "    <tr>\n",
              "      <th>Moldova</th>\n",
              "      <td>0</td>\n",
              "    </tr>\n",
              "    <tr>\n",
              "      <th>Mexico</th>\n",
              "      <td>0</td>\n",
              "    </tr>\n",
              "    <tr>\n",
              "      <th>Mayotte</th>\n",
              "      <td>0</td>\n",
              "    </tr>\n",
              "    <tr>\n",
              "      <th>Mauritania</th>\n",
              "      <td>0</td>\n",
              "    </tr>\n",
              "    <tr>\n",
              "      <th>Malta</th>\n",
              "      <td>0</td>\n",
              "    </tr>\n",
              "    <tr>\n",
              "      <th>Maldives</th>\n",
              "      <td>0</td>\n",
              "    </tr>\n",
              "    <tr>\n",
              "      <th>Malaysia</th>\n",
              "      <td>0</td>\n",
              "    </tr>\n",
              "    <tr>\n",
              "      <th>Lithuania</th>\n",
              "      <td>0</td>\n",
              "    </tr>\n",
              "    <tr>\n",
              "      <th>Liechtenstein</th>\n",
              "      <td>0</td>\n",
              "    </tr>\n",
              "    <tr>\n",
              "      <th>Liberia</th>\n",
              "      <td>0</td>\n",
              "    </tr>\n",
              "    <tr>\n",
              "      <th>Latvia</th>\n",
              "      <td>0</td>\n",
              "    </tr>\n",
              "    <tr>\n",
              "      <th>Kuwait</th>\n",
              "      <td>0</td>\n",
              "    </tr>\n",
              "    <tr>\n",
              "      <th>Korea, North</th>\n",
              "      <td>0</td>\n",
              "    </tr>\n",
              "    <tr>\n",
              "      <th>Kiribati</th>\n",
              "      <td>0</td>\n",
              "    </tr>\n",
              "    <tr>\n",
              "      <th>Kenya</th>\n",
              "      <td>0</td>\n",
              "    </tr>\n",
              "    <tr>\n",
              "      <th>Kazakhstan</th>\n",
              "      <td>0</td>\n",
              "    </tr>\n",
              "    <tr>\n",
              "      <th>Jordan</th>\n",
              "      <td>0</td>\n",
              "    </tr>\n",
              "    <tr>\n",
              "      <th>Jersey</th>\n",
              "      <td>0</td>\n",
              "    </tr>\n",
              "    <tr>\n",
              "      <th>Jamaica</th>\n",
              "      <td>0</td>\n",
              "    </tr>\n",
              "    <tr>\n",
              "      <th>Israel</th>\n",
              "      <td>0</td>\n",
              "    </tr>\n",
              "    <tr>\n",
              "      <th>Honduras</th>\n",
              "      <td>0</td>\n",
              "    </tr>\n",
              "    <tr>\n",
              "      <th>Holy See</th>\n",
              "      <td>0</td>\n",
              "    </tr>\n",
              "    <tr>\n",
              "      <th>Guinea</th>\n",
              "      <td>0</td>\n",
              "    </tr>\n",
              "    <tr>\n",
              "      <th>Guernsey</th>\n",
              "      <td>0</td>\n",
              "    </tr>\n",
              "    <tr>\n",
              "      <th>Guam</th>\n",
              "      <td>0</td>\n",
              "    </tr>\n",
              "    <tr>\n",
              "      <th>Guadeloupe</th>\n",
              "      <td>0</td>\n",
              "    </tr>\n",
              "    <tr>\n",
              "      <th>Greenland</th>\n",
              "      <td>0</td>\n",
              "    </tr>\n",
              "    <tr>\n",
              "      <th>Ghana</th>\n",
              "      <td>0</td>\n",
              "    </tr>\n",
              "    <tr>\n",
              "      <th>Georgia</th>\n",
              "      <td>0</td>\n",
              "    </tr>\n",
              "    <tr>\n",
              "      <th>occupied Palestinian territory</th>\n",
              "      <td>0</td>\n",
              "    </tr>\n",
              "  </tbody>\n",
              "</table>\n",
              "</div>\n",
              "      <button class=\"colab-df-convert\" onclick=\"convertToInteractive('df-6a0e2e08-bb84-4f64-aa37-7a1f12bb1cea')\"\n",
              "              title=\"Convert this dataframe to an interactive table.\"\n",
              "              style=\"display:none;\">\n",
              "        \n",
              "  <svg xmlns=\"http://www.w3.org/2000/svg\" height=\"24px\"viewBox=\"0 0 24 24\"\n",
              "       width=\"24px\">\n",
              "    <path d=\"M0 0h24v24H0V0z\" fill=\"none\"/>\n",
              "    <path d=\"M18.56 5.44l.94 2.06.94-2.06 2.06-.94-2.06-.94-.94-2.06-.94 2.06-2.06.94zm-11 1L8.5 8.5l.94-2.06 2.06-.94-2.06-.94L8.5 2.5l-.94 2.06-2.06.94zm10 10l.94 2.06.94-2.06 2.06-.94-2.06-.94-.94-2.06-.94 2.06-2.06.94z\"/><path d=\"M17.41 7.96l-1.37-1.37c-.4-.4-.92-.59-1.43-.59-.52 0-1.04.2-1.43.59L10.3 9.45l-7.72 7.72c-.78.78-.78 2.05 0 2.83L4 21.41c.39.39.9.59 1.41.59.51 0 1.02-.2 1.41-.59l7.78-7.78 2.81-2.81c.8-.78.8-2.07 0-2.86zM5.41 20L4 18.59l7.72-7.72 1.47 1.35L5.41 20z\"/>\n",
              "  </svg>\n",
              "      </button>\n",
              "      \n",
              "  <style>\n",
              "    .colab-df-container {\n",
              "      display:flex;\n",
              "      flex-wrap:wrap;\n",
              "      gap: 12px;\n",
              "    }\n",
              "\n",
              "    .colab-df-convert {\n",
              "      background-color: #E8F0FE;\n",
              "      border: none;\n",
              "      border-radius: 50%;\n",
              "      cursor: pointer;\n",
              "      display: none;\n",
              "      fill: #1967D2;\n",
              "      height: 32px;\n",
              "      padding: 0 0 0 0;\n",
              "      width: 32px;\n",
              "    }\n",
              "\n",
              "    .colab-df-convert:hover {\n",
              "      background-color: #E2EBFA;\n",
              "      box-shadow: 0px 1px 2px rgba(60, 64, 67, 0.3), 0px 1px 3px 1px rgba(60, 64, 67, 0.15);\n",
              "      fill: #174EA6;\n",
              "    }\n",
              "\n",
              "    [theme=dark] .colab-df-convert {\n",
              "      background-color: #3B4455;\n",
              "      fill: #D2E3FC;\n",
              "    }\n",
              "\n",
              "    [theme=dark] .colab-df-convert:hover {\n",
              "      background-color: #434B5C;\n",
              "      box-shadow: 0px 1px 3px 1px rgba(0, 0, 0, 0.15);\n",
              "      filter: drop-shadow(0px 1px 2px rgba(0, 0, 0, 0.3));\n",
              "      fill: #FFFFFF;\n",
              "    }\n",
              "  </style>\n",
              "\n",
              "      <script>\n",
              "        const buttonEl =\n",
              "          document.querySelector('#df-6a0e2e08-bb84-4f64-aa37-7a1f12bb1cea button.colab-df-convert');\n",
              "        buttonEl.style.display =\n",
              "          google.colab.kernel.accessAllowed ? 'block' : 'none';\n",
              "\n",
              "        async function convertToInteractive(key) {\n",
              "          const element = document.querySelector('#df-6a0e2e08-bb84-4f64-aa37-7a1f12bb1cea');\n",
              "          const dataTable =\n",
              "            await google.colab.kernel.invokeFunction('convertToInteractive',\n",
              "                                                     [key], {});\n",
              "          if (!dataTable) return;\n",
              "\n",
              "          const docLinkHtml = 'Like what you see? Visit the ' +\n",
              "            '<a target=\"_blank\" href=https://colab.research.google.com/notebooks/data_table.ipynb>data table notebook</a>'\n",
              "            + ' to learn more about interactive tables.';\n",
              "          element.innerHTML = '';\n",
              "          dataTable['output_type'] = 'display_data';\n",
              "          await google.colab.output.renderOutput(dataTable, element);\n",
              "          const docLink = document.createElement('div');\n",
              "          docLink.innerHTML = docLinkHtml;\n",
              "          element.appendChild(docLink);\n",
              "        }\n",
              "      </script>\n",
              "    </div>\n",
              "  </div>\n",
              "  "
            ]
          },
          "metadata": {},
          "execution_count": 123
        }
      ]
    },
    {
      "cell_type": "markdown",
      "source": [
        "**Q31) Write a Python program to list countries with no cases of Novel Coronavirus (COVID-19) recovered.**"
      ],
      "metadata": {
        "id": "MAN-fmatk1GU"
      }
    },
    {
      "cell_type": "code",
      "source": [
        "# Write your code here\n",
        "countries_by_cases=covid_data.groupby('Country/Region').aggregate({'Recovered':'sum'}).sort_values(by='Recovered')\n",
        "countries_by_cases[countries_by_cases['Recovered']==0]"
      ],
      "metadata": {
        "id": "WgOHaHnDIUrq",
        "colab": {
          "base_uri": "https://localhost:8080/",
          "height": 1000
        },
        "outputId": "010663d0-9d94-42d9-e404-a5ba5b9bce4b"
      },
      "execution_count": 136,
      "outputs": [
        {
          "output_type": "execute_result",
          "data": {
            "text/plain": [
              "                                  Recovered\n",
              "Country/Region                             \n",
              "occupied Palestinian territory            0\n",
              "Iceland                                   0\n",
              "Puerto Rico                               0\n",
              "Honduras                                  0\n",
              "Holy See                                  0\n",
              "Guyana                                    0\n",
              "Guinea                                    0\n",
              "Guernsey                                  0\n",
              "Guatemala                                 0\n",
              "Guam                                      0\n",
              "Guadeloupe                                0\n",
              "Greenland                                 0\n",
              "Republic of the Congo                     0\n",
              "Ghana                                     0\n",
              "Reunion                                   0\n",
              "Rwanda                                    0\n",
              "Gabon                                     0\n",
              "French Guiana                             0\n",
              "Saint Lucia                               0\n",
              "Mayotte                                   0\n",
              "Paraguay                                  0\n",
              "Panama                                    0\n",
              "Palau                                     0\n",
              "Nigeria                                   0\n",
              "Mauritania                                0\n",
              "Martinique                                0\n",
              "Monaco                                    0\n",
              "Maldives                                  0\n",
              "Malaysia                                  0\n",
              "Luxembourg                                0\n",
              "Mongolia                                  0\n",
              "Liechtenstein                             0\n",
              "Liberia                                   0\n",
              "Ethiopia                                  0\n",
              "Montenegro                                0\n",
              "Kosovo                                    0\n",
              "Winter Olympics 2022                      0\n",
              "Korea, North                              0\n",
              "Kiribati                                  0\n",
              "Kenya                                     0\n",
              "Kazakhstan                                0\n",
              "Nauru                                     0\n",
              "Jersey                                    0\n",
              "New Zealand                               0\n",
              "Namibia                                   0\n",
              "Eswatini                                  0\n",
              "Saint Vincent and the Grenadines          0\n",
              "Equatorial Guinea                         0\n",
              "Bulgaria                                  0\n",
              "Brunei                                    0\n",
              "Antarctica                                0\n",
              "Antigua and Barbuda                       0\n",
              "Tanzania                                  0\n",
              "The Bahamas                               0\n",
              "Uruguay                                   0\n",
              "Bolivia                                   0\n",
              "Burkina Faso                              0\n",
              "Bhutan                                    0\n",
              "The Gambia                                0\n",
              "Togo                                      0\n",
              "Barbados                                  0\n",
              "Tonga                                     0\n",
              "Trinidad and Tobago                       0\n",
              "Tunisia                                   0\n",
              "Ukraine                                   0\n",
              "Turkey                                    0\n",
              "Benin                                     0\n",
              "Tuvalu                                    0\n",
              "Uzbekistan                                0\n",
              "Cameroon                                  0\n",
              "Seychelles                                0\n",
              "Ecuador                                   0\n",
              "Dominican Republic                        0\n",
              "Slovakia                                  0\n",
              "Slovenia                                  0\n",
              "Cyprus                                    0\n",
              "Cuba                                      0\n",
              "Somalia                                   0\n",
              "Venezuela                                 0\n",
              "South Africa                              0\n",
              "Costa Rica                                0\n",
              "Congo (Kinshasa)                          0\n",
              "Congo (Brazzaville)                       0\n",
              "Sudan                                     0\n",
              "Summer Olympics 2020                      0\n",
              "Chile                                     0\n",
              "Central African Republic                  0\n",
              "Suriname                                  0\n",
              "Albania                                   0\n",
              "Aruba                                     0"
            ],
            "text/html": [
              "\n",
              "  <div id=\"df-255f5a20-c72b-48a8-ac9d-20f8d09f8414\">\n",
              "    <div class=\"colab-df-container\">\n",
              "      <div>\n",
              "<style scoped>\n",
              "    .dataframe tbody tr th:only-of-type {\n",
              "        vertical-align: middle;\n",
              "    }\n",
              "\n",
              "    .dataframe tbody tr th {\n",
              "        vertical-align: top;\n",
              "    }\n",
              "\n",
              "    .dataframe thead th {\n",
              "        text-align: right;\n",
              "    }\n",
              "</style>\n",
              "<table border=\"1\" class=\"dataframe\">\n",
              "  <thead>\n",
              "    <tr style=\"text-align: right;\">\n",
              "      <th></th>\n",
              "      <th>Recovered</th>\n",
              "    </tr>\n",
              "    <tr>\n",
              "      <th>Country/Region</th>\n",
              "      <th></th>\n",
              "    </tr>\n",
              "  </thead>\n",
              "  <tbody>\n",
              "    <tr>\n",
              "      <th>occupied Palestinian territory</th>\n",
              "      <td>0</td>\n",
              "    </tr>\n",
              "    <tr>\n",
              "      <th>Iceland</th>\n",
              "      <td>0</td>\n",
              "    </tr>\n",
              "    <tr>\n",
              "      <th>Puerto Rico</th>\n",
              "      <td>0</td>\n",
              "    </tr>\n",
              "    <tr>\n",
              "      <th>Honduras</th>\n",
              "      <td>0</td>\n",
              "    </tr>\n",
              "    <tr>\n",
              "      <th>Holy See</th>\n",
              "      <td>0</td>\n",
              "    </tr>\n",
              "    <tr>\n",
              "      <th>Guyana</th>\n",
              "      <td>0</td>\n",
              "    </tr>\n",
              "    <tr>\n",
              "      <th>Guinea</th>\n",
              "      <td>0</td>\n",
              "    </tr>\n",
              "    <tr>\n",
              "      <th>Guernsey</th>\n",
              "      <td>0</td>\n",
              "    </tr>\n",
              "    <tr>\n",
              "      <th>Guatemala</th>\n",
              "      <td>0</td>\n",
              "    </tr>\n",
              "    <tr>\n",
              "      <th>Guam</th>\n",
              "      <td>0</td>\n",
              "    </tr>\n",
              "    <tr>\n",
              "      <th>Guadeloupe</th>\n",
              "      <td>0</td>\n",
              "    </tr>\n",
              "    <tr>\n",
              "      <th>Greenland</th>\n",
              "      <td>0</td>\n",
              "    </tr>\n",
              "    <tr>\n",
              "      <th>Republic of the Congo</th>\n",
              "      <td>0</td>\n",
              "    </tr>\n",
              "    <tr>\n",
              "      <th>Ghana</th>\n",
              "      <td>0</td>\n",
              "    </tr>\n",
              "    <tr>\n",
              "      <th>Reunion</th>\n",
              "      <td>0</td>\n",
              "    </tr>\n",
              "    <tr>\n",
              "      <th>Rwanda</th>\n",
              "      <td>0</td>\n",
              "    </tr>\n",
              "    <tr>\n",
              "      <th>Gabon</th>\n",
              "      <td>0</td>\n",
              "    </tr>\n",
              "    <tr>\n",
              "      <th>French Guiana</th>\n",
              "      <td>0</td>\n",
              "    </tr>\n",
              "    <tr>\n",
              "      <th>Saint Lucia</th>\n",
              "      <td>0</td>\n",
              "    </tr>\n",
              "    <tr>\n",
              "      <th>Mayotte</th>\n",
              "      <td>0</td>\n",
              "    </tr>\n",
              "    <tr>\n",
              "      <th>Paraguay</th>\n",
              "      <td>0</td>\n",
              "    </tr>\n",
              "    <tr>\n",
              "      <th>Panama</th>\n",
              "      <td>0</td>\n",
              "    </tr>\n",
              "    <tr>\n",
              "      <th>Palau</th>\n",
              "      <td>0</td>\n",
              "    </tr>\n",
              "    <tr>\n",
              "      <th>Nigeria</th>\n",
              "      <td>0</td>\n",
              "    </tr>\n",
              "    <tr>\n",
              "      <th>Mauritania</th>\n",
              "      <td>0</td>\n",
              "    </tr>\n",
              "    <tr>\n",
              "      <th>Martinique</th>\n",
              "      <td>0</td>\n",
              "    </tr>\n",
              "    <tr>\n",
              "      <th>Monaco</th>\n",
              "      <td>0</td>\n",
              "    </tr>\n",
              "    <tr>\n",
              "      <th>Maldives</th>\n",
              "      <td>0</td>\n",
              "    </tr>\n",
              "    <tr>\n",
              "      <th>Malaysia</th>\n",
              "      <td>0</td>\n",
              "    </tr>\n",
              "    <tr>\n",
              "      <th>Luxembourg</th>\n",
              "      <td>0</td>\n",
              "    </tr>\n",
              "    <tr>\n",
              "      <th>Mongolia</th>\n",
              "      <td>0</td>\n",
              "    </tr>\n",
              "    <tr>\n",
              "      <th>Liechtenstein</th>\n",
              "      <td>0</td>\n",
              "    </tr>\n",
              "    <tr>\n",
              "      <th>Liberia</th>\n",
              "      <td>0</td>\n",
              "    </tr>\n",
              "    <tr>\n",
              "      <th>Ethiopia</th>\n",
              "      <td>0</td>\n",
              "    </tr>\n",
              "    <tr>\n",
              "      <th>Montenegro</th>\n",
              "      <td>0</td>\n",
              "    </tr>\n",
              "    <tr>\n",
              "      <th>Kosovo</th>\n",
              "      <td>0</td>\n",
              "    </tr>\n",
              "    <tr>\n",
              "      <th>Winter Olympics 2022</th>\n",
              "      <td>0</td>\n",
              "    </tr>\n",
              "    <tr>\n",
              "      <th>Korea, North</th>\n",
              "      <td>0</td>\n",
              "    </tr>\n",
              "    <tr>\n",
              "      <th>Kiribati</th>\n",
              "      <td>0</td>\n",
              "    </tr>\n",
              "    <tr>\n",
              "      <th>Kenya</th>\n",
              "      <td>0</td>\n",
              "    </tr>\n",
              "    <tr>\n",
              "      <th>Kazakhstan</th>\n",
              "      <td>0</td>\n",
              "    </tr>\n",
              "    <tr>\n",
              "      <th>Nauru</th>\n",
              "      <td>0</td>\n",
              "    </tr>\n",
              "    <tr>\n",
              "      <th>Jersey</th>\n",
              "      <td>0</td>\n",
              "    </tr>\n",
              "    <tr>\n",
              "      <th>New Zealand</th>\n",
              "      <td>0</td>\n",
              "    </tr>\n",
              "    <tr>\n",
              "      <th>Namibia</th>\n",
              "      <td>0</td>\n",
              "    </tr>\n",
              "    <tr>\n",
              "      <th>Eswatini</th>\n",
              "      <td>0</td>\n",
              "    </tr>\n",
              "    <tr>\n",
              "      <th>Saint Vincent and the Grenadines</th>\n",
              "      <td>0</td>\n",
              "    </tr>\n",
              "    <tr>\n",
              "      <th>Equatorial Guinea</th>\n",
              "      <td>0</td>\n",
              "    </tr>\n",
              "    <tr>\n",
              "      <th>Bulgaria</th>\n",
              "      <td>0</td>\n",
              "    </tr>\n",
              "    <tr>\n",
              "      <th>Brunei</th>\n",
              "      <td>0</td>\n",
              "    </tr>\n",
              "    <tr>\n",
              "      <th>Antarctica</th>\n",
              "      <td>0</td>\n",
              "    </tr>\n",
              "    <tr>\n",
              "      <th>Antigua and Barbuda</th>\n",
              "      <td>0</td>\n",
              "    </tr>\n",
              "    <tr>\n",
              "      <th>Tanzania</th>\n",
              "      <td>0</td>\n",
              "    </tr>\n",
              "    <tr>\n",
              "      <th>The Bahamas</th>\n",
              "      <td>0</td>\n",
              "    </tr>\n",
              "    <tr>\n",
              "      <th>Uruguay</th>\n",
              "      <td>0</td>\n",
              "    </tr>\n",
              "    <tr>\n",
              "      <th>Bolivia</th>\n",
              "      <td>0</td>\n",
              "    </tr>\n",
              "    <tr>\n",
              "      <th>Burkina Faso</th>\n",
              "      <td>0</td>\n",
              "    </tr>\n",
              "    <tr>\n",
              "      <th>Bhutan</th>\n",
              "      <td>0</td>\n",
              "    </tr>\n",
              "    <tr>\n",
              "      <th>The Gambia</th>\n",
              "      <td>0</td>\n",
              "    </tr>\n",
              "    <tr>\n",
              "      <th>Togo</th>\n",
              "      <td>0</td>\n",
              "    </tr>\n",
              "    <tr>\n",
              "      <th>Barbados</th>\n",
              "      <td>0</td>\n",
              "    </tr>\n",
              "    <tr>\n",
              "      <th>Tonga</th>\n",
              "      <td>0</td>\n",
              "    </tr>\n",
              "    <tr>\n",
              "      <th>Trinidad and Tobago</th>\n",
              "      <td>0</td>\n",
              "    </tr>\n",
              "    <tr>\n",
              "      <th>Tunisia</th>\n",
              "      <td>0</td>\n",
              "    </tr>\n",
              "    <tr>\n",
              "      <th>Ukraine</th>\n",
              "      <td>0</td>\n",
              "    </tr>\n",
              "    <tr>\n",
              "      <th>Turkey</th>\n",
              "      <td>0</td>\n",
              "    </tr>\n",
              "    <tr>\n",
              "      <th>Benin</th>\n",
              "      <td>0</td>\n",
              "    </tr>\n",
              "    <tr>\n",
              "      <th>Tuvalu</th>\n",
              "      <td>0</td>\n",
              "    </tr>\n",
              "    <tr>\n",
              "      <th>Uzbekistan</th>\n",
              "      <td>0</td>\n",
              "    </tr>\n",
              "    <tr>\n",
              "      <th>Cameroon</th>\n",
              "      <td>0</td>\n",
              "    </tr>\n",
              "    <tr>\n",
              "      <th>Seychelles</th>\n",
              "      <td>0</td>\n",
              "    </tr>\n",
              "    <tr>\n",
              "      <th>Ecuador</th>\n",
              "      <td>0</td>\n",
              "    </tr>\n",
              "    <tr>\n",
              "      <th>Dominican Republic</th>\n",
              "      <td>0</td>\n",
              "    </tr>\n",
              "    <tr>\n",
              "      <th>Slovakia</th>\n",
              "      <td>0</td>\n",
              "    </tr>\n",
              "    <tr>\n",
              "      <th>Slovenia</th>\n",
              "      <td>0</td>\n",
              "    </tr>\n",
              "    <tr>\n",
              "      <th>Cyprus</th>\n",
              "      <td>0</td>\n",
              "    </tr>\n",
              "    <tr>\n",
              "      <th>Cuba</th>\n",
              "      <td>0</td>\n",
              "    </tr>\n",
              "    <tr>\n",
              "      <th>Somalia</th>\n",
              "      <td>0</td>\n",
              "    </tr>\n",
              "    <tr>\n",
              "      <th>Venezuela</th>\n",
              "      <td>0</td>\n",
              "    </tr>\n",
              "    <tr>\n",
              "      <th>South Africa</th>\n",
              "      <td>0</td>\n",
              "    </tr>\n",
              "    <tr>\n",
              "      <th>Costa Rica</th>\n",
              "      <td>0</td>\n",
              "    </tr>\n",
              "    <tr>\n",
              "      <th>Congo (Kinshasa)</th>\n",
              "      <td>0</td>\n",
              "    </tr>\n",
              "    <tr>\n",
              "      <th>Congo (Brazzaville)</th>\n",
              "      <td>0</td>\n",
              "    </tr>\n",
              "    <tr>\n",
              "      <th>Sudan</th>\n",
              "      <td>0</td>\n",
              "    </tr>\n",
              "    <tr>\n",
              "      <th>Summer Olympics 2020</th>\n",
              "      <td>0</td>\n",
              "    </tr>\n",
              "    <tr>\n",
              "      <th>Chile</th>\n",
              "      <td>0</td>\n",
              "    </tr>\n",
              "    <tr>\n",
              "      <th>Central African Republic</th>\n",
              "      <td>0</td>\n",
              "    </tr>\n",
              "    <tr>\n",
              "      <th>Suriname</th>\n",
              "      <td>0</td>\n",
              "    </tr>\n",
              "    <tr>\n",
              "      <th>Albania</th>\n",
              "      <td>0</td>\n",
              "    </tr>\n",
              "    <tr>\n",
              "      <th>Aruba</th>\n",
              "      <td>0</td>\n",
              "    </tr>\n",
              "  </tbody>\n",
              "</table>\n",
              "</div>\n",
              "      <button class=\"colab-df-convert\" onclick=\"convertToInteractive('df-255f5a20-c72b-48a8-ac9d-20f8d09f8414')\"\n",
              "              title=\"Convert this dataframe to an interactive table.\"\n",
              "              style=\"display:none;\">\n",
              "        \n",
              "  <svg xmlns=\"http://www.w3.org/2000/svg\" height=\"24px\"viewBox=\"0 0 24 24\"\n",
              "       width=\"24px\">\n",
              "    <path d=\"M0 0h24v24H0V0z\" fill=\"none\"/>\n",
              "    <path d=\"M18.56 5.44l.94 2.06.94-2.06 2.06-.94-2.06-.94-.94-2.06-.94 2.06-2.06.94zm-11 1L8.5 8.5l.94-2.06 2.06-.94-2.06-.94L8.5 2.5l-.94 2.06-2.06.94zm10 10l.94 2.06.94-2.06 2.06-.94-2.06-.94-.94-2.06-.94 2.06-2.06.94z\"/><path d=\"M17.41 7.96l-1.37-1.37c-.4-.4-.92-.59-1.43-.59-.52 0-1.04.2-1.43.59L10.3 9.45l-7.72 7.72c-.78.78-.78 2.05 0 2.83L4 21.41c.39.39.9.59 1.41.59.51 0 1.02-.2 1.41-.59l7.78-7.78 2.81-2.81c.8-.78.8-2.07 0-2.86zM5.41 20L4 18.59l7.72-7.72 1.47 1.35L5.41 20z\"/>\n",
              "  </svg>\n",
              "      </button>\n",
              "      \n",
              "  <style>\n",
              "    .colab-df-container {\n",
              "      display:flex;\n",
              "      flex-wrap:wrap;\n",
              "      gap: 12px;\n",
              "    }\n",
              "\n",
              "    .colab-df-convert {\n",
              "      background-color: #E8F0FE;\n",
              "      border: none;\n",
              "      border-radius: 50%;\n",
              "      cursor: pointer;\n",
              "      display: none;\n",
              "      fill: #1967D2;\n",
              "      height: 32px;\n",
              "      padding: 0 0 0 0;\n",
              "      width: 32px;\n",
              "    }\n",
              "\n",
              "    .colab-df-convert:hover {\n",
              "      background-color: #E2EBFA;\n",
              "      box-shadow: 0px 1px 2px rgba(60, 64, 67, 0.3), 0px 1px 3px 1px rgba(60, 64, 67, 0.15);\n",
              "      fill: #174EA6;\n",
              "    }\n",
              "\n",
              "    [theme=dark] .colab-df-convert {\n",
              "      background-color: #3B4455;\n",
              "      fill: #D2E3FC;\n",
              "    }\n",
              "\n",
              "    [theme=dark] .colab-df-convert:hover {\n",
              "      background-color: #434B5C;\n",
              "      box-shadow: 0px 1px 3px 1px rgba(0, 0, 0, 0.15);\n",
              "      filter: drop-shadow(0px 1px 2px rgba(0, 0, 0, 0.3));\n",
              "      fill: #FFFFFF;\n",
              "    }\n",
              "  </style>\n",
              "\n",
              "      <script>\n",
              "        const buttonEl =\n",
              "          document.querySelector('#df-255f5a20-c72b-48a8-ac9d-20f8d09f8414 button.colab-df-convert');\n",
              "        buttonEl.style.display =\n",
              "          google.colab.kernel.accessAllowed ? 'block' : 'none';\n",
              "\n",
              "        async function convertToInteractive(key) {\n",
              "          const element = document.querySelector('#df-255f5a20-c72b-48a8-ac9d-20f8d09f8414');\n",
              "          const dataTable =\n",
              "            await google.colab.kernel.invokeFunction('convertToInteractive',\n",
              "                                                     [key], {});\n",
              "          if (!dataTable) return;\n",
              "\n",
              "          const docLinkHtml = 'Like what you see? Visit the ' +\n",
              "            '<a target=\"_blank\" href=https://colab.research.google.com/notebooks/data_table.ipynb>data table notebook</a>'\n",
              "            + ' to learn more about interactive tables.';\n",
              "          element.innerHTML = '';\n",
              "          dataTable['output_type'] = 'display_data';\n",
              "          await google.colab.output.renderOutput(dataTable, element);\n",
              "          const docLink = document.createElement('div');\n",
              "          docLink.innerHTML = docLinkHtml;\n",
              "          element.appendChild(docLink);\n",
              "        }\n",
              "      </script>\n",
              "    </div>\n",
              "  </div>\n",
              "  "
            ]
          },
          "metadata": {},
          "execution_count": 136
        }
      ]
    },
    {
      "cell_type": "markdown",
      "source": [
        "**Q32) Write a Python program to list countries with all cases of Novel Coronavirus (COVID-19) died.**"
      ],
      "metadata": {
        "id": "AI8N-YxKIfRr"
      }
    },
    {
      "cell_type": "code",
      "source": [
        "# Write your code here\n",
        "covid_confirm_death=covid_data.groupby('Country/Region').aggregate({'Confirmed':'sum','Deaths':'sum'})\n",
        "covid_confirm_death=covid_confirm_death[covid_confirm_death['Confirmed']>0]\n",
        "covid_confirm_death[covid_confirm_death['Confirmed']==covid_confirm_death['Deaths']]"
      ],
      "metadata": {
        "id": "oBvthTC_IkO3",
        "colab": {
          "base_uri": "https://localhost:8080/",
          "height": 112
        },
        "outputId": "0cc12079-83f4-42ef-ad13-999d0fbfa4a1"
      },
      "execution_count": 145,
      "outputs": [
        {
          "output_type": "execute_result",
          "data": {
            "text/plain": [
              "                Confirmed  Deaths\n",
              "Country/Region                   \n",
              "Sudan                   1       1"
            ],
            "text/html": [
              "\n",
              "  <div id=\"df-360c9644-0c62-4951-89bf-dd2c89c298da\">\n",
              "    <div class=\"colab-df-container\">\n",
              "      <div>\n",
              "<style scoped>\n",
              "    .dataframe tbody tr th:only-of-type {\n",
              "        vertical-align: middle;\n",
              "    }\n",
              "\n",
              "    .dataframe tbody tr th {\n",
              "        vertical-align: top;\n",
              "    }\n",
              "\n",
              "    .dataframe thead th {\n",
              "        text-align: right;\n",
              "    }\n",
              "</style>\n",
              "<table border=\"1\" class=\"dataframe\">\n",
              "  <thead>\n",
              "    <tr style=\"text-align: right;\">\n",
              "      <th></th>\n",
              "      <th>Confirmed</th>\n",
              "      <th>Deaths</th>\n",
              "    </tr>\n",
              "    <tr>\n",
              "      <th>Country/Region</th>\n",
              "      <th></th>\n",
              "      <th></th>\n",
              "    </tr>\n",
              "  </thead>\n",
              "  <tbody>\n",
              "    <tr>\n",
              "      <th>Sudan</th>\n",
              "      <td>1</td>\n",
              "      <td>1</td>\n",
              "    </tr>\n",
              "  </tbody>\n",
              "</table>\n",
              "</div>\n",
              "      <button class=\"colab-df-convert\" onclick=\"convertToInteractive('df-360c9644-0c62-4951-89bf-dd2c89c298da')\"\n",
              "              title=\"Convert this dataframe to an interactive table.\"\n",
              "              style=\"display:none;\">\n",
              "        \n",
              "  <svg xmlns=\"http://www.w3.org/2000/svg\" height=\"24px\"viewBox=\"0 0 24 24\"\n",
              "       width=\"24px\">\n",
              "    <path d=\"M0 0h24v24H0V0z\" fill=\"none\"/>\n",
              "    <path d=\"M18.56 5.44l.94 2.06.94-2.06 2.06-.94-2.06-.94-.94-2.06-.94 2.06-2.06.94zm-11 1L8.5 8.5l.94-2.06 2.06-.94-2.06-.94L8.5 2.5l-.94 2.06-2.06.94zm10 10l.94 2.06.94-2.06 2.06-.94-2.06-.94-.94-2.06-.94 2.06-2.06.94z\"/><path d=\"M17.41 7.96l-1.37-1.37c-.4-.4-.92-.59-1.43-.59-.52 0-1.04.2-1.43.59L10.3 9.45l-7.72 7.72c-.78.78-.78 2.05 0 2.83L4 21.41c.39.39.9.59 1.41.59.51 0 1.02-.2 1.41-.59l7.78-7.78 2.81-2.81c.8-.78.8-2.07 0-2.86zM5.41 20L4 18.59l7.72-7.72 1.47 1.35L5.41 20z\"/>\n",
              "  </svg>\n",
              "      </button>\n",
              "      \n",
              "  <style>\n",
              "    .colab-df-container {\n",
              "      display:flex;\n",
              "      flex-wrap:wrap;\n",
              "      gap: 12px;\n",
              "    }\n",
              "\n",
              "    .colab-df-convert {\n",
              "      background-color: #E8F0FE;\n",
              "      border: none;\n",
              "      border-radius: 50%;\n",
              "      cursor: pointer;\n",
              "      display: none;\n",
              "      fill: #1967D2;\n",
              "      height: 32px;\n",
              "      padding: 0 0 0 0;\n",
              "      width: 32px;\n",
              "    }\n",
              "\n",
              "    .colab-df-convert:hover {\n",
              "      background-color: #E2EBFA;\n",
              "      box-shadow: 0px 1px 2px rgba(60, 64, 67, 0.3), 0px 1px 3px 1px rgba(60, 64, 67, 0.15);\n",
              "      fill: #174EA6;\n",
              "    }\n",
              "\n",
              "    [theme=dark] .colab-df-convert {\n",
              "      background-color: #3B4455;\n",
              "      fill: #D2E3FC;\n",
              "    }\n",
              "\n",
              "    [theme=dark] .colab-df-convert:hover {\n",
              "      background-color: #434B5C;\n",
              "      box-shadow: 0px 1px 3px 1px rgba(0, 0, 0, 0.15);\n",
              "      filter: drop-shadow(0px 1px 2px rgba(0, 0, 0, 0.3));\n",
              "      fill: #FFFFFF;\n",
              "    }\n",
              "  </style>\n",
              "\n",
              "      <script>\n",
              "        const buttonEl =\n",
              "          document.querySelector('#df-360c9644-0c62-4951-89bf-dd2c89c298da button.colab-df-convert');\n",
              "        buttonEl.style.display =\n",
              "          google.colab.kernel.accessAllowed ? 'block' : 'none';\n",
              "\n",
              "        async function convertToInteractive(key) {\n",
              "          const element = document.querySelector('#df-360c9644-0c62-4951-89bf-dd2c89c298da');\n",
              "          const dataTable =\n",
              "            await google.colab.kernel.invokeFunction('convertToInteractive',\n",
              "                                                     [key], {});\n",
              "          if (!dataTable) return;\n",
              "\n",
              "          const docLinkHtml = 'Like what you see? Visit the ' +\n",
              "            '<a target=\"_blank\" href=https://colab.research.google.com/notebooks/data_table.ipynb>data table notebook</a>'\n",
              "            + ' to learn more about interactive tables.';\n",
              "          element.innerHTML = '';\n",
              "          dataTable['output_type'] = 'display_data';\n",
              "          await google.colab.output.renderOutput(dataTable, element);\n",
              "          const docLink = document.createElement('div');\n",
              "          docLink.innerHTML = docLinkHtml;\n",
              "          element.appendChild(docLink);\n",
              "        }\n",
              "      </script>\n",
              "    </div>\n",
              "  </div>\n",
              "  "
            ]
          },
          "metadata": {},
          "execution_count": 145
        }
      ]
    },
    {
      "cell_type": "markdown",
      "source": [
        "**Q33) Write a Python program to list countries with all cases of Novel Coronavirus (COVID-19) recovered.**"
      ],
      "metadata": {
        "id": "7e3Fep9NIthi"
      }
    },
    {
      "cell_type": "code",
      "source": [
        "# Write your code here\n",
        "covid_confirm_death=covid_data.groupby('Country/Region').aggregate({'Confirmed':'sum','Recovered':'sum'})\n",
        "covid_confirm_death=covid_confirm_death[covid_confirm_death['Confirmed']>0]\n",
        "covid_confirm_death[covid_confirm_death['Confirmed']==covid_confirm_death['Recovered']]"
      ],
      "metadata": {
        "id": "R_7qLrijIwfy",
        "colab": {
          "base_uri": "https://localhost:8080/",
          "height": 112
        },
        "outputId": "3faeeff2-f6cd-4b0d-fdb9-189d454ba072"
      },
      "execution_count": 146,
      "outputs": [
        {
          "output_type": "execute_result",
          "data": {
            "text/plain": [
              "                Confirmed  Recovered\n",
              "Country/Region                      \n",
              "Nepal                   1          1"
            ],
            "text/html": [
              "\n",
              "  <div id=\"df-3dcfb077-bf5b-47af-b4d2-ec1e58152699\">\n",
              "    <div class=\"colab-df-container\">\n",
              "      <div>\n",
              "<style scoped>\n",
              "    .dataframe tbody tr th:only-of-type {\n",
              "        vertical-align: middle;\n",
              "    }\n",
              "\n",
              "    .dataframe tbody tr th {\n",
              "        vertical-align: top;\n",
              "    }\n",
              "\n",
              "    .dataframe thead th {\n",
              "        text-align: right;\n",
              "    }\n",
              "</style>\n",
              "<table border=\"1\" class=\"dataframe\">\n",
              "  <thead>\n",
              "    <tr style=\"text-align: right;\">\n",
              "      <th></th>\n",
              "      <th>Confirmed</th>\n",
              "      <th>Recovered</th>\n",
              "    </tr>\n",
              "    <tr>\n",
              "      <th>Country/Region</th>\n",
              "      <th></th>\n",
              "      <th></th>\n",
              "    </tr>\n",
              "  </thead>\n",
              "  <tbody>\n",
              "    <tr>\n",
              "      <th>Nepal</th>\n",
              "      <td>1</td>\n",
              "      <td>1</td>\n",
              "    </tr>\n",
              "  </tbody>\n",
              "</table>\n",
              "</div>\n",
              "      <button class=\"colab-df-convert\" onclick=\"convertToInteractive('df-3dcfb077-bf5b-47af-b4d2-ec1e58152699')\"\n",
              "              title=\"Convert this dataframe to an interactive table.\"\n",
              "              style=\"display:none;\">\n",
              "        \n",
              "  <svg xmlns=\"http://www.w3.org/2000/svg\" height=\"24px\"viewBox=\"0 0 24 24\"\n",
              "       width=\"24px\">\n",
              "    <path d=\"M0 0h24v24H0V0z\" fill=\"none\"/>\n",
              "    <path d=\"M18.56 5.44l.94 2.06.94-2.06 2.06-.94-2.06-.94-.94-2.06-.94 2.06-2.06.94zm-11 1L8.5 8.5l.94-2.06 2.06-.94-2.06-.94L8.5 2.5l-.94 2.06-2.06.94zm10 10l.94 2.06.94-2.06 2.06-.94-2.06-.94-.94-2.06-.94 2.06-2.06.94z\"/><path d=\"M17.41 7.96l-1.37-1.37c-.4-.4-.92-.59-1.43-.59-.52 0-1.04.2-1.43.59L10.3 9.45l-7.72 7.72c-.78.78-.78 2.05 0 2.83L4 21.41c.39.39.9.59 1.41.59.51 0 1.02-.2 1.41-.59l7.78-7.78 2.81-2.81c.8-.78.8-2.07 0-2.86zM5.41 20L4 18.59l7.72-7.72 1.47 1.35L5.41 20z\"/>\n",
              "  </svg>\n",
              "      </button>\n",
              "      \n",
              "  <style>\n",
              "    .colab-df-container {\n",
              "      display:flex;\n",
              "      flex-wrap:wrap;\n",
              "      gap: 12px;\n",
              "    }\n",
              "\n",
              "    .colab-df-convert {\n",
              "      background-color: #E8F0FE;\n",
              "      border: none;\n",
              "      border-radius: 50%;\n",
              "      cursor: pointer;\n",
              "      display: none;\n",
              "      fill: #1967D2;\n",
              "      height: 32px;\n",
              "      padding: 0 0 0 0;\n",
              "      width: 32px;\n",
              "    }\n",
              "\n",
              "    .colab-df-convert:hover {\n",
              "      background-color: #E2EBFA;\n",
              "      box-shadow: 0px 1px 2px rgba(60, 64, 67, 0.3), 0px 1px 3px 1px rgba(60, 64, 67, 0.15);\n",
              "      fill: #174EA6;\n",
              "    }\n",
              "\n",
              "    [theme=dark] .colab-df-convert {\n",
              "      background-color: #3B4455;\n",
              "      fill: #D2E3FC;\n",
              "    }\n",
              "\n",
              "    [theme=dark] .colab-df-convert:hover {\n",
              "      background-color: #434B5C;\n",
              "      box-shadow: 0px 1px 3px 1px rgba(0, 0, 0, 0.15);\n",
              "      filter: drop-shadow(0px 1px 2px rgba(0, 0, 0, 0.3));\n",
              "      fill: #FFFFFF;\n",
              "    }\n",
              "  </style>\n",
              "\n",
              "      <script>\n",
              "        const buttonEl =\n",
              "          document.querySelector('#df-3dcfb077-bf5b-47af-b4d2-ec1e58152699 button.colab-df-convert');\n",
              "        buttonEl.style.display =\n",
              "          google.colab.kernel.accessAllowed ? 'block' : 'none';\n",
              "\n",
              "        async function convertToInteractive(key) {\n",
              "          const element = document.querySelector('#df-3dcfb077-bf5b-47af-b4d2-ec1e58152699');\n",
              "          const dataTable =\n",
              "            await google.colab.kernel.invokeFunction('convertToInteractive',\n",
              "                                                     [key], {});\n",
              "          if (!dataTable) return;\n",
              "\n",
              "          const docLinkHtml = 'Like what you see? Visit the ' +\n",
              "            '<a target=\"_blank\" href=https://colab.research.google.com/notebooks/data_table.ipynb>data table notebook</a>'\n",
              "            + ' to learn more about interactive tables.';\n",
              "          element.innerHTML = '';\n",
              "          dataTable['output_type'] = 'display_data';\n",
              "          await google.colab.output.renderOutput(dataTable, element);\n",
              "          const docLink = document.createElement('div');\n",
              "          docLink.innerHTML = docLinkHtml;\n",
              "          element.appendChild(docLink);\n",
              "        }\n",
              "      </script>\n",
              "    </div>\n",
              "  </div>\n",
              "  "
            ]
          },
          "metadata": {},
          "execution_count": 146
        }
      ]
    },
    {
      "cell_type": "markdown",
      "source": [
        "**Q34) Write a Python program to get the top 10 countries data (Last Update, Country/Region, Confirmed, Deaths, Recovered) of Novel Coronavirus (COVID-19).**"
      ],
      "metadata": {
        "id": "lhOM4IGXI6cz"
      }
    },
    {
      "cell_type": "code",
      "source": [
        "# Write your code here\n",
        "covid_confirm_death=covid_data.groupby('Country/Region').aggregate({'Confirmed':'sum','Deaths':'sum','Last Update':'max','Recovered':'sum'})\n",
        "covid_confirm_death.sort_values('Confirmed',ascending=False)[:10]"
      ],
      "metadata": {
        "id": "hpJiUGJxI9JQ",
        "colab": {
          "base_uri": "https://localhost:8080/",
          "height": 394
        },
        "outputId": "44919d0c-43cb-4d10-f063-00f7a0122802"
      },
      "execution_count": 155,
      "outputs": [
        {
          "output_type": "execute_result",
          "data": {
            "text/plain": [
              "                Confirmed  Deaths         Last Update  Recovered\n",
              "Country/Region                                                  \n",
              "China               81058    3230 2020-03-17 12:13:13      68798\n",
              "Italy               31506    2503 2020-03-17 18:33:02       2941\n",
              "Iran                16169     988 2020-03-17 15:13:09       5389\n",
              "Spain               11748     533 2020-03-17 20:53:02       1028\n",
              "Germany              9257      24 2020-03-17 18:53:02         67\n",
              "Korea, South         8320      81 2020-03-17 10:33:03       1407\n",
              "France               7683     148 2020-03-17 19:13:08         12\n",
              "US                   6421     108 2020-03-17 23:53:03         17\n",
              "Switzerland          2700      40 2020-03-17 16:33:04          4\n",
              "United Kingdom       1954     217 2020-03-17 15:13:09         53"
            ],
            "text/html": [
              "\n",
              "  <div id=\"df-7f723d75-5d24-4c4f-83bc-b68182bad6b4\">\n",
              "    <div class=\"colab-df-container\">\n",
              "      <div>\n",
              "<style scoped>\n",
              "    .dataframe tbody tr th:only-of-type {\n",
              "        vertical-align: middle;\n",
              "    }\n",
              "\n",
              "    .dataframe tbody tr th {\n",
              "        vertical-align: top;\n",
              "    }\n",
              "\n",
              "    .dataframe thead th {\n",
              "        text-align: right;\n",
              "    }\n",
              "</style>\n",
              "<table border=\"1\" class=\"dataframe\">\n",
              "  <thead>\n",
              "    <tr style=\"text-align: right;\">\n",
              "      <th></th>\n",
              "      <th>Confirmed</th>\n",
              "      <th>Deaths</th>\n",
              "      <th>Last Update</th>\n",
              "      <th>Recovered</th>\n",
              "    </tr>\n",
              "    <tr>\n",
              "      <th>Country/Region</th>\n",
              "      <th></th>\n",
              "      <th></th>\n",
              "      <th></th>\n",
              "      <th></th>\n",
              "    </tr>\n",
              "  </thead>\n",
              "  <tbody>\n",
              "    <tr>\n",
              "      <th>China</th>\n",
              "      <td>81058</td>\n",
              "      <td>3230</td>\n",
              "      <td>2020-03-17 12:13:13</td>\n",
              "      <td>68798</td>\n",
              "    </tr>\n",
              "    <tr>\n",
              "      <th>Italy</th>\n",
              "      <td>31506</td>\n",
              "      <td>2503</td>\n",
              "      <td>2020-03-17 18:33:02</td>\n",
              "      <td>2941</td>\n",
              "    </tr>\n",
              "    <tr>\n",
              "      <th>Iran</th>\n",
              "      <td>16169</td>\n",
              "      <td>988</td>\n",
              "      <td>2020-03-17 15:13:09</td>\n",
              "      <td>5389</td>\n",
              "    </tr>\n",
              "    <tr>\n",
              "      <th>Spain</th>\n",
              "      <td>11748</td>\n",
              "      <td>533</td>\n",
              "      <td>2020-03-17 20:53:02</td>\n",
              "      <td>1028</td>\n",
              "    </tr>\n",
              "    <tr>\n",
              "      <th>Germany</th>\n",
              "      <td>9257</td>\n",
              "      <td>24</td>\n",
              "      <td>2020-03-17 18:53:02</td>\n",
              "      <td>67</td>\n",
              "    </tr>\n",
              "    <tr>\n",
              "      <th>Korea, South</th>\n",
              "      <td>8320</td>\n",
              "      <td>81</td>\n",
              "      <td>2020-03-17 10:33:03</td>\n",
              "      <td>1407</td>\n",
              "    </tr>\n",
              "    <tr>\n",
              "      <th>France</th>\n",
              "      <td>7683</td>\n",
              "      <td>148</td>\n",
              "      <td>2020-03-17 19:13:08</td>\n",
              "      <td>12</td>\n",
              "    </tr>\n",
              "    <tr>\n",
              "      <th>US</th>\n",
              "      <td>6421</td>\n",
              "      <td>108</td>\n",
              "      <td>2020-03-17 23:53:03</td>\n",
              "      <td>17</td>\n",
              "    </tr>\n",
              "    <tr>\n",
              "      <th>Switzerland</th>\n",
              "      <td>2700</td>\n",
              "      <td>40</td>\n",
              "      <td>2020-03-17 16:33:04</td>\n",
              "      <td>4</td>\n",
              "    </tr>\n",
              "    <tr>\n",
              "      <th>United Kingdom</th>\n",
              "      <td>1954</td>\n",
              "      <td>217</td>\n",
              "      <td>2020-03-17 15:13:09</td>\n",
              "      <td>53</td>\n",
              "    </tr>\n",
              "  </tbody>\n",
              "</table>\n",
              "</div>\n",
              "      <button class=\"colab-df-convert\" onclick=\"convertToInteractive('df-7f723d75-5d24-4c4f-83bc-b68182bad6b4')\"\n",
              "              title=\"Convert this dataframe to an interactive table.\"\n",
              "              style=\"display:none;\">\n",
              "        \n",
              "  <svg xmlns=\"http://www.w3.org/2000/svg\" height=\"24px\"viewBox=\"0 0 24 24\"\n",
              "       width=\"24px\">\n",
              "    <path d=\"M0 0h24v24H0V0z\" fill=\"none\"/>\n",
              "    <path d=\"M18.56 5.44l.94 2.06.94-2.06 2.06-.94-2.06-.94-.94-2.06-.94 2.06-2.06.94zm-11 1L8.5 8.5l.94-2.06 2.06-.94-2.06-.94L8.5 2.5l-.94 2.06-2.06.94zm10 10l.94 2.06.94-2.06 2.06-.94-2.06-.94-.94-2.06-.94 2.06-2.06.94z\"/><path d=\"M17.41 7.96l-1.37-1.37c-.4-.4-.92-.59-1.43-.59-.52 0-1.04.2-1.43.59L10.3 9.45l-7.72 7.72c-.78.78-.78 2.05 0 2.83L4 21.41c.39.39.9.59 1.41.59.51 0 1.02-.2 1.41-.59l7.78-7.78 2.81-2.81c.8-.78.8-2.07 0-2.86zM5.41 20L4 18.59l7.72-7.72 1.47 1.35L5.41 20z\"/>\n",
              "  </svg>\n",
              "      </button>\n",
              "      \n",
              "  <style>\n",
              "    .colab-df-container {\n",
              "      display:flex;\n",
              "      flex-wrap:wrap;\n",
              "      gap: 12px;\n",
              "    }\n",
              "\n",
              "    .colab-df-convert {\n",
              "      background-color: #E8F0FE;\n",
              "      border: none;\n",
              "      border-radius: 50%;\n",
              "      cursor: pointer;\n",
              "      display: none;\n",
              "      fill: #1967D2;\n",
              "      height: 32px;\n",
              "      padding: 0 0 0 0;\n",
              "      width: 32px;\n",
              "    }\n",
              "\n",
              "    .colab-df-convert:hover {\n",
              "      background-color: #E2EBFA;\n",
              "      box-shadow: 0px 1px 2px rgba(60, 64, 67, 0.3), 0px 1px 3px 1px rgba(60, 64, 67, 0.15);\n",
              "      fill: #174EA6;\n",
              "    }\n",
              "\n",
              "    [theme=dark] .colab-df-convert {\n",
              "      background-color: #3B4455;\n",
              "      fill: #D2E3FC;\n",
              "    }\n",
              "\n",
              "    [theme=dark] .colab-df-convert:hover {\n",
              "      background-color: #434B5C;\n",
              "      box-shadow: 0px 1px 3px 1px rgba(0, 0, 0, 0.15);\n",
              "      filter: drop-shadow(0px 1px 2px rgba(0, 0, 0, 0.3));\n",
              "      fill: #FFFFFF;\n",
              "    }\n",
              "  </style>\n",
              "\n",
              "      <script>\n",
              "        const buttonEl =\n",
              "          document.querySelector('#df-7f723d75-5d24-4c4f-83bc-b68182bad6b4 button.colab-df-convert');\n",
              "        buttonEl.style.display =\n",
              "          google.colab.kernel.accessAllowed ? 'block' : 'none';\n",
              "\n",
              "        async function convertToInteractive(key) {\n",
              "          const element = document.querySelector('#df-7f723d75-5d24-4c4f-83bc-b68182bad6b4');\n",
              "          const dataTable =\n",
              "            await google.colab.kernel.invokeFunction('convertToInteractive',\n",
              "                                                     [key], {});\n",
              "          if (!dataTable) return;\n",
              "\n",
              "          const docLinkHtml = 'Like what you see? Visit the ' +\n",
              "            '<a target=\"_blank\" href=https://colab.research.google.com/notebooks/data_table.ipynb>data table notebook</a>'\n",
              "            + ' to learn more about interactive tables.';\n",
              "          element.innerHTML = '';\n",
              "          dataTable['output_type'] = 'display_data';\n",
              "          await google.colab.output.renderOutput(dataTable, element);\n",
              "          const docLink = document.createElement('div');\n",
              "          docLink.innerHTML = docLinkHtml;\n",
              "          element.appendChild(docLink);\n",
              "        }\n",
              "      </script>\n",
              "    </div>\n",
              "  </div>\n",
              "  "
            ]
          },
          "metadata": {},
          "execution_count": 155
        }
      ]
    },
    {
      "cell_type": "code",
      "source": [
        "result = covid_data.groupby('Country/Region').max().sort_values(by='Confirmed', ascending=False)[:10]\n",
        "result"
      ],
      "metadata": {
        "colab": {
          "base_uri": "https://localhost:8080/",
          "height": 449
        },
        "id": "Nf9OTz2RpngZ",
        "outputId": "3b56b1be-753f-40c1-d0eb-ec52b69f5c92"
      },
      "execution_count": 153,
      "outputs": [
        {
          "output_type": "stream",
          "name": "stderr",
          "text": [
            "<ipython-input-153-68200c2b137b>:1: FutureWarning: Dropping invalid columns in DataFrameGroupBy.max is deprecated. In a future version, a TypeError will be raised. Before calling .max, select only columns which should be valid for the function.\n",
            "  result = covid_data.groupby('Country/Region').max().sort_values(by='Confirmed', ascending=False)[:10]\n"
          ]
        },
        {
          "output_type": "execute_result",
          "data": {
            "text/plain": [
              "                       Last Update  Confirmed  Deaths  Recovered  Latitude  \\\n",
              "Country/Region                                                               \n",
              "China          2020-03-17 12:13:13      67799    3111      56003   47.8620   \n",
              "Italy          2020-03-17 18:33:02      31506    2503       2941   41.8719   \n",
              "Iran           2020-03-17 15:13:09      16169     988       5389   32.4279   \n",
              "Spain          2020-03-17 20:53:02      11748     533       1028   40.4637   \n",
              "Germany        2020-03-17 18:53:02       9257      24         67   51.1657   \n",
              "Korea, South   2020-03-17 10:33:03       8320      81       1407   35.9078   \n",
              "France         2020-03-17 19:13:08       7652     148         12   46.2276   \n",
              "Switzerland    2020-03-17 16:33:04       2700      40          4   46.8182   \n",
              "United Kingdom 2020-03-17 15:13:09       1950     198         52   56.4907   \n",
              "US             2020-03-17 23:53:03       1706      55          6   61.3707   \n",
              "\n",
              "                Longitude  \n",
              "Country/Region             \n",
              "China            127.7615  \n",
              "Italy             12.5674  \n",
              "Iran              53.6880  \n",
              "Spain             -3.7492  \n",
              "Germany           10.4515  \n",
              "Korea, South     127.7669  \n",
              "France            55.2471  \n",
              "Switzerland        8.2275  \n",
              "United Kingdom    -1.1743  \n",
              "US               144.7937  "
            ],
            "text/html": [
              "\n",
              "  <div id=\"df-2ab9d320-4e4a-40ed-ab79-cfccafd90daf\">\n",
              "    <div class=\"colab-df-container\">\n",
              "      <div>\n",
              "<style scoped>\n",
              "    .dataframe tbody tr th:only-of-type {\n",
              "        vertical-align: middle;\n",
              "    }\n",
              "\n",
              "    .dataframe tbody tr th {\n",
              "        vertical-align: top;\n",
              "    }\n",
              "\n",
              "    .dataframe thead th {\n",
              "        text-align: right;\n",
              "    }\n",
              "</style>\n",
              "<table border=\"1\" class=\"dataframe\">\n",
              "  <thead>\n",
              "    <tr style=\"text-align: right;\">\n",
              "      <th></th>\n",
              "      <th>Last Update</th>\n",
              "      <th>Confirmed</th>\n",
              "      <th>Deaths</th>\n",
              "      <th>Recovered</th>\n",
              "      <th>Latitude</th>\n",
              "      <th>Longitude</th>\n",
              "    </tr>\n",
              "    <tr>\n",
              "      <th>Country/Region</th>\n",
              "      <th></th>\n",
              "      <th></th>\n",
              "      <th></th>\n",
              "      <th></th>\n",
              "      <th></th>\n",
              "      <th></th>\n",
              "    </tr>\n",
              "  </thead>\n",
              "  <tbody>\n",
              "    <tr>\n",
              "      <th>China</th>\n",
              "      <td>2020-03-17 12:13:13</td>\n",
              "      <td>67799</td>\n",
              "      <td>3111</td>\n",
              "      <td>56003</td>\n",
              "      <td>47.8620</td>\n",
              "      <td>127.7615</td>\n",
              "    </tr>\n",
              "    <tr>\n",
              "      <th>Italy</th>\n",
              "      <td>2020-03-17 18:33:02</td>\n",
              "      <td>31506</td>\n",
              "      <td>2503</td>\n",
              "      <td>2941</td>\n",
              "      <td>41.8719</td>\n",
              "      <td>12.5674</td>\n",
              "    </tr>\n",
              "    <tr>\n",
              "      <th>Iran</th>\n",
              "      <td>2020-03-17 15:13:09</td>\n",
              "      <td>16169</td>\n",
              "      <td>988</td>\n",
              "      <td>5389</td>\n",
              "      <td>32.4279</td>\n",
              "      <td>53.6880</td>\n",
              "    </tr>\n",
              "    <tr>\n",
              "      <th>Spain</th>\n",
              "      <td>2020-03-17 20:53:02</td>\n",
              "      <td>11748</td>\n",
              "      <td>533</td>\n",
              "      <td>1028</td>\n",
              "      <td>40.4637</td>\n",
              "      <td>-3.7492</td>\n",
              "    </tr>\n",
              "    <tr>\n",
              "      <th>Germany</th>\n",
              "      <td>2020-03-17 18:53:02</td>\n",
              "      <td>9257</td>\n",
              "      <td>24</td>\n",
              "      <td>67</td>\n",
              "      <td>51.1657</td>\n",
              "      <td>10.4515</td>\n",
              "    </tr>\n",
              "    <tr>\n",
              "      <th>Korea, South</th>\n",
              "      <td>2020-03-17 10:33:03</td>\n",
              "      <td>8320</td>\n",
              "      <td>81</td>\n",
              "      <td>1407</td>\n",
              "      <td>35.9078</td>\n",
              "      <td>127.7669</td>\n",
              "    </tr>\n",
              "    <tr>\n",
              "      <th>France</th>\n",
              "      <td>2020-03-17 19:13:08</td>\n",
              "      <td>7652</td>\n",
              "      <td>148</td>\n",
              "      <td>12</td>\n",
              "      <td>46.2276</td>\n",
              "      <td>55.2471</td>\n",
              "    </tr>\n",
              "    <tr>\n",
              "      <th>Switzerland</th>\n",
              "      <td>2020-03-17 16:33:04</td>\n",
              "      <td>2700</td>\n",
              "      <td>40</td>\n",
              "      <td>4</td>\n",
              "      <td>46.8182</td>\n",
              "      <td>8.2275</td>\n",
              "    </tr>\n",
              "    <tr>\n",
              "      <th>United Kingdom</th>\n",
              "      <td>2020-03-17 15:13:09</td>\n",
              "      <td>1950</td>\n",
              "      <td>198</td>\n",
              "      <td>52</td>\n",
              "      <td>56.4907</td>\n",
              "      <td>-1.1743</td>\n",
              "    </tr>\n",
              "    <tr>\n",
              "      <th>US</th>\n",
              "      <td>2020-03-17 23:53:03</td>\n",
              "      <td>1706</td>\n",
              "      <td>55</td>\n",
              "      <td>6</td>\n",
              "      <td>61.3707</td>\n",
              "      <td>144.7937</td>\n",
              "    </tr>\n",
              "  </tbody>\n",
              "</table>\n",
              "</div>\n",
              "      <button class=\"colab-df-convert\" onclick=\"convertToInteractive('df-2ab9d320-4e4a-40ed-ab79-cfccafd90daf')\"\n",
              "              title=\"Convert this dataframe to an interactive table.\"\n",
              "              style=\"display:none;\">\n",
              "        \n",
              "  <svg xmlns=\"http://www.w3.org/2000/svg\" height=\"24px\"viewBox=\"0 0 24 24\"\n",
              "       width=\"24px\">\n",
              "    <path d=\"M0 0h24v24H0V0z\" fill=\"none\"/>\n",
              "    <path d=\"M18.56 5.44l.94 2.06.94-2.06 2.06-.94-2.06-.94-.94-2.06-.94 2.06-2.06.94zm-11 1L8.5 8.5l.94-2.06 2.06-.94-2.06-.94L8.5 2.5l-.94 2.06-2.06.94zm10 10l.94 2.06.94-2.06 2.06-.94-2.06-.94-.94-2.06-.94 2.06-2.06.94z\"/><path d=\"M17.41 7.96l-1.37-1.37c-.4-.4-.92-.59-1.43-.59-.52 0-1.04.2-1.43.59L10.3 9.45l-7.72 7.72c-.78.78-.78 2.05 0 2.83L4 21.41c.39.39.9.59 1.41.59.51 0 1.02-.2 1.41-.59l7.78-7.78 2.81-2.81c.8-.78.8-2.07 0-2.86zM5.41 20L4 18.59l7.72-7.72 1.47 1.35L5.41 20z\"/>\n",
              "  </svg>\n",
              "      </button>\n",
              "      \n",
              "  <style>\n",
              "    .colab-df-container {\n",
              "      display:flex;\n",
              "      flex-wrap:wrap;\n",
              "      gap: 12px;\n",
              "    }\n",
              "\n",
              "    .colab-df-convert {\n",
              "      background-color: #E8F0FE;\n",
              "      border: none;\n",
              "      border-radius: 50%;\n",
              "      cursor: pointer;\n",
              "      display: none;\n",
              "      fill: #1967D2;\n",
              "      height: 32px;\n",
              "      padding: 0 0 0 0;\n",
              "      width: 32px;\n",
              "    }\n",
              "\n",
              "    .colab-df-convert:hover {\n",
              "      background-color: #E2EBFA;\n",
              "      box-shadow: 0px 1px 2px rgba(60, 64, 67, 0.3), 0px 1px 3px 1px rgba(60, 64, 67, 0.15);\n",
              "      fill: #174EA6;\n",
              "    }\n",
              "\n",
              "    [theme=dark] .colab-df-convert {\n",
              "      background-color: #3B4455;\n",
              "      fill: #D2E3FC;\n",
              "    }\n",
              "\n",
              "    [theme=dark] .colab-df-convert:hover {\n",
              "      background-color: #434B5C;\n",
              "      box-shadow: 0px 1px 3px 1px rgba(0, 0, 0, 0.15);\n",
              "      filter: drop-shadow(0px 1px 2px rgba(0, 0, 0, 0.3));\n",
              "      fill: #FFFFFF;\n",
              "    }\n",
              "  </style>\n",
              "\n",
              "      <script>\n",
              "        const buttonEl =\n",
              "          document.querySelector('#df-2ab9d320-4e4a-40ed-ab79-cfccafd90daf button.colab-df-convert');\n",
              "        buttonEl.style.display =\n",
              "          google.colab.kernel.accessAllowed ? 'block' : 'none';\n",
              "\n",
              "        async function convertToInteractive(key) {\n",
              "          const element = document.querySelector('#df-2ab9d320-4e4a-40ed-ab79-cfccafd90daf');\n",
              "          const dataTable =\n",
              "            await google.colab.kernel.invokeFunction('convertToInteractive',\n",
              "                                                     [key], {});\n",
              "          if (!dataTable) return;\n",
              "\n",
              "          const docLinkHtml = 'Like what you see? Visit the ' +\n",
              "            '<a target=\"_blank\" href=https://colab.research.google.com/notebooks/data_table.ipynb>data table notebook</a>'\n",
              "            + ' to learn more about interactive tables.';\n",
              "          element.innerHTML = '';\n",
              "          dataTable['output_type'] = 'display_data';\n",
              "          await google.colab.output.renderOutput(dataTable, element);\n",
              "          const docLink = document.createElement('div');\n",
              "          docLink.innerHTML = docLinkHtml;\n",
              "          element.appendChild(docLink);\n",
              "        }\n",
              "      </script>\n",
              "    </div>\n",
              "  </div>\n",
              "  "
            ]
          },
          "metadata": {},
          "execution_count": 153
        }
      ]
    },
    {
      "cell_type": "markdown",
      "source": [
        "###**Python 'Diamond' Case Study**"
      ],
      "metadata": {
        "id": "cDySDLPBLbPc"
      }
    },
    {
      "cell_type": "markdown",
      "source": [
        "**Diamonds:**\n",
        "\n",
        "This classic dataset contains the prices and other attributes of almost 54,000 diamonds. It's a great dataset for beginners learning to work with data analysis and visualization.\n",
        "\n",
        "![python pandas.JPG](data:image/jpeg;base64,/9j/4AAQSkZJRgABAQEAYABgAAD/4RDSRXhpZgAATU0AKgAAAAgABAE7AAIAAAAEbW15AIdpAAQAAAABAAAISpydAAEAAAAIAAAQwuocAAcAAAgMAAAAPgAAAAAc6gAAAAgAAAAAAAAAAAAAAAAAAAAAAAAAAAAAAAAAAAAAAAAAAAAAAAAAAAAAAAAAAAAAAAAAAAAAAAAAAAAAAAAAAAAAAAAAAAAAAAAAAAAAAAAAAAAAAAAAAAAAAAAAAAAAAAAAAAAAAAAAAAAAAAAAAAAAAAAAAAAAAAAAAAAAAAAAAAAAAAAAAAAAAAAAAAAAAAAAAAAAAAAAAAAAAAAAAAAAAAAAAAAAAAAAAAAAAAAAAAAAAAAAAAAAAAAAAAAAAAAAAAAAAAAAAAAAAAAAAAAAAAAAAAAAAAAAAAAAAAAAAAAAAAAAAAAAAAAAAAAAAAAAAAAAAAAAAAAAAAAAAAAAAAAAAAAAAAAAAAAAAAAAAAAAAAAAAAAAAAAAAAAAAAAAAAAAAAAAAAAAAAAAAAAAAAAAAAAAAAAAAAAAAAAAAAAAAAAAAAAAAAAAAAAAAAAAAAAAAAAAAAAAAAAAAAAAAAAAAAAAAAAAAAAAAAAAAAAAAAAAAAAAAAAAAAAAAAAAAAAAAAAAAAAAAAAAAAAAAAAAAAAAAAAAAAAAAAAAAAAAAAAAAAAAAAAAAAAAAAAAAAAAAAAAAAAAAAAAAAAAAAAAAAAAAAAAAAAAAAAAAAAAAAAAAAAAAAAAAAAAAAAAAAAAAAAAAAAAAAAAAAAAAAAAAAAAAAAAAAAAAAAAAAAAAAAAAAAAAAAAAAAAAAAAAAAAAAAAAAAAAAAAAAAAAAAAAAAAAAAAAAAAAAAAAAAAAAAAAAAAAAAAAAAAAAAAAAAAAAAAAAAAAAAAAAAAAAAAAAAAAAAAAAAAAAAAAAAAAAAAAAAAAAAAAAAAAAAAAAAAAAAAAAAAAAAAAAAAAAAAAAAAAAAAAAAAAAAAAAAAAAAAAAAAAAAAAAAAAAAAAAAAAAAAAAAAAAAAAAAAAAAAAAAAAAAAAAAAAAAAAAAAAAAAAAAAAAAAAAAAAAAAAAAAAAAAAAAAAAAAAAAAAAAAAAAAAAAAAAAAAAAAAAAAAAAAAAAAAAAAAAAAAAAAAAAAAAAAAAAAAAAAAAAAAAAAAAAAAAAAAAAAAAAAAAAAAAAAAAAAAAAAAAAAAAAAAAAAAAAAAAAAAAAAAAAAAAAAAAAAAAAAAAAAAAAAAAAAAAAAAAAAAAAAAAAAAAAAAAAAAAAAAAAAAAAAAAAAAAAAAAAAAAAAAAAAAAAAAAAAAAAAAAAAAAAAAAAAAAAAAAAAAAAAAAAAAAAAAAAAAAAAAAAAAAAAAAAAAAAAAAAAAAAAAAAAAAAAAAAAAAAAAAAAAAAAAAAAAAAAAAAAAAAAAAAAAAAAAAAAAAAAAAAAAAAAAAAAAAAAAAAAAAAAAAAAAAAAAAAAAAAAAAAAAAAAAAAAAAAAAAAAAAAAAAAAAAAAAAAAAAAAAAAAAAAAAAAAAAAAAAAAAAAAAAAAAAAAAAAAAAAAAAAAAAAAAAAAAAAAAAAAAAAAAAAAAAAAAAAAAAAAAAAAAAAAAAAAAAAAAAAAAAAAAAAAAAAAAAAAAAAAAAAAAAAAAAAAAAAAAAAAAAAAAAAAAAAAAAAAAAAAAAAAAAAAAAAAAAAAAAAAAAAAAAAAAAAAAAAAAAAAAAAAAAAAAAAAAAAAAAAAAAAAAAAAAAAAAAAAAAAAAAAAAAAAAAAAAAAAAAAAAAAAAAAAAAAAAAAAAAAAAAAAAAAAAAAAAAAAAAAAAAAAAAAAAAAAAAAAAAAAAAAAAAAAAAAAAAAAAAAAAAAAAAAAAAAAAAAAAAAAAAAAAAAAAAAAAAAAAAAAAAAAAAAAAAAAAAAAAAAAAAAAAAAAAAAAAAAAAAAAAAAAAAAAAAAAAAAAAAAAAAAAAAAAAAAAAAAAAAAAAAAAAAAAAAAAAAAAAAAAAAAAAAAAAAAAAAAAAAAAAAAAAAAAAAAAAAAAAAAAAAAAAAAAAAAAAAAAAAAAAAAAAAAAAAAAAAAAAAAAAAAAAAAAAAAAAAAAAAAAAAAAAAAAAAAAAAAAAAAAAAAAAAAAAAAAAAAAAAAAAAAAAAAAAAAAAAAAAAAAAAAAAAAAAAAAAAAAAAAAAAAAAAAAAAAAAAAAAAAAAAAAAAAAAAAAAAAAAAAAAAAAAAAAAAAAAAAAAAAAAAAAAAAAAAAAAAAAAAAAAAAAAAAAAAAAAAAAAAAAAAAAAAAAAAAAAAAAAAAAAAAAAAAAAAAAAAAAAAAAAAAAAAAAAAAAAAAAAAAAAAAAAAAAAAAAAAAAAAAAAAAAAAAAAAAAAAAAAAAAAAAAAAAAAAAAAAAAAAAAAAAAAAAAAAAAAAAAAAAAAAAAAAAAAAAAAAAAAAAAAAAAAAAAAAAAAAAAAAAAAAAAAAAAAAAAAAAAAAAAAAAAAAAAAAAAAAAAAAAAAAAAAAAAAAAAAAAAAAAAAAAAAAAAAAAAAAAAAAAAAAAAAAAAAAAAAAAAAAAAAAAAAAAAAAAAAAAAAAAAAAAAAAAAAAAAAAAAAAAAAAAAAAAAAAAAAAAAAAAAAAAAAAAAAAAAAAAAAAAAAAAAAAAAAAAAAAAAAAAAAAAAAAAAAAAAAAAAAAAAAAAAAAAAAAAAAAAAAAAAAAAAAAAAAAAAAAAAAAAAAAAAAAAAAAAAAAAAAAAAAAAAAAAAAAAAAAAAAAAAAAAAAAAAAAAAAAAAAAAAAAAAAAAAAAAAAAAAAAAAAAAAAAAAAAAAAAAAAAAAAAAAAAAAAAAAAAAAAAAAAAAAAAAAAAAAAAAAAAAFkAMAAgAAABQAABCYkAQAAgAAABQAABCskpEAAgAAAAMxNgAAkpIAAgAAAAMxNgAA6hwABwAACAwAAAiMAAAAABzqAAAACAAAAAAAAAAAAAAAAAAAAAAAAAAAAAAAAAAAAAAAAAAAAAAAAAAAAAAAAAAAAAAAAAAAAAAAAAAAAAAAAAAAAAAAAAAAAAAAAAAAAAAAAAAAAAAAAAAAAAAAAAAAAAAAAAAAAAAAAAAAAAAAAAAAAAAAAAAAAAAAAAAAAAAAAAAAAAAAAAAAAAAAAAAAAAAAAAAAAAAAAAAAAAAAAAAAAAAAAAAAAAAAAAAAAAAAAAAAAAAAAAAAAAAAAAAAAAAAAAAAAAAAAAAAAAAAAAAAAAAAAAAAAAAAAAAAAAAAAAAAAAAAAAAAAAAAAAAAAAAAAAAAAAAAAAAAAAAAAAAAAAAAAAAAAAAAAAAAAAAAAAAAAAAAAAAAAAAAAAAAAAAAAAAAAAAAAAAAAAAAAAAAAAAAAAAAAAAAAAAAAAAAAAAAAAAAAAAAAAAAAAAAAAAAAAAAAAAAAAAAAAAAAAAAAAAAAAAAAAAAAAAAAAAAAAAAAAAAAAAAAAAAAAAAAAAAAAAAAAAAAAAAAAAAAAAAAAAAAAAAAAAAAAAAAAAAAAAAAAAAAAAAAAAAAAAAAAAAAAAAAAAAAAAAAAAAAAAAAAAAAAAAAAAAAAAAAAAAAAAAAAAAAAAAAAAAAAAAAAAAAAAAAAAAAAAAAAAAAAAAAAAAAAAAAAAAAAAAAAAAAAAAAAAAAAAAAAAAAAAAAAAAAAAAAAAAAAAAAAAAAAAAAAAAAAAAAAAAAAAAAAAAAAAAAAAAAAAAAAAAAAAAAAAAAAAAAAAAAAAAAAAAAAAAAAAAAAAAAAAAAAAAAAAAAAAAAAAAAAAAAAAAAAAAAAAAAAAAAAAAAAAAAAAAAAAAAAAAAAAAAAAAAAAAAAAAAAAAAAAAAAAAAAAAAAAAAAAAAAAAAAAAAAAAAAAAAAAAAAAAAAAAAAAAAAAAAAAAAAAAAAAAAAAAAAAAAAAAAAAAAAAAAAAAAAAAAAAAAAAAAAAAAAAAAAAAAAAAAAAAAAAAAAAAAAAAAAAAAAAAAAAAAAAAAAAAAAAAAAAAAAAAAAAAAAAAAAAAAAAAAAAAAAAAAAAAAAAAAAAAAAAAAAAAAAAAAAAAAAAAAAAAAAAAAAAAAAAAAAAAAAAAAAAAAAAAAAAAAAAAAAAAAAAAAAAAAAAAAAAAAAAAAAAAAAAAAAAAAAAAAAAAAAAAAAAAAAAAAAAAAAAAAAAAAAAAAAAAAAAAAAAAAAAAAAAAAAAAAAAAAAAAAAAAAAAAAAAAAAAAAAAAAAAAAAAAAAAAAAAAAAAAAAAAAAAAAAAAAAAAAAAAAAAAAAAAAAAAAAAAAAAAAAAAAAAAAAAAAAAAAAAAAAAAAAAAAAAAAAAAAAAAAAAAAAAAAAAAAAAAAAAAAAAAAAAAAAAAAAAAAAAAAAAAAAAAAAAAAAAAAAAAAAAAAAAAAAAAAAAAAAAAAAAAAAAAAAAAAAAAAAAAAAAAAAAAAAAAAAAAAAAAAAAAAAAAAAAAAAAAAAAAAAAAAAAAAAAAAAAAAAAAAAAAAAAAAAAAAAAAAAAAAAAAAAAAAAAAAAAAAAAAAAAAAAAAAAAAAAAAAAAAAAAAAAAAAAAAAAAAAAAAAAAAAAAAAAAAAAAAAAAAAAAAAAAAAAAAAAAAAAAAAAAAAAAAAAAAAAAAAAAAAAAAAAAAAAAAAAAAAAAAAAAAAAAAAAAAAAAAAAAAAAAAAAAAAAAAAAAAAAAAAAAAAAAAAAAAAAAAAAAAAAAAAAAAAAAAAAAAAAAAAAAAAAAAAAAAAAAAAAAAAAAAAAAAAAAAAAAAAAAAAAAAAAAAAAAAAAAAAAAAAAAAAAAAAAAAAAAAAAAAAAAAAAAAAAAAAAAAAAAAAAAAAAAAAAAAAAAAAAAAAAAAAAAAAAAAAAAAAAAAAAAAAAAAAAAAAAAAAAAAAAAAAAAAAAAAAAAAAAAAAAAAAAAAAAAAAAAAAAAAAAAAAAAAAAAAAAAAAAAAAAAAAAAAAAAAAAAAAAAAAAAAAAAAAAAAAAAAAAAAAAAAAAAAAAAAAAAAAAAAAAAAAAAAAAAAAAAAAAAAAAAAAAAAAAAAAAAAAAAAAAAAAAAAAAAAAAAAAAAAAAAAAAAAAAAAAAAAAAAAAAAAAAAAAAAAAAAAAAAAAAAAAAAAAAAAAAAAAAAAAAAAAAAAAAAAAAAAAAAAAAAAAAAAAAAAAAAAAAAAAAAAAAAAAAAAAAAAAAAAAAAAAAAAAAAAAAAAAAAAAAAAAAAAAAAAAAAAAAAAAAAAAAAAAAAAAAAAAAAAAAAAAAAAAAAAAAAAAAAAAAAAAAAAAAAAAAAAAAAAAAAAAAAAAAAAAAAAAAAAAAAAAAAAAAAAAAAAAAAAAAAAAAAAAAAAAAAAAAAAAAAAAAAAAAAAAAAAAAAAAAAAAAAAAAAAAAAAAAAAAAAAAAAAAAAAAAAAAAAAAAAAAAAAAAAAAAAAAAAAAAAAAAAAAAAAAAAAAAAAAAAAAAAAAAAAAAAAAAAAAAAAAAAAAAAAAAAAAAAAAAAAAAAAAAAAAAAAAAAAAAAAAAAAAAAAAAAAAAAAAAAAAAAAAAAAAAAAAAAAAAAAAAAAAAAAAAAAAAAAAAAAAAAAAAAAAAAAAAAAAAAAAAAAAAAAAAAAAAAAAAAAAAAAAAAAAAAAAAAAAAAAAAAAAAAAAAAAAAAAAAAAAAAAAAAAAAAAAAAAAAAAAAAAAAAAAAAAAAAAAAAAAAAAAAAAAAAAMjAyMjoxMDowNyAxODoyNDoxMgAyMDIyOjEwOjA3IDE4OjI0OjEyAAAAbQBtAHkAAAD/4QsWaHR0cDovL25zLmFkb2JlLmNvbS94YXAvMS4wLwA8P3hwYWNrZXQgYmVnaW49J++7vycgaWQ9J1c1TTBNcENlaGlIenJlU3pOVGN6a2M5ZCc/Pg0KPHg6eG1wbWV0YSB4bWxuczp4PSJhZG9iZTpuczptZXRhLyI+PHJkZjpSREYgeG1sbnM6cmRmPSJodHRwOi8vd3d3LnczLm9yZy8xOTk5LzAyLzIyLXJkZi1zeW50YXgtbnMjIj48cmRmOkRlc2NyaXB0aW9uIHJkZjphYm91dD0idXVpZDpmYWY1YmRkNS1iYTNkLTExZGEtYWQzMS1kMzNkNzUxODJmMWIiIHhtbG5zOmRjPSJodHRwOi8vcHVybC5vcmcvZGMvZWxlbWVudHMvMS4xLyIvPjxyZGY6RGVzY3JpcHRpb24gcmRmOmFib3V0PSJ1dWlkOmZhZjViZGQ1LWJhM2QtMTFkYS1hZDMxLWQzM2Q3NTE4MmYxYiIgeG1sbnM6eG1wPSJodHRwOi8vbnMuYWRvYmUuY29tL3hhcC8xLjAvIj48eG1wOkNyZWF0ZURhdGU+MjAyMi0xMC0wN1QxODoyNDoxMi4xNTU8L3htcDpDcmVhdGVEYXRlPjwvcmRmOkRlc2NyaXB0aW9uPjxyZGY6RGVzY3JpcHRpb24gcmRmOmFib3V0PSJ1dWlkOmZhZjViZGQ1LWJhM2QtMTFkYS1hZDMxLWQzM2Q3NTE4MmYxYiIgeG1sbnM6ZGM9Imh0dHA6Ly9wdXJsLm9yZy9kYy9lbGVtZW50cy8xLjEvIj48ZGM6Y3JlYXRvcj48cmRmOlNlcSB4bWxuczpyZGY9Imh0dHA6Ly93d3cudzMub3JnLzE5OTkvMDIvMjItcmRmLXN5bnRheC1ucyMiPjxyZGY6bGk+bW15PC9yZGY6bGk+PC9yZGY6U2VxPg0KCQkJPC9kYzpjcmVhdG9yPjwvcmRmOkRlc2NyaXB0aW9uPjwvcmRmOlJERj48L3g6eG1wbWV0YT4NCiAgICAgICAgICAgICAgICAgICAgICAgICAgICAgICAgICAgICAgICAgICAgICAgICAgICAgICAgICAgICAgICAgICAgICAgICAgICAgICAgICAgICAgICAgICAgICAgICAgICAKICAgICAgICAgICAgICAgICAgICAgICAgICAgICAgICAgICAgICAgICAgICAgICAgICAgICAgICAgICAgICAgICAgICAgICAgICAgICAgICAgICAgICAgICAgICAgICAgICAgIAogICAgICAgICAgICAgICAgICAgICAgICAgICAgICAgICAgICAgICAgICAgICAgICAgICAgICAgICAgICAgICAgICAgICAgICAgICAgICAgICAgICAgICAgICAgICAgICAgICAgCiAgICAgICAgICAgICAgICAgICAgICAgICAgICAgICAgICAgICAgICAgICAgICAgICAgICAgICAgICAgICAgICAgICAgICAgICAgICAgICAgICAgICAgICAgICAgICAgICAgICAKICAgICAgICAgICAgICAgICAgICAgICAgICAgICAgICAgICAgICAgICAgICAgICAgICAgICAgICAgICAgICAgICAgICAgICAgICAgICAgICAgICAgICAgICAgICAgICAgICAgIAogICAgICAgICAgICAgICAgICAgICAgICAgICAgICAgICAgICAgICAgICAgICAgICAgICAgICAgICAgICAgICAgICAgICAgICAgICAgICAgICAgICAgICAgICAgICAgICAgICAgCiAgICAgICAgICAgICAgICAgICAgICAgICAgICAgICAgICAgICAgICAgICAgICAgICAgICAgICAgICAgICAgICAgICAgICAgICAgICAgICAgICAgICAgICAgICAgICAgICAgICAKICAgICAgICAgICAgICAgICAgICAgICAgICAgICAgICAgICAgICAgICAgICAgICAgICAgICAgICAgICAgICAgICAgICAgICAgICAgICAgICAgICAgICAgICAgICAgICAgICAgIAogICAgICAgICAgICAgICAgICAgICAgICAgICAgICAgICAgICAgICAgICAgICAgICAgICAgICAgICAgICAgICAgICAgICAgICAgICAgICAgICAgICAgICAgICAgICAgICAgICAgCiAgICAgICAgICAgICAgICAgICAgICAgICAgICAgICAgICAgICAgICAgICAgICAgICAgICAgICAgICAgICAgICAgICAgICAgICAgICAgICAgICAgICAgICAgICAgICAgICAgICAKICAgICAgICAgICAgICAgICAgICAgICAgICAgICAgICAgICAgICAgICAgICAgICAgICAgICAgICAgICAgICAgICAgICAgICAgICAgICAgICAgICAgICAgICAgICAgICAgICAgIAogICAgICAgICAgICAgICAgICAgICAgICAgICAgICAgICAgICAgICAgICAgICAgICAgICAgICAgICAgICAgICAgICAgICAgICAgICAgICAgICAgICAgICAgICAgICAgICAgICAgCiAgICAgICAgICAgICAgICAgICAgICAgICAgICAgICAgICAgICAgICAgICAgICAgICAgICAgICAgICAgICAgICAgICAgICAgICAgICAgICAgICAgICAgICAgICAgICAgICAgICAKICAgICAgICAgICAgICAgICAgICAgICAgICAgICAgICAgICAgICAgICAgICAgICAgICAgICAgICAgICAgICAgICAgICAgICAgICAgICAgICAgICAgICAgICAgICAgICAgICAgIAogICAgICAgICAgICAgICAgICAgICAgICAgICAgICAgICAgICAgICAgICAgICAgICAgICAgICAgICAgICAgICAgICAgICAgICAgICAgICAgICAgICAgICAgICAgICAgICAgICAgCiAgICAgICAgICAgICAgICAgICAgICAgICAgICAgICAgICAgICAgICAgICAgICAgICAgICAgICAgICAgICAgICAgICAgICAgICAgICAgICAgICAgICAgICAgICAgICAgICAgICAKICAgICAgICAgICAgICAgICAgICAgICAgICAgICAgICAgICAgICAgICAgICAgICAgICAgICAgICAgICAgICAgICAgICAgICAgICAgICAgICAgICAgICAgICAgICAgICAgICAgIAogICAgICAgICAgICAgICAgICAgICAgICAgICAgICAgICAgICAgICAgICAgICAgICAgICAgICAgICAgICAgICAgICAgICAgICAgICAgICAgICAgICAgICAgICAgICAgICAgICAgCiAgICAgICAgICAgICAgICAgICAgICAgICAgICAgICAgICAgICAgICAgICAgICAgICAgICAgICAgICAgICAgICAgICAgICAgICAgICAgICAgICAgICAgICAgICAgICAgICAgICAKICAgICAgICAgICAgICAgICAgICAgICAgICAgICAgICAgICAgICAgICAgICAgICAgICAgICAgICAgICAgICAgICAgICAgICAgICAgICAgICAgICAgICAgICAgICAgICAgICAgIAogICAgICAgICAgICAgICAgICAgICAgICAgICAgPD94cGFja2V0IGVuZD0ndyc/Pv/bAEMABwUFBgUEBwYFBggHBwgKEQsKCQkKFQ8QDBEYFRoZGBUYFxseJyEbHSUdFxgiLiIlKCkrLCsaIC8zLyoyJyorKv/bAEMBBwgICgkKFAsLFCocGBwqKioqKioqKioqKioqKioqKioqKioqKioqKioqKioqKioqKioqKioqKioqKioqKioqKv/AABEIAcEC7gMBIgACEQEDEQH/xAAfAAABBQEBAQEBAQAAAAAAAAAAAQIDBAUGBwgJCgv/xAC1EAACAQMDAgQDBQUEBAAAAX0BAgMABBEFEiExQQYTUWEHInEUMoGRoQgjQrHBFVLR8CQzYnKCCQoWFxgZGiUmJygpKjQ1Njc4OTpDREVGR0hJSlNUVVZXWFlaY2RlZmdoaWpzdHV2d3h5eoOEhYaHiImKkpOUlZaXmJmaoqOkpaanqKmqsrO0tba3uLm6wsPExcbHyMnK0tPU1dbX2Nna4eLj5OXm5+jp6vHy8/T19vf4+fr/xAAfAQADAQEBAQEBAQEBAAAAAAAAAQIDBAUGBwgJCgv/xAC1EQACAQIEBAMEBwUEBAABAncAAQIDEQQFITEGEkFRB2FxEyIygQgUQpGhscEJIzNS8BVictEKFiQ04SXxFxgZGiYnKCkqNTY3ODk6Q0RFRkdISUpTVFVWV1hZWmNkZWZnaGlqc3R1dnd4eXqCg4SFhoeIiYqSk5SVlpeYmZqio6Slpqeoqaqys7S1tre4ubrCw8TFxsfIycrS09TV1tfY2dri4+Tl5ufo6ery8/T19vf4+fr/2gAMAwEAAhEDEQA/APo1pishRY3cgAnbjjOfU+1J5r/8+8n5r/jQv/H3J/uL/NqloAi81/8An3k/Nf8AGjzX/wCfeT81/wAalooAi81/+feT81/xo81/+feT81/xqWigCLzX/wCfeT81/wAaPNf/AJ95PzX/ABqWigCLzX/595PzX/GjzX/595PzX/GpaKAIvNf/AJ95PzX/ABo81/8An3k/Nf8AGpaKAIvNf/n3k/Nf8aPNf/n3k/Nf8alooAhFwzFgIJMqcHlfTPr70vmv/wA+8n5r/jRF/rJ/98f+grUtAEXmv/z7yfmv+NHmv/z7yfmv+NS0UARea/8Az7yfmv8AjR5r/wDPvJ+a/wCNS0UARea//PvJ+a/40ea//PvJ+a/41LRQBF5r/wDPvJ+a/wCNHmv/AM+8n5r/AI1LRQBF5r/8+8n5r/jR5r/8+8n5r/jUtFAEXmv/AM+8n5r/AI0ea/8Az7yfmv8AjUtFAEXmv/z7yfmv+NHmv/z7yfmv+NS0UARea/8Az7yfmv8AjR5r/wDPvJ+a/wCNS0UARea//PvJ+a/40ea//PvJ+a/41LRQBF5r/wDPvJ+a/wCNHmv/AM+8n5r/AI1LRQBF5r/8+8n5r/jR5r/8+8n5r/jUtFAEXmv/AM+8n5r/AI0ea/8Az7yfmv8AjUtFAEXmv/z7yfmv+NHmv/z7yfmv+NS0UARea/8Az7yfmv8AjR5r/wDPvJ+a/wCNS0UARea//PvJ+a/40ea//PvJ+a/41LRQBF5r/wDPvJ+a/wCNHmv/AM+8n5r/AI1LRQBF5r/8+8n5r/jR5r/8+8n5r/jUtFAEXmv/AM+8n5r/AI0ea/8Az7yfmv8AjUtFAEXmv/z7yfmv+NHmv/z7yfmv+NS0UARea/8Az7yfmv8AjR5r/wDPvJ+a/wCNS0UARea//PvJ+a/40ea//PvJ+a/41LRQBF5r/wDPvJ+a/wCNHmv/AM+8n5r/AI1LRQBF5r/8+8n5r/jR5r/8+8n5r/jUtFAEXmv/AM+8n5r/AI0ea/8Az7yfmv8AjUtFAEXmv/z7yfmv+NHmv/z7yfmv+NS0UARea/8Az7yfmv8AjR5r/wDPvJ+a/wCNS0UARea//PvJ+a/40ea//PvJ+a/41LRQBF5r/wDPvJ+a/wCNHmv/AM+8n5r/AI1LRQBF5r/8+8n5r/jR5r/8+8n5r/jUtFAEXmv/AM+8n5r/AI0ea/8Az7yfmv8AjUtFAEXmv/z7yfmv+NHmv/z7yfmv+NS0UARea/8Az7yfmv8AjR5r/wDPvJ+a/wCNS0UARea//PvJ+a/40ea//PvJ+a/41LRQBF5r/wDPvJ+a/wCNHmv/AM+8n5r/AI1LRQBF5r/8+8n5r/jR5r/8+8n5r/jUtFAEXmv/AM+8n5r/AI0ea/8Az7yfmv8AjUtFAEXmv/z7yfmv+NHmv/z7yfmv+NS0UARea/8Az7yfmv8AjR5r/wDPvJ+a/wCNS0UARGcrjdDIoJAySvGTj1qU1Fcf6sf76f8AoQqU0ARL/wAfcn+4v82rl/G2tarb3ujaB4duIbPUdamkRbyaMSC3jjTc7BDwzdMA8V1C/wDH3J/uL/NqxPFvhX/hJbezktdRm0rU9Pm8+yvoUVzE+0qQVbhlIPK8ZpMaMvTLvxL4RsdaufHeq2+raXYwi4g1CK3WCZ+DvQxL8vBAx65754r6X8QdTvLz7Dr3hm40Ca9tJLnTJXuUnE4RdzBgo+RgCp2nPf05n0v4eyi11oeLPEF3r11rNuLWeQoLeNIgCAEiUlQ3JOf5ZOYtG+HuoW2opeeIvFNxrj2drJa6cr2qQi2V12sW2nMjYCjJx39eCV3f0/HX8dvxEtGvX/L/AIIzwZ43vNQtfCljqcf2m71fS5LyW83BMMhUY2Bcc7u2MY6VDJ8ULt9H0O503w299d6zcXVvDaJeKhVoSwB3MoGDtyScYGeuOVPwwvLew8NppHiebTr3Q7Z7RrqOzR/PifG4bGJCnjg849Ks6H8NRotr4XgXVWnXw/PczBmgwbjzd3B+b5SN/XnOOgqnZv5/hd/pYUbqOv8AWn+ZR0z4sXN/d6OJ/C11aWd/eHTp7p7pGFvdDcPLCjl1yv3/AJR9SMU2T4r3seq3SHwpM2lWWsHSrnUlvUwjb1VWEZXccluR0HHJzWlB8OfJsdPtv7V3fYtdfWN32f7+5mby8buPvfe9ulDfDndo+sWH9qY/tPWxq2/7P/qsSI/l43c/6vG7jr0oj0v/AF8P/wBt933uWzt/Xxf/AGp29FFFIAooooAKKKKAIov9ZP8A74/9BWuA8RTeK9W+Jx0Dw74o/sK2i0pbxv8AiXxXO9jKy/x4I4x37dK7+L/WT/74/wDQVrjvEfgjXNS8YDxB4c8V/wBhTmyWzdf7OS53qHLZy7YHJHbt1pdV/XR/qPo/66r9DIg+JV74f8K6j/wk0cF/q+m6p/ZSPHKttHduVDLIzN8sWVJLdhj3xUq/F+F/Atzri6VG97bXqWUtnHqMTQq7kbWNyPk2YI+boDwfWrV18KrW88GNpNxqTz6jJe/2jLqVxbRy+ZdHgs0LfKUwcbDxjAzU2mfD+/0jwdc6Xpuv29pqNxLvkv7XRLWKN16bGgVdrDBPU5z3xxRrZ330/S/6/p2DS6t5/r/wA/4WLcReCLbWrrQT9vvroWljYW1/DcJdSMTt2zoSoXg5JAxg8HjMd58RdT0vwo+pat4RvLTUIr+KyfT2nBDmQgBopQNsgwR0xzkZ71VsvhHHaeE5dOGtOmptfrqMOoWtnHbpBOo2oVgX5AuBgjvk9O15vh/qN5oS2ut+KbnU746lBfSXUsAVMRMCI0hDbYwQOSOpJPtTfl5fdpf9f0J1t9/6/wDAKz+OdVs9cmj1nSZbK4t/Ds2qS6ct7FLGrJIQF3iLduIA5DbRnG0nmk0j4l6tqFxaQ3vg64sDqli9zpRkvY2F3IsYcxnA/d5zwW6jnA7XPGHhKW6vNZ8Q20zyzP4cuNNjso4SzOxJcMCDknPG3H41m+AvAmp28Xh7VvEOt3d0un6cq2WmT2qxGyd4lVwzDliBlRuAIp7r+url/wAAudkk1/Wkf+D+hR8J/ELXtY0fw5da3ZtbPqmry2yyW80WyaMCQ8qUYhVK7MZVjtzuOedSD4pTTXyXf/CN3I8Ly3n2KLXBcoQzl/LDeT94IX43Z/wo0P4X3OjxaTbyeIWu7TSNTe9tIms1UqjK4MZYNycuTuP0wKWL4XzpqC2zeJblvDMd79uj0X7MgxJv8wAzfeKb+duP8aPteV/w0/4Pz8iZdbf1q/8AgfIg1X4rX2m6pqcaeFJ7nTNJv0s73UEvEAjDlAGCFcsfm+6OBxzzx6R1rir74efbNK8S2f8Aamz+3b+O83/Z8+RtMZ243fNny+vHXpxXagYAFTG/Ir7/APAX63B7hRRRTAKKKKACiiigAooooAKKKKACiiigAooooAKKKKACiiigAooooAKKKKACiiigAooooAKKKKACiiigAooooAKKKKACiiigAooooAKKKKACiiigAooooAKKKKACiiigAooooAKKKKACiiigAooooAKKKKACiiigAooooAKKKKACiiigCK4/1Y/30/8AQhUpqK4/1Y/30/8AQhUpoAiX/j7k/wBxf5tVHV/Eek6DcWMOr3i2r6hOLe23qxDyHouQMD6nAq8v/H3J/uL/ADavO/izodr4l1bwlo+obvIu72ZGKEgqfIYhh7ggH8KmTtb1X4saO7j1mwm1yfR45839vCk8sOxvlRiQpzjByQeAc1erwzR9Z1Oy13xo3iiymvL/AEfQo7a5W3laJrtUZyJFdeU3Iykkcjk1h6OdJt9P8ax+GGWPR73wzJcRRRx3CRl1ZlbBmYmQrnaXGAf7op3007N/n+iFqnr3S/L/ADPo+ivAYfBOjnXDpTC7ayvfCKaldRG8lxcXKNhZH+bnGcgfd9qyPGM95d+GfBU2uzWb6S+iIVk1U3hhNzxkk2/zeZsxjdxjdTl7rt/XVfnH8gWqv5X/AC/zPpWisHwOt+ngXSF1a6F3drbKHnAceYP4WPmKrZK4zuAOa3qclZtCi7pMKKKKQwooooAKKKKAIov9ZP8A74/9BWpaii/1k/8Avj/0FaloAKKKKACiiigAooooAKKKKACiiigAooooAKKKKACiiigAooooAKKKKACiiigAooooAKKKKACiiigAooooAKKKKACiiigAooooAKKKKACiiigAooooAKKKKACiiigAooooAKKKKACiiigAooooAKKKKACiiigAooooAKKKKACiiigAooooAKKKKACiiigAooooAKKKKACiiigCK4/1Y/30/wDQhUpqK4/1Y/30/wDQhUpoAiX/AI+5P9xf5tUtQFyt2+2Nn+Rfukcct6mnea//AD7yfmv+NAEtFRea/wDz7yfmv+NHmv8A8+8n5r/jQBLRUXmv/wA+8n5r/jR5r/8APvJ+a/40AS0VF5r/APPvJ+a/40ea/wDz7yfmv+NAEtFRea//AD7yfmv+NHmv/wA+8n5r/jQBLRUXmv8A8+8n5r/jR5r/APPvJ+a/40AS0VF5r/8APvJ+a/40ea//AD7yfmv+NABF/rJ/98f+grUtVopXEk37iQ5f1Xj5R71J5r/8+8n5r/jQBLRUXmv/AM+8n5r/AI0ea/8Az7yfmv8AjQBLRUXmv/z7yfmv+NHmv/z7yfmv+NAEtFRea/8Az7yfmv8AjR5r/wDPvJ+a/wCNAEtFRea//PvJ+a/40ea//PvJ+a/40AS0VF5r/wDPvJ+a/wCNHmv/AM+8n5r/AI0AS0VF5r/8+8n5r/jR5r/8+8n5r/jQBLRUXmv/AM+8n5r/AI0ea/8Az7yfmv8AjQBLRUXmv/z7yfmv+NHmv/z7yfmv+NAEtFRea/8Az7yfmv8AjR5r/wDPvJ+a/wCNAEtFRea//PvJ+a/40ea//PvJ+a/40AS0VF5r/wDPvJ+a/wCNHmv/AM+8n5r/AI0AS0VF5r/8+8n5r/jR5r/8+8n5r/jQBLRUXmv/AM+8n5r/AI0ea/8Az7yfmv8AjQBLRUXmv/z7yfmv+NHmv/z7yfmv+NAEtFRea/8Az7yfmv8AjR5r/wDPvJ+a/wCNAEtFRea//PvJ+a/40ea//PvJ+a/40AS0VF5r/wDPvJ+a/wCNHmv/AM+8n5r/AI0AS0VF5r/8+8n5r/jR5r/8+8n5r/jQBLRUXmv/AM+8n5r/AI0ea/8Az7yfmv8AjQBLRUXmv/z7yfmv+NHmv/z7yfmv+NAEtFRea/8Az7yfmv8AjR5r/wDPvJ+a/wCNAEtFRea//PvJ+a/40ea//PvJ+a/40AS0VF5r/wDPvJ+a/wCNHmv/AM+8n5r/AI0AS0VF5r/8+8n5r/jR5r/8+8n5r/jQBLRUXmv/AM+8n5r/AI0ea/8Az7yfmv8AjQBLRUXmv/z7yfmv+NHmv/z7yfmv+NAEtFRea/8Az7yfmv8AjR5r/wDPvJ+a/wCNAEtFRea//PvJ+a/40ea//PvJ+a/40AS0VF5r/wDPvJ+a/wCNHmv/AM+8n5r/AI0AS0VF5r/8+8n5r/jR5r/8+8n5r/jQBLRUXmv/AM+8n5r/AI0ea/8Az7yfmv8AjQBLRUXmv/z7yfmv+NHmv/z7yfmv+NAEtFRea/8Az7yfmv8AjR5r/wDPvJ+a/wCNAEtFRea//PvJ+a/40ea//PvJ+a/40AS0VF5r/wDPvJ+a/wCNHmv/AM+8n5r/AI0AS0VF5r/8+8n5r/jR5r/8+8n5r/jQBLRUXmv/AM+8n5r/AI0ea/8Az7yfmv8AjQBLRUXmv/z7yfmv+NHmv/z7yfmv+NABcf6sf76f+hCpTVeaRmRQYXUb05JX+8PQ1YNAES/8fcn+4v8ANqlqJf8Aj7k/3F/m1Zet6zd6dfafZadpy3txfGRU8yfykj2LuyzbWOO3AJzjik3YDZorlB4xvJ/sVrZ6RG2pXFxPaywTXeyOGSIZbMgRiVI5BC5OVyBk4bF4qu5L6fTrC0W81Fr2eOOK5uRHGkcSoWYusRIGXUAbWJJ646F7u39dP8xX/wAvz/yOtorjtY8ef2PJaWV5FpdhqcsBnmh1TV0too1DFflk2sXJIJHyjgEttOFPRaHq9vr2h2up2f8AqblNwG4Ng5wRkZBwQRkEg9RxT6XH1sX6KKKACiiigAooooAKKKKAIov9ZP8A74/9BWpaii/1k/8Avj/0FawtR8RanDr11pmk6NHeta2sd1JLLeeSCrtINqjY2X/d8A4ByclcDIB0VFczZeLpNY1GGHR7FJLWSwgv3uJ7jy2SKXfgBAjZcbOhIHv60tI8XanqmmWZ0fSxqMy2EN1dm5vViceYCVRSse13IUnkRryvIycOzW/9f1YDs6K4jWviZp+kaldW7SaYqWBAu47rVEhuc7QxEUOD5hAI6suTkDNb/iTVDpmgC9gMnM9ugMbKpw8yJ/ErDGG54zjoQeQulwWrsbFFclL4zvYrydzo8f8AZltqS6dNc/bP3u9mVQ6x7MFcuucsCOcA4GdfxBe3FjBYtaybDLfwQv8AKDlGcBhz6ihapNdbfjb/ADQm7Jvtf8DWorD1DUbqDxpo9hDJi2ubW6klj2j5mQxbTnGRje3T1rltP8S3x1Swg1HXbjT9auZf3mjarZrBauA4WRIJfKBkYAgqRI+eMjB4Fq7Ipqyuei0Vl65rDaTDbLb24ury9nFvbQtJ5as5UtlmwdqhVYkgE8cA1ztj4s1aGfVIdSsVfUDqiWNjYpMPLBNukh/e7Adn333Fd2ONucLQtf69P8wsztqK5G68TaiRb28tuun38WrW9rdRxyCaN45OQUcqCQQe6qQQR6ExW3inVLfwrDqE0VlMPPuBPe6jfJZW8KrOyIpYIx3HgD5ccHJBwCr6X+X4J/qTf3uX+uv+R2dFcjp/ja41i30Q6XpcTzaray3BWW82xwiN0VxvVG3cvwQOcDpnix4b8WTeIr2ZYrSzFrGzqzQX4lnt2DEBZ4toMbHB4Bbpz61VtQvpc6aisnU72b+2dO0q0laGS533EsiqCRFFt3AZBHzM6L06FsYODXLeJtd1eLwKs8d1d2xh+0QaheWdr5k0bRK4DBQp2KzKCW2nAPG3O4LpcpJtnf0VyiXN9qHhe0udK8Srd2e55J9UsrZZbh4lztWONUdGkzgN8nY4UEjDNMuNb13w3ZSLqy2KrLMt5eLGn2nYjME+RkKRucAuGX5eRtB+63pcS1Ouorzx/Fl6+maPay6pPB9uluWTUra0WWe5t4WwjRRBHDO4ZGyEI2h2CqMY6/w5dfbNFjlGpnUxudftDweTJwxG2RMDa46MNq8g/KvSkGxqUVm6/c3Flos13aPsa2ZJpPlDbo1YGRfxQMM9a4/xZr13Y+LbSK71+bw/YM6i1uPsytazExOT5sjKV+8oGzchxyDkgqdbAehUVzHiTVNcsdT0lLJbWPT5r2CGecsWlk3tgoqYwoxzuLE9gO9ZPirxBqdjrmoLb6lNaJZ20UtrFDBHJBK53FhdSFW8lOFAJaMYJIYkHAtfvt/X3ivrbyud7RWT4nvrvTvCl/eac0K3UUBaJpmUIG7HLED6ZIBNYOi6jrF9HqtnpmqS3ckaQtbz6xai3niLlg+6FY0O0BcoSgDNkbiBwdx9jtKK5KwuNaa51zS9N1YapJapEsV9fRxgQztnfEwhVQ21QjYwDl8E9MJot7ql1NremRapcTyWiobW61C1WGcud2cxhEDRZUAOFG7LgMcZo6XDqddRVDQ9UTW9BstSjjMQuoVkMZ6oSOVP0OR+FX6b0dgCiiikAUUUUAFFFFABRRRQAUUUUAFFFFABRRRQAUUUUAFFFFABRRRQAUUUUAFFFFABRRRQAUUUUAFFFFABRRRQAUUUUAFFFFABRRRQAUUUUAFFFFABRRRQAUUUUARXH+rH++n/AKEKlNRXH+rH++n/AKEKlNAES/8AH3J/uL/Nq53xPZ6pc+ItAfR5fs7xPOXnktjNEgMeMOoZeD2+Yc4+h6Jf+PuT/cX+bVLSauBzlj4TNpeafdy3vnXNvcXFzcP5O0TyTLg4GfkA4AHzcAAknmom8I3FvfyalpeoxQagbuaeOSe1MkYjlCBo2QOpbmNSCGHI9Mg9RRRZXv8A10/yFZfqc2/h7WEuoNRs9bgGqCAwXU1zYb4p03F1AjV0K7SSF+Y8E7tx+at60ilgtI47i4a5lVcPMyhS59cAACpqKY/MKKKKACiiigAooooAKKKKAIov9ZP/AL4/9BWuUvdM1u58e6lLpd4thBLplvE001mZkc75s7DuUB1BHdgN3Kniuri/1k/++P8A0FaloHfRr+t7mFpPha30a+eWymIt/wCzoLCOFlyUWIvhi2eSd/p296ztP8HajodrbR6FrUNvILKG0upJ7Ey+Z5QIWRB5i7Gwx67xwvHBz11FNtvf+t/8xHON4d1W21C7l0bXEtLe/dZLlZbITSiQKEZ433hUJVV4ZHUEZxyRWjr+kf25pBsfP8j9/DL5mzd/q5VkxjI67ce2a0qKQLR3Ocn8Jedp97bfbdv2rVY9R3eV93bJG+zGec+XjPv04rU1nSxq+n+QJ2t5UlSaGZACUkRgynB6jIwR3BPI61foo2SS6f8AA/yQf195hWehX0mrpqWv6jBd3EMElvbrZ2rWyRq5UuSDI5LHYuCCMDt3qqfDGrXNrFpup67HeaXFJGwDWZF3II3DoHm8wqTlRkiMEjuDzXT0UAZmuaQ2qwWzW84tryznFxazNH5io4BX5lyNylWYEZHXgg4NYyeDLsrdXVxrCyapJfpqEFytrtjhkWFYtvl7zuQqGGNwOG+9kbq6yihaf1/XYd2cyvhOeXbcajqaz3zahDezSx2/lxkRDCxom4lRjuWY5JPoBVXwPPbS6dcWWoWn2mxa42SXen+cEE0pctGN6lHGdu7JBHauwoo229f0Jsm7nM6H4QfR59Lkk1E3R06C6gy0IUyiaVXDHBwCNuDgYOc4XpRb+FLl/FFtrOr31pdy2QdbeWKwENwysCAssoch1AY/KFUZwccV01FA+ljE1W1eHxLpWrxxPKsSy2cwRCzKkpQh8AE4DxqD6BiTwDVTXPDeqXVrqS6Hq0No1+WaSG4tfNjfdEIyCQwYfdUgg8c5DZwOmoo6f1/W4763Obi8M6jaWaSWOsrFqZuZLmeVrYm3nZxhlaEODtAC7fnyCoJJy2aN/wCCdQudLitIdZt/3t293qS3Ni0kV87fwFFlQrGOPk3HIADFvm3dlRQL+v6+8wJ9E1WeKzujqdlHq9mXWO4jsGEDRvjcjRGUtj5VOQ45UdsgttPBmlm0xrtpZ6xdNcPdPNc2iELK+NxjVs7B8qgDJOAMknmuhoo63DyM+38P6PaXN1c2elWVvcXYIuJobdEebJydzAZOTzzXO33hDXZ4bKyh8QwtYQxCGUXFiGlVfJaJijBgMkHPzhsMSeR8ldlRSt0DrcytQ0NL20022imMMdhcwzrld24R9F6jr61nap4Wvbq71JtM1aOyttXVVvo5LTzXOEEZMTbwEJQAfMrjIBx1z01FO19/6/qwLTYw9Q0R9UsLnSJG+z2KRwG0lQZdJEbcCck7gCiHBAzyOapS+GdbuItRuZdfgj1a7t1tYbq3sCkdvGGJOIzKWLHJ+bfxxgDBz1NFD11YLRWRzeneG9StdBl0qXUrSCEKPsz6XZyWzxPu3FmLTPvy3Jzjdls5yafBp1/pkl9reqXC6rqLW4hiisrQwoEUkhQhdzuLNyxbAGPugEnoaKHqC0M7w9pj6N4dsdPml86WCFVkk/vv1Y/iSa0aKKACiiigAooooAKKKKACiiigAooooAKKKKACiiigAooooAKKKKACiiigAooooAKKKKACiiigAooooAKKKKACiiigAooooAKKKKACiiigAooooAKKKKACiiigAooooAiuP9WP99P/AEIVKaiuP9WP99P/AEIVKaAIDGJLt9xYYRfusR3b0p32dP70n/f1v8aF/wCPuT/cX+bVLQBF9nT+9J/39b/Gj7On96T/AL+t/jUtFAEX2dP70n/f1v8AGj7On96T/v63+NS1BZXtvqFqtzZyeZEzMobaRyrFTwfcGgB32dP70n/f1v8AGj7On96T/v63+NS0UARfZ0/vSf8Af1v8aPs6f3pP+/rf41LRQBF9nT+9J/39b/Gj7On96T/v63+NS0UARfZ0/vSf9/W/xo+zp/ek/wC/rf41LRQBWigQyTcycP8A89G/uj3qT7On96T/AL+t/jRF/rJ/98f+grUtAEX2dP70n/f1v8aPs6f3pP8Av63+NS1HNOkGzeJDvcINkbPgn1wDge54Hc0AJ9nT+9J/39b/ABo+zp/ek/7+t/jUtV7C/ttTtBc2Unmwl2QNtI5VirDB54IIoAf9nT+9J/39b/Gj7On96T/v63+NNsr231C38+zk8yLe8e7aR8yMVYc+hUip6AIvs6f3pP8Av63+NH2dP70n/f1v8arafrNlqs91FYtNJ9lkMUjtbyJGWBKkK7KFfBUg7ScEc02LXdOma1WK43G7mlgh+RvnePdvHTjGxuTwccUBtuW/s6f3pP8Av63+NH2dP70n/f1v8alooAi+zp/ek/7+t/jR9nT+9J/39b/Go7vULWxltY7qXy3u5vIgG0ne+1mxwOOFY5PHFSwTpcwiSMSBckYkjZDwcdGAPbr36jigBPs6f3pP+/rf40fZ0/vSf9/W/wAalooAi+zp/ek/7+t/jR9nT+9J/wB/W/xqWigCL7On96T/AL+t/jR9nT+9J/39b/GmT39tbXtraTSbZ7ssIU2k79o3Nz0HHrS3V5BZLEbhyvmyrFGFUsWZjwAACfcnsAScAE0AO+zp/ek/7+t/jR9nT+9J/wB/W/xrOg8UaTc6v/ZsNw5uN7Rqxt5FikdRlkSUrsdhg5VWJG1uODixqus2OjQxvfySAzPsiihheaSVsZwsaAs2ACTgHABJ4oAs/Z0/vSf9/W/xo+zp/ek/7+t/jUen6ja6rYx3lhL5sEmQDtKkEHBUqcFWBBBBAIIIIzUl1dQ2VnNdXT+XDChkkfBO1QMk4FD03DcPs6f3pP8Av63+NH2dP70n/f1v8aqaXrVrrHm/ZIr6PysbvtdhPbZznp5qLu6ds4/GodS8T6TpN8tpfXEiy7Vd/Lt5JFhVjhWkZVKxqSDy5A4PoadnsBo/Z0/vSf8Af1v8aPs6f3pP+/rf41DfarY6a9ql9cxwvdzLBbqx5lkPRQO/9KljvIJbya0STM8Kq0kZBBCtnafcHBGR3BHakAv2dP70n/f1v8aPs6f3pP8Av63+NS0UARfZ0/vSf9/W/wAaPs6f3pP+/rf41LRQBF9nT+9J/wB/W/xo+zp/ek/7+t/jUtFAEX2dP70n/f1v8aPs6f3pP+/rf41LRQBF9nT+9J/39b/Gj7On96T/AL+t/jUtFAEX2dP70n/f1v8AGj7On96T/v63+NS0UARfZ0/vSf8Af1v8aPs6f3pP+/rf41LRQBF9nT+9J/39b/Gj7On96T/v63+NS0UARfZ0/vSf9/W/xo+zp/ek/wC/rf41LRQBF9nT+9J/39b/ABo+zp/ek/7+t/jUtFAEX2dP70n/AH9b/Gj7On96T/v63+NS0UARfZ0/vSf9/W/xo+zp/ek/7+t/jUtFAEX2dP70n/f1v8aPs6f3pP8Av63+NS0UARfZ0/vSf9/W/wAaPs6f3pP+/rf41LRQBF9nT+9J/wB/W/xo+zp/ek/7+t/jUtFAEX2dP70n/f1v8aPs6f3pP+/rf41LRQBF9nT+9J/39b/Gj7On96T/AL+t/jUtFAEX2dP70n/f1v8AGj7On96T/v63+NS0UARfZ0/vSf8Af1v8aPs6f3pP+/rf41LRQBF9nT+9J/39b/Gj7On96T/v63+NS0UARfZ0/vSf9/W/xo+zp/ek/wC/rf41LRQBF9nT+9J/39b/ABo+zp/ek/7+t/jUtFAEX2dP70n/AH9b/Gj7On96T/v63+NS0UARfZ0/vSf9/W/xo+zp/ek/7+t/jUtFAEX2dP70n/f1v8aPs6f3pP8Av63+NS0UAV5oVRFIL5Dp1kY/xD1NWDUVx/qx/vp/6EKlNAES/wDH3J/uL/Nq5bxj/Z/9taR/wk/2X/hHtk/n/bdv2fz/AJPK8zd8vTzMZ4zjviupX/j7k/3F/m1S0DPMNem8NXKaXYWsGjDT2tnNnca0JZodu8jZbWzECVjgBSrKQrLs3KQKXwfZ22rP4SGqQpfeRoJkVbhd4WVJIwGw2fnXkAnkc+9enUULR3/rr/mS9Vb+un52PHNNudNvPGWgXlnFo9pNcX0sV1bW4ee9UNDLlbuckYYsMeU6k5XhjtOO6+HkOm23hZrbS47WLyby4SeK2VV8uQSt8rBejbdvB5xiupoprRWHKzlcKKKKQBRRRQAUUUUAFFFFAEUX+sn/AN8f+grXC+K7Fp/EkuhRF418SRxyF4lI2Nbgl2LD1HkrXdRf6yf/AHx/6CtS0mrjueX6pdXWr+FrbXZJILaz1C9iS/a9t2kiit0Rk2yoGQmPzsk5IGGy3y5FOsre2t9Ls/7M1PT76zfX7UxDS7RoLSI/xCLLupBPJ2NgNu4BzXp1FPr80/ut/kS1ePL5Nfff/M8lsBoh1Pwr5QhPiX+1WOrbP9f5nkzbvO/ixu+5u42/d4qzpOlWNrH4a1K3tYo765126gnuQv7yWM/acxs3Ur8o+U8cDiu2tfDKwahFc3Wq6jqCW0jSWtvdvGyW7EEZBCB2IVmUb2bg+vNbdJKyXrf8tPwKk7yv5Nfnr+Jyvw9t9NtPDtza6TFaQNDqF0k8VsqrscTMAGC9Ds2de23tiuY0gaY02kCIRHxkb4DVQn/HyUyfO87+LyduNu75f9Xt/hr1Giq+1f8Ar/hibe64nK/D/S9P0/w7dJYWNtbLJqN4HWGFUDBbiRVBwOcKAB6AYrlNK0fQbj+wtLjsbBoE1vUFu7SONNu8LNhZEHH3QnDDoF7Yr1Wihu4SV3dHkVxF5ek2VncXGm2fh+31fUYJP7UtjPaR7ZWECOnmIoQDcF3HaCFwM7cd54Jt0tvDmy21C3v7YzObeS1tmhgRCeEiDM2UBzghiuDgcACuhopK9rFS1d/66/5nk+mroY1DwwZhD/wlY1RhqRXmfzPLm3eaeu3j5N3GMbeKZJLp0mjaVZ6rBo4WSa+eO51xmkt0YXLDCQZCyykHj5lYDOCckH1uiklb+vKwpau/9b3PKPC+nWOsx+ErLVII7+2j0y/jaCeMlDsniUK0bk/dwMK2SpA7ireh6TDp1l4YvdIgRdUu7a4ie5b5pJh5LMiu55ZQVTAJ4CgDAr0yinK7Vr9/xv8A5h0XlY8x0D+yPtmgf8I9s/tfZJ/b3lf67Hktv+1d9/nbcb/mznHG6ofDmmQ6fpvg280W2ig1G+0yZJplGGuD9nDKHbqwDKuM9MYGBXqlFEveTW1+3z/zDt/X3nlvhxfDg8R+FG0oRf2x5Mw1Mx/63zfJ+f7R383dn7/zfex3rs9QZ28faNG/+oFndyL/ANdQYVB+u1n/ADNb9VL7Tor5rZ3Z45bWYTRSR43KcEEcgjBUsp9jxg4Id7u4oq1zhdMvbWXTdA8PQSoNastRVrm0D/vYAjO0kjqOQrDox4bzF55FbnijxhomiW9ndNPp017cSyW1jJPcRxxo44kLSn7iqVw2OcjABOBXU0VKSSt/XT/IfW/9df8AM5bQ5LmHQbd/DM+leIBPNLLeXn9oGOMys25imxJBjJI2kjAAGTUmvSX8ui6rFrlgItMKbRLpl0ZrgoWALFGiULheTgtwDjNdLRTYHHeG9Q06HUtRk0jXDf6BDAjyXM9+11HDPk7gs7sx+7tJXcQvB43HNHWNRsdKu/F1nqskaXGqxqbCCR8Neg24iEcYP3m3qRtGSNwJ6iu/opNJqzHFuLuji/EGkW1unh29ntoW1Nb2zt5LoqDIVDZK7uuM849a1NQOz4gaIYmbzJLO7WVQODGDEcn6Ntx/vGugqtHYRJqct8Wd5pI1iG48IoycKO2Sck9Tx2Aw+vzb+9W/r1JSt9yX3Ms0UUUDCiiigAooooAKKKKACiiigAooooAKKKKACiiigAooooAKKKKACiiigAooooAKKKKACiiigAooooAKKKKACiiigAooooAKKKKACiiigAooooAKKKKACiiigAooooAKKKKAIrj/AFY/30/9CFSmorj/AFY/30/9CFSmgCAuVu32xs/yL90jjlvU07zX/wCfeT81/wAaF/4+5P8AcX+bVLQBF5r/APPvJ+a/40ea/wDz7yfmv+NS0UARea//AD7yfmv+NHmv/wA+8n5r/jUtFAEXmv8A8+8n5r/jR5r/APPvJ+a/41LRQBF5r/8APvJ+a/40ea//AD7yfmv+NS0UARea/wDz7yfmv+NHmv8A8+8n5r/jUtFAEXmv/wA+8n5r/jR5r/8APvJ+a/41LRQBWilcSTfuJDl/VePlHvUnmv8A8+8n5r/jRF/rJ/8AfH/oK1LQBF5r/wDPvJ+a/wCNHmv/AM+8n5r/AI1LRQBF5r/8+8n5r/jR5r/8+8n5r/jUtFAEXmv/AM+8n5r/AI0ea/8Az7yfmv8AjUtFAEXmv/z7yfmv+NHmv/z7yfmv+NS0UARea/8Az7yfmv8AjR5r/wDPvJ+a/wCNS0UARea//PvJ+a/40ea//PvJ+a/41LRQBF5r/wDPvJ+a/wCNHmv/AM+8n5r/AI1LRQBF5r/8+8n5r/jR5r/8+8n5r/jUtFAEXmv/AM+8n5r/AI0ea/8Az7yfmv8AjUtFAEXmv/z7yfmv+NHmv/z7yfmv+NS0UARea/8Az7yfmv8AjR5r/wDPvJ+a/wCNS0UARea//PvJ+a/40ea//PvJ+a/41LRQBF5r/wDPvJ+a/wCNHmv/AM+8n5r/AI1LRQBF5r/8+8n5r/jR5r/8+8n5r/jUtFAEXmv/AM+8n5r/AI0ea/8Az7yfmv8AjUtFAEXmv/z7yfmv+NHmv/z7yfmv+NS0UARea/8Az7yfmv8AjR5r/wDPvJ+a/wCNS0UARea//PvJ+a/40ea//PvJ+a/41LRQBF5r/wDPvJ+a/wCNHmv/AM+8n5r/AI1LRQBF5r/8+8n5r/jR5r/8+8n5r/jUtFAEXmv/AM+8n5r/AI0ea/8Az7yfmv8AjUtFAEXmv/z7yfmv+NHmv/z7yfmv+NS0UARea/8Az7yfmv8AjR5r/wDPvJ+a/wCNS0UARea//PvJ+a/40ea//PvJ+a/41LRQBF5r/wDPvJ+a/wCNHmv/AM+8n5r/AI1LRQBF5r/8+8n5r/jR5r/8+8n5r/jUtFAEXmv/AM+8n5r/AI0ea/8Az7yfmv8AjUtFAEXmv/z7yfmv+NHmv/z7yfmv+NS0UARea/8Az7yfmv8AjR5r/wDPvJ+a/wCNS0UARea//PvJ+a/40ea//PvJ+a/41LRQBF5r/wDPvJ+a/wCNHmv/AM+8n5r/AI1LRQBF5r/8+8n5r/jR5r/8+8n5r/jUtFAEXmv/AM+8n5r/AI0ea/8Az7yfmv8AjUtFAEXmv/z7yfmv+NHmv/z7yfmv+NS0UARea/8Az7yfmv8AjR5r/wDPvJ+a/wCNS0UARea//PvJ+a/40ea//PvJ+a/41LRQBF5r/wDPvJ+a/wCNHmv/AM+8n5r/AI1LRQBF5r/8+8n5r/jR5r/8+8n5r/jUtFAFeaRmRQYXUb05JX+8PQ1YNRXH+rH++n/oQqU0ARL/AMfcn+4v82rN1jWbiyvbTT9LtIrzULsO8cc85hjWNMbmZwjEcsoACnJPpkjSX/j7k/3F/m1ZusaNcXt7aahpd3FZ6haB0jkngM0bRvjcrIHUnlVIIYYI9MggxtprlzJq9rpt9p32S4mspLmQeeHCFHVNoIHzA7sg8HGMgHgY+jeJ9W1vXdDkitLeDTNQ0qS7lRrgl0cMgGB5fONwH3hncT/CAbsvh3Vje2OoRa5GdQhhkguJZrEMkqO6sQiK67CpUBSS3H3tx5o0jwpLoraGLbUFkTTLJ7KUS2+WnRipBBDAIQUHZgQTwOtNb6+f62/Ql7Nen6X/AFOkooopDCiiigAooooAKKKKACiiigCKL/WT/wC+P/QVrB1bxNe2mo3lvpWkrqCadbC4vGNz5TAMGKpGu073wpOCVHI5OeN6L/WT/wC+P/QVrnPEeg6i/wDaV9oOoraSXln5VzEbXzmk2BtpjO4bHwxGSHH3fl45ibajdFRV3YltPFv2r7R/oW3yNJh1L/W53eYHOzp28vr3z0qrrHjO70zQ7XVUsNPitZrVJ2l1LVVtULsu4RRnYxZ8A9Qo6YJ5xBbeFL+40+zntNRGnPdaNDYX0M1p5jhVU4KEsuxxvcHcGHTjjmSTwPcLdQT2Wp28Ui6bHp0k0tgJZkRQwLQuWAjLbuQQ4OBxxzpNWcrfL8f+AZwd1Fvtr90f+D/VinfeMbn7Y1xbvMllLp+nXMUK+Wrq09yUJLFW/hwCPY4wTmrmn+JtWhvrpdXs4GtTrX2COWG4LGFGQFCR5a5+coOvVzz8vLT4BZ7SGKTUwWjsbG0LLb4B+zTebuxu43dMduuT0p+vaNc22h6/HDM9w2qTCWwjgtGaSC52rsZnBYbQ6I24qoXByTRom7ef/pSt+BT1S76f+k2f46nQaTqZ1W3nnEPlRJcywxMWyZAjFC2MDHzBsDngA55rFtPF11ctaXZ0pE0a/n8i0uxdbpGYkhGeLZhUYjghmPK5UZON/TLBNM0m1sYyWW3iWPcxyWwMZPuetYNn4RubaSztH1RX0Wwn8+1s1ttsqkElEeXdhkUngBFPC5Jwdy626f1+IvstrcTwTd65qVnqF/rsqFnvJooLeOZXjiEcrpgEQo38OMsWzjPy521kWfiXxTJbaKXt7SS6u9SvLdoVucRyJGJdu5/KBUKVx8qkkKCepA7DRdL/ALH097bzvO33M8+7btx5krSYxk9N2M98Vl2PhWa1urKSXUI5I7G+ubqFFtyrFZg/yMd5yQZCdwAyABjvVOwS3du7M+5+IkFppNrJdR2NlqE9zPamK+1FYLdHhYrITMVyVyBjCEncOAMkbnhnxDb+JdHN7bmEmOVoZfs84ni3r12SDh1OQQcDryAcgZw8H3FrsuNM1OOHUIb26uYppbXzI9k7lniZA4JH3eQynKg9Mg7+nwXcFmE1G8F5cElnkWERLz2VckhR2yWPqTUq9tSpWvp/W/8AwDI0rxDqOqtHeQ6PH/Y9xvMF0t4DKVGdrvEVACtjja7N8y5Uc7Y7XxZLfadoM1tYJ52tWzzRxyXBCxMIt4UsFOQTxnHHXB6VJpPh7UdJaKzi1eM6NblvJtFs8S7TnEbSlyCq54wit8q5Y87qmj+DrzTbjSBcawlxaaMskVpClp5bGNk2ASNvO5gMcgKDz8vIwnrFpbifkX/Bmo3+qeCtMv8AWfK+1z2yySNG+4NkZ3H5VAJ6kAYHqa5/UdfvpdJ0S/GqajZW+sXjOP7PsVuJY4PJdo0VPKkJztVmO0nJPIGMdToGkSaN4et9KuLhLpLaPyY3WIx5jHCgjccnHU8A+g6VlaFokiafotrOXhfw9K0IDRHE6iJo0ZTwMFXVsjODleoNW7Nv+v66Dl5EljfXltoEt3ZT6lrUjSYH9sxJp/kgdWb9zGQg652MfT2ztP8AHY1iyjlhWEPHrEVhI+n3qXEEm4BsrIU+ZcMARtU5BGR1rc8T+H/+Ei0+CBZbdHt7hbhFu7b7RDIQCMPHuXcPmyPmGGCntis228GXSzTTX2rrczT6pBqTstqEAaNFUxgBjhflGM5IHUsealb691+av+FyZL3Xbez+/X/gGn4d1q812GW6lsIrWzEjxwt9pLyOUdkYsuwBRlePmJI6gUa9eXq3FhpumSrb3F/IytcsgYwxqpZmVTwW6AZyATkggYKaXpd5odlZWNpLHcQ/apnuZHjwQjmRxj5uCGZRn5sjPA6ixrOknU47eS3uWtL20k822uFXcFbBUhl/iUgkEZBx0IIBANGNpuqx2Gv3FjL4wtdXWGB3uLa5lgF3bumDwsKr8uM5DLkEDnnFPs/F9wz2M+r6Wtjp+poz2U63PmvgIZAJU2ARkopb5WccEEjjM0Xhy/vNUjvfEepwXpghkhigs7M28WJBhy+55GY4AAwwA9DUNn4QuFexg1fVFvtP0xGSygW28p8FDGDK+8iQhGK/KqDkkg8YWtn/AF3/AOACt/X9feJZ+MLgtZT6tpa2NhqSM9lOtz5r4CGQCVNoEZKKTwzjggkcZrWniXXL/wAQaB5unJY6XqSyyoy3AleRPK3IJFKDy26HCsw6gnjm1Z+ELhXsYNX1Rb7T9MRksoFtvKfBQxgyvvIkIRivyqg5JIPGDTvCuo2moaVJda2txaaQrx20C2mxnQpsUyPvO5gO4Cg8/LzxTt0/rf8A4BMr2X4/8Dy9dTo7qOWazmjt5mt5XRlSVQCY2I4YAgg4PPIIrkm8SahdeD7COCRbbXr25GnMQgPlToSJnCkYwqo7jIwRt9a6nT2u206BtSCLdFB5ojXaoP03Nj6ZP1NZVt4Xjt/GNzrgunaOaP5bPbhI5SFV5Qe5ZUQY7YJ/iNLZ/wBf1qU9v6/r+mYum/E3TtR1i2toptLe2u5/s8Hlaokl3u5Cs9uF+VSR2YkArlRztu2fi+9uFtbubSI4dNur82SzC7LSIdzpvZNmADIqqPmJ+fJxjFWtI0DU9HaK0g1iL+x7dyYbYWWJlTJIjMpcqUGcDCBsAfN1Jp6ror6b8PrrSbd5rq7leQ2kkNuSVneVpImIG4KFcr8zfKMZOKOiD7TS2N7SNSOqwTziDyokuZIYiWyZAjFC2MDGWDYHPABzzXNSX91d6W+u6j4tHhyzkldLWPbbrCFDEIZGmQlmbGSFZeOByCx6rTLFNM0q1sYmLLbxLGGY5LYGMn3PWsf+wdZsGmh8P61bWtlNI8ohu7A3DQs5JYRsJUAXJJAYNgk9sKB+QLYYPEt7NDpltpUGn6rqN3a/aZJIrwx2iouAWWQI5ILHCjae+SMcsi8X3GpJZwaHpazahOkrzQXlz5CWwify3DOqOSd/yjCkHBOR3VPCM2mQ6c3h/Uxb3VjbtamW+txcLPExDHcqNH8wYAgggDJ4OeEi8IXGmpZz6Hqiw6hAkqTT3lt56XIlfzHLIroQd/zDDADJGD2PX+t7W/AOn9fP59vxEj8YXOoraQ6HpSz380csk0F5c+Qtv5UnlupdVfLb8gYGDgnI4ze8Hajear4UtLzU9wupDJ5gdVBUiRhgheMgADj0qlD4Qn00Wc2i6oIb6FJUnnu7fzluBLJ5jkqrJtbfkjBwMkYPGLuhaVfaDZafpi3IvbeJZjcXMkQV3YvuU8NgH5myMEH1XoX/AF/XyE783l/W/n6GZ4v1gafr2k2t14m/4R2yuILh5J91um90MW1d0yMOjNwOfyqrYeK7i2027ltLr/hJbcX8NnZXpaOMTtJtBzJGoRgrtgsi9MjBZTnqLjS/P8Q2Wqedt+yQTQ+Vtzv8wxnOc8Y8v05z7Ums6V/a8FrH53k/Z7uG5zs3bvLcNt6jGcYzSXT+uv8AkVJ6adv8zl9X+JMOjXk1pdf2PHc2KK19BPrKwvuKhtsCugMp2nq3lgkgZ64tap43ubM6lNYaQL2z0yCG5uJTc+W7xOpb92mw7nAB+VioPHPpfufD+pRaveXmhavFYR6hsa6jls/PYOqhPMjbeoVioUfMrrlQcdcpe+FjeLroN6QdYt44CxiyYtqld3BG7Oc44oFLR6FG/wDFd/a2Orx6hp/2G6sreG5j+y3Yl3xyOyjlo8KwKHI2sORgntcuvFv2aw1O5+xbvsGpRWG3zcb97RLvzjjHm9Ofu9eeHa14V/tebUX+2eT9us4bXHlbtnlyO+7qM534xxjFVL/wbd3dxfxxaukOn315DfSQG03SLLG0ZwJN4Gw+UONueT83ajr/AF3/AMg+15aflr+Iy+8aX9rPdtDoYuLOz1BNPkkF4Fld32BCiFcEbpFByy45IzWzoerXeoSX1vqdlFZ3llMI5EguDNGwZFcMrFFPRsYKjkVUl8K+bDex/bMfatVh1HPlfd8tom2dec+V19+nHNptPvLK8vrzT5I5Jb66gZkkj4SNQiPzuGTtBIPY9j0Itl3/AOAv1uHf5/n/AJEXi3UbrTNKtZrGXypJNSs4GO0HKSXCI45HdWIz19Kxde8V6wbW4l0KwRbK31GGykvTODJu89EkxEUIKcsu4sGzkheAa6PXtH/tuxgt/P8AI8m8t7rds3Z8qVZNuMjrtxntnvWNf+Dr24NzbWOspaabc3qXz2/2TfIJBIsjqJN4GxipJG3OWPzY+Wjp8/8A5H/gj6/15/8AAKd98TdOs9antvN0s21rc/ZpxJqiJdl8gMUt9pLKCccsrHDYU/Lut6/41n8ParBDe2NlHbT3McEQl1NUupwzqheODaQygsM/ODgHgcZuReH9TsdRuP7K1iK2026uDcyW7WW+VHY5cRyF9oDHn5kYjc2D0xm3vgO5ubnUfs2p2ttBfXcd5Iw04G4d45FdUkl3/OgIIA2ggEDdwcpX0v8AP8P+CJ7u39bkkviC+tbLXdRmnDQaTqe1oyqgfZhHGXGQM8B2YHrkAE4rrwcjI6VyureHpf7H1jToZHmOv3h3ssZUQRuiq+Tz0RGIPGSQK6oDaoA6Cq+yvl+SuLr9/wCegUUUUhhRRRQAUUUUAFFFFABRRRQAUUUUAFFFFABRRRQAUUUUAFFFFABRRRQAUUUUAFFFFABRRRQAUUUUARXH+rH++n/oQqU1Fcf6sf76f+hCpTQBEv8Ax9yf7i/zapagMYku33FhhF+6xHdvSnfZ0/vSf9/W/wAaAJaKi+zp/ek/7+t/jR9nT+9J/wB/W/xoAloqL7On96T/AL+t/jR9nT+9J/39b/GgCWiovs6f3pP+/rf40fZ0/vSf9/W/xoAloqL7On96T/v63+NH2dP70n/f1v8AGgCWiovs6f3pP+/rf40fZ0/vSf8Af1v8aAJaKi+zp/ek/wC/rf40fZ0/vSf9/W/xoAIv9ZP/AL4/9BWparRQIZJuZOH/AOejf3R71J9nT+9J/wB/W/xoAloqL7On96T/AL+t/jR9nT+9J/39b/GgCWiovs6f3pP+/rf40fZ0/vSf9/W/xoAloqL7On96T/v63+NH2dP70n/f1v8AGgCWiovs6f3pP+/rf40fZ0/vSf8Af1v8aAJaKi+zp/ek/wC/rf40fZ0/vSf9/W/xoAloqL7On96T/v63+NH2dP70n/f1v8aAJaKi+zp/ek/7+t/jR9nT+9J/39b/ABoAloqL7On96T/v63+NH2dP70n/AH9b/GgCWiovs6f3pP8Av63+NH2dP70n/f1v8aAJaKi+zp/ek/7+t/jR9nT+9J/39b/GgCWiovs6f3pP+/rf40fZ0/vSf9/W/wAaAJaKi+zp/ek/7+t/jR9nT+9J/wB/W/xoAloqL7On96T/AL+t/jR9nT+9J/39b/GgCWiovs6f3pP+/rf40fZ0/vSf9/W/xoAloqL7On96T/v63+NH2dP70n/f1v8AGgCWiovs6f3pP+/rf40fZ0/vSf8Af1v8aAJaKi+zp/ek/wC/rf40fZ0/vSf9/W/xoAloqL7On96T/v63+NH2dP70n/f1v8aAJaKi+zp/ek/7+t/jR9nT+9J/39b/ABoAloqL7On96T/v63+NH2dP70n/AH9b/GgCWiovs6f3pP8Av63+NH2dP70n/f1v8aAJaKi+zp/ek/7+t/jR9nT+9J/39b/GgCWiovs6f3pP+/rf40fZ0/vSf9/W/wAaAJaKi+zp/ek/7+t/jR9nT+9J/wB/W/xoAloqL7On96T/AL+t/jR9nT+9J/39b/GgCWiovs6f3pP+/rf40fZ0/vSf9/W/xoAloqL7On96T/v63+NH2dP70n/f1v8AGgCWiovs6f3pP+/rf40fZ0/vSf8Af1v8aAJaKi+zp/ek/wC/rf40fZ0/vSf9/W/xoAloqL7On96T/v63+NH2dP70n/f1v8aAJaKi+zp/ek/7+t/jR9nT+9J/39b/ABoAloqL7On96T/v63+NH2dP70n/AH9b/GgCWiovs6f3pP8Av63+NH2dP70n/f1v8aAJaKi+zp/ek/7+t/jR9nT+9J/39b/GgCWiovs6f3pP+/rf40fZ0/vSf9/W/wAaAJaKi+zp/ek/7+t/jR9nT+9J/wB/W/xoAloqL7On96T/AL+t/jR9nT+9J/39b/GgCWiovs6f3pP+/rf40fZ0/vSf9/W/xoALj/Vj/fT/ANCFSmq80KoikF8h06yMf4h6mrBoAiX/AI+5P9xf5tUtRL/x9yf7i/zauW8Y/wBn/wBtaR/wk/2X/hHtk/n/AG3b9n8/5PK8zd8vTzMZ4zjvigZ11V2v7ZdTTTzJ/pTwtOse08oCFJz06sOPevP7pvCTX9j/AG19jPhQWBGmf2hn7L5wkYPt8z5c7Nvl/wCxu2fLmqb/ANrfYIPs/wBt+3f8I9deTu3fafL8+Pb/ALXmeXjr82fej/g/gn/kTJ2/D8Wv8/vPVKK8o1NtDXTdabwIbddMHh66N6dOIEIm+Xyt23jzdvmZ/ixjd/DXpOj6dZ6ZpkUOnWsNrGw8xliQKGYjljjqT3J5NO2l/wCv60G9P69P8y9RRRSAKKKKACiiigAooooAii/1k/8Avj/0FaWeeO2t5J522xxIXdsZwAMk8UkX+sn/AN8f+grXn/i9NDbXNZ/4TAQkf2ch0kTctkB/M+z9/N3bc7Pmxs9qicnFXRUVdneWmoW98Ea1MjpJCk6OYnVWR87cMRgnjkdRxkDIqzXlMl1BaW08l5apdQNoGkxyRzXDQRbWlkUmV1BIjGctkEEZBGCazYEtF03xFaWU+mtbSXGlSgaNA1tbZa4Cs0Y3kH7oBkUgEr2INbSjaTS/rUiLuo362/FJntFFeY6v4Y0Wyh8WzWmm28JsIoriyVIwFtJfL3GSJekbEqpJXBO0Zo8Q/wBnG68R/wBseX/wkm8f2Dvx9ox5S+V9m7/63du2987uMVC1Drb+v+GPTqr39/baXp817fSeVbwLvkfaW2j6DmvNNb0u0nXxtqd3axSajYywSW1wygvbOLeFt0Z/gOQMlcZwM5wKh8YLomzxSfEnknWy4Ol+aQZ/I8pNvk4+YR7vM344+/u4ppXf9eQ3oes9aK53xtv/AOEXOd32T7RB9u2/8+3mL5uf9nZnd/s7q5zUD4W/smBfDxtD4cGpRnV/sP8Ax6CPy267f3ezf5fmbeMff4zS/r8g/r+vM728v7awEJu5PLE8ywR/KTuduFHHT69KsV5nH9h/d/8ACO+X/Yf/AAkFn9i+z4+z7sfvPJxxs3ddvy7t3fNR6P8A2b9o0jyPL/4TT7cP7V8v/j625Pneb/F5O3G3d8v+r2/w0R1dvO34L/P7iW7X9L/n/keoUV5hp+o2jjw5pSXCNqFn4iuDc2oOZIAftOC69VByME8HPGa6DwLBpllpC3RS2hv9Qu7mMzNgS3BSaUhNx5baqnA7AHHAoWqv/XT/ADKell/W7/yOh1XWbPRoYpL9pf30nlRJBbyTO7YJwEjVmPCk9OADV4c1yvi3S9Pv/EXhR76xtrlk1FwrTQq5A+zytgZH95VP1UHtXMQafYQ+FLK+uraJbO51eUa1cFOZLdZZgglbqYg/lgg/KF6/Lmn2G9/lf8/8j1GivL3g0y5t/I0VUbw9Jr1otstucW7ZH70RY42FsghflJ3j+9Sy+H9K06HVbmysYYZbDxDapZMiAfZEZ7cukX9xWLuSq4B3HNKPvO3n/wDI/wDyRN9Uv66/5Hp9V7O+t9QieSzk8xI5XhY7SMOjFWHPoQRVbWddstAht59Uk8i1mmETXLkLFASpIaRiQFUkbc+rKO9Z/glhLoM1xH80NxqF3NC+OJI2uHKuPVSCCD0IIIprUpqyv/XX/I2obyC4uZ4IX3SW5Cy4U4UkZAz0Jxg4HIyM9RU9eevcrp/gm38RXAZ5NK1W4ubkrlmCmeSKUepCq5OP9ge1R6DZ38Vy2jFmN3ZI2rfMDtM08ZAGT1HmtOcc42j2qW7Jvt/X+f3C/r+vw+89GorzHQP7I+2aB/wj2z+19kn9veV/rseS2/7V33+dtxv+bOccbqojSdFh+HXhq8uJdDspp7ZZZBrdtvtb2XyuPNfIAcD7rMSQN2FNU1b+vX/Ia1PVJb+2h1CGykkxcTxvLGm0ncqFQxzjHG9fzp9rdQ3trHc2z74pBlWwR+YPIPseRXn+ljTLnxD4Q1G70y1sJGsruC1M0nmnKvGIxHK4DMCm9k4B2seBzXR+Fw32nxDCV/0VNVkEIK4BDRxs/wBf3jSfjmi3T1/O36i0sn3/AOD/AJG3ZXtvqFv59nJ5kW94920j5kYqw59CpFT15RYW/h600+wtb+LTYPD8OpX6alEVRYEuBIRAJx90Db038Z8vvtrtPBHl/wBjXP2Ld/Zn2yT+zs52/Z+NuzP/ACzzu29tuMfLijf+v6/4YV2kr/1v/kPHjfQ/MdTJepGkrQvcvptyturKxU5mMflgBgRu3Y966CuA0nxT4fg8LXumT6nZT35uL2P+zY51e4kZp5MIIgdxJz0x3rduo7/TPhnLGpJ1G10krkHnzVh9R7ipbsm+3/B/r5jj70lHv/X9ehpW+uaddXcFtBOWluFleIeWwDrGwV2BIxjLDB75yMjmtCvO9ei8NJ4g8Mr4kFn/AGVHpVxs+27fs4OYAu/d8uPTdxnGOcVhyq8tloq67eaXaaEyXZs28Q2hntyPOzAGVpECt5ONm8k7dwAzmqat/Xr/AJBur/1/Xc9gqpPqdpbzzwySN5sFv9pkRI2YiPJGQADk5U8DJ9q801ez06HQtFbVNb0O+SKGYQRa9ZvDaXMZkBHlM7Hy3VPlVv3hK4IBHNbvh/8As+bxlYahdadFp+pXuhwtFHckNcZBbeu9hvcqu0EnnGM4pdbeb/J/5B0v/W6/zO2iljnhSaF1kjkUMjqchgeQQfSn1z3gdmPhsqSxijvbuODcuP3S3EgQD2AAA9gK6GmwCiiikAUUUUAFFFFABRRRQAUUUUAFFFFABRRRQAUUUUAFFFFABRRRQAUUUUAFFFFABRRRQAUUUUAFFFFABRRRQAUUUUAFFFFABRRRQAUUUUAFFFFAEVx/qx/vp/6EKlNRXH+rH++n/oQqU0ARL/x9yf7i/wA2qWoC5W7fbGz/ACL90jjlvU07zX/595PzX/GgCWiovNf/AJ95PzX/ABo81/8An3k/Nf8AGgCWiovNf/n3k/Nf8aPNf/n3k/Nf8aAJaKi81/8An3k/Nf8AGjzX/wCfeT81/wAaAJaKi81/+feT81/xo81/+feT81/xoAloqLzX/wCfeT81/wAaPNf/AJ95PzX/ABoAloqLzX/595PzX/GjzX/595PzX/GgAi/1k/8Avj/0FalqtFK4km/cSHL+q8fKPepPNf8A595PzX/GgCWiovNf/n3k/Nf8aPNf/n3k/Nf8aAJaKi81/wDn3k/Nf8aPNf8A595PzX/GgCWiovNf/n3k/Nf8aPNf/n3k/Nf8aAJaKi81/wDn3k/Nf8aPNf8A595PzX/GgCWiovNf/n3k/Nf8aPNf/n3k/Nf8aAJajlt45pInkXLQvvTkjBwVzjvwT1pPNf8A595PzX/GjzX/AOfeT81/xoAloqLzX/595PzX/GjzX/595PzX/GgCWiovNf8A595PzX/GjzX/AOfeT81/xoAloqLzX/595PzX/GjzX/595PzX/GgCK00+KyubqWBnC3UgleLjar4wWHGecDPOMjPc5tVF5r/8+8n5r/jR5r/8+8n5r/jQBLRUXmv/AM+8n5r/AI0ea/8Az7yfmv8AjQBKeR1x71W0+xi02yS2g3FVLMzvjc7MSzMcdyxJPuak81/+feT81/xo81/+feT81/xoAloqLzX/AOfeT81/xo81/wDn3k/Nf8aAJaCARgjINRea/wDz7yfmv+NHmv8A8+8n5r/jQBFpmnxaVp8dlbM5ghyIlfH7tM8IMAcKOB3wBknrVqovNf8A595PzX/GjzX/AOfeT81/xoAlqO4iM9tLEkskLSIVEseNyZHUZBGR7g0nmv8A8+8n5r/jR5r/APPvJ+a/40BsFpaw2NnDa2ybIYUCIuc4AGBzUtRea/8Az7yfmv8AjR5r/wDPvJ+a/wCNAbEtFRea/wDz7yfmv+NHmv8A8+8n5r/jQBLRUXmv/wA+8n5r/jR5r/8APvJ+a/40AS0VF5r/APPvJ+a/40ea/wDz7yfmv+NAEtFRea//AD7yfmv+NHmv/wA+8n5r/jQBLRUXmv8A8+8n5r/jR5r/APPvJ+a/40AS0VF5r/8APvJ+a/40ea//AD7yfmv+NAEtFRea/wDz7yfmv+NHmv8A8+8n5r/jQBLRUXmv/wA+8n5r/jR5r/8APvJ+a/40AS0VF5r/APPvJ+a/40ea/wDz7yfmv+NAEtFRea//AD7yfmv+NHmv/wA+8n5r/jQBLRUXmv8A8+8n5r/jR5r/APPvJ+a/40AS0VF5r/8APvJ+a/40ea//AD7yfmv+NAEtFRea/wDz7yfmv+NHmv8A8+8n5r/jQBLRUXmv/wA+8n5r/jR5r/8APvJ+a/40AS0VF5r/APPvJ+a/40ea/wDz7yfmv+NAEtFRea//AD7yfmv+NHmv/wA+8n5r/jQBLRUXmv8A8+8n5r/jR5r/APPvJ+a/40AS0VF5r/8APvJ+a/40ea//AD7yfmv+NAEtFRea/wDz7yfmv+NHmv8A8+8n5r/jQBLRUXmv/wA+8n5r/jR5r/8APvJ+a/40AS0VF5r/APPvJ+a/40ea/wDz7yfmv+NABcf6sf76f+hCpTVeaRmRQYXUb05JX+8PQ1YNAES/8fcn+4v82qWol/4+5P8AcX+bVm6xrNxZXtpp+l2kV5qF2HeOOecwxrGmNzM4RiOWUABTkn0yQAa9Fcx/berDxBbwzWMiM2lTXEmnRyRsWmWRFAWQ4BBBOCSvBGQDwM6L4iNHJrUF9Z6e9xpNg166abqguh8hIaJyY0MbggcEHr7Uf8H8L/5B1+78bf5ncUVw+veJtctLG+MVtDa3q6Pc3sKLdiSNQhTDNmHO8BidvK5GOc7hpHxVdWlrepf6cv261sobiOOKcslw0mVChigx8425x3Bx2o6X/rr/AJB/X5f5o6aikUsUG8ANjkA5AP1paACiiigAooooAKKKKAIov9ZP/vj/ANBWpaii/wBZP/vj/wBBWud8XeKrvwxA9ytlp5tY4yxn1DVFtBK+CRFF8rbnwp4baORgnnBew0m9jp6KyL/X0tPBs/iGKBpY47E3iws20sNm8KTzg9u9Y8vizX0uri1j8N27TRWovkLanhGhJYbWIiJWXI+6AV6/PxyPR2Yl7yTXX+v1OvoritX+JFjY3EUNrJpYY2kd266nqiWbFZASqxgq29sA5ztAyvzcnEuueOpNO0ODWbGzsX02a1W4juNS1NbMTFlLLHGNrlnwOjbRyME84Nr36AvetbqdhRXI3PjlzqtnZabYW80l1ZxXiRXd8ttNOr7jsgUqRI4CnILKBleeci3e+LPsdr4im+xb/wCxGRdvm487dEknp8v38d+lNpoSd1dHR0VzNx4ve1vtaNxYxx6bogzdXTXPztmFZBsj24P3sHLLjg85IGZbfEu1mh1HP9lXM1rp81/FHpmqrdhljGWWQhB5bcr2YHnBOKm/+ZSTbSO5orkG8V6+129rD4bt2mNoL6IvqW1DFkja5ERKy5x8oDLyfn45h1P4k2NqbVLaTS0lms471k1TVEsvkkBKqmVbe3B44A455p7f16/5Mm6/r5f5o7WiuPk8b3d46/8ACOaTFfRnS4tT8y5vPs4MblxtGEf5vk47cnkYGbWla9qGqeK0WGKEaPPpUN5GWl/eguW5K7PwxvwMZ70dbf11/wAmN6b/ANbf5o6aisHUtevo9Wm07Q9Mj1Ce1gWe5865MCqrFgqodjbnOxuDtA4ywzWZa61quu+L9LfTZRBoUmni9IEqiSYNwA6NC3Q8YV16k5PSjdpf11f6A9E2djRXIavr2u2XjC9tNKs4L+3t9Kju2hnufICnfKGIYRuSxCqADheDyO9k+K7q/eNPDmlrfN9iivZvtFz5GxJASiLhG3OdrccAYGW5o6X/AK6/5BL3XZ/1t/mjpqK5Gfx/Amk3d9bWEtwI7S2urWEPte4WclVGMfKQykHr0zW9Yasmo391FboGgt0iPnh/vO67iuMcYUoc553+1OzA0KKwLTX9R1HUXOnaTFPpUV01rJdG72zbkJV2WIpgoGBGd4JwSAeM8+nxB/s/SrKO+utNOoXUl02/U79LGERxzsg+ba2W6AAKc4JJHdB1sd/RXJt42a48M2utaZb2BtJA/n3V9qa29tAVfYV80K+4l8hSF2kDORwC3T/G1xrFvoh0vS4nm1W2luCJrzbHCI3RXG9Ubdy/BA5wOmeHZ3sB11FYGvajq1n4g8P2+mx27W13dPHdebMUYqImbAGxs9Ceo5UDoSRkaB4s1Zl08axZRva39/cWcV4twPM3q0pXdEEAC7YyMhiemRyaQr6nbUVw+nfE3TtR1m2t4pdLa1vJzbweVqiSXe7kKz24X5VJHZiQCuVHO3oda1m4sLqysNNs47zUL0uYo5p/JjVEALszhWIHKjhTksOgyQdLj62NeiuK0PxJqlw1gmqpKlxc6rfW7Qq0eEWPzCqE7fmACgAgqTwSTyKms/G87+K4dD1KxsbeeeKSQQwaos9xBtUMFmiCjZlT1VnGRjJBBo6X8r/qHVr5fodfRXF2HjXWtSj0trbw3ABq9qbi0L6lgJtClvNxGSo+b5SocnjIXJxch8W3moQafFpOlRTaldQvNNBcXZiit1Rtj5kCMWO/hcJyAScUPR2A6iiuTXxld302nW+jaOst1exXLOl3deStu8EixyIzKj5+ZiAVBzgdjkOt/GF3qdtpy6LpKTX93bvcSwXN35SQKjbGBdUck7zgYXBAJJHc8v6/rQDqqKwvCWpXmp+D7a+1LcLp/N8wMFDKRIwAO3jIAA49KwbDx9czx6Ra21lDcXd3p8N2UvdQSCa43hsrAPLCyuAhJH7tRlegPDSuC1jzHd0VR1nUv7J0S6vzGZDBEWWPu7dl/E4FZdrealB4mOm3Fz9s8vSlnI2KnmTeYwJyBwOAMdv1qb62/rZv9A/r8Uv1Oiorm/C2p6xfanrtvrv2ZJLO6jSOK2JZIlaFH27yAWPzdSB9BVnUtSuxrJs9OG97Sza8liyF88ncscZYg7QSrEkDPyjtkUN2V3/XUaTZt0VzEXje0ku0UQMLVtKGpfad3HIz5eMddvP5Uy48WaipumstEW4j0yJH1Ldd7HjYoJGjiGwiRlUg/MUHIGeuG9N+glrt/X9XOqorlbzxlPDPqT2el/arHTLRbueYTlZHVoy6iOPYdx+XByVwCDk8gU7zxZrF14H1LVNMt9M82FA1vdWepi5t5BnDYfy871xypTHI+brgFdWudtRWKupXdt4ntrC+27L+0aWNUO4QyxlQ6BsAsCHBGQD8reoA0r+S6i025k0+JZrtYmaCJ22q7gHaCewJxSbsrlJXdixRXA6B4iluPEFjZnxJcvfTIJLvSdasRZyBCrHNuPKQsVZcfecbQec4NXtKudc17QI5RqwsUW/vUubtI4/OWOOeRI1QMhQcKAWYHgepyKtZXEdhRWL4Tv7nUvD0dzdTfacyyLDdFAv2mJXIjlwvHzKAcjAOcgAEAQ+Lb3ULO1s/sJvIreS42XdzYWv2ieCPaSGSPa+csFBOxsAnjuE9AOgorgYvE1w/gfXdQ0nxFFqyWiE2108SpdQuPvJNHsVQQRx8inB5HGTseJNU1ux1TSUsUtotPmvYIZ52YtLJvYgoqYwox1bJPYDuDql3t+IuZWb7fodNRRXPwatNYeJtVsdXuQbbyBf2bsFXbCAFlTgDO1gGycnEgouM6CiuDm1jXv7G0q61CbUbS11AzXE9zptiLia0U/NBEY/Lk42Ehm2nkdRmr2iX+o+IfDPmaH4is7+GS5VYtURV85YCAW3JsCCcZIwVA6Er1WjUDrqKwPCt7c3S6lFNfPqVva3Zht790RWmAVd4OwBTtcsuQo+7jGQSZPFV9eaTpkOp2khEFncJJeR4GHtydrnJBI2g7+Mfcx3oA26K5y/1TU5/EU9poZSVbDT2uJYmA2zzSZEEZc9B8rE49V7GsTQPEUtx4gsbM+JLl76ZBJd6TrViLOQIVY5tx5SFirLj7zjaDznBoWrt/X9aB0ud9RXMf2prY+Ilrp90ttBpk1ncyRRxtvklZHiAdyQNvDnCjPqSeAOno6JjegUVx6eJL3TvC+qrfOLjWNOuTZx71C/aJJCPs5wAB8wkQHAxnd6VZ0rUb3SdWvdM8R6j9qEdml7BdOiR7kVQkwwoA+Vxu9hKB2FHS/8AXf8ALUX9fodPRXCzavr/APYWlXd7LqFrb6hJLNcXGnWIuJ7ND80EflhH428MxVuR2zkWtD1DUfEPh2RtC8SWeoQvdKsWpqi/aI4Cqlw8ewIJgSQAVAwVJXqCB5nYUVgeFb25ul1KKa+fUre1uzDb37oitMAq7wdgCna5ZchR93GMgkyeKr680nTIdTtJCILO4SS8jwMPbk7XOSCRtB38Y+5jvQBt0Vyut3us6hq91p3hm9W2ey09p3cxK4ed/wDUoSQeMIxOOcFadL4jm1a38PJoz+RNqriebKhmhgjG6UEHvu2xnuC/tQtQOoorzvU/Et7Z6lcLqeu3Gg3v2t4bG2vbJRptwBkx7rjyifnUZOJAQcjbxg7viTVNcsdT0lbNLWGwmvYIbiYuXlk3tgoq7cKMfxk57ADqBa287fiKXu3v0v8AgdPRRXG+INd1GzPioW908QsLCCW3KRK7RM3mbiAVO4/KOCD06UA3Y7KiuZ8NTNc30jDXPEV6sacw6ppQtI+T1BNtESeOgJ68iumoGFFFFAEVx/qx/vp/6EKlNRXH+rH++n/oQqU0ARL/AMfcn+4v82rN1jRri9vbTUNLu4rPULQOkck8BmjaN8blZA6k8qpBDDBHpkHSX/j7k/3F/m1S0Acve+D7jVIn/tPVzPPLp01lLILZVBMjq2QoOAo27dpySOrE5Jpv4EvLiC7jutVtI0uNJk0tILLTfIhgViCrInmEjHOQSQeMbcHPaUUdb/1rf/Nh1v8A1pb/ACRgar4WXVZpWkuzGsmlTaaQseTiTb8+c9tvT361RudHmvfE2hLcySSTadCz3k0Vs0UE68FF+YsMiRFbAYkbecBhnraKd3/Xz/zFbS39dP8AJBRRRSGFFFFABRRRQAUUUUARRf6yf/fH/oK1zmseEZ9R1y51Czv7a1a7sxZyySWImnjT5s+TIWATO7kFWBIBxXRxf6yf/fH/AKCtLLcwQPEk80cbTMVjV2ALsAWwM9TgE/QGk0mrMav0Mi48Ptc+BX8OyXYDPp/2I3KxcZ8vZv2bvxxn8albQ91/Pc/aMedYLZ7dnTBY7s5/2unt1rSt7iG7t47i1mjnhlUNHJGwZXB6EEcEVJTl7z97+v6uKPupJdP+B/kjmIvC+o6bJDLoWr29s5s4bW6+02RmWXyhhZFAkXY2CRyWHTjjmPUvB1zearNe22qQxy3NiLKe4nsFluAg3ZMUgKqm7dkjYwJA4FdRNNFbW8k9xIkUMal3kkYKqKBkkk9AB3pFuIXkaNZo2dFDsoYZVTnBI9Dg8+xol717iiuVKxympeDL7UtBttGm1Sym09bOK2niudLEvzIMGWIlx5bkHjd5gBAI75NU8E3V3/akFhrC2ljqsca3Mclr5su9ECBlkLgAEKgIKknBwQTkdbFLHPCksDrJHIoZHQ5DA9CCOop1Nt3bBJJWRgv4VguF8QR3k7SQa2V3qg2NEBCsfDZOT8uc8YqCTw/reoaLf6drWvwXCXNjJaIbfT/JALrtMjgyMWYdgpQctkHjb0tFTbSxSk0010MpNE2agLn7RnFgLPbs9DndnP6frWVB4U1HS/ssmg6vb206WENlcm6smmSYRDCOqiRCjDc3cggjjiuqop7f16/5smy/r5f5IxE8OuNUub2W/ed7jTY7BjJGoYlWc+YSuBk+Z0AA4/JmleHJtJvNPkhvY3ittOjsZkaA7pdn3WU7vk5JyCGzxyK3qKNv69f82N67/wBbf5IwdS0G+k1abUdD1OPT57qBYLnzrYzqyqWKsg3rtcb25O4HjKnFTaX4cg0i6tWtJW8i1sEsY43GWwpyGLev4VsUUf1+f+bAyJtC83Xr7UvtOPtenpZeX5f3NrSNuznn/WdMduvNZkXhK+06O3Oh6xHaziwhsbl5rQyrKsQIV0XeuxxubklhyMg4rqqKVtLf11/zYPV3f9bf5I5seDLaG+0KS1upYrbR4DAbdlDfaVC4Tc3+yfm47mr/AIb0MeHtFjsPtLXRRmPnOuGYZwoP+6gVc99tatFVcDn7bw/qVhfuumavFbaXLdNdSW32PfNuZtzqspfaEZskgoSAxAI4IqweELzTVtJ9G1WGC+g89HkuLMyxyxSymTaUEikFTjBDeuRzx1VFLsD1d2czfeF766v9M1FdTtZNQsY5IzPeaeJgN5BLRKHXy2GNoOW+Xg7upND8IPo8+lySaibo6dBdQZaEKZRNKrhjg4BG3BwMHOcL0rpqKFoK3UzNW0qa/u9MubW5jt5LC58795CZFkUoyMuAy4OG4OTg9jWfB4S8mz0m3+27v7O1GS+3eV/rN/m/J14x5vXn7vTnjo6KBnPaRoGp6O0VpBrEX9j27kw2wssTKmSRGZS5UoM4GEDYA+bqTb1rR57+6s77TbuOz1CyLiKWaAzRsjgB0ZAykg4U8MCCo6jIOtRQHW5y1l4NlgW0N1qz3Elve3V28ohCM/nhxgYPy7d/B56dBVbSPA11pk2k51OzFrpYlWK2tNNECyB0KlnO85kzglhgHn5cnI7KilZWt8geruYOkeGP7Kg0KP7X5v8AZFm1rnytvm5CDd1O37nTnrVVPCd3Yi0n0bVIoL63WaNpLi0MsUsUkhk2lA6nIOMEN65Bzx1FFN6u4HPaZ4STS9Q066jvJJTZwXKSeYg3TyTyLI8hIOF+ZTwBj5u2KrW3hC70yGxfSNUihvbVJYXlntDIksUknmY2B1IYHGDux1yDnjqqKHq0wMvQdGbRfDsOmSXbXbxh91w6BWcsxbJA4z83b9K5+58CXlx4ZtPD76rZz6bFZx20sV3pizHKAjzYjvGxyD/EHAIBA657SigForIytc0ltQ8L3Om2zYkMIELSHOHXBQk/UCm2FmbrWE15vMgaaxW3a1liKtGQ5Y5J9zjp2zmteijrf+v61FbSxm6dpH9n6tq175/mf2lOkuzZjy9sSR4znn7me3Wq8ttJaeNI79YWeG+tBayuik+W8bM6ZwOFIeQZOACFHcVtUUdir3OQg8ArDbpF/acjbdUN6CYQB5OCotsZ+6E+XP445NWtS8L3lxeag2lastjbasFF/G1r5rkhQhaJtwCMUAHzK44Bx1z0tFGlrBd3uYkHh1rO41SWwvmtmvbeKGFljDG28tCqt82Q3XOCO3estfA8ssetTXt5ZDUNWgWF5rHT/Ij+XJDuhkYyNk8ksOAAMck9fRR1uTZJcvQ52e01G5163uGO6TTLGQb1gKRXFxIF+6pbOFCHjd/GBuyDjXmtpL/R3truSSCWeHZJJayGNo2IwSjDkEHoat0UDOdj0DV7m6szrusW15bWUonhW3sTBK8ighTI/mMCOSSFVcnHQZU5954Iv5NEt9Ls9Yt0tlvbi7uYrmxaSO6EkryCNwsqHapfkZw2BkYyD2VFPpYP6/r7zMt01mCOyjuZrK5bzmFzJBatCoj2Nt2qZWIO7aM5bPPA6hdX0+9vPIm0vUmsLq3cspeMywyAjBWSMMu4dxhgQQOcZB0qKT1DY5i48Iz6hp+rf2nqMUmo6pbJbSXFvbGOJEQsVxGXY5+dsksc57dK1tX0n+1Usl87yvsl5Fdfc3b9hzt6jGfWtGijt/WwrJ38yvE12dRuFlVPsgRPJIXDFvm3ZOTkfdxwO/WsrxP4Xi8SpaB7l7UwSfvGRATNA3EkJ9FcAZx6Ct2igZlarpuoXFzb3Wj6p9hnhVkMc8Jnt5VOPvRhkO4Y4YMMZIOQayL3wlqdzpN9HBrkdtqGpXEct7cpaMI3RVC+WiLKGQFVALby3JwRxt6yigNtjEsbLWdL0mO2WXTJTHLEkSWlg1vHFAGAYbTM3IXOCDxx8p6VsTQx3FvJBOgkikUo6MMhgRgg0+ih6rUFpsc9ofhMaR4butLm1K6uZrov5l8reVNjbsTBHQqiooI7rnvSR6Bq9zdWZ13WLa8trKUTwrb2JgleRQQpkfzGBHJJCquTjoMqeiop3d7h0sZtxpHn+JrLV/P2/ZbaaDytmd3mNGc5zxjy+mOc+1WbJrto5ftwQN5ziPYuMx7jtz8x5x78+g6CzRSAwrzwvHd+LrTW/tUkawJiW1C/LO67hG5Pqu9+O+R/dFHifwvF4lS0D3L2pgk/eMiAmaBuJIT6K4Azj0FbtFAGXqum39zPb3Wkan9huIAybJojNbyq2M74w65IwMMGBHPUEise98Jard6XepHrsdvqOozRteXMdo6xvGgx5aIJQyAgAFt5bk4I429ZRQGxiWNlrOl6THbLLpkpjliSJLSwa3jigDAMNpmbkLnBB44+U9K2JoY7i3kgnQSRSKUdGGQwIwQafRQ9VqC02MXwt4d/4RrSntZL2S/nklLyXMqhWcABUBx/dRUXPfbnvUei+FotG13UtQS5aVLtv3FuUCraqzF5FXHXdIxYn6DsK3qKd3e4dLHM3fhvV7i3vNOGvI2k3nmLJHc2ZluUSTO5ElMgXAydu5GwODnFaWpaIt/badBHMYUsbqG4XK79wj/h69/XmtSil/wPw2B66P8Aq+5Xia7Oo3Cyqn2QInkkLhi3zbsnJyPu44HfrWRqPhf+0Jdaf7Z5f9qW8MGPKz5Xl7uevOd3TjpW/RQJpPcKKKKBhRRRQBFcf6sf76f+hCpTUVx/qx/vp/6EKlNAES/8fcn+4v8ANqlqJf8Aj7k/3F/m1S0AFFFFABRRRQAUUUUAFFFFABRRRQAUUUUARRf6yf8A3x/6CtYXmtceO7+KUfJZ6XE0OfWV5N5H/fpB/wDrrdi/1k/++P8A0Faqz6Z5ms2+owyCN0jaGZSmRNGeQOowQwBB54LDHzZCav8A15D6f13PO/DbyaN4d8H3GiX11fXGoWrLPayXLyxuiW7N8sZO2PZIqLlQOuDkmrnhg67INJ1We/tIItQgZ55pdcmuTOTEWylu8SxxsrAEhCAFDDB7dxY6DpGmXL3Gm6VZWc8iCN5be3SNmUAAKSBkgYGB7UWmhaRp9/PfWGl2Vtd3GfOuIbdEklycncwGTk881Undt9/w3Eea3X2iHw1rOmay1+1xeaHPcx3VvrL3dreCNFJlUsQ8R3OPkUCMg4+bgDr7hBpes+E1tGkPneZZyeZK8jNH5DSZZmJLENGvLH+I+tbNl4f0bTftH9naRYWn2oYuPItkTzuv3sD5up6+ppsGh21tf281skUEFnbmG0toYgiQ7j8xAHHQKBgDA3f3qL+X9a/8MN7W9fxt/kUvCsrCfXbIcwWepvHDyeFZElI57BpGGBwMYroKp6Vpy6ZY+Tv82V3aWaXGPMkYlmbHOBk8DPAAHarlLol5IXVhRRRQAUUUUAFFFFABRRRQAUUUUAFFFFABRRRQAUUUUAFFFFABRRRQAUUUUAFFFFABRRRQAUUUUAFFFFABRRRQAUUUUAFFFFABRRRQAUUUUAFFFFABRRRQAUUUUAFFFFABRRRQAUUUUAFFFFABRRRQAUUUUAFFFFABRRRQAUUUUAFFFFABRRRQAUUUUARXH+rH++n/AKEKlNRXH+rH++n/AKEKlNAEBkEd2+4Mcov3VJ7t6U77QnpJ/wB+m/woX/j7k/3F/m1S0ARfaE9JP+/Tf4UfaE9JP+/Tf4VLRQBF9oT0k/79N/hR9oT0k/79N/hUtFAEX2hPST/v03+FH2hPST/v03+FS0UARfaE9JP+/Tf4UfaE9JP+/Tf4VLRQBF9oT0k/79N/hR9oT0k/79N/hUtFAEX2hPST/v03+FH2hPST/v03+FS0UAVop0Ek3EnL/wDPNv7o9qk+0J6Sf9+m/wAKIv8AWT/74/8AQVqWgCL7QnpJ/wB+m/wo+0J6Sf8Afpv8KlooAi+0J6Sf9+m/wo+0J6Sf9+m/wqWigCL7QnpJ/wB+m/wo+0J6Sf8Afpv8KlooAi+0J6Sf9+m/wo+0J6Sf9+m/wqWigCL7QnpJ/wB+m/wo+0J6Sf8Afpv8KlooAi+0J6Sf9+m/wo+0J6Sf9+m/wqWigCL7QnpJ/wB+m/wo+0J6Sf8Afpv8KlooAi+0J6Sf9+m/wo+0J6Sf9+m/wqWigCL7QnpJ/wB+m/wo+0J6Sf8Afpv8KlooAi+0J6Sf9+m/wo+0J6Sf9+m/wqWigCL7QnpJ/wB+m/wo+0J6Sf8Afpv8KlooAi+0J6Sf9+m/wo+0J6Sf9+m/wqWigCL7QnpJ/wB+m/wo+0J6Sf8Afpv8KlooAi+0J6Sf9+m/wo+0J6Sf9+m/wqWigCL7QnpJ/wB+m/wo+0J6Sf8Afpv8KlooAi+0J6Sf9+m/wo+0J6Sf9+m/wqWigCL7QnpJ/wB+m/wo+0J6Sf8Afpv8KlooAi+0J6Sf9+m/wo+0J6Sf9+m/wqWigCL7QnpJ/wB+m/wo+0J6Sf8Afpv8KlooAi+0J6Sf9+m/wo+0J6Sf9+m/wqWigCL7QnpJ/wB+m/wo+0J6Sf8Afpv8KlooAi+0J6Sf9+m/wo+0J6Sf9+m/wqWigCL7QnpJ/wB+m/wo+0J6Sf8Afpv8KlooAi+0J6Sf9+m/wo+0J6Sf9+m/wqWigCL7QnpJ/wB+m/wo+0J6Sf8Afpv8KlooAi+0J6Sf9+m/wo+0J6Sf9+m/wqWigCL7QnpJ/wB+m/wo+0J6Sf8Afpv8KlooAi+0J6Sf9+m/wo+0J6Sf9+m/wqWigCL7QnpJ/wB+m/wo+0J6Sf8Afpv8KlooAi+0J6Sf9+m/wo+0J6Sf9+m/wqWigCL7QnpJ/wB+m/wo+0J6Sf8Afpv8KlooAi+0J6Sf9+m/wo+0J6Sf9+m/wqWigCL7QnpJ/wB+m/wo+0J6Sf8Afpv8KlooAi+0J6Sf9+m/wo+0J6Sf9+m/wqWigCL7QnpJ/wB+m/wo+0J6Sf8Afpv8KlooAi+0J6Sf9+m/wo+0J6Sf9+m/wqWigCL7QnpJ/wB+m/wo+0J6Sf8Afpv8KlooAi+0J6Sf9+m/wo+0J6Sf9+m/wqWigCvNMrooAfO9OsbD+IeoqwaiuP8AVj/fT/0IVKaAIl/4+5P9xf5tVLVNdtNGubSPUA8MN0zILptoijYKWCuScjIBwcYyMZBIBur/AMfcn+4v82rE8V+HpfFNrFpNw6R6VIS92yORMxXBjVeMAbsMTnPygYOThMZq6XqC6rpsN7HBPbxzDciTqFcrnhiATjIwQDzg8gHIq3VLSE1CLSYI9ZeGW9RdsskGdsmDgNggYJGCR2JIBOM1dqna+hK8wooopDCiiigAooooAKKKKACiiigCKL/WT/74/wDQVrDuvE32DxHqFndoptraztpYhGhMsksskiBBzg5KKB05JycdNyL/AFk/++P/AEFa5PxL4Lm17UNSuG+ySRzW1oIIbld6PJBLJJtkXBGxtwU4yeTxwMg+j7/8EvTeM7WzsLqfUtO1CyntGhElnIkby7ZXCI6+W7KwLZHDE/KeM8Uq+MrdbS+e903ULK6sniRrGVY2mkMvEezY7Kdx4HzcEHOBzWSvg2d9Fu7e20Xw9ock1xauItNU4ZYplkYvII0zkAgLs4P8R3fLJ4n017KbVNcmvLa1jLWMkEkwcojwyMf3pA+RDuAL8hQSx6U9Fv8A1sLpoP1Dx3NFYX/2PQ9QXULCS2We1uBEColfAwRLtbgdQxGWHowCv44lstY1iG/0m7ey0+eFHubdExbI8UbEy5ky2C5z5YbAHI6E5emw6h4q/wCEivreXTpTc/ZFtntbhpbVmhYuUE+wb+cZYJwWIwSprWvPC+o3un+KI2e1jm1oxtEBIxWMiGNCGO0H7yHBA6Y6dKWvNqC2Zua/qn9j6Sbzdj9/DFnyvM+/KqdNy/3uueOuDjBzZPG1pHqEkDadqH2aG9WwmvtkfkxzMQFB+feQSyjcFIG7kjBxd8TaTPrOhfYrV40k+0W8uZCQMRzI56A84U496yrjwtezaZqFsstuHudai1BCWbAjWWJyDx97EZ46dOaI/Hrt/wAFfpcf2V3/AOA/1NzWdZg0S2hmuIZ5vPnS3jSBAzM78KOSO/ft345rGh8d28kpSXR9UtxFdpZ3bypFttJXKhFciQ7t29DlN4AYZIrU17S5tUTTxbtGv2W/huX3kjKockDAPNZ134bvLi01SJJIA15q1vex5Y4CRtASDx1/dNjtyOfQhq/e7/8AyP8Am/uE90v66/8AAEu/HVnaXEqtpupSQQ3n2GS5jiQos5wFTG/cdxZQCFIBYZI5xq6NrSawlyDZ3NjcWk3kz210E3xttVhyjMpBVlOQT19c1k/8IzefZruPzIMza3HqK/MeI1eNiDx97CHjp05rU0vTJrLVtZupWjKX9yk0QUnIAhjQ5465Q9M8Yoh8N3vb9F/m/uDdv+ur/SzM7U/EtzbLqD2UMcq29xDYQhlbLXMjKMkj+BfMXOOThuRirWjajfnVr3SNZktpru2ijuFntYGhSSOQsB8jM5BBRh94546VlPpMt0us6QkogvF1BNUs3cna43JIue+3ejKcdBj1FXLbw/dajdX194iAtp7uOKBYdM1CZfLjjLMP3qiNslnbOABjA5oj8K7/APAX63F1f9df8vxOkrmtM8TXt34j1W0v9MawtLKziuYRKwaaQM0gLMFJCj93wvXucE4GlF4fs4by3uUm1EyWyBED6ncMhABHzIZNrnnqwJPrxUA0WVvFWpahMyG1vLCG1CqTvBVpSxPGMYkGOfWk7208y1a2vl+auZ2k+INXkuNHn1ZbQWeuKTbQwwustq3lmVUdi7B8orZICYI6HPGh4nutS07TpdQsdRsbO2tomkmFzYPcs+OgXbNHz2xzkkVnaT4f1eO40eDVmtDZ6EpFtLDM7S3TeWYld1KKEwjNkAvknqMc6OsaZe63YadBOtvCEvIbi8iWVmUrGd4VW2jd86p1C8Z+hqVm/d/rUmN7a7/r5Ff+2dW0zwZBd63Bavrc0ZC2tuCkbSkFgnJYgKoJY5PCsR6U618QTnSvD9/eJEItUjiSbYCPLlkQMhGT93dlccnLLzwak8QeHJtZmW4ttYvtPmjt5IUWBYSjb8ZyJI3I6AZGDisptFuLbw14b8NT3Ru7uGe2lllIU7Ut2WRjwq/LlVQHGfmXPOTQtXr3X3a3/ATutuz+/Sx2VFFFIYUUUUAFFFFABRRRQAUUUUAFFFFABRRRQAUUUUAFFFFABRRRQAUUUUAFFFFABRRRQAUUUUAFFFFABRRRQAUUUUAFFFFABRRRQAUUUUAFFFFABRRRQAUUUUAFFFFABRRRQAUUUUAFFFFABRRRQAUUUUARXH+rH++n/oQqU1Fcf6sf76f+hCpTQBEv/H3J/uL/ADapagMYku33FhhF+6xHdvSnfZ0/vSf9/W/xoAloqL7On96T/v63+NH2dP70n/f1v8aAJaKi+zp/ek/7+t/jR9nT+9J/39b/ABoAloqL7On96T/v63+NH2dP70n/AH9b/GgCWiovs6f3pP8Av63+NH2dP70n/f1v8aAJaKi+zp/ek/7+t/jR9nT+9J/39b/GgCWiovs6f3pP+/rf40fZ0/vSf9/W/wAaACL/AFk/++P/AEFalqtFAhkm5k4f/no390e9SfZ0/vSf9/W/xoAloqL7On96T/v63+NH2dP70n/f1v8AGgCWiovs6f3pP+/rf40fZ0/vSf8Af1v8aAJaKi+zp/ek/wC/rf40fZ0/vSf9/W/xoAloqL7On96T/v63+NH2dP70n/f1v8aAJaKi+zp/ek/7+t/jR9nT+9J/39b/ABoAloqL7On96T/v63+NH2dP70n/AH9b/GgCWiovs6f3pP8Av63+NH2dP70n/f1v8aAJaKi+zp/ek/7+t/jR9nT+9J/39b/GgCWiovs6f3pP+/rf40fZ0/vSf9/W/wAaAJaKi+zp/ek/7+t/jR9nT+9J/wB/W/xoAloqL7On96T/AL+t/jR9nT+9J/39b/GgCWiovs6f3pP+/rf40fZ0/vSf9/W/xoAloqL7On96T/v63+NH2dP70n/f1v8AGgCWiovs6f3pP+/rf40fZ0/vSf8Af1v8aAJaKi+zp/ek/wC/rf40fZ0/vSf9/W/xoAloqL7On96T/v63+NH2dP70n/f1v8aAJaKi+zp/ek/7+t/jR9nT+9J/39b/ABoAloqL7On96T/v63+NH2dP70n/AH9b/GgCWiovs6f3pP8Av63+NH2dP70n/f1v8aAJaKi+zp/ek/7+t/jR9nT+9J/39b/GgCWiovs6f3pP+/rf40fZ0/vSf9/W/wAaAJaKi+zp/ek/7+t/jR9nT+9J/wB/W/xoAloqL7On96T/AL+t/jR9nT+9J/39b/GgCWiovs6f3pP+/rf40fZ0/vSf9/W/xoAloqL7On96T/v63+NH2dP70n/f1v8AGgCWiovs6f3pP+/rf40fZ0/vSf8Af1v8aAJaKi+zp/ek/wC/rf40fZ0/vSf9/W/xoAloqL7On96T/v63+NH2dP70n/f1v8aAJaKi+zp/ek/7+t/jR9nT+9J/39b/ABoAloqL7On96T/v63+NH2dP70n/AH9b/GgCWiovs6f3pP8Av63+NH2dP70n/f1v8aAJaKi+zp/ek/7+t/jR9nT+9J/39b/GgCWiovs6f3pP+/rf40fZ0/vSf9/W/wAaAJaKi+zp/ek/7+t/jR9nT+9J/wB/W/xoAloqL7On96T/AL+t/jR9nT+9J/39b/GgCWiovs6f3pP+/rf40fZ0/vSf9/W/xoAloqL7On96T/v63+NH2dP70n/f1v8AGgCWiovs6f3pP+/rf40fZ0/vSf8Af1v8aAC4/wBWP99P/QhUpqvNCqIpBfIdOsjH+IepqwaAIl/4+5P9xf5tUtRL/wAfcn+4v82rnvFupN4eutP1yWeVbGHzbe6iDHY29cxtt7tvRVHf94R3pXsB01FUNDtbmz0K0h1CZ57sRAzyOxbdIeWxntknA7DAq/VPR2EndXCiiikMKKKKACiiigAooooAKKKKAIov9ZP/AL4/9BWpaii/1k/++P8A0Fa4rxRc6hFrd1oljqE1vca0kUli6zHdG0e4zBR/Cu1Ezju57mk3YdjtpriG32faJo4vMcRpvYLuY9FGepPpRNcwW7RLPNHE0z+XEHcAu2Cdoz1OATgehrh21q51Wy07WrS6lS2vtVtIokjlIUxj74IBxy5cH12j0rNtokvR4R1fUNUu21K91R/PtpLtmjDiOYNGsedqGP7uVAPHOSc0a/jb77f5iTvf0v8An/kejLf2bmIJdwMZnaOICQHey53KPUjacgdMH0qxXl+naLbtD4bs1uL9IpdY1EuwvpvMIAmGBIW3r90Z2kZOT1Jz1/gmaeTRLiK4uJrj7LqF1bRyTuXfy0mZVDMeWIAAyck45zVdbf1/Woldq/8AXX/I3YLiG6hEtrNHNGSVDxsGGQcEZHoQR+FSV5vpf2nW9S0SzvtS1EQSxam8qwXskTSFLpFTLIwb5QeMEccdCQeo8IXVxdeCLSW7nknmVJIzNIcu+x2UEnucKMnualu0bjWrSOgorzTw/p0+oW3hV7rWtZf+1NNaW+H9oyjziqRlcENmMgnqm0t/EWyczaeLnV7zw/p15qWoi3ayvll8m8kiebyp40RmdSGLAfxZBPOeCQaas7ev4XDrY9FqOa4htow9xLHEhdUDSMFBZiAo57kkADuTXC+GUurd/DF7NqmoXlxqUUsd0bm6d0cCMsp8vOxWGwDcqgnnJJJNdBqMrS+ONGs3H7hba5uhnoZFMaL+Syv+dLd6AtbmjFrWlz6tLpcOpWcmoQrultEnUyoOOSmcgcjqO4q7Xn2n+V/wjHhfyv8Aj/8A7YOc43+bul+0Zz32+bnvXT/27qH2Z5f+EV1ferhRD5tpucEH5h+/xgY7kHkcdcC1V/66f5h1t/XX/IsX/iTQ9KvEtNU1nT7K5kAKQ3F0kbsCcAhWIJ5GKkuNb0qz1KHTrvU7OC+uADDay3CrLJk4G1CcnkHp6VyWqXFzbN4g13TNcmhubHy2k0p7aPbvESssMhIZmLbsAxsBlsDcRWdrTyyP4vvUMUNrbywC+tJeZrgpDG6+VJ0izuCgFX3MDjaTmjX+uwa9D0meeK2t5J7mVIYYlLySSMFVFAySSeAAO9VbXWdLvrBb6y1KzubRnEa3EM6vGWLBQoYHGckDHqcVn+LbJNU8MtG8tvAfOglQXrbYndZVZY39mYBe/XoehxtOju9V8R+JYtYjtYo3sLeCeG1maWOOT96TlyqktsZCflBAKjnANJuyb7DSurnbUVkeEr6fU/Buj3122+e4sopJGH8TFASfx61r1clytolbBRRRUjCiiigAooooAKKKKACiiigAooooAKKKKACiiigAooooAKKKKACiiigAooooAKKKKACiiigAooooAKKKKACiiigAooooAKKKKACiiigAooooAKKKKACiiigAooooAKKKKACiiigAooooAKKKKACiiigCK4/1Y/30/wDQhUpqK4/1Y/30/wDQhUpoAiX/AI+5P9xf5tVLWNKfV1toJJo1tEnSaeIxbml2MHQBtwCjcoJyDkccdatlyt2+2Nn+Rfukcct6mnea/wDz7yfmv+NAEtFRea//AD7yfmv+NHmv/wA+8n5r/jQBLRUXmv8A8+8n5r/jR5r/APPvJ+a/40AS0VF5r/8APvJ+a/40ea//AD7yfmv+NAEtFRea/wDz7yfmv+NHmv8A8+8n5r/jQBLRUXmv/wA+8n5r/jR5r/8APvJ+a/40AS0VF5r/APPvJ+a/40ea/wDz7yfmv+NABF/rJ/8AfH/oK0Pa28l1FcyQRvPCGWOVkBZA2NwB6jOBn1wKjilcSTfuJDl/VePlHvUnmv8A8+8n5r/jQAxdOslgihWztxFC/mRxiJdqPnO4DHBySc+9QLoOkLqT6gulWIvXcO1yLZPMZgCAxbGSQCRn0Jq15r/8+8n5r/jR5r/8+8n5r/jQBBDo+m207T2+nWkUrTNO0kcCqxkYYZ8gfeI4J6kVYgtoLVWW2hjhV3aRhGgUMzHLMcdyTknvSea//PvJ+a/40ea//PvJ+a/40ARxadZQSRyQWdvE8QcRskSgoHO5wCBxuIBPqetSQW0FtbiC2hjhhGcRxoFUZOTwPcmjzX/595PzX/GjzX/595PzX/GgBkNhZ26wLBawRC2QxwBIwPKU4+VcdBwOB6CiPT7OGSOSG0gjeIOsbLEAUDHLAHHGSAT6kU/zX/595PzX/GjzX/595PzX/GgBqWNpEsAjtYUFvnyQsYHlZGDt9ODjioNQ037Zc2V1DKIbizl3o5XcGQjDoRkcEfkQpwcYqz5r/wDPvJ+a/wCNHmv/AM+8n5r/AI0AV4tG0uDVpdUh02zj1CZdst2kCiVxxwXxkjgdT2FXai81/wDn3k/Nf8aPNf8A595PzX/GgCtcaJpV5qUOo3emWc99bgCG6lt1aWPByNrkZHJPT1oudD0m91KHULzS7K4vbfHk3MtujSR4ORtYjI5JPFWfNf8A595PzX/GjzX/AOfeT81/xoAZJp9nMtys1pBIt2u24DRAiYYxh+PmGOOe1U30G0g0KXStFht9Kt5cqVtYFRVDH59qrgBiM4PYkHBxir/mv/z7yfmv+NHmv/z7yfmv+NADoYY7eCOGBFjijUIiKMBQBgAU+ovNf/n3k/Nf8aPNf/n3k/Nf8aA2JaKi81/+feT81/xo81/+feT81/xoAloqLzX/AOfeT81/xo81/wDn3k/Nf8aAJaKi81/+feT81/xo81/+feT81/xoAloqLzX/AOfeT81/xo81/wDn3k/Nf8aAJaKi81/+feT81/xo81/+feT81/xoAloqLzX/AOfeT81/xo81/wDn3k/Nf8aAJaKi81/+feT81/xo81/+feT81/xoAloqLzX/AOfeT81/xo81/wDn3k/Nf8aAJaKi81/+feT81/xo81/+feT81/xoAloqLzX/AOfeT81/xo81/wDn3k/Nf8aAJaKi81/+feT81/xo81/+feT81/xoAloqLzX/AOfeT81/xo81/wDn3k/Nf8aAJaKi81/+feT81/xo81/+feT81/xoAloqLzX/AOfeT81/xo81/wDn3k/Nf8aAJaKi81/+feT81/xo81/+feT81/xoAloqLzX/AOfeT81/xo81/wDn3k/Nf8aAJaKi81/+feT81/xo81/+feT81/xoAloqLzX/AOfeT81/xo81/wDn3k/Nf8aAJaKi81/+feT81/xo81/+feT81/xoAloqLzX/AOfeT81/xo81/wDn3k/Nf8aAJaKi81/+feT81/xo81/+feT81/xoAloqLzX/AOfeT81/xo81/wDn3k/Nf8aAJaKi81/+feT81/xo81/+feT81/xoAloqLzX/AOfeT81/xo81/wDn3k/Nf8aAJaKi81/+feT81/xo81/+feT81/xoAloqLzX/AOfeT81/xo81/wDn3k/Nf8aAJaKi81/+feT81/xo81/+feT81/xoAloqLzX/AOfeT81/xo81/wDn3k/Nf8aAJaKi81/+feT81/xo81/+feT81/xoALj/AFY/30/9CFSmq80jMigwuo3pySv94ehqwaAIl/4+5P8AcX+bVLUS/wDH3J/uL/Nqpazq02kW4mj0m81CMKzStbSQIIQBnLGWROOvTPQ5xSbtuNK5pUVS0bUxrOjWuora3NotzGJFhulCyKD03AEgcc9e9Xap6aC3CiiikAUUUUAFFFFABRRRQAUUUUARRf6yf/fH/oK1LUUX+sn/AN8f+grWH4g8VjSDdwWenXmoXFrbfaJzbxqyW6kHaXyyls7W+VAzYB45GU2krsaV2dDRXNR+Lm+wWbJpd5qNy9lFd3a2CJtt1dcgne65zhsKu5sDpyMvufGdol6ltp2n3+qu9nHfBrJEK+Q5YBtzuo/h+79454BwcU1Z2f8AX9WJj7y5kdFRXGaj43uE/tKXSrLz7KHQzqdteOF8t2w5XI3h9p2gY2g5B5HFa2ieJxqt2tnc6beafctbLcx/aVQLPGTgsm12IwSOH2sNw464S1/r1/yY3or/ANdP80btFc7q/iy30TVLuK8WaSK3treUpBb7nzLM0Qwd/PIHy7Rj1OcC7o2vLq093bS2F3p13aFPNtrvyy21hlWBjdlIOCOucg5FC1VxtW3/AK6mrRXM6l44stLur+OXTtSlh02WOO8uYYVaODeqsrY3bmHzjIRWIwcjGCXP41traxvZ9R03UbKSzkgSS2lSN5CJnCI6iN2BBJPGc/KeOmQLa2OkorlH8eQxPdJcaFrEL2LL9tDpDi1RgCsjMJCGUjJ+Qsw2nIHGd/VtRTStKnvXUyeWvyoDguxOFX8SQPxoeiuLrYuUVzFzqXiCbUn0vTH09Lqyso7m7lntpGjmdywWOMCQFP8AVtliWxkcGtvR9Sj1nRLLUoVKR3cCTKrdV3AHH607B/X9f1+pcorI8Q3uo2dpG2nPZ20eWa5v785htI1Uksy70LZwB94AZyTxg50HifUJfBUWrQaWdQu5N6oLd1jhkClsT5ZsrEwUMMbmwwwG7y3ZNjWrsdRRVDQr6XU/DunX9wqLLdWsczhAQoLKCcZ7c1zOl+LdSvfE0dnK1iwkupoJdMjicXdlGgfZPKxYja2xcfIo/erhm/ivlalykppx5kdrRWbpWptez31pcKq3VjP5UmwYVlKh0YZPdWH4hq0qkYUUUUAFFFFABRRRQAUUUUAFFFFABRRRQAUUUUAFFFFABRRRQAUUUUAFFFFABRRRQAUUUUAFFFFABRRRQAUUUUAFFFFABRRRQAUUUUAFFFFABRRRQAUUUUAFFFFABRRRQAUUUUAFFFFABRRRQAUUUUAFFFFAEVx/qx/vp/6EKlNRXH+rH++n/oQqU0ARL/x9yf7i/wA2rn/F2ma1qr2MGnQWNzpySGW8trq7eAzlcFEysb5TOSy4GcAdMg9Av/H3J/uL/NqloAr2L3klmjalBBb3Jzvjt5zKi88YYohPGP4R/WrFFFABRRRQAUUUUAFFFFABRRRQAUUUUARRf6yf/fH/AKCtc7q2ja0up6lc6AbFhqtqsMpvJHU27oGCuoVTvBDcqSv3evPHRRf6yf8A3x/6CtS0mk1ZjTtqcBP4BdLq3uW0Pw/rkjWEFrMNUH+oeJdu6NvKfcpB5XC/dHPPEpi1ew8dTWmg22mOY9DtY3jkZraKPEkwDIFV8Af3PQj5hjnuqKb1evn+N/8AMUUox5V2S+5r/I4ibwVfW2jyaVpslvLBLoLaWZp5GRlcBtrbQpBBL88jGON1bsGjXEXiOx1Bni8q301rR1BO4uXQ5HHT5D+nFbVFC0d/66/5sJe8rP8Arb/JHJeIvCl9q+sXd1bS26xzQWUaiRmBBhujM2cA9VOB7+nWtiz0ua38UanqTtGYbuGCONQTuBj35zxj+IY59a1aKForDk+bf+un6HL3Xhm8n/4SPZJAP7UuYJYcsflCRxqd3HByh6Z7Umu+GL3VLrUZLeWBRdfYNm9iMeROZHzgHqDx79cV1NFK1v67BfW5zeq+Hru+tvEccUkIOqwLHBuY/KRHt+bjjn0zVrxXZTXnhmZbaNpZoHiuUiT70hikWTaPc7MfjW1RRstBLR3OYuLXUptSfXPC0ljdx6nZRwv9puGREClikqFUbdxI2V+XOB8wq1p/hKxsLawjWfUC1lbJbLs1CeONgq7cmNXCE8k5xnp6Ct2in/X9feBgyaRqGkQQnwzO0+2UtNbapfzSrOpXHEz+Y6EEAjAIPII5yF0jRLqy0G+gunh+138s1xIkJPlRPJ/CpIyQO5wMnJwM4G7RSaunf0Hs0Zej2d5pWhaRp5WCU29vHBcOJSNu2PGUG35vmAGDt4JPbB5+w8K6tBJpmnzjT10/S717yO9ikf7TMSXO0oUAQneQzb23DPA3cdpRVNty5iVFKPKYWhRNNrmtaqMeRcyxwwEfxrEuC3/fZcfRRW7RRSGFFFFABRRRQAUUUUAFFFFABRRRQAUUUUAFFFFABRRRQAUUUUAFFFFABRRRQAUUUUAFFFFABRRRQAUUUUAFFFFABRRRQAUUUUAFFFFABRRRQAUUUUAFFFFABRRRQAUUUUAFFFFABRRRQAUUUUAFFFFABRRRQBFcf6sf76f+hCpTUVx/qx/vp/6EKlNAEBjEl2+4sMIv3WI7t6U77On96T/v63+NC/8AH3J/uL/NqloAi+zp/ek/7+t/jR9nT+9J/wB/W/xpYLmC6jL200cyK7IWjcMAynDDjuCCCOxFSUARfZ0/vSf9/W/xo+zp/ek/7+t/jSvPFHLHFJKiSSkiNGYAuQMnA78c0W9xDdwrNazRzRNkB42DKcHB5HuCKAE+zp/ek/7+t/jR9nT+9J/39b/GpaKAIvs6f3pP+/rf40fZ0/vSf9/W/wAalooAi+zp/ek/7+t/jR9nT+9J/wB/W/xqWigCL7On96T/AL+t/jR9nT+9J/39b/GpaKAK0UCGSbmTh/8Ano390e9SfZ0/vSf9/W/xoi/1k/8Avj/0FaUXELXLW4ljM6IHaIMNyqSQCR1wSDz7GgBPs6f3pP8Av63+NH2dP70n/f1v8adNNFbW8k9xIkUMal3kkYKqKBkkk9AB3pwIZQVIIIyCO9AEf2dP70n/AH9b/Gj7On96T/v63+NKLmA3TWwmjNwqCRog43hSSAxHXBIIz7Gi4uIbS3ee6mjhhjGXkkYKqj1JPAoAT7On96T/AL+t/jR9nT+9J/39b/GpaKAIvs6f3pP+/rf40fZ0/vSf9/W/xpkuoWcIkM13BGInVJN8gGxmxtB54JyMDvkVYoAi+zp/ek/7+t/jR9nT+9J/39b/ABqWigCL7On96T/v63+NH2dP70n/AH9b/GpaKAIvs6f3pP8Av63+NH2dP70n/f1v8alqOeeK2gea5lSGJBlpJGCqo9yelACfZ0/vSf8Af1v8aPs6f3pP+/rf41LRQBF9nT+9J/39b/Gj7On96T/v63+NS0UARfZ0/vSf9/W/xo+zp/ek/wC/rf41LRQBF9nT+9J/39b/ABo+zp/ek/7+t/jUhIVSWIAAySe1JFLHPCksLrJHIoZHQ5DA8gg9xQAz7On96T/v63+NH2dP70n/AH9b/GpaKAIvs6f3pP8Av63+NH2dP70n/f1v8alooAi+zp/ek/7+t/jR9nT+9J/39b/GlNxCtylu0sYndS6RFhuZQQCQOpALDJ9x61JQBF9nT+9J/wB/W/xo+zp/ek/7+t/jUtMkniieNJZURpm2RqzAF2wTgepwCcegNADfs6f3pP8Av63+NH2dP70n/f1v8alooAi+zp/ek/7+t/jR9nT+9J/39b/Gq15relafe29nf6nZ2t1dECCCe4VHlJOAFUnLc8cVdJCqSxAAGST2o6XAj+zp/ek/7+t/jR9nT+9J/wB/W/xp8Usc8KSwuskcihkdDkMDyCD3FOoAi+zp/ek/7+t/jR9nT+9J/wB/W/xpzzRRvGkkiI0rbY1ZgC5wTgepwCfwpJbiGF4lmljjaZ9kYdgC7YJwPU4BOPQGgBPs6f3pP+/rf40fZ0/vSf8Af1v8alooAi+zp/ek/wC/rf40fZ0/vSf9/W/xqWmTTR28LzTyLFFGpZ3dgFUDqST0FADfs6f3pP8Av63+NH2dP70n/f1v8alqOOeGYyCGVJDE+yTawOxsZwfQ4I496AE+zp/ek/7+t/jR9nT+9J/39b/Gq8+taVa6Wup3Op2cNgwBW7kuFWIg9MOTjn61ahmjuIEmt5ElikUMkiMGVgeQQR1FADfs6f3pP+/rf40fZ0/vSf8Af1v8aj1DUrHSbNrvVLy3srZSA01zKsaAngZZiBVSz8T6DqNvc3Gn63p11DaLvuJILuN1hXk5cg4UcHk+hoAv/Z0/vSf9/W/xo+zp/ek/7+t/jUFpq+m39il7Y6ha3NrI+xJ4Z1eNmzt2hgcE54x68VcoAi+zp/ek/wC/rf40fZ0/vSf9/W/xqWigCL7On96T/v63+NH2dP70n/f1v8alooAi+zp/ek/7+t/jR9nT+9J/39b/ABqWigCL7On96T/v63+NH2dP70n/AH9b/GpaKAIvs6f3pP8Av63+NH2dP70n/f1v8alooAi+zp/ek/7+t/jR9nT+9J/39b/GpaKAIvs6f3pP+/rf40fZ0/vSf9/W/wAalooAi+zp/ek/7+t/jR9nT+9J/wB/W/xqWigCL7On96T/AL+t/jR9nT+9J/39b/GpaKAIvs6f3pP+/rf40fZ0/vSf9/W/xqWigCL7On96T/v63+NH2dP70n/f1v8AGpaKAIvs6f3pP+/rf40fZ0/vSf8Af1v8alooAi+zp/ek/wC/rf40fZ0/vSf9/W/xqWigCvNCqIpBfIdOsjH+IepqwaiuP9WP99P/AEIVKaAIl/4+5P8AcX+bVz/iESXvibR9JmuLm2sLqK4kkNtO8DSyIE2J5iEMOGdsAjO30BroF/4+5P8AcX+bVFqGmWGr2htdVsre+tyQxhuYlkQkdDtYEUho8w02a/ex0zR9JmF5aXmoamxmk1OSza4ZJyUHnxIzZILthcbtpOcAg68S3ssugaVq+tMiy3V5C62GpvI0iopKwtPhHLrg5OA3y8knJPZz6DpF1px0+50qxmsi5kNtJbI0ZYnJbaRjOSTn1NUdR8I6ZqUmlxS2lp/Z2nh1Fg1srQurLtC7egA4PQ9KHqrBJ3d0cvp8Jvtd0M3N3eXCWOq3tvazG7k/eRojY3YYByCChLZJ2nJOTmv4bgk02DwveW17e77/AFG5t7iJ7p2haPE7ACInYpBRTkAHrknJz6C2j6Y9ta276daNBZsr20RgUrAy/dKDGFI7EdKemnWUaQIlnbqtu5khURKBExzll44J3NyPU+tPqvL+vxISs2+9/wDgfcWaKKKCgooooAKKKKACiiigCKL/AFk/++P/AEFa4TxF5mleJ/Eur6fLcJeQ6FA6sZ3ZI8yTAv5ZJT5Qu7pjIJ/iOe7i/wBZP/vj/wBBWmvYWkl/HeyWsDXcSGOO4aMGRFPVQ3UA+lId9Gv63TPO/E1rHZWOraTZalf3dlc+Hbm7mWa+lmZXTb5biQsWUPlwVztbYcD72V8U7lsri106XVM6ZpayPcSa7JZwWoKthy6kySyHaOHDL8vVSSD3djoWk6XbzQaZpdlZw3BJmjt7dI1kOMfMAADx61EfDOgl7VjomnFrNdlsfskeYF9E4+Uewpyu42X9b/lcfNt/Xb/L/h9zA8NXEt34wW5uH3zTeHLGSRsY3MXlJPHvWL4tjGoaT4vutU1O7tpNPlW3tYVuXiiEZjjKgx52Sb2dhuYE84BBUY9FttOsrNlNpZ28BSFYFMUSrtjXO1BgfdGTgdBmoLzQdH1G8S71DSrG6uUQxrNPbI7qhzlQxGQOTx7mqur39fxd/wDgEa2t6fgrf8E4XVZtf1DV9emtpra0/smVVgnuNbmtI7ZfKVxI8KxMkikliS5OQCOMU7VZZ2l8Z351q9jvNI8uSzt4bt1iif7MjD92Dhw78bWBHXABJJ7i70HR7/UIL++0qxuby3x5NxNbI8kWDkbWIyMHnjvVCDwjpo8RX2sX1ta3tzPcJPbvNbKz2pWNE+VjkjOwHIx+lStrf101LjZX/r5HHa7YKbTxNMZLqKe41DTQ+bl2EZLwE7VYlVIJ4wPQdOK6nw7E2neJ9a0qK5u57SGO3miW7upLhkZw4YB5CWwdgOM4BzjrW1No+m3F09zcadaS3EiqryvArOwVtygkjJAYAj0PNWFt4UuJJ0hjWaUBZJAoDOBnAJ6nGTj6mhaIl6pI8+1iSU3PjW/XWb6O60cpJY28d26xwt9mRlzGDhw78bWBHXABJJgv7nxFqeoa3cRyW1i+lugiluNbntEtR5SPveFYmSRSS2S5OQCOMV10HhHTR4ivtYvra1vbme4Se3ea2VntSsaJ8rHJGdgORj9Kv3eg6Rf6hBf3+lWNzeW+PJuZrZHkiwcjaxGRg88d6I9L/wBeZUmn/X4HIazc38N/4q1CG7umuNKsYpbSGOaTyY3aJtzeUpAk6A4YEccAEnMuu48LeGLufQtXup7mWKFit7qTzBIzKqvcBn3sgCscsBsGM7eK7VLeCOeWaOGNZZgBJIqgM+OmT3xmqdhoGj6VFPFpmk2NnHcf65Le2SMS/wC8ABnqevrSJXS/9f1/Xnwt8muaJoOuo16ll/osUsMMWtzX88LmTb5gaZFZVIGMZZSV4A+bKeIbAW0PijRhe6jLZJpttdos1/NI6SNJIrYctuAIRflzt46cmu6tPD2i6fYy2Vho9hbWszbpYIbVEjkPqVAwTwOvpVmbTrK4M5uLO3lNxF5MxeJW82Pn5GyOV+ZuDxyfWn1uK2jXc848dXc1vZ61LpM2pI+i2yq13PrT20Fs+wMiqq5aeRtykiUENnG7tUvia5muNH8XajPrF9Y3ek2yizFvdvCqBrdWDlFIDlnZ1BYHG35cEZrtn8L6BLLFLLoemvJDB9njdrSMlIsFfLBxwuCRt6YJrH13wR/bmoEzTad9iaHyFWTS0e5t4yu1khnDDYCM9VYjJwcYAF2LTSs/66GDqc2varrGsLBNDbrpcUTQTS65NZCBWiD+c0aRMkq7t3MhK/IRgYbPb6k16/hxmt2uWuzGh3aYYTITkZKef+7x1+9298VJe6DpGpXVvc6jpVldz22PIluLdJHiwcjaxBI5GeKv0PVErSxzfhn+1/tc39q/8JBs2fL/AGr/AGfszn+H7N82f97is/xDpseveKY9N0671S3uECTX9za6pcRR28QPyoEVwnmPjHThdzHnbntKx77wj4b1O8e71Lw/pV3cyY3zXFlHI7YGBliuTwKOqfYOjF8TEvoUllGzLJfstopU4I8w7WOfZdx/CqfjWSa18MRixuJbNje2cQkgbayq1xGpA/AkY6VvvbwyNEXhjYwtuiJUHyzgrlfQ4JHHYmie2guoxHdQxzIGVwsiBgGUgqcHuCAQexFC3+Yzzy+0+XTo/EU1vq+rldIlhkso5NRmcRkojsGJbMqsf4ZCwAzjGTTdRk8Q6hrGu3VrNa2zaZdCKCa51ya1jtlCKyl7dYjG6tuJJckkHAIwMehSWNpKs6y2sLi4x5waMHzcDA3evAA5qvc6FpF7qUOo3ml2VxfQY8q6lt0aWPByNrkZGCSeKFdNN/1sLuefeM7+7WTUtR02bUIm0+6hia7m1g28Eb5jPlRW6ZWbO4581QTuwGIwBY1hroP4r1RNT1FJ9Kv4PskaXkixRjyoGZTGDtYNk5DAjk4wSTXbXPhzRL29kvLzR9PuLqWMxSTy2qM7pjG0sRkjHGKsvptjJHOj2duyXLBp1MSkSkAAFuPmOFA59B6ULRf15f5Cd9TmJmjvG8Yy6hfS6atq6QLdxyFGt40gSUOCD03SMcd+hyOKf4B1G+1i0vL/AF1pYdW8xYrjTyxVLQBQUATOMuG3luvzbc/KMbMuhW8+qzXMyQzW9zGnn200QdXkjbMcgycAjoeCThORt5mvdGsb/wAwz20XmS+WJJRGu9xG+9QSR0Bzj0ySMHmmv6/rzKepT8WPcW2gvf2cssb2EiXTiMn95GjAyIQOuU3ceuKwdSuHuPh5r2vLds/meZf2Ls5ZIliA8koM8A+WG467j611uqW1xe6bLbWdxHbSSjYZHi8zCn72BuHOM4PQHBIPSoLrRYp9KtdMiZYrGExrJFsz5kadI/YEhc8HIyO+Ql/X9fJfiLt/Xy/P8BmtPevoRewGoLcNtIGnfZ/OHrj7R+7x6559Oap+F/7V3XP9q/27jC7P7W+w4752fZfwzu9sd66GigXSxyHiG2t7661LRNGthJqWrRouo3LMStpDt2h2JyN2AdiDq3zHAy1dHqOmQanpb2F3lonCgkhWPBBB+YEZyAc4yDyMHmqd94R8N6nePd6l4e0q8uZMb5riyjkdsDAyxXJ4GK11VUUKgCqowABgAUraWZV3e6M/StHstB0UWFpmO1iDHcSFIBJJJYYyefvH5j1JJya5/wAH6aJ9Tn120utTGlyR+TYwXWpXFwJ1zzcESuwAbA2Y/h5/iwOvlijnheKZFkjkUq6OMhgeoI7iszTvCvh7SLv7VpOhaZY3G0r51tZxxvg9RlQDind3uxdLDMm88ZYwfL060zz0MkrdvcLGf++6gYm78eT284YRW2mI0RDFeZZHDkEcggRqM9RmtxIY45JHjjRXkILsqgFyBjJ9eAB+FUb3SI7vU4LzKArE9vPG6b1nhbqhGQM7gCCc8bhj5qXb5/qPv/Xb/I5PwPqNzqOtz299qNxNDp8JTTCzOBfW5cr9pYk/vD8qpk+m/wD5aCtPxlfa/aPYDSLWzaBr23UySahJC7MZMFCqxMNh4yd3c/L69Emn2cb27R2kCtaoY7crEAYVIAKrx8owBwPQVYp9vL/P+v60Jaumu/4f1/XcpSwXWoaHLb3ZFldTwMjm0nZvKYgjKSYU8dQcCuf8KX1x4hma6vJmZbO0WxuIAx2G6z+/3LnDYwgBI4y3qa6uQOY2ETKr4O0suQD2yMjP5is7T9Km0/R5beK5j+2TNJLJciHCmVySWCbumTwNx4AGT1o7/wBf1/ww+iX9f1ojN8K3kw8DmQ7pXs2uYIiSSZFhldEOT1JVBzWW18tr4K0KzlTUJItQtllvLmzsprgkFQ8gPlIxDSFiM8cFiDkCuwsLCDTdNgsbYHyYIxGu45JA7k9yepPc1FpGm/2Tp4sUkD28TEW67ceXH/CnXnb0B44AHbJJa3/rv+f6B2+f9fI4zwXJp954H8KLGRBqcdo66c93aS7EkCYc7coG+UnHIyN204zV/wAK6jPYeHYba00m81QR3lzDJcWckIjLCZtzgSSLhSS2FXdtwVycZPSXGh6Td6Wmm3WmWc9gmNtrJbo0S46YQjAx9KtW9vDaW0dvaxRwwRKEjijUKqKBgAAcAAdqd9bg9ShHrEoS9lv9KvNPgtFZ/PuHhZZVGclRHIx6DPzAda5dNGe78Cpf3r2sOp6ldQalML58RSS71aOBz2UAJGMA4IBwTwe4ngiubeSC5iSaGVSkkcihldSMEEHggjtTJ7S2ubN7S5t4praRDG8MiBkZcY2lTwRjtUrTX0/r8vuD+v6/E42xju9U1fxZHq32WCN7OCGWOzmaRIZgshJ8wqpL7DEc7QR8o7AnpPDN9NqfhPSb67GJ7myhlkH+0yAn9TRJoFnHoMmkaVDBplpKCjR2sIjUIx+cKFwFJBPPYnPNaUcaRRrHGoREAVVUYAA6Cq01+X6/5i/4P6f5DqKKKQwooooAKKKKACiiigAooooAKKKKACiiigAooooAKKKKACiiigAooooAKKKKACiiigCK4/1Y/wB9P/QhUpqK4/1Y/wB9P/QhUpoAgLlbt9sbP8i/dI45b1NO81/+feT81/xoX/j7k/3F/m1S0ARea/8Az7yfmv8AjR5r/wDPvJ+a/wCNS0UARea//PvJ+a/40ea//PvJ+a/41LRQBF5r/wDPvJ+a/wCNHmv/AM+8n5r/AI1LRQBF5r/8+8n5r/jR5r/8+8n5r/jUtFAEXmv/AM+8n5r/AI0ea/8Az7yfmv8AjUtFAEXmv/z7yfmv+NHmv/z7yfmv+NS0UAVopXEk37iQ5f1Xj5R71J5r/wDPvJ+a/wCNEX+sn/3x/wCgrUtAEXmv/wA+8n5r/jR5r/8APvJ+a/41LRQBF5r/APPvJ+a/40ea/wDz7yfmv+NS0UARea//AD7yfmv+NHmv/wA+8n5r/jUtFAEXmv8A8+8n5r/jR5r/APPvJ+a/41LRQBF5r/8APvJ+a/40ea//AD7yfmv+NS0UARea/wDz7yfmv+NHmv8A8+8n5r/jUtFAEXmv/wA+8n5r/jR5r/8APvJ+a/41LRQBF5r/APPvJ+a/40ea/wDz7yfmv+NS0UARea//AD7yfmv+NHmv/wA+8n5r/jUtFAEXmv8A8+8n5r/jR5r/APPvJ+a/41LRQBF5r/8APvJ+a/40ea//AD7yfmv+NS0UARea/wDz7yfmv+NHmv8A8+8n5r/jUtFAEXmv/wA+8n5r/jR5r/8APvJ+a/41LRQBF5r/APPvJ+a/40ea/wDz7yfmv+NS0UARea//AD7yfmv+NHmv/wA+8n5r/jUtFAEXmv8A8+8n5r/jR5r/APPvJ+a/41LRQBF5r/8APvJ+a/40ea//AD7yfmv+NS0UARea/wDz7yfmv+NHmv8A8+8n5r/jUtFAEXmv/wA+8n5r/jR5r/8APvJ+a/41LRQBF5r/APPvJ+a/40ea/wDz7yfmv+NS0UARea//AD7yfmv+NHmv/wA+8n5r/jUtFAEXmv8A8+8n5r/jR5r/APPvJ+a/41LRQBF5r/8APvJ+a/40ea//AD7yfmv+NS0UARea/wDz7yfmv+NHmv8A8+8n5r/jUtFAEXmv/wA+8n5r/jR5r/8APvJ+a/41LRQBF5r/APPvJ+a/40ea/wDz7yfmv+NS0UARea//AD7yfmv+NHmv/wA+8n5r/jUtFAEXmv8A8+8n5r/jR5r/APPvJ+a/41LRQBF5r/8APvJ+a/40ea//AD7yfmv+NS0UARea/wDz7yfmv+NHmv8A8+8n5r/jUtFAEXmv/wA+8n5r/jR5r/8APvJ+a/41LRQBF5r/APPvJ+a/40ea/wDz7yfmv+NS0UARea//AD7yfmv+NHmv/wA+8n5r/jUtFAEXmv8A8+8n5r/jR5r/APPvJ+a/41LRQBF5r/8APvJ+a/40ea//AD7yfmv+NS0UARea/wDz7yfmv+NHmv8A8+8n5r/jUtFAEXmv/wA+8n5r/jR5r/8APvJ+a/41LRQBF5r/APPvJ+a/40ea/wDz7yfmv+NS0UAV5pGZFBhdRvTklf7w9DVg1Fcf6sf76f8AoQqU0ARL/wAfcn+4v82rJ1fW7vT/ABDothb6fJcQ38kiTTKUxGFQsOrg9snAPAPfFay/8fcn+4v82rN1jT7y51TSLyxWB/sdwzSpNIU+R0KEqQrZYZyAcA+ooE720K8XixG1a1srnSNTtI72V4bW7uIkWOV1Vmxt3mRchWI3oucfSqPh3xs+pQ2Y1TTLq1+1zyW8V55ai3lkVmwg+cuOFPLKFJBweRnJ0/wNq0OvaRqF5Bpclzp900lxqT3Es91eIY3T7zp+6A3A+UCy88FcfNoab4b14R6Xp2qNp/8AZ+nXRuxPBK5lmIZmRNhQBQCwy24529BnhLdf12/S45K17dv6/Qsad4xmudJtH/su51HUJxLI9tp6oPLjWRkDkyuqjOAMbsk5wMA46LT7+DVNPhvbRi0My7l3KVYdiCDyCDkEHoRXCf8ACvJYfsVzPpGha5PFBJbzW+p5CKDM8iPG5ifB+cgjbzkc8c9xpNkNO0m3tBDaQeUmPKs4fKhTvhV7CiPw67/1/wAARcooopjCiiigAooooAKKKKAIov8AWT/74/8AQVrI1TxZYaRDqcl7FcAaaYvMVEDGQSYCsgzyM5HOOVbsM1rxf6yf/fH/AKCtYGseGptS8VWN8kkC2IiZL6JgS8+0N5IHbAMjk59vek79B6FnUfEUVtdxW8JbP2u3t3k8oOpMuSFHzjBxgk843Dg1lz+N5JdT0mHTdMujZ3981sL6aNfKmVUkJ8vD7gdyDBdQCMkZGDS2vhTUI/D+l2t1cW817b6hFdXUwLBZVjOBjjO7YqjnuOtQ2fhrXbT+xdNVtPGlaPeeYk3muZpogkiqpTZhWXcoJ3Hdgn5elHX5/hpf9SV1v2/HX/gEdr451SW10qaXQrgSXl/dWrWyCMyOsYkKlCJSgPyAEswGQ2OCCep0XWINc00XdvHNDiR4pIZ1AeKRGKsrYJGQQeQSD2JrC0/w3qcF5ppuDaCLT9Ru7hWjlZmkjlEhXgoNrAyYIyRgZz2rV8O6TPpFneQ3LRs09/c3K+WSQFklZ1ByBzg803v/AF5Ak7a/1v8A8Aq2/jG0uLyJBY3yWdxMYLbUHRBBcSDPyr828ZIYBmVVbHBOVzH4Q1zVtet7+91Oy+xwJdSQ21uY0DgRuyHc6yuGOVx0QAg43DBqpYeGtYt4dN0aVrJdH0u4WaG4jkczzKhzHG0ZXauDjLB2zt+6N3y7nh7TJtJ0yS2uWjZ2u7mcGMkjbJM8ijkDnDDPvTVuUb8v63/4BjaX41nuNFhuL3RrwX9xdz29vYweUZJRG7AsD5hRQoGGLMBkHHVc238aWYtrRobC/nubqeS2WzjjXzY5kUs0b5YKvAPzbtp4OcEGs+Dw5rVi1td2iafJeWF1d+RHJcOqXEE8m87mEZMbg7egcfLj+LIp3ljrGlapocsf2OfVLzUrm5lhaRkhBa3YeWH2lsAKBu28kE7RnAP6/L9Lku6S/rv/AMA7DSNWg1myaeCOWFo5GhmgnUB4ZFOGRsEjI9QSCMEEg5rMt/GNpcXkSCxvks7iYwW2oOiCC4kGflX5t4yQwDMqq2OCcrm34f0u4061upNQaI3l9cvdTrCSY0ZgAEUkAkBVUZIGTk4GcDFsPDWsW8Om6NK1kuj6XcLNDcRyOZ5lQ5jjaMrtXBxlg7Z2/dG75Ut1fy/4P3dBvZ287fp+hc8Ha3q2vw395qlmLKBbqSC2gaNQ6iN2Q7nWVwxyv91cEHG4YNVZvG7zappEOnabc/Yr+/NsL+eNfKmVUkJMeH3A7kGC6gEZIzwa2vD2mTaTpcltctGzvd3M4MZJG2SZ5FHIHOGGfeufs/DWu2n9i6araeNK0e88xJvNczTRBJFVSmzCsu5QTuO7BPy9KH8St5f8Et2975/rY0bfxTLLptvPbaVqGqzTSTLss4EjCLHIUJZpJAg6AAb9zdQuM4Ynji0uLbTXsNM1K8m1K3kuIbaKNFkURsqurb3VVYFu5wdpwScA5MvgzU/sdjbzQ6fqltC9yZrG6u5Y7djJMZEdlVGEpUHGx1wDyCOtW/DPhG/0aXRDcvZ7dNtLu3cW+5VbzZUdCqkcDavIzx0BPWhf1+P/AACFuXtK8a2erTWuywv7W1vInkt7u6jRI5Cgy643b1I5+8oB2kgkYJfp/jC1v7m3RrG+tIb1WaxublEEd4FG75MMWUlRuAcKSMkDg4rQeFbj+zNCs7mSIrYxyx3Oxj8weJk+Xj/a74qKw8P620mkW+qvYraaIG8iW2kdpLtvKaJS6FQIxtYkgM+TjkAcq+/9d/8AgDX9fp/wSzpHjez1aSyzp+oWUF/btcWlzdJGEmVVDMBtcspAOfmABAJBI5qC28aS6h4g0e0tdLu7ey1FZZI7q6jULPGqblZNrkrng4kCsQeBwcMs/CF1HpXhmyu5YSul2klvdGNj826Hy/k4559cUumaH4gi1DQl1BtOFloyPEHhkdpLkeX5auVKgIcdVy3X73HNP4munT+vuJle2n9bf8E2dT19NN1S005LG7vbu7jeSOO2CcKhUMSXZQMbwev054qtb+LLe4vYkFhfR2VxKYbfUnVBBM/IAHz7wCQQGZQrYGCdy5nutJnn8X6fqqtGILa0uIHUk7i0jREEDGMfIc8+lc54f8CLod9bRr4f8NmK0lLR6r5Obx1ySoK+WMPyAX8w5xnbzgJdL/1r/kU9tDTsPFV3Po9vcf2PeajdTTXC+Xp8aqqJHKyZZ5XVAcAcbskkkDAOIrbxpJqOsaJHp+m3LWGp2U9w80qorQtGyjawLg/KSQwAPJXBIyRny+DNT+x2NvNDp+qW0L3Jmsbq7ljt2MkxkR2VUYSlQcbHXAPII61Y0PwnqmjwaEn+gP8A2fDd20wido0CSyKysg2noEA2HAGfvHHK6X/rr/wP8+xHez/r+v66F/SPGlje6Q91dNJG1vpsWozO0IjV4nVjuVd7YwUYEZOOOT1qW78XRWpcx6VqN0lvGsl68CRn7GGUNhwXBZgpyVjDnHbkZw28Caj/AGZ4Yt47q2RrC3Sz1QZYrcW4KOyrxyd0YHOPldqk1fwP9o8SX+oRaF4d1YajsZpdXi3SWrqgQ7R5beYmFU7dyc7ufmyKla7t/X9L8R6X/r+u/wAje8T63No/hS61XTbb7dJHGHjRCpDAkfNyy5GDng5qC98YQWUsqHS9RnFpGkl+8CRsLEMN2H+fLELyRHvIGDjkZua7pUuo+FbvTLTyUlkt/LjyCkYIHA4zgce+PesW50PxAsmp/wBnLpqrriKbszTyE2UvlrG5jwn75dqggHy+R15+VPrYUf7x0N/q1vp9jFeSB5YJZYow8QBA8xgqsefu5YZPpVNfFenvNqESLOXsbuK0ddgzI8hUKU55XLYJ45VvSp9Q0ZbvwvNo8chXda+RHI3VSFwrcdwQD+FYmkeFNQtNS0u7vZrVjHC0moLEGxJdFmYMmf4czS9efu+9P7Vun9f5fe0LXlv1/r+vkyeDxij2dt5FleaneXDTlbezhSNhHFIUZzvk2gA7R97LZyB1Aj0nxnJe6Dp1z/ZtzfaherLILOyRUZY0kK7m811C/wAIwWySeBwcQWHhnWNEe0vNO+w3N3GtzBNFPO8aGOScyqysEY7l6FduDnqMc57eAbr7LpU9/p2ha9e2sU8Nxb36lYW8yUyB42MblSDxjachjzxzOun9d/8Agfe/ka3/AK8v+CdBJ4xt2jtf7N06/wBSnuInlNtbLGskSo2x93mOoyrHaVBJz2qW21+5ufF7aWunTrZ/YI7pbl1VMFmIwVLbx0xgoCCDntWPqfhGa40bT7OHw/4cnW3DsIUaSy+xyFgwaCSNGZeRyQELEZyPu1paRoep6XqdjJPdJqCJpkdnc3M0jCVnQkhwMHduLHOWBGP4s0+vzf5P/gf1s+n9d1/wSbU/FMen6w+lw6XqOoXUdst062kabViLMudzuoyCn3fvHPAODhk3jGzIhOlWl5rHmWq3jfYUT91C2drtvZeuGwoyx2nisy+k1lPiVerocNlMzaPbh1u5miC/vZ8MCqNnH93AznqMcusfC+q+GFiHht7O7DWENnML6VotjRbtsq7VbdnecocdBhhzS+zf+uv/AAP62crKVvT8l/wf63t3HjXT7aS5ufNe4sIdNgv1MEG5mSR2UEHdk/d+7tBHqc4FfU/G81to2rSW+iX0OpafFHKbO6EWWRyQsmVl2lflbI3bhjp0zTn8BXaWE9nZ3ULxnR7XT4nlJVi8UjMWYAHAIYYxn+taOt+Gb3Ub7XJ7eS3Av9MhtYQ7MMSI8jfNgHCnevIyevHq9L/f+b/SwpdbeX6X/U3L7U007Q5tSu4pIlhhMrxHBccZ28EjPbgkZ71h+K/EuoeGfBkt75Fvcauts8ohAYRLsXc7HnO1Rx1GSQOM8aHiCzvNT8IXMAhjW+aEOIY5Cy+YpDbQxAJGRjJAz6CsTxJ4Zl8ZaHe3mi65d2z6jpxt44CIfIIIPDbomdeThtpB49RTXxagt1cueKte1TRoHu4JNOsrKCDzDNf5b7XKc4t41V1Kscfew33gAp5rpLaVp7WKWSJoXkQM0T9UJGdp9x0rCvbPxHb7Y9MntNSgktRBIupSeUY3Gcyjy4jv3A8p8o+UYIyafpvhO0sLPT43u9QllsrVLYOt/PGjhV25MSuEz74J6c8Cl3/rv/wP6uLt/Xb/AIP/AA1iTxFql7ZSabZaWbWK51G5MKz3alo4sIzk7AylyQpAXcOuc8YOJeeM7iDS5YVnthqUGpjTZZ4rKW4jZxH5hZIEbe3y8bQxKnPJA509Q8NiPQ2sdOs7fVopJhJNaa9dzXKSj0DyeYUwQCPlYcdATuFXTtA1nRNKV9KOnR3kl2bi4sUBjtmTYI1hVwhZQiqmGCclfugHg01/rt/wR/1+f/A/q5ND4imi8MR6tNeWt/FFPtu3htHtjGm7a2Y5HZkZCQWDHOARgGumri9T0a5Xwnq9nd+QNT8SXBR47clkjZ0WP5SwBYJGm4sQM7ScDgV2ajaoHoMU+n9dgFooopAFFFFABRRRQAUUUUAFFFFABRRRQAUUUUAFFFFABRRRQAUUUUAFFFFABRRRQAUUUUAFFFFABRRRQAUUUUARXH+rH++n/oQqU1Fcf6sf76f+hCpTQBEv/H3J/uL/ADapaY8KO+47gcYyrkfyPvTfs6f3pP8Av63+NAEtFRfZ0/vSf9/W/wAaPs6f3pP+/rf40AS0VF9nT+9J/wB/W/xo+zp/ek/7+t/jQBLRUX2dP70n/f1v8aPs6f3pP+/rf40AS0VF9nT+9J/39b/Gj7On96T/AL+t/jQBLRUX2dP70n/f1v8AGj7On96T/v63+NAEtFRfZ0/vSf8Af1v8aPs6f3pP+/rf40AEX+sn/wB8f+grUtRC2jGcGQZ5P7xuf1o+zp/ek/7+t/jQBLRUX2dP70n/AH9b/Gj7On96T/v63+NAEtFRfZ0/vSf9/W/xo+zp/ek/7+t/jQBLRUX2dP70n/f1v8aPs6f3pP8Av63+NAEtFRfZ0/vSf9/W/wAaPs6f3pP+/rf40AS0VF9nT+9J/wB/W/xo+zp/ek/7+t/jQBLRUX2dP70n/f1v8aPs6f3pP+/rf40AS0VF9nT+9J/39b/Gj7On96T/AL+t/jQBLRUX2dP70n/f1v8AGj7On96T/v63+NAEtFRfZ0/vSf8Af1v8aPs6f3pP+/rf40AS0VF9nT+9J/39b/Gj7On96T/v63+NAEtFRfZ0/vSf9/W/xo+zp/ek/wC/rf40AS0VF9nT+9J/39b/ABo+zp/ek/7+t/jQBLRUX2dP70n/AH9b/Gj7On96T/v63+NAEtFRfZ0/vSf9/W/xo+zp/ek/7+t/jQBLRUX2dP70n/f1v8aPs6f3pP8Av63+NAEtFRfZ0/vSf9/W/wAaPs6f3pP+/rf40AS0VF9nT+9J/wB/W/xo+zp/ek/7+t/jQBLRUX2dP70n/f1v8aPs6f3pP+/rf40AS0VF9nT+9J/39b/Gj7On96T/AL+t/jQBLRUX2dP70n/f1v8AGj7On96T/v63+NAEtFRfZ0/vSf8Af1v8aPs6f3pP+/rf40AS0VF9nT+9J/39b/Gj7On96T/v63+NAEtFRfZ0/vSf9/W/xo+zp/ek/wC/rf40AS0VF9nT+9J/39b/ABo+zp/ek/7+t/jQBLRUX2dP70n/AH9b/Gj7On96T/v63+NAEtFRfZ0/vSf9/W/xo+zp/ek/7+t/jQBLRUX2dP70n/f1v8aPs6f3pP8Av63+NAEtFRfZ0/vSf9/W/wAaPs6f3pP+/rf40AS0VF9nT+9J/wB/W/xo+zp/ek/7+t/jQBLRUX2dP70n/f1v8aPs6f3pP+/rf40AS0VF9nT+9J/39b/Gj7On96T/AL+t/jQBLRUX2dP70n/f1v8AGj7On96T/v63+NAEtFRfZ0/vSf8Af1v8aPs6f3pP+/rf40AS0VF9nT+9J/39b/Gj7On96T/v63+NAEtFRfZ0/vSf9/W/xo+zp/ek/wC/rf40AS0VF9nT+9J/39b/ABo+zp/ek/7+t/jQBLRUX2dP70n/AH9b/Gj7On96T/v63+NAEtFRfZ0/vSf9/W/xo+zp/ek/7+t/jQAXH+rH++n/AKEKlNRfZ48jO84IPMjH+tSmgAooooAKKKKACiiigAooooAKKKKACiiigAooooAKKKKACiiigAooooAKKKKACiiigAooooAKKKKACiiigAooooAKKKKACiiigAooooAKKKKACiiigAooooAKKKKACiiigAooooAKKKKACiiigAooooAKKKKACiiigAooooAKKKKACiiigAooooAKKKKACiiigAooooAKKKKACiiigAooooAKKKKACiiigAooooAKKKKACiiigAooooAKDRRQB//Z)"
      ],
      "metadata": {
        "id": "wdz8Y66rLe11"
      }
    },
    {
      "cell_type": "code",
      "source": [
        "diamonds = pd.read_csv('https://raw.githubusercontent.com/mwaskom/seaborn-data/master/diamonds.csv')\n",
        "print(diamonds)"
      ],
      "metadata": {
        "colab": {
          "base_uri": "https://localhost:8080/"
        },
        "id": "n69fExJPLsNY",
        "outputId": "08fc9607-b2ef-40d4-c77b-64de15fe2693"
      },
      "execution_count": null,
      "outputs": [
        {
          "output_type": "stream",
          "name": "stdout",
          "text": [
            "       carat        cut color clarity  depth  table  price     x     y     z\n",
            "0       0.23      Ideal     E     SI2   61.5   55.0    326  3.95  3.98  2.43\n",
            "1       0.21    Premium     E     SI1   59.8   61.0    326  3.89  3.84  2.31\n",
            "2       0.23       Good     E     VS1   56.9   65.0    327  4.05  4.07  2.31\n",
            "3       0.29    Premium     I     VS2   62.4   58.0    334  4.20  4.23  2.63\n",
            "4       0.31       Good     J     SI2   63.3   58.0    335  4.34  4.35  2.75\n",
            "...      ...        ...   ...     ...    ...    ...    ...   ...   ...   ...\n",
            "53935   0.72      Ideal     D     SI1   60.8   57.0   2757  5.75  5.76  3.50\n",
            "53936   0.72       Good     D     SI1   63.1   55.0   2757  5.69  5.75  3.61\n",
            "53937   0.70  Very Good     D     SI1   62.8   60.0   2757  5.66  5.68  3.56\n",
            "53938   0.86    Premium     H     SI2   61.0   58.0   2757  6.15  6.12  3.74\n",
            "53939   0.75      Ideal     D     SI2   62.2   55.0   2757  5.83  5.87  3.64\n",
            "\n",
            "[53940 rows x 10 columns]\n"
          ]
        }
      ]
    },
    {
      "cell_type": "markdown",
      "source": [
        "**Q35) Write a Pandas program to read a dataset from diamonds DataFrame and modify the default columns values and print the first 6 rows.**"
      ],
      "metadata": {
        "id": "WiIVaT87L9es"
      }
    },
    {
      "cell_type": "code",
      "source": [
        "# Write your code here\n",
        "\n"
      ],
      "metadata": {
        "id": "bd16v9qEMCcP"
      },
      "execution_count": null,
      "outputs": []
    },
    {
      "cell_type": "markdown",
      "source": [
        "**Q36) Write a Pandas program to create a new 'Quality -color' Series (use bracket notation to define the Series name) of the diamonds DataFrame.**"
      ],
      "metadata": {
        "id": "t40rg1kNMHcU"
      }
    },
    {
      "cell_type": "code",
      "source": [
        "# Write your code here\n",
        "\n"
      ],
      "metadata": {
        "id": "NJCb5djlMNDE"
      },
      "execution_count": null,
      "outputs": []
    },
    {
      "cell_type": "markdown",
      "source": [
        "**Q37) Write a Pandas program to sort the 'cut' Series in ascending order (returns a Series) of diamonds Dataframe.**"
      ],
      "metadata": {
        "id": "tYXejS3zMnBb"
      }
    },
    {
      "cell_type": "code",
      "source": [
        "# Write your code here\n",
        "\n"
      ],
      "metadata": {
        "id": "v4TChfbpNHXO"
      },
      "execution_count": null,
      "outputs": []
    },
    {
      "cell_type": "markdown",
      "source": [
        "**Q38) Write a Pandas program to filter the DataFrame rows to only show carat weight at least 0.3.**"
      ],
      "metadata": {
        "id": "Fi6nhitqVPur"
      }
    },
    {
      "cell_type": "code",
      "source": [
        "# Write your code here\n",
        "\n"
      ],
      "metadata": {
        "id": "GR_DStaDVR4H"
      },
      "execution_count": null,
      "outputs": []
    },
    {
      "cell_type": "markdown",
      "source": [
        "**Q39) Write a Pandas program to find the diamonds that are with a Fair or Good or Premium.**"
      ],
      "metadata": {
        "id": "Zz24ZMSMVXcT"
      }
    },
    {
      "cell_type": "code",
      "source": [
        "# Write your code here\n"
      ],
      "metadata": {
        "id": "X3Mr1R35Vics"
      },
      "execution_count": null,
      "outputs": []
    },
    {
      "cell_type": "markdown",
      "source": [
        "**Q40) Write a Pandas program to calculate the mean of price for each cut of diamonds DataFrame.**"
      ],
      "metadata": {
        "id": "l4kXCeqyVq3D"
      }
    },
    {
      "cell_type": "code",
      "source": [
        "# Write your code here\n",
        "\n"
      ],
      "metadata": {
        "id": "O_gx28oKWj5A"
      },
      "execution_count": null,
      "outputs": []
    },
    {
      "cell_type": "markdown",
      "source": [
        "**Q41) Write a Pandas program to display percentages of each value of cut series occurs in diamonds DataFrame.**"
      ],
      "metadata": {
        "id": "wFZd8Ux0XC_P"
      }
    },
    {
      "cell_type": "code",
      "source": [
        "# Write your code here\n"
      ],
      "metadata": {
        "id": "0q8iEON0XKjL"
      },
      "execution_count": null,
      "outputs": []
    },
    {
      "cell_type": "markdown",
      "source": [
        "**Q42) Write a Pandas program to count the number of unique values in cut series of diamonds DataFrame.**"
      ],
      "metadata": {
        "id": "o39nQZ3EXPX-"
      }
    },
    {
      "cell_type": "code",
      "source": [
        "# Write your code here\n"
      ],
      "metadata": {
        "id": "B2eW9NSJXWVx"
      },
      "execution_count": null,
      "outputs": []
    },
    {
      "cell_type": "markdown",
      "source": [
        "**Q43) Write a Pandas program to check the number of rows and columns and drop those row if 'any' values are missing in a row of diamonds DataFrame.**"
      ],
      "metadata": {
        "id": "DR9-qzc1XZpi"
      }
    },
    {
      "cell_type": "code",
      "source": [
        "# Write your code here\n",
        "\n"
      ],
      "metadata": {
        "id": "WC2x8_i9XxcV"
      },
      "execution_count": null,
      "outputs": []
    },
    {
      "cell_type": "markdown",
      "source": [
        "**Q44) Write a Pandas program to set an existing column as the index of diamonds DataFrame and restore the index name, and move the index back to a column.**"
      ],
      "metadata": {
        "id": "G9g_sY-AX0xi"
      }
    },
    {
      "cell_type": "code",
      "source": [
        "# Write your code here\n",
        "\n"
      ],
      "metadata": {
        "id": "6zOfoMgnX0Ea"
      },
      "execution_count": null,
      "outputs": []
    },
    {
      "cell_type": "markdown",
      "source": [
        "**Q45) Write a Pandas program to calculate the multiply of length, width and depth for each cut of diamonds DataFrame.**"
      ],
      "metadata": {
        "id": "5pQ_qJQhZSFn"
      }
    },
    {
      "cell_type": "code",
      "source": [
        "# Write your code here\n",
        "\n"
      ],
      "metadata": {
        "id": "nJYMBxBzZftu"
      },
      "execution_count": null,
      "outputs": []
    },
    {
      "cell_type": "markdown",
      "source": [
        "**Q46) Write a Pandas program to concatenate the diamonds DataFrame with the 'color' Series.**"
      ],
      "metadata": {
        "id": "fHZoBIGmZlVG"
      }
    },
    {
      "cell_type": "code",
      "source": [
        "# Write your code here\n"
      ],
      "metadata": {
        "id": "kkewM7LpZtba"
      },
      "execution_count": null,
      "outputs": []
    },
    {
      "cell_type": "markdown",
      "source": [
        "**Q47) Write a Pandas program to read rows in which the ‘cut’ is ‘Premium’, column ‘color’ of diamonds DataFrame.**"
      ],
      "metadata": {
        "id": "ZsMB4dwuZxxA"
      }
    },
    {
      "cell_type": "code",
      "source": [
        "# Write your code here\n",
        "\n"
      ],
      "metadata": {
        "id": "0Dpz3tccaAq2"
      },
      "execution_count": null,
      "outputs": []
    },
    {
      "cell_type": "markdown",
      "source": [
        "**Q48) Write a Pandas program to calculate the memory usage for each Series (in bytes) of diamonds DataFrame.**"
      ],
      "metadata": {
        "id": "LU0keezUdb-7"
      }
    },
    {
      "cell_type": "code",
      "source": [
        "# Write your code here\n",
        "\n"
      ],
      "metadata": {
        "id": "VXxW_SprdlSz"
      },
      "execution_count": null,
      "outputs": []
    },
    {
      "cell_type": "markdown",
      "source": [
        "**Q49) Write a Pandas program to get sample 75% of the diamonds DataFrame's rows without replacement and store the remaining 25% of the rows in another DataFrame.**"
      ],
      "metadata": {
        "id": "9O9fOs7daDTp"
      }
    },
    {
      "cell_type": "code",
      "source": [
        "# Write your code here\n",
        "\n"
      ],
      "metadata": {
        "id": "lOpZt83OaL_3"
      },
      "execution_count": null,
      "outputs": []
    },
    {
      "cell_type": "markdown",
      "source": [
        "**Q50) Write a Pandas program to read the diamonds DataFrame and detect duplicate color.**\n",
        "\n",
        "**Note:** duplicated () function returns boolean Series denoting duplicate rows, optionally only considering certain columns."
      ],
      "metadata": {
        "id": "_UwcYFv_aPc3"
      }
    },
    {
      "cell_type": "code",
      "source": [
        "# Write your code here\n",
        "\n"
      ],
      "metadata": {
        "id": "Z-OOJDmcaXA9"
      },
      "execution_count": null,
      "outputs": []
    }
  ]
}