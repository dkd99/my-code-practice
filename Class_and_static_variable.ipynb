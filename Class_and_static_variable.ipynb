{
  "cells": [
    {
      "cell_type": "markdown",
      "metadata": {
        "id": "view-in-github",
        "colab_type": "text"
      },
      "source": [
        "<a href=\"https://colab.research.google.com/github/dkd99/my-code-practice/blob/main/Class_and_static_variable.ipynb\" target=\"_parent\"><img src=\"https://colab.research.google.com/assets/colab-badge.svg\" alt=\"Open In Colab\"/></a>"
      ]
    },
    {
      "cell_type": "code",
      "source": [
        "class Student:\n",
        "    # Class variable\n",
        "    school_name = 'ABC School '\n",
        "\n",
        "    # constructor\n",
        "    def __init__(self, name, roll_no):\n",
        "        self.name = name\n",
        "        self.roll_no = roll_no\n",
        "\n",
        "    # Instance method\n",
        "    def show(self):\n",
        "        print('Inside instance method')\n",
        "        # access using self\n",
        "        print(self.name, self.roll_no, self.school_name)\n",
        "        # access using class name\n",
        "        print(Student.school_name)\n",
        "\n",
        "# create Object\n",
        "s1 = Student('Emma', 10)\n",
        "s1.show()\n",
        "\n",
        "print('Outside class')\n",
        "# access class variable outside class\n",
        "# access using object reference\n",
        "print(s1.school_name)\n",
        "\n",
        "# access using class name\n",
        "print(Student.school_name)"
      ],
      "metadata": {
        "id": "_e4oS6px15_n",
        "outputId": "c56daef3-8604-428d-aa44-8d312c80375a",
        "colab": {
          "base_uri": "https://localhost:8080/"
        }
      },
      "execution_count": null,
      "outputs": [
        {
          "output_type": "stream",
          "name": "stdout",
          "text": [
            "Inside instance method\n",
            "Emma 10 ABC School \n",
            "ABC School \n",
            "Outside class\n",
            "ABC School \n",
            "ABC School \n"
          ]
        }
      ]
    },
    {
      "cell_type": "code",
      "source": [
        "class Student:\n",
        "    # Class variable\n",
        "    school_name = 'ABC School '\n",
        "\n",
        "    # constructor\n",
        "    def __init__(self, name, roll_no):\n",
        "        self.name = name\n",
        "        self.roll_no = roll_no\n",
        "\n",
        "    # Instance method\n",
        "    def show(self):\n",
        "        print(self.name, self.roll_no, Student.school_name)\n",
        "\n",
        "# create Object\n",
        "s1 = Student('Emma', 10)\n",
        "print('Before')\n",
        "s1.show()\n",
        "\n",
        "# Modify class variable\n",
        "Student.school_name = 'XYZ School'\n",
        "print('After')\n",
        "s1.show()"
      ],
      "metadata": {
        "id": "3BfchvDV2L_J",
        "outputId": "4741226c-f6d9-476e-fb66-e6d153bceb98",
        "colab": {
          "base_uri": "https://localhost:8080/"
        }
      },
      "execution_count": null,
      "outputs": [
        {
          "output_type": "stream",
          "name": "stdout",
          "text": [
            "Before\n",
            "Emma 10 ABC School \n",
            "After\n",
            "Emma 10 XYZ School\n"
          ]
        }
      ]
    },
    {
      "cell_type": "markdown",
      "source": [
        "#It is best practice to use a class name to change the value of a class variable. Because if we try to change the class variable’s value by using an object, a new instance variable is created for that particular object, which shadows the class variables."
      ],
      "metadata": {
        "id": "NtJ6ehV_3liq"
      }
    },
    {
      "cell_type": "code",
      "source": [
        "class Student:\n",
        "    # Class variable\n",
        "    school_name = 'ABC School '\n",
        "\n",
        "    # constructor\n",
        "    def __init__(self, name, roll_no):\n",
        "        self.name = name\n",
        "        self.roll_no = roll_no\n",
        "\n",
        "# create Objects\n",
        "s1 = Student('Emma', 10)\n",
        "s2 = Student('Jessa', 20)\n",
        "\n",
        "print('Before')\n",
        "print(s1.name, s1.roll_no, s1.school_name)\n",
        "print(s2.name, s2.roll_no, s2.school_name)\n",
        "\n",
        "# Modify class variable using object reference\n",
        "s1.school_name = 'PQR School'\n",
        "print('After')\n",
        "print(s1.name, s1.roll_no, s1.school_name)\n",
        "print(s2.name, s2.roll_no, s2.school_name)"
      ],
      "metadata": {
        "id": "hFrsvlro3Wa3",
        "outputId": "c3a05278-b7ce-4712-f55d-3b13bd8bda2f",
        "colab": {
          "base_uri": "https://localhost:8080/"
        }
      },
      "execution_count": null,
      "outputs": [
        {
          "output_type": "stream",
          "name": "stdout",
          "text": [
            "Before\n",
            "Emma 10 ABC School \n",
            "Jessa 20 ABC School \n",
            "After\n",
            "Emma 10 PQR School\n",
            "Jessa 20 ABC School \n"
          ]
        }
      ]
    },
    {
      "cell_type": "markdown",
      "source": [
        "#Instance Variable\tvs Class Variable\n",
        "\n",
        "1. Instance variables are not shared by objects. Every object has its own copy of the instance attribute\tClass variables are shared by all instances.\n",
        "\n",
        "2. Instance variables are declared inside the constructor i.e., the __init__() method.\tClass variables are declared inside the class definition but outside any of the instance methods and constructors.\n",
        "\n",
        "3. It is gets created when an instance of the class is created.\tIt is created when the program begins to execute.\n",
        "\n",
        "4. Changes made to these variables through one object will not reflect in another object.\tChanges made in the class variable will reflect in all objects.\n",
        "\n"
      ],
      "metadata": {
        "id": "2vaoCmAh35Ul"
      }
    },
    {
      "cell_type": "code",
      "source": [
        "class Course:\n",
        "    # class variable\n",
        "    course = \"Python\"\n",
        "\n",
        "class Student(Course):\n",
        "\n",
        "    def __init__(self, name):\n",
        "        self.name = name\n",
        "\n",
        "    def show_student(self):\n",
        "        # Accessing class variable of parent class\n",
        "        print('Before')\n",
        "        print(\"Student name:\", self.name, \"Course Name:\", Student.course)\n",
        "        # changing class variable value of base class\n",
        "        print('Now')\n",
        "        Student.course = \"Machine Learning\"\n",
        "        print(\"Student name:\", self.name, \"Course Name:\", Student.course)\n",
        "\n",
        "# creating object of Student class\n",
        "stud = Student(\"Emma\")\n",
        "stud.show_student()"
      ],
      "metadata": {
        "id": "BgONTGV84IHd",
        "outputId": "8b7d769e-5732-49ad-de39-89008e66d0a0",
        "colab": {
          "base_uri": "https://localhost:8080/"
        }
      },
      "execution_count": null,
      "outputs": [
        {
          "output_type": "stream",
          "name": "stdout",
          "text": [
            "Before\n",
            "Student name: Emma Course Name: Python\n",
            "Now\n",
            "Student name: Emma Course Name: Machine Learning\n"
          ]
        }
      ]
    },
    {
      "cell_type": "code",
      "source": [
        "class Player:\n",
        "    # class variables\n",
        "    club = 'Chelsea'\n",
        "    sport = 'Football'\n",
        "\n",
        "    def __init__(self, name):\n",
        "        # Instance variable\n",
        "        self.name = name\n",
        "\n",
        "    def show(self):\n",
        "        print(\"Player :\", 'Name:', self.name, 'Club:', self.club, 'Sports:', self.sport)\n",
        "\n",
        "p1 = Player('John')\n",
        "\n",
        "# wrong use of class variable\n",
        "p1.club = 'FC'\n",
        "p1.show()\n",
        "\n",
        "p2 = Player('Emma')\n",
        "p2.sport = 'Tennis'\n",
        "p2.show()\n",
        "\n",
        "# actual class variable value\n",
        "print('Club:', Player.club, 'Sport:', Player.sport)"
      ],
      "metadata": {
        "id": "3DMz6l_649KU",
        "outputId": "4f76c220-6eef-468c-a5d0-8415f65be8b0",
        "colab": {
          "base_uri": "https://localhost:8080/"
        }
      },
      "execution_count": null,
      "outputs": [
        {
          "output_type": "stream",
          "name": "stdout",
          "text": [
            "Player : Name: John Club: FC Sports: Football\n",
            "Player : Name: Emma Club: Chelsea Sports: Tennis\n",
            "Club: Chelsea Sport: Football\n"
          ]
        }
      ]
    },
    {
      "cell_type": "code",
      "source": [
        "from datetime import date\n",
        "\n",
        "class Student:\n",
        "    def __init__(self, name, age):\n",
        "        self.name = name\n",
        "        self.age = age\n",
        "\n",
        "    @classmethod\n",
        "    def calculate_age(cls, name, birth_year):\n",
        "        # calculate age an set it as a age\n",
        "        # return new object\n",
        "        return cls(name, date.today().year - birth_year)\n",
        "\n",
        "    def show(self):\n",
        "        print(self.name + \"'s age is: \" + str(self.age))\n",
        "\n",
        "jessa = Student('Jessa', 20)\n",
        "jessa.show()\n",
        "\n",
        "# create new object using the factory method\n",
        "joy = Student.calculate_age(\"Joy\", 1995)\n",
        "joy.show()"
      ],
      "metadata": {
        "id": "nwnaeL4W6dPZ",
        "outputId": "29ba57ce-8a50-43ea-e259-88e581d1df6f",
        "colab": {
          "base_uri": "https://localhost:8080/"
        }
      },
      "execution_count": null,
      "outputs": [
        {
          "output_type": "stream",
          "name": "stdout",
          "text": [
            "Jessa's age is: 20\n",
            "Joy's age is: 28\n"
          ]
        }
      ]
    },
    {
      "cell_type": "code",
      "source": [
        "class Student:\n",
        "    school_name = 'ABC School'\n",
        "\n",
        "    def __init__(self, name, age):\n",
        "        self.name = name\n",
        "        self.age = age\n",
        "\n",
        "    @classmethod\n",
        "    def change_school(cls, school_name):\n",
        "        # class_name.class_variable\n",
        "        cls.school_name = school_name\n",
        "\n",
        "    # instance method\n",
        "    def show(self):\n",
        "        print(self.name, self.age, 'School:', Student.school_name)\n",
        "\n",
        "jessa = Student('Jessa', 20)\n",
        "jessa.show()\n",
        "\n",
        "# change school_name\n",
        "Student.change_school('XYZ School')\n",
        "jessa.show()"
      ],
      "metadata": {
        "id": "WFYg2ASS8jkO",
        "outputId": "9b063610-796c-4f64-b279-ca21c4f2632f",
        "colab": {
          "base_uri": "https://localhost:8080/"
        }
      },
      "execution_count": null,
      "outputs": [
        {
          "output_type": "stream",
          "name": "stdout",
          "text": [
            "Jessa 20 School: ABC School\n",
            "Jessa 20 School: XYZ School\n"
          ]
        }
      ]
    },
    {
      "cell_type": "code",
      "source": [
        "class Vehicle:\n",
        "    brand_name = 'BMW'\n",
        "\n",
        "    def __init__(self, name, price):\n",
        "        self.name = name\n",
        "        self.price = price\n",
        "\n",
        "    @classmethod\n",
        "    def from_price(cls, name, price):\n",
        "        # ind_price = dollar * 76\n",
        "        # create new Vehicle object\n",
        "        return cls(name, (price * 75))\n",
        "\n",
        "    def show(self):\n",
        "        print(self.name, self.price)\n",
        "\n",
        "class Car(Vehicle):\n",
        "    def average(self, distance, fuel_used):\n",
        "        mileage = distance / fuel_used\n",
        "        print(self.name, 'Mileage', mileage)\n",
        "\n",
        "bmw_us = Car('BMW X5', 65000)\n",
        "bmw_us.show()\n",
        "\n",
        "# class method of parent class is available to child class\n",
        "# this will return the object of calling class\n",
        "bmw_ind = Car.from_price('BMW X5', 65000)\n",
        "bmw_ind.show()\n",
        "\n",
        "# check type\n",
        "print(type(bmw_ind))"
      ],
      "metadata": {
        "id": "MBrxSOjW-g3C",
        "outputId": "af8a93a8-4054-46b3-b383-fc384af5fd7f",
        "colab": {
          "base_uri": "https://localhost:8080/"
        }
      },
      "execution_count": null,
      "outputs": [
        {
          "output_type": "stream",
          "name": "stdout",
          "text": [
            "BMW X5 65000\n",
            "BMW X5 4875000\n",
            "<class '__main__.Car'>\n"
          ]
        }
      ]
    },
    {
      "cell_type": "code",
      "source": [
        "class Student:\n",
        "    school_name = 'ABC School'\n",
        "\n",
        "    def __init__(self, name, age):\n",
        "        self.name = name\n",
        "        self.age = age\n",
        "\n",
        "    @classmethod\n",
        "    def change_school(cls, school_name):\n",
        "        cls.school_name = school_name\n",
        "\n",
        "jessa = Student('Jessa', 20)\n",
        "print(Student.change_school('XYZ School'))\n",
        "print(Student.school_name)\n",
        "\n",
        "# delete class method\n",
        "del Student.change_school\n",
        "\n",
        "# call class method\n",
        "# it will give error\n",
        "print(Student.change_school('PQR School'))"
      ],
      "metadata": {
        "id": "WVUmpq4n-_Jp",
        "outputId": "0782183c-f875-4fb2-c2d3-ca279f3bd400",
        "colab": {
          "base_uri": "https://localhost:8080/",
          "height": 235
        }
      },
      "execution_count": null,
      "outputs": [
        {
          "output_type": "stream",
          "name": "stdout",
          "text": [
            "None\n",
            "XYZ School\n"
          ]
        },
        {
          "output_type": "error",
          "ename": "AttributeError",
          "evalue": "ignored",
          "traceback": [
            "\u001b[0;31m---------------------------------------------------------------------------\u001b[0m",
            "\u001b[0;31mAttributeError\u001b[0m                            Traceback (most recent call last)",
            "\u001b[0;32m<ipython-input-9-f085f028cb6b>\u001b[0m in \u001b[0;36m<cell line: 21>\u001b[0;34m()\u001b[0m\n\u001b[1;32m     19\u001b[0m \u001b[0;31m# call class method\u001b[0m\u001b[0;34m\u001b[0m\u001b[0;34m\u001b[0m\u001b[0m\n\u001b[1;32m     20\u001b[0m \u001b[0;31m# it will give error\u001b[0m\u001b[0;34m\u001b[0m\u001b[0;34m\u001b[0m\u001b[0m\n\u001b[0;32m---> 21\u001b[0;31m \u001b[0mprint\u001b[0m\u001b[0;34m(\u001b[0m\u001b[0mStudent\u001b[0m\u001b[0;34m.\u001b[0m\u001b[0mchange_school\u001b[0m\u001b[0;34m(\u001b[0m\u001b[0;34m'PQR School'\u001b[0m\u001b[0;34m)\u001b[0m\u001b[0;34m)\u001b[0m\u001b[0;34m\u001b[0m\u001b[0;34m\u001b[0m\u001b[0m\n\u001b[0m",
            "\u001b[0;31mAttributeError\u001b[0m: type object 'Student' has no attribute 'change_school'"
          ]
        }
      ]
    },
    {
      "cell_type": "code",
      "source": [
        "jessa = Student('Jessa', 20)\n",
        "print(Student.change_school('XYZ School'))\n",
        "print(Student.school_name)\n",
        "\n",
        "# delete class method\n",
        "delattr(Student, 'change_school')\n",
        "\n",
        "# call class method\n",
        "# it will give error\n",
        "print(Student.change_school('PQR School'))"
      ],
      "metadata": {
        "id": "pAjWTmwi_EZ9",
        "outputId": "1f95a075-7faa-4b17-93df-36b47558d0ef",
        "colab": {
          "base_uri": "https://localhost:8080/",
          "height": 235
        }
      },
      "execution_count": null,
      "outputs": [
        {
          "output_type": "error",
          "ename": "AttributeError",
          "evalue": "ignored",
          "traceback": [
            "\u001b[0;31m---------------------------------------------------------------------------\u001b[0m",
            "\u001b[0;31mAttributeError\u001b[0m                            Traceback (most recent call last)",
            "\u001b[0;32m<ipython-input-10-83f7f2fd5580>\u001b[0m in \u001b[0;36m<cell line: 2>\u001b[0;34m()\u001b[0m\n\u001b[1;32m      1\u001b[0m \u001b[0mjessa\u001b[0m \u001b[0;34m=\u001b[0m \u001b[0mStudent\u001b[0m\u001b[0;34m(\u001b[0m\u001b[0;34m'Jessa'\u001b[0m\u001b[0;34m,\u001b[0m \u001b[0;36m20\u001b[0m\u001b[0;34m)\u001b[0m\u001b[0;34m\u001b[0m\u001b[0;34m\u001b[0m\u001b[0m\n\u001b[0;32m----> 2\u001b[0;31m \u001b[0mprint\u001b[0m\u001b[0;34m(\u001b[0m\u001b[0mStudent\u001b[0m\u001b[0;34m.\u001b[0m\u001b[0mchange_school\u001b[0m\u001b[0;34m(\u001b[0m\u001b[0;34m'XYZ School'\u001b[0m\u001b[0;34m)\u001b[0m\u001b[0;34m)\u001b[0m\u001b[0;34m\u001b[0m\u001b[0;34m\u001b[0m\u001b[0m\n\u001b[0m\u001b[1;32m      3\u001b[0m \u001b[0mprint\u001b[0m\u001b[0;34m(\u001b[0m\u001b[0mStudent\u001b[0m\u001b[0;34m.\u001b[0m\u001b[0mschool_name\u001b[0m\u001b[0;34m)\u001b[0m\u001b[0;34m\u001b[0m\u001b[0;34m\u001b[0m\u001b[0m\n\u001b[1;32m      4\u001b[0m \u001b[0;34m\u001b[0m\u001b[0m\n\u001b[1;32m      5\u001b[0m \u001b[0;31m# delete class method\u001b[0m\u001b[0;34m\u001b[0m\u001b[0;34m\u001b[0m\u001b[0m\n",
            "\u001b[0;31mAttributeError\u001b[0m: type object 'Student' has no attribute 'change_school'"
          ]
        }
      ]
    },
    {
      "cell_type": "code",
      "source": [
        "class Employee:\n",
        "    @staticmethod\n",
        "    def sample(x):\n",
        "        print('Inside static method', x)\n",
        "\n",
        "# call static method\n",
        "Employee.sample(10)\n",
        "\n",
        "# can be called using object\n",
        "emp = Employee()\n",
        "emp.sample(10)"
      ],
      "metadata": {
        "id": "7lsbHdhc_3Vk",
        "outputId": "4977fc2b-1bd3-43fe-9baf-cd1faed6d90c",
        "colab": {
          "base_uri": "https://localhost:8080/"
        }
      },
      "execution_count": null,
      "outputs": [
        {
          "output_type": "stream",
          "name": "stdout",
          "text": [
            "Inside static method 10\n",
            "Inside static method 10\n"
          ]
        }
      ]
    },
    {
      "cell_type": "code",
      "source": [
        "class Employee(object):\n",
        "\n",
        "    def __init__(self, name, salary, project_name):\n",
        "        self.name = name\n",
        "        self.salary = salary\n",
        "        self.project_name = project_name\n",
        "\n",
        "    @staticmethod\n",
        "    def gather_requirement(project_name):\n",
        "        if project_name == 'ABC Project':\n",
        "            requirement = ['task_1', 'task_2', 'task_3']\n",
        "        else:\n",
        "            requirement = ['task_1']\n",
        "        return requirement\n",
        "\n",
        "    # instance method\n",
        "    def work(self):\n",
        "        # call static method from instance method\n",
        "        requirement = Employee.gather_requirement(self.project_name)\n",
        "        for task in requirement:\n",
        "            print('Completed', task)\n",
        "\n",
        "emp = Employee('Kelly', 12000, 'ABC Project')\n",
        "emp.work()\n"
      ],
      "metadata": {
        "id": "A6eoaNHVAFqQ",
        "outputId": "b7ffdc3e-d061-4716-df66-7fd1917f5d2d",
        "colab": {
          "base_uri": "https://localhost:8080/"
        }
      },
      "execution_count": null,
      "outputs": [
        {
          "output_type": "stream",
          "name": "stdout",
          "text": [
            "Completed task_1\n",
            "Completed task_2\n",
            "Completed task_3\n"
          ]
        }
      ]
    },
    {
      "cell_type": "code",
      "source": [
        "class Student:\n",
        "    # class variables\n",
        "    school_name = 'ABC School'\n",
        "\n",
        "    # constructor\n",
        "    def __init__(self, name, age):\n",
        "        # instance variables\n",
        "        self.name = name\n",
        "        self.age = age\n",
        "\n",
        "    # instance variables\n",
        "    def show(self):\n",
        "        print(self.name, self.age, Student.school_name)\n",
        "\n",
        "    @classmethod\n",
        "    def change_School(cls, name):\n",
        "        cls.school_name = name\n",
        "\n",
        "    @staticmethod\n",
        "    def find_notes(subject_name):\n",
        "        return ['chapter 1', 'chapter 2', 'chapter 3']"
      ],
      "metadata": {
        "id": "Abi__9sgBCUd"
      },
      "execution_count": null,
      "outputs": []
    },
    {
      "cell_type": "code",
      "source": [
        "Student.find_notes('Maths')"
      ],
      "metadata": {
        "id": "ccmUKLIOBEqd",
        "outputId": "312a0095-2357-415d-8ff0-9cd20a449de9",
        "colab": {
          "base_uri": "https://localhost:8080/"
        }
      },
      "execution_count": null,
      "outputs": [
        {
          "output_type": "execute_result",
          "data": {
            "text/plain": [
              "['chapter 1', 'chapter 2', 'chapter 3']"
            ]
          },
          "metadata": {},
          "execution_count": 15
        }
      ]
    },
    {
      "cell_type": "code",
      "source": [
        "class Student:\n",
        "    def __init__(self, roll_no): self.roll_no = roll_no\n",
        "\n",
        "    # instance method\n",
        "    def show(self):\n",
        "        print('In Instance method')\n",
        "\n",
        "    @classmethod\n",
        "    def change_school(cls, name):\n",
        "        print('In class method')\n",
        "\n",
        "    @staticmethod\n",
        "    def find_notes(subject_name):\n",
        "        print('In Static method')\n",
        "\n",
        "# create two objects\n",
        "jessa = Student(12)\n",
        "\n",
        "# instance method bound to object\n",
        "print(jessa.show)\n",
        "\n",
        "# class method bound to class\n",
        "print(jessa.change_school)\n",
        "\n",
        "# static method bound to class\n",
        "print(jessa.find_notes)"
      ],
      "metadata": {
        "id": "YkxaUNbMBfWu",
        "outputId": "2091e5ad-c6b4-469f-b156-79ae4eec984c",
        "colab": {
          "base_uri": "https://localhost:8080/"
        }
      },
      "execution_count": null,
      "outputs": [
        {
          "output_type": "stream",
          "name": "stdout",
          "text": [
            "<bound method Student.show of <__main__.Student object at 0x7fcbfa526b90>>\n",
            "<bound method Student.change_school of <class '__main__.Student'>>\n",
            "<function Student.find_notes at 0x7fcbfa5db9a0>\n"
          ]
        }
      ]
    },
    {
      "cell_type": "code",
      "source": [
        "Student.change_school('d')"
      ],
      "metadata": {
        "id": "1hRPKIEmBker",
        "outputId": "5588aabd-a90c-44f8-f72d-f5259ec29d08",
        "colab": {
          "base_uri": "https://localhost:8080/"
        }
      },
      "execution_count": null,
      "outputs": [
        {
          "output_type": "stream",
          "name": "stdout",
          "text": [
            "In class method\n"
          ]
        }
      ]
    },
    {
      "cell_type": "code",
      "source": [
        "Student.find_notes('m')"
      ],
      "metadata": {
        "id": "jJciVs3qB0rI",
        "outputId": "66e741a9-9feb-47ad-9a4a-60d5cc95db3d",
        "colab": {
          "base_uri": "https://localhost:8080/"
        }
      },
      "execution_count": null,
      "outputs": [
        {
          "output_type": "stream",
          "name": "stdout",
          "text": [
            "In Static method\n"
          ]
        }
      ]
    }
  ],
  "metadata": {
    "colab": {
      "toc_visible": true,
      "provenance": [],
      "include_colab_link": true
    },
    "kernelspec": {
      "display_name": "Python 3",
      "name": "python3"
    }
  },
  "nbformat": 4,
  "nbformat_minor": 0
}