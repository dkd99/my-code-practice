{
  "cells": [
    {
      "cell_type": "markdown",
      "metadata": {
        "id": "view-in-github",
        "colab_type": "text"
      },
      "source": [
        "<a href=\"https://colab.research.google.com/github/dkd99/my-code-practice/blob/main/oops.ipynb\" target=\"_parent\"><img src=\"https://colab.research.google.com/assets/colab-badge.svg\" alt=\"Open In Colab\"/></a>"
      ]
    },
    {
      "cell_type": "code",
      "source": [
        "class Person:\n",
        "    def __init__(self, name, sex, profession):\n",
        "        # data members (instance variables)\n",
        "        self.name = name\n",
        "        self.sex = sex\n",
        "        self.profession = profession\n",
        "\n",
        "    # Behavior (instance methods)\n",
        "    def show(self):\n",
        "        print('Name:', self.name, 'Sex:', self.sex, 'Profession:', self.profession)\n",
        "\n",
        "    # Behavior (instance methods)\n",
        "    def work(self):\n",
        "        print(self.name, 'working as a', self.profession)\n",
        "\n",
        "# create object of a class\n",
        "jessa = Person('Jessa', 'Female', 'Software Engineer')\n",
        "\n",
        "# call methods\n",
        "jessa.show()\n",
        "jessa.work()"
      ],
      "metadata": {
        "id": "p-Q8OkNedlaI",
        "outputId": "ef2f92f0-d61e-43f1-8c42-737c87175647",
        "colab": {
          "base_uri": "https://localhost:8080/"
        }
      },
      "execution_count": null,
      "outputs": [
        {
          "output_type": "stream",
          "name": "stdout",
          "text": [
            "Name: Jessa Sex: Female Profession: Software Engineer\n",
            "Jessa working as a Software Engineer\n"
          ]
        }
      ]
    },
    {
      "cell_type": "code",
      "source": [
        "class Student:\n",
        "    # class variables\n",
        "    school_name = 'ABC School'\n",
        "\n",
        "    # constructor\n",
        "    def __init__(self, name, age):\n",
        "        # instance variables\n",
        "        self.name = name\n",
        "        self.age = age\n",
        "\n",
        "s1 = Student(\"Harry\", 12)\n",
        "# access instance variables\n",
        "print('Student:', s1.name, s1.age)\n",
        "\n",
        "# access class variable\n",
        "print('School name:', Student.school_name)\n",
        "\n",
        "# Modify instance variables\n",
        "s1.name = 'Jessa'\n",
        "s1.age = 14\n",
        "print('Student:', s1.name, s1.age)\n",
        "\n",
        "# Modify class variables\n",
        "Student.school_name = 'XYZ School'\n",
        "print('School name:', Student.school_name)"
      ],
      "metadata": {
        "id": "x-4x8ocfd-0a",
        "outputId": "6da15438-d694-4c00-a130-41af0b8d4db5",
        "colab": {
          "base_uri": "https://localhost:8080/"
        }
      },
      "execution_count": null,
      "outputs": [
        {
          "output_type": "stream",
          "name": "stdout",
          "text": [
            "Student: Harry 12\n",
            "School name: ABC School\n",
            "Student: Jessa 14\n",
            "School name: XYZ School\n"
          ]
        }
      ]
    },
    {
      "cell_type": "code",
      "source": [
        "# class methods demo\n",
        "class Student:\n",
        "    # class variable\n",
        "    school_name = 'ABC School'\n",
        "\n",
        "    # constructor\n",
        "    def __init__(self, name, age):\n",
        "        # instance variables\n",
        "        self.name = name\n",
        "        self.age = age\n",
        "\n",
        "    # instance method\n",
        "    def show(self):\n",
        "        # access instance variables and class variables\n",
        "        print('Student:', self.name, self.age, Student.school_name)\n",
        "\n",
        "    # instance method\n",
        "    def change_age(self, new_age):\n",
        "        # modify instance variable\n",
        "        self.age = new_age\n",
        "\n",
        "    # class method\n",
        "    @classmethod\n",
        "    def modify_school_name(cls, new_name):\n",
        "        # modify class variable\n",
        "        cls.school_name = new_name\n",
        "\n",
        "s1 = Student(\"Harry\", 12)\n",
        "\n",
        "# call instance methods\n",
        "s1.show()\n",
        "s1.change_age(14)\n",
        "\n",
        "# call class method\n",
        "Student.modify_school_name('XYZ School')\n",
        "# call instance methods\n",
        "s1.show()"
      ],
      "metadata": {
        "id": "RAPt60lmesqk",
        "outputId": "cc634bad-8b2a-486d-c128-9ee4af2ec65f",
        "colab": {
          "base_uri": "https://localhost:8080/"
        }
      },
      "execution_count": null,
      "outputs": [
        {
          "output_type": "stream",
          "name": "stdout",
          "text": [
            "Student: Harry 12 ABC School\n",
            "Student: Harry 14 XYZ School\n"
          ]
        }
      ]
    },
    {
      "cell_type": "code",
      "source": [
        "# class methods demo\n",
        "class Student:\n",
        "    # class variable\n",
        "    school_name = 'ABC School'\n",
        "\n",
        "    # constructor\n",
        "    def __init__(self, name, age):\n",
        "        # instance variables\n",
        "        self.name = name\n",
        "        self.age = age\n",
        "\n",
        "    # instance method\n",
        "    def show(self):\n",
        "        # access instance variables and class variables\n",
        "        print('Student:', self.name, self.age, Student.school_name)\n",
        "\n",
        "    # instance method\n",
        "    def change_age(self, new_age):\n",
        "        # modify instance variable\n",
        "        self.age = new_age\n",
        "\n",
        "    # class method\n",
        "    @classmethod\n",
        "    def modify_school_name(cls, new_name):\n",
        "        # modify class variable\n",
        "        cls.school_name = new_name\n",
        "\n",
        "s1 = Student(\"Harry\", 12)\n",
        "\n",
        "# call instance methods\n",
        "s1.show()\n",
        "s1.change_age(14)\n",
        "\n",
        "# call class method\n",
        "Student.modify_school_name('XYZ School')\n",
        "# call instance methods\n",
        "s1.show()"
      ],
      "metadata": {
        "id": "m0ae4UtmfnCk",
        "outputId": "1e31e1f9-593e-45aa-9e0f-0b08098d0015",
        "colab": {
          "base_uri": "https://localhost:8080/"
        }
      },
      "execution_count": null,
      "outputs": [
        {
          "output_type": "stream",
          "name": "stdout",
          "text": [
            "Student: Harry 12 ABC School\n",
            "Student: Harry 14 XYZ School\n"
          ]
        }
      ]
    },
    {
      "cell_type": "code",
      "source": [
        "class Fruit:\n",
        "    def __init__(self, name, color):\n",
        "        self.name = name\n",
        "        self.color = color\n",
        "\n",
        "    def show(self):\n",
        "        print(\"Fruit is\", self.name, \"and Color is\", self.color)\n",
        "\n",
        "# creating object of the class\n",
        "obj = Fruit(\"Apple\", \"red\")\n",
        "\n",
        "# Modifying Object Properties\n",
        "obj.name = \"strawberry\"\n",
        "\n",
        "# calling the instance method using the object obj\n",
        "obj.show()\n",
        "# Output Fruit is strawberry and Color is red"
      ],
      "metadata": {
        "id": "_CsAW65KgcDB",
        "outputId": "640271fb-b74a-4155-d3d3-4c9f4393aa64",
        "colab": {
          "base_uri": "https://localhost:8080/"
        }
      },
      "execution_count": null,
      "outputs": [
        {
          "output_type": "stream",
          "name": "stdout",
          "text": [
            "Fruit is strawberry and Color is red\n"
          ]
        }
      ]
    },
    {
      "cell_type": "code",
      "source": [
        "class Fruit:\n",
        "    def __init__(self, name, color):\n",
        "        self.name = name\n",
        "        self.color = color\n",
        "\n",
        "    def show(self):\n",
        "        print(\"Fruit is\", self.name, \"and Color is\", self.color)\n",
        "\n",
        "# creating object of the class\n",
        "obj = Fruit(\"Apple\", \"red\")\n",
        "\n",
        "# Deleting Object Properties\n",
        "del obj.name\n",
        "\n",
        "# Accessing object properties after deleting\n",
        "print(obj.name)\n",
        "# Output: AttributeError: 'Fruit' object has no attribute 'name'"
      ],
      "metadata": {
        "id": "ksOm1u4hgpB8",
        "outputId": "d04e4607-ac23-4a03-b5df-b7883303c994",
        "colab": {
          "base_uri": "https://localhost:8080/",
          "height": 217
        }
      },
      "execution_count": null,
      "outputs": [
        {
          "output_type": "error",
          "ename": "AttributeError",
          "evalue": "ignored",
          "traceback": [
            "\u001b[0;31m---------------------------------------------------------------------------\u001b[0m",
            "\u001b[0;31mAttributeError\u001b[0m                            Traceback (most recent call last)",
            "\u001b[0;32m<ipython-input-6-d5a574487521>\u001b[0m in \u001b[0;36m<cell line: 16>\u001b[0;34m()\u001b[0m\n\u001b[1;32m     14\u001b[0m \u001b[0;34m\u001b[0m\u001b[0m\n\u001b[1;32m     15\u001b[0m \u001b[0;31m# Accessing object properties after deleting\u001b[0m\u001b[0;34m\u001b[0m\u001b[0;34m\u001b[0m\u001b[0m\n\u001b[0;32m---> 16\u001b[0;31m \u001b[0mprint\u001b[0m\u001b[0;34m(\u001b[0m\u001b[0mobj\u001b[0m\u001b[0;34m.\u001b[0m\u001b[0mname\u001b[0m\u001b[0;34m)\u001b[0m\u001b[0;34m\u001b[0m\u001b[0;34m\u001b[0m\u001b[0m\n\u001b[0m\u001b[1;32m     17\u001b[0m \u001b[0;31m# Output: AttributeError: 'Fruit' object has no attribute 'name'\u001b[0m\u001b[0;34m\u001b[0m\u001b[0;34m\u001b[0m\u001b[0m\n",
            "\u001b[0;31mAttributeError\u001b[0m: 'Fruit' object has no attribute 'name'"
          ]
        }
      ]
    },
    {
      "cell_type": "code",
      "source": [
        "class Employee:\n",
        "    depatment = \"IT\"\n",
        "\n",
        "    def show(self):\n",
        "        print(\"Department is \", self.depatment)\n",
        "\n",
        "emp = Employee()\n",
        "emp.show()\n",
        "\n",
        "# delete object\n",
        "del emp\n",
        "\n",
        "# Accessing after delete object\n",
        "emp.show()\n",
        "# Output : NameError: name 'emp' is not defined "
      ],
      "metadata": {
        "id": "EODaCBROg11k",
        "outputId": "05b1e6f3-e5c4-4e39-a027-99f210fa3bf4",
        "colab": {
          "base_uri": "https://localhost:8080/",
          "height": 235
        }
      },
      "execution_count": null,
      "outputs": [
        {
          "output_type": "stream",
          "name": "stdout",
          "text": [
            "Department is  IT\n"
          ]
        },
        {
          "output_type": "error",
          "ename": "NameError",
          "evalue": "ignored",
          "traceback": [
            "\u001b[0;31m---------------------------------------------------------------------------\u001b[0m",
            "\u001b[0;31mNameError\u001b[0m                                 Traceback (most recent call last)",
            "\u001b[0;32m<ipython-input-7-933f2715a9fd>\u001b[0m in \u001b[0;36m<cell line: 14>\u001b[0;34m()\u001b[0m\n\u001b[1;32m     12\u001b[0m \u001b[0;34m\u001b[0m\u001b[0m\n\u001b[1;32m     13\u001b[0m \u001b[0;31m# Accessing after delete object\u001b[0m\u001b[0;34m\u001b[0m\u001b[0;34m\u001b[0m\u001b[0m\n\u001b[0;32m---> 14\u001b[0;31m \u001b[0memp\u001b[0m\u001b[0;34m.\u001b[0m\u001b[0mshow\u001b[0m\u001b[0;34m(\u001b[0m\u001b[0;34m)\u001b[0m\u001b[0;34m\u001b[0m\u001b[0;34m\u001b[0m\u001b[0m\n\u001b[0m\u001b[1;32m     15\u001b[0m \u001b[0;31m# Output : NameError: name 'emp' is not defined\u001b[0m\u001b[0;34m\u001b[0m\u001b[0;34m\u001b[0m\u001b[0m\n",
            "\u001b[0;31mNameError\u001b[0m: name 'emp' is not defined"
          ]
        }
      ]
    },
    {
      "cell_type": "code",
      "source": [
        "class Student:\n",
        "\n",
        "    # constructor\n",
        "    # initialize instance variable\n",
        "    def __init__(self, name):\n",
        "        print('Inside Constructor')\n",
        "        self.name = name\n",
        "        print('All variables initialized')\n",
        "\n",
        "    # instance Method\n",
        "    def show(self):\n",
        "        print('Hello, my name is', self.name)\n",
        "\n",
        "\n",
        "# create object using constructor\n",
        "s1 = Student('Emma')\n",
        "s1.show()"
      ],
      "metadata": {
        "id": "PkC3kCeLiLBt",
        "outputId": "20a2c06b-7309-4c7d-b94a-46d7fb4a32f1",
        "colab": {
          "base_uri": "https://localhost:8080/"
        }
      },
      "execution_count": null,
      "outputs": [
        {
          "output_type": "stream",
          "name": "stdout",
          "text": [
            "Inside Constructor\n",
            "All variables initialized\n",
            "Hello, my name is Emma\n"
          ]
        }
      ]
    },
    {
      "cell_type": "markdown",
      "source": [
        "![image.png](data:image/png;base64,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)"
      ],
      "metadata": {
        "id": "IG6uIHXGivO6"
      }
    },
    {
      "cell_type": "markdown",
      "source": [
        "![image.png](data:image/png;base64,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)"
      ],
      "metadata": {
        "id": "eqNOrsWEiwRh"
      }
    },
    {
      "cell_type": "markdown",
      "source": [
        "ython will provide a default constructor if no constructor is defined. Python adds a default constructor when we do not include the constructor in the class or forget to declare it. It does not perform any task but initializes the objects. It is an empty constructor without a body."
      ],
      "metadata": {
        "id": "fVv8I-nfi9c4"
      }
    },
    {
      "cell_type": "markdown",
      "source": [
        "If you do not implement any constructor in your class or forget to declare it, the Python inserts a default constructor into your code on your behalf. This constructor is known as the default constructor.\n",
        "\n",
        "It does not perform any task but initializes the objects. It is an empty constructor without a body.\n",
        "\n",
        "Note:\n",
        "\n",
        "The default constructor is not present in the source py file. It is inserted into the code during compilation if not exists. See the below image.\n",
        "If you implement your constructor, then the default constructor will not be added."
      ],
      "metadata": {
        "id": "xV2hcgwtj7u7"
      }
    },
    {
      "cell_type": "code",
      "source": [
        "class Employee:\n",
        "\n",
        "    def display(self):\n",
        "        print('Inside Display')\n",
        "\n",
        "emp = Employee()\n",
        "emp.display()"
      ],
      "metadata": {
        "id": "iIWv1MakjN99"
      },
      "execution_count": null,
      "outputs": []
    },
    {
      "cell_type": "markdown",
      "source": [
        "##Non-Parametrized Constructor"
      ],
      "metadata": {
        "id": "A7J6UuOTkaEq"
      }
    },
    {
      "cell_type": "code",
      "source": [
        "class Company:\n",
        "\n",
        "    # no-argument constructor\n",
        "    def __init__(self):\n",
        "        self.name = \"PYnative\"\n",
        "        self.address = \"ABC Street\"\n",
        "\n",
        "    # a method for printing data members\n",
        "    def show(self):\n",
        "        print('Name:', self.name, 'Address:', self.address)\n",
        "\n",
        "# creating object of the class\n",
        "cmp = Company()\n",
        "\n",
        "# calling the instance method using the object\n",
        "cmp.show()"
      ],
      "metadata": {
        "id": "PzKbQbg1kZhT"
      },
      "execution_count": null,
      "outputs": []
    },
    {
      "cell_type": "markdown",
      "source": [
        "#Parameterized Constructor"
      ],
      "metadata": {
        "id": "XQ3i8SukksJp"
      }
    },
    {
      "cell_type": "code",
      "source": [
        "class Employee:\n",
        "    # parameterized constructor\n",
        "    def __init__(self, name, age, salary):\n",
        "        self.name = name\n",
        "        self.age = age\n",
        "        self.salary = salary\n",
        "\n",
        "    # display object\n",
        "    def show(self):\n",
        "        print(self.name, self.age, self.salary)\n",
        "\n",
        "# creating object of the Employee class\n",
        "emma = Employee('Emma', 23, 7500)\n",
        "emma.show()\n",
        "\n",
        "kelly = Employee('Kelly', 25, 8500)\n",
        "kelly.show()"
      ],
      "metadata": {
        "id": "FaeTf-hkkrR_"
      },
      "execution_count": null,
      "outputs": []
    },
    {
      "cell_type": "code",
      "source": [
        "class Employee:\n",
        "    # parameterized constructor\n",
        "    def __init__(self, name, age, salary):\n",
        "        self.name = name\n",
        "        self.age = age\n",
        "        self.salary = salary\n",
        "\n",
        "    # display object\n",
        "    def show(self):\n",
        "        print(self.name, self.age, self.salary)\n",
        "\n",
        "# creating object of the Employee class\n",
        "emma = Employee('Emma', 23, 7500)\n",
        "emma.show()\n",
        "\n",
        "kelly = Employee('Kelly', 25, 8500)\n",
        "kelly.show()\n"
      ],
      "metadata": {
        "id": "LNqSlqPYk3HY"
      },
      "execution_count": null,
      "outputs": []
    },
    {
      "cell_type": "markdown",
      "source": [
        "#Self Keyword in Python\n",
        "As you all know, the class contains instance variables and methods. Whenever we define instance methods for a class, we use self as the first parameter. Using self, we can access the instance variable and instance method of the object.\n",
        "\n",
        "The first argument self refers to the current object.\n",
        "\n",
        "Whenever we call an instance method through an object, the Python compiler implicitly passes object reference as the first argument commonly known as self."
      ],
      "metadata": {
        "id": "jbgYOBhumhLj"
      }
    },
    {
      "cell_type": "code",
      "source": [
        "class Student:\n",
        "    # constructor\n",
        "    def __init__(self, name, age):\n",
        "        self.name = name\n",
        "        self.age = age\n",
        "\n",
        "    # self points to the current object\n",
        "    def show(self):\n",
        "        # access instance variable using self\n",
        "        print(self.name, self.age)\n",
        "\n",
        "# creating first object\n",
        "emma = Student('Emma', 12)\n",
        "emma.show()\n",
        "\n",
        "# creating Second object\n",
        "kelly = Student('Kelly', 13)\n",
        "kelly.show()"
      ],
      "metadata": {
        "id": "ZKXlwdsznS_t",
        "outputId": "54abde18-7cc8-4a23-b65d-1911d4314bd7",
        "colab": {
          "base_uri": "https://localhost:8080/"
        }
      },
      "execution_count": null,
      "outputs": [
        {
          "output_type": "stream",
          "name": "stdout",
          "text": [
            "Emma 12\n",
            "Kelly 13\n"
          ]
        }
      ]
    },
    {
      "cell_type": "markdown",
      "source": [
        "#Constructor Overloading\n",
        "\n",
        "Constructor overloading is a concept of having more than one constructor with a different parameters list in such a way so that each constructor can perform different tasks.\n",
        "\n",
        "For example, we can create a three constructor which accepts a different set of parameters\n",
        "\n",
        "Python does not support constructor overloading. If we define multiple constructors then, the interpreter will considers only the last constructor and throws an error if the sequence of the arguments doesn’t match as per the last constructor. The following example shows the same.\n",
        "\n",
        "Example"
      ],
      "metadata": {
        "id": "1PflDyeuoZU1"
      }
    },
    {
      "cell_type": "code",
      "source": [
        "class Student:\n",
        "    # one argument constructor\n",
        "    def __init__(self, name):\n",
        "        print(\"One arguments constructor\")\n",
        "        self.name = name\n",
        "\n",
        "    # two argument constructor\n",
        "    def __init__(self, name, age):\n",
        "        print(\"Two arguments constructor\")\n",
        "        self.name = name\n",
        "        self.age = age\n",
        "\n",
        "# creating first object\n",
        "emma = Student('Emma')\n",
        "\n",
        "# creating Second object\n",
        "kelly = Student('Kelly', 13)"
      ],
      "metadata": {
        "id": "NpK6RYZinnnZ",
        "outputId": "6e9cb4da-26fb-42ed-d665-4ff8165c3e07",
        "colab": {
          "base_uri": "https://localhost:8080/",
          "height": 235
        }
      },
      "execution_count": null,
      "outputs": [
        {
          "output_type": "error",
          "ename": "TypeError",
          "evalue": "ignored",
          "traceback": [
            "\u001b[0;31m---------------------------------------------------------------------------\u001b[0m",
            "\u001b[0;31mTypeError\u001b[0m                                 Traceback (most recent call last)",
            "\u001b[0;32m<ipython-input-10-d5352622f278>\u001b[0m in \u001b[0;36m<cell line: 14>\u001b[0;34m()\u001b[0m\n\u001b[1;32m     12\u001b[0m \u001b[0;34m\u001b[0m\u001b[0m\n\u001b[1;32m     13\u001b[0m \u001b[0;31m# creating first object\u001b[0m\u001b[0;34m\u001b[0m\u001b[0;34m\u001b[0m\u001b[0m\n\u001b[0;32m---> 14\u001b[0;31m \u001b[0memma\u001b[0m \u001b[0;34m=\u001b[0m \u001b[0mStudent\u001b[0m\u001b[0;34m(\u001b[0m\u001b[0;34m'Emma'\u001b[0m\u001b[0;34m)\u001b[0m\u001b[0;34m\u001b[0m\u001b[0;34m\u001b[0m\u001b[0m\n\u001b[0m\u001b[1;32m     15\u001b[0m \u001b[0;34m\u001b[0m\u001b[0m\n\u001b[1;32m     16\u001b[0m \u001b[0;31m# creating Second object\u001b[0m\u001b[0;34m\u001b[0m\u001b[0;34m\u001b[0m\u001b[0m\n",
            "\u001b[0;31mTypeError\u001b[0m: Student.__init__() missing 1 required positional argument: 'age'"
          ]
        }
      ]
    },
    {
      "cell_type": "markdown",
      "source": [
        "* As you can see in the above example, we defined multiple \n",
        "constructors with different arguments.\n",
        "\n",
        "* At the time of object creation, the interpreter executed the second constructor because Python always considers the last constructor.\n",
        "Internally, the object of the class will always call the last constructor, even if the class has multiple constructors.\n",
        "\n",
        "* In the example when we called a constructor only with one argument, we got a type error.\n"
      ],
      "metadata": {
        "id": "FrtNMrv9o6hR"
      }
    },
    {
      "cell_type": "markdown",
      "source": [
        "#Constructor Chaining"
      ],
      "metadata": {
        "id": "M6RsPLEnpKTJ"
      }
    },
    {
      "cell_type": "markdown",
      "source": [
        "Constructors are used for instantiating an object. The task of the constructor is to assign value to data members when an object of the class is created.\n",
        "\n",
        "Constructor chaining is the process of calling one constructor from another constructor. Constructor chaining is useful when you want to invoke multiple constructors, one after another, by initializing only one instance.\n",
        "\n",
        "In Python, constructor chaining is convenient when we are dealing with inheritance. When an instance of a child class is initialized, the constructors of all the parent classes are first invoked and then, in the end, the constructor of the child class is invoked.\n",
        "\n",
        "Using the super() method we can invoke the parent class constructor from a child class."
      ],
      "metadata": {
        "id": "EGU72DNXpRVf"
      }
    },
    {
      "cell_type": "code",
      "source": [
        "class Vehicle:\n",
        "    # Constructor of Vehicle\n",
        "    def __init__(self, engine):\n",
        "        print('Inside Vehicle Constructor')\n",
        "        self.engine = engine\n",
        "\n",
        "class Car(Vehicle):\n",
        "    # Constructor of Car\n",
        "    def __init__(self, engine, max_speed):\n",
        "        super().__init__(engine)\n",
        "        print('Inside Car Constructor')\n",
        "        self.max_speed = max_speed\n",
        "\n",
        "class Electric_Car(Car):\n",
        "    # Constructor of Electric Car\n",
        "    def __init__(self, engine, max_speed, km_range):\n",
        "        super().__init__(engine, max_speed)\n",
        "        print('Inside Electric Car Constructor')\n",
        "        self.km_range = km_range\n",
        "\n",
        "# Object of electric car\n",
        "ev = Electric_Car('1500cc', 240, 750)\n",
        "print(f'Engine={ev.engine}, Max Speed={ev.max_speed}, Km range={ev.km_range}')"
      ],
      "metadata": {
        "id": "QLLA09ucpTFk",
        "outputId": "87d4be22-5517-4b1c-ab8d-6244431d30b7",
        "colab": {
          "base_uri": "https://localhost:8080/"
        }
      },
      "execution_count": null,
      "outputs": [
        {
          "output_type": "stream",
          "name": "stdout",
          "text": [
            "Inside Vehicle Constructor\n",
            "Inside Car Constructor\n",
            "Inside Electric Car Constructor\n",
            "Engine=1500cc, Max Speed=240, Km range=750\n"
          ]
        }
      ]
    },
    {
      "cell_type": "code",
      "source": [
        "class Vehicle:\n",
        "    def __init__(self):\n",
        "        self.engine = '1500cc'\n",
        "\n",
        "class Car(Vehicle):\n",
        "    def __init__(self, max_speed):\n",
        "        # call parent class constructor\n",
        "        super().__init__()\n",
        "        self.max_speed = max_speed\n",
        "\n",
        "    def display(self):\n",
        "        # access parent class instance variables 'engine'\n",
        "        print(\"Engine:\", self.engine)\n",
        "        print(\"Max Speed:\", self.max_speed)\n",
        "\n",
        "# Object of car\n",
        "car = Car(240)\n",
        "car.display()"
      ],
      "metadata": {
        "id": "llRIfbTtykGQ"
      },
      "execution_count": null,
      "outputs": []
    },
    {
      "cell_type": "markdown",
      "source": [
        "#What is an Instance Variable in Python?\n",
        "\n",
        "If the value of a variable varies from object to object, then such variables are called instance variables. For every object, a separate copy of the instance variable will be created.\n",
        "\n",
        "Instance variables are not shared by objects. Every object has its own copy of the instance attribute. This means that for each object of a class, the instance variable value is different."
      ],
      "metadata": {
        "id": "W8jY9BzHsNsb"
      }
    },
    {
      "cell_type": "markdown",
      "source": [
        "![image.png](data:image/png;base64,iVBORw0KGgoAAAANSUhEUgAAAm4AAAISCAIAAAD6KtT+AAAgAElEQVR4nOzde3xU5YE//ufc55JkkpCQQAgh4SJio0BdVECN2uJ1q+jXaivibt0qP+qu7Rd+dqkvrV/7UrZd3Npdy89LbVekW5UK2i9SxKrhqlLllgoIJCEMAwkJSSaTuZw5t98fz+RwmCRDkpnJ3D7vF7WTycmZZzJPzuc8t3MYxXOQAAAAwEixqS4AAABAZkOUAgAAxAVRCgAAEBdEKQAAQFwQpQAAAHFBlAIAAMQFUQoAABAXRCkAAEBcEKUAAABxQZQCAADEBVEKAAAQF0QpAABAXBClAAAAcUGUAgAAxAVRCgAAEBdEKQAAQFwQpQAAAHFBlAIAAMQFUQoAABAXRCkAAEBcEKUAAABxQZQCAADEBVEKAAAQF0QpAABAXPhUFyCRDMNIdREAAFKPYZhUFyG3ZEmUmiEalaYIVwDIBWZ20geGYSBNR1OmRqk1Ow0j8pVBDFVXQ5qsET1qMwCALMMajMRKHMPS1DT/yzAMQ/r+R877LyRJRkYpDUgaoV7V16q0d2hdQV2W9ZBqaKkuHQDA6OEZTmIkG5EKmYKx/JgCLp9lGYZhWJZlGIbty1F62ESgJgmjeA6mugzDYIZol9LjDp9qVdoDepBneBufx7Icx/Icw7Esz2A6FQBkO4Pomq7qhqbpqmaoYTWg6IqdsY0hRWVsSSFfwLEcx7ERTF97FYGaBJkUpTRH/Yr/cKjpRPiUyNokwWEXnCJnT3XRAABSL6wFg4pfVgJhPVROSquYCqfg5DmOo6EaaakiTRMvM6KUhqiu6weDx46GmgVWzJOKnWJBqssFAJCO/OEen9yp6uFxWlkNO1EQeIHneRqqzLkmaqqLmT0yIEppjvZqgc97D/SovXm24nypKNWFAgBIdz65yyd32jVpqj4pX8gTRYHneJ7nOJZDmiZWukcpnVvUFu7YE/gbw3CFjjKeFVNdKACAzKDq4c5Am6EpE0MVpcIYSRRFQRAEnuM4tm9qUqrLmA3SegYvzdHjsmef/8s8ocDlKGMIPnUAgKHiWbE0b0JXoLWRtASDcoVWruu6YRiCYPA8z2Bab4Kkb5TSft22cMc+/5c23l7oKE91iQAAMg9DmGLHOLVXPWVvFXr5Er3YMIhBDEII4XmOZQnSNG7pG6WEEJ/q3+P/W55QgBwFAIjH2LzKzsBpj7OV83KGrhuGnXbyMbzAsoQgTeOTplFqGIau61/4GwyWcznKUl0cAICMV+Qob9dPnsprFbp56xpTnvBI0zil46UMaNful4GjPWpvMcZHAQASgSFMsaNMEdRTQlsgGAqGQnI4rKqapmu4xmqc0rRV6lf8x+TjLlsp5usCACQKz4p5UrHX1e497WNZhuM4juPoVQaJrmNC74ilXZTSWbuHQ00CK2L9KABAYuVLRf6wt9PRLQVELnIhJJbTWIbjCW4pM1Lp1cFLOxm6lJ4T4VN5UnGqiwMAkIXypeKQK9Sj94ZkOSyHw2FF03Td0NHNO2LpFaWEEMMw3OFTImvDdQEBAJLBKRaInK3X5g+FwiFZDiuKoqqapum6gTQdmXSM0ja1QxIcqS4IAEDWkniHXqSFZFkOK0pYUVVV03Sj7wbQqS5d5kmvKKX3H/VrAbvgTHVZAACyll1wKqwaZENyOExbpaqm6bqOGB2ZtIvSVqVdYAXcNw0AIHlEzs6zQsgekuVwWFEUhXbw6vQqSGiYDlcaRSntV+jQukQevbsAAMkl8Q4931BUVVFUVVXpaCk6eEcmjaKUCuoyx6TdEh0AgCzDMTwjEUVRFFVVFEXTNV3XdV1PdbkyUrpEKT0PMogh6yGORZQCACQXx/I6b6iaZjZJI21StEqHL12ilBBiGIaqq6qhsQyX6rIAAGQ5juF0ommGrqqaqmm6RlulhmFgrHTY0ihKCSEhTSaEoFUKAJBsLMsTQnQuEqHnghSGL71CSyM6IYRh0ivgAQCyD0NYQohODF3va5HSHl40SocPoQUAkLvo4Ci9aiAGSkcMUQoAkLt0w2yNRnIUaToCaRSlOCECAEiJviA16CUaYLjSKEoBAGD0GZFr76a6HJksvaYdpaFtT/W07QvTx1V1tjk/zEtteQAAIN0gSi/gmqci93rb8mhXaksyXFse7fK2aDE2mL0kb/JNtmS8dHuDsuNZ75iLRPO3BwDpDy3TEUMHLyRej0dTg+TsV+FUFwQAYDQgSrNcVZ3t7ndKZi+J9Evf/U7J3e+UjM5Lq8HReR0AgBTL6Q7ew+sDJ7bKtBdUcrGF1bytkA116yPolmzcHPJ8Gu5uVmWvTggpniZcer+jtFbo/4qeT5XOIwohxFnOlc8SOg4qE6+Vpt/pGMFmCeTeEW7+S+jsV2Gaf64qbtzlYu390XeNbdwcOv6R3ONW6GbOck4NGrZCZsGviswNDrzWa4boujs6zJ8tmzlAf6/Po27/mc/fqg34XQCAjJC7UbrtqZ7eVq1mQSSf2huU5g/llvqQq2rYVwBub1AOvNZbNlOa9f28yvmiz6MeWhf6ZJXvW68VWzdz7wgfWheYcot9zqPO/AqevqK3Res5oY9gswsqrBa8LVrBxAE6HlxVnP+MVlAReacNr/sPv31eE9Lbonlbgu6d4aufyM+viFSSw+sDDWsC1s38rRohRPYOq1znOdOg0p2Yc7sAADJOjkZp4+ZQd7N63bMFZk6U1gqltYIqG2pw2APvpbXCwj+c6zXNr+Dn/DBv3R0djZtDUfN6OJGddL1EX5S+Ynez0j/thrhZbHN+mDfYfGOzEUkIadwcOvx20FnO1SyQKq4Q6YvS1mfnEWXvKwGzsXhiq0wIKZ4m0IwnhBxeHzi0LuAce+7kY/JNtsk32Ro3h/a82EsIuWBn8tha3lnO0VbpsN4dAED6yNEo9XwaLp8lmjlqmvvj/JHtsOF1v3tnmDawCCEDNm0r54vhXsfuX/nNntu8cu6qx/KjijHEzRLl+EcyIcTfqjWsiW50kvMbi7SZ23lE+eQXPlsRZytkx0znv7GqMJ6C5Vfwt7xYdOHtAADSWI5GaahLsxUmbMrVtqd6upvV6m9IZlPSvSP86aqe/lvSRpv55eH1ge0/89UuclbOF0ewWUJo8lD7jWkbt3Vv2Nui0QHmlnrC28mUW+z9R1UBAHJHjkYpJyUsR9sblLZ94Zt+fV7jrHK++OmqC//s9DsdnUe1I38Kxs7IIW42MpzEEqJVXCUNpUVO09TnUc80qEpA7zyqeT6RD78dLKwWklE2AEihR1Y8/dKaN47ser+6qjLOXd1630Nb6nconoMJKVgaSq/FMMxovVDFlULr3rDPo0Y9794R3vCdjgF/ZDA9Ho0QEtXJ2fC6v/+Wf3qg8/D66B7UEW+WKBVXCoQQzyfyrp/72hsU+mTj5tCun/v+9EDnnx7opM/4POqG73RsWtJ1eH0gv4KffJNt+p2O4qmc5GIJIeHegZu2dIc+j3p4fWDLo13m3kw+j7ppSde6Ozq2PTVAIx4AICPkaKt0+p2OMwdUa68pXQ3Sti88/S77sHY1+Sbbl38I7Pq5r3aRPb+Cp/vpbo4OaUKI7NUPrQsofsPsB27cHGrbJ1/6QN4INhsKetUh6/pOujrF2galTV7PJzL9F7UHvu+XcaZBVYNEDQ4wpOos58bWnleR6O9E9ur1T5w3u5fv96vFDF4AyAI5GqWEkGueKmh43d+w1k8HNem60rqfuayLQXc/39tSHzK/9LZo5pfT7zo3QDjr+3lH/hTc/INuup/yWeJ1zxZs/kH3nhd7PZ+GzRmwkouddrut86hGV1ISuvz0geir9w1xswSa++P8xs2CdcGo5GKdZVzRZK5yrkS3GVvL8/boqy44y7mS6cLFd9v6zzy6ann+gdcDdIe8nRRUCmNr+UnXS1GbYQYvQKag/b2K5yDtraVPRvXZrlr96opnnqOP165edc/tt7z57qZFS5fTZ4SKGYSQBXXz3/v9y4SQnbv31C1cZP5s/Ya18+bMpo/pt9auXkUIMX+c7nCwl6upqvxq1/vmt6yv27+cCcekSee1YRi6rnfJ3m2B3WX5kwQWB1YAgCRStHBb73F9P8ln8wrynUUuV0FBntNht9tsHMtyHBc1Vkq/JJZIEypmWAOMBpuZiBfNvXHzH35Df7b/WOmq1a++svYt82fpBubPmilr5i59dWvc9i8eIeSFlU/2/xbdeUIGfQeTXmOlAACQzqxNw5WPL2tqce/cvYd++fHOz2qqKs2o+ypmdC1f+qC1EfmTR5cQQj75fK91GzNHCSHLlvwjIeQPGzbSL3fu3vPSmjdWPr7MfIkXVj5Jc5R+a+3qVee+9ewThJDnXvxdHO/7AhClAAAwVHNm1pqPKyvGEUJOnm41n7Em67CMLyslhBx3e6xPXjfvCvMxzcXmEyfplzR077p1Qf9d0W9Zy1ldVVlTVWn+bDIgSgEAIAFo469u4SKhYsab725K6mvR0B2w1Uu/NW3ujULFDPNfU4s7qeXJ3WlHAACQQNVVlYrnIB3mXLR0+ZM//5W1C7e/qJlBiTXK04DQKgUAgISZN2e24jm4dvWqphb3qtWvDrbZIyueXrR0+drVqxTPQcVz8EjM0B1M8+BtzRjfSgZEKQAAJNiEceWxN/hg684FdfOjFrcM3dVXXk4Iefu9Lf2/9Z2Ftw32reRBlAIAQLyaW9xCxQyzLUin2prTgugEIuuMpCnVVVvqd5jbT5t747Be7p7bb1lQN3/FM8+Ze1i1+lW6HmbenNn0W9aXu2jujUkdvsVYKQAAxKu6qrJ+w1prIlrXcS5f+uDHOz+jS0UfXnzvCyuffO/3L18090Zz+/oNa7/3wxXDesX3fv/yrfc9ZO7BusL1vd+/vGr1q9brP/S/vENi4RINAAC56IKXaEh1ATMJOngBAADigigFAACIC8ZKM8CfHuiUvbqrilvwq6IR7+Tw+sCRd0OyVyeE8HbiHMtd9Vh+/8vQjz56z4C73ylJyN7W3dFRVWej91VNT/SD+NZrxcl7iW1P9Zh32hnKb2P3872ez0LmnQwKq3nzHgxZYNtTPbydGcrteAFGLPVHUrigb71WvPv53u5mZcR7OLw+cGhdIKm3l8kUWx7tmnyzPVW/B59HPbQuMOWW4d3Ib7jMINzyaNcFN971c193szr/J+fdEymbVFwp7nmxt73Blq1vENIBojQndB7VymZK6Zmjc36Yl8BGZKJat0lyaF2IEGLeni8ddDerNQukLI6ZyTfZGv8cPPR2MIvfI6QcxkpzQu8plZeYVJcCSOvecNnM6Ju2ppa/VRMcWX4cGHe52LYv3N4w8n4dgNjQKk1HDa/73TvD9L7fripu8s0D9Af6POreVwLmkJiznKucJ/Zv7qy7o4M+sN63nKRB6629Qal/wmt+OWB5aOGr6mxjpvNfvRP0t2q8nYy5SJz1fUfUKO9QRgfNX8WeF3v3vNhrPj9qY6uH1wdkr145b+Ao3fNSb+texbzZ+9ha/tim4DdWFVrfqXtH+NA6v7dFo18WTxMmXT/CzobGzSHzl2D9hcQ5JD8Yddkvjbc/pI/Zxbfp7+8ibZ3EaWfnXcb+9CGmYiwhxNh/VP3uT4g/SAhhaqfw//f5qCe5/3qM/ftr1OuXGE0nCSGkrJgQQto6mdopZFqVsWMvaetkaiawP/0+e+3Xra9ee7/z8NtB9y45dsPU51G3/8xHb0SfTaPFMAoQpWln21M9SsCoXeSsnC8SQg6vD3z1TpAQwluOwPRvXipgr1xeYG52Yqvc1ahFHQJoRG15tKuwWkiryTiltQItm/WYHuXud0p2P9/bcVjxfBaiA73tDcpff937yS98UYf7oYwOmr+KVI2Vdh7VeDuhn1cUmqM1C6TpdzoIIe4d4SN/CqpBcqZBNaPUvSP8+a97Kq6wzfqnvNJawedRj38kf/mHQKBdG0GP8eSbbPSXsO6OjtlLRnUQXV8TueUk8Qf1LZ8ax07yH704kh21ddL/NxqOkYZjkcdNJ7XHfsV+tiZqW1cV13HwAq3SMw0qPZUxT8sAhii9OnYMw0h1EVLs8PpAqEu74Rcu84A7/U7H1U/kq8HzfjOH1oWkAjZqswW/Kgp1aYfXB0a70Ekme7X5P3HRY31prXD1E/neFs3nUVNdrmHrPaU6xw667F0qYGmOEkIq54s3/MJFCBlbe+5k99A6P21A06ZVfgVfe7/zumcLmv8ip3/XJf/cj7j/eow+Zu66gX/3l8Lxjfy7vyROu9F0Uv+/2wghzGVThS/XsYtvs/4gffK8XX30YmQbp5177f9wz/6APs/96z/yO39LCCFtncb+o1EFyBvPm635wYyt5Z3lHCGkbCYuEQPDg1ZpevF8qpTMiO6Dyq/gy2eJ1hm8rXvD024foBkx7nLR86ky/c7kFnKUVVxx3txL2kqzNteywOyH8xpe929a0mX26hdWC9ZO7/YGxduiXfVY9IqO/Aq+sJq/YNdlWuGf+xF9wFw2lampMBqOGYePk7+/Zrj7YWoq2Gu/TmOYEMIuucv8lnHiNHPZ1PNedAhzBfIr+FteTHznNuSC7DkYZQdN1l1VF56WInv1hjWBhjUDNEBdVbjcV0aqvd9p9tP6POrRjaEtj3aZa397PBohZPMPugf8WVthOs7NHgZftnWlQK5BlKYXTmK9LRfuunRVcROvlcz+QMgy+RX87IfzNi3pOroxNPvhPELI5Jtse17svenXhdnUFh9Nqpzrg0fpQKiYQYZ8U+6L5t5ICIlx8/Bb73toS/2ONLmMfHqNlULFlUL/yRE+j9q697x5ELQjdxTLlVWUgB71zOiMNQ42XNfeoKy7o+OCo79lM8WjG0Oxt0mS3c/3rrujY90dHY2bR6sA/pDhOWN4zugvvq3+/Q/j31/vKfWCHTY+j7ppSde6Ozq2PdUT/ytCTkmzKM35pY/T73TYirgPH/O6d0Sy8/D6wPaf+Xj7eb+a2vudgoPZ8miXdZKRe0d421M9Hz7mJTA4WxHXtCUyT6e9QWl43f+nBzqPbhqNhCieyhFCzE/WRDtvt//MZ/0097zUK3u1qbed67md9X1H615l21M91j00bg5tWtK156WBp0AnSsdhhdB1WSOd6Ksu+6X2z7+gj5VL7jb2HzX2H1UuudtoOEYI0ddsVJf9kn6XvesGQojRdFKd9z113ve0f/ud0Tc7V/vnX+j/82f1+iV0DrDRcEy9fon5EnS31i2tBfC2aP1nIUTBDN5kUzwH06QRmXDoLEo71zxV0PC6v2Gt/9NVPYQQVxV30R32s4fVlvqQdd3CNU8V0AUwdMSUt5OCSmFsLW9dF2FdZ2JdVyq52KReA3YozFWeUV9ay2Y+aV6kl16wlxCy58Vez6dhugbGfJKyvtPpd9mjForM+r6jYW1wx7NeNRj5pVV/Qxqdyw9Nv9Nx5N2Qe6cctR6moILj7eSiO+yeT8NH3u2UvTpdPjv/Jy5rdy6dFLP7+V6zbtDr5V50x3lre4b427BuZl1X2n9Jpc8TCZgB1zcnHHPZVO6/HtN/+T9G00nitDOXTWO/c6MZwyPT8LqfEFI59wKzEOgMXrquNJ6XgxyUXvcr7ZS7twf+ivuVQraiF45f+Ie0vrphlIbX/YffDmb0VQu2PNplK+Iyt/xJEvt+pbaJtdabaVNCxYwFdfPf+/3LhJA33920aOly81vWG33Tb9VvWPuHDRtfWvMG6Rsf7T/8edHcG5ta3PQxvSW49Vt0Y3ObqPL0HyttbnFb7z1ev2HtvDmz4/01DU2adfACZLWL77aRvkZSpuhq1AghF981Gk3SZGjcHPK2aJlb/lR5ePG9TS3u5r6cI4S8+e4mQsjib99BCHlkxdNr3nqHdtgqnoM1VZXT5t5o3ZgQ8r0friCDd+o2t7iFihm/fX4l3WDt6lUvrXnjkRVPW7dpanELFTOe/vGjdJumFvdFlqSM8ua7m6bNvXHt6lV045WPL6tbuIiWeRQgSgFGT34Ff/Hdjua/yKkuyDCEurSKqzL4eveeT8MZXf5U+c7C2wghb7+3xXxm+6efE0Luuf0WQsgLK5+kbVPq6R8/SgjZva/BuoemFre1lRmluqpS8Rw0W4333H5LTVXlB1t3Rm22dvUq+or0cVOLe7B0XLR0+cOL7zU3Xr70wZqqyid//quhvNn4pVuU5vy8I8h20+90pHygelgW/Kooo2/2ec1TBRld/lShIffxzs/MZz7YunNB3fwBN54wrpwQ4vactj65dvWqYb3ilOqqpvPbtTVVlWY0EkLmzKwlfYkeZefuPYSQq6+83PrkN6+dF7XD5Em3KAUAgLTw8OJ7t9TvoN22O3fvaWpx097dVDHHYvs7ebqVELJo6XKhYob5jw7Tjg7M4IULs953JQbJxcre6CWbUZJ045GEyJG3CTBE31l420tr3ti9r6G6qvKTz/eSvt5datXqV1c881ycL0Ev2pAooznPKAqiFC4sR6Y+5sjbBBiieXNm11RVbv/083tuv+WVtW89vPhe81t09qwZXTt376lbuGhYO6c/Ys4HNvcZ40do+3hSZcVgG9C2aUqggxcAAAb2/UXffmnNG80t7qYWN52IRG2p3/Hw4nvjaQLSZu4Lzz4RY5uoSUZ0DtRVl8/qvyVtLq95650RlydOiFIAABjYXbcuIIQ88pOf1VRVWoOzpqrSHIlsbnEPt0lKCKmsGEcsM4QfWfH0gE3SRUuX0ylFzS3uFc88t6Bu/mD5vfLxZVvqd6xa/ar5zCMrno5aXZM8iFIAABhYdVVlTVXllvod37x2nvV5eqkEOrtn2twbjwx+0fnB3HP7LSsfX7bimefoTgghKx9fFrXNgrr5iudg3cJF9FUeXnyvdQVOlOVLH6zfsNbcId1njNU4iZVuVzvybg/sxtWOAACSLfbVjjgOt2scBrRKAQAA4oIoBQAAiAsWw0BqtDco9U+cux8cvfFLDO4d4UPr/Ob9Pl1V3OSb7SO+5xcAQAIhSiE1SmsFGp/WO8ENpr1B+fzXPVV1Nlz3AADSEDp4IQOcPapILm72w3mpLggAwAAQpZABek7o/AVu2wwAkDLo4IVhcO8IN/8ldParsBokkostmRG5cVXUnTfoDa7VICGESC62fJZ48d22/IqRVLYtj3aZ46Pr7ugwn5+9JG9YA6Xq9UuMppOEEKZmAjNlgr5zP/EHSVkxe+Nc7ukldBv9f/6s/eTX9DG7+Db6vPVJ4fhG65dM7RSj4Rhx2pmb5pLTHcau/fQx/9yPRvBOEyJH3iZAukGUwjB8/uueiits83/iKq0VfB71+EfysU1B59jz1p9te6qnt1W7+G7H9DsdpC99t//Md/UT+SNIUzo4uvv53u5mJSEDpUbTSRo2hBDS1qmv2Wj4gyNLBaPhGCGE+IPG2x9GnvIHjbc/1KdOZJfcNcSdRE2/6q+qzjbnh8Pu2U63twmQ3dDBC8Mz7nKR3kU5v4Kvvd9ZcYUtb/y5gGzcHOpuVq9+Ip/mKCGkcr54zVMFJdOFhrXB1JSYEEII/9GL7OLbCCHEaWd/8G1+52+F4xu5Z39ACDETgv3uzcLxjUztFOsPst+9mfuvx6xfCsc3Rh4vuFI4vpGpmUAIYWom8Dt/y9x1AyHE2HNo6AWj069i/BtWjqbt27yg4yf5372NsXDIVGiVwjDM/4nr0NvBz3/dQzt4nWXctG/ZK+efuzSV59NwyQyhf+uz+gZpx7NeQlJ/B2ampoL7fxfTx+x3b6bdmPrWL9hrvz7sXf39NYQQ4rQRQpj5M5mKsYzTbhBinO64wE8mXwa9zeMn+Y8/sx334FgEGQzVF4ahtFagTVKKrvXsblZq73fSZ0Jdmneftu4OOUUFHKkef6peOUkdvANL3dscEEIUsgYqMYxc5XzRf0Y9tC5gRmlhtZA3no+ahQQxmOtrc8pgIfrT/yxMSXly2Nh+zyiEKHHudO4U8Ynbc6u7HlEKQ7XtqR7ezsSOyeobpE9W+XwedWTzdePU8Lr/8NtB3k7MSU8j19pBCDH2H9W3fKL/8S+JKV8aStHbDIaZbh8makD2QJTCUNHO293PM9U3SLSbt71BadoiV1xxblFKaa1Q/Q3p45/0VH9DmnS9RAO1vUFx75Jb6kML/5Dc5tfpz8OEEDVITmyVo6LUXCViNBxTr1/Cf/Sidb2H9s+/ID4/+92bCSHsrVdrDcf0LZ/qk26L2r9yyd3c4tu0/2+d9afoYzpFlnHarS+RxLc6iEx5mxfXKBfXKIeahM3b7N095zL1//xL9wj2BiODO8MkEKIUhspWxBVWC7yd7P1NL13r6SznKueJZu8uVXu/s7BaOPKn4LFNQbq01FXFlcwQvrHqvL476yJR65eSi/3Wa8UDbmZ9XPczl3XUlhp3uehtCfJ2MvHakV/QgV1yl+Hz63/8C2nrJGXF7GXTmNkXa//2uxHvMD2lw9scLFABMg7uVwoAqUcD9Uf/0JPqguQQtEoTCK1SAEg92kJNdSkARgidKgAAAHFBlAIAAMQFUQoAABAXRCkAAEBcEKUAAABxQZQCAADEJS2j1Eh1AQAAAIYsLaMUAAAgcyBKAQAA4oIoBQAAiAuiFAAAIC6IUgAAgLggSgEAAOKCKAUAAIgLohQAACAuiFIAAIC4IEoBAADigigFAACIS3pFKWswhBCD6KkuCABAlqNHWsZyuGUYJmWlyXDpFaUSKxFCdF1NdUEAALKcpquEECPMEEIYBjEal/SKUo5heYbTDC3VBQEAyHK6obEGSwyCEI1fGkUpwzAMw4iMpKFVCgCQZJqusjrLWBGGIWifjkQaRSllY0TNQJQCACSXZqhaUGf6mjEMOnnjkF5RyjBMEXGF1ECqCwIAkOVkxa+0KwzDsCzLsVQkTZGpw5VeUUoIGcuP0XQlrAVTXRAAgKwV1oKqoZJuhiZoX4xGunlTXbrMk0ZRSj/EAi7fztiCij/VxQEAyFpBxc9rPAkyHMdyLKTnYn4AACAASURBVMdxHMtxfS3TVBcuA6VRlJK+NC02CmVEKQBA0siKP3gqxLIsx3Ecx/Ln5yg6eIcrXaI00kFPGJZlyrnSsC77wz2pLhQAQBbyh3vCumx0MDzH8RwnCALPc3xfnCJHRyBdopRiGMKybCFfUEZKfPLZVBcHACAL+eROo50QP+E4ThB4gecFnudYzhwwTXUBM096RSkhhGEYjuUmMRNUXfHJXakuDgBAVvHJXaoeDjcqgiCIff94QeB5zpzBC8OVRlFKz4ZYhuE41ik4x2llPrlT1cOpLhcAQJZQ9XCv3Kl7CKOyPMcJAi8KoigKAs/zdNQUi2FGJI2ilJhpyrI8x9WwE+2a1BloM4iR6nIBAGQ8gxidgTYjSMKNqigIkijaJNFmEwVBEASe4zhcqGHE0itKCSGR9cIcKwj8FH2SoSldgdZUFwoAION1BVpVRfbvD/I8JwiCJIk2SbJJEm2VcpH+XeToSKRXlNJPkWUYjuMEns/n8yaGJgQU35led6qLBgCQwc70ugOKL9Ag8yoviaLdJtltNEcj/buYuxuP9IpScm7ElOV5TpKEUqG4IjQurAU7A6fR0wsAMFwGMToDp8NaMHRYZXoY2rVrt9kcdjtN074mKaJ05PhUF2AADMOwLOE4jtcNSRTHa2V8L+dxtrbr7mJHOc+KqS4gAEBmUPVwZ6BNVeRQg8L6WEkS7Tab02F3OuwOu02ySaIo8JGVMJhwNHJpGqWEEI5lDZ4TdUHX9RK9mPNyp/Jaz+jufKk4XypKdRkBANKdT+7qlTu1Xj34N5lTOEkUbTbJYbfRHLXbbTZJEi3LYJCjI5aOUUr6unk5luN5XTJEXTeKjALRK3j4Vq+r3R/uzpfGOMWCVBcTACAd+cM9dDGh7qHzdUXRJtikSI46HXa73S6JoigI6NpNiDSNUtLXzcvzPCHEIAb9pCcEx3lP+zod3V2uVr/cJQlOu+AUOXuqCwsAkHphLRhU/LIaCGsh/YwRblJYlaNTdO02yW6zRZqkDodNEm2SJAjo2k2MtI5SQgjLMDRNzWdZlpECYk9vb6/NHyry+eROnuElwckxPMfyLMNxLM+k33QqAIDEMoiu66pmaJquaoYqK37VUFmF1c8a4dMaE2Ak3ibYeUkUJUmw22w0Sm02m00SJVHkeY7mKLp245e+UUqxLEt0ned5Oq2XZRmO43ieF0K8M+gIdcsBJig75FC+n7UzGqPpjJ7qIgMAjB6WcIxCdNlQ2hWji5CgzrKsxIm8nRd4XpJESRRskmS32ex9y0hFek0G5GjipHWUMgxjGAZNU8JxxHIBB57jBJ4XRUEKi7I/rHhVRVE0Xdd0TeM0nRiGYdDFM4aBJTQAkIUYnRCF0QyDIYRhGJGRWJblnCzHcjwfuU69JIr0UgyiKNLHAs+jPZpwaR2lxJKmjGEwhDl3LSSeF0TBFlbkcDhsU8JhRVFVVdU0TdN0XdM0I4JgNSqMml/tvYQQ8uisL1NdEEhTCa4hHGF4Osx5rplBc5TneYHnRUEQRYFehCFyIYbIlXb7UhQ5miDpHqXEMhjOsoRhIjfU41iO53mF5wVRoCmqKKqqqZqma5qm64Zu6JEsRcMURperIC/VRYC0lsAawvRdfZ7eaJTeypvnOJ7nBJ7nBUHgeXqtep7jeZ4zNyOYZ5RQGRCllFljiK4zHM+yLKexAs+rGm2M6jRHdU3TdV03DF23RmnCivGjPxUSQn75re6E7RGyTpHLleoiQFpLVA0xo9C8EQjLMCzH0TTlOJaGJ22H0ru+mC1R5GhiZUyUEnNOL8sSQliDYRlWN3SOYwXe0HVd0zVdN2jXbiRGiWFtjyawbZqf70zUriD7oHpAbPHXkKggZBiGIQzLsgxDaMOUXsmcZRmWQogmWSZFKUVHT+mqU8ZgWYY1ONr+5HVdj+SnOVJKEj5WqhBC8pyOhO4TsgaqB8SW4BrCkEguMhZmcrIMS4dRCSHI0aTKvCglljphNjQjwclx5jyjpI2SKoQQmyQlereQHVA9ILbE1xAzHSMHxr4nrLOKkKDJlpFRaqL1gzZSzceEmA+Shee45O0cMh2qB8SWjBpiDcvBHkPyZHaUUoPVm+SlKR2vBRgQqgfElvAagrxMuWyI0sEkr3qh4sKA/rysONVFgLSGGpKtcPoMAAAQF0bxHEx1GQAAADIYWqUAAABxQZQCAADEBVEKAAAQF0QpQMLc/Fznzc91proUkL5QQ7IVohQAACAuiNLhwUklAABEQZQCAADEBVEKAAAQF0QpAABAXBClAAAAcUGUAgAAxCWb7wwDMMpw3w+IDTUkW6FVCgAAEBfcGQYAACAuaJUCAADEBVEKAAAQF0QpAABAXBClAAmDSzRDbKgh2QpRCgAAEBdE6fDgpBIAAKIgSgEAAOKCKAUAAIgLohQAACAuiFIAAIC4IEoBAADigjvDACQM7vsBsaGGZCu0SgEAAOKCO8MAAADEBa1SAACAuCBKAQAA4oIoBQAAiAuiFCBhcIlmiA01JFshSgEAAOKCKB0enFQCAEAURCkAAEBcEKUAAABxQZQCAADEBVEKAAAQF0QpAABAXHBnGICEwX0/IDbUkGyFVikAAEBccGcYAACAuKBVCgAAEBdEKQAAQFwQpQAAAHFBlAIkDC7RDLGhhmQrRCkAAEBcEKXDg5NKAACIgigFAACIC6IUAAAgLohSAACAuCBKAQAA4oIoBQAAiAvuDAOQMLjvB8SGGpKt0CoFAACIC+4MAwAAEBe0SgEAAOKCKAUAAIgLohQAACAuiFKAhMElmiE21JBshSgFAACIC6J0eHBSCQAAURClAAAAcUGUAgAAxAVRCgAAEBdEKQAAQFwQpQAAAHHBNXiH5Gfv9rb2aISQpjMaIaRmLEcIKS/gnrg9L8UlgzTwg9e9tGJYXTpB+Pk9+SkpD6Qb1JCsh1bpkNxwidh0RjP/GOjjK6fgFnVACCHLbhzgjOq+ubbRLwmkJ9SQrIcoHZK5U8Qy13m/qzIXe9UUKVXlgbRSM5ajHRWmSycIl1YKqSoPpBvUkKyHKB2qh+oc1i/vu8qWJzGpKgykm6hmBxocEAU1JLshSofK2jBFkxSiWJsdaHBAf6gh2Q1ROgxmwxRNUujPbHagwQEDQg3JYpg4MwxmwxRNUuiPNjvyRBYNDhgQakgWw2KY4dl1LOyX9W9egpNKGEDTGa1X1nGghMGghmQrROmw9coGencBAMCEsdJhQ44CAIAVohQAACAuiFIAAIC4IEoBAADigigFAACIC6IUAAAgLohSAACAuCBKAQCywarVrwoVM5pb3AncW0J2lQsQpQAA2WDFM889vPje6qrKhOztrlsXEEJWrX41IXvLeohSAMgVt973UP+W1s7de4SKGea/R1Y8nZDXitpt1L8Rvwrdbf+Ee/PdTYSQ7yy8zXymucVtfcVb73uo/94eWfG0dRvrt6qrKhfUzX9l7VsjK2euQZQCQO5qbnHXLVx0ZNf7iueg4jm4dvWql9a8MWDqDNe8ObPpPhXPwSO73ieEPLz4XvOZF1Y+Gf9LWG3/9HP6ouYz0+beWL9hLX25+g1rt9TvuGjujdYfufW+h15a84b53muqKqPS9Lp5VzS1uBPVY5zdEKUA6Yg2PmhTI360gZKovWWT6qpKxXPQ7BS95/ZbFtTN31K/I+Py46U1byyom299RvEcNJN13pzZDy++t6nFvXP3HvrMm+9u2lK/Y+3qVeZ7/+3zKwkh1ubyVZfPIoS8/d6WUSh/pkOUAqSjZ3/1Yk1V5T2335KQvdHOuid//quE7C0TvfnuJqFixpb6HYSQGB2eo4x2OA/W5XvR3Bujul4vmntj3cJFhJAVzzxHn6fRSP973bwrhv7StBVrrWDz5syuqar8YOtO6zOEkI93fjayd5dTEKWQqejBsX9Ly3oASuAUxBjjXlH9ZsNy0dwb+/94c4t7S/2O7y/6dtSWsd9X1OBc1G9m8bfvsDZKcs09t9+ieA7Sdhvtz3zv9y8PuOWW+h01VZWDTd6J+hTiGfukH6LZAxzVsUxrhdk9S7/11a736zesJYSsfHwZ/RZNu5OnWwkhlRXjYrwczUiznfrB1p01/d7jlOqqpvOb4zVVlceaW4b71nIQojS9YDp7nG6976HvL/q2OSJFCEnU79PcJx1VqqmqNL/8atf78e/fave+BtLXvUZd8H29+e6muoWLzCPsyseXLVq63Jqmc2bWEkI++XxvYouaZWhi0a7OAX3VN7IY9W+4Y580es04r66qXPn4si31O+i5TnOLu6nFbZ5LzZsze7Dgp9ye04SQCePKY7xcU4t77epV5jNNg/9RWOtV/3CFASFK0wums8fpvd+/vHzpg+aX9NiRcYM9a956h5w/heSC72vR0uUL6uab2yxf+mBNVeWipcvNDaqrKmuqKjEhsz/rTNct9TvqN6y1/uaT5IOtO6OGNumZE21fUkP/sI67PYSQ8WWlUc+b7+ulNW+sXb1qBOMF1RMnkPPDFQaUeVE64HR2E+1+SdQHn/Lp7Cb6rgfsncvN6exCxQyaE4uWLqdvfMAPnZ6n0wNNstEO58E6YK0fE/0caZ9BU4u7qe9QbtaoLfU7oo6zUaLeF93h4m/fYd2Gtmmsdeab187DhMz+qi0dDPUb1tYtXDQKfTlNLe4t9TusFYYOgppFWvn4MrNijPhVrFOI6V8KPv0kybwoHQzNp8T2RaR8OjvpO2Wm0yX6y9np7HTdAiFk7epV9L3HaMpPqqwY8Pmos5B4xj4fWfH0oqXLzQ9iQd1862HrkRVPWz8metBcvvTBqL5iWqPoT9HWQGzm+6LdtlH9e3TkzNrKodufamsf7rvLHfPmzKaDkYOdKCdwrNR6MDH/mQ1HWj0eXnwvIWTAM+9hqa6qpEewR37yM/pM/4FS68bxvFZuypIofWTF03ULFy2om09rXobqP5191epXp829saaqcuXjy/pvj+nsF/SHDRvJ+YOOVi+sfHLAca/hjn3u3L2HdqCZH8QLzz5BCHnuxd/RL2lvnvldOtg5GBp1g8X/gO8rRrObjqJR/cMV+qPdpM0nTg743USNlcZ4CStaRRfUzV/xzHMxToiHcpJEq585h2jAQdBjzS1RhyBaSITrBWVSlMaYzt584uTKx5fFHplPkqROZz/u9jy8+N7BjuyYzh4bTbgFdfOTPfRFG4V0Xg9FByatx8qhL1W84GzMEb8v2my1hiv0RwNpKL0C8Xh48b1DrxIXLMxQTpLoa02prqJf0kONdWLazt17mlrcUYegY80tMdqvYMqkKI0xnT1qUkZsGTSd/YWVT8Y428V09tjoKQttICYVbRROO79eWT8F2ltAN4h/Ocqova/sQ3PC+hGsWv1qVH9+5Neb6OGbKMuW/CMh5Kbv/JP5DB2iMktlPZLQMyfaNBzw5Lj/SRJteFi3oa9lVpv+E9PqFi6qqaqMOpA2tbjN9IUY+FQXIAUStXRhwOnsK555bufuPfPmzKbT2c2O2fins/fX1OIe7ISxucVt9slMqa4abKg1i9HjY/2GtTH6pugQZv/na6oqR1BJYnTb0kH3N9/dtGjpcjoSMeIelAHfV4ze4NhrDXPN8qUPfrzzMxqWDy++94WVTy5f+uAra9+ypk48n87Q0blO9LTefNKsQsuXPnjc7TG/FVUk69yoI7ver66qNPPVDMJ7br9lzVvvWHdOh+StZfhq1/vWAtBfiHWDEVz5IWflYpQmyhCnsw+xuTzYdPb4mdPZc2fA49b7HqKr6GJ3gcZu9A/XBX/D99x+yz2337Jq9asrnnnuzXc3DbYyIUY37GDva8D+PboHa7fzUBbyZ73+MZnwZcH9VfeLsQu+dIzKSc/Mop6k1zu0PjOUE4LY752OXAw21QCsMqmDN92MznR2GK5HVjy9pX7HyseXJeqqexdE1y8NcW7XBZOMnk71n0kU433RvKSrUU2vrH0r6qo9I+j5gExBl0Il9jLLH+/8rKavyQux5WKUZuh09v5yfDo7zQ8698q0avWrL6154+HF9w597Dx+8+bMpnMsrYNwF829kR7XrGNgpC/wzErSf60n/eyipnfGfl/mtXLMIym9uk3UVXuS1/MBKUdrVNSfQzwGvHolDCYXO3gT2J8zxOnsL6x88tb7HlrxzHN33bpgsJAzp7MPPQUHHATNnens1VWVa1evWrR0OR3vpF1eK555jhDy0po3ogZBk30Jm/d+//Kq1a9auyXMi8vMmzN77epVAw6JEUJeWPnkB1t3Tpt7IyFk5ePLaFL276y74PuiP7ho6XJzIkn/PkA6Ty37agJQdK7GsiX/mJCPmPayjOYpaUbLxShNlIcX3/vSmjeGOAaZkOnsUa6bdwVtiJhNHDqdPepEMouns9PRR+szsZdsJsqAZ2PLlz442HGnfzlj741+snT+Gn1mKO8rRgFI32VdM3rhNcQWuwKkdm9ZL/M6ePtPZ0+VZE9nvyBMZ89W9OLJ9DoMiUIvkT/gZSkBIE6Z1yrtP52dEHLrfQ9ZO8Rod9nIljQMXbKns5N+qzXM/kPzVTCdPSvRiydbL7URvzVvvYMpJABJwoxOhxgMBT0hSOwnQpdejM7NLiCBdu7eU7dw0cju5tFfc4t72twbE7U3AIiCKE0jdAl/Yo93t9730LHmllFYOQcAkLMyb6w0i2E6OwBAJkKUppeVjy+js4ITsjdMZwcAGAXo4AUAAIgLWqUAAABxybzFMAAAGccwjBH8FMMwCS8JJAOiFAAgiawhOqxAZRiGbo9ATX+I0uHBqSXEhhqS48wKQB8YRuQJgxh9zxDCsAzLEoYlhm7ouqFrhJyrNrQyMAwTedBXO8znrZtBmkCUDhVOLSG2qFox9Epi1hCCSpLJrCFqGIZBGEaQCC9yvKSxIitIPC8yHMuyA8xQ0TVd13VNDTNKSFdlPRzSFVlXQgwxaKayLMsYhGGIYUSewVElrSBKBzaUU0uG5QjD4NQyZ5l1w/JfYhCzwhiEYQnDMgxLCDEM3dA1YujWPZyrHgzDEPoANSSTRNUBgxAi2FnJyUh5oj2PYYhuGGc6QydOB1vaulo75aCsBWQtKGtBWSvMF7p9il3i7BLnkDi7xJUXSxNK7VVlhePK7QwhhkFCvV495FODPi3UyzIsy7Is25eshKG1BVUlHSBKo/U7tSQMbyO8yPKizkmsIHG8wLIcyw16aqkqMquGNCVkKLKuyHo4ZNZ4nFpmh+gDKMszgsjwIitIOiuygp3lOI7nBvxZVVUNTSWqrIVDejikq7KhyERTGSvCMIxhrRWoIWnIep7N2AuIrUByFDAs094V2vO3ngONpw+d8J08ExxBjz9DyISx9osn5l862TVrasnYiRN0XVd6u8O+Trm3i2NZjouEKsuwtKrQgwnqSapgXSkh/Y+MBmEkOyM6iJgnOPNoc6H1bNB9Jni8LdjWKdPzysD5p5aOvrPLsmJpQql9Upl9XImdEKIbhhroUfw9arBXC/WyLE4tM1JUJdEJy0gOVnLqYr7NbiOEBGTt5JlgS1vAfSbo9StBWQuEIpWEEOKQOLstUklcTqFyrH1Cqb263G6TeEJIMBA0Ql416NMCPoYYLMsyDLEcK89rqqKGpJblQGEQ0WHYXIKzkOO5L77q2rr/7IFGr6cjlNhXrCixXTrZNa92zBUXFymKpvjaQ96zuuznWJbjOJY2V/vqCSpJSiBKz/vDYOwFhpQvOFwsx3Z65f2NPV8c7T7U4jt5JqQPfzoJyzATxtouriq4bHLB16e5igskTdUUf1fY16X4uzj6V3D+4RJ/BmnI2lGhMyzvLDQkl2B3EEKOuHv3HvXub/Q2nfKf7QmPYOdjCsSa8c7LJrsum1IwfWI+IUT29yq+s0pvJ9E1HCjTTV9fFWHsBYxzDG9zNHp6P/iifeu+jg7vSCrAsJS4xLqZJdfOLJk+MT/Q6wt3nQ77OnmOYjmOYwhDT9MJKsnoyt0oPS9BRQdjL2DshbzA7zvWvW3/2f2N3hNtwcS+4sQy+2WTXfNqx3x9WqESVuWeM2Ffpy4HcGqZtvqdZrmkfJes6Nv2te/6smt/o9cXUBP4cvkO/rLJrjkXF90wu1QU2KC3Q/aeVfzdtIbQEy/UkJSw1gTWWaTZx9jstvq97evqTx052Tv65Zk2Ie+Oq8d98/KxwYA/dPZUqPuMIAh8X6BaKwlqyOjI0Si1nloa9iLRkXfyTGDL5+31+zpOn01w50x/48bY6maWfPPrpZVljoDPK3eeVvzdPMfxPN93uGRwrEw5c7CcyxtjOMYIorDnq64Pvmj/eF+Hpo1kxcvQcRxz3azS62aWzLm4SAnLwbOng52tPM/ynFlDWDQ+RlPf6ZTLcI4VbeL7u9veqvck/Gx7uCaW2RfOH3/b3PJwKORrbQ77OgVBEHi+L1AZpOmoybkoNfowDpdhHyM5HLsazv5x26mGpp7RL0xtTcHCq8dffemYQK8vdNYT9nXyPG89tcThcvRZZmMyXP4Y4hjDcNz6bafe3XG6rUse5cKUFUm3zx931zUViqKEOj3BzlaOZXiO43mOZVmO5dD4SKpzlYETmYIy0VnwwV/b/vt995lRrwkxjC2S7vtG5S1Xlvm72ntaW4gqRwUqXX6DGpJUuRWlkWaGlMe6ynjRtnVf+1v1p464U9A/YzWtMu/Oq8ff8PXSoN/f29asBXoEgec5nh4ucWo5yiKdeHnFTN5YzWD+uPXU+u2nvL1KCovkyhPuvHr8/7p2PMfoPa3Hg51toihYApVFH0Yy0BzVdZ1zlfEFpcdO+l7eeGLv0e5Ul2tgs6YW/tOtE6dV5nedOt575oQoCALP93X6sjiGJFtOROm5uZcsb+SNlQqKduzveG2L+3hrINVFO2dSueO+b1bWzSzxdZz2tZ5giWYGKm184NQyqc5VEtHO5JUJDufb9Z41H7gDIS3VRYtw2Lh7r5/wnRsm9Hq7faebiBKkw2ORfgwMCiRU5LSbl5jC8QZve/W9lvXbTqW6UBd25zXjH7ylKhz0dZ/4itHCohgJVPOkfMALRED8sj9KzUMkmzeGLRjb2in/5r2W7QfOprpcA7v60jEP3jppXLHY5WkMnm21/iXg1DJ5Iu0Pg3CuMj5/zN4j3S9vPH7M4091uQYwpcL5vVuq/m56UXeru7ethedYURB4nuf5cyMCqCFx6hsDKuSLKr487v2PtxrdZ1I8LDp0lWPt//vbky+pdp1p/DLkbZdEURJFelaOzt7kyfIojZxacgIpKBedBWs/cL+2+USqC3VhD9w0cdE3K3s727tPHmOJLkYOltG9eZAQ5ixurWCcpnMvbWz582dtqS7UBdx8Rdk/3VYlkHBny2FDDkiSKJjD7DhcxsHs1CUF4yVX8Vsfe17ZeDzVhRqJ79826dvXVXSdPtF18phNkkRREAWB41ie43BGngzZHKXnRkYLx7d2Kf/+5rGDx32pLtRQzZiUv+zbU8sLuY7jB9WAVxJpnuLUMpHMHgvGUSQUj//8cNe/v3msc0TLQ0dfcYH4o7snXzmj+Ezz4UBnq00SRUHA2Fg8IjlKGKawUudt//5m47b9Haku1Mhdc1nJsnumqL1d7U0NosDZJCkyemrp4Up1GbMH9+SyH6S6DIl3rlO3oFQorqjfd3bFKwdHf/plPNq7w3/+tLW8xDHz0smKqvm7zxLSdyVfy18A/hhGrK9T1yAF48XCsa9vcf/HW8folYkyQlDWPt7bwTDM3MsnE47vOdtmGITQsVKWMasGasgQRToneFFzTfSG2RUvH9p71JvqQsWlpS3w+eGu+bPHuUrKejtbNVWJxCdDGIY16wVqSEJkYZSeu7Rb/jjRVfLChqbfvNeiJ3cdYFLoBtn1t84ev1p35WSGE71nTkUue45jZdz62h8sW1ylsPZnXj+y8ZPWVBdqJPY3ehs9/nlfr3S6ins6Tuu6RiJVwjAPl6ghFxTpwRJsTNFET6f6ry8fyqDB0Rg6fcqOhs6/m1E6YeKEns52NSzTukAvIY6uiwTKtig1548wRRNZe8ETrx76aE97qgsVl6/cvYdP9H7jqmrR6eppP0VvPHLu5BLHyuEz2x96UVWHnzz28qG/NadgVXGiuNuDnx7svuqy8cXl5b6zraqi0LrBsrhs75D0DZbb+ZJJB5r9P375oNefyrVPieUPaR/u6fhaTdG0aZO6O1o1JWxZi4yTrYTJqiiNtEdZnh1T2asKK14+dKAxs7toqFMdoT1HvHWXVxSMKfG2n9Y0LXJqee465/hjGCrzuEmKJra0h1e8fKi1M+nXt0o2r1/ZceDs311cMqGqsudsmxqWSV+VYBmW9N3zMtXFTEeRq57xIima2NDs//FLX6pJvpTV6FM14y9ftF82ubBm8sSuNk+kp5cwDBsJVYIDSNyyJ0rNHCVFE1u95F9fOdR8Oh0XM4xMhzf8ycGuK75WXjZ+fHfbSUPXGYawDGsd9sAfwwWZOcqNqWpo9q945WBiL6KbQkFZ+2hPe21N0bSLqrs7WtWwHDnTskwwQQ2JYvbz60VVLe3hFa8czL4cNW1vOHvlJSXjJozvPH2CGAYTuYsG2qaJkSVRavbrsmMq27zkqd8dPtmeDUMdVr6Auu+o9+8uKS0pK+06fcLouzchy7Fomw7FufZH4cQD2dj+UDXjgy/aL51cWFNT2dV2kjY+6GRvFofLQeiGwRZXdQXZH7+UPedVA1I147ODXdfOHldSWnL21HHSd8N5HEASInuufGEYBlNU6QvzT/7usDvrcpRytwef+u/DGucsmzozGAwGQ3JYURRFVTVV182rr8OgdMLorgp3R/invzuc6rIky09/d/hkp1Z+0eWyogZDoZAsK4qq6RpqSJTIb6NgfJiIj796aGT3yMssZ3vCP/3dIcaeX1ZzSTAYCslhegDRdA0VI07Z0CqlfxJ6/jjWXrDi5UNNWdSvSFrE4wAAIABJREFU258voP6t2XfbNdWCzdbd5iEkcv9wjJvGZhiGrutsUZVX5rJsXkkUVTP++lX3DX9X7ioq7jzVwljuM4SuPFPkSsvOYrGw9JnXj2T0vLNh8fqVk2dCt147NRDwB7ydDMNyHD2ARFYFoG6MTMZHaeRPoqBUdJU88WqWzDOKrcMbPnrS//d1U1VN7+1qj9w8/Pwr36e6jOnFbH/oovNfXz6YHescYvCHtAONPbdePUmUxO4zpxmGidwPl8OlGwgxu/pFh1BS+foWd4augxoxd3uQYZhrr7zobOspNRxiWTZyGTWWxZj6iGVDlDK2fKFo/AsbmjJ93cvQneoI9QTUG+ZO7e5slwO9hGHoqSVtdeBYaWVeT1UsKlv5P0czfd39EHX6lFMdoVuumdrr6wn6uulRkmVY1BBKNwhTPHHvMd9/vHUs1WVJgf2N3hlV+TU1E9pOHGMIYayXb0aajkhmj5XS6+syrnEffXHm3R2nU12cUfXujtNb/npm4oyvKzoJ0SExVdU0rW9EDCMfhPS1Pwgv8UUVb33syejrwA3Xtv0db33sqf7a5QYvmTVEVVFDiGEYnKtM1vh/fzMXc5T69zePGZy9bNJFwVBIDsnhsKKqmq7ruVwx4pHBUdrXa1fe1q2sysk/iefXHWvr1isumhkIhkLBUCgkK4qqaZhgch5d15nC8V8e92bodcnj8crG418e906YPtsfCIZCcigkhxVFs1SRVBdwtEXetWjn88e8vPF4plxvORk6e8K/ee94xeTpnC0vEAyF5LAcDquqpuk6AnUEMjtK2bwxorPgF28cU7JrVcMQKZrx3FtHx5SNKxo/KRAMybIcVhRV1XQDfwkRhmHwheUGb/uPtxpTXZbU+I+3Gu35rtKqqcFQSJbjbHwwafAvXoZhGHlle490p//9f5Ltz5+1/fVwV8W0S4OhUCgUCiuKqqmaphkGyc0zrXhkapQahkFYnisoW/uBO4Pu95JwB4/71n7grpp+qUrYYKSfRqGnljn+xxBpmHMil1/y6nstWT/VaDDuM8HfbjoxcdrXCG8LhuRQ3/nWiBofRhr8G7nIFMW8YsnhfDn3uigG9NtNLcUlpWMmVAdDshySZRlrY0YoI6M0cpTMG9vWFcqI+48m1WubT5zuDI+ffDFtdsjhsKqqfcfJnP57MAyDKSg74vat33Yq1WVJpfXbTh1x+8ZNrQ0Eg3Jfy1TX9RxsfBiEYfLG/uHDk+l5X/fRd8zj/8OHJydNvywUDtN16qp1ACCX6kacMjVKiZQnFRS9vLEl1WVJC6++d3xc1WRHYQmdQUCbprSbN2f/GAzDYOwu0Vnwm/dy/WSLEPKb906UjRtfUDqeNj7C4fMaH7lQSSKdFPljNIN546OTqS5OGnnjo5Ma4cZOnBKS5RC9bIOq0DgluVE3EiLzojQSD/llO/Z3bD9wNtXFSQvbD5yt39cxcfrMQN8VTFRNy+Uxj77VxmM/+Gvb3qPdqS5O6u092r3p07aJ0y8NhvommFgaH6ku3SgxCCGOMX/ceioQypi70o6CQEh7e+upCVO+JoeVUN9ouqbp9OCR6tJljAyL0kgw2AtEm+21Le5UFyeN/P4Dd77L5SodH+nkpX8POTnmEclRZxEniP/9PipJxO//4nY488aMnxQMhcJhWkPOzfdOdemSK9IkzRvDcvz67Tnd2z+g9dtPCaJQNmlKKBSOzF7UcqVuJEqGRWmEo2TrvvbjrYFUlyONHG8NfPhF+/jJM4J0CWFflubsmIfmGPP+7rYzXXKqC5IuznTJG3e1VpxfQ+iAKcmBfjzDMIij+O1tHm9v1l4zcsS8vcr6bacqJ19CJ3lH+v81PUfqRkJkWJQahkFs+ZLD8VY9Ti2jrd9+qmjMGFfpuBD9cwgramR2SW79JRiGwdgLbDbbW/WeVJclvWzYcSrfVVA8bmKo74BpNkxTXbQkovWfsRfwophrF3IZund2nLY7HUVlFbKsROqGlv11I4EyKUojrStH8a6Gs0fcvakuTto54u7dfuDs+CmXRPp4FSUHG6aRt+ooqd/bfqItRxfADOZEW/CDz89UTLkkJIf7Zqep5qhYFtcQwzAMybXnq+429FIM4kyXvOerrtLKKXI4LPedZVlmeWdt3UiUjIlSo+8K1KIj74+5vbYhhg3bT5WUjnUUFIdkWaH3X8ulhmnkbYoO0W5fh36Lgbyz/XRRcbGzcIzZLtW0LL9cnGEYOsNK+a4PcuYa3SPzwRft4ysrDZaT6c0bc+zoEaeMiVLS13Hnbgs0NOXKHZGGq6Gpp6U1UDK+Ug6H5b6pvHQFIcmNMQ/DMDhnYaOn98hJ9FsM4MjJ3iPu3rETqmjjI0fWEfLOwrCif7wXURrLx3s7ZEUvragKK4osR6almeuPU126dMenugBDFfk7txV+sAMDYLF8uKf9u9dPO9bwuRwOS4qoqpqqahzHsUb23wwkkgU2118+wlrSQX20t/17N039au9ndDRdUVSB5zkucmeQVJcuwSInCJJr6752LcmXF31kYc20yrySQqnUJdJnevyqpyP48d72DduHNEZbViTdXVdRO7mgYoxdEiPtHE9H8EyX/PoWd7KbEJpufLSnfU7NlNbjRyI1QxU1Tec4nSWcYRjZVz0SKGOilBDC2AtEka/fl0M39xiB+n0d37ulqrhsQtDbEQ4riqqIuqDrutF3M8LsxtgLeJ5DJYlh676OJd+qLhk/0d/ZFg4roqha15dm3xFTJ6xkd+z6MolnV09/7+LZUwvN8DMVOPkCZ/7FVfm3zx/34xe/jD1S+8BNE781d1yBM/qYXFFiryixz5pa+MmXnU/+9lCCi36+3Ye6br5iusFwdKaFqtHrePDZVysSLjOiNNIklfL/1uQ9fTY0Oi9aViQtu2fKrKmFhBA5rN+24pMh/mBtTcGtV5ZPr8qrKLHTZ+Sw3tEjH27p/d2fW5I98eH02dC+Y91llZOOtJ9WVFWlN9bieY4zGDrenKV/En39FgVffNXV4U3iHT/Mz7ekQKJHzxF8vg/cNPHr0worSuzmobPdG+7olofeghmxDm/4i8Nd4yonH249GVYUlR4zeZ5l9SzruoisMLblEUL2NybrPrW/WHIJPUrEUFFi/+U/X/qj/zowWPV4ZGHN7fPHxd7JVZcU/+e/XPov/3lghAUdAvpbco0ZG+hqPze/W9d1lmWz8TQrgTIjSgkhhkEEh+ujvc2j83ILrx636JsTzcNc//PNwQx4fiqJLD21nF87Zt1WT7KvG7xt/9n/51vVf/tsW2QiXmQ0jMvKHjwrgxDRkb91f1OS9l83s+Qfbp5oniGZrJ/v5t1tL2yIVYDBdlLqEktd4sVV+TddUfbkq4eSesq19cDZR/9XzYFdSjisRKbxahrPX6ATLx3Gy0ZQfxnR0ejp9QXUJBSHEELGFkn0QdNpf0Njz9b9HbQntm5myXe+MaFmnJN+t9Ql/mBhzYDNyrqZJdYc/eTLzo/2tNOelbqZJXdeM/7iqnz6rYur8h+4aWLyDiC+gHrE3VtcWu5tP6WofccOTec4AzkaWwZEaWTurmTnODZ5p5amsiLp8fsvMuvusPznv1wa+wclkV30zcp8Ox/7aBun/Y1eQeDyi0rCQV84rCiSGrkNCMsl70VTK9I7KdhZlj2QnEpSW1Pw+P0Xxd5GEll6TBzs862bWbL8nqmxz8xqxjljt2Did6DRy7Gsa8zYcKBHUSSz7RG7hmTcgTQyUCrmf/5VEq8wKit602n/C+ubosYy6/d11O/rsLZZL5lUMOAe/uHmiebjd3ectlYeuhNrm/Vbc8cl9Vx871HvTbOqjuzfTaO0b+YRovQCMiBKCe1YEB0dXjnZKwUfuGni3ddWDL0NavWv351m5qgc1jfvbjPPTx+4aeJ1s0rMhshNc8rMbyXDibZge7dcVFp2qqlLofOOtHNLxEiW9vEahsFKzjNdIU9HUoYAplREmhc9frXxVO+mT9tou6G2puDuugprV8Rgn29ZkfTPd042N2s67d/8WRvtzo3aSalLXHbPlMde/DIZb4QQ4ukItXaGikrLPY2ddIKJpolmDcmm6mGwvM1uS+op+MOr9sX47nNvHnv1sdn0Yy1w8mVFUtQZ0sKrx5lHhr1Huwc8CXthQ1Pt5ALawC1w8kltmO5v9N5zfQUnSHQ9jKbp9DSLcFl7Ip4QmbEYxjAMIubtPZrcJul//suli75ZaR7pPvmyc+hXQi8rkubXjqGP5bC+6s2jL2w4d5b62uYT/7Byz6GWyH1VJZH9/m2TElr2aPuOeYvKKlVVo6OlkUaHrif1RVPLMAwi5e09mqwTlC6fIof1D79ov+vJzx578UtzZlNDU8+Tvz206s2j5paSyN6/oLL/Hn6wsMYcMjjU4nt41T5zWNTciRyOfEazphbW1gzciEmIfce8ReUT6ImWqmnm/cCzaUmMYRgMLxJCmk6l7JZqbV1yR8+57Jz7teKoDa6bVWo+fn3w64rv+lun+fiSSSPpMxsi+rty5rtoxdDO3Y8PS2JiyYAopX/ZvCNvf2Ny54Kbbcqm0/7//euGJ397KBQeavb8YGGNmcHrtnoGnEH6zOtf9fhV87XK+oZYkmF/o3dsebmm63SsVNWy/J5rhmEYhBHseUnq3SWE1O/ruG3FJ//2P0cG+671xGtsvw+3rEia3dfR1+4NDzh5pH5fx46Gc12RA+Zxohxo7BlbPk43DEVV1L5rxGXTyVakA4YXQ7J6tieJ09CGpcsXfQVgs0na7g3H6KmyNkMnjHUko2zU2Z6wP6Q58gs0XaeTLGjNMOK773rWy4AoJYQwvI1lmEMtSb8yQ7s3vPqdpodX7Rtu76s5CtLjVwfre2n7/9s78/g2ruve39kH4C6u4ipREkVJtrV4jXbHseRafs+Wm9hOrMi7nY/i1zSV2j7Vr6qjfhy1/chp0+enT5zUSaPIie003hpvUmxTsTZvWiNRK/d9AxeRwAwwM++PM3M5BEiAJABi4fmGHweEQOBi5tzzu+fcc+91KVdahvcNuOPm/Em3MyTV9QMsyzpTYWjp0zRd08wFD8mqpowgMQypbhiIVQOOnh2OG3LS/aX0G2uHJw6OnBlz6u4X7w0fwRtVj3m+YYAhJCUt07IQGpVG7zOnGsMgjCA1dU5Rzf9YiMJwatRvkJ2fJdFERVNHiPM5mrvM6S26bjVKNHe6U9Mzh4uOYB49yYwj0iSAlBqGQXiRENLUEd0u8dyvLnxr5+eTWIpwbXk67Q92sQzE7m2jmqWBa+VMy/BpPh/k76zp0uh9aAwBIzEIaeqI0313K0pS6ePfjr3PfrtLsXvM6KUumjrcBiGO1HRN13w+Tdc0+4R6ojtNaL9BDJ0Va2N6hNTGVTOp8tW0+ueZ7fnenv4QR9bQnBYhJKo5rfr2oZSMLF03wCg0XaNlFoluGNEjIaSUMLzY2uXWo3wXJ72uf1nF8Kqys3XBoiK7TgfmACOIbhjNne7U9AyIRyFDk8TbaRoGYXmptcsdJ1/PPj0G5GSat7uzTw1emmuvrQucWosUBiEtXZ6UtHQ6XRraQow4+JkgrOBojN3oKj9L+satxfTX9z9t93tBeopAH19oDJFQ6bUdDxc9wyCENHa40zOzNd00CV03MCgNSbxX8MLdYwWpriVOow1CyJzCFPq4PtQQuH/QByGsPe0TDRo63DPTZ2iamb7TdI1OlyZblaY1K1bfHEsjsS8VVbz+k440NBkYChF82M9YtbvaiNPQPlSYkQ1hBzjMEOaRaCZjGAbDsX2DsTmg9OmN5bcuzaX5qrcOtQZmvOyuI37oG/SKoqSbc6UaZnfHQ7xLKSHEIIbGSU2drlg3ZExk2+KZkKHtgNsLvSvaEx5Nne6Ka2ZA1QA9/CNZ+0M8GIk9hXtmZImcPR3X3hNitShN8JIou9qmTvf8a7J0w0zualpSTZaC9+d53q1oU/BxOx9dUJo/PJayj6v6B31vH2mN9sYsEcStaILI67ph5inMuVJCTwJPpoF4pIhrKaXZeY4XQzqgGBLVVO2kae9RUlJzzEUwhp6UdSVkpJG0xc5Iri1Pt68q9psNjWo6btK09ShO00IMa/XgcG1aMrhLhiWEDE2JlJbmOwJ3sCKEdPappy/3Hb843mV18cCQR2MYhuU4M8FrWyKVJIYRBeJaSglN8LLs1PSHZGJI0XjBHFpqGp3uIMlXeUSNZGrij1GxLxQ+fikxjph2WxYCs2JG8o20GJYQ4vZMhVX0D/qKckZ5PjdDvO363Nuuzz1xqff5Vy8nhGGAs+U4Xh8mGYrRokq8SymBihIull4yQXErGs9xhmHQchJ7UUmSjS7BSGI13tq4aiYNSfsHff8vmrtCRpChkRYy7DKJkXjzoqPBTGFU6rdQ+Nry9GUVmddXZFLDWDovM9r7QUYKcLa8IBiad3j+HHU0KAlQwcuwHJmq/pBMDJn9QTR11OoLydkrIP6IhZHkZ0mP3Tkcku470BD/vhKAy8XxwggVTTrbiMn3OVPT/8v3G/7i308/96sLdAer3AzRbxvnjsmaSuBWDxHHCBDR5LONCJIAUgq7aGNUOlHMoSXP2wPTZO0MDBsbKc3Pkv71f11H91748MuoH5EWQeByCYJgjbSSLfgwDJ0Q4pRiuXls1cku+6aSC8rS7PtB2kvMQp7UNqHyxnCAK+bzmmptDbGSxzCiQUJI6dRlaSaHfen0+FHGvSvh5MhMEwghHC/QnpBkjnIEMTKSZ749n1ZiV9cPjLWt4OXmSe4BOxTNeb4RFjKytCR6HzqVGLpGYi2lhJCqk112yVyzeHhO1R5cyqFO0aDljZNzOOPHIXOEEFVVkzJLESUSQUoNnRDiEOP3XAL70umNq0Kc30uXkwau4o8svQNeQojXqw67SJJUjnIEsTAS+5l6zV3uIGcy2/ehtC+ZGJUJLdsPBz8LsQcfSWIkYBWxllIyctsNe8G/PbgMuRCA7kYZbdfhlDjDMDTNxzDJeYpUNEgAKTX0eOkPY2EPHUKuqadBTNSHlhJHCPF6VWKbH00SFxmArmlkao3ErqOdferfhjoQjSYhQm7NYV9LOulwdjzYLSRZ8Xl9Tjn2riN/xrBM+s2P0oC1KMcRZDvAh+4opfMItS3R3QrRIXFe1d87oaYGJyGkVCOExEN/GAt76BB8Tf3aJcO5nZboHKtJgbyWV1WTVD1HMrWzYv/ynUV2HR1PWSaNJEJuzUHdrqLq0TvUllApVZNZSg3dlxHNHaPGQ36WVJQ9nIo4eGrENOf5+uFdu7+7sXysN7l16bDrsJ95EA0yUgRFVRhCGEpSVHRHlQSQUkIMXdNjPuERBHulydzi1CCvvPOW4dNgjp3rCfLK8HFInE/T/MLQ5B1aGrquT8146+mN5Uttx6WNc3mDPcX30B2lY70sP0uCE54JIc3d0d0H0TmahSQZmqqU5IXIqIfD//5WxX9uXxZkWic/S9r52AIaUDZ3uf2GR3ZdXDYv0z7atn8K3f+hun4g2iXiJXmOvl5z4zDGpqfJ6z0iQEJIKdF1PZ4TvMR25kNuhjhWv8rPkhaWmcV7nX1qVGvwCCFOK0vD0N6Q1ENLzTcVRvL0xvK7V5r3d/w6Sgj56HgnfWyPMPywxyX2056jAeTxktgmGIYhPk9ZfhTPqnPKXFGOY8s95b/befO/fGeRve9fW57+9MbyPd9fQsdGhJC3DvkXeLe7FHpglCSy2+6ft/PRBbTKd+2SnBe3LbntevN4cEXVn/vVheh9HaA41zHQ086yLMuyDENYlkURDUkCbNFACNF9asGMeNycj3LkTz20w3zj1uIjf+oJ9LD2wWmQEysjRf4MaehqP83S0OeTtVcYPiXaRjJpHSWEVJ3sevJ/zobsblGO4+mN5S8E7OSwdknOVxaZWwwGOfg2UhTMkIau9pOReTwwj1GNJB7sZqIRtOFVSvKyo9IUQoitTiI9hV86L3PpvMwt94yZpB11R3tCyI6fV/96x41gG5LIfmXRDGoGdhRV3/3qpSlYtVxW4DxT52IYxlJThg7Ho/3RiUtiRKXE6y7OjWKWJnx++X6D/ZjJPd9f8vTGclpE8NAdpb/eceNw4q7LHehGI05xrqOvr5e6SKtLJG9n8ClRNZKNq2ZSHe0f9E1i25rfftxEH9+9cua//8V1NJt3bXn6zkcX2Nfv7zsQ9d3Pi3MdfX19YBUsM2weYxlJzA9Ym6iOMgyjexWHxGenR+voiF+8V3/0bE/IhW39g749b9YE6fXf/7+nq+uDVWt39qm7X70U7VQWISQ7XXRK3ECvC2SUamlw20ASICplGEbzemblR31D8P/cvmzUDamBA8+vsP969GzPjp9X2595/tXLu55YBHFnegp/98phz2tnPNWeEWFWvqOjpsN0lLQ3JGlPYBhG9yll+SEWuYeD/W6mp/D7/s8NwV+vqPpd24/an3njk9avLJpB51kXlKU98+35ftvfAGOFL5GlLN/RWdMOwQfN4yWNhcAX0b0eQkh5YUp3f1Sqq9pdyo6fV+dnSd9YW1RRkpqewtt9SHOXu8OlHD3bE/JutruUv/j302uX5Nx5S35xntNe59/Vr5y50j8Fg2+gvDCFEDLQ52IYwjIsx4GcsgxDYIYoaSwksiSAlBJCDK8ys8DBMkxUT/8OoqOBBK4OPFPTv/1nZ7dvmh+kRLOmdXDHS9VTkKJhGWZmjuPKCRfLshxndoXkFlRd9RTky0yMNooLRBLZjatm+vnQv/nJ2f/9rQo69RWIouq/Pdg8BQdyMYQUZMs1J3rtwQdYSLQ/egpgGMbcZVrzqR734jkZn5+P4gF87S4lIlJXdbJrCuLO4Cyek9Hj6vO4h1JTnGAaHMfhdGlIEkBKIUtDCCnOk+1lkBGns08d/xmio7bkTE3/t3Z+/tAdpddXZBblOOipv519alev8vGJqdtVrjhPJoQM9LogdzdiziMZh5ZgJCzDFOc5GjuiYiQdLmVCgy1F1Ue93f/064vvHGvbcEtBZVkqfUNF1bv6lfP1V3/xXv3UbOFbnOdgGWagz8WyDLjL4aFWXMyKRgCY4PMN9S2dlxHrtiQMS+dldDRdsUSUpTKapCPwiBHvUgpdW1c9umEsKEuLqpR+a+fnEXmfX77fEPNjfheUpeuG0dvTleJ0sCzLsTRLk4S9wTQSr8cwyILStChJ6d9ELi1/pqY/qgtGx8OC0jTDIH093U6HxHHUQFiGIcm0xw3DMD73QEVJQZqTHxiK7qYoSUCak68oSa36Uy3LMBzHchzHQYaXSU7XEUHiuuyI3jyGIcpA/+I5OLQcL4vnpLc2NUNICglejrNXDyQPw0ZCDM/VvuvQSMbHdXMy2lpbDENnGRYC0+GgNCmgdafa0AAhBL3HeICr1NHSxHEcz3M8x3HWDFESzw1FhLiWUgBSC7qnH7M042fZ3PSOphrb0NKW4U1GLCMZWDovPfSrEUKWzEvvaKoFs/CzkKQxEvO7GLoyePWmBVmxbk4CcNOCrM6ODp9X5TiWYzmeN91HMqX9o0S8Syn0BZZlNc/VnAwp5FbgCCGkNN+RnSl3tDazLMuZ40qOY7lkHVrS+MPnHsjLkoty5Fi3KN4pypHzs+T25kZuNAuJdesiCSwD8w5037Ysl+OS6qtFHI5lvrost+7CGZZlOZYTBJ7neJ6ng6zkSftHg3iXUoBhGJ/7qqbpmKUZD4vnZHi9vs62Zog2eJ7nOW646ihJgfGWruuY4w3JdXMyNE0HCwF/yVvTpcnkLq2BOKMOdIsCe+toe/IhlFuX5kgCW3/5As8N6ygUHiXf+DviJICUggCwLOvp71m9OIoblyQNqxdnNzfUwPwoz/FW0MEll58cgWkkDOvu711xLRpJCNZcl93UUA8WwrEcz9E83vCeq7FuY2RgYNWsoV91dd+6dMw1SAgh5Pbrc+traxWPGwZYgsALPI1KE0ApYktiXCAzxzvoWjI3c2Y2pu+CMTNbXjI3s+7iOY7jeOgSEHJYSwaTxkv6AUaiD/bcvCArZ9yLmqYhORni9ZVZdRfOcCxrxh88x/M0Ko11+yINwzAcx/kGum5akBXkFLNpTl6WtGx+Vt2FMzzPC9YPx/PmEDy5BljRIAGkFO4fyzK+wV6v6hv15ASEsnZJjtutNNZc4jkOegXP8zzHJ+VMGIUaiXrV5fNpa9BIxmbNkhxV9TZcuchxZmqX53mO5ejegUljJPBdYITgHez1qsqoG5AhhJB7Vs4cvDpEs7uiIIqiNQhPxgFWxEkAKSW0S7Cs0t9x+9g7xSCEkNuW5dZdquaseFQQeN6qz0waFzkqYCQcy6r9nWgkQfjq0ty6yxdYlrEsBIZb5grCWLcu8kC6gmNZd3frvasLM1JjfHxpHJKRKty7urD65KcQiIqCANldwYxKca40NInRc0BHOY5VB3pK8p30BCLEj2vL08sKnHUXz/Icx3O8IPDwv+mQpaFG4unrnlOUWhH04NhpS0VxakVJat3Fs5CroPNhdCo9ycyDBqYcx7l72gyf795VhbFuVNxx76pCVVGrT3/Jc5zA86IoiMOWkcyL6CJIAkipOcNHGJZldWVoaKBvI3aGMfj66sLWlpau9hae50VRsKJSPumzNCONZNAzOHDP2KcxT2fuWTWzq6Ozo6XRyuMJIy0kOU2EYQjHsTzPDnY3//mawqk5Ij5RcMrc19cUnjtxjGUYQRBARyVJFHghua0isiSAlAIwXuZYVulpXXVddkUJxhz+VJSkLr82+/zJTyFfB6NLe+4uiUNSgBqJp6f19hvycBWyH6X5jttvyDt38lPO0lEYb4GFJKtt0OkhnuPdPW08oz/w1eJYNyqOeOCrxUTXqk9+IfC8KAiSKEqiKMAYi09aq4g4iSGl9iyNd7DXfbUfszSB3LuqsLOjq6n2Ms9xMK4Urf6QlLk7P+xGog70uIcGN65EIxkA1DfCAAAgAElEQVTBxpWFLldf3cVqmAaD+EMQBbN8N7lqjuxYhsFyLNPfVvfN24rnFqXEulFxwdyilG/eVnzy04OEGBCSSqIoSaLAWyVHyWsVkSUxpJTYVlvzHOfubrnt+txZBc5YNyqOmFXgvO363HPHj/CWi5REUYTsXVLX7tqxG4mnu+Wu5QV5uPjBIi9Lumt5wfmTn3IcKwg8mMd0sBBrDRhhWZbnOHdP+2Bf76N3lsW6XXHBk3fNamtrP3/6hCAIoiDIkiiJgIBnq02IhJFSYtWV8DyvDvR4hgYfvL0k1i2KIx5aV+LqdkEt+3BIKoqCIHC2kCPWzYw61EiUvk7V43nwa2gkJg9+raS//+qls6cgJJUkURJFgYYfDEuSec2xmbHgeU4Uhf7Wmhsrs/7s5vxYtyvG/NnN+UsrMo8fOgBVu5IkyJIErmO4EG16+I3wSTQpZViWZXieH2irXbskZ9V1uK8NIYSsui575eKc40c+Ak9hZmmgDM/axWaa4Gckd96Sv3ReZqwbFXuWzsu885b8E0c+4nlOEATQUSgtsfbvSFodBRiGgT0oeI4jXndvW+Pjd5XNSJ++W3nMSBcfv6vs3KkTXW2toiBIoiBLkixJkiTB/DmGpBMiYaSUZmlgEx9tqL+vs/3xDZilIYSQxzbMuny+uqWhBgoHZBhZmoPL6RWSEpuReK+6Bnq6Ht9QGut2xZ7HN5TW19bVXTov8Lwk+peWTBOnyTAMnHYiCMLV9nqBqN//xpxYNypm/PX9czVl8OTRKkHgRUtHZcmaFcKQdIIkjJQSK0vDEAYmewbb6wpmSA/dMd0d5UN3lBZkiSeOfkyrBuxZmukQcNjxM5Kr7XUVJWn3rp7W9Uf3ri6sKEk7dezjQKc5fUpL/IZZPMe66s/fsnDG5vXT0YFsXl96Q2XWkT/8NyEGeAyHQ3aYM6WgpFi7OzESSUqJlaXhOI7neJZoruYrm24vWTgrLdbtihkLZ6Vtur3k+JEqz9CgwPOSKMqyJJuVA9O0S9iNhNFUV0vdYxvKSvKm6cKYkjzHo3eWnvris35XN1iINUs6wkKmg5HAPDrLMDA1qCtD7TXV315XsnzRjFg3bUpZvmjGt9eVfHrwQHd7m+k0JNEpy2Y2i+fNgw2mh1VEigSTUmJNhsHBBUPdrf09ndvumyNMy5MIBY7Zet+8xrra6lNfCoIgiaJDlh2yJEuSJA7Pkk7DLkEXP/A8f7WjwTs08L2vT9NU3l/dN6evp/vEkY9hilSWJIcsy5LoZyGxbubUwTAMbD4sSaLb1d7b3rT1gTml+dNlOUBpvnPrA3MuVZ+7cOakKAqyLDlkyelwOBzgNgSeN9egx7qlCUaCSSlj7VoOC64lUexvupyfKXzvG3Nj3bQY8JffmJubzhz98F2e5yRRlGVRlkRZkkTJWuMwLbsENRIOdkETBFfDhevKM564a1asmzbVPHHXrIWz0o9++HuIw4ZTuyMtZPoYiVXKa+4/LEtiT8NFRrm685H52dOgBCk7XfzBIwuGeruOfvgOLIiSJclpyagkiTw9CmY6WUVESDApJQGdgSV6V9259Tfm3b1iem0Ud/eKmetuzDvy4TuKZwhSNA5ZdjocMLQUzAK86RiSEpuRcBwr8DyjqR01Z++7tWj14ml0YszqxTn33Vp0+A/vDfT2mEk8h+yQJVmW/fJ4sW7plDJiYYwgSKLYeeV0hkPb8XClLCaePxw/ssjufLTSyXqq3vkvjmMlUXTIktMhpzgd1CR4npsOE+fRIFFNB4rxoIzCN9TX1Xjl6XvLb6zMinW7pogbK7Oevrf85GfHmutqRFG0UruyQ5Zg6b3tdKTp2yUglQdG4unrdLU2bL1/7jTZ5mZuUcrW++deOHvmSvUZe2rX4ZCphUy3kJRCZ9MFgZckUeDZjosny/OEHQ9VxrppUWTnIwtmZnIf//5Vn1eF3RicDhl+HLIsiSKYxDR3GpMmIaWUDptYloVp84H2ht725n94uLKyNPlLkCpL0/7h4crL56tPHjsoioIsiQ6HlOJ0OMx1YeL0Wd4QBFtgyoGRuJoue6+6nn1kftJvgZSXJT37yHxXR8uxj94DC6FOUzJLNHlroDUdjSTQNlhDazn/5dI5qT98YqEsJttm97LI/fNTixbNSql657Whq/2Q1E1xOlOcTjOPJdKzGKejPUSEhJRSQk/UYllrEkjsqj3n7uv+wSPzi3KTuVazKNfx7MPz21saD+1/2z7b4XTItiwNT6c7Yt3eWEKNhF6orpozTlZ99uHK5HOXFFnknn24kvO5q975r5EWAiZCS0umdR7PzzYcssRoasPZz68plX/03WuSabCVlyX96LvXzJspvP+7l/t6uix7kFOcjtQUMAowCXQaYZGoUgow5i5xnCgKsix3XTkt6EPPPlxZkqRqWpLrePbhSq+774/v/BcsEIQu4ZRlS0iHvWSsGxsv2I1EFLjOK6dKsrkdD82PdbuixQ8eqSzIYA6++5qha5JoT+JJskTnw6Z70gKgld4wHCdeT8OZo3lp+o++uyg5JgLmFqX86LuLsiR1/+u/6nd1WfGoIzXFmeJ0yLKEU6SRgtux9buxbsMksdZcD2MQo6+ztaCo8IaFuScu9fUP+WLdxkhSlOv4h4crMyX1o7df8flUmPqivcLpdMIkGMdiAd4w9CIwLAs1WJrP29/dUVk5e9HsjMN/6vZpRmxbGEFkkf3h4wuvmZXy4duvXu3vFQUB8nipKSmpTnO9gygKPMejhRDbpg0MY+a6WZbRfF5XW0Nm1ow7V81q6fLUtw/FupmTZ/XinGcfWTDkav/wrd94VUUUBIcsOx1yWmpKaorT4XCkOB3mRh0sy7LJvAnzFJDAUkrsN956oGmaq70ptyDn9puK/lQ70NWnxqxxEaWyNG3XEws4X/9Hb7/qVT0Qj6amOFNTnKkpKbBTicCP2PAr1k2OF0yPafvVpyq9XW1z55beuCDns2qXW9Fi2LxIkZ0u/tOTC8tyhQ/ffqWvpwtGWmAhKU6H02kuG8Q8nh2qprbHjGHo3S31oiTeuXqeLHLHL/bGtpGT44m7Zm25Z3bNhbN/fO8NjmMhHrXZgxO2NhIEHgffESGxpZQMbxRHaDWioes9rQ2pGZl3rZ59qWmwpcsT6zaGy42VWT98YqGrs+VjKx6VJSnFCTrqtLykObrELhEI4w/RvKqrvbmopHDtsvzjl/r7Br2xbmNYlOY7dz25KF30fvjWrwf6XFDRDRmLtNQUh0N2Osz4g7VCsFg3OV6wJbdY8yQEhmFYtrej9epA/4qbKxfPzaiuH+gfTJgUV0me4wePVK5ZknPoD++d/uwwbCbqkCWbPTicUMhtbtOBTiMCJLyU2mAIMWCZnGEYrrYGQZb/x9p5/UO+Cw1XY922yXP3ipnbN1XUXTp/8N3f8TxnzY+aOupwyA5ZplUDmKUJDkMYYoYgRPN5e1obcnJz71hR3NThaex0x7p1k2T5ohk/eHS+NtT90du/UT1uWBYVEI+KNGMBRoJQhmPTkXNG7oHejuaGstL8e9bM8qh6df1ArFsamntXF/795vm8r//Dt1/raGmQJMnpkGk8ankMag8Yj0aMZJBSvzkPKKlgWc7V3uzT9NuWzyuYIX9e7dITbVJM4Ji/un/et75WfPKzY58d3C8IvD1rB/GoQ5ZlScLZjpCMMBI6DDeM7pY6WXZsWDOPYZhTV/pi3cwJs3l96fe+Pqfh8oWD7/4OtiandSWpKU6n00nnw6yzDdBvjgKNTVnLPDiOZVhW96nt9VcIMW5bXnFjZVZbj9LWE6dZrqXzMv9+c8UdN+X/6cTnn7z/pk9VYEduagxplsfAeDQaMN7mc7FuQ2QwDMMwDF03fJrP6/Upqur2KG63W0jNLF1wfUefb/drV87VJcC4Elg4K23rffNy05nDf/h9S30tZGmgDjPF6UxxOmg8KooCzUthrwgOGImm65qmqapXUdUht8ft9qTmFs1auOTYuZ5//e2Vnv7EmF+fkS7+9f1zb6jMOla1/+KfTlnrXkQwjxSrzAhGWjzHDWe3kTGw+xCfT1NU1aMoHo/i9ngILxfOXZRXWPzusfaX/9DY4VJi3dhh8rKkB79Wcuct+fW1daeOftzn6hJFEWqSZSsqNXe5skZVaA8RJ3mklNh6gqZroKYeRRkacnt1UjR/SXb+zH0HGn/5fkOsmxmah+4o3XR7SWNDw9ED/614hkTR3FwXXGSKObYckbXDXjFORh1yDQ0NsVJK8YLrDV7+j9/Xv/dpe6ybGYI/uzn/8bvKNOXq0T+809XeSufDaPJfliWnwyHwPIy0OA4zFuOCmodu6F6vz+vzeTyKoihujzLkdqfnFpbMX5KS6vz9kbY3DrU0tMd4UqA037FxZeFdywsG+geOH/m47tJ5QeAFnpcsEYWSXdk8wEDkeZ7OlxO0h4iSVFJKRqqpqnpVr9ftUTwez5Dbk1U4q6zyurYe5T/eqf/kdHesWzo6q67LfmzDrIIs8fiRqupTX8I+9ZIoOhyS0+FwQsdwmAvtBYHHeHSiGIYB/6WxKRiJ2+32qN78WfOL5lR+ft7183frLzcPxrqxozC3KOXJu2Ytrcg8d+rEyaNVhBgCz8uyZMUfMl31IksSxh+TwLDQdN3n01SvV1W9HsUUVLfHk104q3DOwvSM9ANfdLz5SevFphiUYlQUp96zaubtN+T1unqrT3526ewp2JOcnlgsS5JDlhwOGWRV4HlBsDY0QnuIAskmpWSkmkJP8CiKx+1xexSvwRTOWTCzbE7Vya6XDzTWtcXRorFZBc6H1pWsXJxz+Xz1iaMfe4YG4dw0a59600U6ZFmSBFEQsFeEQ2ACQ1FVt9sz5HbzjrTCiiXZOdm/+bDplY+ahjzxslTGKXMPfLX4m7cVt7W1Hz90oKutFZK6VjzqSHE6oMZIlk3XifHo5IDxlq7rumFomulGFFVVPIpHUd0ej9vjmTGztHDOohnZM843DFSd7Dp4smsKlt7lZIhrluR8dWluRUlqV0fnuZOf1l2shjMbBEGQxBHn6MGuLZK1LwcWGUWVJJRSEjRL4/Z4nJk5JfOXpGdmfPhl5+uftFxsjHF9b0VJ6r2rCm+7PtfV7Tp+5KOWhhpBEKxzvIf3qccsTWTxU1Ovz+dRFMWjDLk9bo8nu3j2rMrFPoN9/Y+tr3/S0nc1lqtlMlKFe1cVfn1NITG0k8cOnj99AvbLhB2vZEmkk2EOWRZFgVYZ4UgrHGhsquu6z6d5fT6YX1dV1eNRPIriUdSUzOy84rKZZfMEgf/0nOvwn7pPX+lrjvQCvKIc+bo5GWuuy76+MktVfXWXz9ddPNvR0gh7CJtH3EgijKvoOXrWuQW8tU89GkMUSU4pJSOzNJqmeb0+1ev1KKqiKG6PZ8jtycgtnDnnmhnZWZ+c7n7jk5YzNf1T38hry9O/vrpw+bXZXR1dZ48fqb98wZ6lgaGleZqgdeSLIPCwdyitOZz6ZicNfkYCqTy3NeryqGpe6dziudcIovD6H1vePNQ69cUmeVnSPStn3ru6UFXUcyeOVZ/8ghBDEARRECRRkCXJ4ZCdcN6L5Ul5nuN5HGlFBruF6Lru9fp8VsGaqqoeRVEUVVFVRfXmFJYWlMzOKyrjOLatx3Pqcv/pK33VDQNNHe5JLB1gCCnOc1SWpl03J33J3IyCGbKm6011tXUXz9ZfvgBn2vMcBzOjNKkLMahoHkcrmDsCsrYhFRpD1EhaKSWhsjQeRXF7PBm5MwvnLsrJzatvG/rweGfVya7W7qgXu8/MltcuybltWW5ZgbO1pe38yaNNtZehb0BIAVXsDlmSJUmSoHfQUIOjB3pgxwgfu5H4fGbdpur1ejwKjTwKZs8rnrPImeL8rNr18YnOj090aVFeWcWxzK1Lc26/PnfZ/Kyhq4PnTn5WffpLlmEgjycKgiQJdD7MNBKax7My/wQtJBJQCzEMoumapuk+n8/r88HAS1VVRVVhxh3+m5Gdl5VbkFVQnFcwkyFEN4zWbqWhfaip093Wo7gVbUjR3IrmVrTMNKF3wOuQOIfEOSXOIXEFM6TiXEdpvnNmtsQyjEFIW0tbR9OV9ubGzrZmGENzHMfzHM/xgsBDZgI8higKULgLC13Mk14YFt3F1JDMUgrYk70+n+bz+cBXKgrN0ijO9Bk5hSUFZRWyLH55sffwme5TV/oiXp5Xmu9YPCdj9eLsJXMz3W6l7lJ13cWzXe0tdhG1UnYSlOzC1l5m/TrP4+gySvil8nyaT1G8iqoqiuJRFI9H9ShKVn5RXvGsmaWzVa/+4fHOz6pdp670DUR0n+c0J794TsZNC7JuW5YrCmx9TW3dxTOQq+A5DkQUDk2jRoJ5vKmBhqcwLtd1AwQV0l1eS0e9Xp/qVeF53TBS07Mcqekpaekp6ZlpmdmOlDRB5HlulFOJfJrm8/oGBwb6XN1X+7r7e10Dfa6+nm7D0KmCchzLcxzP8zARDsYg8LwoCIKVsrKLKJzrjsYwNSS/lJJQWRpFUT2KAvo6I784v2RWXtEsQeA7e5WTl/tOXemvru9v6vDoxoQDEZZhivPkBWVpi+dkLJmbkZspeb1ac8OVuovnGmsucRwHHcOc97LNdmCWZuoJnBEwIw8zg6d6FFVRVMLxuUVlM0vnzsjNJYScbxg4dbn/1JW+mpbB7kktSM1OF8sLUxbPyVg6L6OiJJUQ0tneWXfxdP3lC4rHDcMse9qfWogkSdSZ8vb19mgh0YHWfuu6YRBD0zRN0zVN81nW4vOaaur1+bw+QPNpgK4bug7ZD8PgeEEQBI4XvF7V61W9qmoYBtwzuH1wmqz1HwYiUY41LQHcAmR3eYEX+GERZVmWYzkU0alnWkgpGdkNdEOHfC/UEcCgEuY8aJYmLSsnKzd/Rl5xbmEhyzCEkOZOd0OHu6nT3d6jQIpmaGSWxmklavIhS5PngJNTdV1vbWnvaLzU0dpsZmlMEeV4jgdXCEunJZDPkVkaOjOKWZpoE5jK8/q85nIIRTVnBxRV9XpVr9dguIzsvBm5BTMKZ2VlphNC3Iqvrs3d1Olu7HD3DXpNC/FoQ4pGCAHbcMqcQ+IyUoSSPEdZvrM4z+GUOEJIb09vW3NDW1NNR0uTz6uyLAuZWnv8YVqIJIpWCGITUczjTRF+gqrrOgiqpuugnV7IfWkapDd8Ps3noy8xNN0UVTp0s7/5CB1lWEjVQ8aeDqrMB2aiypRYDnY7wwF37JguUgoYw4yY9vDL0sBjr8/n82marjtTM5xpGanpGSnpGamZOc5QWZqrAwP9ru6B3q6BPtdAr6u3p4thGCgDGTVLY/rKsbM0WD8ylfil8jRNhwhD9Xq9tikxMBuvz+v1+nhRdqamO9PSU9MznRk56ZmZkigJIh94ywzD8Ko+VVV6e10Dru5+V+dAr+tqf697aBD8oGUhppcUeB5mySFpMSIcMbcCHPaeBI1kqqCCCnZiGP6aqmm6FY9aUamuUx3VbVpqf1sG9tRnCPgKS1DNwTdr2QaUHXH0NaC8GInGlOklpYDdV0IH8FmjSK8P/udTVdNXmuNKbXhgSfsBL4g8z/tlaQghjG10yTAMWDt4PYhErSyNlZmxnKMgCBzLYpYm5oyaygNLoKk8S0rNVJ7X6wMfakUeuq4bLMdxHM8LAiHEq6qqqmqaj1gnvrHW5vLUG3LcsIVAXQnkdWkeDyZNUUTjBLugGgaBIBVuva6bRuAfjI7U0TGjUssywDag2JBlWcuZmL/CGN1uAGgGsWI6SikJGFTqVr2JX5bGa852+Hw+05maWmp1isAeYdc/OmQExwdTHdRLjpql8asXINg3YkegoEKxycjc3fCUGPyT6To1jRoI/B8hxDBGHI1JU3LUSOyZfxhvcbyZxaVRCIpovEE7v11T6X2njkIffkY3DDL8WhvUeVhHvbE0oQVPWs+YLoKggsYNfKwbEBuo5TEMwxgGyzAQQei6rvE8uEMai2iwbZL1jG7oIKjUydq11OwJw3MeLLg+Kz3Dgmzywwmb0bM0BLtHrGEYxjAMhmHM/DphDM7gOFaAVJ4+XHXibyEjU3mGQXRDJ4TAu8E7gydkLdugeTyOZVlbjQm1EM6qPEMRjTfsdwEeg0PgWJbKqn3MbR99B0alZMTxuiOP2iWMn4IStIG4YZpKKeBnjqzBGCzLcYauc0GyNJqm0YDUFnAYI97KPpy0olLqLlmW4VjrKVTQOIbeEcMwOI4xhkddumHwMDtgM5IRIgrGMWqBCc3jmdLI2q2CMfXUlt9jWZYhDMtiFBLX2P2JPVS1/ZcQQiAS9RPRUd7EeujnpvDWxyfTWkoBOpA0h36Wu4SZDzP0hCSwoRsGCZ6lgaOlg2dp6JN0mImdJM7x85Is4QzD0FmW4+iIyjKMkXldeEwsB2q+iW0SnGYvGIaww9NklpEEBCJoJAmB322iTgZ+o8+PGpWO81ckrkApNRk1S8OxrH3yIzBLQ0aOOu0Olzq+kfXpI0aa6BwTC3uQyjAMa6XyCMeFTOWRkUYyMpWHebykJdCxIEkJSqk/QYaT1Cv6pWjGGlqa3nA0+Rz1s5BEwS+TQUwbYMbK4wVm80YIqpnJ8H+eoIUgSIKAUjomo8ap9JmxpjrGeofAX5FEZ9RRERoJgkxDUEongN1djt/loXOcVkzCSNBCECTRQSmdDOj7kJCgkSDI9IGNdQMQBEEQJLFBKUUQBEGQsEApRRAEQZCwQClFEARBkLBAKUUQBEGQsEApRRAEQZCwQClFEARBkLBAKUUQBEGQsEApRRAEQZCwQClFEARBkLBAKUUQBEGQsEApRRAEQZCwQClFEARBkLBAKUUQBEGQsEApRRAEQZCwQClFEARBkLBAKUUQBEGQsOBj3YBReL3r/Vg3AUEQBDFZkrqwXC6NdSvimniUUkLIvTl3xLoJCIIgCOn3DRwZOE4IQTUNAiZ4EQRBkDFJ59OWpy276K6t8TTEui3xC0opgiAIEgxU05CglCIIgiAhQDUNDkopgiAIEhpU0yCglCIIgiDjAtV0LFBKEQRBkPGCajoqKKUIgiDIBEA1DQSlFEEQBJkYoKYnr56LdUPiBZRSBEEQZMKk82mxbkIcgVKKIAiCIGGBUoogCIIgYYFSiiAIgiBhgVKKIAiCIGGBUoogCIIgYYFSiiAIgiBhgVKKIAiCIGGBUoogCIIgYYFSGntefetdoWjhq2+9G+Q1QtFCoWhh/LQnIkzll0Ls7N7zElx8oWhhbX3j+P/k8GfHI9UGvPuToLa+UShaOH/5+nG+XihauOHBJ4O8YP7y9eN/NyQISSKlT2/fSV0D/Xl6+85YtyseidvOE3FnjYzK4c+Ob3/u+V3PbPU2n/M2n5tdVhL4AqFo4e49L8WkeRMlsVqLJCt8rBsQSS4e+SDQLyQH3uYk3OsyKb9U/HP0ixOEkK/csDS2zcC7Pwlml5XgdYtPkiQqRRAEQZBYkfxSOurUgt8UwoYHnxwrLbzhwSfhz+m/QkLJ72Uhs0z2jxgrvwqTlPDjN1UZmJWFTwwy4xX4pSCDWlPfWFPfOJ4cuL09gXlX+6f7ffFa6/2DT9XQLwWv3/7c84SQtRs3+c2ihbxuo35l+4sD707gM9AGuCDwePeel+wXOWQK0T4B6ddU+5UMvJjzl6+HqzR/+frAPx+PAQdpid02Aq9zoAHMX75+7cZNhJDtzz0/amuDz7Pap1omNEsHjbFbTmDbAi9vkNbajcGvJbRTj3rB7S0c6+4H8RgU+C5+H203MxJwp+yvhH+qrW+Ez6ItDHzPID0x8DXBbwoZh2NBRiX5pfSpzQ/U1DfaDQJUavN998CvYMEwb3TxyAcv7n0l0NqEooVVb+zzNp97YdeOFTctKy8reXHvK/YX/OaN3xNC/nzDusAGQOe5XFsPHwH5mUAb3bRl245//jG8YNczWzdt2Rak8Gf3npfWbtwETfI2n3tq8wMVy9fbXd785evtn3jg4OFX33p325bHvM3nystKystK4PkXdu0Y6yM2bdn2ybEv4GXr1q5cu3ETbTB0totHPqCt3f7c87QP19Y3Vixf/9TmB+Bfb11xc0gRgrTVrme2EkLol4J/EooWrlu7Ep7Z+bffC+62xrrIK25aRgj5+PCn9PWQ5LQ/89nJM4SQb268iz6z/bnnH/3L7fbvGOSOPL195/bnnqfX5PY1K2hTNzz45KYt2+j32vXM1rUbN/ldk8u19ULRwp1/+z14TU19I3WdYMD2m+tnwH7MX77e3hKwDfiTwOscaAAXjnxQ9cY+QgidTIWrB4BuwfPlZSUVIxVo/vL1Bw4eprdgf9WhCc3Kv7j3lYrl6+Fv9+3Z/eLeV+xXaVRLGKu1QtHCzffdA89UvbFvf9Uhv04No8mf/9su6PU19Y2B+jR3dhn9Ltufe57egvF4DLja69au3F91yP7k797ZTywz2/Dgk3WNzX4W6/cmd3zz8VtX3OxtPnfhyAeBHxG8JwL7qw5R93XxyAeBl8JOSMeCjEXySylYLVgw8MmxLwgh9999JyEEOuQ7L/8U/ml2WcmuZ7burzpkt56a+sanNj9gdyhPbLqPEGJ/zYGDh9etXTnqTO3Tf/ePhBB7T3j/N/9BCHn+J7+wv6y8rIS+ZtuWx8rLSnb8849H/Ua19Y1QNkKbBA7xhz/+Cfy6e89LNfWNP/+3XfRPLhz5AL7v+Hlq8wPUz/7d975DbNdwxU3L7OUq27Y8Rmyy5KdJ27Y8Bi+YBHCFqWbcf/edY2l/yIvs59Q+PvxpeVmJ/RmwCvtd9rsjhJC9r705Vjtf3PvKrme20mvywq4d0NRX33p3f9WhfXt203fetuWxdWtXQmhIqalv3LdnN71H+/bsrqlvBP2DKwnab2/qqDcUbn3VG/vsLQliSxNl1zNb6d3c+bffI5au04+Gyx74LcYJHULdf/ed5WUlP86xmRIAAAmESURBVNv3Gvw6fkug70Ovz4qblgVKGiGk6o19cFNml5U8tfmB/VWH6GAR3MILP/x7+xvCi8fjMSjQYPsVAMODt3rn5Z/avwUMcQLfJ0j3Cd4TR/2mQVob0rEgQUgqKa2wJWTocDgwIgHZC3wMQDlGU2ub/Um/fgvRJ0SihJDDnx2vqW+8dcXNo7Zqf9Uhv4+A4apfXAuOiXL7mhV+wTQFtMqvbGTd2pWXa+vhsb27TppVt9xAHxfm5xJC6hqbx3pxeVkJ/XSAXpzwGUvA7IS8yODUqAfZX3UILjh95sDBw09tfsD+DrevWWH/NfA7UkDnRs1JgOzdtORa+5OBHra8rMQujfB6qu52USGEvLj3Fb8vSwE797v1T2y6zy+unTR2qyueWUAIaWxupR9dXlZiH03Ct6AvCInfl5o7u6xmpP2PxxJGZXZpMSHErzfZr9KskiJCSEt7J/waZGQ8To8B2O8jsL/qkJ9dUUqKZga+j31APB4CrXTd2pX2bwqttY/MKCEdCxKEpJJSmujwy4fYh5wge3R4W1PfCAkQ+gMprOD4ueng2V1CSKDKQt8OAvTtUQHfROcU4cc+6L5cWz93dlnIbxEl7r/7Trg445mYCc6Km5bBvQs+UTqeiwxODTwIiArEPfBMbX1jTX2jffQwIWCQMarnrW1o8hMYYolQEPxeb9fC4Nndy7X1gSoLPjraXK6tr7HNdApFCysit+ZqnJYQKWrqG8fqoRPyGH6Owp5miBUwLB6VkI4FCUJSSelYgO3CmAtcpz0CoLN69p+Q6VB7YAFRwhSvw7GPGwJHD9GmdqTT9Ise3nn5pzCXBk4nnHjohV07YLIW3PSkN44ApwZB29EvToDePLHpPngGbGOiOfApw54FgcgsPptK5zLtP5NO7/sxUUuwFw35ZYDCZEIew54O+eTYF37pInuV1qYt2ybRmOA9cRLE1rEkLtNCSiFFBmmWn+17zS+PV9vQNIn3hChn72tv+s3ijEpgahSClZB/EkSeaTJqVKKak3n1rXfthUWgmoEvu3DkA5j6evQvt4f5iVSbg7ibkBf51hU3wxD748OfQgj7lRuWwjN7X3tzrJTp+Bmr1jHQu0ESL0hsCm9FMxOzy0popdv+qkN+BuxH4K2HaCNIOBIppiATOB5LAHUhVmUQlM9M9IOCuIUJeQyQWBjBv7j3FSizAOYvX//i3leodO3bs3uijRxnT7QDfiNIoiK4Y0HGYlpIKSHkiU33vbj3Fcjj2RMsfuUG44eW50GsMNaYdNRp0dr6xv1Vh+ydihDiVxgSZD7Mb6Y2EJhnjV7dHQxKgtd9UEL27fEzVtZ6nBcZJoEOf3Z8f9UheAzxATwTfDAUHMgM20vbKIHTooSQva+96Red+JXnwFvZZ63gi0DNS5AM4ajToj/b99oUZE0iOCMbkuDzF5BjmOgsox3o2qO6hUl4jKc2P/Czfa/BlaHTQOCL7KVqk2A8PdGvyAj8ht/kPRDSsSBBmC5SClby9N/9o58L2/qdRwghd3zzcfoM1JeP5z3BS76495XgY14of7XPGlYsX19eVuKX+LKX44PHhD8MBAoOX9z7it35bnjwSVoED13LHgtuePBJ+uIgBU3jBKIl+oYbHnzSHnjZWwIz036DhrEILIh4evtOuqQEpHGsSz2eiwzJCbgs1AbWrV0JBYqjOpdxAtPD2597nl7V3XtegpbDjOymLdvs1aH7qw4FOvpNW7aBy4NCSr9qETDgF/e+ErygDL6vffYO7o69GDUkgZV64yHwoyE6jMjCxCCWENhaCPepJOze89JEE7xwuaAsHJhvrQmZhMf45sa7auobf/jjn9gHNPDAXqI8iQRv8J5IoSvZoNT8qc0PjKrfIR0LEoSk2jjQr8xh3dqV9pp1mLrz88Ww0g6mVeiT49ya6/677wTrD16uAgXr9iXY9nUmlKo39h394gR9TfBNEF/YtWPVLTds2rKNdj/7KgX4Cn6fSOPmF3btOHDwMFwrv78aJ9u2PFbX2Ew/fdczW2eXFh84eBj+9Z2XfwpLG0dtWBBW3LQMFsZtf+55WIjywq4dsD6dfouxBuDjvMi3r1nhF+7fuuJm+Lgwg7Z3Xv7phgefpBZoX0hz4cgHT2/faTfOQAOD1wdpPM2CjFX/aX9z+0Urn9RWc1Vv7IPyEzKR/Tj9PnpCfxuc4Jbg19oVNy3bt2f3pi3bQEHXrV0Jv47/42aXlVw88kGFzS3QJSKT8Bjwh/urDsFyF4rfR8Cv428kCdUTgac2P7D1O4/Qdw7eH0M6FmQsmEl0s2jzetf79+bcEetWjIsNDz65v+rQFFxDqFrE+f+kZJw3d/eel7Y/9zxdI4ggMSeBfHW0mS4J3mgQPOUYcWK4vgWJB36277XwlwsjCBINUEonj30PsKgSfAsIZDowoVlnBEGmmKSaK51ioGQgqlEC7GdLCFm3diXOWExnoIgm5iejIQgyKjhXiiAIgkwG9NUUTPAiCIIgSFiglCIIgiBIWKCUIgiCIEhYoJQiCIIgSFiglCIIgiBIWKCUIgiCIEhYoJQiCIIgSFiglCIIgiBIWKCUIgiCIEhYoJQiCIIgSFiglCIIgiBIWKCUIgiCIEhYoJQiCIIgSFiglCIIgiBIWKCUIgiCIEhYxOPR3wxhXu96P9atQBAEQYLBECbWTYgX4vHobwRBEARJIDDBiyAIgiBhgVKKIAiCIGGBUoogCIIgYYFSiiAIgiBhgVKKIAiCIGGBUoogCIIgYYFSiiAIgiBhgVKKIAiCIGGBUoogCIIgYYFSiiAIgiBhgVKKIAiCIGGBUoogCIIgYYFSiiAIgiBhgVKKIAiCIGGBUoogCIIgYYFSiiAIgiBhgVKKIAiCIGGBUoogCIIgYYFSiiAIgiBhgVKKIAiCIGGBUoogCIIgYYFSiiAIgiBhgVKKIAiCIGGBUoogCIIgYYFSiiAIgiBhgVKKIAiCIGGBUoogCIIgYYFSiiAIgiBhgVKKIAiCIGGBUoogCIIgYYFSiiAIgiBhgVKKIAiCIGGBUoogCIIgYYFSiiAIgiBhgVKKIAiCIGGBUoogCIIgYYFSiiAIgiBhgVKKIAiCIGGBUoogCIIgYYFSiiAIgiBhgVKKIAiCIGGBUoogCIIgYYFSiiAIgiBhgVKKIAiCIGGBUoogCIIgYYFSiiAIgiBhgVKKIAiCIGGBUoogCIIgYYFSiiAIgiBhgVKKIAiCIGGBUoogCIIgYYFSiiAIgiBh8f8B+5pEhfRLODYAAAAASUVORK5CYII=)\n"
      ],
      "metadata": {
        "id": "BBGS-K48sZ0e"
      }
    },
    {
      "cell_type": "code",
      "source": [
        "class Student:\n",
        "    # constructor\n",
        "    def __init__(self, name, age):\n",
        "        # Instance variable\n",
        "        self.name = name\n",
        "        self.age = age\n",
        "\n",
        "# create first object\n",
        "s1 = Student(\"Jessa\", 20)\n",
        "\n",
        "# access instance variable\n",
        "print('Object 1')\n",
        "print('Name:', s1.name)\n",
        "print('Age:', s1.age)\n",
        "\n",
        "# create second object\n",
        "s2= Student(\"Kelly\", 10)\n",
        "\n",
        "# access instance variable\n",
        "print('Object 2')\n",
        "print('Name:', s2.name)\n",
        "print('Age:', s2.age)"
      ],
      "metadata": {
        "id": "Jy0aa9yGth--"
      },
      "execution_count": null,
      "outputs": []
    },
    {
      "cell_type": "markdown",
      "source": [
        "Instance variables are declared inside a method using the self keyword. We use a constructor to define and initialize the instance variables. Let’s see the example to declare an instance variable in Python."
      ],
      "metadata": {
        "id": "PyGKQPKIscb8"
      }
    },
    {
      "cell_type": "code",
      "source": [
        "class Student:\n",
        "    # constructor\n",
        "    def __init__(self, name, age):\n",
        "        # Instance variable\n",
        "        self.name = name\n",
        "        self.age = age\n",
        "\n",
        "# create object\n",
        "stud = Student(\"Jessa\", 20)\n",
        "\n",
        "print('Before')\n",
        "print('Name:', stud.name, 'Age:', stud.age)\n",
        "\n",
        "# modify instance variable\n",
        "stud.name = 'Emma'\n",
        "stud.age = 15\n",
        "\n",
        "print('After')\n",
        "print('Name:', stud.name, 'Age:', stud.age)"
      ],
      "metadata": {
        "id": "hbdh3hv7pauD"
      },
      "execution_count": null,
      "outputs": []
    },
    {
      "cell_type": "code",
      "source": [
        "class Student:\n",
        "    # constructor\n",
        "    def __init__(self, name, age):\n",
        "        # Instance variable\n",
        "        self.name = name\n",
        "        self.age = age\n",
        "\n",
        "    # instance method access instance variable\n",
        "    def show(self):\n",
        "        print('Name:', self.name, 'Age:', self.age)\n",
        "\n",
        "# create object\n",
        "stud = Student(\"Jessa\", 20)\n",
        "\n",
        "# call instance method\n",
        "stud.show()"
      ],
      "metadata": {
        "id": "ChW6uKoXtt5t",
        "outputId": "6a8aac88-ac02-46a0-d64f-d25b7d938121",
        "colab": {
          "base_uri": "https://localhost:8080/"
        }
      },
      "execution_count": null,
      "outputs": [
        {
          "output_type": "stream",
          "name": "stdout",
          "text": [
            "Name: Jessa Age: 20\n"
          ]
        }
      ]
    },
    {
      "cell_type": "code",
      "source": [
        "stud.age=16"
      ],
      "metadata": {
        "id": "A-GU7TEYu40D"
      },
      "execution_count": null,
      "outputs": []
    },
    {
      "cell_type": "code",
      "source": [
        "stud.show()"
      ],
      "metadata": {
        "id": "b4CZDrepvGFB",
        "outputId": "fa8276c0-8d26-4615-d509-44ab0c3232fe",
        "colab": {
          "base_uri": "https://localhost:8080/"
        }
      },
      "execution_count": null,
      "outputs": [
        {
          "output_type": "stream",
          "name": "stdout",
          "text": [
            "Name: Jessa Age: 16\n"
          ]
        }
      ]
    },
    {
      "cell_type": "markdown",
      "source": [
        "![image.png](data:image/png;base64,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)"
      ],
      "metadata": {
        "id": "XciYC9kovNWt"
      }
    },
    {
      "cell_type": "markdown",
      "source": [],
      "metadata": {
        "id": "iS758wm1vOnH"
      }
    },
    {
      "cell_type": "code",
      "source": [
        "class Student:\n",
        "    # constructor\n",
        "    def __init__(self, name, age):\n",
        "        # Instance variable\n",
        "        self.name = name\n",
        "        self.age = age\n",
        "\n",
        "# create object\n",
        "stud = Student(\"Jessa\", 20)\n",
        "\n",
        "# Use getattr instead of stud.name\n",
        "print('Name:', getattr(stud, 'name'))\n",
        "print('Age:', getattr(stud, 'age'))"
      ],
      "metadata": {
        "id": "2Rt0HMlXv0cf"
      },
      "execution_count": null,
      "outputs": []
    },
    {
      "cell_type": "code",
      "source": [
        "class Student:\n",
        "    def __init__(self, roll_no, name):\n",
        "        # Instance variable\n",
        "        self.roll_no = roll_no\n",
        "        self.name = name\n",
        "\n",
        "s1 = Student(10, 'Jessa')\n",
        "print('Instance variable object has')\n",
        "print(s1.__dict__)\n",
        "\n",
        "# Get each instance variable\n",
        "for key_value in s1.__dict__.items():\n",
        "    print(key_value[0], '=', key_value[1])"
      ],
      "metadata": {
        "id": "F1bP9vlty08T",
        "outputId": "7cfe5fec-84e2-4219-f793-e70608b38be1",
        "colab": {
          "base_uri": "https://localhost:8080/"
        }
      },
      "execution_count": null,
      "outputs": [
        {
          "output_type": "stream",
          "name": "stdout",
          "text": [
            "Instance variable object has\n",
            "{'roll_no': 10, 'name': 'Jessa'}\n",
            "roll_no = 10\n",
            "name = Jessa\n"
          ]
        }
      ]
    },
    {
      "cell_type": "code",
      "source": [
        "class Student:\n",
        "    # constructor\n",
        "    def __init__(self, name, age):\n",
        "        # Instance variable\n",
        "        self.name = name\n",
        "        self.age = age\n",
        "\n",
        "# create object\n",
        "stud = Student(\"Jessa\", 20)\n",
        "\n",
        "# Use getattr instead of stud.name\n",
        "print('Name:', getattr(stud, 'name'))\n",
        "print('Age:', getattr(stud, 'age'))"
      ],
      "metadata": {
        "colab": {
          "base_uri": "https://localhost:8080/"
        },
        "id": "fhPK8le9-5Qd",
        "outputId": "9d4852ec-ebf8-4df3-f538-6c0627cfcb5d"
      },
      "execution_count": 1,
      "outputs": [
        {
          "output_type": "stream",
          "name": "stdout",
          "text": [
            "Name: Jessa\n",
            "Age: 20\n"
          ]
        }
      ]
    },
    {
      "cell_type": "code",
      "source": [
        "import types\n",
        "\n",
        "class Student:\n",
        "    # constructor\n",
        "    def __init__(self, name, age):\n",
        "        self.name = name\n",
        "        self.age = age\n",
        "\n",
        "    # instance method\n",
        "    def show(self):\n",
        "        print('Name:', self.name, 'Age:', self.age)\n",
        "\n",
        "# create new method\n",
        "def welcome(self):\n",
        "    print(\"Hello\", self.name, \"Welcome to Class IX\")\n",
        "\n",
        "\n",
        "# create object\n",
        "s1 = Student(\"Jessa\", 15)\n",
        "\n",
        "# Add instance method to object\n",
        "s1.welcome = types.MethodType(welcome, s1)\n",
        "s1.show()\n",
        "\n",
        "# call newly added method\n",
        "s1.welcome()"
      ],
      "metadata": {
        "colab": {
          "base_uri": "https://localhost:8080/"
        },
        "id": "cPV0ofoNDJn3",
        "outputId": "52a9381b-1610-45e6-92bf-359859b8abce"
      },
      "execution_count": 2,
      "outputs": [
        {
          "output_type": "stream",
          "name": "stdout",
          "text": [
            "Name: Jessa Age: 15\n",
            "Hello Jessa Welcome to Class IX\n"
          ]
        }
      ]
    },
    {
      "cell_type": "code",
      "source": [
        "class Student:\n",
        "    # constructor\n",
        "    def __init__(self, name, age):\n",
        "        self.name = name\n",
        "        self.age = age\n",
        "\n",
        "    # instance method\n",
        "    def show(self):\n",
        "        print('Name:', self.name, 'Age:', self.age)\n",
        "\n",
        "    # instance method\n",
        "    def percentage(self, sub1, sub2):\n",
        "        print('Percentage:', (sub1 + sub2) / 2)\n",
        "\n",
        "emma = Student('Emma', 14)\n",
        "emma.show()\n",
        "emma.percentage(67, 62)\n",
        "\n",
        "# Delete the method from class using del operator\n",
        "del emma.percentage\n",
        "\n",
        "# Again calling percentage() method\n",
        "# It will raise error\n",
        "emma.percentage(67, 62)"
      ],
      "metadata": {
        "colab": {
          "base_uri": "https://localhost:8080/",
          "height": 269
        },
        "id": "W2GhwwfcDs2-",
        "outputId": "77bb4406-08a5-4a26-a27e-ec52cde92df6"
      },
      "execution_count": 3,
      "outputs": [
        {
          "output_type": "stream",
          "name": "stdout",
          "text": [
            "Name: Emma Age: 14\n",
            "Percentage: 64.5\n"
          ]
        },
        {
          "output_type": "error",
          "ename": "AttributeError",
          "evalue": "ignored",
          "traceback": [
            "\u001b[0;31m---------------------------------------------------------------------------\u001b[0m",
            "\u001b[0;31mAttributeError\u001b[0m                            Traceback (most recent call last)",
            "\u001b[0;32m<ipython-input-3-709626e3a35a>\u001b[0m in \u001b[0;36m<cell line: 20>\u001b[0;34m()\u001b[0m\n\u001b[1;32m     18\u001b[0m \u001b[0;34m\u001b[0m\u001b[0m\n\u001b[1;32m     19\u001b[0m \u001b[0;31m# Delete the method from class using del operator\u001b[0m\u001b[0;34m\u001b[0m\u001b[0;34m\u001b[0m\u001b[0m\n\u001b[0;32m---> 20\u001b[0;31m \u001b[0;32mdel\u001b[0m \u001b[0memma\u001b[0m\u001b[0;34m.\u001b[0m\u001b[0mpercentage\u001b[0m\u001b[0;34m\u001b[0m\u001b[0;34m\u001b[0m\u001b[0m\n\u001b[0m\u001b[1;32m     21\u001b[0m \u001b[0;34m\u001b[0m\u001b[0m\n\u001b[1;32m     22\u001b[0m \u001b[0;31m# Again calling percentage() method\u001b[0m\u001b[0;34m\u001b[0m\u001b[0;34m\u001b[0m\u001b[0m\n",
            "\u001b[0;31mAttributeError\u001b[0m: percentage"
          ]
        }
      ]
    },
    {
      "cell_type": "code",
      "source": [
        "class School:\n",
        "    # class variable\n",
        "    name = 'ABC School'\n",
        "\n",
        "    def school_name(cls):\n",
        "        print('School Name is :', cls.name)\n",
        "\n",
        "# create class method\n",
        "School.school_name = classmethod(School.school_name)\n",
        "\n",
        "# call class method\n",
        "School.school_name()"
      ],
      "metadata": {
        "colab": {
          "base_uri": "https://localhost:8080/"
        },
        "id": "-7B7Bc5VR6Bs",
        "outputId": "45f36d7c-f882-4477-b1ca-ff982e0c2034"
      },
      "execution_count": 4,
      "outputs": [
        {
          "output_type": "stream",
          "name": "stdout",
          "text": [
            "School Name is : ABC School\n"
          ]
        }
      ]
    }
  ],
  "metadata": {
    "colab": {
      "toc_visible": true,
      "provenance": [],
      "include_colab_link": true
    },
    "kernelspec": {
      "display_name": "Python 3",
      "name": "python3"
    }
  },
  "nbformat": 4,
  "nbformat_minor": 0
}