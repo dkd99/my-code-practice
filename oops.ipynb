{
  "cells": [
    {
      "cell_type": "markdown",
      "metadata": {
        "id": "view-in-github",
        "colab_type": "text"
      },
      "source": [
        "<a href=\"https://colab.research.google.com/github/dkd99/my-code-practice/blob/main/oops.ipynb\" target=\"_parent\"><img src=\"https://colab.research.google.com/assets/colab-badge.svg\" alt=\"Open In Colab\"/></a>"
      ]
    },
    {
      "cell_type": "code",
      "source": [
        "f=open('C:\\Users\\dkd31\\Downloads\\Temporary table and CTE difference-.txt')"
      ],
      "metadata": {
        "id": "8GMFPf_xJqsY",
        "outputId": "2884ef7c-9166-4737-a435-fa4ce2c8b4c2",
        "colab": {
          "base_uri": "https://localhost:8080/",
          "height": 130
        }
      },
      "execution_count": 17,
      "outputs": [
        {
          "output_type": "error",
          "ename": "SyntaxError",
          "evalue": "ignored",
          "traceback": [
            "\u001b[0;36m  File \u001b[0;32m\"<ipython-input-17-1d5707742bd2>\"\u001b[0;36m, line \u001b[0;32m1\u001b[0m\n\u001b[0;31m    f=open('C:\\Users\\dkd31\\Downloads\\Temporary table and CTE difference-.txt')\u001b[0m\n\u001b[0m                                                                             ^\u001b[0m\n\u001b[0;31mSyntaxError\u001b[0m\u001b[0;31m:\u001b[0m (unicode error) 'unicodeescape' codec can't decode bytes in position 2-3: truncated \\UXXXXXXXX escape\n"
          ]
        }
      ]
    },
    {
      "cell_type": "code",
      "source": [
        "try:\n",
        "   print(1/0)\n",
        "except ZeroDivisionError as x:\n",
        "   print(x)\n",
        "except:\n",
        "   print(\"Something else went wrong\")"
      ],
      "metadata": {
        "id": "uGwhGl_8XUmI",
        "outputId": "cb43375e-4932-4c65-b0a3-360b7e8054c1",
        "colab": {
          "base_uri": "https://localhost:8080/"
        }
      },
      "execution_count": 18,
      "outputs": [
        {
          "output_type": "stream",
          "name": "stdout",
          "text": [
            "division by zero\n"
          ]
        }
      ]
    },
    {
      "cell_type": "code",
      "source": [
        "class Shopping:\n",
        "    def __init__(self, basket, buyer):\n",
        "        self.basket = list(basket)\n",
        "        self.buyer = buyer\n",
        "\n",
        "    def __len__(self):\n",
        "        print('Redefine length')\n",
        "        count = len(self.basket)\n",
        "        # count total items in a different way\n",
        "        # pair of shoes and shir+pant\n",
        "        return count * 2\n",
        "\n",
        "shopping = Shopping(['Shoes', 'dress'], 'Jessa')\n",
        "\n",
        "print(len(shopping))"
      ],
      "metadata": {
        "id": "s2jLs3Kp-f5m",
        "outputId": "0e57e791-56b4-453a-c05b-251aa5b5c566",
        "colab": {
          "base_uri": "https://localhost:8080/"
        }
      },
      "execution_count": 1,
      "outputs": [
        {
          "output_type": "stream",
          "name": "stdout",
          "text": [
            "Redefine length\n",
            "4\n"
          ]
        }
      ]
    },
    {
      "cell_type": "code",
      "source": [
        "shopping.basket"
      ],
      "metadata": {
        "id": "tr3uHE3g-uQF",
        "outputId": "3152aec3-3336-490a-ed74-84f3aea892c5",
        "colab": {
          "base_uri": "https://localhost:8080/"
        }
      },
      "execution_count": 2,
      "outputs": [
        {
          "output_type": "execute_result",
          "data": {
            "text/plain": [
              "['Shoes', 'dress']"
            ]
          },
          "metadata": {},
          "execution_count": 2
        }
      ]
    },
    {
      "cell_type": "code",
      "source": [
        "class Ferrari:\n",
        "    def fuel_type(self):\n",
        "        print(\"Petrol\")\n",
        "\n",
        "    def max_speed(self):\n",
        "        print(\"Max speed 350\")\n",
        "\n",
        "class BMW:\n",
        "    def fuel_type(self):\n",
        "        print(\"Diesel\")\n",
        "\n",
        "    def max_speed(self):\n",
        "        print(\"Max speed is 240\")\n",
        "\n",
        "ferrari = Ferrari()\n",
        "bmw = BMW()\n",
        "\n",
        "# iterate objects of same type\n",
        "for car in (ferrari, bmw):\n",
        "    # call methods without checking class of object\n",
        "    car.fuel_type()\n",
        "    car.max_speed()"
      ],
      "metadata": {
        "id": "iGwVDvA6Be66",
        "outputId": "f3b3b139-622d-4da8-f7d7-e3f6e21c529d",
        "colab": {
          "base_uri": "https://localhost:8080/"
        }
      },
      "execution_count": 3,
      "outputs": [
        {
          "output_type": "stream",
          "name": "stdout",
          "text": [
            "Petrol\n",
            "Max speed 350\n",
            "Diesel\n",
            "Max speed is 240\n"
          ]
        }
      ]
    },
    {
      "cell_type": "code",
      "source": [
        "class Vehicle:\n",
        "\n",
        "    def __init__(self, name, color, price):\n",
        "        self.name = name\n",
        "        self.color = color\n",
        "        self.price = price\n",
        "\n",
        "    def show(self):\n",
        "        print('Details:', self.name, self.color, self.price)\n",
        "\n",
        "    def max_speed(self):\n",
        "        print('Vehicle max speed is 150')\n",
        "\n",
        "    def change_gear(self):\n",
        "        print('Vehicle change 6 gear')\n",
        "\n",
        "\n",
        "# inherit from vehicle class\n",
        "class Car(Vehicle):\n",
        "    def max_speed(self):\n",
        "        print('Car max speed is 240')\n",
        "\n",
        "    def change_gear(self):\n",
        "        print('Car change 7 gear')\n",
        "\n",
        "\n",
        "# Car Object\n",
        "car = Car('Car x1', 'Red', 20000)\n",
        "car.show()\n",
        "# calls methods from Car class\n",
        "car.max_speed()\n",
        "car.change_gear()\n",
        "\n",
        "# Vehicle Object\n",
        "vehicle = Vehicle('Truck x1', 'white', 75000)\n",
        "vehicle.show()\n",
        "# calls method from a Vehicle class\n",
        "vehicle.max_speed()\n",
        "vehicle.change_gear()"
      ],
      "metadata": {
        "id": "ZR4dVdhDB1fA",
        "outputId": "2a29c791-8c8b-4281-b0cc-b03e61548ffb",
        "colab": {
          "base_uri": "https://localhost:8080/"
        }
      },
      "execution_count": 4,
      "outputs": [
        {
          "output_type": "stream",
          "name": "stdout",
          "text": [
            "Details: Car x1 Red 20000\n",
            "Car max speed is 240\n",
            "Car change 7 gear\n",
            "Details: Truck x1 white 75000\n",
            "Vehicle max speed is 150\n",
            "Vehicle change 6 gear\n"
          ]
        }
      ]
    },
    {
      "cell_type": "code",
      "source": [
        "class Ferrari:\n",
        "    def fuel_type(self):\n",
        "        print(\"Petrol\")\n",
        "\n",
        "    def max_speed(self):\n",
        "        print(\"Max speed 350\")\n",
        "\n",
        "class BMW:\n",
        "    def fuel_type(self):\n",
        "        print(\"Diesel\")\n",
        "\n",
        "    def max_speed(self):\n",
        "        print(\"Max speed is 240\")\n",
        "\n",
        "# normal function\n",
        "def car_details(obj):\n",
        "    obj.fuel_type()\n",
        "    obj.max_speed()\n",
        "\n",
        "ferrari = Ferrari()\n",
        "bmw = BMW()\n",
        "\n",
        "car_details(ferrari)\n",
        "car_details(bmw)\n"
      ],
      "metadata": {
        "id": "J25P4P5iCcHL",
        "outputId": "40073628-2f65-4b3e-f673-b4df712b80df",
        "colab": {
          "base_uri": "https://localhost:8080/"
        }
      },
      "execution_count": 6,
      "outputs": [
        {
          "output_type": "stream",
          "name": "stdout",
          "text": [
            "Petrol\n",
            "Max speed 350\n",
            "Diesel\n",
            "Max speed is 240\n"
          ]
        }
      ]
    },
    {
      "cell_type": "code",
      "source": [
        "# Parent class 1\n",
        "class Person:\n",
        "    def person_info(self, name, age):\n",
        "        print('Inside Person class')\n",
        "        print('Name:', name, 'Age:', age)\n",
        "\n",
        "# Parent class 2\n",
        "class Company:\n",
        "    def company_info(self, company_name, location):\n",
        "        print('Inside Company class')\n",
        "        print('Name:', company_name, 'location:', location)\n",
        "\n",
        "# Child class\n",
        "class Employee(Person, Company):\n",
        "    def Employee_info(self, salary, skill):\n",
        "        print('Inside Employee class')\n",
        "        print('Salary:', salary, 'Skill:', skill)\n",
        "\n",
        "# Create object of Employee\n",
        "emp = Employee()\n",
        "\n",
        "# access data\n",
        "emp.person_info('Jessa', 28)\n",
        "emp.company_info('Google', 'Atlanta')\n",
        "emp.Employee_info(12000, 'Machine Learning')"
      ],
      "metadata": {
        "id": "xo36qfAZECcX",
        "outputId": "53616ace-4b4c-40aa-cc43-251a8de009a7",
        "colab": {
          "base_uri": "https://localhost:8080/"
        }
      },
      "execution_count": 7,
      "outputs": [
        {
          "output_type": "stream",
          "name": "stdout",
          "text": [
            "Inside Person class\n",
            "Name: Jessa Age: 28\n",
            "Inside Company class\n",
            "Name: Google location: Atlanta\n",
            "Inside Employee class\n",
            "Salary: 12000 Skill: Machine Learning\n"
          ]
        }
      ]
    }
  ],
  "metadata": {
    "colab": {
      "name": "Welcome To Colaboratory",
      "toc_visible": true,
      "provenance": [],
      "include_colab_link": true
    },
    "kernelspec": {
      "display_name": "Python 3",
      "name": "python3"
    }
  },
  "nbformat": 4,
  "nbformat_minor": 0
}