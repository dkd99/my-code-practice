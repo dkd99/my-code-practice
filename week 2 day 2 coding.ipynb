{
  "cells": [
    {
      "cell_type": "markdown",
      "metadata": {
        "id": "view-in-github",
        "colab_type": "text"
      },
      "source": [
        "<a href=\"https://colab.research.google.com/github/dkd99/my-code-practice/blob/main/week%202%20day%202%20coding.ipynb\" target=\"_parent\"><img src=\"https://colab.research.google.com/assets/colab-badge.svg\" alt=\"Open In Colab\"/></a>"
      ]
    },
    {
      "cell_type": "code",
      "source": [
        "def fun(x,y):\n",
        "  b=[]\n",
        "  for i in range(x,y+1):\n",
        "    a=[]\n",
        "    for x in range(1,i+1):\n",
        "      if i%x==0:\n",
        "        a.append(x)\n",
        "    if len(a)>2:\n",
        "      b.append(i)\n",
        "  return b"
      ],
      "metadata": {
        "id": "DhIzcZHaAYOR"
      },
      "execution_count": 29,
      "outputs": []
    },
    {
      "cell_type": "code",
      "source": [
        "fun(52,61)"
      ],
      "metadata": {
        "colab": {
          "base_uri": "https://localhost:8080/"
        },
        "id": "xfzYIEiGBwW8",
        "outputId": "c998b27f-35af-4969-cb46-a77efe91cf0e"
      },
      "execution_count": 30,
      "outputs": [
        {
          "output_type": "execute_result",
          "data": {
            "text/plain": [
              "[52, 54, 55, 56, 57, 58, 60]"
            ]
          },
          "metadata": {},
          "execution_count": 30
        }
      ]
    },
    {
      "cell_type": "code",
      "source": [
        "fun(2,10)"
      ],
      "metadata": {
        "colab": {
          "base_uri": "https://localhost:8080/"
        },
        "id": "etJL4ynUkyny",
        "outputId": "f4982f59-f32c-4f0f-bf2b-71c82e75160e"
      },
      "execution_count": 31,
      "outputs": [
        {
          "output_type": "execute_result",
          "data": {
            "text/plain": [
              "[4, 6, 8, 9, 10]"
            ]
          },
          "metadata": {},
          "execution_count": 31
        }
      ]
    },
    {
      "cell_type": "code",
      "source": [
        "def fun(s):\n",
        "  d={}\n",
        "  a=list(set(list(s)))\n",
        "  x=len(a)\n",
        "  for i in a:\n",
        "    d[i]=0\n",
        "  for i in list(s):\n",
        "     d[i]=d[i]+1\n",
        "  return d,x\n",
        "\n"
      ],
      "metadata": {
        "id": "P7t9pMC5CYfp"
      },
      "execution_count": 13,
      "outputs": []
    },
    {
      "cell_type": "code",
      "source": [
        "fun('deepak')"
      ],
      "metadata": {
        "colab": {
          "base_uri": "https://localhost:8080/"
        },
        "id": "fZaUDEDpDdkX",
        "outputId": "cbead6cf-0625-43f8-9ae3-2a8c0e07a4b1"
      },
      "execution_count": 14,
      "outputs": [
        {
          "output_type": "execute_result",
          "data": {
            "text/plain": [
              "({'k': 1, 'd': 1, 'e': 2, 'p': 1, 'a': 1}, 5)"
            ]
          },
          "metadata": {},
          "execution_count": 14
        }
      ]
    },
    {
      "cell_type": "code",
      "source": [
        "a= [8,8,8,5,5,4,2,1,3,7,5]\n",
        "b=[]\n",
        "d={}\n",
        "for i in a:\n",
        "  if i in d.keys():\n",
        "    pass\n",
        "  else:\n",
        "    d[i]=0\n",
        "for i in a:\n",
        "  d[i]=d[i]+1\n",
        "print(d)\n",
        "maximum=max(list(d.values()))\n",
        "for i in d.keys():\n",
        "  if d[i]==maximum:\n",
        "    b.append(i)\n",
        "\n",
        "print(b)\n",
        "\n",
        "\n"
      ],
      "metadata": {
        "colab": {
          "base_uri": "https://localhost:8080/"
        },
        "id": "KsSQOMO0G4aP",
        "outputId": "6cb104cb-7424-4655-918f-ad0cbc826a8b"
      },
      "execution_count": 21,
      "outputs": [
        {
          "output_type": "stream",
          "name": "stdout",
          "text": [
            "{8: 3, 5: 3, 4: 1, 2: 1, 1: 1, 3: 1, 7: 1}\n",
            "[8, 5]\n"
          ]
        }
      ]
    },
    {
      "cell_type": "code",
      "source": [
        "df.Age[~df['Name'].isin(['xyz','mnu'])]=22"
      ],
      "metadata": {
        "id": "dB9OacphMW6p"
      },
      "execution_count": null,
      "outputs": []
    },
    {
      "cell_type": "code",
      "source": [
        "37.21>37.2"
      ],
      "metadata": {
        "colab": {
          "base_uri": "https://localhost:8080/"
        },
        "id": "Q3O2PnKYNGMR",
        "outputId": "657466cf-0054-4114-a6f5-40f4079d40eb"
      },
      "execution_count": 1,
      "outputs": [
        {
          "output_type": "execute_result",
          "data": {
            "text/plain": [
              "True"
            ]
          },
          "metadata": {},
          "execution_count": 1
        }
      ]
    },
    {
      "cell_type": "code",
      "source": [
        "b=[]\n",
        "for _ in range(2):\n",
        "    name = input()\n",
        "    score = float(input())\n",
        "    a=[name,score]\n",
        "    b.append(a)"
      ],
      "metadata": {
        "colab": {
          "base_uri": "https://localhost:8080/"
        },
        "id": "qh5SUIH9UV2x",
        "outputId": "920547dc-0e83-4392-b044-0c9285bed31d"
      },
      "execution_count": 2,
      "outputs": [
        {
          "name": "stdout",
          "output_type": "stream",
          "text": [
            "'1'\n",
            "2\n",
            "'3\n",
            "4\n"
          ]
        }
      ]
    },
    {
      "cell_type": "code",
      "source": [
        "print(b)"
      ],
      "metadata": {
        "colab": {
          "base_uri": "https://localhost:8080/"
        },
        "id": "je5IyH4sUuwF",
        "outputId": "7741c5e4-a78b-4918-84b8-1805f329a231"
      },
      "execution_count": 3,
      "outputs": [
        {
          "output_type": "stream",
          "name": "stdout",
          "text": [
            "[[\"'1'\", 2.0], [\"'3\", 4.0]]\n"
          ]
        }
      ]
    },
    {
      "cell_type": "code",
      "source": [
        "dict(b)"
      ],
      "metadata": {
        "colab": {
          "base_uri": "https://localhost:8080/"
        },
        "id": "AdylqdNTWj96",
        "outputId": "8f6b57ae-13f5-4aa5-b2e4-069d7f73281c"
      },
      "execution_count": 4,
      "outputs": [
        {
          "output_type": "execute_result",
          "data": {
            "text/plain": [
              "{\"'1'\": 2.0, \"'3\": 4.0}"
            ]
          },
          "metadata": {},
          "execution_count": 4
        }
      ]
    },
    {
      "cell_type": "code",
      "source": [
        "a=[1,2,3]\n",
        "print(a.sort(reverse=True))\n",
        "print(a[:2])\n"
      ],
      "metadata": {
        "colab": {
          "base_uri": "https://localhost:8080/"
        },
        "id": "2t8QXEDsZZL7",
        "outputId": "ffe70e84-bcf9-4e88-92be-bb3d8d01ad89"
      },
      "execution_count": 24,
      "outputs": [
        {
          "output_type": "stream",
          "name": "stdout",
          "text": [
            "None\n",
            "[3, 2]\n"
          ]
        }
      ]
    },
    {
      "cell_type": "code",
      "source": [
        "min([1,1,1,5,6])"
      ],
      "metadata": {
        "colab": {
          "base_uri": "https://localhost:8080/"
        },
        "id": "aYPUTr2NaC79",
        "outputId": "484d5237-fa4b-4236-c0ea-9d17343701b3"
      },
      "execution_count": 9,
      "outputs": [
        {
          "output_type": "execute_result",
          "data": {
            "text/plain": [
              "1"
            ]
          },
          "metadata": {},
          "execution_count": 9
        }
      ]
    },
    {
      "cell_type": "code",
      "source": [
        "37.21==37.21"
      ],
      "metadata": {
        "colab": {
          "base_uri": "https://localhost:8080/"
        },
        "id": "uGF3nIFFc3cG",
        "outputId": "196e35ef-797f-4ced-e4d1-8887cf337008"
      },
      "execution_count": 10,
      "outputs": [
        {
          "output_type": "execute_result",
          "data": {
            "text/plain": [
              "True"
            ]
          },
          "metadata": {},
          "execution_count": 10
        }
      ]
    },
    {
      "cell_type": "code",
      "source": [
        "    z=[]\n",
        "    a=[]\n",
        "    c=[]\n",
        "    b=[['Harry', 37.21], ['Berry', 37.21], ['Tina', 37.2], ['Akriti', 41], ['Harsh', 39]]\n",
        "    d=dict(b)\n",
        "    mark=list(d.values())\n",
        "    min_mark=min(mark)\n",
        "    x=0\n",
        "    for i in mark:\n",
        "        if i==min_mark:\n",
        "            x=x+1\n",
        "    if x>1:\n",
        "        for i in list(d.keys()):\n",
        "            if d[i]==min_mark:\n",
        "                a.append(i)\n",
        "        print(a.sort())\n",
        "    else:\n",
        "        x=0\n",
        "        mark.remove(min_mark)\n",
        "        s_min_mark=min(mark)\n",
        "        for i in list(d.keys()):\n",
        "            if d[i]==s_min_mark:\n",
        "                a.append(i)\n",
        "        for i in mark:\n",
        "            if i==s_min_mark:\n",
        "                x=x+1\n",
        "            if x>1:\n",
        "                for i in list(d.keys()):\n",
        "                    if d[i]==min_mark:\n",
        "                        c.append(i)\n",
        "                c.sort()\n",
        "            else:\n",
        "                for i in list(d.keys()):\n",
        "                    if d[i]==min_mark:\n",
        "                        c.append(i)\n",
        "    z.append(a[0])\n",
        "    z.append(c[0])\n",
        "    print(z)"
      ],
      "metadata": {
        "colab": {
          "base_uri": "https://localhost:8080/"
        },
        "id": "AiKjNv7GdIbW",
        "outputId": "1cbea917-795d-4d61-b83e-04cc774c04e5"
      },
      "execution_count": 20,
      "outputs": [
        {
          "output_type": "stream",
          "name": "stdout",
          "text": [
            "['Harry', 'Tina']\n"
          ]
        }
      ]
    },
    {
      "cell_type": "code",
      "source": [
        "min_mark"
      ],
      "metadata": {
        "colab": {
          "base_uri": "https://localhost:8080/"
        },
        "id": "_CHdtQNnefoN",
        "outputId": "496ac113-2301-4c3e-dd8c-4226a96df552"
      },
      "execution_count": 21,
      "outputs": [
        {
          "output_type": "execute_result",
          "data": {
            "text/plain": [
              "37.2"
            ]
          },
          "metadata": {},
          "execution_count": 21
        }
      ]
    },
    {
      "cell_type": "code",
      "source": [
        "mark"
      ],
      "metadata": {
        "colab": {
          "base_uri": "https://localhost:8080/"
        },
        "id": "DN6TrpKfezn5",
        "outputId": "78a8cf4f-5afd-43a4-e172-2176e97d4d15"
      },
      "execution_count": 22,
      "outputs": [
        {
          "output_type": "execute_result",
          "data": {
            "text/plain": [
              "[37.21, 37.21, 41, 39]"
            ]
          },
          "metadata": {},
          "execution_count": 22
        }
      ]
    },
    {
      "cell_type": "code",
      "source": [
        "    b=[['Harry', 37.21], ['Berry', 37.21], ['Tina', 37.2], ['Akriti', 41], ['Harsh', 39]]\n",
        "    a=[]\n",
        "    c=[]\n",
        "    d=dict(b)\n",
        "    mark=list(d.values())\n",
        "    min_mark=min(mark)\n",
        "    \n",
        "    \n",
        "    x=0\n",
        "    mark.remove(min_mark)\n",
        "    s_min_mark=min(mark)\n",
        "    for i in list(d.keys()):\n",
        "        if d[i]==s_min_mark:\n",
        "            a.append(i)\n",
        "    for i in mark:\n",
        "        if i==s_min_mark:\n",
        "            x=x+1\n",
        "    if x>1:\n",
        "        for i in list(d.keys()):\n",
        "            if d[i]==s_min_mark:\n",
        "                c.append(i)\n",
        "        c.sort()\n",
        "    else:\n",
        "        for i in list(d.keys()):\n",
        "            if d[i]==min_mark:\n",
        "                c.append(i)\n",
        "    for i in c:\n",
        "        print(i)"
      ],
      "metadata": {
        "colab": {
          "base_uri": "https://localhost:8080/"
        },
        "id": "_S6L81aWdVZu",
        "outputId": "d00b63bf-c62c-44d2-9b2b-28d9ccc30700"
      },
      "execution_count": 31,
      "outputs": [
        {
          "output_type": "stream",
          "name": "stdout",
          "text": [
            "Berry\n",
            "Harry\n"
          ]
        }
      ]
    },
    {
      "cell_type": "code",
      "source": [
        "if __name__ == '__main__':\n",
        "    z=[]\n",
        "    b=[]\n",
        "    a=[]\n",
        "    c=[]\n",
        "    for _ in range(int(input())):\n",
        "        name = input()\n",
        "        score = float(input())\n",
        "        a=[name,score]\n",
        "        b.append(a)\n",
        "    d=dict(b)\n",
        "    mark=list(d.values())\n",
        "    min_mark=min(mark)\n",
        "    \n",
        "    \n",
        "    x=0\n",
        "    new_mark=[i for i in mark if i!=min_mark]\n",
        "    s_min_mark=min(new_mark)\n",
        "    for i in list(d.keys()):\n",
        "        if d[i]==s_min_mark:\n",
        "            a.append(i)\n",
        "    for i in new_mark:\n",
        "        if i==s_min_mark:\n",
        "            x=x+1\n",
        "    if x>1:\n",
        "        for i in list(d.keys()):\n",
        "            if d[i]==s_min_mark:\n",
        "                c.append(i)\n",
        "                c.sort()\n",
        "    else:\n",
        "        for i in list(d.keys()):\n",
        "            if d[i]==s_min_mark:\n",
        "                c.append(i)\n",
        "    if len(c)>2:\n",
        "        for i in c[:2]:\n",
        "            print(i)\n",
        "    else:\n",
        "        for i in c:\n",
        "            print(i)"
      ],
      "metadata": {
        "colab": {
          "base_uri": "https://localhost:8080/"
        },
        "id": "TOi2Hggfkif9",
        "outputId": "601967bd-48b4-4a15-8dca-23bea1058390"
      },
      "execution_count": 27,
      "outputs": [
        {
          "output_type": "execute_result",
          "data": {
            "text/plain": [
              "37.21"
            ]
          },
          "metadata": {},
          "execution_count": 27
        }
      ]
    },
    {
      "cell_type": "code",
      "source": [
        "round(5.000,2)"
      ],
      "metadata": {
        "id": "O6OzXzDNt-eh",
        "outputId": "64fbba71-63f6-4db9-a97a-887b4821d64f",
        "colab": {
          "base_uri": "https://localhost:8080/"
        }
      },
      "execution_count": 36,
      "outputs": [
        {
          "output_type": "execute_result",
          "data": {
            "text/plain": [
              "5.0"
            ]
          },
          "metadata": {},
          "execution_count": 36
        }
      ]
    },
    {
      "cell_type": "code",
      "source": [
        "x=4\n",
        "print(\"Rounding 4 upto 2 decimal places:\", format(x,\".2f\"))"
      ],
      "metadata": {
        "id": "ZCOUn71wvBm-",
        "outputId": "24c24998-c517-4c91-8a00-08638d6cfd56",
        "colab": {
          "base_uri": "https://localhost:8080/"
        }
      },
      "execution_count": 37,
      "outputs": [
        {
          "output_type": "stream",
          "name": "stdout",
          "text": [
            "Rounding 4 upto 2 decimal places: 4.00\n"
          ]
        }
      ]
    },
    {
      "cell_type": "code",
      "source": [
        "    N = int(input())\n",
        "    m=list()\n",
        "    for i in range(N):\n",
        "       method,*l=input().split()\n",
        "       k=list(map(int,l))\n",
        "       if len(k)==2:\n",
        "          q=[k[0]]\n",
        "          w=[k[1]]\n",
        "       elif len(k)==1:\n",
        "          q=[k[0]]\n",
        "       if method =='insert':\n",
        "          m.insert(q[0],w[0])\n",
        "       elif method == 'append':\n",
        "          m.append(q[0])\n",
        "       elif  method == 'remove':\n",
        "          m.remove(q[0])\n",
        "       elif method =='print':\n",
        "          print(m)\n",
        "       elif method == 'reverse':\n",
        "          m.reverse()\n",
        "       elif method =='pop':\n",
        "          m.pop()\n",
        "       elif method == 'sort':\n",
        "          m.sort()"
      ],
      "metadata": {
        "id": "U5oOVYiFB8hi",
        "outputId": "048aa590-cda8-4378-bc29-1f3a82bade5c",
        "colab": {
          "base_uri": "https://localhost:8080/",
          "height": 269
        }
      },
      "execution_count": 2,
      "outputs": [
        {
          "name": "stdout",
          "output_type": "stream",
          "text": [
            "1\n",
            "append\n"
          ]
        },
        {
          "output_type": "error",
          "ename": "NameError",
          "evalue": "ignored",
          "traceback": [
            "\u001b[0;31m---------------------------------------------------------------------------\u001b[0m",
            "\u001b[0;31mNameError\u001b[0m                                 Traceback (most recent call last)",
            "\u001b[0;32m<ipython-input-2-6b1de32e8484>\u001b[0m in \u001b[0;36m<module>\u001b[0;34m\u001b[0m\n\u001b[1;32m     12\u001b[0m       \u001b[0mm\u001b[0m\u001b[0;34m.\u001b[0m\u001b[0minsert\u001b[0m\u001b[0;34m(\u001b[0m\u001b[0mq\u001b[0m\u001b[0;34m[\u001b[0m\u001b[0;36m0\u001b[0m\u001b[0;34m]\u001b[0m\u001b[0;34m,\u001b[0m\u001b[0mw\u001b[0m\u001b[0;34m[\u001b[0m\u001b[0;36m0\u001b[0m\u001b[0;34m]\u001b[0m\u001b[0;34m)\u001b[0m\u001b[0;34m\u001b[0m\u001b[0;34m\u001b[0m\u001b[0m\n\u001b[1;32m     13\u001b[0m    \u001b[0;32melif\u001b[0m \u001b[0mmethod\u001b[0m \u001b[0;34m==\u001b[0m \u001b[0;34m'append'\u001b[0m\u001b[0;34m:\u001b[0m\u001b[0;34m\u001b[0m\u001b[0;34m\u001b[0m\u001b[0m\n\u001b[0;32m---> 14\u001b[0;31m       \u001b[0mm\u001b[0m\u001b[0;34m.\u001b[0m\u001b[0mappend\u001b[0m\u001b[0;34m(\u001b[0m\u001b[0mq\u001b[0m\u001b[0;34m[\u001b[0m\u001b[0;36m0\u001b[0m\u001b[0;34m]\u001b[0m\u001b[0;34m)\u001b[0m\u001b[0;34m\u001b[0m\u001b[0;34m\u001b[0m\u001b[0m\n\u001b[0m\u001b[1;32m     15\u001b[0m    \u001b[0;32melif\u001b[0m  \u001b[0mmethod\u001b[0m \u001b[0;34m==\u001b[0m \u001b[0;34m'remove'\u001b[0m\u001b[0;34m:\u001b[0m\u001b[0;34m\u001b[0m\u001b[0;34m\u001b[0m\u001b[0m\n\u001b[1;32m     16\u001b[0m       \u001b[0mm\u001b[0m\u001b[0;34m.\u001b[0m\u001b[0mremove\u001b[0m\u001b[0;34m(\u001b[0m\u001b[0mq\u001b[0m\u001b[0;34m[\u001b[0m\u001b[0;36m0\u001b[0m\u001b[0;34m]\u001b[0m\u001b[0;34m)\u001b[0m\u001b[0;34m\u001b[0m\u001b[0;34m\u001b[0m\u001b[0m\n",
            "\u001b[0;31mNameError\u001b[0m: name 'q' is not defined"
          ]
        }
      ]
    },
    {
      "cell_type": "code",
      "source": [
        "*l=input().split()\n",
        "tuple(map(int,l))\n"
      ],
      "metadata": {
        "id": "9uksezwjGEDD",
        "outputId": "586f26ce-ab8d-46a7-91e8-81aab1269dbb",
        "colab": {
          "base_uri": "https://localhost:8080/",
          "height": 130
        }
      },
      "execution_count": 23,
      "outputs": [
        {
          "output_type": "error",
          "ename": "SyntaxError",
          "evalue": "ignored",
          "traceback": [
            "\u001b[0;36m  File \u001b[0;32m\"<ipython-input-23-5842f9f1c392>\"\u001b[0;36m, line \u001b[0;32m1\u001b[0m\n\u001b[0;31m    *l=input().split()\u001b[0m\n\u001b[0m    ^\u001b[0m\n\u001b[0;31mSyntaxError\u001b[0m\u001b[0;31m:\u001b[0m starred assignment target must be in a list or tuple\n"
          ]
        }
      ]
    },
    {
      "cell_type": "code",
      "source": [
        "x= input().split(',')"
      ],
      "metadata": {
        "id": "R4ir16IcK1xk",
        "outputId": "55fff9d5-d8d6-43e1-ac66-f68cc6724b0c",
        "colab": {
          "base_uri": "https://localhost:8080/"
        }
      },
      "execution_count": 32,
      "outputs": [
        {
          "name": "stdout",
          "output_type": "stream",
          "text": [
            "1,2,3\n"
          ]
        }
      ]
    },
    {
      "cell_type": "code",
      "source": [
        "x"
      ],
      "metadata": {
        "id": "y3axyU3uLBQu",
        "outputId": "17375632-b54c-4a30-9002-a7923aeea527",
        "colab": {
          "base_uri": "https://localhost:8080/"
        }
      },
      "execution_count": 33,
      "outputs": [
        {
          "output_type": "execute_result",
          "data": {
            "text/plain": [
              "['1', '2', '3']"
            ]
          },
          "metadata": {},
          "execution_count": 33
        }
      ]
    },
    {
      "cell_type": "code",
      "source": [
        "tuple(map(int,l))"
      ],
      "metadata": {
        "id": "aayurNMJJuEd",
        "outputId": "de925e42-5f9b-4757-902c-400b072fd0f2",
        "colab": {
          "base_uri": "https://localhost:8080/"
        }
      },
      "execution_count": 21,
      "outputs": [
        {
          "output_type": "execute_result",
          "data": {
            "text/plain": [
              "(2, 3)"
            ]
          },
          "metadata": {},
          "execution_count": 21
        }
      ]
    },
    {
      "cell_type": "code",
      "source": [
        "method"
      ],
      "metadata": {
        "id": "5owHjFo0Jv1O",
        "outputId": "a3425a09-e85a-48dd-d1cc-b87b465b0a03",
        "colab": {
          "base_uri": "https://localhost:8080/",
          "height": 36
        }
      },
      "execution_count": 15,
      "outputs": [
        {
          "output_type": "execute_result",
          "data": {
            "text/plain": [
              "'append'"
            ],
            "application/vnd.google.colaboratory.intrinsic+json": {
              "type": "string"
            }
          },
          "metadata": {},
          "execution_count": 15
        }
      ]
    },
    {
      "cell_type": "code",
      "source": [
        "x"
      ],
      "metadata": {
        "id": "ml7EcmzqJWmY",
        "outputId": "d581b40c-c2da-495b-d7bf-d803e9645996",
        "colab": {
          "base_uri": "https://localhost:8080/"
        }
      },
      "execution_count": 11,
      "outputs": [
        {
          "output_type": "execute_result",
          "data": {
            "text/plain": [
              "['1234']"
            ]
          },
          "metadata": {},
          "execution_count": 11
        }
      ]
    },
    {
      "cell_type": "code",
      "source": [
        "a"
      ],
      "metadata": {
        "id": "oszOcbENGRYt",
        "outputId": "382f22bd-2461-4cd4-ce0e-9e262dda03a4",
        "colab": {
          "base_uri": "https://localhost:8080/",
          "height": 36
        }
      },
      "execution_count": 7,
      "outputs": [
        {
          "output_type": "execute_result",
          "data": {
            "text/plain": [
              "'1'"
            ],
            "application/vnd.google.colaboratory.intrinsic+json": {
              "type": "string"
            }
          },
          "metadata": {},
          "execution_count": 7
        }
      ]
    },
    {
      "cell_type": "code",
      "source": [
        "b"
      ],
      "metadata": {
        "id": "gF2mbsVdGTub",
        "outputId": "2c75d317-7385-4a90-bef9-4979d7a3d60b",
        "colab": {
          "base_uri": "https://localhost:8080/",
          "height": 36
        }
      },
      "execution_count": 8,
      "outputs": [
        {
          "output_type": "execute_result",
          "data": {
            "text/plain": [
              "'2'"
            ],
            "application/vnd.google.colaboratory.intrinsic+json": {
              "type": "string"
            }
          },
          "metadata": {},
          "execution_count": 8
        }
      ]
    },
    {
      "cell_type": "code",
      "source": [
        "c"
      ],
      "metadata": {
        "id": "wuElb_zbGVMZ",
        "outputId": "4e35bc2b-1df4-4280-d913-1d8515ff4b71",
        "colab": {
          "base_uri": "https://localhost:8080/",
          "height": 36
        }
      },
      "execution_count": 9,
      "outputs": [
        {
          "output_type": "execute_result",
          "data": {
            "text/plain": [
              "'3'"
            ],
            "application/vnd.google.colaboratory.intrinsic+json": {
              "type": "string"
            }
          },
          "metadata": {},
          "execution_count": 9
        }
      ]
    },
    {
      "cell_type": "code",
      "source": [
        "x=2\n",
        "y=2\n",
        "z=2\n",
        "a=[[i,j,k] for i in range(x+1) for j in range(y+1) for k in range(z+1) if i+j+k!=3]\n",
        "a"
      ],
      "metadata": {
        "id": "T2rls8r5Nm7Z",
        "outputId": "bf07c1f1-b399-4b2f-9ea8-e1c194104d68",
        "colab": {
          "base_uri": "https://localhost:8080/"
        }
      },
      "execution_count": 48,
      "outputs": [
        {
          "output_type": "execute_result",
          "data": {
            "text/plain": [
              "[[0, 0, 0],\n",
              " [0, 0, 1],\n",
              " [0, 0, 2],\n",
              " [0, 1, 0],\n",
              " [0, 1, 1],\n",
              " [0, 2, 0],\n",
              " [0, 2, 2],\n",
              " [1, 0, 0],\n",
              " [1, 0, 1],\n",
              " [1, 1, 0],\n",
              " [1, 1, 2],\n",
              " [1, 2, 1],\n",
              " [1, 2, 2],\n",
              " [2, 0, 0],\n",
              " [2, 0, 2],\n",
              " [2, 1, 1],\n",
              " [2, 1, 2],\n",
              " [2, 2, 0],\n",
              " [2, 2, 1],\n",
              " [2, 2, 2]]"
            ]
          },
          "metadata": {},
          "execution_count": 48
        }
      ]
    },
    {
      "cell_type": "code",
      "source": [
        "{1,2,4}=={1,2}"
      ],
      "metadata": {
        "id": "MBBCYKP2YIQ-",
        "outputId": "80d9044c-7830-47a7-a638-505a14c1a630",
        "colab": {
          "base_uri": "https://localhost:8080/"
        }
      },
      "execution_count": 53,
      "outputs": [
        {
          "output_type": "execute_result",
          "data": {
            "text/plain": [
              "False"
            ]
          },
          "metadata": {},
          "execution_count": 53
        }
      ]
    },
    {
      "cell_type": "code",
      "source": [
        "A=map(int,input())"
      ],
      "metadata": {
        "id": "TrjcTIF6ZFqZ",
        "outputId": "9178a1b6-1ff3-4fa2-de9b-163537fa3ee7",
        "colab": {
          "base_uri": "https://localhost:8080/"
        }
      },
      "execution_count": 56,
      "outputs": [
        {
          "name": "stdout",
          "output_type": "stream",
          "text": [
            "1,2,3\n"
          ]
        }
      ]
    },
    {
      "cell_type": "code",
      "source": [
        "list(A)"
      ],
      "metadata": {
        "id": "_jnVK6ZmZTAk",
        "outputId": "75db9e53-6a8e-4a16-f852-947de24eee39",
        "colab": {
          "base_uri": "https://localhost:8080/",
          "height": 165
        }
      },
      "execution_count": 58,
      "outputs": [
        {
          "output_type": "error",
          "ename": "TypeError",
          "evalue": "ignored",
          "traceback": [
            "\u001b[0;31m---------------------------------------------------------------------------\u001b[0m",
            "\u001b[0;31mTypeError\u001b[0m                                 Traceback (most recent call last)",
            "\u001b[0;32m<ipython-input-58-43f07f92042c>\u001b[0m in \u001b[0;36m<module>\u001b[0;34m\u001b[0m\n\u001b[0;32m----> 1\u001b[0;31m \u001b[0mlist\u001b[0m\u001b[0;34m(\u001b[0m\u001b[0mA\u001b[0m\u001b[0;34m)\u001b[0m\u001b[0;34m\u001b[0m\u001b[0;34m\u001b[0m\u001b[0m\n\u001b[0m",
            "\u001b[0;31mTypeError\u001b[0m: 'list' object is not callable"
          ]
        }
      ]
    },
    {
      "cell_type": "code",
      "source": [
        "divmod(177,10)"
      ],
      "metadata": {
        "id": "8HlQeHepcxxu",
        "outputId": "26b2bcc4-12f4-4b6e-825f-12575c2a1e30",
        "colab": {
          "base_uri": "https://localhost:8080/"
        }
      },
      "execution_count": 59,
      "outputs": [
        {
          "output_type": "execute_result",
          "data": {
            "text/plain": [
              "(17, 7)"
            ]
          },
          "metadata": {},
          "execution_count": 59
        }
      ]
    },
    {
      "cell_type": "code",
      "source": [
        "for i in range(1,5,2):\n",
        "  print(i)\n"
      ],
      "metadata": {
        "id": "W6Q6y9T2dYfe",
        "outputId": "6ad1bc37-86a5-46a2-ee54-4f115cf06210",
        "colab": {
          "base_uri": "https://localhost:8080/"
        }
      },
      "execution_count": 66,
      "outputs": [
        {
          "output_type": "stream",
          "name": "stdout",
          "text": [
            "1\n",
            "3\n"
          ]
        }
      ]
    },
    {
      "cell_type": "code",
      "source": [
        "SELECT subject_id,subject_name,\n",
        "cast(sum(no_of_student) as varchar)||\".0\" as students_for_all_year from\n",
        "(SELECT a.* ,b.subject_name from exam_test a left join subject_test b\n",
        " on a.subject_id=b.subject_id) as a group by subject_id,subject_name"
      ],
      "metadata": {
        "id": "G7rZ2NZMUaM2"
      },
      "execution_count": null,
      "outputs": []
    },
    {
      "cell_type": "code",
      "source": [
        "nums= eval(input())\n",
        "target= int(input())\n",
        "def searchInsert(nums, target):\n",
        "  a=0\n",
        "  if target in nums:\n",
        "    for i in nums:\n",
        "      if i==target:\n",
        "        return a\n",
        "      else:\n",
        "        a=a+1\n",
        "  else:\n",
        "    for i in nums:\n",
        "      if i<target:\n",
        "        a=a+1\n",
        "\n",
        "      else:\n",
        "        return a\n",
        "        break\n",
        "\n",
        "\n",
        "  \n",
        "print(searchInsert(nums, target))"
      ],
      "metadata": {
        "id": "xypIbWkAj3sh",
        "outputId": "45e4e158-7257-4e25-9397-3b56df8094c2",
        "colab": {
          "base_uri": "https://localhost:8080/"
        }
      },
      "execution_count": 7,
      "outputs": [
        {
          "name": "stdout",
          "output_type": "stream",
          "text": [
            "[1,2,3]\n",
            "4\n"
          ]
        }
      ]
    },
    {
      "cell_type": "code",
      "source": [
        "nums=[1,2,3]\n",
        "target=4"
      ],
      "metadata": {
        "id": "JjJnQzT1WkeS"
      },
      "execution_count": 11,
      "outputs": []
    },
    {
      "cell_type": "code",
      "source": [
        "len(nums)-1"
      ],
      "metadata": {
        "id": "IwVc8qLuX1sk",
        "outputId": "54a7ed81-5cdc-49b9-c376-a261f2c7fb2d",
        "colab": {
          "base_uri": "https://localhost:8080/"
        }
      },
      "execution_count": 15,
      "outputs": [
        {
          "output_type": "execute_result",
          "data": {
            "text/plain": [
              "2"
            ]
          },
          "metadata": {},
          "execution_count": 15
        }
      ]
    },
    {
      "cell_type": "code",
      "source": [
        "def searchInsert(nums, target):\n",
        "  a=0\n",
        "  if target in nums:\n",
        "    for i in nums:\n",
        "      if i==target:\n",
        "        return a\n",
        "      else:\n",
        "        a=a+1\n",
        "  else:\n",
        "    x=len(nums)-1\n",
        "    if nums[x]<target:\n",
        "      return len(nums)\n",
        "    else:\n",
        "      for i in nums:\n",
        "        if i<target:\n",
        "          a=a+1\n",
        "        else:\n",
        "          return a\n",
        "          break\n",
        "print(searchInsert(nums, target))"
      ],
      "metadata": {
        "id": "PdH6lVcSWiWa",
        "outputId": "e4d28130-b7b7-43a1-ec83-7d14c2324823",
        "colab": {
          "base_uri": "https://localhost:8080/"
        }
      },
      "execution_count": 16,
      "outputs": [
        {
          "output_type": "stream",
          "name": "stdout",
          "text": [
            "3\n"
          ]
        }
      ]
    },
    {
      "cell_type": "code",
      "source": [
        "def find_index(arr, K):\n",
        "    n=len(arr) \n",
        "    # Traverse the array\n",
        "    for i in range(n):\n",
        "         \n",
        "        # If K is found\n",
        "        if arr[i] == K:\n",
        "            return i\n",
        "             \n",
        "        # If arr[i] exceeds K\n",
        "        elif arr[i] > K:\n",
        "            return i\n",
        "             \n",
        "    # If all array elements are smaller\n",
        "    return n\n",
        " \n",
        "# Driver Code\n",
        "arr = [1, 3, 5, 6]\n",
        "n = len(arr)\n",
        "K = 5\n",
        "print(find_index(arr, K))"
      ],
      "metadata": {
        "id": "tozlAMYYlxnY",
        "outputId": "6ac19666-b778-4eb4-b839-0a205756a4ab",
        "colab": {
          "base_uri": "https://localhost:8080/"
        }
      },
      "execution_count": 21,
      "outputs": [
        {
          "output_type": "stream",
          "name": "stdout",
          "text": [
            "2\n"
          ]
        }
      ]
    },
    {
      "cell_type": "code",
      "source": [
        "nums= [1,3,5,6]\n",
        "target= 5\n",
        "def Search_insert(nums,target):\n",
        "  n=len(nums)\n",
        " \n",
        "  \n",
        "  start = 0\n",
        "  end = n - 1\n",
        " \n",
        "   \n",
        "  while start<= end:\n",
        "    mid =(start + end)//2\n",
        " \n",
        "    if arr[mid] == K:\n",
        "      return mid\n",
        " \n",
        "    elif arr[mid] < K:\n",
        "     start = mid + 1\n",
        "    else:\n",
        "     end = mid-1\n",
        " \n",
        "    \n",
        "  return end + 1\n",
        "Search_insert(nums,target)"
      ],
      "metadata": {
        "id": "r9IxggBUsYPi",
        "outputId": "5f9560fe-8941-4e08-8a38-0bd42bce6900",
        "colab": {
          "base_uri": "https://localhost:8080/"
        }
      },
      "execution_count": 25,
      "outputs": [
        {
          "output_type": "execute_result",
          "data": {
            "text/plain": [
              "2"
            ]
          },
          "metadata": {},
          "execution_count": 25
        }
      ]
    },
    {
      "cell_type": "code",
      "source": [
        "def fun(arr):\n",
        "  max_num=max(arr)\n",
        "  arr=sorted(arr)\n",
        "  des_arr=list(range(max_num))\n",
        "  l=len(arr)\n",
        "  for i in range(l):\n",
        "    if arr[i]!=des_arr[i]:\n",
        "      return des_arr[i]\n"
      ],
      "metadata": {
        "id": "LVHdXdK5u3PZ"
      },
      "execution_count": 17,
      "outputs": []
    },
    {
      "cell_type": "code",
      "source": [
        "def missingNumber(arr):\n",
        "  max_num=max(arr)\n",
        "  arr=sorted(arr)\n",
        "  des_arr=list(range(max_num+1))\n",
        "  l=len(arr)\n",
        "  if des_arr==arr:\n",
        "    return max_num+1\n",
        "  else:\n",
        "    for i in range(l):\n",
        "      if arr[i]!=des_arr[i]:\n",
        "        return des_arr[i]\n",
        "    \n"
      ],
      "metadata": {
        "id": "Pi7O78CDaRtv"
      },
      "execution_count": 31,
      "outputs": []
    },
    {
      "cell_type": "code",
      "source": [
        "missingNumber([0,1,2])"
      ],
      "metadata": {
        "id": "uR7_se51wjzE",
        "outputId": "2fb4d9be-0c0a-4be6-8090-946a466797b1",
        "colab": {
          "base_uri": "https://localhost:8080/"
        }
      },
      "execution_count": 32,
      "outputs": [
        {
          "output_type": "execute_result",
          "data": {
            "text/plain": [
              "3"
            ]
          },
          "metadata": {},
          "execution_count": 32
        }
      ]
    },
    {
      "cell_type": "code",
      "source": [
        "[0,1,2]==[0,1,2]"
      ],
      "metadata": {
        "id": "dw3pA7OGbJ_A",
        "outputId": "55375dc4-edf3-4068-c220-583732deb347",
        "colab": {
          "base_uri": "https://localhost:8080/"
        }
      },
      "execution_count": 25,
      "outputs": [
        {
          "output_type": "execute_result",
          "data": {
            "text/plain": [
              "True"
            ]
          },
          "metadata": {},
          "execution_count": 25
        }
      ]
    },
    {
      "cell_type": "code",
      "source": [
        "arr= [3,0,1]\n",
        "def missingNumber(arr):\n",
        "  max_num=max(arr)\n",
        "  arr=sorted(arr)\n",
        "  des_arr=list(range(max_num))\n",
        "  l=len(arr)\n",
        "  for i in range(l):\n",
        "    if arr[i]!=des_arr[i]:\n",
        "      return des_arr[i]\n",
        "\n",
        "missingNumber(arr)"
      ],
      "metadata": {
        "id": "cVJvpBjJ1n5v",
        "outputId": "e47ea4a9-00f6-4a81-928f-2b2ec50f4f20",
        "colab": {
          "base_uri": "https://localhost:8080/"
        }
      },
      "execution_count": 4,
      "outputs": [
        {
          "output_type": "execute_result",
          "data": {
            "text/plain": [
              "2"
            ]
          },
          "metadata": {},
          "execution_count": 4
        }
      ]
    },
    {
      "cell_type": "code",
      "source": [],
      "metadata": {
        "id": "Y59hjvApvmUK"
      },
      "execution_count": null,
      "outputs": []
    },
    {
      "cell_type": "code",
      "source": [
        "arr=[1,2,3,4,5]\n",
        "b=[]\n",
        "a=[abs(i-3) for i in arr]\n",
        "while len(b)<4:\n",
        "  clo=min(a)\n",
        "  \n",
        "  d=0\n",
        "  for i in a:\n",
        "    if i==clo:\n",
        "\n",
        "      \n",
        "      b.append(arr[d])\n",
        "      d=d+1\n",
        "      if len(b)==4:\n",
        "        break\n",
        "    else:\n",
        "      d=d+1\n",
        "  arr=[i for i in arr if i not in b]\n",
        "  a=[i for i in a if i!=clo]\n",
        "  \n",
        "  \n",
        "b.sort()\n",
        "print(b)\n",
        "\n",
        "\n"
      ],
      "metadata": {
        "id": "bkTa8cZb4gr0",
        "outputId": "945320f3-88ea-4f4d-c29b-2a781ae646c9",
        "colab": {
          "base_uri": "https://localhost:8080/"
        }
      },
      "execution_count": 57,
      "outputs": [
        {
          "output_type": "stream",
          "name": "stdout",
          "text": [
            "[1, 2, 3, 4]\n"
          ]
        }
      ]
    },
    {
      "cell_type": "code",
      "source": [
        "arr=[12, 16, 22, 30, 35, 39, 42, 45, 48, 50, 53, 55, 56]\n",
        "b=[]\n",
        "a=[abs(i-35) for i in arr]\n",
        "while len(b)<4:\n",
        "  clo=min(a)\n",
        "  \n",
        "  d=0\n",
        "  for i in a:\n",
        "    if i==clo:\n",
        "\n",
        "      \n",
        "      b.append(arr[d])\n",
        "      d=d+1\n",
        "      if len(b)==4:\n",
        "        break\n",
        "    else:\n",
        "      d=d+1\n",
        "  arr=[i for i in arr if i not in b]\n",
        "  a=[i for i in a if i!=clo]\n",
        "  \n",
        "  \n",
        "b.sort()\n",
        "print(b)\n"
      ],
      "metadata": {
        "id": "vB59RoYGnBZ9",
        "outputId": "88d17ad8-cadf-4da5-ab32-93e14b3abed9",
        "colab": {
          "base_uri": "https://localhost:8080/"
        }
      },
      "execution_count": 59,
      "outputs": [
        {
          "output_type": "stream",
          "name": "stdout",
          "text": [
            "[30, 35, 39, 42]\n"
          ]
        }
      ]
    },
    {
      "cell_type": "code",
      "source": [
        "arr=[10, 11, 12, 13, 15, 16]\n",
        "k =1\n",
        "x =15"
      ],
      "metadata": {
        "id": "6E3gpbEPs5ES"
      },
      "execution_count": 85,
      "outputs": []
    },
    {
      "cell_type": "code",
      "source": [
        "def findClosestElements(arr, k, x):\n",
        "  b=[]\n",
        "  \n",
        "  a=[abs(i-x) for i in arr]\n",
        "  while len(b)<k:\n",
        "    clo=min(a)\n",
        "    d=0\n",
        "    for i in a:\n",
        "      if i==clo:\n",
        "        b.append(arr[d])\n",
        "        d=d+1\n",
        "        if len(b)==k:\n",
        "          break\n",
        "      else:\n",
        "        d=d+1\n",
        "    arr=[i for i in arr if i not in b]\n",
        "    a=[i for i in a if i!=clo]\n",
        "  b.sort()\n",
        "  return b\n",
        "result=findClosestElements(arr, k, x)\n",
        "print(result)"
      ],
      "metadata": {
        "id": "DPYCO1pMk_2O",
        "outputId": "6a90c0a3-9311-44fc-f569-9fd431baafb2",
        "colab": {
          "base_uri": "https://localhost:8080/"
        }
      },
      "execution_count": 86,
      "outputs": [
        {
          "output_type": "stream",
          "name": "stdout",
          "text": [
            "[15]\n"
          ]
        }
      ]
    },
    {
      "cell_type": "code",
      "source": [
        "import bisect\n",
        "import collections\n",
        "class Solution(object):\n",
        "def findClosestElements(self, arr, k, x):\n",
        "  lenN = len(arr)\n",
        "    result = collections.deque([])\n",
        "\n",
        "    t = bisect.bisect_left(arr, x) \n",
        "    h = t - 1\n",
        "\n",
        "    while(k > 0):\n",
        "        \n",
        "        if(h >= 0):\n",
        "            if(t < lenN):\n",
        "                if(abs(arr[h] - x) <= abs(arr[t] - x)):\n",
        "                    result.appendleft(arr[h])\n",
        "                    h -= 1\n",
        "                else:\n",
        "                    result.append(arr[t])\n",
        "                    t += 1\n",
        "            else:\n",
        "                result.appendleft(arr[h])\n",
        "                h -= 1\n",
        "        else:\n",
        "            result.append(arr[t])\n",
        "            t += 1\n",
        "    \n",
        "        k -= 1\n",
        "    \n",
        "    return result"
      ],
      "metadata": {
        "id": "5XmfL0MUvRwM"
      },
      "execution_count": null,
      "outputs": []
    },
    {
      "cell_type": "code",
      "source": [
        "arr=[2,2,3,4,4,5,5]\n",
        "for i in arr:\n",
        "  if arr.count(i)<2:\n",
        "    print(i)\n"
      ],
      "metadata": {
        "id": "VkRVBAOzGpJr",
        "outputId": "433efbe2-40c1-4833-a4b6-bcc6c715d38a",
        "colab": {
          "base_uri": "https://localhost:8080/"
        }
      },
      "execution_count": 44,
      "outputs": [
        {
          "output_type": "stream",
          "name": "stdout",
          "text": [
            "3\n"
          ]
        }
      ]
    },
    {
      "cell_type": "code",
      "source": [
        "def singleelement(arr, n):\n",
        "    low = 0\n",
        "    high = n - 2\n",
        "    mid = 0\n",
        "    while (low <= high):\n",
        "        mid = (low + high) // 2\n",
        "        if (arr[mid] == arr[mid ^ 1]):\n",
        "            low = mid + 1\n",
        "        else:\n",
        "            high = mid - 1\n",
        "      \n",
        "    return arr[low]\n",
        "      \n",
        "# Driver code\n",
        "arr = [2, 3, 5, 4, 5, 3, 4]\n",
        "size = len(arr)\n",
        "arr.sort()\n",
        "print(singleelement(arr, size))"
      ],
      "metadata": {
        "id": "1RKwJLu5QZeA",
        "outputId": "19dae486-33b6-45fe-9336-93d2171cfb44",
        "colab": {
          "base_uri": "https://localhost:8080/"
        }
      },
      "execution_count": 47,
      "outputs": [
        {
          "output_type": "stream",
          "name": "stdout",
          "text": [
            "2\n"
          ]
        }
      ]
    },
    {
      "cell_type": "code",
      "source": [
        "7^8"
      ],
      "metadata": {
        "id": "bBljNMkQWdYJ",
        "outputId": "2dab28e0-38d1-4786-8f1f-b721f2c9097f",
        "colab": {
          "base_uri": "https://localhost:8080/"
        }
      },
      "execution_count": 52,
      "outputs": [
        {
          "output_type": "execute_result",
          "data": {
            "text/plain": [
              "15"
            ]
          },
          "metadata": {},
          "execution_count": 52
        }
      ]
    },
    {
      "cell_type": "code",
      "source": [
        "8^1"
      ],
      "metadata": {
        "id": "sTHeHbzUMrON",
        "outputId": "853fe171-b20b-4741-82a6-8656e95f8539",
        "colab": {
          "base_uri": "https://localhost:8080/"
        }
      },
      "execution_count": 46,
      "outputs": [
        {
          "output_type": "execute_result",
          "data": {
            "text/plain": [
              "9"
            ]
          },
          "metadata": {},
          "execution_count": 46
        }
      ]
    },
    {
      "cell_type": "code",
      "source": [
        "b"
      ],
      "metadata": {
        "id": "GUwlTxGg8pWD",
        "outputId": "eb21a8c6-614f-401c-b02a-4126eb108287",
        "colab": {
          "base_uri": "https://localhost:8080/"
        }
      },
      "execution_count": 25,
      "outputs": [
        {
          "output_type": "execute_result",
          "data": {
            "text/plain": [
              "[1, 2, 3, 4, 5]"
            ]
          },
          "metadata": {},
          "execution_count": 25
        }
      ]
    },
    {
      "cell_type": "code",
      "source": [
        "a"
      ],
      "metadata": {
        "id": "SdnDAbzz4wLt",
        "outputId": "4ce8ab8e-4b23-44d7-9e9b-9579214bacfc",
        "colab": {
          "base_uri": "https://localhost:8080/"
        }
      },
      "execution_count": 10,
      "outputs": [
        {
          "output_type": "execute_result",
          "data": {
            "text/plain": [
              "[2, 1, 0, 1, 2]"
            ]
          },
          "metadata": {},
          "execution_count": 10
        }
      ]
    },
    {
      "cell_type": "code",
      "source": [
        "def findClosestElements(arr, k, x):\n",
        "  a=[[abs(i-x)] for i in arr]\n",
        "  for i in arr:\n",
        "    for j in arr:\n",
        "\n",
        "      "
      ],
      "metadata": {
        "id": "30sMkXFR3JJk"
      },
      "execution_count": null,
      "outputs": []
    },
    {
      "cell_type": "code",
      "source": [
        "nums1 = [4,1,2]\n",
        "\n",
        "nums2 = [1,3,4,2,5]"
      ],
      "metadata": {
        "id": "DA7C4Kai4hw1"
      },
      "execution_count": 33,
      "outputs": []
    },
    {
      "cell_type": "code",
      "source": [
        "\n",
        "def nextGreaterElement(nums1, nums2):\n",
        "  a=[]\n",
        "  for i in range(len(nums1)):\n",
        "    for j in range(len(nums2)):\n",
        "      if nums1[i]==nums2[j]:\n",
        "        if j==(len(nums2)-1):\n",
        "          a.append(-1)\n",
        "        elif nums2[j+1]>nums2[j]:\n",
        "          a.append(nums2[j+1])\n",
        "        else:\n",
        "          a.append(-1)\n",
        "  return(a)\n",
        "nextGreaterElement(nums1, nums2)"
      ],
      "metadata": {
        "id": "hzf1oZmK4dgr",
        "outputId": "e8ee7be6-c71b-497e-e4da-9f96427c9bba",
        "colab": {
          "base_uri": "https://localhost:8080/"
        }
      },
      "execution_count": 34,
      "outputs": [
        {
          "output_type": "execute_result",
          "data": {
            "text/plain": [
              "[-1, 3, 5]"
            ]
          },
          "metadata": {},
          "execution_count": 34
        }
      ]
    }
  ],
  "metadata": {
    "colab": {
      "name": "Welcome To Colaboratory",
      "toc_visible": true,
      "provenance": [],
      "include_colab_link": true
    },
    "kernelspec": {
      "display_name": "Python 3",
      "name": "python3"
    }
  },
  "nbformat": 4,
  "nbformat_minor": 0
}