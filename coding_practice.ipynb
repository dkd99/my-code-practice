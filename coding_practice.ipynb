{
  "cells": [
    {
      "cell_type": "markdown",
      "metadata": {
        "id": "view-in-github",
        "colab_type": "text"
      },
      "source": [
        "<a href=\"https://colab.research.google.com/github/dkd99/my-code-practice/blob/main/coding_practice.ipynb\" target=\"_parent\"><img src=\"https://colab.research.google.com/assets/colab-badge.svg\" alt=\"Open In Colab\"/></a>"
      ]
    },
    {
      "cell_type": "code",
      "source": [
        "def fibonacci_recursive(n):\n",
        "    # Base case: first two numbers in the Fibonacci sequence are 0 and 1\n",
        "    if n <= 0:\n",
        "        return 0\n",
        "    elif n == 1:\n",
        "        return 1\n",
        "    else:\n",
        "        # Recursive case: sum of the previous two numbers\n",
        "        return fibonacci_recursive(n-1) + fibonacci_recursive(n-2)\n",
        "\n",
        "# To generate the Fibonacci series up to n terms\n",
        "def fibonacci_series_recursive(n):\n",
        "    return [fibonacci_recursive(i) for i in range(n)]\n",
        "\n",
        "# Example usage:\n",
        "n = 10\n",
        "print(f\"Fibonacci series (Recursive) for {n} terms: {fibonacci_series_recursive(n)}\")\n"
      ],
      "metadata": {
        "id": "os7WvhC3F6MT",
        "outputId": "a70a6e0e-355e-4043-a3ef-8acae8deec7c",
        "colab": {
          "base_uri": "https://localhost:8080/"
        }
      },
      "execution_count": null,
      "outputs": [
        {
          "output_type": "stream",
          "name": "stdout",
          "text": [
            "Fibonacci series (Recursive) for 10 terms: [0, 1, 1, 2, 3, 5, 8, 13, 21, 34]\n"
          ]
        }
      ]
    },
    {
      "cell_type": "code",
      "source": [
        "def fibonacci_iterative(n):\n",
        "    series = []\n",
        "    a, b = 0, 1\n",
        "    for _ in range(n):\n",
        "        series.append(a)\n",
        "        a, b = b, a + b  # Update the two previous numbers\n",
        "    return series\n",
        "\n",
        "# Example usage:\n",
        "n = 10\n",
        "print(f\"Fibonacci series (Iterative) for {n} terms: {fibonacci_iterative(n)}\")\n"
      ],
      "metadata": {
        "id": "2Bu0GDfwGXGJ",
        "outputId": "5fa89b4a-38d4-47e2-fc53-7e645eb78970",
        "colab": {
          "base_uri": "https://localhost:8080/"
        }
      },
      "execution_count": null,
      "outputs": [
        {
          "output_type": "stream",
          "name": "stdout",
          "text": [
            "Fibonacci series (Iterative) for 10 terms: [0, 1, 1, 2, 3, 5, 8, 13, 21, 34]\n"
          ]
        }
      ]
    },
    {
      "cell_type": "code",
      "source": [
        "dic = {\"a\":4,\"b\":3,\"c\":8,\"d\":1}\n",
        "c = dict(sorted(list(dic.items()),key = lambda x:x[1],reverse = True))\n",
        "print(c)"
      ],
      "metadata": {
        "id": "oGtxvWo_MCW4",
        "outputId": "e09bc36a-7318-4c02-b1e6-518e79356eb7",
        "colab": {
          "base_uri": "https://localhost:8080/"
        }
      },
      "execution_count": null,
      "outputs": [
        {
          "output_type": "stream",
          "name": "stdout",
          "text": [
            "{'c': 8, 'a': 4, 'b': 3, 'd': 1}\n"
          ]
        }
      ]
    },
    {
      "cell_type": "code",
      "source": [
        "from datetime import datetime"
      ],
      "metadata": {
        "id": "6kVEYfUJNCQZ"
      },
      "execution_count": null,
      "outputs": []
    },
    {
      "cell_type": "code",
      "source": [
        "a = \"01-04-2023\"\n",
        "b= datetime.strptime(a,\"%d-%m-%Y\").date()\n",
        "b"
      ],
      "metadata": {
        "id": "mt_PnKEjM8Fi",
        "outputId": "73e41770-7b7f-443b-9059-d5e08da91b65",
        "colab": {
          "base_uri": "https://localhost:8080/"
        }
      },
      "execution_count": null,
      "outputs": [
        {
          "output_type": "execute_result",
          "data": {
            "text/plain": [
              "datetime.date(2023, 4, 1)"
            ]
          },
          "metadata": {},
          "execution_count": 19
        }
      ]
    },
    {
      "cell_type": "code",
      "source": [
        "datetime.strftime(b,\"%Y-%m-%d\")"
      ],
      "metadata": {
        "id": "nY1-kYKlOeSL",
        "outputId": "7fc1a855-07f6-4076-e392-1274c17eb1da",
        "colab": {
          "base_uri": "https://localhost:8080/",
          "height": 35
        }
      },
      "execution_count": null,
      "outputs": [
        {
          "output_type": "execute_result",
          "data": {
            "text/plain": [
              "'2023-04-01'"
            ],
            "application/vnd.google.colaboratory.intrinsic+json": {
              "type": "string"
            }
          },
          "metadata": {},
          "execution_count": 20
        }
      ]
    },
    {
      "cell_type": "code",
      "source": [
        "def find_primes(limit):\n",
        "    primes = []\n",
        "    for num in range(2, limit):\n",
        "        is_prime = True\n",
        "        for i in range(2, int(num ** 0.5) + 1):  # Only check divisors up to the square root of the number\n",
        "            if num % i == 0:\n",
        "                is_prime = False\n",
        "                break\n",
        "        if is_prime:\n",
        "            primes.append(num)\n",
        "    return primes\n",
        "\n",
        "# Example usage:\n",
        "limit = 50  # You can change this limit\n",
        "primes = find_primes(limit)\n",
        "print(f\"Prime numbers less than {limit}: {primes}\")\n"
      ],
      "metadata": {
        "id": "zIyorxWmUMCO",
        "outputId": "1d6b5be2-519f-4a8d-90ac-bba1e58dcff4",
        "colab": {
          "base_uri": "https://localhost:8080/"
        }
      },
      "execution_count": null,
      "outputs": [
        {
          "output_type": "stream",
          "name": "stdout",
          "text": [
            "Prime numbers less than 50: [2, 3, 5, 7, 11, 13, 17, 19, 23, 29, 31, 37, 41, 43, 47]\n"
          ]
        }
      ]
    },
    {
      "cell_type": "code",
      "source": [
        "a = [64, 34, 25, 12, 22, 11, 90]"
      ],
      "metadata": {
        "id": "EdDXV8gNUc6v"
      },
      "execution_count": null,
      "outputs": []
    },
    {
      "cell_type": "code",
      "source": [
        "for i in range(len(a)):\n",
        "    for j in range(i+1,len(a)):\n",
        "        if a[i]>a[j]:\n",
        "            a[i],a[j] = a[j],a[i]\n",
        "print(a)"
      ],
      "metadata": {
        "id": "wfIJO7HeUelv",
        "outputId": "03a84076-fe4a-428e-86cb-37186c98411e",
        "colab": {
          "base_uri": "https://localhost:8080/"
        }
      },
      "execution_count": null,
      "outputs": [
        {
          "output_type": "stream",
          "name": "stdout",
          "text": [
            "[11, 12, 22, 25, 34, 64, 90]\n"
          ]
        }
      ]
    },
    {
      "cell_type": "code",
      "source": [
        "def fun(customlist):\n",
        "  for i in range(len(customlist)-1):\n",
        "    for j in range(len(customlist)-i-1):\n",
        "      if customlist[j]>customlist[j+1]:\n",
        "        customlist[j],customlist[j+1] = customlist[j+1],customlist[j]\n",
        "  return customlist"
      ],
      "metadata": {
        "id": "bGSGXSB3X2kQ"
      },
      "execution_count": null,
      "outputs": []
    },
    {
      "cell_type": "code",
      "source": [
        "fun(a)"
      ],
      "metadata": {
        "id": "Wgp1dUwrYQmT",
        "outputId": "930f5430-323d-4a4b-ba26-a73ea484aca4",
        "colab": {
          "base_uri": "https://localhost:8080/"
        }
      },
      "execution_count": null,
      "outputs": [
        {
          "output_type": "execute_result",
          "data": {
            "text/plain": [
              "[11, 12, 22, 25, 34, 64, 90]"
            ]
          },
          "metadata": {},
          "execution_count": 26
        }
      ]
    },
    {
      "cell_type": "code",
      "source": [
        "a = [64,64, 34, 25, 12, 22, 11, 90]"
      ],
      "metadata": {
        "id": "X2BkqFqnaTtN"
      },
      "execution_count": null,
      "outputs": []
    },
    {
      "cell_type": "code",
      "source": [
        "def selectionsort(a):\n",
        "  for i in range(len(a)-1):\n",
        "    min_element = min(a[i:])\n",
        "    min_index = a.index(min_element)\n",
        "    a[i],a[min_index] = a[min_index],a[i]\n",
        "  return a"
      ],
      "metadata": {
        "id": "srHAP9fJZRMC"
      },
      "execution_count": null,
      "outputs": []
    },
    {
      "cell_type": "code",
      "source": [
        "selectionsort(a)"
      ],
      "metadata": {
        "id": "9TiFVhL-Z-tV",
        "outputId": "6b87c44b-dcc3-4f37-bf44-fd9c0924a289",
        "colab": {
          "base_uri": "https://localhost:8080/"
        }
      },
      "execution_count": null,
      "outputs": [
        {
          "output_type": "execute_result",
          "data": {
            "text/plain": [
              "[11, 12, 22, 25, 34, 64, 64, 90]"
            ]
          },
          "metadata": {},
          "execution_count": 30
        }
      ]
    },
    {
      "cell_type": "code",
      "source": [
        "def InsertionSort(a):\n",
        "  for i in range(len(a)-1):\n",
        "    for j in range(i+1,0,-1):\n",
        "      if a[j]<a[j-1]:\n",
        "        a[j],a[j-1] = a[j-1],a[j]\n",
        "  return a\n"
      ],
      "metadata": {
        "id": "TMReRw2Ibrx8"
      },
      "execution_count": null,
      "outputs": []
    },
    {
      "cell_type": "code",
      "source": [
        "InsertionSort([64,64, 34, 25, 12, 22, 11, 90])"
      ],
      "metadata": {
        "id": "J_oIa37BfzTq",
        "outputId": "1ea8f40d-4827-4285-e716-e57387905e05",
        "colab": {
          "base_uri": "https://localhost:8080/"
        }
      },
      "execution_count": null,
      "outputs": [
        {
          "output_type": "execute_result",
          "data": {
            "text/plain": [
              "[11, 12, 22, 25, 34, 64, 64, 90]"
            ]
          },
          "metadata": {},
          "execution_count": 33
        }
      ]
    },
    {
      "cell_type": "code",
      "source": [
        "for i in range(3,0,-1):\n",
        "  print(i)"
      ],
      "metadata": {
        "id": "FRHpUppseXpK",
        "outputId": "6db28972-2102-4ecd-a912-d3c841ea6b30",
        "colab": {
          "base_uri": "https://localhost:8080/"
        }
      },
      "execution_count": null,
      "outputs": [
        {
          "output_type": "stream",
          "name": "stdout",
          "text": [
            "3\n",
            "2\n",
            "1\n"
          ]
        }
      ]
    },
    {
      "cell_type": "code",
      "source": [
        "def merge_sort(arr):\n",
        "    if len(arr) <= 1:  # Base case: if the list has one or no elements, it's already sorted\n",
        "        return arr\n",
        "\n",
        "    mid = len(arr) // 2  # Find the midpoint of the list\n",
        "    print(mid,arr)\n",
        "    left_half = merge_sort(arr[:mid])\n",
        "    print(left_half)            # Recursively sort the left half\n",
        "    right_half = merge_sort(arr[mid:])  # Recursively sort the right half\n",
        "    print(right_half)\n",
        "    return merge(left_half, right_half)  # Merge the sorted halves\n",
        "\n",
        "def merge(left, right):\n",
        "    sorted_list = []\n",
        "    i = j = 0\n",
        "\n",
        "    # Merge the two halves while maintaining order\n",
        "    while i < len(left) and j < len(right):\n",
        "        if left[i] < right[j]:\n",
        "            sorted_list.append(left[i])\n",
        "            i += 1\n",
        "        else:\n",
        "            sorted_list.append(right[j])\n",
        "            j += 1\n",
        "\n",
        "    # If there are remaining elements in the left half, add them\n",
        "    while i < len(left):\n",
        "        sorted_list.append(left[i])\n",
        "        i += 1\n",
        "\n",
        "    # If there are remaining elements in the right half, add them\n",
        "    while j < len(right):\n",
        "        sorted_list.append(right[j])\n",
        "        j += 1\n",
        "\n",
        "    return sorted_list\n",
        "\n",
        "# Example usage:\n",
        "arr = [38, 27, 43, 3, 9, 82, 10]\n",
        "sorted_arr = merge_sort(arr)\n",
        "print(\"Sorted array:\", sorted_arr)\n"
      ],
      "metadata": {
        "id": "M6FK87TZxUlz",
        "outputId": "f6cf0327-9035-4ef2-b155-e73eed6746be",
        "colab": {
          "base_uri": "https://localhost:8080/"
        }
      },
      "execution_count": null,
      "outputs": [
        {
          "output_type": "stream",
          "name": "stdout",
          "text": [
            "3 [38, 27, 43, 3, 9, 82, 10]\n",
            "1 [38, 27, 43]\n",
            "[38]\n",
            "1 [27, 43]\n",
            "[27]\n",
            "[43]\n",
            "[27, 43]\n",
            "[27, 38, 43]\n",
            "2 [3, 9, 82, 10]\n",
            "1 [3, 9]\n",
            "[3]\n",
            "[9]\n",
            "[3, 9]\n",
            "1 [82, 10]\n",
            "[82]\n",
            "[10]\n",
            "[10, 82]\n",
            "[3, 9, 10, 82]\n",
            "Sorted array: [3, 9, 10, 27, 38, 43, 82]\n"
          ]
        }
      ]
    }
  ],
  "metadata": {
    "colab": {
      "toc_visible": true,
      "provenance": [],
      "include_colab_link": true
    },
    "kernelspec": {
      "display_name": "Python 3",
      "name": "python3"
    }
  },
  "nbformat": 4,
  "nbformat_minor": 0
}