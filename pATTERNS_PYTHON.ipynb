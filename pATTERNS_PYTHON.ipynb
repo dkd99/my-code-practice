{
  "cells": [
    {
      "cell_type": "markdown",
      "metadata": {
        "id": "view-in-github",
        "colab_type": "text"
      },
      "source": [
        "<a href=\"https://colab.research.google.com/github/dkd99/my-code-practice/blob/main/pATTERNS_PYTHON.ipynb\" target=\"_parent\"><img src=\"https://colab.research.google.com/assets/colab-badge.svg\" alt=\"Open In Colab\"/></a>"
      ]
    },
    {
      "cell_type": "code",
      "source": [
        "a=[1,2,3,4,5]\n",
        "b=[]"
      ],
      "metadata": {
        "id": "ASNNG7k1hdql"
      },
      "execution_count": 4,
      "outputs": []
    },
    {
      "cell_type": "code",
      "source": [
        "b.append(a[2:4])\n",
        "\n"
      ],
      "metadata": {
        "id": "yLWvF_mEhlkt"
      },
      "execution_count": 5,
      "outputs": []
    },
    {
      "cell_type": "code",
      "source": [
        "b.append(a[2])"
      ],
      "metadata": {
        "id": "HQvrSKu9hzrY"
      },
      "execution_count": 7,
      "outputs": []
    },
    {
      "cell_type": "code",
      "source": [
        "b"
      ],
      "metadata": {
        "colab": {
          "base_uri": "https://localhost:8080/"
        },
        "id": "Eg2mFo00h5fL",
        "outputId": "8662a273-61e5-4f12-869b-16708ae8d96a"
      },
      "execution_count": 8,
      "outputs": [
        {
          "output_type": "execute_result",
          "data": {
            "text/plain": [
              "[[3, 4], 3]"
            ]
          },
          "metadata": {},
          "execution_count": 8
        }
      ]
    },
    {
      "cell_type": "code",
      "source": [
        "l=eval(input())\n",
        "x=[]\n",
        "i=0\n",
        "z=i\n",
        "while i<len(l)-2:\n",
        "  z=i\n",
        "  y=0\n",
        "  if l[i]==l[i+1]:\n",
        "      \n",
        "    while l[i]==l[i+1]:\n",
        "      \n",
        "      i=i+1\n",
        "      y=y+1\n",
        "      \n",
        "      \n",
        "      \n",
        "    x.append(l[z:z+y+1])\n",
        "    z=i\n",
        "  \n",
        "\n",
        "  else:\n",
        "    if l[i+1]==l[i+2]:\n",
        "      \n",
        "      i=i+1\n",
        "      z=i\n",
        "      pass\n",
        "    \n",
        "    else:\n",
        "      x.append([l[i+1]])\n",
        "      i=i+1\n",
        "      z=i\n",
        "\n",
        "x.append(l[len(l)-1])  \n",
        "print(x)"
      ],
      "metadata": {
        "colab": {
          "base_uri": "https://localhost:8080/"
        },
        "id": "y3DjLqJtiRX7",
        "outputId": "0a19b636-702c-49d5-e8d3-dbd8a81e23e2"
      },
      "execution_count": 48,
      "outputs": [
        {
          "output_type": "stream",
          "name": "stdout",
          "text": [
            "[0, 0, 1, 2, 3, 4, 4, 5, 6, 6, 6, 7, 8, 9]\n",
            "0\n",
            "5\n",
            "8\n",
            "8\n",
            "[[0, 0], [1], [2], [3], [4, 4], [5], [6, 6, 6], [7], [8], 9]\n"
          ]
        }
      ]
    },
    {
      "cell_type": "code",
      "source": [
        "l=eval(input())\n",
        "from itertools import groupby\n",
        "def pack_consecutive_duplicates(l_nums):\n",
        "    return [list(group) for key, group in groupby(l_nums)]\n",
        "  \n",
        "print(pack_consecutive_duplicates(l))"
      ],
      "metadata": {
        "colab": {
          "base_uri": "https://localhost:8080/"
        },
        "id": "XuLyDSa656va",
        "outputId": "9645fbc0-97bc-49f4-fb42-7dc6ebae2375"
      },
      "execution_count": 49,
      "outputs": [
        {
          "output_type": "stream",
          "name": "stdout",
          "text": [
            "[0, 0, 1, 2, 3, 4, 4, 5, 6, 6, 6, 7, 8, 9, 4, 4 ]\n",
            "[[0, 0], [1], [2], [3], [4, 4], [5], [6, 6, 6], [7], [8], [9], [4, 4]]\n"
          ]
        }
      ]
    },
    {
      "cell_type": "code",
      "source": [
        "l=[0, 0, 1, 2, 3, 4, 4, 5, 6, 6, 6, 7, 8, 9, 4, 4 ]\n",
        "result=[]\n",
        "for key, group in groupby(l):\n",
        "  result.append(list(group))\n",
        "  print(key)\n",
        "result"
      ],
      "metadata": {
        "colab": {
          "base_uri": "https://localhost:8080/"
        },
        "id": "3LEi0Uu06gMI",
        "outputId": "669750f2-d71e-4500-8a44-ef16e1f4bf5d"
      },
      "execution_count": 52,
      "outputs": [
        {
          "output_type": "stream",
          "name": "stdout",
          "text": [
            "0\n",
            "1\n",
            "2\n",
            "3\n",
            "4\n",
            "5\n",
            "6\n",
            "7\n",
            "8\n",
            "9\n",
            "4\n"
          ]
        },
        {
          "output_type": "execute_result",
          "data": {
            "text/plain": [
              "[[0, 0], [1], [2], [3], [4, 4], [5], [6, 6, 6], [7], [8], [9], [4, 4]]"
            ]
          },
          "metadata": {},
          "execution_count": 52
        }
      ]
    },
    {
      "cell_type": "code",
      "source": [
        "num=8\n",
        "for i in range(num):\n",
        "  print(('*').join([str(i) for i in range(1,num+1-i)]))"
      ],
      "metadata": {
        "colab": {
          "base_uri": "https://localhost:8080/"
        },
        "id": "f6u1Jclc7UNL",
        "outputId": "fd13491f-3ddc-4999-d06c-17a2c62feb0d"
      },
      "execution_count": 55,
      "outputs": [
        {
          "output_type": "stream",
          "name": "stdout",
          "text": [
            "1*2*3*4*5*6*7*8\n",
            "1*2*3*4*5*6*7\n",
            "1*2*3*4*5*6\n",
            "1*2*3*4*5\n",
            "1*2*3*4\n",
            "1*2*3\n",
            "1*2\n",
            "1\n"
          ]
        }
      ]
    },
    {
      "cell_type": "code",
      "source": [
        "for i in range(1,6):\n",
        "  \n",
        "  print('*'*i,end='')\n",
        "  print('')"
      ],
      "metadata": {
        "colab": {
          "base_uri": "https://localhost:8080/"
        },
        "id": "CgiCaPluA14b",
        "outputId": "a1d4dbda-1a3f-49ea-88fa-fe0cb900f244"
      },
      "execution_count": 60,
      "outputs": [
        {
          "output_type": "stream",
          "name": "stdout",
          "text": [
            "*\n",
            "**\n",
            "***\n",
            "****\n",
            "*****\n"
          ]
        }
      ]
    },
    {
      "cell_type": "code",
      "source": [
        "n=int(input())\n",
        "s=['0','1','2','3','4','5','6','7','8','9']\n",
        "for i in range(n):\n",
        "  if i==0:\n",
        "    print(1)\n",
        "  elif i==1:\n",
        "    print(11)\n",
        "  else:\n",
        "    print(s[i]+s[0]*(i-1)+s[i])"
      ],
      "metadata": {
        "id": "p1tpn3G1GM0t",
        "outputId": "dde2a8b3-a90d-4d27-c6b6-3695a3a7f5c6",
        "colab": {
          "base_uri": "https://localhost:8080/"
        }
      },
      "execution_count": 62,
      "outputs": [
        {
          "output_type": "stream",
          "name": "stdout",
          "text": [
            "8\n",
            "1\n",
            "11\n",
            "202\n",
            "3003\n",
            "40004\n",
            "500005\n",
            "6000006\n",
            "70000007\n"
          ]
        }
      ]
    },
    {
      "cell_type": "code",
      "source": [
        "n=int(input())\n",
        "s=['A','B','C','D','E','F','G','H','I','J','K','L','M','N','O','P','Q','R','S','T','U','V','W','X','Y','Z']\n",
        "i=0\n",
        "while i <n:\n",
        "  z=i\n",
        "  \n",
        "  for x in range(n):\n",
        "    \n",
        "    print(s[z],end='')\n",
        "    z=z+1\n",
        "  print('')\n",
        "  i=i+1"
      ],
      "metadata": {
        "id": "kciQjVTLGvft",
        "outputId": "62bbf82e-3cbb-4245-ee1a-93240dd86e16",
        "colab": {
          "base_uri": "https://localhost:8080/"
        }
      },
      "execution_count": 63,
      "outputs": [
        {
          "output_type": "stream",
          "name": "stdout",
          "text": [
            "5\n",
            "ABCDE\n",
            "BCDEF\n",
            "CDEFG\n",
            "DEFGH\n",
            "EFGHI\n"
          ]
        }
      ]
    },
    {
      "cell_type": "code",
      "source": [
        "n=int(input())\n",
        "for i in range(n):\n",
        "  print(str((n-i))*(n-i))"
      ],
      "metadata": {
        "id": "dqkow1eYG0H2",
        "outputId": "36ebbf5f-57bc-4491-ba52-76dfe17f1235",
        "colab": {
          "base_uri": "https://localhost:8080/"
        }
      },
      "execution_count": 70,
      "outputs": [
        {
          "output_type": "stream",
          "name": "stdout",
          "text": [
            "4\n",
            "4444\n",
            "333\n",
            "22\n",
            "1\n"
          ]
        }
      ]
    },
    {
      "cell_type": "code",
      "source": [
        "n=input()\n",
        "for i in range(7):\n",
        "  if i==0 or i ==int(n)-1:\n",
        "    print(n*int(n))\n",
        "  else:\n",
        "    print(n+' '*(int(n)-2)+n)\n"
      ],
      "metadata": {
        "id": "ZAbXeMLkIerN",
        "outputId": "57e7b288-22b6-4ae6-f0f5-14d52987df52",
        "colab": {
          "base_uri": "https://localhost:8080/"
        }
      },
      "execution_count": 77,
      "outputs": [
        {
          "output_type": "stream",
          "name": "stdout",
          "text": [
            "7\n",
            "7777777\n",
            "7     7\n",
            "7     7\n",
            "7     7\n",
            "7     7\n",
            "7     7\n",
            "7777777\n"
          ]
        }
      ]
    },
    {
      "cell_type": "code",
      "source": [
        "n=int(input())\n",
        "for i in range(1,n+1):\n",
        "  print(' '*(n-i),end='')\n",
        "  for x in range(i,0,-1):\n",
        "    print(str(x),end='')\n",
        "  print('')\n"
      ],
      "metadata": {
        "id": "UJIpJw4AKPe3",
        "outputId": "499c1f84-8ffb-45af-ee22-f5b21edd5a00",
        "colab": {
          "base_uri": "https://localhost:8080/"
        }
      },
      "execution_count": 86,
      "outputs": [
        {
          "output_type": "stream",
          "name": "stdout",
          "text": [
            "4\n",
            "   1\n",
            "  21\n",
            " 321\n",
            "4321\n"
          ]
        }
      ]
    },
    {
      "cell_type": "code",
      "source": [
        "n =int(input())\n",
        "for i in range(0,n):\n",
        "  print((n-i-1)*' '+'*'*(i+1))\n",
        "for i in range(int(n+1),2*n):\n",
        "  print(' '*(i-n)+'*'*(2*n-i))"
      ],
      "metadata": {
        "id": "f5fo301EMYSN",
        "outputId": "e469abb3-b930-4739-d4d7-2fd2c3d5aad7",
        "colab": {
          "base_uri": "https://localhost:8080/"
        }
      },
      "execution_count": 87,
      "outputs": [
        {
          "output_type": "stream",
          "name": "stdout",
          "text": [
            "5\n",
            "    *\n",
            "   **\n",
            "  ***\n",
            " ****\n",
            "*****\n",
            " ****\n",
            "  ***\n",
            "   **\n",
            "    *\n"
          ]
        }
      ]
    },
    {
      "cell_type": "code",
      "source": [
        "n=int(input())\n",
        "a=n\n",
        "z=''\n",
        "for i in range(1,n+1):\n",
        "  z=''\n",
        "  y=i\n",
        "  b=n-i+1\n",
        "  print(' '*(n-b),end='')\n",
        "  while b>0:\n",
        "    y=y.__str__()\n",
        "      \n",
        "    \n",
        "    print(y,end='')\n",
        "    z=z+y\n",
        "    y=int(y)\n",
        "    y=y+1\n",
        "    b=b-1\n",
        "  print('')\n",
        "\n",
        "for i in range(n+1,2*n):\n",
        "  y=n\n",
        "  c=i-n\n",
        "  d=2*n-i-1\n",
        "  print(' '*(d),end='')\n",
        "  y=y-c\n",
        "  while c>0:\n",
        "    \n",
        "    print(y.__str__(),end='')\n",
        "    y=int(y)\n",
        "    y=y+1\n",
        "    c=c-1\n",
        "  print(n.__str__(),end='')\n",
        "  print('')"
      ],
      "metadata": {
        "id": "f5VjwQ8sM7jT",
        "outputId": "cb09dc61-74ab-4c45-8ee3-1d63b32b7cb3",
        "colab": {
          "base_uri": "https://localhost:8080/"
        }
      },
      "execution_count": 88,
      "outputs": [
        {
          "output_type": "stream",
          "name": "stdout",
          "text": [
            "5\n",
            "12345\n",
            " 2345\n",
            "  345\n",
            "   45\n",
            "    5\n",
            "   45\n",
            "  345\n",
            " 2345\n",
            "12345\n"
          ]
        }
      ]
    },
    {
      "cell_type": "code",
      "source": [
        "n=int(input())\n",
        "for i in range(1,n+1):\n",
        "  print(' '*(i-1),end='')\n",
        "  for i in range(i,n+1):\n",
        "    \n",
        "    print(str(i),end='')\n",
        "  print('')\n",
        "for i in range(n-1,0,-1):\n",
        "  print(' '*(i-1),end='')\n",
        "  for i in range(i,n+1):\n",
        "    print(str(i),end='')\n",
        "  print('')"
      ],
      "metadata": {
        "id": "MGOe4g3-L17A",
        "outputId": "e16ad2b4-1dc2-48c9-80c0-d84e9d500e32",
        "colab": {
          "base_uri": "https://localhost:8080/"
        }
      },
      "execution_count": 99,
      "outputs": [
        {
          "output_type": "stream",
          "name": "stdout",
          "text": [
            "5\n",
            "12345\n",
            " 2345\n",
            "  345\n",
            "   45\n",
            "    5\n",
            "   45\n",
            "  345\n",
            " 2345\n",
            "12345\n"
          ]
        }
      ]
    },
    {
      "cell_type": "code",
      "source": [
        "n = int(input())\n",
        "x=1\n",
        "for i in range(n):\n",
        "  a=n\n",
        "  \n",
        "  if x==1:\n",
        "    \n",
        "    x=str(x)\n",
        "    print(x*(n-i))\n",
        "    x=int(x)\n",
        "    x=x-1\n",
        "  else:\n",
        "    x=str(x)\n",
        "    print(x*(n-i-1))\n",
        "    x=int(x)\n",
        "    x=x+1"
      ],
      "metadata": {
        "id": "UdUrDx1ISBfq",
        "outputId": "fbe5a3a7-5fde-4411-a05d-11063ebd0e09",
        "colab": {
          "base_uri": "https://localhost:8080/"
        }
      },
      "execution_count": 100,
      "outputs": [
        {
          "output_type": "stream",
          "name": "stdout",
          "text": [
            "5\n",
            "11111\n",
            "000\n",
            "111\n",
            "0\n",
            "1\n"
          ]
        }
      ]
    }
  ],
  "metadata": {
    "colab": {
      "name": "Welcome To Colaboratory",
      "toc_visible": true,
      "provenance": [],
      "include_colab_link": true
    },
    "kernelspec": {
      "display_name": "Python 3",
      "name": "python3"
    }
  },
  "nbformat": 4,
  "nbformat_minor": 0
}